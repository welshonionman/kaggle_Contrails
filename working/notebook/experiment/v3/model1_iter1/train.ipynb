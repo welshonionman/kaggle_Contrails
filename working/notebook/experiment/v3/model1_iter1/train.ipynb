{
 "cells": [
  {
   "cell_type": "code",
   "execution_count": 1,
   "metadata": {
    "execution": {
     "iopub.execute_input": "2023-06-29T21:01:33.544963Z",
     "iopub.status.busy": "2023-06-29T21:01:33.544701Z",
     "iopub.status.idle": "2023-06-29T21:01:36.630775Z",
     "shell.execute_reply": "2023-06-29T21:01:36.630234Z"
    }
   },
   "outputs": [],
   "source": [
    "import gc\n",
    "import os\n",
    "import sys\n",
    "import warnings\n",
    "from glob import glob\n",
    "import matplotlib.pyplot as plt\n",
    "\n",
    "from sklearn.model_selection import KFold\n",
    "import albumentations as A\n",
    "from albumentations.pytorch import ToTensorV2\n",
    "import pandas as pd\n",
    "import cv2\n",
    "import torch\n",
    "import torch.nn as nn\n",
    "import torch.nn.functional as F\n",
    "from torch.utils.data import DataLoader\n",
    "import segmentation_models_pytorch as smp\n",
    "from torch.cuda import amp\n",
    "from tqdm import tqdm"
   ]
  },
  {
   "cell_type": "code",
   "execution_count": 2,
   "metadata": {
    "execution": {
     "iopub.execute_input": "2023-06-29T21:01:36.632719Z",
     "iopub.status.busy": "2023-06-29T21:01:36.632512Z",
     "iopub.status.idle": "2023-06-29T21:01:36.685343Z",
     "shell.execute_reply": "2023-06-29T21:01:36.684764Z"
    }
   },
   "outputs": [],
   "source": [
    "sys.path.append('../')\n",
    "from script.metrics import *\n",
    "from script.dataset import *\n",
    "from script.helper import *\n",
    "from script.scheduler import *\n",
    "from script.model import *\n",
    "from script.loss import *"
   ]
  },
  {
   "attachments": {},
   "cell_type": "markdown",
   "metadata": {},
   "source": [
    "# Config"
   ]
  },
  {
   "cell_type": "code",
   "execution_count": 10,
   "metadata": {
    "execution": {
     "iopub.execute_input": "2023-06-29T21:01:36.687322Z",
     "iopub.status.busy": "2023-06-29T21:01:36.687064Z",
     "iopub.status.idle": "2023-06-29T21:01:36.709579Z",
     "shell.execute_reply": "2023-06-29T21:01:36.709126Z"
    }
   },
   "outputs": [],
   "source": [
    "class CFG:\n",
    "    debug = False\n",
    "    # ============== comp exp name =============\n",
    "    comp_name = 'contrail'\n",
    "    comp_dir_path = '/kaggle/input/'\n",
    "    comp_folder_name = 'google-research-identify-contrails-reduce-global-warming'\n",
    "\n",
    "    dataset_path = \"/kaggle/working/dataset_train/pseud_ashcolor_4label\"\n",
    "    train_label_path = f\"{dataset_path}/labels/model1_iter_0/\"\n",
    "    new_label_path = f\"{dataset_path}/labels/model1_iter_1/\"\n",
    "    train_model_path = [\"/kaggle/working/notebook/experiment/v2/model22/model22/model22.pth\",\n",
    "                        \"/kaggle/working/notebook/experiment/v2/model22/model22/model22.pth\",]\n",
    "    exp_name = os.getcwd().split('/')[-1]\n",
    "    exp_description = \"pseudo_ashcolor_4label_iter1\"\n",
    "\n",
    "    # ============== model cfg =============\n",
    "    model_arch = 'Unet'\n",
    "    backbone = 'timm-resnest200e'\n",
    "    in_chans = 3\n",
    "    target_size = 4\n",
    "    fold = 2\n",
    "\n",
    "    # ============== training cfg =============\n",
    "    train_batch_size = 32\n",
    "    valid_batch_size = train_batch_size\n",
    "\n",
    "    epochs = 50\n",
    "    if debug:\n",
    "        epochs = 20\n",
    "\n",
    "    lr = 1e-4\n",
    "    loss = \"DiceLoss\"\n",
    "    smooth = 300\n",
    "\n",
    "    # ============== fixed =============\n",
    "    num_workers = 4\n",
    "    seed = 42\n",
    "\n",
    "    # ============== augmentation =============\n",
    "    train_aug_list = [\n",
    "        A.RandomRotate90(),\n",
    "        A.RandomBrightnessContrast(),\n",
    "        A.ShiftScaleRotate(p=0.5, rotate_limit=(10, 10)),\n",
    "        A.GridDistortion(num_steps=5, distort_limit=0.3, p=0.5),\n",
    "        A.CoarseDropout(max_holes=10, max_width=int(256 * 0.05), max_height=int(256 * 0.05),\n",
    "                        mask_fill_value=0, p=0.5),\n",
    "        A.RandomGridShuffle(),\n",
    "        ToTensorV2(transpose_mask=True),\n",
    "    ]\n",
    "\n",
    "    valid_aug_list = [\n",
    "        ToTensorV2(transpose_mask=True),\n",
    "    ]\n",
    "\n",
    "\n",
    "warnings.filterwarnings(\"ignore\")\n",
    "torch.backends.cudnn.benchmark = True\n",
    "set_seed(CFG.seed)\n",
    "os.makedirs(f'./{CFG.exp_name}/', exist_ok=True)\n",
    "pd.set_option('display.max_rows', 500)\n",
    "pd.options.display.max_colwidth = 300"
   ]
  },
  {
   "attachments": {},
   "cell_type": "markdown",
   "metadata": {},
   "source": [
    "# Dataset"
   ]
  },
  {
   "cell_type": "code",
   "execution_count": 5,
   "metadata": {
    "execution": {
     "iopub.execute_input": "2023-06-29T21:01:36.711422Z",
     "iopub.status.busy": "2023-06-29T21:01:36.711198Z",
     "iopub.status.idle": "2023-06-29T21:01:36.745147Z",
     "shell.execute_reply": "2023-06-29T21:01:36.744651Z"
    }
   },
   "outputs": [
    {
     "data": {
      "text/html": [
       "<div>\n",
       "<style scoped>\n",
       "    .dataframe tbody tr th:only-of-type {\n",
       "        vertical-align: middle;\n",
       "    }\n",
       "\n",
       "    .dataframe tbody tr th {\n",
       "        vertical-align: top;\n",
       "    }\n",
       "\n",
       "    .dataframe thead th {\n",
       "        text-align: right;\n",
       "    }\n",
       "</style>\n",
       "<table border=\"1\" class=\"dataframe\">\n",
       "  <thead>\n",
       "    <tr style=\"text-align: right;\">\n",
       "      <th></th>\n",
       "      <th>record_id</th>\n",
       "      <th>image_path</th>\n",
       "      <th>time</th>\n",
       "      <th>label_path</th>\n",
       "      <th>fold</th>\n",
       "    </tr>\n",
       "  </thead>\n",
       "  <tbody>\n",
       "    <tr>\n",
       "      <th>0</th>\n",
       "      <td>195731008142151</td>\n",
       "      <td>/kaggle/working/dataset_train/pseud_ashcolor_4label/images/195731008142151_0.npy</td>\n",
       "      <td>0</td>\n",
       "      <td>/kaggle/working/dataset_train/pseud_ashcolor_4label/labels/iter_0/195731008142151_0.npy</td>\n",
       "      <td>0</td>\n",
       "    </tr>\n",
       "    <tr>\n",
       "      <th>1</th>\n",
       "      <td>195731008142151</td>\n",
       "      <td>/kaggle/working/dataset_train/pseud_ashcolor_4label/images/195731008142151_1.npy</td>\n",
       "      <td>1</td>\n",
       "      <td>/kaggle/working/dataset_train/pseud_ashcolor_4label/labels/iter_0/195731008142151_1.npy</td>\n",
       "      <td>1</td>\n",
       "    </tr>\n",
       "    <tr>\n",
       "      <th>2</th>\n",
       "      <td>195731008142151</td>\n",
       "      <td>/kaggle/working/dataset_train/pseud_ashcolor_4label/images/195731008142151_2.npy</td>\n",
       "      <td>2</td>\n",
       "      <td>/kaggle/working/dataset_train/pseud_ashcolor_4label/labels/iter_0/195731008142151_2.npy</td>\n",
       "      <td>1</td>\n",
       "    </tr>\n",
       "    <tr>\n",
       "      <th>3</th>\n",
       "      <td>195731008142151</td>\n",
       "      <td>/kaggle/working/dataset_train/pseud_ashcolor_4label/images/195731008142151_3.npy</td>\n",
       "      <td>3</td>\n",
       "      <td>/kaggle/working/dataset_train/pseud_ashcolor_4label/labels/iter_0/195731008142151_3.npy</td>\n",
       "      <td>0</td>\n",
       "    </tr>\n",
       "    <tr>\n",
       "      <th>4</th>\n",
       "      <td>195731008142151</td>\n",
       "      <td>/kaggle/working/dataset_train/pseud_ashcolor_4label/images/195731008142151_4.npy</td>\n",
       "      <td>4</td>\n",
       "      <td>/kaggle/working/dataset_train/pseud_ashcolor_4label/labels/true/195731008142151_4.npy</td>\n",
       "      <td>-1</td>\n",
       "    </tr>\n",
       "    <tr>\n",
       "      <th>5</th>\n",
       "      <td>195731008142151</td>\n",
       "      <td>/kaggle/working/dataset_train/pseud_ashcolor_4label/images/195731008142151_5.npy</td>\n",
       "      <td>5</td>\n",
       "      <td>/kaggle/working/dataset_train/pseud_ashcolor_4label/labels/iter_0/195731008142151_5.npy</td>\n",
       "      <td>1</td>\n",
       "    </tr>\n",
       "    <tr>\n",
       "      <th>6</th>\n",
       "      <td>195731008142151</td>\n",
       "      <td>/kaggle/working/dataset_train/pseud_ashcolor_4label/images/195731008142151_6.npy</td>\n",
       "      <td>6</td>\n",
       "      <td>/kaggle/working/dataset_train/pseud_ashcolor_4label/labels/iter_0/195731008142151_6.npy</td>\n",
       "      <td>0</td>\n",
       "    </tr>\n",
       "    <tr>\n",
       "      <th>7</th>\n",
       "      <td>195731008142151</td>\n",
       "      <td>/kaggle/working/dataset_train/pseud_ashcolor_4label/images/195731008142151_7.npy</td>\n",
       "      <td>7</td>\n",
       "      <td>/kaggle/working/dataset_train/pseud_ashcolor_4label/labels/iter_0/195731008142151_7.npy</td>\n",
       "      <td>1</td>\n",
       "    </tr>\n",
       "    <tr>\n",
       "      <th>8</th>\n",
       "      <td>1108741208571075</td>\n",
       "      <td>/kaggle/working/dataset_train/pseud_ashcolor_4label/images/1108741208571075_0.npy</td>\n",
       "      <td>0</td>\n",
       "      <td>/kaggle/working/dataset_train/pseud_ashcolor_4label/labels/iter_0/1108741208571075_0.npy</td>\n",
       "      <td>1</td>\n",
       "    </tr>\n",
       "    <tr>\n",
       "      <th>9</th>\n",
       "      <td>1108741208571075</td>\n",
       "      <td>/kaggle/working/dataset_train/pseud_ashcolor_4label/images/1108741208571075_1.npy</td>\n",
       "      <td>1</td>\n",
       "      <td>/kaggle/working/dataset_train/pseud_ashcolor_4label/labels/iter_0/1108741208571075_1.npy</td>\n",
       "      <td>0</td>\n",
       "    </tr>\n",
       "  </tbody>\n",
       "</table>\n",
       "</div>"
      ],
      "text/plain": [
       "          record_id  \\\n",
       "0   195731008142151   \n",
       "1   195731008142151   \n",
       "2   195731008142151   \n",
       "3   195731008142151   \n",
       "4   195731008142151   \n",
       "5   195731008142151   \n",
       "6   195731008142151   \n",
       "7   195731008142151   \n",
       "8  1108741208571075   \n",
       "9  1108741208571075   \n",
       "\n",
       "                                                                          image_path  \\\n",
       "0   /kaggle/working/dataset_train/pseud_ashcolor_4label/images/195731008142151_0.npy   \n",
       "1   /kaggle/working/dataset_train/pseud_ashcolor_4label/images/195731008142151_1.npy   \n",
       "2   /kaggle/working/dataset_train/pseud_ashcolor_4label/images/195731008142151_2.npy   \n",
       "3   /kaggle/working/dataset_train/pseud_ashcolor_4label/images/195731008142151_3.npy   \n",
       "4   /kaggle/working/dataset_train/pseud_ashcolor_4label/images/195731008142151_4.npy   \n",
       "5   /kaggle/working/dataset_train/pseud_ashcolor_4label/images/195731008142151_5.npy   \n",
       "6   /kaggle/working/dataset_train/pseud_ashcolor_4label/images/195731008142151_6.npy   \n",
       "7   /kaggle/working/dataset_train/pseud_ashcolor_4label/images/195731008142151_7.npy   \n",
       "8  /kaggle/working/dataset_train/pseud_ashcolor_4label/images/1108741208571075_0.npy   \n",
       "9  /kaggle/working/dataset_train/pseud_ashcolor_4label/images/1108741208571075_1.npy   \n",
       "\n",
       "   time  \\\n",
       "0     0   \n",
       "1     1   \n",
       "2     2   \n",
       "3     3   \n",
       "4     4   \n",
       "5     5   \n",
       "6     6   \n",
       "7     7   \n",
       "8     0   \n",
       "9     1   \n",
       "\n",
       "                                                                                 label_path  \\\n",
       "0   /kaggle/working/dataset_train/pseud_ashcolor_4label/labels/iter_0/195731008142151_0.npy   \n",
       "1   /kaggle/working/dataset_train/pseud_ashcolor_4label/labels/iter_0/195731008142151_1.npy   \n",
       "2   /kaggle/working/dataset_train/pseud_ashcolor_4label/labels/iter_0/195731008142151_2.npy   \n",
       "3   /kaggle/working/dataset_train/pseud_ashcolor_4label/labels/iter_0/195731008142151_3.npy   \n",
       "4     /kaggle/working/dataset_train/pseud_ashcolor_4label/labels/true/195731008142151_4.npy   \n",
       "5   /kaggle/working/dataset_train/pseud_ashcolor_4label/labels/iter_0/195731008142151_5.npy   \n",
       "6   /kaggle/working/dataset_train/pseud_ashcolor_4label/labels/iter_0/195731008142151_6.npy   \n",
       "7   /kaggle/working/dataset_train/pseud_ashcolor_4label/labels/iter_0/195731008142151_7.npy   \n",
       "8  /kaggle/working/dataset_train/pseud_ashcolor_4label/labels/iter_0/1108741208571075_0.npy   \n",
       "9  /kaggle/working/dataset_train/pseud_ashcolor_4label/labels/iter_0/1108741208571075_1.npy   \n",
       "\n",
       "  fold  \n",
       "0    0  \n",
       "1    1  \n",
       "2    1  \n",
       "3    0  \n",
       "4   -1  \n",
       "5    1  \n",
       "6    0  \n",
       "7    1  \n",
       "8    1  \n",
       "9    0  "
      ]
     },
     "execution_count": 5,
     "metadata": {},
     "output_type": "execute_result"
    }
   ],
   "source": [
    "train_df = pd.read_csv(f\"{CFG.dataset_path}/train_df.csv\")\n",
    "valid_df = pd.read_csv(f\"{CFG.dataset_path}/validation_df.csv\")\n",
    "valid_df = valid_df.dropna()\n",
    "\n",
    "train_df_true_label = train_df[~train_df[\"label_path\"].isnull()]\n",
    "train_df_pseud_label = train_df[train_df[\"label_path\"].isnull()]\n",
    "\n",
    "fill_path = CFG.train_label_path + train_df[\"record_id\"].astype(\"str\") + \"_\"+train_df[\"time\"].astype(\"str\")+\".npy\"\n",
    "train_df_pseud_label[\"label_path\"] = fill_path\n",
    "\n",
    "train_df_true_label.loc[:, \"fold\"] = -1\n",
    "\n",
    "kf = KFold(n_splits=CFG.fold, random_state=42, shuffle=True)\n",
    "train_df_pseud_label.loc[:, \"fold\"] = None\n",
    "for i, fold in enumerate(kf.split(train_df_pseud_label)):\n",
    "    train_df_pseud_label[\"fold\"].iloc[fold[1]] = i\n",
    "\n",
    "train_df = pd.concat([train_df_pseud_label, train_df_true_label], axis=0).sort_values(by=[\"record_id\", \"time\"]).reset_index(drop=True)\n",
    "\n",
    "if CFG.debug:\n",
    "    train_df=train_df[:200]\n",
    "    valid_df=valid_df[:200]\n",
    "train_df.shape, valid_df.shape\n",
    "train_df.head(10)"
   ]
  },
  {
   "cell_type": "code",
   "execution_count": 6,
   "metadata": {
    "execution": {
     "iopub.execute_input": "2023-06-29T21:01:36.763346Z",
     "iopub.status.busy": "2023-06-29T21:01:36.763046Z",
     "iopub.status.idle": "2023-06-29T21:01:36.838957Z",
     "shell.execute_reply": "2023-06-29T21:01:36.838355Z"
    }
   },
   "outputs": [
    {
     "ename": "FileNotFoundError",
     "evalue": "[Errno 2] No such file or directory: '/kaggle/working/dataset_train/pseud_ashcolor_4label/labels/iter_0/195731008142151_0.npy'",
     "output_type": "error",
     "traceback": [
      "\u001b[0;31m---------------------------------------------------------------------------\u001b[0m",
      "\u001b[0;31mFileNotFoundError\u001b[0m                         Traceback (most recent call last)",
      "Cell \u001b[0;32mIn[6], line 9\u001b[0m\n\u001b[1;32m      4\u001b[0m dataloader_train \u001b[39m=\u001b[39m DataLoader(dataset_train, batch_size\u001b[39m=\u001b[39mCFG\u001b[39m.\u001b[39mtrain_batch_size , shuffle\u001b[39m=\u001b[39m\u001b[39mTrue\u001b[39;00m, num_workers \u001b[39m=\u001b[39m CFG\u001b[39m.\u001b[39mnum_workers)\n\u001b[1;32m      5\u001b[0m dataloader_valid \u001b[39m=\u001b[39m DataLoader(dataset_valid, batch_size\u001b[39m=\u001b[39mCFG\u001b[39m.\u001b[39mvalid_batch_size, num_workers \u001b[39m=\u001b[39m CFG\u001b[39m.\u001b[39mnum_workers)\n\u001b[1;32m      7\u001b[0m \u001b[39mprint\u001b[39m(\u001b[39mf\u001b[39m\u001b[39m\"\"\"\u001b[39m\n\u001b[1;32m      8\u001b[0m \u001b[39m{\u001b[39;00m\u001b[39mlen\u001b[39m(dataset_train)\u001b[39m \u001b[39m\u001b[39m= }\u001b[39;00m\n\u001b[0;32m----> 9\u001b[0m \u001b[39mtrain_image_shape : \u001b[39m\u001b[39m{\u001b[39;00mdataset_train[\u001b[39m0\u001b[39;49m][\u001b[39m0\u001b[39m]\u001b[39m.\u001b[39mshape\u001b[39m}\u001b[39;00m\n\u001b[1;32m     10\u001b[0m \u001b[39mtrain_mask_shape  : \u001b[39m\u001b[39m{\u001b[39;00mdataset_train[\u001b[39m0\u001b[39m][\u001b[39m1\u001b[39m]\u001b[39m.\u001b[39mshape\u001b[39m}\u001b[39;00m\n\u001b[1;32m     11\u001b[0m \u001b[39mtrain_image_dtype : \u001b[39m\u001b[39m{\u001b[39;00mdataset_train[\u001b[39m0\u001b[39m][\u001b[39m0\u001b[39m]\u001b[39m.\u001b[39mdtype\u001b[39m}\u001b[39;00m\n\u001b[1;32m     12\u001b[0m \u001b[39mtrain_mask_dtype : \u001b[39m\u001b[39m{\u001b[39;00mdataset_train[\u001b[39m0\u001b[39m][\u001b[39m1\u001b[39m]\u001b[39m.\u001b[39mdtype\u001b[39m}\u001b[39;00m\n\u001b[1;32m     13\u001b[0m \n\u001b[1;32m     14\u001b[0m \u001b[39m{\u001b[39;00m\u001b[39mlen\u001b[39m(dataset_valid)\u001b[39m \u001b[39m\u001b[39m= }\u001b[39;00m\n\u001b[1;32m     15\u001b[0m \u001b[39mvalid_image_shape : \u001b[39m\u001b[39m{\u001b[39;00mdataset_valid[\u001b[39m0\u001b[39m][\u001b[39m0\u001b[39m]\u001b[39m.\u001b[39mshape\u001b[39m}\u001b[39;00m\n\u001b[1;32m     16\u001b[0m \u001b[39mvalid_mask_shape  : \u001b[39m\u001b[39m{\u001b[39;00mdataset_valid[\u001b[39m0\u001b[39m][\u001b[39m1\u001b[39m]\u001b[39m.\u001b[39mshape\u001b[39m}\u001b[39;00m\n\u001b[1;32m     17\u001b[0m \u001b[39mvalid_image_dtype : \u001b[39m\u001b[39m{\u001b[39;00mdataset_valid[\u001b[39m0\u001b[39m][\u001b[39m0\u001b[39m]\u001b[39m.\u001b[39mdtype\u001b[39m}\u001b[39;00m\n\u001b[1;32m     18\u001b[0m \u001b[39mvalid_mask_dtype : \u001b[39m\u001b[39m{\u001b[39;00mdataset_valid[\u001b[39m0\u001b[39m][\u001b[39m1\u001b[39m]\u001b[39m.\u001b[39mdtype\u001b[39m}\u001b[39;00m\n\u001b[1;32m     19\u001b[0m \u001b[39m\"\"\"\u001b[39m)\n\u001b[1;32m     21\u001b[0m show_dataset(\u001b[39m10\u001b[39m, dataset_train)\n",
      "File \u001b[0;32m/kaggle/working/notebook/experiment/v3/model1_iter1/../script/dataset.py:103\u001b[0m, in \u001b[0;36mContrailsDataset.__getitem__\u001b[0;34m(self, index)\u001b[0m\n\u001b[1;32m    101\u001b[0m label_path \u001b[39m=\u001b[39m row[\u001b[39m\"\u001b[39m\u001b[39mlabel_path\u001b[39m\u001b[39m\"\u001b[39m]\n\u001b[1;32m    102\u001b[0m image \u001b[39m=\u001b[39m fastnumpyio\u001b[39m.\u001b[39mload(\u001b[39mstr\u001b[39m(image_path))\u001b[39m.\u001b[39mastype(\u001b[39m\"\u001b[39m\u001b[39mfloat32\u001b[39m\u001b[39m\"\u001b[39m)\n\u001b[0;32m--> 103\u001b[0m label \u001b[39m=\u001b[39m fastnumpyio\u001b[39m.\u001b[39;49mload(\u001b[39mstr\u001b[39;49m(label_path))\u001b[39m.\u001b[39mastype(\u001b[39m\"\u001b[39m\u001b[39mfloat32\u001b[39m\u001b[39m\"\u001b[39m)\n\u001b[1;32m    104\u001b[0m data \u001b[39m=\u001b[39m \u001b[39mself\u001b[39m\u001b[39m.\u001b[39mtransform(image\u001b[39m=\u001b[39mimage, mask\u001b[39m=\u001b[39mlabel)\n\u001b[1;32m    105\u001b[0m image \u001b[39m=\u001b[39m data[\u001b[39m'\u001b[39m\u001b[39mimage\u001b[39m\u001b[39m'\u001b[39m]\n",
      "File \u001b[0;32m/kaggle/working/notebook/experiment/v3/model1_iter1/../script/dataset.py:11\u001b[0m, in \u001b[0;36mfastnumpyio.load\u001b[0;34m(file)\u001b[0m\n\u001b[1;32m     10\u001b[0m \u001b[39mdef\u001b[39;00m \u001b[39mload\u001b[39m(file):\n\u001b[0;32m---> 11\u001b[0m     file \u001b[39m=\u001b[39m \u001b[39mopen\u001b[39;49m(file, \u001b[39m\"\u001b[39;49m\u001b[39mrb\u001b[39;49m\u001b[39m\"\u001b[39;49m)\n\u001b[1;32m     12\u001b[0m     header \u001b[39m=\u001b[39m file\u001b[39m.\u001b[39mread(\u001b[39m128\u001b[39m)\n\u001b[1;32m     13\u001b[0m     descr \u001b[39m=\u001b[39m \u001b[39mstr\u001b[39m(header[\u001b[39m19\u001b[39m:\u001b[39m25\u001b[39m], \u001b[39m'\u001b[39m\u001b[39mutf-8\u001b[39m\u001b[39m'\u001b[39m)\u001b[39m.\u001b[39mreplace(\u001b[39m\"\u001b[39m\u001b[39m'\u001b[39m\u001b[39m\"\u001b[39m, \u001b[39m\"\u001b[39m\u001b[39m\"\u001b[39m)\u001b[39m.\u001b[39mreplace(\u001b[39m\"\u001b[39m\u001b[39m \u001b[39m\u001b[39m\"\u001b[39m, \u001b[39m\"\u001b[39m\u001b[39m\"\u001b[39m)\n",
      "\u001b[0;31mFileNotFoundError\u001b[0m: [Errno 2] No such file or directory: '/kaggle/working/dataset_train/pseud_ashcolor_4label/labels/iter_0/195731008142151_0.npy'"
     ]
    }
   ],
   "source": [
    "dataset_train = ContrailsDataset(train_df, CFG.train_aug_list, \"pseudo_train\")\n",
    "dataset_valid = ContrailsDataset(valid_df, CFG.valid_aug_list, \"pseudo_train\")\n",
    "\n",
    "dataloader_train = DataLoader(dataset_train, batch_size=CFG.train_batch_size , shuffle=True, num_workers = CFG.num_workers)\n",
    "dataloader_valid = DataLoader(dataset_valid, batch_size=CFG.valid_batch_size, num_workers = CFG.num_workers)\n",
    "\n",
    "print(f\"\"\"\n",
    "{len(dataset_train) = }\n",
    "train_image_shape : {dataset_train[0][0].shape}\n",
    "train_mask_shape  : {dataset_train[0][1].shape}\n",
    "train_image_dtype : {dataset_train[0][0].dtype}\n",
    "train_mask_dtype : {dataset_train[0][1].dtype}\n",
    "\n",
    "{len(dataset_valid) = }\n",
    "valid_image_shape : {dataset_valid[0][0].shape}\n",
    "valid_mask_shape  : {dataset_valid[0][1].shape}\n",
    "valid_image_dtype : {dataset_valid[0][0].dtype}\n",
    "valid_mask_dtype : {dataset_valid[0][1].dtype}\n",
    "\"\"\")\n",
    "\n",
    "show_dataset(10, dataset_train)"
   ]
  },
  {
   "attachments": {},
   "cell_type": "markdown",
   "metadata": {},
   "source": [
    "# Training"
   ]
  },
  {
   "cell_type": "code",
   "execution_count": 6,
   "metadata": {
    "execution": {
     "iopub.execute_input": "2023-06-29T21:01:39.522985Z",
     "iopub.status.busy": "2023-06-29T21:01:39.522780Z",
     "iopub.status.idle": "2023-06-30T02:55:50.073892Z",
     "shell.execute_reply": "2023-06-30T02:55:50.071001Z"
    }
   },
   "outputs": [
    {
     "name": "stdout",
     "output_type": "stream",
     "text": [
      "fold : 0\n",
      "\n"
     ]
    },
    {
     "name": "stdout",
     "output_type": "stream",
     "text": [
      "model_arch:  Unet\n",
      "backbone:  timm-resnest200e\n",
      "model_dice_score:  0.6675\n"
     ]
    },
    {
     "name": "stderr",
     "output_type": "stream",
     "text": [
      "Epoch 0/100  Mem : 15.1GB  LR : 1.00E-04  Loss: 0.2415: 100%|██████████| 2887/2887 [16:16<00:00,  2.96it/s]\n",
      "Val Loss: 0.0279: 100%|██████████| 58/58 [00:13<00:00,  4.40it/s]\n"
     ]
    },
    {
     "name": "stdout",
     "output_type": "stream",
     "text": [
      "score : 0.6635\tthresh : 0.41\tSAVED MODEL\n",
      "\n"
     ]
    },
    {
     "name": "stderr",
     "output_type": "stream",
     "text": [
      "Epoch 1/100  Mem : 15.1GB  LR : 1.00E-03  Loss: 0.2771: 100%|██████████| 2887/2887 [16:00<00:00,  3.01it/s]\n",
      "Val Loss: 0.0314: 100%|██████████| 58/58 [00:14<00:00,  4.10it/s]\n"
     ]
    },
    {
     "name": "stdout",
     "output_type": "stream",
     "text": [
      "score : 0.6456\tthresh : 0.99\n",
      "\n"
     ]
    },
    {
     "name": "stderr",
     "output_type": "stream",
     "text": [
      "Epoch 2/100  Mem : 15.1GB  LR : 1.00E-03  Loss: 0.2732: 100%|██████████| 2887/2887 [16:19<00:00,  2.95it/s]\n",
      "Val Loss: 0.0393: 100%|██████████| 58/58 [00:13<00:00,  4.21it/s]\n"
     ]
    },
    {
     "name": "stdout",
     "output_type": "stream",
     "text": [
      "score : 0.5377\tthresh : 0.25\n",
      "\n"
     ]
    },
    {
     "name": "stderr",
     "output_type": "stream",
     "text": [
      "Epoch 3/100  Mem : 15.1GB  LR : 1.00E-03  Loss: 0.2732: 100%|██████████| 2887/2887 [15:57<00:00,  3.01it/s]\n",
      "Val Loss: 0.0282: 100%|██████████| 58/58 [00:13<00:00,  4.23it/s]\n"
     ]
    },
    {
     "name": "stdout",
     "output_type": "stream",
     "text": [
      "score : 0.6476\tthresh : 0.01\n",
      "\n"
     ]
    },
    {
     "name": "stderr",
     "output_type": "stream",
     "text": [
      "Epoch 4/100  Mem : 15.1GB  LR : 1.00E-03  Loss: 0.2705: 100%|██████████| 2887/2887 [15:57<00:00,  3.02it/s]\n",
      "Val Loss: 0.0409: 100%|██████████| 58/58 [00:13<00:00,  4.36it/s]\n"
     ]
    },
    {
     "name": "stdout",
     "output_type": "stream",
     "text": [
      "score : 0.5287\tthresh : 0.81\n",
      "\n"
     ]
    },
    {
     "name": "stderr",
     "output_type": "stream",
     "text": [
      "Epoch 5/100  Mem : 15.1GB  LR : 1.00E-03  Loss: 0.2663: 100%|██████████| 2887/2887 [15:56<00:00,  3.02it/s]\n",
      "Val Loss: 0.0289: 100%|██████████| 58/58 [00:13<00:00,  4.37it/s]\n"
     ]
    },
    {
     "name": "stdout",
     "output_type": "stream",
     "text": [
      "score : 0.6505\tthresh : 0.47\n",
      "\n"
     ]
    },
    {
     "name": "stderr",
     "output_type": "stream",
     "text": [
      "Epoch 6/100  Mem : 15.1GB  LR : 1.00E-03  Loss: 0.2660: 100%|██████████| 2887/2887 [16:04<00:00,  2.99it/s]\n",
      "Val Loss: 0.0284: 100%|██████████| 58/58 [00:13<00:00,  4.40it/s]\n"
     ]
    },
    {
     "name": "stdout",
     "output_type": "stream",
     "text": [
      "score : 0.6518\tthresh : 0.13\n",
      "\n"
     ]
    },
    {
     "name": "stderr",
     "output_type": "stream",
     "text": [
      "Epoch 7/100  Mem : 15.1GB  LR : 1.00E-03  Loss: 0.2636: 100%|██████████| 2887/2887 [15:47<00:00,  3.05it/s]\n",
      "Val Loss: 0.0286: 100%|██████████| 58/58 [00:13<00:00,  4.40it/s]\n"
     ]
    },
    {
     "name": "stdout",
     "output_type": "stream",
     "text": [
      "score : 0.6515\tthresh : 0.01\n",
      "\n"
     ]
    },
    {
     "name": "stderr",
     "output_type": "stream",
     "text": [
      "Epoch 8/100  Mem : 15.1GB  LR : 1.00E-03  Loss: 0.2617: 100%|██████████| 2887/2887 [15:57<00:00,  3.01it/s]\n",
      "Val Loss: 0.0285: 100%|██████████| 58/58 [00:13<00:00,  4.40it/s]\n"
     ]
    },
    {
     "name": "stdout",
     "output_type": "stream",
     "text": [
      "score : 0.6526\tthresh : 0.15\n",
      "\n"
     ]
    },
    {
     "name": "stderr",
     "output_type": "stream",
     "text": [
      "Epoch 9/100  Mem : 15.1GB  LR : 1.00E-03  Loss: 0.2599: 100%|██████████| 2887/2887 [15:57<00:00,  3.01it/s]\n",
      "Val Loss: 0.0297: 100%|██████████| 58/58 [00:13<00:00,  4.36it/s]\n"
     ]
    },
    {
     "name": "stdout",
     "output_type": "stream",
     "text": [
      "score : 0.6534\tthresh : 0.99\n",
      "\n"
     ]
    },
    {
     "name": "stderr",
     "output_type": "stream",
     "text": [
      "Epoch 10/100  Mem : 15.1GB  LR : 1.00E-03  Loss: 0.2590: 100%|██████████| 2887/2887 [16:25<00:00,  2.93it/s]\n",
      "Val Loss: 0.0283: 100%|██████████| 58/58 [00:13<00:00,  4.23it/s]\n"
     ]
    },
    {
     "name": "stdout",
     "output_type": "stream",
     "text": [
      "score : 0.6560\tthresh : 0.17\n",
      "\n"
     ]
    },
    {
     "name": "stderr",
     "output_type": "stream",
     "text": [
      "Epoch 11/100  Mem : 15.1GB  LR : 1.00E-03  Loss: 0.2588: 100%|██████████| 2887/2887 [16:16<00:00,  2.96it/s]\n",
      "Val Loss: 0.0306: 100%|██████████| 58/58 [00:13<00:00,  4.18it/s]\n"
     ]
    },
    {
     "name": "stdout",
     "output_type": "stream",
     "text": [
      "score : 0.6526\tthresh : 0.99\n",
      "\n"
     ]
    },
    {
     "name": "stderr",
     "output_type": "stream",
     "text": [
      "Epoch 12/100  Mem : 15.1GB  LR : 1.00E-03  Loss: 0.2581: 100%|██████████| 2887/2887 [16:21<00:00,  2.94it/s]\n",
      "Val Loss: 0.0305: 100%|██████████| 58/58 [00:14<00:00,  4.11it/s]\n"
     ]
    },
    {
     "name": "stdout",
     "output_type": "stream",
     "text": [
      "score : 0.6461\tthresh : 0.99\n",
      "\n"
     ]
    },
    {
     "name": "stderr",
     "output_type": "stream",
     "text": [
      "Epoch 13/100  Mem : 15.1GB  LR : 1.00E-03  Loss: 0.2559: 100%|██████████| 2887/2887 [16:10<00:00,  2.98it/s]\n",
      "Val Loss: 0.0278: 100%|██████████| 58/58 [00:13<00:00,  4.29it/s]\n"
     ]
    },
    {
     "name": "stdout",
     "output_type": "stream",
     "text": [
      "score : 0.6476\tthresh : 0.01\n",
      "\n"
     ]
    },
    {
     "name": "stderr",
     "output_type": "stream",
     "text": [
      "Epoch 14/100  Mem : 15.1GB  LR : 1.00E-03  Loss: 0.2534: 100%|██████████| 2887/2887 [16:06<00:00,  2.99it/s]\n",
      "Val Loss: 0.0408: 100%|██████████| 58/58 [00:13<00:00,  4.29it/s]\n"
     ]
    },
    {
     "name": "stdout",
     "output_type": "stream",
     "text": [
      "score : 0.5561\tthresh : 0.99\n",
      "\n"
     ]
    },
    {
     "name": "stderr",
     "output_type": "stream",
     "text": [
      "Epoch 15/100  Mem : 15.1GB  LR : 1.00E-03  Loss: 0.2521: 100%|██████████| 2887/2887 [16:20<00:00,  2.94it/s]\n",
      "Val Loss: 0.0300: 100%|██████████| 58/58 [00:14<00:00,  4.12it/s]\n"
     ]
    },
    {
     "name": "stdout",
     "output_type": "stream",
     "text": [
      "score : 0.6571\tthresh : 0.99\n",
      "\n"
     ]
    },
    {
     "name": "stderr",
     "output_type": "stream",
     "text": [
      "Epoch 16/100  Mem : 15.1GB  LR : 1.00E-03  Loss: 0.2533: 100%|██████████| 2887/2887 [16:18<00:00,  2.95it/s]\n",
      "Val Loss: 0.0306: 100%|██████████| 58/58 [00:13<00:00,  4.31it/s]\n"
     ]
    },
    {
     "name": "stdout",
     "output_type": "stream",
     "text": [
      "score : 0.6248\tthresh : 0.99\n",
      "\n"
     ]
    },
    {
     "name": "stderr",
     "output_type": "stream",
     "text": [
      "Epoch 17/100  Mem : 15.1GB  LR : 1.00E-03  Loss: 0.2511: 100%|██████████| 2887/2887 [16:27<00:00,  2.92it/s]\n",
      "Val Loss: 0.0275: 100%|██████████| 58/58 [00:13<00:00,  4.25it/s]\n"
     ]
    },
    {
     "name": "stdout",
     "output_type": "stream",
     "text": [
      "score : 0.6585\tthresh : 0.01\n",
      "\n"
     ]
    },
    {
     "name": "stderr",
     "output_type": "stream",
     "text": [
      "Epoch 18/100  Mem : 15.1GB  LR : 1.00E-03  Loss: 0.2489: 100%|██████████| 2887/2887 [16:36<00:00,  2.90it/s]\n",
      "Val Loss: 0.0300: 100%|██████████| 58/58 [00:14<00:00,  4.11it/s]\n"
     ]
    },
    {
     "name": "stdout",
     "output_type": "stream",
     "text": [
      "score : 0.6551\tthresh : 0.99\n",
      "\n"
     ]
    },
    {
     "name": "stderr",
     "output_type": "stream",
     "text": [
      "Epoch 19/100  Mem : 15.1GB  LR : 1.00E-03  Loss: 0.2495: 100%|██████████| 2887/2887 [16:27<00:00,  2.92it/s]\n",
      "Val Loss: 0.0291: 100%|██████████| 58/58 [00:13<00:00,  4.27it/s]\n"
     ]
    },
    {
     "name": "stdout",
     "output_type": "stream",
     "text": [
      "score : 0.6558\tthresh : 0.91\n",
      "\n"
     ]
    },
    {
     "name": "stderr",
     "output_type": "stream",
     "text": [
      "Epoch 20/100  Mem : 15.1GB  LR : 1.00E-03  Loss: 0.2483: 100%|██████████| 2887/2887 [16:06<00:00,  2.99it/s]\n",
      "Val Loss: 0.0305: 100%|██████████| 58/58 [00:13<00:00,  4.33it/s]\n"
     ]
    },
    {
     "name": "stdout",
     "output_type": "stream",
     "text": [
      "score : 0.6329\tthresh : 0.95\n",
      "\n"
     ]
    },
    {
     "name": "stderr",
     "output_type": "stream",
     "text": [
      "Epoch 21/100  Mem : 15.1GB  LR : 1.00E-03  Loss: 0.2472: 100%|██████████| 2887/2887 [15:52<00:00,  3.03it/s]\n",
      "Val Loss: 0.0291: 100%|██████████| 58/58 [00:13<00:00,  4.32it/s]\n"
     ]
    },
    {
     "name": "stdout",
     "output_type": "stream",
     "text": [
      "score : 0.6594\tthresh : 0.97\n",
      "\n"
     ]
    },
    {
     "name": "stderr",
     "output_type": "stream",
     "text": [
      "Epoch 22/100  Mem : 15.1GB  LR : 1.00E-03  Loss: 0.2468: 100%|██████████| 2887/2887 [15:57<00:00,  3.02it/s]\n",
      "Val Loss: 0.0295: 100%|██████████| 58/58 [00:13<00:00,  4.31it/s]\n"
     ]
    },
    {
     "name": "stdout",
     "output_type": "stream",
     "text": [
      "score : 0.6589\tthresh : 0.99\n",
      "\n"
     ]
    },
    {
     "name": "stderr",
     "output_type": "stream",
     "text": [
      "Epoch 23/100  Mem : 15.1GB  LR : 1.00E-03  Loss: 0.2459: 100%|██████████| 2887/2887 [15:47<00:00,  3.05it/s]\n",
      "Val Loss: 0.0282: 100%|██████████| 58/58 [00:13<00:00,  4.33it/s]\n"
     ]
    },
    {
     "name": "stdout",
     "output_type": "stream",
     "text": [
      "score : 0.6529\tthresh : 0.01\n",
      "\n"
     ]
    },
    {
     "name": "stderr",
     "output_type": "stream",
     "text": [
      "Epoch 24/100  Mem : 15.1GB  LR : 1.00E-03  Loss: 0.2452: 100%|██████████| 2887/2887 [15:51<00:00,  3.04it/s]\n",
      "Val Loss: 0.0283: 100%|██████████| 58/58 [00:13<00:00,  4.31it/s]\n"
     ]
    },
    {
     "name": "stdout",
     "output_type": "stream",
     "text": [
      "score : 0.6583\tthresh : 0.01\n",
      "\n"
     ]
    },
    {
     "name": "stderr",
     "output_type": "stream",
     "text": [
      "Epoch 25/100  Mem : 15.1GB  LR : 1.00E-03  Loss: 0.2452: 100%|██████████| 2887/2887 [15:57<00:00,  3.02it/s]\n",
      "Val Loss: 0.0312: 100%|██████████| 58/58 [00:13<00:00,  4.30it/s]\n"
     ]
    },
    {
     "name": "stdout",
     "output_type": "stream",
     "text": [
      "score : 0.6365\tthresh : 0.99\n",
      "\n"
     ]
    },
    {
     "name": "stderr",
     "output_type": "stream",
     "text": [
      "Epoch 26/100  Mem : 15.1GB  LR : 1.00E-03  Loss: 0.2437: 100%|██████████| 2887/2887 [15:52<00:00,  3.03it/s]\n",
      "Val Loss: 0.0291: 100%|██████████| 58/58 [00:13<00:00,  4.31it/s]\n"
     ]
    },
    {
     "name": "stdout",
     "output_type": "stream",
     "text": [
      "score : 0.6643\tthresh : 0.99\tSAVED MODEL\n",
      "\n"
     ]
    },
    {
     "name": "stderr",
     "output_type": "stream",
     "text": [
      "Epoch 27/100  Mem : 15.1GB  LR : 1.00E-03  Loss: 0.2439: 100%|██████████| 2887/2887 [15:57<00:00,  3.02it/s]\n",
      "Val Loss: 0.0444: 100%|██████████| 58/58 [00:13<00:00,  4.31it/s]\n"
     ]
    },
    {
     "name": "stdout",
     "output_type": "stream",
     "text": [
      "score : 0.5269\tthresh : 0.99\n",
      "\n"
     ]
    },
    {
     "name": "stderr",
     "output_type": "stream",
     "text": [
      "Epoch 28/100  Mem : 15.1GB  LR : 1.00E-03  Loss: 0.2435: 100%|██████████| 2887/2887 [15:52<00:00,  3.03it/s]\n",
      "Val Loss: 0.0299: 100%|██████████| 58/58 [00:13<00:00,  4.29it/s]\n"
     ]
    },
    {
     "name": "stdout",
     "output_type": "stream",
     "text": [
      "score : 0.6522\tthresh : 0.99\n",
      "\n"
     ]
    },
    {
     "name": "stderr",
     "output_type": "stream",
     "text": [
      "Epoch 29/100  Mem : 15.1GB  LR : 1.00E-03  Loss: 0.2419: 100%|██████████| 2887/2887 [15:56<00:00,  3.02it/s]\n",
      "Val Loss: 0.0282: 100%|██████████| 58/58 [00:13<00:00,  4.17it/s]\n"
     ]
    },
    {
     "name": "stdout",
     "output_type": "stream",
     "text": [
      "score : 0.6601\tthresh : 0.77\n",
      "\n"
     ]
    },
    {
     "name": "stderr",
     "output_type": "stream",
     "text": [
      "Epoch 30/100  Mem : 15.1GB  LR : 1.00E-03  Loss: 0.2425: 100%|██████████| 2887/2887 [15:59<00:00,  3.01it/s]\n",
      "Val Loss: 0.0598: 100%|██████████| 58/58 [00:13<00:00,  4.33it/s]\n"
     ]
    },
    {
     "name": "stdout",
     "output_type": "stream",
     "text": [
      "score : 0.4472\tthresh : 0.99\n",
      "\n"
     ]
    },
    {
     "name": "stderr",
     "output_type": "stream",
     "text": [
      "Epoch 31/100  Mem : 15.1GB  LR : 1.00E-03  Loss: 0.2393: 100%|██████████| 2887/2887 [15:51<00:00,  3.03it/s]\n",
      "Val Loss: 0.0292: 100%|██████████| 58/58 [00:13<00:00,  4.31it/s]\n"
     ]
    },
    {
     "name": "stdout",
     "output_type": "stream",
     "text": [
      "score : 0.6613\tthresh : 0.99\n",
      "\n"
     ]
    },
    {
     "name": "stderr",
     "output_type": "stream",
     "text": [
      "Epoch 32/100  Mem : 15.1GB  LR : 1.00E-03  Loss: 0.2413: 100%|██████████| 2887/2887 [15:52<00:00,  3.03it/s]\n",
      "Val Loss: 0.0280: 100%|██████████| 58/58 [00:13<00:00,  4.28it/s]\n"
     ]
    },
    {
     "name": "stdout",
     "output_type": "stream",
     "text": [
      "score : 0.6565\tthresh : 0.01\n",
      "\n"
     ]
    },
    {
     "name": "stderr",
     "output_type": "stream",
     "text": [
      "Epoch 33/100  Mem : 15.1GB  LR : 1.00E-03  Loss: 0.2391: 100%|██████████| 2887/2887 [15:53<00:00,  3.03it/s]\n",
      "Val Loss: 0.0276: 100%|██████████| 58/58 [00:13<00:00,  4.27it/s]\n"
     ]
    },
    {
     "name": "stdout",
     "output_type": "stream",
     "text": [
      "score : 0.6701\tthresh : 0.79\tSAVED MODEL\n",
      "\n"
     ]
    },
    {
     "name": "stderr",
     "output_type": "stream",
     "text": [
      "Epoch 34/100  Mem : 15.1GB  LR : 1.00E-03  Loss: 0.2400: 100%|██████████| 2887/2887 [15:53<00:00,  3.03it/s]\n",
      "Val Loss: 0.0284: 100%|██████████| 58/58 [00:13<00:00,  4.27it/s]\n"
     ]
    },
    {
     "name": "stdout",
     "output_type": "stream",
     "text": [
      "score : 0.6588\tthresh : 0.39\n",
      "\n"
     ]
    },
    {
     "name": "stderr",
     "output_type": "stream",
     "text": [
      "Epoch 35/100  Mem : 15.1GB  LR : 1.00E-03  Loss: 0.2392: 100%|██████████| 2887/2887 [15:56<00:00,  3.02it/s]\n",
      "Val Loss: 0.0288: 100%|██████████| 58/58 [00:13<00:00,  4.33it/s]\n"
     ]
    },
    {
     "name": "stdout",
     "output_type": "stream",
     "text": [
      "score : 0.6609\tthresh : 0.95\n",
      "\n"
     ]
    },
    {
     "name": "stderr",
     "output_type": "stream",
     "text": [
      "Epoch 36/100  Mem : 15.1GB  LR : 1.00E-03  Loss: 0.2353: 100%|██████████| 2887/2887 [15:54<00:00,  3.02it/s]\n",
      "Val Loss: 0.0286: 100%|██████████| 58/58 [00:13<00:00,  4.36it/s]\n"
     ]
    },
    {
     "name": "stdout",
     "output_type": "stream",
     "text": [
      "score : 0.6648\tthresh : 0.99\n",
      "\n"
     ]
    },
    {
     "name": "stderr",
     "output_type": "stream",
     "text": [
      "Epoch 37/100  Mem : 15.1GB  LR : 1.00E-03  Loss: 0.2378: 100%|██████████| 2887/2887 [15:52<00:00,  3.03it/s]\n",
      "Val Loss: 0.0284: 100%|██████████| 58/58 [00:13<00:00,  4.29it/s]\n"
     ]
    },
    {
     "name": "stdout",
     "output_type": "stream",
     "text": [
      "score : 0.6642\tthresh : 0.95\n",
      "\n"
     ]
    },
    {
     "name": "stderr",
     "output_type": "stream",
     "text": [
      "Epoch 38/100  Mem : 15.1GB  LR : 1.00E-03  Loss: 0.2358: 100%|██████████| 2887/2887 [15:54<00:00,  3.02it/s]\n",
      "Val Loss: 0.0276: 100%|██████████| 58/58 [00:13<00:00,  4.28it/s]\n"
     ]
    },
    {
     "name": "stdout",
     "output_type": "stream",
     "text": [
      "score : 0.6676\tthresh : 0.13\n",
      "\n"
     ]
    },
    {
     "name": "stderr",
     "output_type": "stream",
     "text": [
      "Epoch 39/100  Mem : 15.1GB  LR : 1.00E-03  Loss: 0.2349: 100%|██████████| 2887/2887 [15:56<00:00,  3.02it/s]\n",
      "Val Loss: 0.0291: 100%|██████████| 58/58 [00:13<00:00,  4.31it/s]\n"
     ]
    },
    {
     "name": "stdout",
     "output_type": "stream",
     "text": [
      "score : 0.6530\tthresh : 0.87\n",
      "\n"
     ]
    },
    {
     "name": "stderr",
     "output_type": "stream",
     "text": [
      "Epoch 40/100  Mem : 15.1GB  LR : 1.00E-03  Loss: 0.2349: 100%|██████████| 2887/2887 [15:49<00:00,  3.04it/s]\n",
      "Val Loss: 0.0282: 100%|██████████| 58/58 [00:13<00:00,  4.27it/s]\n"
     ]
    },
    {
     "name": "stdout",
     "output_type": "stream",
     "text": [
      "score : 0.6669\tthresh : 0.97\n",
      "\n"
     ]
    },
    {
     "name": "stderr",
     "output_type": "stream",
     "text": [
      "Epoch 41/100  Mem : 15.1GB  LR : 1.00E-03  Loss: 0.2337: 100%|██████████| 2887/2887 [15:56<00:00,  3.02it/s]\n",
      "Val Loss: 0.0282: 100%|██████████| 58/58 [00:13<00:00,  4.30it/s]\n"
     ]
    },
    {
     "name": "stdout",
     "output_type": "stream",
     "text": [
      "score : 0.6653\tthresh : 0.69\n",
      "\n"
     ]
    },
    {
     "name": "stderr",
     "output_type": "stream",
     "text": [
      "Epoch 42/100  Mem : 15.1GB  LR : 1.00E-03  Loss: 0.2340: 100%|██████████| 2887/2887 [15:54<00:00,  3.02it/s]\n",
      "Val Loss: 0.0283: 100%|██████████| 58/58 [00:13<00:00,  4.29it/s]\n"
     ]
    },
    {
     "name": "stdout",
     "output_type": "stream",
     "text": [
      "score : 0.6655\tthresh : 0.91\n",
      "\n"
     ]
    },
    {
     "name": "stderr",
     "output_type": "stream",
     "text": [
      "Epoch 43/100  Mem : 15.1GB  LR : 1.00E-03  Loss: 0.2332: 100%|██████████| 2887/2887 [15:56<00:00,  3.02it/s]\n",
      "Val Loss: 0.0276: 100%|██████████| 58/58 [00:13<00:00,  4.28it/s]\n"
     ]
    },
    {
     "name": "stdout",
     "output_type": "stream",
     "text": [
      "score : 0.6616\tthresh : 0.03\n",
      "\n"
     ]
    },
    {
     "name": "stderr",
     "output_type": "stream",
     "text": [
      "Epoch 44/100  Mem : 15.1GB  LR : 1.00E-03  Loss: 0.2322: 100%|██████████| 2887/2887 [15:52<00:00,  3.03it/s]\n",
      "Val Loss: 0.0282: 100%|██████████| 58/58 [00:13<00:00,  4.29it/s]\n"
     ]
    },
    {
     "name": "stdout",
     "output_type": "stream",
     "text": [
      "score : 0.6660\tthresh : 0.77\n",
      "\n"
     ]
    },
    {
     "name": "stderr",
     "output_type": "stream",
     "text": [
      "Epoch 45/100  Mem : 15.1GB  LR : 1.00E-03  Loss: 0.2316: 100%|██████████| 2887/2887 [15:55<00:00,  3.02it/s]\n",
      "Val Loss: 0.0273: 100%|██████████| 58/58 [00:13<00:00,  4.29it/s]\n"
     ]
    },
    {
     "name": "stdout",
     "output_type": "stream",
     "text": [
      "score : 0.6678\tthresh : 0.01\n",
      "\n"
     ]
    },
    {
     "name": "stderr",
     "output_type": "stream",
     "text": [
      "Epoch 46/100  Mem : 15.1GB  LR : 1.00E-03  Loss: 0.2298: 100%|██████████| 2887/2887 [15:57<00:00,  3.02it/s]\n",
      "Val Loss: 0.0280: 100%|██████████| 58/58 [00:13<00:00,  4.31it/s]\n"
     ]
    },
    {
     "name": "stdout",
     "output_type": "stream",
     "text": [
      "score : 0.6663\tthresh : 0.67\n",
      "\n"
     ]
    },
    {
     "name": "stderr",
     "output_type": "stream",
     "text": [
      "Epoch 47/100  Mem : 15.1GB  LR : 1.00E-03  Loss: 0.2303: 100%|██████████| 2887/2887 [16:05<00:00,  2.99it/s]\n",
      "Val Loss: 0.0283: 100%|██████████| 58/58 [00:13<00:00,  4.21it/s]\n"
     ]
    },
    {
     "name": "stdout",
     "output_type": "stream",
     "text": [
      "score : 0.6686\tthresh : 0.99\n",
      "\n"
     ]
    },
    {
     "name": "stderr",
     "output_type": "stream",
     "text": [
      "Epoch 48/100  Mem : 15.1GB  LR : 1.00E-03  Loss: 0.2298: 100%|██████████| 2887/2887 [16:33<00:00,  2.90it/s]\n",
      "Val Loss: 0.0280: 100%|██████████| 58/58 [00:14<00:00,  4.14it/s]\n"
     ]
    },
    {
     "name": "stdout",
     "output_type": "stream",
     "text": [
      "score : 0.6638\tthresh : 0.47\n",
      "\n"
     ]
    },
    {
     "name": "stderr",
     "output_type": "stream",
     "text": [
      "Epoch 49/100  Mem : 15.1GB  LR : 1.00E-03  Loss: 0.2280: 100%|██████████| 2887/2887 [16:17<00:00,  2.95it/s]\n",
      "Val Loss: 0.0290: 100%|██████████| 58/58 [00:13<00:00,  4.14it/s]\n"
     ]
    },
    {
     "name": "stdout",
     "output_type": "stream",
     "text": [
      "score : 0.6612\tthresh : 0.99\n",
      "\n"
     ]
    },
    {
     "name": "stderr",
     "output_type": "stream",
     "text": [
      "Epoch 50/100  Mem : 15.1GB  LR : 1.00E-03  Loss: 0.2283: 100%|██████████| 2887/2887 [16:20<00:00,  2.94it/s]\n",
      "Val Loss: 0.0269: 100%|██████████| 58/58 [00:14<00:00,  4.08it/s]\n"
     ]
    },
    {
     "name": "stdout",
     "output_type": "stream",
     "text": [
      "score : 0.6700\tthresh : 0.01\n",
      "\n"
     ]
    },
    {
     "name": "stderr",
     "output_type": "stream",
     "text": [
      "Epoch 51/100  Mem : 15.1GB  LR : 1.00E-03  Loss: 0.2279: 100%|██████████| 2887/2887 [16:29<00:00,  2.92it/s]\n",
      "Val Loss: 0.0286: 100%|██████████| 58/58 [00:13<00:00,  4.27it/s]\n"
     ]
    },
    {
     "name": "stdout",
     "output_type": "stream",
     "text": [
      "score : 0.6652\tthresh : 0.99\n",
      "\n"
     ]
    },
    {
     "name": "stderr",
     "output_type": "stream",
     "text": [
      "Epoch 52/100  Mem : 15.1GB  LR : 1.00E-03  Loss: 0.2268: 100%|██████████| 2887/2887 [16:17<00:00,  2.95it/s]\n",
      "Val Loss: 0.0286: 100%|██████████| 58/58 [00:13<00:00,  4.25it/s]\n"
     ]
    },
    {
     "name": "stdout",
     "output_type": "stream",
     "text": [
      "score : 0.6682\tthresh : 0.99\n",
      "\n"
     ]
    },
    {
     "name": "stderr",
     "output_type": "stream",
     "text": [
      "Epoch 53/100  Mem : 15.1GB  LR : 1.00E-03  Loss: 0.2276: 100%|██████████| 2887/2887 [16:27<00:00,  2.92it/s]\n",
      "Val Loss: 0.0268: 100%|██████████| 58/58 [00:13<00:00,  4.36it/s]\n"
     ]
    },
    {
     "name": "stdout",
     "output_type": "stream",
     "text": [
      "score : 0.6693\tthresh : 0.01\n",
      "\n"
     ]
    },
    {
     "name": "stderr",
     "output_type": "stream",
     "text": [
      "Epoch 54/100  Mem : 15.1GB  LR : 1.00E-03  Loss: 0.2248: 100%|██████████| 2887/2887 [16:07<00:00,  2.98it/s]\n",
      "Val Loss: 0.0287: 100%|██████████| 58/58 [00:13<00:00,  4.39it/s]\n"
     ]
    },
    {
     "name": "stdout",
     "output_type": "stream",
     "text": [
      "score : 0.6657\tthresh : 0.99\n",
      "\n"
     ]
    },
    {
     "name": "stderr",
     "output_type": "stream",
     "text": [
      "Epoch 55/100  Mem : 15.1GB  LR : 1.00E-03  Loss: 0.2246: 100%|██████████| 2887/2887 [16:06<00:00,  2.99it/s]\n",
      "Val Loss: 0.0288: 100%|██████████| 58/58 [00:13<00:00,  4.40it/s]\n"
     ]
    },
    {
     "name": "stdout",
     "output_type": "stream",
     "text": [
      "score : 0.6690\tthresh : 0.99\n",
      "\n"
     ]
    },
    {
     "name": "stderr",
     "output_type": "stream",
     "text": [
      "Epoch 56/100  Mem : 15.1GB  LR : 1.00E-03  Loss: 0.2239: 100%|██████████| 2887/2887 [16:04<00:00,  2.99it/s]\n",
      "Val Loss: 0.0272: 100%|██████████| 58/58 [00:13<00:00,  4.42it/s]\n"
     ]
    },
    {
     "name": "stdout",
     "output_type": "stream",
     "text": [
      "score : 0.6744\tthresh : 0.87\tSAVED MODEL\n",
      "\n"
     ]
    },
    {
     "name": "stderr",
     "output_type": "stream",
     "text": [
      "Epoch 57/100  Mem : 15.1GB  LR : 1.00E-03  Loss: 0.2238: 100%|██████████| 2887/2887 [16:12<00:00,  2.97it/s]\n",
      "Val Loss: 0.0272: 100%|██████████| 58/58 [00:13<00:00,  4.35it/s]\n"
     ]
    },
    {
     "name": "stdout",
     "output_type": "stream",
     "text": [
      "score : 0.6701\tthresh : 0.13\n",
      "\n"
     ]
    },
    {
     "name": "stderr",
     "output_type": "stream",
     "text": [
      "Epoch 58/100  Mem : 15.1GB  LR : 1.00E-03  Loss: 0.2230: 100%|██████████| 2887/2887 [16:09<00:00,  2.98it/s]\n",
      "Val Loss: 0.0283: 100%|██████████| 58/58 [00:13<00:00,  4.39it/s]\n"
     ]
    },
    {
     "name": "stdout",
     "output_type": "stream",
     "text": [
      "score : 0.6701\tthresh : 0.99\n",
      "\n"
     ]
    },
    {
     "name": "stderr",
     "output_type": "stream",
     "text": [
      "Epoch 59/100  Mem : 15.1GB  LR : 1.00E-03  Loss: 0.2220: 100%|██████████| 2887/2887 [16:02<00:00,  3.00it/s]\n",
      "Val Loss: 0.0273: 100%|██████████| 58/58 [00:13<00:00,  4.33it/s]\n"
     ]
    },
    {
     "name": "stdout",
     "output_type": "stream",
     "text": [
      "score : 0.6765\tthresh : 0.73\tSAVED MODEL\n",
      "\n"
     ]
    },
    {
     "name": "stderr",
     "output_type": "stream",
     "text": [
      "Epoch 60/100  Mem : 15.1GB  LR : 1.00E-03  Loss: 0.2210: 100%|██████████| 2887/2887 [16:03<00:00,  3.00it/s]\n",
      "Val Loss: 0.0276: 100%|██████████| 58/58 [00:13<00:00,  4.37it/s]\n"
     ]
    },
    {
     "name": "stdout",
     "output_type": "stream",
     "text": [
      "score : 0.6750\tthresh : 0.93\n",
      "\n"
     ]
    },
    {
     "name": "stderr",
     "output_type": "stream",
     "text": [
      "Epoch 61/100  Mem : 15.1GB  LR : 1.00E-03  Loss: 0.2203: 100%|██████████| 2887/2887 [16:02<00:00,  3.00it/s]\n",
      "Val Loss: 0.0272: 100%|██████████| 58/58 [00:13<00:00,  4.38it/s]\n"
     ]
    },
    {
     "name": "stdout",
     "output_type": "stream",
     "text": [
      "score : 0.6775\tthresh : 0.93\tSAVED MODEL\n",
      "\n"
     ]
    },
    {
     "name": "stderr",
     "output_type": "stream",
     "text": [
      "Epoch 62/100  Mem : 15.1GB  LR : 1.00E-03  Loss: 0.2202: 100%|██████████| 2887/2887 [16:08<00:00,  2.98it/s]\n",
      "Val Loss: 0.0274: 100%|██████████| 58/58 [00:13<00:00,  4.39it/s]\n"
     ]
    },
    {
     "name": "stdout",
     "output_type": "stream",
     "text": [
      "score : 0.6724\tthresh : 0.61\n",
      "\n"
     ]
    },
    {
     "name": "stderr",
     "output_type": "stream",
     "text": [
      "Epoch 63/100  Mem : 15.1GB  LR : 1.00E-03  Loss: 0.2188: 100%|██████████| 2887/2887 [16:03<00:00,  3.00it/s]\n",
      "Val Loss: 0.0275: 100%|██████████| 58/58 [00:13<00:00,  4.34it/s]\n"
     ]
    },
    {
     "name": "stdout",
     "output_type": "stream",
     "text": [
      "score : 0.6720\tthresh : 0.57\n",
      "\n"
     ]
    },
    {
     "name": "stderr",
     "output_type": "stream",
     "text": [
      "Epoch 64/100  Mem : 15.1GB  LR : 1.00E-03  Loss: 0.2178: 100%|██████████| 2887/2887 [16:00<00:00,  3.00it/s]\n",
      "Val Loss: 0.0286: 100%|██████████| 58/58 [00:13<00:00,  4.38it/s]\n"
     ]
    },
    {
     "name": "stdout",
     "output_type": "stream",
     "text": [
      "score : 0.6668\tthresh : 0.99\n",
      "\n"
     ]
    },
    {
     "name": "stderr",
     "output_type": "stream",
     "text": [
      "Epoch 65/100  Mem : 15.1GB  LR : 1.00E-03  Loss: 0.2179: 100%|██████████| 2887/2887 [16:06<00:00,  2.99it/s]\n",
      "Val Loss: 0.0288: 100%|██████████| 58/58 [00:13<00:00,  4.40it/s]\n"
     ]
    },
    {
     "name": "stdout",
     "output_type": "stream",
     "text": [
      "score : 0.6619\tthresh : 0.99\n",
      "\n"
     ]
    },
    {
     "name": "stderr",
     "output_type": "stream",
     "text": [
      "Epoch 66/100  Mem : 15.1GB  LR : 1.00E-03  Loss: 0.2165: 100%|██████████| 2887/2887 [16:05<00:00,  2.99it/s]\n",
      "Val Loss: 0.0282: 100%|██████████| 58/58 [00:13<00:00,  4.41it/s]\n"
     ]
    },
    {
     "name": "stdout",
     "output_type": "stream",
     "text": [
      "score : 0.6664\tthresh : 0.95\n",
      "\n"
     ]
    },
    {
     "name": "stderr",
     "output_type": "stream",
     "text": [
      "Epoch 67/100  Mem : 15.1GB  LR : 1.00E-03  Loss: 0.2173: 100%|██████████| 2887/2887 [16:00<00:00,  3.01it/s]\n",
      "Val Loss: 0.0310: 100%|██████████| 58/58 [00:13<00:00,  4.40it/s]\n"
     ]
    },
    {
     "name": "stdout",
     "output_type": "stream",
     "text": [
      "score : 0.6478\tthresh : 0.99\n",
      "\n"
     ]
    },
    {
     "name": "stderr",
     "output_type": "stream",
     "text": [
      "Epoch 68/100  Mem : 15.1GB  LR : 1.00E-03  Loss: 0.2151: 100%|██████████| 2887/2887 [16:06<00:00,  2.99it/s]\n",
      "Val Loss: 0.0282: 100%|██████████| 58/58 [00:13<00:00,  4.44it/s]\n"
     ]
    },
    {
     "name": "stdout",
     "output_type": "stream",
     "text": [
      "score : 0.6687\tthresh : 0.99\n",
      "\n"
     ]
    },
    {
     "name": "stderr",
     "output_type": "stream",
     "text": [
      "Epoch 69/100  Mem : 15.1GB  LR : 1.00E-03  Loss: 0.2152: 100%|██████████| 2887/2887 [16:01<00:00,  3.00it/s]\n",
      "Val Loss: 0.0271: 100%|██████████| 58/58 [00:13<00:00,  4.44it/s]\n"
     ]
    },
    {
     "name": "stdout",
     "output_type": "stream",
     "text": [
      "score : 0.6738\tthresh : 0.33\n",
      "\n"
     ]
    },
    {
     "name": "stderr",
     "output_type": "stream",
     "text": [
      "Epoch 70/100  Mem : 15.1GB  LR : 1.00E-03  Loss: 0.2142: 100%|██████████| 2887/2887 [16:02<00:00,  3.00it/s]\n",
      "Val Loss: 0.0270: 100%|██████████| 58/58 [00:12<00:00,  4.47it/s]\n"
     ]
    },
    {
     "name": "stdout",
     "output_type": "stream",
     "text": [
      "score : 0.6746\tthresh : 0.85\n",
      "\n"
     ]
    },
    {
     "name": "stderr",
     "output_type": "stream",
     "text": [
      "Epoch 71/100  Mem : 15.1GB  LR : 1.00E-03  Loss: 0.2135: 100%|██████████| 2887/2887 [16:11<00:00,  2.97it/s]\n",
      "Val Loss: 0.0267: 100%|██████████| 58/58 [00:13<00:00,  4.30it/s]\n"
     ]
    },
    {
     "name": "stdout",
     "output_type": "stream",
     "text": [
      "score : 0.6784\tthresh : 0.15\tSAVED MODEL\n",
      "\n"
     ]
    },
    {
     "name": "stderr",
     "output_type": "stream",
     "text": [
      "Epoch 72/100  Mem : 15.1GB  LR : 1.00E-03  Loss: 0.2136: 100%|██████████| 2887/2887 [16:15<00:00,  2.96it/s]\n",
      "Val Loss: 0.0269: 100%|██████████| 58/58 [00:13<00:00,  4.36it/s]\n"
     ]
    },
    {
     "name": "stdout",
     "output_type": "stream",
     "text": [
      "score : 0.6768\tthresh : 0.09\n",
      "\n"
     ]
    },
    {
     "name": "stderr",
     "output_type": "stream",
     "text": [
      "Epoch 73/100  Mem : 15.1GB  LR : 1.00E-03  Loss: 0.2130: 100%|██████████| 2887/2887 [16:12<00:00,  2.97it/s]\n",
      "Val Loss: 0.0267: 100%|██████████| 58/58 [00:13<00:00,  4.30it/s]\n"
     ]
    },
    {
     "name": "stdout",
     "output_type": "stream",
     "text": [
      "score : 0.6775\tthresh : 0.73\n",
      "\n"
     ]
    },
    {
     "name": "stderr",
     "output_type": "stream",
     "text": [
      "Epoch 74/100  Mem : 15.1GB  LR : 1.00E-03  Loss: 0.2128: 100%|██████████| 2887/2887 [16:08<00:00,  2.98it/s]\n",
      "Val Loss: 0.0265: 100%|██████████| 58/58 [00:13<00:00,  4.29it/s]\n"
     ]
    },
    {
     "name": "stdout",
     "output_type": "stream",
     "text": [
      "score : 0.6793\tthresh : 0.55\tSAVED MODEL\n",
      "\n"
     ]
    },
    {
     "name": "stderr",
     "output_type": "stream",
     "text": [
      "Epoch 75/100  Mem : 15.1GB  LR : 1.00E-03  Loss: 0.2113: 100%|██████████| 2887/2887 [16:01<00:00,  3.00it/s]\n",
      "Val Loss: 0.0277: 100%|██████████| 58/58 [00:13<00:00,  4.28it/s]\n"
     ]
    },
    {
     "name": "stdout",
     "output_type": "stream",
     "text": [
      "score : 0.6667\tthresh : 0.99\n",
      "\n"
     ]
    },
    {
     "name": "stderr",
     "output_type": "stream",
     "text": [
      "Epoch 76/100  Mem : 15.1GB  LR : 1.00E-03  Loss: 0.2110: 100%|██████████| 2887/2887 [16:43<00:00,  2.88it/s]\n",
      "Val Loss: 0.0270: 100%|██████████| 58/58 [00:13<00:00,  4.23it/s]\n"
     ]
    },
    {
     "name": "stdout",
     "output_type": "stream",
     "text": [
      "score : 0.6767\tthresh : 0.91\n",
      "\n"
     ]
    },
    {
     "name": "stderr",
     "output_type": "stream",
     "text": [
      "Epoch 77/100  Mem : 15.1GB  LR : 1.00E-03  Loss: 0.2109: 100%|██████████| 2887/2887 [15:57<00:00,  3.02it/s]\n",
      "Val Loss: 0.0268: 100%|██████████| 58/58 [00:13<00:00,  4.33it/s]\n"
     ]
    },
    {
     "name": "stdout",
     "output_type": "stream",
     "text": [
      "score : 0.6783\tthresh : 0.59\n",
      "\n"
     ]
    },
    {
     "name": "stderr",
     "output_type": "stream",
     "text": [
      "Epoch 78/100  Mem : 15.1GB  LR : 1.00E-03  Loss: 0.2099: 100%|██████████| 2887/2887 [15:58<00:00,  3.01it/s]\n",
      "Val Loss: 0.0263: 100%|██████████| 58/58 [00:13<00:00,  4.24it/s]\n"
     ]
    },
    {
     "name": "stdout",
     "output_type": "stream",
     "text": [
      "score : 0.6787\tthresh : 0.01\n",
      "\n"
     ]
    },
    {
     "name": "stderr",
     "output_type": "stream",
     "text": [
      "Epoch 79/100  Mem : 15.1GB  LR : 1.00E-03  Loss: 0.2091: 100%|██████████| 2887/2887 [16:02<00:00,  3.00it/s]\n",
      "Val Loss: 0.0275: 100%|██████████| 58/58 [00:13<00:00,  4.26it/s]\n"
     ]
    },
    {
     "name": "stdout",
     "output_type": "stream",
     "text": [
      "score : 0.6760\tthresh : 0.97\n",
      "\n"
     ]
    },
    {
     "name": "stderr",
     "output_type": "stream",
     "text": [
      "Epoch 80/100  Mem : 15.1GB  LR : 1.00E-03  Loss: 0.2087: 100%|██████████| 2887/2887 [15:59<00:00,  3.01it/s]\n",
      "Val Loss: 0.0283: 100%|██████████| 58/58 [00:13<00:00,  4.27it/s]\n"
     ]
    },
    {
     "name": "stdout",
     "output_type": "stream",
     "text": [
      "score : 0.6621\tthresh : 0.99\n",
      "\n"
     ]
    },
    {
     "name": "stderr",
     "output_type": "stream",
     "text": [
      "Epoch 81/100  Mem : 15.1GB  LR : 1.00E-03  Loss: 0.2086: 100%|██████████| 2887/2887 [15:59<00:00,  3.01it/s]\n",
      "Val Loss: 0.0288: 100%|██████████| 58/58 [00:13<00:00,  4.29it/s]\n"
     ]
    },
    {
     "name": "stdout",
     "output_type": "stream",
     "text": [
      "score : 0.6632\tthresh : 0.99\n",
      "\n"
     ]
    },
    {
     "name": "stderr",
     "output_type": "stream",
     "text": [
      "Epoch 82/100  Mem : 15.1GB  LR : 1.00E-03  Loss: 0.2081: 100%|██████████| 2887/2887 [15:58<00:00,  3.01it/s]\n",
      "Val Loss: 0.0266: 100%|██████████| 58/58 [00:13<00:00,  4.27it/s]\n"
     ]
    },
    {
     "name": "stdout",
     "output_type": "stream",
     "text": [
      "score : 0.6790\tthresh : 0.23\n",
      "\n"
     ]
    },
    {
     "name": "stderr",
     "output_type": "stream",
     "text": [
      "Epoch 83/100  Mem : 15.1GB  LR : 1.00E-03  Loss: 0.2075: 100%|██████████| 2887/2887 [15:57<00:00,  3.01it/s]\n",
      "Val Loss: 0.0267: 100%|██████████| 58/58 [00:13<00:00,  4.33it/s]\n"
     ]
    },
    {
     "name": "stdout",
     "output_type": "stream",
     "text": [
      "score : 0.6807\tthresh : 0.59\tSAVED MODEL\n",
      "\n"
     ]
    },
    {
     "name": "stderr",
     "output_type": "stream",
     "text": [
      "Epoch 84/100  Mem : 15.1GB  LR : 1.00E-03  Loss: 0.2069: 100%|██████████| 2887/2887 [15:58<00:00,  3.01it/s]\n",
      "Val Loss: 0.0269: 100%|██████████| 58/58 [00:13<00:00,  4.30it/s]\n"
     ]
    },
    {
     "name": "stdout",
     "output_type": "stream",
     "text": [
      "score : 0.6790\tthresh : 0.95\n",
      "\n"
     ]
    },
    {
     "name": "stderr",
     "output_type": "stream",
     "text": [
      "Epoch 85/100  Mem : 15.1GB  LR : 1.00E-03  Loss: 0.2069: 100%|██████████| 2887/2887 [15:57<00:00,  3.02it/s]\n",
      "Val Loss: 0.0266: 100%|██████████| 58/58 [00:13<00:00,  4.32it/s]\n"
     ]
    },
    {
     "name": "stdout",
     "output_type": "stream",
     "text": [
      "score : 0.6789\tthresh : 0.77\n",
      "\n"
     ]
    },
    {
     "name": "stderr",
     "output_type": "stream",
     "text": [
      "Epoch 86/100  Mem : 15.1GB  LR : 1.00E-03  Loss: 0.2057: 100%|██████████| 2887/2887 [15:54<00:00,  3.02it/s]\n",
      "Val Loss: 0.0265: 100%|██████████| 58/58 [00:13<00:00,  4.32it/s]\n"
     ]
    },
    {
     "name": "stdout",
     "output_type": "stream",
     "text": [
      "score : 0.6786\tthresh : 0.25\n",
      "\n"
     ]
    },
    {
     "name": "stderr",
     "output_type": "stream",
     "text": [
      "Epoch 87/100  Mem : 15.1GB  LR : 1.00E-03  Loss: 0.2064: 100%|██████████| 2887/2887 [15:52<00:00,  3.03it/s]\n",
      "Val Loss: 0.0267: 100%|██████████| 58/58 [00:13<00:00,  4.27it/s]\n"
     ]
    },
    {
     "name": "stdout",
     "output_type": "stream",
     "text": [
      "score : 0.6793\tthresh : 0.77\n",
      "\n"
     ]
    },
    {
     "name": "stderr",
     "output_type": "stream",
     "text": [
      "Epoch 88/100  Mem : 15.1GB  LR : 1.00E-03  Loss: 0.2057: 100%|██████████| 2887/2887 [16:02<00:00,  3.00it/s]\n",
      "Val Loss: 0.0264: 100%|██████████| 58/58 [00:13<00:00,  4.18it/s]\n"
     ]
    },
    {
     "name": "stdout",
     "output_type": "stream",
     "text": [
      "score : 0.6801\tthresh : 0.65\n",
      "\n"
     ]
    },
    {
     "name": "stderr",
     "output_type": "stream",
     "text": [
      "Epoch 89/100  Mem : 15.1GB  LR : 1.00E-03  Loss: 0.2055: 100%|██████████| 2887/2887 [16:25<00:00,  2.93it/s]\n",
      "Val Loss: 0.0267: 100%|██████████| 58/58 [00:13<00:00,  4.33it/s]\n"
     ]
    },
    {
     "name": "stdout",
     "output_type": "stream",
     "text": [
      "score : 0.6797\tthresh : 0.31\n",
      "\n"
     ]
    },
    {
     "name": "stderr",
     "output_type": "stream",
     "text": [
      "Epoch 90/100  Mem : 15.1GB  LR : 1.00E-03  Loss: 0.2051: 100%|██████████| 2887/2887 [16:04<00:00,  2.99it/s]\n",
      "Val Loss: 0.0265: 100%|██████████| 58/58 [00:13<00:00,  4.30it/s]\n"
     ]
    },
    {
     "name": "stdout",
     "output_type": "stream",
     "text": [
      "score : 0.6799\tthresh : 0.57\n",
      "\n"
     ]
    },
    {
     "name": "stderr",
     "output_type": "stream",
     "text": [
      "Epoch 91/100  Mem : 15.1GB  LR : 1.00E-03  Loss: 0.2056: 100%|██████████| 2887/2887 [16:08<00:00,  2.98it/s]\n",
      "Val Loss: 0.0266: 100%|██████████| 58/58 [00:13<00:00,  4.30it/s]\n"
     ]
    },
    {
     "name": "stdout",
     "output_type": "stream",
     "text": [
      "score : 0.6796\tthresh : 0.21\n",
      "\n"
     ]
    },
    {
     "name": "stderr",
     "output_type": "stream",
     "text": [
      "Epoch 92/100  Mem : 15.1GB  LR : 1.00E-03  Loss: 0.2048: 100%|██████████| 2887/2887 [16:08<00:00,  2.98it/s]\n",
      "Val Loss: 0.0265: 100%|██████████| 58/58 [00:13<00:00,  4.36it/s]\n"
     ]
    },
    {
     "name": "stdout",
     "output_type": "stream",
     "text": [
      "score : 0.6799\tthresh : 0.39\n",
      "\n"
     ]
    },
    {
     "name": "stderr",
     "output_type": "stream",
     "text": [
      "Epoch 93/100  Mem : 15.1GB  LR : 1.00E-03  Loss: 0.2046: 100%|██████████| 2887/2887 [16:08<00:00,  2.98it/s]\n",
      "Val Loss: 0.0266: 100%|██████████| 58/58 [00:13<00:00,  4.36it/s]\n"
     ]
    },
    {
     "name": "stdout",
     "output_type": "stream",
     "text": [
      "score : 0.6804\tthresh : 0.47\n",
      "\n"
     ]
    },
    {
     "name": "stderr",
     "output_type": "stream",
     "text": [
      "Epoch 94/100  Mem : 15.1GB  LR : 1.00E-03  Loss: 0.2047: 100%|██████████| 2887/2887 [16:05<00:00,  2.99it/s]\n",
      "Val Loss: 0.0266: 100%|██████████| 58/58 [00:13<00:00,  4.21it/s]\n"
     ]
    },
    {
     "name": "stdout",
     "output_type": "stream",
     "text": [
      "score : 0.6800\tthresh : 0.35\n",
      "\n"
     ]
    },
    {
     "name": "stderr",
     "output_type": "stream",
     "text": [
      "Epoch 95/100  Mem : 15.1GB  LR : 1.00E-03  Loss: 0.2050: 100%|██████████| 2887/2887 [16:07<00:00,  2.98it/s]\n",
      "Val Loss: 0.0266: 100%|██████████| 58/58 [00:13<00:00,  4.32it/s]\n"
     ]
    },
    {
     "name": "stdout",
     "output_type": "stream",
     "text": [
      "score : 0.6790\tthresh : 0.23\n",
      "\n"
     ]
    },
    {
     "name": "stderr",
     "output_type": "stream",
     "text": [
      "Epoch 96/100  Mem : 15.1GB  LR : 1.00E-03  Loss: 0.2041: 100%|██████████| 2887/2887 [16:06<00:00,  2.99it/s]\n",
      "Val Loss: 0.0266: 100%|██████████| 58/58 [00:13<00:00,  4.35it/s]\n"
     ]
    },
    {
     "name": "stdout",
     "output_type": "stream",
     "text": [
      "score : 0.6812\tthresh : 0.27\tSAVED MODEL\n",
      "\n"
     ]
    },
    {
     "name": "stderr",
     "output_type": "stream",
     "text": [
      "Epoch 97/100  Mem : 15.1GB  LR : 1.00E-03  Loss: 0.2031:  21%|██        | 593/2887 [03:21<12:57,  2.95it/s]\n"
     ]
    },
    {
     "ename": "KeyboardInterrupt",
     "evalue": "",
     "output_type": "error",
     "traceback": [
      "\u001b[0;31m---------------------------------------------------------------------------\u001b[0m",
      "\u001b[0;31mKeyboardInterrupt\u001b[0m                         Traceback (most recent call last)",
      "Cell \u001b[0;32mIn[6], line 35\u001b[0m\n\u001b[1;32m     33\u001b[0m preds \u001b[39m=\u001b[39m model(images)\n\u001b[1;32m     34\u001b[0m loss \u001b[39m=\u001b[39m criterion(preds, masks)\n\u001b[0;32m---> 35\u001b[0m scaler\u001b[39m.\u001b[39;49mscale(loss)\u001b[39m.\u001b[39;49mbackward()\n\u001b[1;32m     36\u001b[0m scaler\u001b[39m.\u001b[39mstep(optimizer)\n\u001b[1;32m     37\u001b[0m scaler\u001b[39m.\u001b[39mupdate()\n",
      "File \u001b[0;32m/usr/local/lib/python3.10/dist-packages/torch/_tensor.py:487\u001b[0m, in \u001b[0;36mTensor.backward\u001b[0;34m(self, gradient, retain_graph, create_graph, inputs)\u001b[0m\n\u001b[1;32m    477\u001b[0m \u001b[39mif\u001b[39;00m has_torch_function_unary(\u001b[39mself\u001b[39m):\n\u001b[1;32m    478\u001b[0m     \u001b[39mreturn\u001b[39;00m handle_torch_function(\n\u001b[1;32m    479\u001b[0m         Tensor\u001b[39m.\u001b[39mbackward,\n\u001b[1;32m    480\u001b[0m         (\u001b[39mself\u001b[39m,),\n\u001b[0;32m   (...)\u001b[0m\n\u001b[1;32m    485\u001b[0m         inputs\u001b[39m=\u001b[39minputs,\n\u001b[1;32m    486\u001b[0m     )\n\u001b[0;32m--> 487\u001b[0m torch\u001b[39m.\u001b[39;49mautograd\u001b[39m.\u001b[39;49mbackward(\n\u001b[1;32m    488\u001b[0m     \u001b[39mself\u001b[39;49m, gradient, retain_graph, create_graph, inputs\u001b[39m=\u001b[39;49minputs\n\u001b[1;32m    489\u001b[0m )\n",
      "File \u001b[0;32m/usr/local/lib/python3.10/dist-packages/torch/autograd/__init__.py:200\u001b[0m, in \u001b[0;36mbackward\u001b[0;34m(tensors, grad_tensors, retain_graph, create_graph, grad_variables, inputs)\u001b[0m\n\u001b[1;32m    195\u001b[0m     retain_graph \u001b[39m=\u001b[39m create_graph\n\u001b[1;32m    197\u001b[0m \u001b[39m# The reason we repeat same the comment below is that\u001b[39;00m\n\u001b[1;32m    198\u001b[0m \u001b[39m# some Python versions print out the first line of a multi-line function\u001b[39;00m\n\u001b[1;32m    199\u001b[0m \u001b[39m# calls in the traceback and some print out the last line\u001b[39;00m\n\u001b[0;32m--> 200\u001b[0m Variable\u001b[39m.\u001b[39;49m_execution_engine\u001b[39m.\u001b[39;49mrun_backward(  \u001b[39m# Calls into the C++ engine to run the backward pass\u001b[39;49;00m\n\u001b[1;32m    201\u001b[0m     tensors, grad_tensors_, retain_graph, create_graph, inputs,\n\u001b[1;32m    202\u001b[0m     allow_unreachable\u001b[39m=\u001b[39;49m\u001b[39mTrue\u001b[39;49;00m, accumulate_grad\u001b[39m=\u001b[39;49m\u001b[39mTrue\u001b[39;49;00m)\n",
      "\u001b[0;31mKeyboardInterrupt\u001b[0m: "
     ]
    }
   ],
   "source": [
    "if CFG.debug:\n",
    "    print(\"!!!Debug mode!!!\\n\")\n",
    "\n",
    "for fold in range(CFG.fold):\n",
    "    print(f\"fold : {fold}\\n\")\n",
    "    dataset_train = ContrailsDataset(train_df[train_df[\"fold\"] != fold], CFG.train_aug_list, \"pseudo_train\")\n",
    "    dataloader_train = DataLoader(dataset_train, batch_size=CFG.train_batch_size, shuffle=True, num_workers=CFG.num_workers)\n",
    "\n",
    "    model, dice_score, thresh = load_model(CFG.train_model_path[fold])\n",
    "    print(f\"model_dice_score:  {dice_score:.4f}\")\n",
    "    num_gpus = torch.cuda.device_count()\n",
    "    device_ids = list(range(num_gpus))\n",
    "    model = nn.DataParallel(model, device_ids=device_ids)\n",
    "\n",
    "    scaler = amp.GradScaler()\n",
    "    criterion = smp.losses.DiceLoss(mode=\"multilabel\", smooth=CFG.smooth)\n",
    "    optimizer = torch.optim.AdamW(model.parameters(), lr=CFG.lr)\n",
    "    scheduler = get_scheduler(CFG, optimizer)\n",
    "    thresholds_to_test = [round(x * 0.01, 2) for x in range(1, 101, 2)]\n",
    "\n",
    "    dice_score = 0\n",
    "    slacknotify=SlackNotify(f\"{CFG.exp_description} fold: {fold}\")\n",
    "    for epoch in range(CFG.epochs):\n",
    "        model.train()\n",
    "\n",
    "        pbar_train = enumerate(dataloader_train)\n",
    "        pbar_train = tqdm(pbar_train, total=len(dataloader_train), bar_format=\"{l_bar}{bar:10}{r_bar}{bar:-0b}\")\n",
    "        loss_train, loss_val = 0.0, 0.0\n",
    "        for i, (images, masks) in pbar_train:\n",
    "            images, masks = images.cuda(), masks.cuda()\n",
    "            optimizer.zero_grad()\n",
    "            with amp.autocast():\n",
    "                preds = model(images)\n",
    "                loss = criterion(preds, masks)\n",
    "                scaler.scale(loss).backward()\n",
    "                scaler.step(optimizer)\n",
    "                scaler.update()\n",
    "                loss_train += loss.detach().item()\n",
    "\n",
    "            lr = f\"LR : {scheduler.get_lr()[0]:.2E}\"\n",
    "            gpu_mem = f\"Mem : {torch.cuda.memory_reserved() / 1E9:.3g}GB\"\n",
    "            pbar_train.set_description((\"%10s  \" * 3 + \"%10s\") % (f\"Epoch {epoch}/{CFG.epochs}\", gpu_mem, lr,\n",
    "                                                                  f\"Loss: {loss_train / (i + 1):.4f}\"))\n",
    "\n",
    "        scheduler.step()\n",
    "        model.eval()\n",
    "\n",
    "        cum_pred = []\n",
    "        cum_true = []\n",
    "        pbar_val = enumerate(dataloader_valid)\n",
    "        pbar_val = tqdm(pbar_val, total=len(dataloader_valid), bar_format=\"{l_bar}{bar:10}{r_bar}{bar:-10b}\")\n",
    "        for i, (images, masks) in pbar_val:\n",
    "            images, masks = images.cuda(), masks.cuda()\n",
    "            with torch.no_grad():\n",
    "                preds = model(images)[:, 2]\n",
    "                loss_val += criterion(preds, masks).item()\n",
    "                preds = torch.sigmoid(preds)\n",
    "                cum_pred.append(preds.cpu().detach().numpy())\n",
    "                cum_true.append(masks.cpu().detach().numpy())\n",
    "\n",
    "            pbar_val.set_description((\"%10s\") % (f\"Val Loss: {loss_val / (i+1):.4f}\"))\n",
    "\n",
    "        cum_pred = torch.flatten(torch.from_numpy(np.concatenate(cum_pred, axis=0)))\n",
    "        cum_true = torch.flatten(torch.from_numpy(np.concatenate(cum_true, axis=0)))\n",
    "\n",
    "        dice_score_, thresh = calc_optim_thresh(cum_pred, cum_true, thresholds_to_test)\n",
    "\n",
    "        if dice_score_ > dice_score:\n",
    "            print(f\"score : {dice_score_:.4f}\\tthresh : {thresh}\\tSAVED MODEL\\n\")\n",
    "            slacknotify.send_reply(f\"epoch : {epoch}\\tscore : {dice_score_:.4f}\\tBEST\")\n",
    "            epoch_best = epoch\n",
    "            dice_score = dice_score_\n",
    "            torch.save({'model': model.module.state_dict(), 'dice_score': dice_score, 'thresh': thresh,\n",
    "                        \"model_arch\": CFG.model_arch, \"backbone\": CFG.backbone, \"in_chans\": CFG.in_chans, \"target_size\": CFG.target_size,},\n",
    "                       f'./{CFG.exp_name}/{CFG.exp_name}_fold{fold}.pth')\n",
    "        else:\n",
    "            print(f\"score : {dice_score_:.4f}\\tthresh : {thresh}\\n\")\n",
    "            slacknotify.send_reply(f\"epoch : {epoch}\\tscore : {dice_score_:.4f}\")\n",
    "\n",
    "    slacknotify.send_reply(f\" {CFG.exp_description} training finished\\tbest score : {dice_score}\", True)\n",
    "    break"
   ]
  },
  {
   "attachments": {},
   "cell_type": "markdown",
   "metadata": {},
   "source": [
    "# Pseudo Labelling"
   ]
  },
  {
   "cell_type": "code",
   "execution_count": 11,
   "metadata": {},
   "outputs": [],
   "source": [
    "def pseudo_inference(dataloader_label, model, thresh, save_dir):\n",
    "    os.makedirs(save_dir, exist_ok=True)\n",
    "    for i, (images, record_ids, times) in tqdm(enumerate(dataloader_label), total=len(dataloader_label)):\n",
    "        images = images.cuda()\n",
    "        with torch.no_grad():\n",
    "            preds = model(images)\n",
    "        preds = torch.sigmoid(preds).cpu().detach().numpy()\n",
    "        preds_thresh = np.where(preds > thresh, 1, 0)\n",
    "\n",
    "        for num in range(images.shape[0]):\n",
    "            pred = preds_thresh[num, :, :, :].transpose(1, 2, 0)\n",
    "            record_id = int(record_ids[num])\n",
    "            time = int(times[num])\n",
    "            save_path = f\"{save_dir}/{record_id}_{time}.npy\"\n",
    "            np.save(save_path, pred)"
   ]
  },
  {
   "cell_type": "code",
   "execution_count": 12,
   "metadata": {},
   "outputs": [
    {
     "name": "stdout",
     "output_type": "stream",
     "text": [
      "model_arch:  Unet\n",
      "backbone:  timm-resnest200e\n",
      "dice_score = 0.6812\n",
      "thresh = 0.27\n"
     ]
    },
    {
     "name": "stderr",
     "output_type": "stream",
     "text": [
      "100%|██████████| 2246/2246 [1:12:29<00:00,  1.94s/it]\n"
     ]
    },
    {
     "name": "stdout",
     "output_type": "stream",
     "text": [
      "model_arch:  Unet\n",
      "backbone:  timm-resnest200e\n",
      "dice_score = 0.6777\n",
      "thresh = 0.91\n"
     ]
    },
    {
     "name": "stderr",
     "output_type": "stream",
     "text": [
      "100%|██████████| 2246/2246 [1:21:07<00:00,  2.17s/it]\n"
     ]
    }
   ],
   "source": [
    "for fold in range(CFG.fold):\n",
    "    label_df = train_df[train_df[\"fold\"] == fold]\n",
    "\n",
    "    dataset_label = ContrailsDataset(label_df, CFG.valid_aug_list, \"pseudo_labeling\")\n",
    "    dataloader_label = DataLoader(dataset_label, batch_size=CFG.valid_batch_size, num_workers=CFG.num_workers)\n",
    "\n",
    "    model_path = sorted(glob(f\"./{CFG.exp_name}/*.pth\"))[fold]\n",
    "    model, dice_score, thresh = load_model(model_path)\n",
    "    model.eval()\n",
    "    print(f\"{dice_score = :.4f}\")\n",
    "    print(f\"{thresh = }\")\n",
    "\n",
    "    pseudo_inference(dataloader_label, model, thresh, CFG.new_label_path)"
   ]
  },
  {
   "cell_type": "code",
   "execution_count": 18,
   "metadata": {},
   "outputs": [
    {
     "data": {
      "image/png": "[encoded data removed]",
      "text/plain": [
       "<Figure size 2500x1000 with 7 Axes>"
      ]
     },
     "metadata": {},
     "output_type": "display_data"
    }
   ],
   "source": [
    "no = 16\n",
    "id = os.listdir(CFG.new_label_path)[no*7].split(\"_\")[0]\n",
    "fig, ax = plt.subplots(1, 7, figsize=(25, 10))\n",
    "for i, time in enumerate([0, 1, 2, 3, 5, 6, 7]):\n",
    "    npy = np.load(f\"{CFG.new_label_path}/{id}_{time}.npy\")\n",
    "    ax[i].imshow(npy)"
   ]
  },
  {
   "cell_type": "code",
   "execution_count": 25,
   "metadata": {},
   "outputs": [
    {
     "name": "stdout",
     "output_type": "stream",
     "text": [
      "model_arch:  Unet\n",
      "backbone:  timm-resnest200e\n",
      "dice_score = 0.6812\n",
      "thresh = 0.27\n"
     ]
    },
    {
     "name": "stderr",
     "output_type": "stream",
     "text": [
      " 77%|███████▋  | 494/642 [18:21<05:30,  2.23s/it]\n"
     ]
    },
    {
     "ename": "KeyboardInterrupt",
     "evalue": "",
     "output_type": "error",
     "traceback": [
      "\u001b[0;31m---------------------------------------------------------------------------\u001b[0m",
      "\u001b[0;31mKeyboardInterrupt\u001b[0m                         Traceback (most recent call last)",
      "Cell \u001b[0;32mIn[25], line 12\u001b[0m\n\u001b[1;32m      9\u001b[0m \u001b[39mprint\u001b[39m(\u001b[39mf\u001b[39m\u001b[39m\"\u001b[39m\u001b[39m{\u001b[39;00mdice_score\u001b[39m \u001b[39m\u001b[39m= :\u001b[39;00m\u001b[39m.4f\u001b[39m\u001b[39m}\u001b[39;00m\u001b[39m\"\u001b[39m)\n\u001b[1;32m     10\u001b[0m \u001b[39mprint\u001b[39m(\u001b[39mf\u001b[39m\u001b[39m\"\u001b[39m\u001b[39m{\u001b[39;00mthresh\u001b[39m \u001b[39m\u001b[39m= }\u001b[39;00m\u001b[39m\"\u001b[39m)\n\u001b[0;32m---> 12\u001b[0m pseudo_inference(dataloader_label, model, thresh, \u001b[39m\"\u001b[39;49m\u001b[39m/kaggle/working/dataset_train/pseud_ashcolor_4label/labels/valid\u001b[39;49m\u001b[39m\"\u001b[39;49m)\n",
      "Cell \u001b[0;32mIn[6], line 15\u001b[0m, in \u001b[0;36mpseudo_inference\u001b[0;34m(dataloader_label, model, thresh, save_dir)\u001b[0m\n\u001b[1;32m     13\u001b[0m time \u001b[39m=\u001b[39m \u001b[39mint\u001b[39m(times[num])\n\u001b[1;32m     14\u001b[0m save_path \u001b[39m=\u001b[39m \u001b[39mf\u001b[39m\u001b[39m\"\u001b[39m\u001b[39m{\u001b[39;00msave_dir\u001b[39m}\u001b[39;00m\u001b[39m/\u001b[39m\u001b[39m{\u001b[39;00mrecord_id\u001b[39m}\u001b[39;00m\u001b[39m_\u001b[39m\u001b[39m{\u001b[39;00mtime\u001b[39m}\u001b[39;00m\u001b[39m.npy\u001b[39m\u001b[39m\"\u001b[39m\n\u001b[0;32m---> 15\u001b[0m np\u001b[39m.\u001b[39;49msave(save_path, pred)\n",
      "File \u001b[0;32m/usr/local/lib/python3.10/dist-packages/numpy/lib/npyio.py:546\u001b[0m, in \u001b[0;36msave\u001b[0;34m(file, arr, allow_pickle, fix_imports)\u001b[0m\n\u001b[1;32m    544\u001b[0m \u001b[39mwith\u001b[39;00m file_ctx \u001b[39mas\u001b[39;00m fid:\n\u001b[1;32m    545\u001b[0m     arr \u001b[39m=\u001b[39m np\u001b[39m.\u001b[39masanyarray(arr)\n\u001b[0;32m--> 546\u001b[0m     \u001b[39mformat\u001b[39;49m\u001b[39m.\u001b[39;49mwrite_array(fid, arr, allow_pickle\u001b[39m=\u001b[39;49mallow_pickle,\n\u001b[1;32m    547\u001b[0m                        pickle_kwargs\u001b[39m=\u001b[39;49m\u001b[39mdict\u001b[39;49m(fix_imports\u001b[39m=\u001b[39;49mfix_imports))\n",
      "File \u001b[0;32m/usr/local/lib/python3.10/dist-packages/numpy/lib/format.py:730\u001b[0m, in \u001b[0;36mwrite_array\u001b[0;34m(fp, array, version, allow_pickle, pickle_kwargs)\u001b[0m\n\u001b[1;32m    728\u001b[0m \u001b[39melse\u001b[39;00m:\n\u001b[1;32m    729\u001b[0m     \u001b[39mif\u001b[39;00m isfileobj(fp):\n\u001b[0;32m--> 730\u001b[0m         array\u001b[39m.\u001b[39;49mtofile(fp)\n\u001b[1;32m    731\u001b[0m     \u001b[39melse\u001b[39;00m:\n\u001b[1;32m    732\u001b[0m         \u001b[39mfor\u001b[39;00m chunk \u001b[39min\u001b[39;00m numpy\u001b[39m.\u001b[39mnditer(\n\u001b[1;32m    733\u001b[0m                 array, flags\u001b[39m=\u001b[39m[\u001b[39m'\u001b[39m\u001b[39mexternal_loop\u001b[39m\u001b[39m'\u001b[39m, \u001b[39m'\u001b[39m\u001b[39mbuffered\u001b[39m\u001b[39m'\u001b[39m, \u001b[39m'\u001b[39m\u001b[39mzerosize_ok\u001b[39m\u001b[39m'\u001b[39m],\n\u001b[1;32m    734\u001b[0m                 buffersize\u001b[39m=\u001b[39mbuffersize, order\u001b[39m=\u001b[39m\u001b[39m'\u001b[39m\u001b[39mC\u001b[39m\u001b[39m'\u001b[39m):\n",
      "\u001b[0;31mKeyboardInterrupt\u001b[0m: "
     ]
    }
   ],
   "source": [
    "label_df = train_df[train_df[\"fold\"] == -1]\n",
    "\n",
    "dataset_label = ContrailsDataset(label_df, CFG.valid_aug_list, \"pseudo_labeling\")\n",
    "dataloader_label = DataLoader(dataset_label, batch_size=CFG.valid_batch_size, num_workers=CFG.num_workers)\n",
    "\n",
    "model_path = sorted(glob(f\"./{CFG.exp_name}/*.pth\"))[0]\n",
    "model, dice_score, thresh = load_model(model_path)\n",
    "model.eval()\n",
    "print(f\"{dice_score = :.4f}\")\n",
    "print(f\"{thresh = }\")\n",
    "\n",
    "pseudo_inference(dataloader_label, model, thresh, \"/kaggle/working/dataset_train/pseud_ashcolor_4label/labels/valid\")"
   ]
  },
  {
   "cell_type": "code",
   "execution_count": null,
   "metadata": {},
   "outputs": [],
   "source": []
  },
  {
   "cell_type": "code",
   "execution_count": null,
   "metadata": {},
   "outputs": [],
   "source": []
  }
 ],
 "metadata": {
  "kernelspec": {
   "display_name": "Python 3",
   "language": "python",
   "name": "python3"
  },
  "language_info": {
   "codemirror_mode": {
    "name": "ipython",
    "version": 3
   },
   "file_extension": ".py",
   "mimetype": "text/x-python",
   "name": "python",
   "nbconvert_exporter": "python",
   "pygments_lexer": "ipython3",
   "version": "3.10.11"
  }
 },
 "nbformat": 4,
 "nbformat_minor": 4
}

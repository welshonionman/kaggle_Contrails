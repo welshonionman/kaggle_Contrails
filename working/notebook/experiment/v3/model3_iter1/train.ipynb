{
 "cells": [
  {
   "cell_type": "code",
   "execution_count": 1,
   "metadata": {
    "execution": {
     "iopub.execute_input": "2023-06-29T21:01:33.544963Z",
     "iopub.status.busy": "2023-06-29T21:01:33.544701Z",
     "iopub.status.idle": "2023-06-29T21:01:36.630775Z",
     "shell.execute_reply": "2023-06-29T21:01:36.630234Z"
    }
   },
   "outputs": [],
   "source": [
    "import gc\n",
    "import os\n",
    "import sys\n",
    "import warnings\n",
    "from glob import glob\n",
    "import matplotlib.pyplot as plt\n",
    "\n",
    "from sklearn.model_selection import KFold\n",
    "import albumentations as A\n",
    "from albumentations.pytorch import ToTensorV2\n",
    "import pandas as pd\n",
    "import cv2\n",
    "import torch\n",
    "import torch.nn as nn\n",
    "import torch.nn.functional as F\n",
    "from torch.utils.data import DataLoader\n",
    "import segmentation_models_pytorch as smp\n",
    "from torch.cuda import amp\n",
    "from tqdm import tqdm"
   ]
  },
  {
   "cell_type": "code",
   "execution_count": 2,
   "metadata": {
    "execution": {
     "iopub.execute_input": "2023-06-29T21:01:36.632719Z",
     "iopub.status.busy": "2023-06-29T21:01:36.632512Z",
     "iopub.status.idle": "2023-06-29T21:01:36.685343Z",
     "shell.execute_reply": "2023-06-29T21:01:36.684764Z"
    }
   },
   "outputs": [],
   "source": [
    "sys.path.append('../')\n",
    "from script.metrics import *\n",
    "from script.dataset import *\n",
    "from script.helper import *\n",
    "from script.scheduler import *\n",
    "from script.model import *\n",
    "from script.loss import *"
   ]
  },
  {
   "attachments": {},
   "cell_type": "markdown",
   "metadata": {},
   "source": [
    "# Config"
   ]
  },
  {
   "cell_type": "code",
   "execution_count": 6,
   "metadata": {
    "execution": {
     "iopub.execute_input": "2023-06-29T21:01:36.687322Z",
     "iopub.status.busy": "2023-06-29T21:01:36.687064Z",
     "iopub.status.idle": "2023-06-29T21:01:36.709579Z",
     "shell.execute_reply": "2023-06-29T21:01:36.709126Z"
    }
   },
   "outputs": [],
   "source": [
    "class CFG:\n",
    "    debug = False\n",
    "    # ============== comp exp name =============\n",
    "    comp_name = 'contrail'\n",
    "    comp_dir_path = '/kaggle/input/'\n",
    "    comp_folder_name = 'google-research-identify-contrails-reduce-global-warming'\n",
    "\n",
    "    dataset_path = \"/kaggle/working/dataset_train/pseud_ashcolor_4label\"\n",
    "    train_label_path = f\"{dataset_path}/labels/model3_iter_0/\"\n",
    "    new_label_path = f\"{dataset_path}/labels/model3_iter_1/\"\n",
    "    train_model_path = [\"/kaggle/working/notebook/experiment/v1.1/model23/model23/model23.pth\",\n",
    "                        \"/kaggle/working/notebook/experiment/v1.1/model23/model23/model23.pth\",\n",
    "                        \"/kaggle/working/notebook/experiment/v1.1/model23/model23/model23.pth\",]\n",
    "    exp_name = os.getcwd().split('/')[-1]\n",
    "    exp_description = \"model2_iter1\"\n",
    "\n",
    "    # ============== model cfg =============\n",
    "    model_arch = 'UnetPlusPlus'\n",
    "    backbone = 'efficientnet-b7'\n",
    "    in_chans = 3\n",
    "    target_size = 4\n",
    "    fold = 3\n",
    "\n",
    "    # ============== training cfg =============\n",
    "    train_batch_size = 24\n",
    "    valid_batch_size = train_batch_size\n",
    "\n",
    "    epochs = 50\n",
    "    if debug:\n",
    "        epochs = 20\n",
    "\n",
    "    lr = 1e-4\n",
    "    loss = \"DiceLoss\"\n",
    "    smooth = 300\n",
    "\n",
    "    # ============== fixed =============\n",
    "    num_workers = 4\n",
    "    seed = 42\n",
    "\n",
    "    # ============== augmentation =============\n",
    "    train_aug_list = [\n",
    "        A.RandomRotate90(),\n",
    "        A.RandomBrightnessContrast(),\n",
    "        A.ShiftScaleRotate(p=0.5, rotate_limit=(10, 10)),\n",
    "        A.GridDistortion(num_steps=5, distort_limit=0.3, p=0.5),\n",
    "        A.CoarseDropout(max_holes=10, max_width=int(256 * 0.05), max_height=int(256 * 0.05),\n",
    "                        mask_fill_value=0, p=0.5),\n",
    "        A.RandomGridShuffle(),\n",
    "        ToTensorV2(transpose_mask=True),\n",
    "    ]\n",
    "\n",
    "    valid_aug_list = [\n",
    "        ToTensorV2(transpose_mask=True),\n",
    "    ]\n",
    "\n",
    "\n",
    "warnings.filterwarnings(\"ignore\")\n",
    "torch.backends.cudnn.benchmark = True\n",
    "set_seed(CFG.seed)\n",
    "os.makedirs(f'./{CFG.exp_name}/', exist_ok=True)\n",
    "pd.set_option('display.max_rows', 500)\n",
    "pd.options.display.max_colwidth = 300"
   ]
  },
  {
   "attachments": {},
   "cell_type": "markdown",
   "metadata": {},
   "source": [
    "# Dataset"
   ]
  },
  {
   "cell_type": "code",
   "execution_count": 7,
   "metadata": {
    "execution": {
     "iopub.execute_input": "2023-06-29T21:01:36.711422Z",
     "iopub.status.busy": "2023-06-29T21:01:36.711198Z",
     "iopub.status.idle": "2023-06-29T21:01:36.745147Z",
     "shell.execute_reply": "2023-06-29T21:01:36.744651Z"
    }
   },
   "outputs": [
    {
     "data": {
      "text/html": [
       "<div>\n",
       "<style scoped>\n",
       "    .dataframe tbody tr th:only-of-type {\n",
       "        vertical-align: middle;\n",
       "    }\n",
       "\n",
       "    .dataframe tbody tr th {\n",
       "        vertical-align: top;\n",
       "    }\n",
       "\n",
       "    .dataframe thead th {\n",
       "        text-align: right;\n",
       "    }\n",
       "</style>\n",
       "<table border=\"1\" class=\"dataframe\">\n",
       "  <thead>\n",
       "    <tr style=\"text-align: right;\">\n",
       "      <th></th>\n",
       "      <th>record_id</th>\n",
       "      <th>image_path</th>\n",
       "      <th>time</th>\n",
       "      <th>label_path</th>\n",
       "      <th>fold</th>\n",
       "    </tr>\n",
       "  </thead>\n",
       "  <tbody>\n",
       "    <tr>\n",
       "      <th>0</th>\n",
       "      <td>195731008142151</td>\n",
       "      <td>/kaggle/working/dataset_train/pseud_ashcolor_4label/images/195731008142151_0.npy</td>\n",
       "      <td>0</td>\n",
       "      <td>/kaggle/working/dataset_train/pseud_ashcolor_4label/labels/model3_iter_0/195731008142151_0.npy</td>\n",
       "      <td>0</td>\n",
       "    </tr>\n",
       "    <tr>\n",
       "      <th>1</th>\n",
       "      <td>195731008142151</td>\n",
       "      <td>/kaggle/working/dataset_train/pseud_ashcolor_4label/images/195731008142151_1.npy</td>\n",
       "      <td>1</td>\n",
       "      <td>/kaggle/working/dataset_train/pseud_ashcolor_4label/labels/model3_iter_0/195731008142151_1.npy</td>\n",
       "      <td>2</td>\n",
       "    </tr>\n",
       "    <tr>\n",
       "      <th>2</th>\n",
       "      <td>195731008142151</td>\n",
       "      <td>/kaggle/working/dataset_train/pseud_ashcolor_4label/images/195731008142151_2.npy</td>\n",
       "      <td>2</td>\n",
       "      <td>/kaggle/working/dataset_train/pseud_ashcolor_4label/labels/model3_iter_0/195731008142151_2.npy</td>\n",
       "      <td>2</td>\n",
       "    </tr>\n",
       "    <tr>\n",
       "      <th>3</th>\n",
       "      <td>195731008142151</td>\n",
       "      <td>/kaggle/working/dataset_train/pseud_ashcolor_4label/images/195731008142151_3.npy</td>\n",
       "      <td>3</td>\n",
       "      <td>/kaggle/working/dataset_train/pseud_ashcolor_4label/labels/model3_iter_0/195731008142151_3.npy</td>\n",
       "      <td>0</td>\n",
       "    </tr>\n",
       "    <tr>\n",
       "      <th>4</th>\n",
       "      <td>195731008142151</td>\n",
       "      <td>/kaggle/working/dataset_train/pseud_ashcolor_4label/images/195731008142151_4.npy</td>\n",
       "      <td>4</td>\n",
       "      <td>/kaggle/working/dataset_train/pseud_ashcolor_4label/labels/true/195731008142151_4.npy</td>\n",
       "      <td>-1</td>\n",
       "    </tr>\n",
       "    <tr>\n",
       "      <th>5</th>\n",
       "      <td>195731008142151</td>\n",
       "      <td>/kaggle/working/dataset_train/pseud_ashcolor_4label/images/195731008142151_5.npy</td>\n",
       "      <td>5</td>\n",
       "      <td>/kaggle/working/dataset_train/pseud_ashcolor_4label/labels/model3_iter_0/195731008142151_5.npy</td>\n",
       "      <td>2</td>\n",
       "    </tr>\n",
       "    <tr>\n",
       "      <th>6</th>\n",
       "      <td>195731008142151</td>\n",
       "      <td>/kaggle/working/dataset_train/pseud_ashcolor_4label/images/195731008142151_6.npy</td>\n",
       "      <td>6</td>\n",
       "      <td>/kaggle/working/dataset_train/pseud_ashcolor_4label/labels/model3_iter_0/195731008142151_6.npy</td>\n",
       "      <td>0</td>\n",
       "    </tr>\n",
       "    <tr>\n",
       "      <th>7</th>\n",
       "      <td>195731008142151</td>\n",
       "      <td>/kaggle/working/dataset_train/pseud_ashcolor_4label/images/195731008142151_7.npy</td>\n",
       "      <td>7</td>\n",
       "      <td>/kaggle/working/dataset_train/pseud_ashcolor_4label/labels/model3_iter_0/195731008142151_7.npy</td>\n",
       "      <td>2</td>\n",
       "    </tr>\n",
       "    <tr>\n",
       "      <th>8</th>\n",
       "      <td>1108741208571075</td>\n",
       "      <td>/kaggle/working/dataset_train/pseud_ashcolor_4label/images/1108741208571075_0.npy</td>\n",
       "      <td>0</td>\n",
       "      <td>/kaggle/working/dataset_train/pseud_ashcolor_4label/labels/model3_iter_0/1108741208571075_0.npy</td>\n",
       "      <td>2</td>\n",
       "    </tr>\n",
       "    <tr>\n",
       "      <th>9</th>\n",
       "      <td>1108741208571075</td>\n",
       "      <td>/kaggle/working/dataset_train/pseud_ashcolor_4label/images/1108741208571075_1.npy</td>\n",
       "      <td>1</td>\n",
       "      <td>/kaggle/working/dataset_train/pseud_ashcolor_4label/labels/model3_iter_0/1108741208571075_1.npy</td>\n",
       "      <td>1</td>\n",
       "    </tr>\n",
       "  </tbody>\n",
       "</table>\n",
       "</div>"
      ],
      "text/plain": [
       "          record_id  \\\n",
       "0   195731008142151   \n",
       "1   195731008142151   \n",
       "2   195731008142151   \n",
       "3   195731008142151   \n",
       "4   195731008142151   \n",
       "5   195731008142151   \n",
       "6   195731008142151   \n",
       "7   195731008142151   \n",
       "8  1108741208571075   \n",
       "9  1108741208571075   \n",
       "\n",
       "                                                                          image_path  \\\n",
       "0   /kaggle/working/dataset_train/pseud_ashcolor_4label/images/195731008142151_0.npy   \n",
       "1   /kaggle/working/dataset_train/pseud_ashcolor_4label/images/195731008142151_1.npy   \n",
       "2   /kaggle/working/dataset_train/pseud_ashcolor_4label/images/195731008142151_2.npy   \n",
       "3   /kaggle/working/dataset_train/pseud_ashcolor_4label/images/195731008142151_3.npy   \n",
       "4   /kaggle/working/dataset_train/pseud_ashcolor_4label/images/195731008142151_4.npy   \n",
       "5   /kaggle/working/dataset_train/pseud_ashcolor_4label/images/195731008142151_5.npy   \n",
       "6   /kaggle/working/dataset_train/pseud_ashcolor_4label/images/195731008142151_6.npy   \n",
       "7   /kaggle/working/dataset_train/pseud_ashcolor_4label/images/195731008142151_7.npy   \n",
       "8  /kaggle/working/dataset_train/pseud_ashcolor_4label/images/1108741208571075_0.npy   \n",
       "9  /kaggle/working/dataset_train/pseud_ashcolor_4label/images/1108741208571075_1.npy   \n",
       "\n",
       "   time  \\\n",
       "0     0   \n",
       "1     1   \n",
       "2     2   \n",
       "3     3   \n",
       "4     4   \n",
       "5     5   \n",
       "6     6   \n",
       "7     7   \n",
       "8     0   \n",
       "9     1   \n",
       "\n",
       "                                                                                        label_path  \\\n",
       "0   /kaggle/working/dataset_train/pseud_ashcolor_4label/labels/model3_iter_0/195731008142151_0.npy   \n",
       "1   /kaggle/working/dataset_train/pseud_ashcolor_4label/labels/model3_iter_0/195731008142151_1.npy   \n",
       "2   /kaggle/working/dataset_train/pseud_ashcolor_4label/labels/model3_iter_0/195731008142151_2.npy   \n",
       "3   /kaggle/working/dataset_train/pseud_ashcolor_4label/labels/model3_iter_0/195731008142151_3.npy   \n",
       "4            /kaggle/working/dataset_train/pseud_ashcolor_4label/labels/true/195731008142151_4.npy   \n",
       "5   /kaggle/working/dataset_train/pseud_ashcolor_4label/labels/model3_iter_0/195731008142151_5.npy   \n",
       "6   /kaggle/working/dataset_train/pseud_ashcolor_4label/labels/model3_iter_0/195731008142151_6.npy   \n",
       "7   /kaggle/working/dataset_train/pseud_ashcolor_4label/labels/model3_iter_0/195731008142151_7.npy   \n",
       "8  /kaggle/working/dataset_train/pseud_ashcolor_4label/labels/model3_iter_0/1108741208571075_0.npy   \n",
       "9  /kaggle/working/dataset_train/pseud_ashcolor_4label/labels/model3_iter_0/1108741208571075_1.npy   \n",
       "\n",
       "  fold  \n",
       "0    0  \n",
       "1    2  \n",
       "2    2  \n",
       "3    0  \n",
       "4   -1  \n",
       "5    2  \n",
       "6    0  \n",
       "7    2  \n",
       "8    2  \n",
       "9    1  "
      ]
     },
     "execution_count": 7,
     "metadata": {},
     "output_type": "execute_result"
    }
   ],
   "source": [
    "train_df = pd.read_csv(f\"{CFG.dataset_path}/train_df.csv\")\n",
    "valid_df = pd.read_csv(f\"{CFG.dataset_path}/validation_df.csv\")\n",
    "valid_df = valid_df.dropna()\n",
    "\n",
    "train_df_true_label = train_df[~train_df[\"label_path\"].isnull()]\n",
    "train_df_pseud_label = train_df[train_df[\"label_path\"].isnull()]\n",
    "\n",
    "fill_path = CFG.train_label_path + train_df[\"record_id\"].astype(\"str\") + \"_\"+train_df[\"time\"].astype(\"str\")+\".npy\"\n",
    "train_df_pseud_label[\"label_path\"] = fill_path\n",
    "\n",
    "train_df_true_label.loc[:, \"fold\"] = -1\n",
    "\n",
    "kf = KFold(n_splits=CFG.fold, random_state=42, shuffle=True)\n",
    "train_df_pseud_label.loc[:, \"fold\"] = None\n",
    "for i, fold in enumerate(kf.split(train_df_pseud_label)):\n",
    "    train_df_pseud_label[\"fold\"].iloc[fold[1]] = i\n",
    "\n",
    "train_df = pd.concat([train_df_pseud_label, train_df_true_label], axis=0).sort_values(by=[\"record_id\", \"time\"]).reset_index(drop=True)\n",
    "\n",
    "if CFG.debug:\n",
    "    train_df=train_df[:200]\n",
    "    valid_df=valid_df[:200]\n",
    "train_df.shape, valid_df.shape\n",
    "train_df.head(10)"
   ]
  },
  {
   "cell_type": "code",
   "execution_count": 8,
   "metadata": {
    "execution": {
     "iopub.execute_input": "2023-06-29T21:01:36.763346Z",
     "iopub.status.busy": "2023-06-29T21:01:36.763046Z",
     "iopub.status.idle": "2023-06-29T21:01:36.838957Z",
     "shell.execute_reply": "2023-06-29T21:01:36.838355Z"
    }
   },
   "outputs": [
    {
     "name": "stdout",
     "output_type": "stream",
     "text": [
      "\n",
      "len(dataset_train) = 164232\n",
      "train_image_shape : torch.Size([3, 256, 256])\n",
      "train_mask_shape  : torch.Size([4, 256, 256])\n",
      "train_image_dtype : torch.float32\n",
      "train_mask_dtype : torch.float32\n",
      "\n",
      "len(dataset_valid) = 1856\n",
      "valid_image_shape : torch.Size([3, 256, 256])\n",
      "valid_mask_shape  : torch.Size([1, 256, 256])\n",
      "valid_image_dtype : torch.float32\n",
      "valid_mask_dtype : torch.float32\n",
      "\n"
     ]
    },
    {
     "data": {
      "image/png": "[encoded data removed]",
      "text/plain": [
       "<Figure size 1000x400 with 2 Axes>"
      ]
     },
     "metadata": {},
     "output_type": "display_data"
    }
   ],
   "source": [
    "dataset_train = ContrailsDataset(train_df, CFG.train_aug_list, \"pseudo_train\")\n",
    "dataset_valid = ContrailsDataset(valid_df, CFG.valid_aug_list, \"pseudo_train\")\n",
    "\n",
    "dataloader_train = DataLoader(dataset_train, batch_size=CFG.train_batch_size , shuffle=True, num_workers = CFG.num_workers)\n",
    "dataloader_valid = DataLoader(dataset_valid, batch_size=CFG.valid_batch_size, num_workers = CFG.num_workers)\n",
    "\n",
    "print(f\"\"\"\n",
    "{len(dataset_train) = }\n",
    "train_image_shape : {dataset_train[0][0].shape}\n",
    "train_mask_shape  : {dataset_train[0][1].shape}\n",
    "train_image_dtype : {dataset_train[0][0].dtype}\n",
    "train_mask_dtype : {dataset_train[0][1].dtype}\n",
    "\n",
    "{len(dataset_valid) = }\n",
    "valid_image_shape : {dataset_valid[0][0].shape}\n",
    "valid_mask_shape  : {dataset_valid[0][1].shape}\n",
    "valid_image_dtype : {dataset_valid[0][0].dtype}\n",
    "valid_mask_dtype : {dataset_valid[0][1].dtype}\n",
    "\"\"\")\n",
    "\n",
    "show_dataset(10, dataset_train)"
   ]
  },
  {
   "attachments": {},
   "cell_type": "markdown",
   "metadata": {},
   "source": [
    "# Training"
   ]
  },
  {
   "cell_type": "code",
   "execution_count": 10,
   "metadata": {
    "execution": {
     "iopub.execute_input": "2023-06-29T21:01:39.522985Z",
     "iopub.status.busy": "2023-06-29T21:01:39.522780Z",
     "iopub.status.idle": "2023-06-30T02:55:50.073892Z",
     "shell.execute_reply": "2023-06-30T02:55:50.071001Z"
    }
   },
   "outputs": [
    {
     "name": "stdout",
     "output_type": "stream",
     "text": [
      "fold : 0\n",
      "\n",
      "model_arch:  UnetPlusPlus\n",
      "backbone:  efficientnet-b7\n",
      "model_dice_score:  0.6644\n"
     ]
    },
    {
     "name": "stderr",
     "output_type": "stream",
     "text": [
      "Epoch 0/50  Mem : 14.9GB  LR : 1.00E-04  Loss: 0.2674: 100%|██████████| 4848/4848 [24:45<00:00,  3.26it/s]\n",
      "Val Loss: 0.0210: 100%|██████████| 78/78 [00:13<00:00,  5.80it/s]\n"
     ]
    },
    {
     "name": "stdout",
     "output_type": "stream",
     "text": [
      "score : 0.6664\tthresh : 0.85\tSAVED MODEL\n",
      "\n"
     ]
    },
    {
     "name": "stderr",
     "output_type": "stream",
     "text": [
      "Epoch 1/50  Mem : 14.9GB  LR : 9.98E-05  Loss: 0.2605: 100%|██████████| 4848/4848 [24:20<00:00,  3.32it/s]\n",
      "Val Loss: 0.0214: 100%|██████████| 78/78 [00:13<00:00,  5.74it/s]\n"
     ]
    },
    {
     "name": "stdout",
     "output_type": "stream",
     "text": [
      "score : 0.6690\tthresh : 0.97\tSAVED MODEL\n",
      "\n"
     ]
    },
    {
     "name": "stderr",
     "output_type": "stream",
     "text": [
      "Epoch 2/50  Mem : 14.9GB  LR : 9.93E-05  Loss: 0.2580: 100%|██████████| 4848/4848 [24:33<00:00,  3.29it/s]\n",
      "Val Loss: 0.0205: 100%|██████████| 78/78 [00:13<00:00,  5.69it/s]\n"
     ]
    },
    {
     "name": "stdout",
     "output_type": "stream",
     "text": [
      "score : 0.6694\tthresh : 0.55\tSAVED MODEL\n",
      "\n"
     ]
    },
    {
     "name": "stderr",
     "output_type": "stream",
     "text": [
      "Epoch 3/50  Mem : 14.9GB  LR : 9.86E-05  Loss: 0.2557: 100%|██████████| 4848/4848 [24:27<00:00,  3.30it/s]\n",
      "Val Loss: 0.0211: 100%|██████████| 78/78 [00:13<00:00,  5.78it/s]\n"
     ]
    },
    {
     "name": "stdout",
     "output_type": "stream",
     "text": [
      "score : 0.6673\tthresh : 0.97\n",
      "\n"
     ]
    },
    {
     "name": "stderr",
     "output_type": "stream",
     "text": [
      "Epoch 4/50  Mem : 14.9GB  LR : 9.78E-05  Loss: 0.2534: 100%|██████████| 4848/4848 [24:32<00:00,  3.29it/s]\n",
      "Val Loss: 0.0209: 100%|██████████| 78/78 [00:13<00:00,  5.73it/s]\n"
     ]
    },
    {
     "name": "stdout",
     "output_type": "stream",
     "text": [
      "score : 0.6683\tthresh : 0.75\n",
      "\n"
     ]
    },
    {
     "name": "stderr",
     "output_type": "stream",
     "text": [
      "Epoch 5/50  Mem : 14.9GB  LR : 9.67E-05  Loss: 0.2512: 100%|██████████| 4848/4848 [24:27<00:00,  3.30it/s]\n",
      "Val Loss: 0.0206: 100%|██████████| 78/78 [00:13<00:00,  5.72it/s]\n"
     ]
    },
    {
     "name": "stdout",
     "output_type": "stream",
     "text": [
      "score : 0.6727\tthresh : 0.47\tSAVED MODEL\n",
      "\n"
     ]
    },
    {
     "name": "stderr",
     "output_type": "stream",
     "text": [
      "Epoch 6/50  Mem : 14.9GB  LR : 9.54E-05  Loss: 0.2487: 100%|██████████| 4848/4848 [24:35<00:00,  3.29it/s]\n",
      "Val Loss: 0.0204: 100%|██████████| 78/78 [00:13<00:00,  5.78it/s]\n"
     ]
    },
    {
     "name": "stdout",
     "output_type": "stream",
     "text": [
      "score : 0.6729\tthresh : 0.11\tSAVED MODEL\n",
      "\n"
     ]
    },
    {
     "name": "stderr",
     "output_type": "stream",
     "text": [
      "Epoch 7/50  Mem : 14.9GB  LR : 9.40E-05  Loss: 0.2472: 100%|██████████| 4848/4848 [24:32<00:00,  3.29it/s]\n",
      "Val Loss: 0.0205: 100%|██████████| 78/78 [00:13<00:00,  5.68it/s]\n"
     ]
    },
    {
     "name": "stdout",
     "output_type": "stream",
     "text": [
      "score : 0.6727\tthresh : 0.37\n",
      "\n"
     ]
    },
    {
     "name": "stderr",
     "output_type": "stream",
     "text": [
      "Epoch 8/50  Mem : 14.9GB  LR : 9.24E-05  Loss: 0.2465: 100%|██████████| 4848/4848 [24:38<00:00,  3.28it/s]\n",
      "Val Loss: 0.0206: 100%|██████████| 78/78 [00:13<00:00,  5.72it/s]\n"
     ]
    },
    {
     "name": "stdout",
     "output_type": "stream",
     "text": [
      "score : 0.6721\tthresh : 0.15\n",
      "\n"
     ]
    },
    {
     "name": "stderr",
     "output_type": "stream",
     "text": [
      "Epoch 9/50  Mem : 14.9GB  LR : 9.07E-05  Loss: 0.2455: 100%|██████████| 4848/4848 [24:45<00:00,  3.26it/s]\n",
      "Val Loss: 0.0206: 100%|██████████| 78/78 [00:14<00:00,  5.45it/s]\n"
     ]
    },
    {
     "name": "stdout",
     "output_type": "stream",
     "text": [
      "score : 0.6674\tthresh : 0.27\n",
      "\n"
     ]
    },
    {
     "name": "stderr",
     "output_type": "stream",
     "text": [
      "Epoch 10/50  Mem : 14.9GB  LR : 8.87E-05  Loss: 0.2438: 100%|██████████| 4848/4848 [25:02<00:00,  3.23it/s]\n",
      "Val Loss: 0.0204: 100%|██████████| 78/78 [00:14<00:00,  5.42it/s]\n"
     ]
    },
    {
     "name": "stdout",
     "output_type": "stream",
     "text": [
      "score : 0.6730\tthresh : 0.17\tSAVED MODEL\n",
      "\n"
     ]
    },
    {
     "name": "stderr",
     "output_type": "stream",
     "text": [
      "Epoch 11/50  Mem : 14.9GB  LR : 8.67E-05  Loss: 0.2429: 100%|██████████| 4848/4848 [25:08<00:00,  3.21it/s]\n",
      "Val Loss: 0.0206: 100%|██████████| 78/78 [00:15<00:00,  4.91it/s]\n"
     ]
    },
    {
     "name": "stdout",
     "output_type": "stream",
     "text": [
      "score : 0.6704\tthresh : 0.43\n",
      "\n"
     ]
    },
    {
     "name": "stderr",
     "output_type": "stream",
     "text": [
      "Epoch 12/50  Mem : 14.9GB  LR : 8.44E-05  Loss: 0.2418: 100%|██████████| 4848/4848 [25:05<00:00,  3.22it/s]\n",
      "Val Loss: 0.0207: 100%|██████████| 78/78 [00:16<00:00,  4.73it/s]\n"
     ]
    },
    {
     "name": "stdout",
     "output_type": "stream",
     "text": [
      "score : 0.6730\tthresh : 0.43\tSAVED MODEL\n",
      "\n"
     ]
    },
    {
     "name": "stderr",
     "output_type": "stream",
     "text": [
      "Epoch 13/50  Mem : 14.9GB  LR : 8.21E-05  Loss: 0.2410: 100%|██████████| 4848/4848 [25:01<00:00,  3.23it/s]\n",
      "Val Loss: 0.0206: 100%|██████████| 78/78 [00:15<00:00,  5.01it/s]\n"
     ]
    },
    {
     "name": "stdout",
     "output_type": "stream",
     "text": [
      "score : 0.6755\tthresh : 0.95\tSAVED MODEL\n",
      "\n"
     ]
    },
    {
     "name": "stderr",
     "output_type": "stream",
     "text": [
      "Epoch 14/50  Mem : 14.9GB  LR : 7.96E-05  Loss: 0.2408: 100%|██████████| 4848/4848 [25:14<00:00,  3.20it/s]\n",
      "Val Loss: 0.0213: 100%|██████████| 78/78 [00:16<00:00,  4.76it/s]\n"
     ]
    },
    {
     "name": "stdout",
     "output_type": "stream",
     "text": [
      "score : 0.6708\tthresh : 0.99\n",
      "\n"
     ]
    },
    {
     "name": "stderr",
     "output_type": "stream",
     "text": [
      "Epoch 15/50  Mem : 14.9GB  LR : 7.70E-05  Loss: 0.2395: 100%|██████████| 4848/4848 [25:06<00:00,  3.22it/s]\n",
      "Val Loss: 0.0205: 100%|██████████| 78/78 [00:16<00:00,  4.67it/s]\n"
     ]
    },
    {
     "name": "stdout",
     "output_type": "stream",
     "text": [
      "score : 0.6709\tthresh : 0.15\n",
      "\n"
     ]
    },
    {
     "name": "stderr",
     "output_type": "stream",
     "text": [
      "Epoch 16/50  Mem : 14.9GB  LR : 7.43E-05  Loss: 0.2392: 100%|██████████| 4848/4848 [25:15<00:00,  3.20it/s]\n",
      "Val Loss: 0.0204: 100%|██████████| 78/78 [00:16<00:00,  4.79it/s]\n"
     ]
    },
    {
     "name": "stdout",
     "output_type": "stream",
     "text": [
      "score : 0.6733\tthresh : 0.01\n",
      "\n"
     ]
    },
    {
     "name": "stderr",
     "output_type": "stream",
     "text": [
      "Epoch 17/50  Mem : 14.9GB  LR : 7.15E-05  Loss: 0.2374: 100%|██████████| 4848/4848 [25:16<00:00,  3.20it/s]\n",
      "Val Loss: 0.0204: 100%|██████████| 78/78 [00:15<00:00,  5.13it/s]\n"
     ]
    },
    {
     "name": "stdout",
     "output_type": "stream",
     "text": [
      "score : 0.6746\tthresh : 0.53\n",
      "\n"
     ]
    },
    {
     "name": "stderr",
     "output_type": "stream",
     "text": [
      "Epoch 18/50  Mem : 14.9GB  LR : 6.86E-05  Loss: 0.2365: 100%|██████████| 4848/4848 [25:18<00:00,  3.19it/s]\n",
      "Val Loss: 0.0204: 100%|██████████| 78/78 [00:16<00:00,  4.76it/s]\n"
     ]
    },
    {
     "name": "stdout",
     "output_type": "stream",
     "text": [
      "score : 0.6714\tthresh : 0.27\n",
      "\n"
     ]
    },
    {
     "name": "stderr",
     "output_type": "stream",
     "text": [
      "Epoch 19/50  Mem : 14.9GB  LR : 6.57E-05  Loss: 0.2360: 100%|██████████| 4848/4848 [25:14<00:00,  3.20it/s]\n",
      "Val Loss: 0.0203: 100%|██████████| 78/78 [00:16<00:00,  4.83it/s]\n"
     ]
    },
    {
     "name": "stdout",
     "output_type": "stream",
     "text": [
      "score : 0.6747\tthresh : 0.37\n",
      "\n"
     ]
    },
    {
     "name": "stderr",
     "output_type": "stream",
     "text": [
      "Epoch 20/50  Mem : 14.9GB  LR : 6.27E-05  Loss: 0.2360: 100%|██████████| 4848/4848 [25:16<00:00,  3.20it/s]\n",
      "Val Loss: 0.0205: 100%|██████████| 78/78 [00:16<00:00,  4.67it/s]\n"
     ]
    },
    {
     "name": "stdout",
     "output_type": "stream",
     "text": [
      "score : 0.6733\tthresh : 0.21\n",
      "\n"
     ]
    },
    {
     "name": "stderr",
     "output_type": "stream",
     "text": [
      "Epoch 21/50  Mem : 14.9GB  LR : 5.96E-05  Loss: 0.2349: 100%|██████████| 4848/4848 [25:18<00:00,  3.19it/s]\n",
      "Val Loss: 0.0203: 100%|██████████| 78/78 [00:16<00:00,  4.80it/s]\n"
     ]
    },
    {
     "name": "stdout",
     "output_type": "stream",
     "text": [
      "score : 0.6743\tthresh : 0.11\n",
      "\n"
     ]
    },
    {
     "name": "stderr",
     "output_type": "stream",
     "text": [
      "Epoch 22/50  Mem : 14.9GB  LR : 5.65E-05  Loss: 0.2346: 100%|██████████| 4848/4848 [25:13<00:00,  3.20it/s]\n",
      "Val Loss: 0.0208: 100%|██████████| 78/78 [00:16<00:00,  4.78it/s]\n"
     ]
    },
    {
     "name": "stdout",
     "output_type": "stream",
     "text": [
      "score : 0.6746\tthresh : 0.53\n",
      "\n"
     ]
    },
    {
     "name": "stderr",
     "output_type": "stream",
     "text": [
      "Epoch 23/50  Mem : 14.9GB  LR : 5.34E-05  Loss: 0.2336: 100%|██████████| 4848/4848 [25:18<00:00,  3.19it/s]\n",
      "Val Loss: 0.0205: 100%|██████████| 78/78 [00:16<00:00,  4.63it/s]\n"
     ]
    },
    {
     "name": "stdout",
     "output_type": "stream",
     "text": [
      "score : 0.6741\tthresh : 0.93\n",
      "\n"
     ]
    },
    {
     "name": "stderr",
     "output_type": "stream",
     "text": [
      "Epoch 24/50  Mem : 14.9GB  LR : 5.02E-05  Loss: 0.2327: 100%|██████████| 4848/4848 [25:03<00:00,  3.22it/s]\n",
      "Val Loss: 0.0205: 100%|██████████| 78/78 [00:13<00:00,  5.59it/s]\n"
     ]
    },
    {
     "name": "stdout",
     "output_type": "stream",
     "text": [
      "score : 0.6738\tthresh : 0.65\n",
      "\n"
     ]
    },
    {
     "name": "stderr",
     "output_type": "stream",
     "text": [
      "Epoch 25/50  Mem : 14.9GB  LR : 4.71E-05  Loss: 0.2328: 100%|██████████| 4848/4848 [24:41<00:00,  3.27it/s]\n",
      "Val Loss: 0.0205: 100%|██████████| 78/78 [00:13<00:00,  5.62it/s]\n"
     ]
    },
    {
     "name": "stdout",
     "output_type": "stream",
     "text": [
      "score : 0.6746\tthresh : 0.25\n",
      "\n"
     ]
    },
    {
     "name": "stderr",
     "output_type": "stream",
     "text": [
      "Epoch 26/50  Mem : 14.9GB  LR : 4.40E-05  Loss: 0.2328: 100%|██████████| 4848/4848 [24:29<00:00,  3.30it/s]\n",
      "Val Loss: 0.0204: 100%|██████████| 78/78 [00:13<00:00,  5.64it/s]\n"
     ]
    },
    {
     "name": "stdout",
     "output_type": "stream",
     "text": [
      "score : 0.6751\tthresh : 0.37\n",
      "\n"
     ]
    },
    {
     "name": "stderr",
     "output_type": "stream",
     "text": [
      "Epoch 27/50  Mem : 14.9GB  LR : 4.09E-05  Loss: 0.2315: 100%|██████████| 4848/4848 [24:35<00:00,  3.29it/s]\n",
      "Val Loss: 0.0204: 100%|██████████| 78/78 [00:13<00:00,  5.64it/s]\n"
     ]
    },
    {
     "name": "stdout",
     "output_type": "stream",
     "text": [
      "score : 0.6748\tthresh : 0.89\n",
      "\n"
     ]
    },
    {
     "name": "stderr",
     "output_type": "stream",
     "text": [
      "Epoch 28/50  Mem : 14.9GB  LR : 3.78E-05  Loss: 0.2310: 100%|██████████| 4848/4848 [24:45<00:00,  3.26it/s]\n",
      "Val Loss: 0.0205: 100%|██████████| 78/78 [00:13<00:00,  5.67it/s]\n"
     ]
    },
    {
     "name": "stdout",
     "output_type": "stream",
     "text": [
      "score : 0.6761\tthresh : 0.87\tSAVED MODEL\n",
      "\n"
     ]
    },
    {
     "name": "stderr",
     "output_type": "stream",
     "text": [
      "Epoch 29/50  Mem : 14.9GB  LR : 3.48E-05  Loss: 0.2308: 100%|██████████| 4848/4848 [24:42<00:00,  3.27it/s]\n",
      "Val Loss: 0.0205: 100%|██████████| 78/78 [00:13<00:00,  5.60it/s]\n"
     ]
    },
    {
     "name": "stdout",
     "output_type": "stream",
     "text": [
      "score : 0.6738\tthresh : 0.27\n",
      "\n"
     ]
    },
    {
     "name": "stderr",
     "output_type": "stream",
     "text": [
      "Epoch 30/50  Mem : 14.9GB  LR : 3.18E-05  Loss: 0.2303: 100%|██████████| 4848/4848 [24:53<00:00,  3.25it/s]\n",
      "Val Loss: 0.0205: 100%|██████████| 78/78 [00:16<00:00,  4.67it/s]\n"
     ]
    },
    {
     "name": "stdout",
     "output_type": "stream",
     "text": [
      "score : 0.6746\tthresh : 0.33\n",
      "\n"
     ]
    },
    {
     "name": "stderr",
     "output_type": "stream",
     "text": [
      "Epoch 31/50  Mem : 14.9GB  LR : 2.90E-05  Loss: 0.2306: 100%|██████████| 4848/4848 [24:38<00:00,  3.28it/s]\n",
      "Val Loss: 0.0202: 100%|██████████| 78/78 [00:14<00:00,  5.57it/s]\n"
     ]
    },
    {
     "name": "stdout",
     "output_type": "stream",
     "text": [
      "score : 0.6770\tthresh : 0.21\tSAVED MODEL\n",
      "\n"
     ]
    },
    {
     "name": "stderr",
     "output_type": "stream",
     "text": [
      "Epoch 32/50  Mem : 14.9GB  LR : 2.62E-05  Loss: 0.2299: 100%|██████████| 4848/4848 [24:55<00:00,  3.24it/s]\n",
      "Val Loss: 0.0202: 100%|██████████| 78/78 [00:13<00:00,  5.63it/s]\n"
     ]
    },
    {
     "name": "stdout",
     "output_type": "stream",
     "text": [
      "score : 0.6761\tthresh : 0.15\n",
      "\n"
     ]
    },
    {
     "name": "stderr",
     "output_type": "stream",
     "text": [
      "Epoch 33/50  Mem : 14.9GB  LR : 2.35E-05  Loss: 0.2292: 100%|██████████| 4848/4848 [24:28<00:00,  3.30it/s]\n",
      "Val Loss: 0.0202: 100%|██████████| 78/78 [00:14<00:00,  5.56it/s]\n"
     ]
    },
    {
     "name": "stdout",
     "output_type": "stream",
     "text": [
      "score : 0.6775\tthresh : 0.71\tSAVED MODEL\n",
      "\n"
     ]
    },
    {
     "name": "stderr",
     "output_type": "stream",
     "text": [
      "Epoch 34/50  Mem : 14.9GB  LR : 2.09E-05  Loss: 0.2295: 100%|██████████| 4848/4848 [24:53<00:00,  3.25it/s]\n",
      "Val Loss: 0.0203: 100%|██████████| 78/78 [00:13<00:00,  5.66it/s]\n"
     ]
    },
    {
     "name": "stdout",
     "output_type": "stream",
     "text": [
      "score : 0.6771\tthresh : 0.75\n",
      "\n"
     ]
    },
    {
     "name": "stderr",
     "output_type": "stream",
     "text": [
      "Epoch 35/50  Mem : 14.9GB  LR : 1.84E-05  Loss: 0.2290: 100%|██████████| 4848/4848 [24:42<00:00,  3.27it/s]\n",
      "Val Loss: 0.0198: 100%|██████████| 78/78 [00:13<00:00,  5.71it/s]\n"
     ]
    },
    {
     "name": "stdout",
     "output_type": "stream",
     "text": [
      "score : 0.6755\tthresh : 0.01\n",
      "\n"
     ]
    },
    {
     "name": "stderr",
     "output_type": "stream",
     "text": [
      "Epoch 36/50  Mem : 14.9GB  LR : 1.60E-05  Loss: 0.2287: 100%|██████████| 4848/4848 [24:45<00:00,  3.26it/s]\n",
      "Val Loss: 0.0201: 100%|██████████| 78/78 [00:13<00:00,  5.64it/s]\n"
     ]
    },
    {
     "name": "stdout",
     "output_type": "stream",
     "text": [
      "score : 0.6771\tthresh : 0.05\n",
      "\n"
     ]
    },
    {
     "name": "stderr",
     "output_type": "stream",
     "text": [
      "Epoch 37/50  Mem : 14.9GB  LR : 1.38E-05  Loss: 0.2283: 100%|██████████| 4848/4848 [24:57<00:00,  3.24it/s]\n",
      "Val Loss: 0.0202: 100%|██████████| 78/78 [00:13<00:00,  5.66it/s]\n"
     ]
    },
    {
     "name": "stdout",
     "output_type": "stream",
     "text": [
      "score : 0.6771\tthresh : 0.29\n",
      "\n"
     ]
    },
    {
     "name": "stderr",
     "output_type": "stream",
     "text": [
      "Epoch 38/50  Mem : 14.9GB  LR : 1.17E-05  Loss: 0.2272: 100%|██████████| 4848/4848 [24:43<00:00,  3.27it/s]\n",
      "Val Loss: 0.0204: 100%|██████████| 78/78 [00:13<00:00,  5.70it/s]\n"
     ]
    },
    {
     "name": "stdout",
     "output_type": "stream",
     "text": [
      "score : 0.6772\tthresh : 0.93\n",
      "\n"
     ]
    },
    {
     "name": "stderr",
     "output_type": "stream",
     "text": [
      "Epoch 39/50  Mem : 14.9GB  LR : 9.81E-06  Loss: 0.2277: 100%|██████████| 4848/4848 [24:46<00:00,  3.26it/s]\n",
      "Val Loss: 0.0203: 100%|██████████| 78/78 [00:13<00:00,  5.72it/s]\n"
     ]
    },
    {
     "name": "stdout",
     "output_type": "stream",
     "text": [
      "score : 0.6772\tthresh : 0.71\n",
      "\n"
     ]
    },
    {
     "name": "stderr",
     "output_type": "stream",
     "text": [
      "Epoch 40/50  Mem : 14.9GB  LR : 8.04E-06  Loss: 0.2278: 100%|██████████| 4848/4848 [24:47<00:00,  3.26it/s]\n",
      "Val Loss: 0.0201: 100%|██████████| 78/78 [00:14<00:00,  5.38it/s]\n"
     ]
    },
    {
     "name": "stdout",
     "output_type": "stream",
     "text": [
      "score : 0.6778\tthresh : 0.03\tSAVED MODEL\n",
      "\n"
     ]
    },
    {
     "name": "stderr",
     "output_type": "stream",
     "text": [
      "Epoch 41/50  Mem : 14.9GB  LR : 6.44E-06  Loss: 0.2268: 100%|██████████| 4848/4848 [25:22<00:00,  3.18it/s]\n",
      "Val Loss: 0.0201: 100%|██████████| 78/78 [00:15<00:00,  5.12it/s]\n"
     ]
    },
    {
     "name": "stdout",
     "output_type": "stream",
     "text": [
      "score : 0.6775\tthresh : 0.17\n",
      "\n"
     ]
    },
    {
     "name": "stderr",
     "output_type": "stream",
     "text": [
      "Epoch 42/50  Mem : 14.9GB  LR : 5.01E-06  Loss: 0.2271: 100%|██████████| 4848/4848 [25:18<00:00,  3.19it/s]\n",
      "Val Loss: 0.0201: 100%|██████████| 78/78 [00:14<00:00,  5.55it/s]\n"
     ]
    },
    {
     "name": "stdout",
     "output_type": "stream",
     "text": [
      "score : 0.6779\tthresh : 0.43\tSAVED MODEL\n",
      "\n"
     ]
    },
    {
     "name": "stderr",
     "output_type": "stream",
     "text": [
      "Epoch 43/50  Mem : 14.9GB  LR : 3.76E-06  Loss: 0.2277: 100%|██████████| 4848/4848 [24:54<00:00,  3.24it/s]\n",
      "Val Loss: 0.0202: 100%|██████████| 78/78 [00:13<00:00,  5.58it/s]\n"
     ]
    },
    {
     "name": "stdout",
     "output_type": "stream",
     "text": [
      "score : 0.6781\tthresh : 0.37\tSAVED MODEL\n",
      "\n"
     ]
    },
    {
     "name": "stderr",
     "output_type": "stream",
     "text": [
      "Epoch 44/50  Mem : 14.9GB  LR : 2.69E-06  Loss: 0.2268: 100%|██████████| 4848/4848 [24:57<00:00,  3.24it/s]\n",
      "Val Loss: 0.0201: 100%|██████████| 78/78 [00:14<00:00,  5.21it/s]\n"
     ]
    },
    {
     "name": "stdout",
     "output_type": "stream",
     "text": [
      "score : 0.6779\tthresh : 0.27\n",
      "\n"
     ]
    },
    {
     "name": "stderr",
     "output_type": "stream",
     "text": [
      "Epoch 45/50  Mem : 14.9GB  LR : 1.80E-06  Loss: 0.2270: 100%|██████████| 4848/4848 [25:04<00:00,  3.22it/s]\n",
      "Val Loss: 0.0202: 100%|██████████| 78/78 [00:14<00:00,  5.57it/s]\n"
     ]
    },
    {
     "name": "stdout",
     "output_type": "stream",
     "text": [
      "score : 0.6778\tthresh : 0.33\n",
      "\n"
     ]
    },
    {
     "name": "stderr",
     "output_type": "stream",
     "text": [
      "Epoch 46/50  Mem : 14.9GB  LR : 1.11E-06  Loss: 0.2267: 100%|██████████| 4848/4848 [24:51<00:00,  3.25it/s]\n",
      "Val Loss: 0.0202: 100%|██████████| 78/78 [00:13<00:00,  5.66it/s]\n"
     ]
    },
    {
     "name": "stdout",
     "output_type": "stream",
     "text": [
      "score : 0.6778\tthresh : 0.67\n",
      "\n"
     ]
    },
    {
     "name": "stderr",
     "output_type": "stream",
     "text": [
      "Epoch 47/50  Mem : 14.9GB  LR : 5.99E-07  Loss: 0.2270: 100%|██████████| 4848/4848 [24:52<00:00,  3.25it/s]\n",
      "Val Loss: 0.0202: 100%|██████████| 78/78 [00:15<00:00,  5.17it/s]\n"
     ]
    },
    {
     "name": "stdout",
     "output_type": "stream",
     "text": [
      "score : 0.6780\tthresh : 0.61\n",
      "\n"
     ]
    },
    {
     "name": "stderr",
     "output_type": "stream",
     "text": [
      "Epoch 48/50  Mem : 14.9GB  LR : 2.75E-07  Loss: 0.2264: 100%|██████████| 4848/4848 [25:15<00:00,  3.20it/s]\n",
      "Val Loss: 0.0203: 100%|██████████| 78/78 [00:16<00:00,  4.78it/s]\n"
     ]
    },
    {
     "name": "stdout",
     "output_type": "stream",
     "text": [
      "score : 0.6778\tthresh : 0.63\n",
      "\n"
     ]
    },
    {
     "name": "stderr",
     "output_type": "stream",
     "text": [
      "Epoch 49/50  Mem : 14.9GB  LR : 1.25E-07  Loss: 0.2262: 100%|██████████| 4848/4848 [25:15<00:00,  3.20it/s]\n",
      "Val Loss: 0.0203: 100%|██████████| 78/78 [00:16<00:00,  4.83it/s]\n"
     ]
    },
    {
     "name": "stdout",
     "output_type": "stream",
     "text": [
      "score : 0.6781\tthresh : 0.51\n",
      "\n",
      "fold : 1\n",
      "\n",
      "model_arch:  UnetPlusPlus\n",
      "backbone:  efficientnet-b7\n",
      "model_dice_score:  0.6644\n"
     ]
    },
    {
     "name": "stderr",
     "output_type": "stream",
     "text": [
      "Epoch 0/50  Mem : 14.9GB  LR : 1.00E-04  Loss: 0.2663: 100%|██████████| 4848/4848 [25:04<00:00,  3.22it/s]\n",
      "Val Loss: 0.0211: 100%|██████████| 78/78 [00:15<00:00,  5.02it/s]\n"
     ]
    },
    {
     "name": "stdout",
     "output_type": "stream",
     "text": [
      "score : 0.6653\tthresh : 0.39\tSAVED MODEL\n",
      "\n"
     ]
    },
    {
     "name": "stderr",
     "output_type": "stream",
     "text": [
      "Epoch 1/50  Mem : 14.9GB  LR : 9.98E-05  Loss: 0.2613: 100%|██████████| 4848/4848 [25:01<00:00,  3.23it/s]\n",
      "Val Loss: 0.0216: 100%|██████████| 78/78 [00:15<00:00,  5.03it/s]\n"
     ]
    },
    {
     "name": "stdout",
     "output_type": "stream",
     "text": [
      "score : 0.6633\tthresh : 0.97\n",
      "\n"
     ]
    },
    {
     "name": "stderr",
     "output_type": "stream",
     "text": [
      "Epoch 2/50  Mem : 14.9GB  LR : 9.93E-05  Loss: 0.2588: 100%|██████████| 4848/4848 [25:13<00:00,  3.20it/s]\n",
      "Val Loss: 0.0212: 100%|██████████| 78/78 [00:16<00:00,  4.71it/s]\n"
     ]
    },
    {
     "name": "stdout",
     "output_type": "stream",
     "text": [
      "score : 0.6660\tthresh : 0.83\tSAVED MODEL\n",
      "\n"
     ]
    },
    {
     "name": "stderr",
     "output_type": "stream",
     "text": [
      "Epoch 3/50  Mem : 14.9GB  LR : 9.86E-05  Loss: 0.2558: 100%|██████████| 4848/4848 [25:11<00:00,  3.21it/s]\n",
      "Val Loss: 0.0206: 100%|██████████| 78/78 [00:16<00:00,  4.74it/s]\n"
     ]
    },
    {
     "name": "stdout",
     "output_type": "stream",
     "text": [
      "score : 0.6696\tthresh : 0.37\tSAVED MODEL\n",
      "\n"
     ]
    },
    {
     "name": "stderr",
     "output_type": "stream",
     "text": [
      "Epoch 4/50  Mem : 14.9GB  LR : 9.78E-05  Loss: 0.2531: 100%|██████████| 4848/4848 [25:14<00:00,  3.20it/s]\n",
      "Val Loss: 0.0207: 100%|██████████| 78/78 [00:16<00:00,  4.84it/s]\n"
     ]
    },
    {
     "name": "stdout",
     "output_type": "stream",
     "text": [
      "score : 0.6705\tthresh : 0.69\tSAVED MODEL\n",
      "\n"
     ]
    },
    {
     "name": "stderr",
     "output_type": "stream",
     "text": [
      "Epoch 5/50  Mem : 14.9GB  LR : 9.67E-05  Loss: 0.2523: 100%|██████████| 4848/4848 [25:17<00:00,  3.19it/s]\n",
      "Val Loss: 0.0208: 100%|██████████| 78/78 [00:15<00:00,  4.90it/s]\n"
     ]
    },
    {
     "name": "stdout",
     "output_type": "stream",
     "text": [
      "score : 0.6699\tthresh : 0.63\n",
      "\n"
     ]
    },
    {
     "name": "stderr",
     "output_type": "stream",
     "text": [
      "Epoch 6/50  Mem : 14.9GB  LR : 9.54E-05  Loss: 0.2494: 100%|██████████| 4848/4848 [25:27<00:00,  3.17it/s]\n",
      "Val Loss: 0.0212: 100%|██████████| 78/78 [00:13<00:00,  5.71it/s]\n"
     ]
    },
    {
     "name": "stdout",
     "output_type": "stream",
     "text": [
      "score : 0.6696\tthresh : 0.97\n",
      "\n"
     ]
    },
    {
     "name": "stderr",
     "output_type": "stream",
     "text": [
      "Epoch 7/50  Mem : 14.9GB  LR : 9.40E-05  Loss: 0.2485: 100%|██████████| 4848/4848 [26:11<00:00,  3.09it/s]\n",
      "Val Loss: 0.0207: 100%|██████████| 78/78 [00:15<00:00,  5.11it/s]\n"
     ]
    },
    {
     "name": "stdout",
     "output_type": "stream",
     "text": [
      "score : 0.6727\tthresh : 0.73\tSAVED MODEL\n",
      "\n"
     ]
    },
    {
     "name": "stderr",
     "output_type": "stream",
     "text": [
      "Epoch 8/50  Mem : 14.9GB  LR : 9.24E-05  Loss: 0.2474: 100%|██████████| 4848/4848 [26:01<00:00,  3.11it/s]\n",
      "Val Loss: 0.0206: 100%|██████████| 78/78 [00:15<00:00,  5.17it/s]\n"
     ]
    },
    {
     "name": "stdout",
     "output_type": "stream",
     "text": [
      "score : 0.6694\tthresh : 0.83\n",
      "\n"
     ]
    },
    {
     "name": "stderr",
     "output_type": "stream",
     "text": [
      "Epoch 9/50  Mem : 14.9GB  LR : 9.07E-05  Loss: 0.2465: 100%|██████████| 4848/4848 [25:37<00:00,  3.15it/s]\n",
      "Val Loss: 0.0208: 100%|██████████| 78/78 [00:15<00:00,  5.14it/s]\n"
     ]
    },
    {
     "name": "stdout",
     "output_type": "stream",
     "text": [
      "score : 0.6696\tthresh : 0.25\n",
      "\n"
     ]
    },
    {
     "name": "stderr",
     "output_type": "stream",
     "text": [
      "Epoch 10/50  Mem : 14.9GB  LR : 8.87E-05  Loss: 0.2444: 100%|██████████| 4848/4848 [25:50<00:00,  3.13it/s]\n",
      "Val Loss: 0.0204: 100%|██████████| 78/78 [00:15<00:00,  5.10it/s]\n"
     ]
    },
    {
     "name": "stdout",
     "output_type": "stream",
     "text": [
      "score : 0.6691\tthresh : 0.01\n",
      "\n"
     ]
    },
    {
     "name": "stderr",
     "output_type": "stream",
     "text": [
      "Epoch 11/50  Mem : 14.9GB  LR : 8.67E-05  Loss: 0.2428: 100%|██████████| 4848/4848 [26:02<00:00,  3.10it/s]\n",
      "Val Loss: 0.0209: 100%|██████████| 78/78 [00:15<00:00,  5.14it/s]\n"
     ]
    },
    {
     "name": "stdout",
     "output_type": "stream",
     "text": [
      "score : 0.6710\tthresh : 0.57\n",
      "\n"
     ]
    },
    {
     "name": "stderr",
     "output_type": "stream",
     "text": [
      "Epoch 12/50  Mem : 14.9GB  LR : 8.44E-05  Loss: 0.2428: 100%|██████████| 4848/4848 [25:38<00:00,  3.15it/s]\n",
      "Val Loss: 0.0207: 100%|██████████| 78/78 [00:13<00:00,  5.73it/s]\n"
     ]
    },
    {
     "name": "stdout",
     "output_type": "stream",
     "text": [
      "score : 0.6714\tthresh : 0.83\n",
      "\n"
     ]
    },
    {
     "name": "stderr",
     "output_type": "stream",
     "text": [
      "Epoch 13/50  Mem : 14.9GB  LR : 8.21E-05  Loss: 0.2423: 100%|██████████| 4848/4848 [24:53<00:00,  3.25it/s]\n",
      "Val Loss: 0.0205: 100%|██████████| 78/78 [00:13<00:00,  5.73it/s]\n"
     ]
    },
    {
     "name": "stdout",
     "output_type": "stream",
     "text": [
      "score : 0.6739\tthresh : 0.73\tSAVED MODEL\n",
      "\n"
     ]
    },
    {
     "name": "stderr",
     "output_type": "stream",
     "text": [
      "Epoch 14/50  Mem : 14.9GB  LR : 7.96E-05  Loss: 0.2410: 100%|██████████| 4848/4848 [24:52<00:00,  3.25it/s]\n",
      "Val Loss: 0.0201: 100%|██████████| 78/78 [00:13<00:00,  5.72it/s]\n"
     ]
    },
    {
     "name": "stdout",
     "output_type": "stream",
     "text": [
      "score : 0.6731\tthresh : 0.01\n",
      "\n"
     ]
    },
    {
     "name": "stderr",
     "output_type": "stream",
     "text": [
      "Epoch 15/50  Mem : 14.9GB  LR : 7.70E-05  Loss: 0.2397: 100%|██████████| 4848/4848 [24:48<00:00,  3.26it/s]\n",
      "Val Loss: 0.0204: 100%|██████████| 78/78 [00:13<00:00,  5.68it/s]\n"
     ]
    },
    {
     "name": "stdout",
     "output_type": "stream",
     "text": [
      "score : 0.6707\tthresh : 0.09\n",
      "\n"
     ]
    },
    {
     "name": "stderr",
     "output_type": "stream",
     "text": [
      "Epoch 16/50  Mem : 14.9GB  LR : 7.43E-05  Loss: 0.2398: 100%|██████████| 4848/4848 [25:01<00:00,  3.23it/s]\n",
      "Val Loss: 0.0202: 100%|██████████| 78/78 [00:13<00:00,  5.69it/s]\n"
     ]
    },
    {
     "name": "stdout",
     "output_type": "stream",
     "text": [
      "score : 0.6700\tthresh : 0.07\n",
      "\n"
     ]
    },
    {
     "name": "stderr",
     "output_type": "stream",
     "text": [
      "Epoch 17/50  Mem : 14.9GB  LR : 7.15E-05  Loss: 0.2376: 100%|██████████| 4848/4848 [24:50<00:00,  3.25it/s]\n",
      "Val Loss: 0.0205: 100%|██████████| 78/78 [00:13<00:00,  5.72it/s]\n"
     ]
    },
    {
     "name": "stdout",
     "output_type": "stream",
     "text": [
      "score : 0.6726\tthresh : 0.79\n",
      "\n"
     ]
    },
    {
     "name": "stderr",
     "output_type": "stream",
     "text": [
      "Epoch 18/50  Mem : 14.9GB  LR : 6.86E-05  Loss: 0.2383: 100%|██████████| 4848/4848 [24:59<00:00,  3.23it/s]\n",
      "Val Loss: 0.0208: 100%|██████████| 78/78 [00:13<00:00,  5.64it/s]\n"
     ]
    },
    {
     "name": "stdout",
     "output_type": "stream",
     "text": [
      "score : 0.6731\tthresh : 0.93\n",
      "\n"
     ]
    },
    {
     "name": "stderr",
     "output_type": "stream",
     "text": [
      "Epoch 19/50  Mem : 14.9GB  LR : 6.57E-05  Loss: 0.2378: 100%|██████████| 4848/4848 [24:51<00:00,  3.25it/s]\n",
      "Val Loss: 0.0204: 100%|██████████| 78/78 [00:13<00:00,  5.61it/s]\n"
     ]
    },
    {
     "name": "stdout",
     "output_type": "stream",
     "text": [
      "score : 0.6718\tthresh : 0.35\n",
      "\n"
     ]
    },
    {
     "name": "stderr",
     "output_type": "stream",
     "text": [
      "Epoch 20/50  Mem : 14.9GB  LR : 6.27E-05  Loss: 0.2366: 100%|██████████| 4848/4848 [24:53<00:00,  3.25it/s]\n",
      "Val Loss: 0.0207: 100%|██████████| 78/78 [00:13<00:00,  5.65it/s]\n"
     ]
    },
    {
     "name": "stdout",
     "output_type": "stream",
     "text": [
      "score : 0.6718\tthresh : 0.97\n",
      "\n"
     ]
    },
    {
     "name": "stderr",
     "output_type": "stream",
     "text": [
      "Epoch 21/50  Mem : 14.9GB  LR : 5.96E-05  Loss: 0.2358: 100%|██████████| 4848/4848 [24:55<00:00,  3.24it/s]\n",
      "Val Loss: 0.0203: 100%|██████████| 78/78 [00:13<00:00,  5.67it/s]\n"
     ]
    },
    {
     "name": "stdout",
     "output_type": "stream",
     "text": [
      "score : 0.6720\tthresh : 0.05\n",
      "\n"
     ]
    },
    {
     "name": "stderr",
     "output_type": "stream",
     "text": [
      "Epoch 22/50  Mem : 14.9GB  LR : 5.65E-05  Loss: 0.2352: 100%|██████████| 4848/4848 [24:54<00:00,  3.24it/s]\n",
      "Val Loss: 0.0205: 100%|██████████| 78/78 [00:13<00:00,  5.70it/s]\n"
     ]
    },
    {
     "name": "stdout",
     "output_type": "stream",
     "text": [
      "score : 0.6743\tthresh : 0.73\tSAVED MODEL\n",
      "\n"
     ]
    },
    {
     "name": "stderr",
     "output_type": "stream",
     "text": [
      "Epoch 23/50  Mem : 14.9GB  LR : 5.34E-05  Loss: 0.2348: 100%|██████████| 4848/4848 [25:02<00:00,  3.23it/s]\n",
      "Val Loss: 0.0205: 100%|██████████| 78/78 [00:13<00:00,  5.67it/s]\n"
     ]
    },
    {
     "name": "stdout",
     "output_type": "stream",
     "text": [
      "score : 0.6746\tthresh : 0.85\tSAVED MODEL\n",
      "\n"
     ]
    },
    {
     "name": "stderr",
     "output_type": "stream",
     "text": [
      "Epoch 24/50  Mem : 14.9GB  LR : 5.02E-05  Loss: 0.2341: 100%|██████████| 4848/4848 [24:56<00:00,  3.24it/s]\n",
      "Val Loss: 0.0201: 100%|██████████| 78/78 [00:13<00:00,  5.65it/s]\n"
     ]
    },
    {
     "name": "stdout",
     "output_type": "stream",
     "text": [
      "score : 0.6733\tthresh : 0.03\n",
      "\n"
     ]
    },
    {
     "name": "stderr",
     "output_type": "stream",
     "text": [
      "Epoch 25/50  Mem : 14.9GB  LR : 4.71E-05  Loss: 0.2329: 100%|██████████| 4848/4848 [24:54<00:00,  3.24it/s]\n",
      "Val Loss: 0.0203: 100%|██████████| 78/78 [00:13<00:00,  5.68it/s]\n"
     ]
    },
    {
     "name": "stdout",
     "output_type": "stream",
     "text": [
      "score : 0.6727\tthresh : 0.05\n",
      "\n"
     ]
    },
    {
     "name": "stderr",
     "output_type": "stream",
     "text": [
      "Epoch 26/50  Mem : 14.9GB  LR : 4.40E-05  Loss: 0.2320: 100%|██████████| 4848/4848 [24:54<00:00,  3.24it/s]\n",
      "Val Loss: 0.0202: 100%|██████████| 78/78 [00:13<00:00,  5.64it/s]\n"
     ]
    },
    {
     "name": "stdout",
     "output_type": "stream",
     "text": [
      "score : 0.6756\tthresh : 0.09\tSAVED MODEL\n",
      "\n"
     ]
    },
    {
     "name": "stderr",
     "output_type": "stream",
     "text": [
      "Epoch 27/50  Mem : 14.9GB  LR : 4.09E-05  Loss: 0.2332: 100%|██████████| 4848/4848 [24:56<00:00,  3.24it/s]\n",
      "Val Loss: 0.0206: 100%|██████████| 78/78 [00:13<00:00,  5.66it/s]\n"
     ]
    },
    {
     "name": "stdout",
     "output_type": "stream",
     "text": [
      "score : 0.6742\tthresh : 0.99\n",
      "\n"
     ]
    },
    {
     "name": "stderr",
     "output_type": "stream",
     "text": [
      "Epoch 28/50  Mem : 14.9GB  LR : 3.78E-05  Loss: 0.2320: 100%|██████████| 4848/4848 [24:41<00:00,  3.27it/s]\n",
      "Val Loss: 0.0206: 100%|██████████| 78/78 [00:13<00:00,  5.71it/s]\n"
     ]
    },
    {
     "name": "stdout",
     "output_type": "stream",
     "text": [
      "score : 0.6736\tthresh : 0.87\n",
      "\n"
     ]
    },
    {
     "name": "stderr",
     "output_type": "stream",
     "text": [
      "Epoch 29/50  Mem : 14.9GB  LR : 3.48E-05  Loss: 0.2317: 100%|██████████| 4848/4848 [24:53<00:00,  3.25it/s]\n",
      "Val Loss: 0.0204: 100%|██████████| 78/78 [00:13<00:00,  5.71it/s]\n"
     ]
    },
    {
     "name": "stdout",
     "output_type": "stream",
     "text": [
      "score : 0.6742\tthresh : 0.23\n",
      "\n"
     ]
    },
    {
     "name": "stderr",
     "output_type": "stream",
     "text": [
      "Epoch 30/50  Mem : 14.9GB  LR : 3.18E-05  Loss: 0.2314: 100%|██████████| 4848/4848 [24:56<00:00,  3.24it/s]\n",
      "Val Loss: 0.0205: 100%|██████████| 78/78 [00:13<00:00,  5.71it/s]\n"
     ]
    },
    {
     "name": "stdout",
     "output_type": "stream",
     "text": [
      "score : 0.6747\tthresh : 0.75\n",
      "\n"
     ]
    },
    {
     "name": "stderr",
     "output_type": "stream",
     "text": [
      "Epoch 31/50  Mem : 14.9GB  LR : 2.90E-05  Loss: 0.2307: 100%|██████████| 4848/4848 [24:58<00:00,  3.24it/s]\n",
      "Val Loss: 0.0204: 100%|██████████| 78/78 [00:13<00:00,  5.68it/s]\n"
     ]
    },
    {
     "name": "stdout",
     "output_type": "stream",
     "text": [
      "score : 0.6745\tthresh : 0.31\n",
      "\n"
     ]
    },
    {
     "name": "stderr",
     "output_type": "stream",
     "text": [
      "Epoch 32/50  Mem : 14.9GB  LR : 2.62E-05  Loss: 0.2304: 100%|██████████| 4848/4848 [24:50<00:00,  3.25it/s]\n",
      "Val Loss: 0.0205: 100%|██████████| 78/78 [00:13<00:00,  5.68it/s]\n"
     ]
    },
    {
     "name": "stdout",
     "output_type": "stream",
     "text": [
      "score : 0.6743\tthresh : 0.39\n",
      "\n"
     ]
    },
    {
     "name": "stderr",
     "output_type": "stream",
     "text": [
      "Epoch 33/50  Mem : 14.9GB  LR : 2.35E-05  Loss: 0.2298: 100%|██████████| 4848/4848 [24:53<00:00,  3.25it/s]\n",
      "Val Loss: 0.0204: 100%|██████████| 78/78 [00:13<00:00,  5.67it/s]\n"
     ]
    },
    {
     "name": "stdout",
     "output_type": "stream",
     "text": [
      "score : 0.6750\tthresh : 0.21\n",
      "\n"
     ]
    },
    {
     "name": "stderr",
     "output_type": "stream",
     "text": [
      "Epoch 34/50  Mem : 14.9GB  LR : 2.09E-05  Loss: 0.2296: 100%|██████████| 4848/4848 [24:59<00:00,  3.23it/s]\n",
      "Val Loss: 0.0206: 100%|██████████| 78/78 [00:13<00:00,  5.60it/s]\n"
     ]
    },
    {
     "name": "stdout",
     "output_type": "stream",
     "text": [
      "score : 0.6743\tthresh : 0.57\n",
      "\n"
     ]
    },
    {
     "name": "stderr",
     "output_type": "stream",
     "text": [
      "Epoch 35/50  Mem : 14.9GB  LR : 1.84E-05  Loss: 0.2294: 100%|██████████| 4848/4848 [25:05<00:00,  3.22it/s]\n",
      "Val Loss: 0.0203: 100%|██████████| 78/78 [00:13<00:00,  5.74it/s]\n"
     ]
    },
    {
     "name": "stdout",
     "output_type": "stream",
     "text": [
      "score : 0.6754\tthresh : 0.07\n",
      "\n"
     ]
    },
    {
     "name": "stderr",
     "output_type": "stream",
     "text": [
      "Epoch 36/50  Mem : 14.9GB  LR : 1.60E-05  Loss: 0.2290: 100%|██████████| 4848/4848 [24:55<00:00,  3.24it/s]\n",
      "Val Loss: 0.0207: 100%|██████████| 78/78 [00:13<00:00,  5.71it/s]\n"
     ]
    },
    {
     "name": "stdout",
     "output_type": "stream",
     "text": [
      "score : 0.6748\tthresh : 0.79\n",
      "\n"
     ]
    },
    {
     "name": "stderr",
     "output_type": "stream",
     "text": [
      "Epoch 37/50  Mem : 14.9GB  LR : 1.38E-05  Loss: 0.2281: 100%|██████████| 4848/4848 [24:59<00:00,  3.23it/s]\n",
      "Val Loss: 0.0204: 100%|██████████| 78/78 [00:13<00:00,  5.65it/s]\n"
     ]
    },
    {
     "name": "stdout",
     "output_type": "stream",
     "text": [
      "score : 0.6749\tthresh : 0.23\n",
      "\n"
     ]
    },
    {
     "name": "stderr",
     "output_type": "stream",
     "text": [
      "Epoch 38/50  Mem : 14.9GB  LR : 1.17E-05  Loss: 0.2280: 100%|██████████| 4848/4848 [24:55<00:00,  3.24it/s]\n",
      "Val Loss: 0.0203: 100%|██████████| 78/78 [00:13<00:00,  5.72it/s]\n"
     ]
    },
    {
     "name": "stdout",
     "output_type": "stream",
     "text": [
      "score : 0.6745\tthresh : 0.27\n",
      "\n"
     ]
    },
    {
     "name": "stderr",
     "output_type": "stream",
     "text": [
      "Epoch 39/50  Mem : 14.9GB  LR : 9.81E-06  Loss: 0.2284: 100%|██████████| 4848/4848 [24:48<00:00,  3.26it/s]\n",
      "Val Loss: 0.0204: 100%|██████████| 78/78 [00:13<00:00,  5.60it/s]\n"
     ]
    },
    {
     "name": "stdout",
     "output_type": "stream",
     "text": [
      "score : 0.6755\tthresh : 0.95\n",
      "\n"
     ]
    },
    {
     "name": "stderr",
     "output_type": "stream",
     "text": [
      "Epoch 40/50  Mem : 14.9GB  LR : 8.04E-06  Loss: 0.2280: 100%|██████████| 4848/4848 [25:02<00:00,  3.23it/s]\n",
      "Val Loss: 0.0203: 100%|██████████| 78/78 [00:13<00:00,  5.70it/s]\n"
     ]
    },
    {
     "name": "stdout",
     "output_type": "stream",
     "text": [
      "score : 0.6754\tthresh : 0.67\n",
      "\n"
     ]
    },
    {
     "name": "stderr",
     "output_type": "stream",
     "text": [
      "Epoch 41/50  Mem : 14.9GB  LR : 6.44E-06  Loss: 0.2275: 100%|██████████| 4848/4848 [25:01<00:00,  3.23it/s]\n",
      "Val Loss: 0.0204: 100%|██████████| 78/78 [00:13<00:00,  5.68it/s]\n"
     ]
    },
    {
     "name": "stdout",
     "output_type": "stream",
     "text": [
      "score : 0.6753\tthresh : 0.51\n",
      "\n"
     ]
    },
    {
     "name": "stderr",
     "output_type": "stream",
     "text": [
      "Epoch 42/50  Mem : 14.9GB  LR : 5.01E-06  Loss: 0.2270: 100%|██████████| 4848/4848 [25:00<00:00,  3.23it/s]\n",
      "Val Loss: 0.0202: 100%|██████████| 78/78 [00:13<00:00,  5.68it/s]\n"
     ]
    },
    {
     "name": "stdout",
     "output_type": "stream",
     "text": [
      "score : 0.6755\tthresh : 0.19\n",
      "\n"
     ]
    },
    {
     "name": "stderr",
     "output_type": "stream",
     "text": [
      "Epoch 43/50  Mem : 14.9GB  LR : 3.76E-06  Loss: 0.2279: 100%|██████████| 4848/4848 [24:54<00:00,  3.24it/s]\n",
      "Val Loss: 0.0202: 100%|██████████| 78/78 [00:13<00:00,  5.68it/s]\n"
     ]
    },
    {
     "name": "stdout",
     "output_type": "stream",
     "text": [
      "score : 0.6748\tthresh : 0.05\n",
      "\n"
     ]
    },
    {
     "name": "stderr",
     "output_type": "stream",
     "text": [
      "Epoch 44/50  Mem : 14.9GB  LR : 2.69E-06  Loss: 0.2270: 100%|██████████| 4848/4848 [25:00<00:00,  3.23it/s]\n",
      "Val Loss: 0.0204: 100%|██████████| 78/78 [00:13<00:00,  5.68it/s]\n"
     ]
    },
    {
     "name": "stdout",
     "output_type": "stream",
     "text": [
      "score : 0.6752\tthresh : 0.81\n",
      "\n"
     ]
    },
    {
     "name": "stderr",
     "output_type": "stream",
     "text": [
      "Epoch 45/50  Mem : 14.9GB  LR : 1.80E-06  Loss: 0.2282: 100%|██████████| 4848/4848 [24:52<00:00,  3.25it/s]\n",
      "Val Loss: 0.0203: 100%|██████████| 78/78 [00:13<00:00,  5.77it/s]\n"
     ]
    },
    {
     "name": "stdout",
     "output_type": "stream",
     "text": [
      "score : 0.6754\tthresh : 0.77\n",
      "\n"
     ]
    },
    {
     "name": "stderr",
     "output_type": "stream",
     "text": [
      "Epoch 46/50  Mem : 14.9GB  LR : 1.11E-06  Loss: 0.2270: 100%|██████████| 4848/4848 [25:03<00:00,  3.23it/s]\n",
      "Val Loss: 0.0204: 100%|██████████| 78/78 [00:13<00:00,  5.74it/s]\n"
     ]
    },
    {
     "name": "stdout",
     "output_type": "stream",
     "text": [
      "score : 0.6753\tthresh : 0.67\n",
      "\n"
     ]
    },
    {
     "name": "stderr",
     "output_type": "stream",
     "text": [
      "Epoch 47/50  Mem : 14.9GB  LR : 5.99E-07  Loss: 0.2274: 100%|██████████| 4848/4848 [24:54<00:00,  3.24it/s]\n",
      "Val Loss: 0.0203: 100%|██████████| 78/78 [00:13<00:00,  5.67it/s]\n"
     ]
    },
    {
     "name": "stdout",
     "output_type": "stream",
     "text": [
      "score : 0.6752\tthresh : 0.57\n",
      "\n"
     ]
    },
    {
     "name": "stderr",
     "output_type": "stream",
     "text": [
      "Epoch 48/50  Mem : 14.9GB  LR : 2.75E-07  Loss: 0.2271: 100%|██████████| 4848/4848 [24:59<00:00,  3.23it/s]\n",
      "Val Loss: 0.0204: 100%|██████████| 78/78 [00:13<00:00,  5.68it/s]\n"
     ]
    },
    {
     "name": "stdout",
     "output_type": "stream",
     "text": [
      "score : 0.6752\tthresh : 0.89\n",
      "\n"
     ]
    },
    {
     "name": "stderr",
     "output_type": "stream",
     "text": [
      "Epoch 49/50  Mem : 14.9GB  LR : 1.25E-07  Loss: 0.2262: 100%|██████████| 4848/4848 [24:57<00:00,  3.24it/s]\n",
      "Val Loss: 0.0206: 100%|██████████| 78/78 [00:13<00:00,  5.68it/s]\n"
     ]
    },
    {
     "name": "stdout",
     "output_type": "stream",
     "text": [
      "score : 0.6753\tthresh : 0.89\n",
      "\n"
     ]
    }
   ],
   "source": [
    "if CFG.debug:\n",
    "    print(\"!!!Debug mode!!!\\n\")\n",
    "\n",
    "for fold in range(CFG.fold):\n",
    "    print(f\"fold : {fold}\\n\")\n",
    "    dataset_train = ContrailsDataset(train_df[train_df[\"fold\"] != fold], CFG.train_aug_list, \"pseudo_train\")\n",
    "    dataloader_train = DataLoader(dataset_train, batch_size=CFG.train_batch_size, shuffle=True, num_workers=CFG.num_workers)\n",
    "\n",
    "    model, dice_score, thresh = load_model(CFG.train_model_path[fold])\n",
    "    print(f\"model_dice_score:  {dice_score:.4f}\")\n",
    "    num_gpus = torch.cuda.device_count()\n",
    "    device_ids = list(range(num_gpus))\n",
    "    model = nn.DataParallel(model, device_ids=device_ids)\n",
    "\n",
    "    scaler = amp.GradScaler()\n",
    "    criterion = smp.losses.DiceLoss(mode=\"multilabel\", smooth=CFG.smooth)\n",
    "    optimizer = torch.optim.AdamW(model.parameters(), lr=CFG.lr)\n",
    "    scheduler = torch.optim.lr_scheduler.CosineAnnealingLR(optimizer, CFG.epochs, eta_min=1e-7)\n",
    "    thresholds_to_test = [round(x * 0.01, 2) for x in range(1, 101, 2)]\n",
    "\n",
    "    dice_score = 0\n",
    "    slacknotify=SlackNotify(f\"{CFG.exp_description} fold: {fold}\")\n",
    "    for epoch in range(CFG.epochs):\n",
    "        model.train()\n",
    "\n",
    "        pbar_train = enumerate(dataloader_train)\n",
    "        pbar_train = tqdm(pbar_train, total=len(dataloader_train), bar_format=\"{l_bar}{bar:10}{r_bar}{bar:-0b}\")\n",
    "        loss_train, loss_val = 0.0, 0.0\n",
    "        for i, (images, masks) in pbar_train:\n",
    "            images, masks = images.cuda(), masks.cuda()\n",
    "            optimizer.zero_grad()\n",
    "            with amp.autocast():\n",
    "                preds = model(images)\n",
    "                loss = criterion(preds, masks)\n",
    "                scaler.scale(loss).backward()\n",
    "                scaler.step(optimizer)\n",
    "                scaler.update()\n",
    "                loss_train += loss.detach().item()\n",
    "\n",
    "            lr = f\"LR : {scheduler.get_lr()[0]:.2E}\"\n",
    "            gpu_mem = f\"Mem : {torch.cuda.memory_reserved() / 1E9:.3g}GB\"\n",
    "            pbar_train.set_description((\"%10s  \" * 3 + \"%10s\") % (f\"Epoch {epoch}/{CFG.epochs}\", gpu_mem, lr,\n",
    "                                                                  f\"Loss: {loss_train / (i + 1):.4f}\"))\n",
    "\n",
    "        scheduler.step()\n",
    "        model.eval()\n",
    "\n",
    "        cum_pred = []\n",
    "        cum_true = []\n",
    "        pbar_val = enumerate(dataloader_valid)\n",
    "        pbar_val = tqdm(pbar_val, total=len(dataloader_valid), bar_format=\"{l_bar}{bar:10}{r_bar}{bar:-10b}\")\n",
    "        for i, (images, masks) in pbar_val:\n",
    "            images, masks = images.cuda(), masks.cuda()\n",
    "            with torch.no_grad():\n",
    "                preds = model(images)[:, 2]\n",
    "                loss_val += criterion(preds, masks).item()\n",
    "                preds = torch.sigmoid(preds)\n",
    "                cum_pred.append(preds.cpu().detach().numpy())\n",
    "                cum_true.append(masks.cpu().detach().numpy())\n",
    "\n",
    "            pbar_val.set_description((\"%10s\") % (f\"Val Loss: {loss_val / (i+1):.4f}\"))\n",
    "\n",
    "        cum_pred = torch.flatten(torch.from_numpy(np.concatenate(cum_pred, axis=0)))\n",
    "        cum_true = torch.flatten(torch.from_numpy(np.concatenate(cum_true, axis=0)))\n",
    "\n",
    "        dice_score_, thresh = calc_optim_thresh(cum_pred, cum_true, thresholds_to_test)\n",
    "\n",
    "        if dice_score_ > dice_score:\n",
    "            print(f\"score : {dice_score_:.4f}\\tthresh : {thresh}\\tSAVED MODEL\\n\")\n",
    "            slacknotify.send_reply(f\"epoch : {epoch}\\tscore : {dice_score_:.4f}\\tBEST\")\n",
    "            epoch_best = epoch\n",
    "            dice_score = dice_score_\n",
    "            torch.save({'model': model.module.state_dict(), 'dice_score': dice_score, 'thresh': thresh,\n",
    "                        \"model_arch\": CFG.model_arch, \"backbone\": CFG.backbone, \"in_chans\": CFG.in_chans, \"target_size\": CFG.target_size,},\n",
    "                       f'./{CFG.exp_name}/{CFG.exp_name}_fold{fold}.pth')\n",
    "        else:\n",
    "            print(f\"score : {dice_score_:.4f}\\tthresh : {thresh}\\n\")\n",
    "            slacknotify.send_reply(f\"epoch : {epoch}\\tscore : {dice_score_:.4f}\")\n",
    "\n",
    "    slacknotify.send_reply(f\" {CFG.exp_description} training finished\\tbest score : {dice_score}\", True)"
   ]
  },
  {
   "attachments": {},
   "cell_type": "markdown",
   "metadata": {},
   "source": [
    "# Pseudo Labelling"
   ]
  },
  {
   "cell_type": "code",
   "execution_count": null,
   "metadata": {},
   "outputs": [],
   "source": [
    "def pseudo_inference(dataloader_label, model, thresh, save_dir):\n",
    "    os.makedirs(save_dir, exist_ok=True)\n",
    "    for i, (images, record_ids, times) in tqdm(enumerate(dataloader_label), total=len(dataloader_label)):\n",
    "        images = images.cuda()\n",
    "        with torch.no_grad():\n",
    "            preds = model(images)\n",
    "        preds = torch.sigmoid(preds).cpu().detach().numpy()\n",
    "        preds_thresh = np.where(preds > thresh, 1, 0)\n",
    "\n",
    "        for num in range(images.shape[0]):\n",
    "            pred = preds_thresh[num, :, :, :].transpose(1, 2, 0)\n",
    "            record_id = int(record_ids[num])\n",
    "            time = int(times[num])\n",
    "            save_path = f\"{save_dir}/{record_id}_{time}.npy\"\n",
    "            np.save(save_path, pred)"
   ]
  },
  {
   "cell_type": "code",
   "execution_count": null,
   "metadata": {},
   "outputs": [
    {
     "name": "stdout",
     "output_type": "stream",
     "text": [
      "model_arch:  Unet\n",
      "backbone:  timm-resnest200e\n",
      "dice_score = 0.6812\n",
      "thresh = 0.27\n"
     ]
    },
    {
     "name": "stderr",
     "output_type": "stream",
     "text": [
      "100%|██████████| 2246/2246 [1:21:13<00:00,  2.17s/it]  \n"
     ]
    },
    {
     "name": "stdout",
     "output_type": "stream",
     "text": [
      "model_arch:  Unet\n",
      "backbone:  timm-resnest200e\n",
      "dice_score = 0.6777\n",
      "thresh = 0.91\n"
     ]
    },
    {
     "name": "stderr",
     "output_type": "stream",
     "text": [
      "100%|██████████| 2246/2246 [1:10:27<00:00,  1.88s/it]\n"
     ]
    }
   ],
   "source": [
    "for fold in range(CFG.fold):\n",
    "    label_df = train_df[train_df[\"fold\"] == fold]\n",
    "\n",
    "    dataset_label = ContrailsDataset(label_df, CFG.valid_aug_list, \"pseudo_labeling\")\n",
    "    dataloader_label = DataLoader(dataset_label, batch_size=CFG.valid_batch_size, num_workers=CFG.num_workers)\n",
    "\n",
    "    model_path = sorted(glob(f\"./{CFG.exp_name}/*.pth\"))[fold]\n",
    "    model, dice_score, thresh = load_model(model_path)\n",
    "    model.eval()\n",
    "    print(f\"{dice_score = :.4f}\")\n",
    "    print(f\"{thresh = }\")\n",
    "\n",
    "    pseudo_inference(dataloader_label, model, thresh, CFG.new_label_path)"
   ]
  },
  {
   "cell_type": "code",
   "execution_count": 18,
   "metadata": {},
   "outputs": [
    {
     "data": {
      "image/png": "[encoded data removed]",
      "text/plain": [
       "<Figure size 2500x1000 with 7 Axes>"
      ]
     },
     "metadata": {},
     "output_type": "display_data"
    }
   ],
   "source": [
    "no = 16\n",
    "id = os.listdir(CFG.new_label_path)[no*7].split(\"_\")[0]\n",
    "fig, ax = plt.subplots(1, 7, figsize=(25, 10))\n",
    "for i, time in enumerate([0, 1, 2, 3, 5, 6, 7]):\n",
    "    npy = np.load(f\"{CFG.new_label_path}/{id}_{time}.npy\")\n",
    "    ax[i].imshow(npy)"
   ]
  },
  {
   "cell_type": "code",
   "execution_count": 25,
   "metadata": {},
   "outputs": [
    {
     "name": "stdout",
     "output_type": "stream",
     "text": [
      "model_arch:  Unet\n",
      "backbone:  timm-resnest200e\n",
      "dice_score = 0.6812\n",
      "thresh = 0.27\n"
     ]
    },
    {
     "name": "stderr",
     "output_type": "stream",
     "text": [
      " 77%|███████▋  | 494/642 [18:21<05:30,  2.23s/it]\n"
     ]
    },
    {
     "ename": "KeyboardInterrupt",
     "evalue": "",
     "output_type": "error",
     "traceback": [
      "\u001b[0;31m---------------------------------------------------------------------------\u001b[0m",
      "\u001b[0;31mKeyboardInterrupt\u001b[0m                         Traceback (most recent call last)",
      "Cell \u001b[0;32mIn[25], line 12\u001b[0m\n\u001b[1;32m      9\u001b[0m \u001b[39mprint\u001b[39m(\u001b[39mf\u001b[39m\u001b[39m\"\u001b[39m\u001b[39m{\u001b[39;00mdice_score\u001b[39m \u001b[39m\u001b[39m= :\u001b[39;00m\u001b[39m.4f\u001b[39m\u001b[39m}\u001b[39;00m\u001b[39m\"\u001b[39m)\n\u001b[1;32m     10\u001b[0m \u001b[39mprint\u001b[39m(\u001b[39mf\u001b[39m\u001b[39m\"\u001b[39m\u001b[39m{\u001b[39;00mthresh\u001b[39m \u001b[39m\u001b[39m= }\u001b[39;00m\u001b[39m\"\u001b[39m)\n\u001b[0;32m---> 12\u001b[0m pseudo_inference(dataloader_label, model, thresh, \u001b[39m\"\u001b[39;49m\u001b[39m/kaggle/working/dataset_train/pseud_ashcolor_4label/labels/valid\u001b[39;49m\u001b[39m\"\u001b[39;49m)\n",
      "Cell \u001b[0;32mIn[6], line 15\u001b[0m, in \u001b[0;36mpseudo_inference\u001b[0;34m(dataloader_label, model, thresh, save_dir)\u001b[0m\n\u001b[1;32m     13\u001b[0m time \u001b[39m=\u001b[39m \u001b[39mint\u001b[39m(times[num])\n\u001b[1;32m     14\u001b[0m save_path \u001b[39m=\u001b[39m \u001b[39mf\u001b[39m\u001b[39m\"\u001b[39m\u001b[39m{\u001b[39;00msave_dir\u001b[39m}\u001b[39;00m\u001b[39m/\u001b[39m\u001b[39m{\u001b[39;00mrecord_id\u001b[39m}\u001b[39;00m\u001b[39m_\u001b[39m\u001b[39m{\u001b[39;00mtime\u001b[39m}\u001b[39;00m\u001b[39m.npy\u001b[39m\u001b[39m\"\u001b[39m\n\u001b[0;32m---> 15\u001b[0m np\u001b[39m.\u001b[39;49msave(save_path, pred)\n",
      "File \u001b[0;32m/usr/local/lib/python3.10/dist-packages/numpy/lib/npyio.py:546\u001b[0m, in \u001b[0;36msave\u001b[0;34m(file, arr, allow_pickle, fix_imports)\u001b[0m\n\u001b[1;32m    544\u001b[0m \u001b[39mwith\u001b[39;00m file_ctx \u001b[39mas\u001b[39;00m fid:\n\u001b[1;32m    545\u001b[0m     arr \u001b[39m=\u001b[39m np\u001b[39m.\u001b[39masanyarray(arr)\n\u001b[0;32m--> 546\u001b[0m     \u001b[39mformat\u001b[39;49m\u001b[39m.\u001b[39;49mwrite_array(fid, arr, allow_pickle\u001b[39m=\u001b[39;49mallow_pickle,\n\u001b[1;32m    547\u001b[0m                        pickle_kwargs\u001b[39m=\u001b[39;49m\u001b[39mdict\u001b[39;49m(fix_imports\u001b[39m=\u001b[39;49mfix_imports))\n",
      "File \u001b[0;32m/usr/local/lib/python3.10/dist-packages/numpy/lib/format.py:730\u001b[0m, in \u001b[0;36mwrite_array\u001b[0;34m(fp, array, version, allow_pickle, pickle_kwargs)\u001b[0m\n\u001b[1;32m    728\u001b[0m \u001b[39melse\u001b[39;00m:\n\u001b[1;32m    729\u001b[0m     \u001b[39mif\u001b[39;00m isfileobj(fp):\n\u001b[0;32m--> 730\u001b[0m         array\u001b[39m.\u001b[39;49mtofile(fp)\n\u001b[1;32m    731\u001b[0m     \u001b[39melse\u001b[39;00m:\n\u001b[1;32m    732\u001b[0m         \u001b[39mfor\u001b[39;00m chunk \u001b[39min\u001b[39;00m numpy\u001b[39m.\u001b[39mnditer(\n\u001b[1;32m    733\u001b[0m                 array, flags\u001b[39m=\u001b[39m[\u001b[39m'\u001b[39m\u001b[39mexternal_loop\u001b[39m\u001b[39m'\u001b[39m, \u001b[39m'\u001b[39m\u001b[39mbuffered\u001b[39m\u001b[39m'\u001b[39m, \u001b[39m'\u001b[39m\u001b[39mzerosize_ok\u001b[39m\u001b[39m'\u001b[39m],\n\u001b[1;32m    734\u001b[0m                 buffersize\u001b[39m=\u001b[39mbuffersize, order\u001b[39m=\u001b[39m\u001b[39m'\u001b[39m\u001b[39mC\u001b[39m\u001b[39m'\u001b[39m):\n",
      "\u001b[0;31mKeyboardInterrupt\u001b[0m: "
     ]
    }
   ],
   "source": [
    "label_df = train_df[train_df[\"fold\"] == -1]\n",
    "\n",
    "dataset_label = ContrailsDataset(label_df, CFG.valid_aug_list, \"pseudo_labeling\")\n",
    "dataloader_label = DataLoader(dataset_label, batch_size=CFG.valid_batch_size, num_workers=CFG.num_workers)\n",
    "\n",
    "model_path = sorted(glob(f\"./{CFG.exp_name}/*.pth\"))[0]\n",
    "model, dice_score, thresh = load_model(model_path)\n",
    "model.eval()\n",
    "print(f\"{dice_score = :.4f}\")\n",
    "print(f\"{thresh = }\")\n",
    "\n",
    "pseudo_inference(dataloader_label, model, thresh, \"/kaggle/working/dataset_train/pseud_ashcolor_4label/labels/valid\")"
   ]
  },
  {
   "cell_type": "code",
   "execution_count": null,
   "metadata": {},
   "outputs": [],
   "source": []
  },
  {
   "cell_type": "code",
   "execution_count": null,
   "metadata": {},
   "outputs": [],
   "source": []
  }
 ],
 "metadata": {
  "kernelspec": {
   "display_name": "Python 3",
   "language": "python",
   "name": "python3"
  },
  "language_info": {
   "codemirror_mode": {
    "name": "ipython",
    "version": 3
   },
   "file_extension": ".py",
   "mimetype": "text/x-python",
   "name": "python",
   "nbconvert_exporter": "python",
   "pygments_lexer": "ipython3",
   "version": "3.10.11"
  }
 },
 "nbformat": 4,
 "nbformat_minor": 4
}

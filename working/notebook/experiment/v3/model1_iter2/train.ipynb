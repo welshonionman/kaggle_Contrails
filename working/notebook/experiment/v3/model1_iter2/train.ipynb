{
 "cells": [
  {
   "cell_type": "code",
   "execution_count": 1,
   "metadata": {
    "execution": {
     "iopub.execute_input": "2023-06-29T21:01:33.544963Z",
     "iopub.status.busy": "2023-06-29T21:01:33.544701Z",
     "iopub.status.idle": "2023-06-29T21:01:36.630775Z",
     "shell.execute_reply": "2023-06-29T21:01:36.630234Z"
    }
   },
   "outputs": [],
   "source": [
    "import gc\n",
    "import os\n",
    "import sys\n",
    "import warnings\n",
    "from glob import glob\n",
    "import matplotlib.pyplot as plt\n",
    "\n",
    "from sklearn.model_selection import KFold\n",
    "import albumentations as A\n",
    "from albumentations.pytorch import ToTensorV2\n",
    "import pandas as pd\n",
    "import cv2\n",
    "import torch\n",
    "import torch.nn as nn\n",
    "import torch.nn.functional as F\n",
    "from torch.utils.data import DataLoader\n",
    "import segmentation_models_pytorch as smp\n",
    "from torch.cuda import amp\n",
    "from tqdm import tqdm"
   ]
  },
  {
   "cell_type": "code",
   "execution_count": 2,
   "metadata": {
    "execution": {
     "iopub.execute_input": "2023-06-29T21:01:36.632719Z",
     "iopub.status.busy": "2023-06-29T21:01:36.632512Z",
     "iopub.status.idle": "2023-06-29T21:01:36.685343Z",
     "shell.execute_reply": "2023-06-29T21:01:36.684764Z"
    }
   },
   "outputs": [],
   "source": [
    "sys.path.append('../')\n",
    "from script.metrics import *\n",
    "from script.dataset import *\n",
    "from script.helper import *\n",
    "from script.scheduler import *\n",
    "from script.model import *\n",
    "from script.loss import *"
   ]
  },
  {
   "cell_type": "code",
   "execution_count": 8,
   "metadata": {
    "execution": {
     "iopub.execute_input": "2023-06-29T21:01:36.687322Z",
     "iopub.status.busy": "2023-06-29T21:01:36.687064Z",
     "iopub.status.idle": "2023-06-29T21:01:36.709579Z",
     "shell.execute_reply": "2023-06-29T21:01:36.709126Z"
    }
   },
   "outputs": [],
   "source": [
    "class CFG:\n",
    "    debug = False\n",
    "    # ============== comp exp name =============\n",
    "    comp_name = 'contrail'\n",
    "    comp_dir_path = '/kaggle/input/'\n",
    "    comp_folder_name = 'google-research-identify-contrails-reduce-global-warming'\n",
    "\n",
    "    dataset_path = \"/kaggle/working/dataset_train/pseud_ashcolor_4label\"\n",
    "    train_label_path = f\"{dataset_path}/labels/model1_iter_1/\"\n",
    "    new_label_path = f\"{dataset_path}/labels/model1_iter_2/\"\n",
    "    train_model_path = [\"/kaggle/working/notebook/experiment/v3/model1_iter1/model1_iter1/model1_iter1_fold0.pth\",\n",
    "                        \"/kaggle/working/notebook/experiment/v3/model1_iter1/model1_iter1/model1_iter1_fold0.pth\",\n",
    "                        \"/kaggle/working/notebook/experiment/v3/model1_iter1/model1_iter1/model1_iter1_fold1.pth\",\n",
    "                        \"/kaggle/working/notebook/experiment/v3/model1_iter1/model1_iter1/model1_iter1_fold1.pth\",\n",
    "                        ]\n",
    "    \n",
    "    exp_name = os.getcwd().split('/')[-1]\n",
    "    exp_description = \"pseudo_ashcolor_4label_iter2\"\n",
    "\n",
    "    # ============== model cfg =============\n",
    "    model_arch = 'Unet'\n",
    "    backbone = 'timm-resnest200e'\n",
    "    in_chans = 3\n",
    "    target_size = 4\n",
    "    fold = 4\n",
    "\n",
    "    # ============== training cfg =============\n",
    "    train_batch_size = 32\n",
    "    valid_batch_size = train_batch_size\n",
    "\n",
    "    epochs = 50\n",
    "    if debug:\n",
    "        epochs = 2\n",
    "\n",
    "    lr = 1e-4\n",
    "    loss = \"DiceLoss\"\n",
    "    smooth = 300\n",
    "\n",
    "    # ============== fixed =============\n",
    "    num_workers = 4\n",
    "    seed = 42\n",
    "\n",
    "    # ============== augmentation =============\n",
    "    train_aug_list = [\n",
    "        A.RandomRotate90(),\n",
    "        A.RandomBrightnessContrast(),\n",
    "        # A.ShiftScaleRotate(p=0.5, rotate_limit=(10, 10)),\n",
    "        # A.GridDistortion(num_steps=5, distort_limit=0.3, p=0.5),\n",
    "        A.CoarseDropout(max_holes=10, max_width=int(256 * 0.05), max_height=int(256 * 0.05),\n",
    "                        mask_fill_value=0, p=0.5),\n",
    "        A.RandomGridShuffle(),\n",
    "        ToTensorV2(transpose_mask=True),\n",
    "    ]\n",
    "\n",
    "    valid_aug_list = [\n",
    "        ToTensorV2(transpose_mask=True),\n",
    "    ]\n",
    "\n",
    "\n",
    "warnings.filterwarnings(\"ignore\")\n",
    "torch.backends.cudnn.benchmark = True\n",
    "set_seed(CFG.seed)\n",
    "os.makedirs(f'./{CFG.exp_name}/', exist_ok=True)\n",
    "pd.set_option('display.max_rows', 500)\n",
    "pd.options.display.max_colwidth = 300"
   ]
  },
  {
   "attachments": {},
   "cell_type": "markdown",
   "metadata": {},
   "source": [
    "# Dataset"
   ]
  },
  {
   "cell_type": "code",
   "execution_count": 4,
   "metadata": {
    "execution": {
     "iopub.execute_input": "2023-06-29T21:01:36.711422Z",
     "iopub.status.busy": "2023-06-29T21:01:36.711198Z",
     "iopub.status.idle": "2023-06-29T21:01:36.745147Z",
     "shell.execute_reply": "2023-06-29T21:01:36.744651Z"
    }
   },
   "outputs": [
    {
     "data": {
      "text/html": [
       "<div>\n",
       "<style scoped>\n",
       "    .dataframe tbody tr th:only-of-type {\n",
       "        vertical-align: middle;\n",
       "    }\n",
       "\n",
       "    .dataframe tbody tr th {\n",
       "        vertical-align: top;\n",
       "    }\n",
       "\n",
       "    .dataframe thead th {\n",
       "        text-align: right;\n",
       "    }\n",
       "</style>\n",
       "<table border=\"1\" class=\"dataframe\">\n",
       "  <thead>\n",
       "    <tr style=\"text-align: right;\">\n",
       "      <th></th>\n",
       "      <th>record_id</th>\n",
       "      <th>image_path</th>\n",
       "      <th>time</th>\n",
       "      <th>label_path</th>\n",
       "      <th>fold</th>\n",
       "    </tr>\n",
       "  </thead>\n",
       "  <tbody>\n",
       "    <tr>\n",
       "      <th>0</th>\n",
       "      <td>195731008142151</td>\n",
       "      <td>/kaggle/working/dataset_train/pseud_ashcolor_4label/images/195731008142151_0.npy</td>\n",
       "      <td>0</td>\n",
       "      <td>/kaggle/working/dataset_train/pseud_ashcolor_4label/labels/model1_iter_1/195731008142151_0.npy</td>\n",
       "      <td>1</td>\n",
       "    </tr>\n",
       "    <tr>\n",
       "      <th>1</th>\n",
       "      <td>195731008142151</td>\n",
       "      <td>/kaggle/working/dataset_train/pseud_ashcolor_4label/images/195731008142151_1.npy</td>\n",
       "      <td>1</td>\n",
       "      <td>/kaggle/working/dataset_train/pseud_ashcolor_4label/labels/model1_iter_1/195731008142151_1.npy</td>\n",
       "      <td>3</td>\n",
       "    </tr>\n",
       "    <tr>\n",
       "      <th>2</th>\n",
       "      <td>195731008142151</td>\n",
       "      <td>/kaggle/working/dataset_train/pseud_ashcolor_4label/images/195731008142151_2.npy</td>\n",
       "      <td>2</td>\n",
       "      <td>/kaggle/working/dataset_train/pseud_ashcolor_4label/labels/model1_iter_1/195731008142151_2.npy</td>\n",
       "      <td>3</td>\n",
       "    </tr>\n",
       "    <tr>\n",
       "      <th>3</th>\n",
       "      <td>195731008142151</td>\n",
       "      <td>/kaggle/working/dataset_train/pseud_ashcolor_4label/images/195731008142151_3.npy</td>\n",
       "      <td>3</td>\n",
       "      <td>/kaggle/working/dataset_train/pseud_ashcolor_4label/labels/model1_iter_1/195731008142151_3.npy</td>\n",
       "      <td>0</td>\n",
       "    </tr>\n",
       "    <tr>\n",
       "      <th>4</th>\n",
       "      <td>195731008142151</td>\n",
       "      <td>/kaggle/working/dataset_train/pseud_ashcolor_4label/images/195731008142151_4.npy</td>\n",
       "      <td>4</td>\n",
       "      <td>/kaggle/working/dataset_train/pseud_ashcolor_4label/labels/true/195731008142151_4.npy</td>\n",
       "      <td>-1</td>\n",
       "    </tr>\n",
       "    <tr>\n",
       "      <th>5</th>\n",
       "      <td>195731008142151</td>\n",
       "      <td>/kaggle/working/dataset_train/pseud_ashcolor_4label/images/195731008142151_5.npy</td>\n",
       "      <td>5</td>\n",
       "      <td>/kaggle/working/dataset_train/pseud_ashcolor_4label/labels/model1_iter_1/195731008142151_5.npy</td>\n",
       "      <td>3</td>\n",
       "    </tr>\n",
       "    <tr>\n",
       "      <th>6</th>\n",
       "      <td>195731008142151</td>\n",
       "      <td>/kaggle/working/dataset_train/pseud_ashcolor_4label/images/195731008142151_6.npy</td>\n",
       "      <td>6</td>\n",
       "      <td>/kaggle/working/dataset_train/pseud_ashcolor_4label/labels/model1_iter_1/195731008142151_6.npy</td>\n",
       "      <td>0</td>\n",
       "    </tr>\n",
       "    <tr>\n",
       "      <th>7</th>\n",
       "      <td>195731008142151</td>\n",
       "      <td>/kaggle/working/dataset_train/pseud_ashcolor_4label/images/195731008142151_7.npy</td>\n",
       "      <td>7</td>\n",
       "      <td>/kaggle/working/dataset_train/pseud_ashcolor_4label/labels/model1_iter_1/195731008142151_7.npy</td>\n",
       "      <td>3</td>\n",
       "    </tr>\n",
       "    <tr>\n",
       "      <th>8</th>\n",
       "      <td>1108741208571075</td>\n",
       "      <td>/kaggle/working/dataset_train/pseud_ashcolor_4label/images/1108741208571075_0.npy</td>\n",
       "      <td>0</td>\n",
       "      <td>/kaggle/working/dataset_train/pseud_ashcolor_4label/labels/model1_iter_1/1108741208571075_0.npy</td>\n",
       "      <td>3</td>\n",
       "    </tr>\n",
       "    <tr>\n",
       "      <th>9</th>\n",
       "      <td>1108741208571075</td>\n",
       "      <td>/kaggle/working/dataset_train/pseud_ashcolor_4label/images/1108741208571075_1.npy</td>\n",
       "      <td>1</td>\n",
       "      <td>/kaggle/working/dataset_train/pseud_ashcolor_4label/labels/model1_iter_1/1108741208571075_1.npy</td>\n",
       "      <td>1</td>\n",
       "    </tr>\n",
       "  </tbody>\n",
       "</table>\n",
       "</div>"
      ],
      "text/plain": [
       "          record_id  \\\n",
       "0   195731008142151   \n",
       "1   195731008142151   \n",
       "2   195731008142151   \n",
       "3   195731008142151   \n",
       "4   195731008142151   \n",
       "5   195731008142151   \n",
       "6   195731008142151   \n",
       "7   195731008142151   \n",
       "8  1108741208571075   \n",
       "9  1108741208571075   \n",
       "\n",
       "                                                                          image_path  \\\n",
       "0   /kaggle/working/dataset_train/pseud_ashcolor_4label/images/195731008142151_0.npy   \n",
       "1   /kaggle/working/dataset_train/pseud_ashcolor_4label/images/195731008142151_1.npy   \n",
       "2   /kaggle/working/dataset_train/pseud_ashcolor_4label/images/195731008142151_2.npy   \n",
       "3   /kaggle/working/dataset_train/pseud_ashcolor_4label/images/195731008142151_3.npy   \n",
       "4   /kaggle/working/dataset_train/pseud_ashcolor_4label/images/195731008142151_4.npy   \n",
       "5   /kaggle/working/dataset_train/pseud_ashcolor_4label/images/195731008142151_5.npy   \n",
       "6   /kaggle/working/dataset_train/pseud_ashcolor_4label/images/195731008142151_6.npy   \n",
       "7   /kaggle/working/dataset_train/pseud_ashcolor_4label/images/195731008142151_7.npy   \n",
       "8  /kaggle/working/dataset_train/pseud_ashcolor_4label/images/1108741208571075_0.npy   \n",
       "9  /kaggle/working/dataset_train/pseud_ashcolor_4label/images/1108741208571075_1.npy   \n",
       "\n",
       "   time  \\\n",
       "0     0   \n",
       "1     1   \n",
       "2     2   \n",
       "3     3   \n",
       "4     4   \n",
       "5     5   \n",
       "6     6   \n",
       "7     7   \n",
       "8     0   \n",
       "9     1   \n",
       "\n",
       "                                                                                        label_path  \\\n",
       "0   /kaggle/working/dataset_train/pseud_ashcolor_4label/labels/model1_iter_1/195731008142151_0.npy   \n",
       "1   /kaggle/working/dataset_train/pseud_ashcolor_4label/labels/model1_iter_1/195731008142151_1.npy   \n",
       "2   /kaggle/working/dataset_train/pseud_ashcolor_4label/labels/model1_iter_1/195731008142151_2.npy   \n",
       "3   /kaggle/working/dataset_train/pseud_ashcolor_4label/labels/model1_iter_1/195731008142151_3.npy   \n",
       "4            /kaggle/working/dataset_train/pseud_ashcolor_4label/labels/true/195731008142151_4.npy   \n",
       "5   /kaggle/working/dataset_train/pseud_ashcolor_4label/labels/model1_iter_1/195731008142151_5.npy   \n",
       "6   /kaggle/working/dataset_train/pseud_ashcolor_4label/labels/model1_iter_1/195731008142151_6.npy   \n",
       "7   /kaggle/working/dataset_train/pseud_ashcolor_4label/labels/model1_iter_1/195731008142151_7.npy   \n",
       "8  /kaggle/working/dataset_train/pseud_ashcolor_4label/labels/model1_iter_1/1108741208571075_0.npy   \n",
       "9  /kaggle/working/dataset_train/pseud_ashcolor_4label/labels/model1_iter_1/1108741208571075_1.npy   \n",
       "\n",
       "  fold  \n",
       "0    1  \n",
       "1    3  \n",
       "2    3  \n",
       "3    0  \n",
       "4   -1  \n",
       "5    3  \n",
       "6    0  \n",
       "7    3  \n",
       "8    3  \n",
       "9    1  "
      ]
     },
     "execution_count": 4,
     "metadata": {},
     "output_type": "execute_result"
    }
   ],
   "source": [
    "train_df = pd.read_csv(f\"{CFG.dataset_path}/train_df.csv\")\n",
    "valid_df = pd.read_csv(f\"{CFG.dataset_path}/validation_df.csv\")\n",
    "valid_df = valid_df.dropna()\n",
    "\n",
    "train_df_true_label = train_df[~train_df[\"label_path\"].isnull()]\n",
    "train_df_pseud_label = train_df[train_df[\"label_path\"].isnull()]\n",
    "\n",
    "fill_path = CFG.train_label_path + train_df[\"record_id\"].astype(\"str\") + \"_\"+train_df[\"time\"].astype(\"str\")+\".npy\"\n",
    "train_df_pseud_label[\"label_path\"] = fill_path\n",
    "\n",
    "train_df_true_label.loc[:, \"fold\"] = -1\n",
    "\n",
    "kf = KFold(n_splits=CFG.fold, random_state=42, shuffle=True)\n",
    "train_df_pseud_label.loc[:, \"fold\"] = None\n",
    "for i, fold in enumerate(kf.split(train_df_pseud_label)):\n",
    "    train_df_pseud_label[\"fold\"].iloc[fold[1]] = i\n",
    "\n",
    "train_df = pd.concat([train_df_pseud_label, train_df_true_label], axis=0).sort_values(by=[\"record_id\", \"time\"]).reset_index(drop=True)\n",
    "\n",
    "if CFG.debug:\n",
    "    train_df=train_df[:200]\n",
    "    valid_df=valid_df[:200]\n",
    "train_df.shape, valid_df.shape\n",
    "train_df.head(10)"
   ]
  },
  {
   "cell_type": "code",
   "execution_count": 5,
   "metadata": {
    "execution": {
     "iopub.execute_input": "2023-06-29T21:01:36.763346Z",
     "iopub.status.busy": "2023-06-29T21:01:36.763046Z",
     "iopub.status.idle": "2023-06-29T21:01:36.838957Z",
     "shell.execute_reply": "2023-06-29T21:01:36.838355Z"
    }
   },
   "outputs": [
    {
     "name": "stdout",
     "output_type": "stream",
     "text": [
      "\n",
      "len(dataset_train) = 164232\n",
      "train_image_shape : torch.Size([3, 256, 256])\n",
      "train_mask_shape  : torch.Size([4, 256, 256])\n",
      "train_image_dtype : torch.float32\n",
      "train_mask_dtype : torch.float32\n",
      "\n",
      "len(dataset_valid) = 1856\n",
      "valid_image_shape : torch.Size([3, 256, 256])\n",
      "valid_mask_shape  : torch.Size([1, 256, 256])\n",
      "valid_image_dtype : torch.float32\n",
      "valid_mask_dtype : torch.float32\n",
      "\n"
     ]
    },
    {
     "data": {
      "image/png": "[encoded data removed]",
      "text/plain": [
       "<Figure size 1000x400 with 2 Axes>"
      ]
     },
     "metadata": {},
     "output_type": "display_data"
    }
   ],
   "source": [
    "dataset_train = ContrailsDataset(train_df, CFG.train_aug_list, \"pseudo_train\")\n",
    "dataset_valid = ContrailsDataset(valid_df, CFG.valid_aug_list, \"pseudo_train\")\n",
    "\n",
    "dataloader_train = DataLoader(dataset_train, batch_size=CFG.train_batch_size , shuffle=True, num_workers = CFG.num_workers)\n",
    "dataloader_valid = DataLoader(dataset_valid, batch_size=CFG.valid_batch_size, num_workers = CFG.num_workers)\n",
    "\n",
    "print(f\"\"\"\n",
    "{len(dataset_train) = }\n",
    "train_image_shape : {dataset_train[0][0].shape}\n",
    "train_mask_shape  : {dataset_train[0][1].shape}\n",
    "train_image_dtype : {dataset_train[0][0].dtype}\n",
    "train_mask_dtype : {dataset_train[0][1].dtype}\n",
    "\n",
    "{len(dataset_valid) = }\n",
    "valid_image_shape : {dataset_valid[0][0].shape}\n",
    "valid_mask_shape  : {dataset_valid[0][1].shape}\n",
    "valid_image_dtype : {dataset_valid[0][0].dtype}\n",
    "valid_mask_dtype : {dataset_valid[0][1].dtype}\n",
    "\"\"\")\n",
    "\n",
    "show_dataset(10, dataset_train)"
   ]
  },
  {
   "attachments": {},
   "cell_type": "markdown",
   "metadata": {},
   "source": [
    "# Training"
   ]
  },
  {
   "cell_type": "code",
   "execution_count": 9,
   "metadata": {
    "execution": {
     "iopub.execute_input": "2023-06-29T21:01:39.522985Z",
     "iopub.status.busy": "2023-06-29T21:01:39.522780Z",
     "iopub.status.idle": "2023-06-30T02:55:50.073892Z",
     "shell.execute_reply": "2023-06-30T02:55:50.071001Z"
    }
   },
   "outputs": [
    {
     "name": "stdout",
     "output_type": "stream",
     "text": [
      "fold : 1\n",
      "\n",
      "model_arch:  Unet\n",
      "backbone:  timm-resnest200e\n"
     ]
    },
    {
     "name": "stderr",
     "output_type": "stream",
     "text": [
      "Epoch 0/50  Mem : 15.4GB  LR : 1.00E-04  Loss: 0.3684: 100%|██████████| 4010/4010 [23:32<00:00,  2.84it/s]\n",
      "Val Loss: 0.0306: 100%|██████████| 58/58 [00:13<00:00,  4.32it/s]\n"
     ]
    },
    {
     "name": "stdout",
     "output_type": "stream",
     "text": [
      "score : 0.6344\tthresh : 0.29\tSAVED MODEL\n",
      "\n"
     ]
    },
    {
     "name": "stderr",
     "output_type": "stream",
     "text": [
      "Epoch 1/50  Mem : 15.4GB  LR : 9.98E-05  Loss: 0.2434: 100%|██████████| 4010/4010 [23:14<00:00,  2.88it/s]\n",
      "Val Loss: 0.0295: 100%|██████████| 58/58 [00:13<00:00,  4.26it/s]\n"
     ]
    },
    {
     "name": "stdout",
     "output_type": "stream",
     "text": [
      "score : 0.6527\tthresh : 0.69\tSAVED MODEL\n",
      "\n"
     ]
    },
    {
     "name": "stderr",
     "output_type": "stream",
     "text": [
      "Epoch 2/50  Mem : 15.4GB  LR : 9.93E-05  Loss: 0.2216: 100%|██████████| 4010/4010 [23:23<00:00,  2.86it/s]\n",
      "Val Loss: 0.0294: 100%|██████████| 58/58 [00:13<00:00,  4.30it/s]\n"
     ]
    },
    {
     "name": "stdout",
     "output_type": "stream",
     "text": [
      "score : 0.6528\tthresh : 0.57\tSAVED MODEL\n",
      "\n"
     ]
    },
    {
     "name": "stderr",
     "output_type": "stream",
     "text": [
      "Epoch 3/50  Mem : 15.4GB  LR : 9.86E-05  Loss: 0.2087: 100%|██████████| 4010/4010 [22:56<00:00,  2.91it/s]\n",
      "Val Loss: 0.0281: 100%|██████████| 58/58 [00:13<00:00,  4.35it/s]\n"
     ]
    },
    {
     "name": "stdout",
     "output_type": "stream",
     "text": [
      "score : 0.6543\tthresh : 0.05\tSAVED MODEL\n",
      "\n"
     ]
    },
    {
     "name": "stderr",
     "output_type": "stream",
     "text": [
      "Epoch 4/50  Mem : 15.4GB  LR : 9.78E-05  Loss: 0.1997: 100%|██████████| 4010/4010 [23:02<00:00,  2.90it/s]\n",
      "Val Loss: 0.0282: 100%|██████████| 58/58 [00:13<00:00,  4.34it/s]\n"
     ]
    },
    {
     "name": "stdout",
     "output_type": "stream",
     "text": [
      "score : 0.6603\tthresh : 0.27\tSAVED MODEL\n",
      "\n"
     ]
    },
    {
     "name": "stderr",
     "output_type": "stream",
     "text": [
      "Epoch 5/50  Mem : 15.4GB  LR : 9.67E-05  Loss: 0.1929: 100%|██████████| 4010/4010 [23:08<00:00,  2.89it/s]\n",
      "Val Loss: 0.0282: 100%|██████████| 58/58 [00:13<00:00,  4.31it/s]\n"
     ]
    },
    {
     "name": "stdout",
     "output_type": "stream",
     "text": [
      "score : 0.6616\tthresh : 0.29\tSAVED MODEL\n",
      "\n"
     ]
    },
    {
     "name": "stderr",
     "output_type": "stream",
     "text": [
      "Epoch 6/50  Mem : 15.4GB  LR : 9.54E-05  Loss: 0.1888: 100%|██████████| 4010/4010 [23:20<00:00,  2.86it/s]\n",
      "Val Loss: 0.0288: 100%|██████████| 58/58 [00:13<00:00,  4.41it/s]\n"
     ]
    },
    {
     "name": "stdout",
     "output_type": "stream",
     "text": [
      "score : 0.6667\tthresh : 0.97\tSAVED MODEL\n",
      "\n"
     ]
    },
    {
     "name": "stderr",
     "output_type": "stream",
     "text": [
      "Epoch 7/50  Mem : 15.4GB  LR : 9.40E-05  Loss: 0.1816: 100%|██████████| 4010/4010 [23:17<00:00,  2.87it/s]\n",
      "Val Loss: 0.0276: 100%|██████████| 58/58 [00:13<00:00,  4.30it/s]\n"
     ]
    },
    {
     "name": "stdout",
     "output_type": "stream",
     "text": [
      "score : 0.6643\tthresh : 0.05\n",
      "\n"
     ]
    },
    {
     "name": "stderr",
     "output_type": "stream",
     "text": [
      "Epoch 8/50  Mem : 15.4GB  LR : 9.24E-05  Loss: 0.1749: 100%|██████████| 4010/4010 [23:12<00:00,  2.88it/s]\n",
      "Val Loss: 0.0280: 100%|██████████| 58/58 [00:13<00:00,  4.32it/s]\n"
     ]
    },
    {
     "name": "stdout",
     "output_type": "stream",
     "text": [
      "score : 0.6678\tthresh : 0.83\tSAVED MODEL\n",
      "\n"
     ]
    },
    {
     "name": "stderr",
     "output_type": "stream",
     "text": [
      "Epoch 9/50  Mem : 15.4GB  LR : 9.07E-05  Loss: 0.1712: 100%|██████████| 4010/4010 [23:21<00:00,  2.86it/s]\n",
      "Val Loss: 0.0286: 100%|██████████| 58/58 [00:13<00:00,  4.30it/s]\n"
     ]
    },
    {
     "name": "stdout",
     "output_type": "stream",
     "text": [
      "score : 0.6690\tthresh : 0.93\tSAVED MODEL\n",
      "\n"
     ]
    },
    {
     "name": "stderr",
     "output_type": "stream",
     "text": [
      "Epoch 10/50  Mem : 15.4GB  LR : 8.87E-05  Loss: 0.1672: 100%|██████████| 4010/4010 [23:07<00:00,  2.89it/s]\n",
      "Val Loss: 0.0279: 100%|██████████| 58/58 [00:13<00:00,  4.34it/s]\n"
     ]
    },
    {
     "name": "stdout",
     "output_type": "stream",
     "text": [
      "score : 0.6689\tthresh : 0.89\n",
      "\n"
     ]
    },
    {
     "name": "stderr",
     "output_type": "stream",
     "text": [
      "Epoch 11/50  Mem : 15.4GB  LR : 8.67E-05  Loss: 0.1641: 100%|██████████| 4010/4010 [23:11<00:00,  2.88it/s]\n",
      "Val Loss: 0.0279: 100%|██████████| 58/58 [00:13<00:00,  4.28it/s]\n"
     ]
    },
    {
     "name": "stdout",
     "output_type": "stream",
     "text": [
      "score : 0.6694\tthresh : 0.75\tSAVED MODEL\n",
      "\n"
     ]
    },
    {
     "name": "stderr",
     "output_type": "stream",
     "text": [
      "Epoch 12/50  Mem : 15.4GB  LR : 8.44E-05  Loss: 0.1621: 100%|██████████| 4010/4010 [23:22<00:00,  2.86it/s]\n",
      "Val Loss: 0.0270: 100%|██████████| 58/58 [00:13<00:00,  4.28it/s]\n"
     ]
    },
    {
     "name": "stdout",
     "output_type": "stream",
     "text": [
      "score : 0.6734\tthresh : 0.07\tSAVED MODEL\n",
      "\n"
     ]
    },
    {
     "name": "stderr",
     "output_type": "stream",
     "text": [
      "Epoch 13/50  Mem : 15.4GB  LR : 8.21E-05  Loss: 0.1593: 100%|██████████| 4010/4010 [23:06<00:00,  2.89it/s]\n",
      "Val Loss: 0.0269: 100%|██████████| 58/58 [00:13<00:00,  4.34it/s]\n"
     ]
    },
    {
     "name": "stdout",
     "output_type": "stream",
     "text": [
      "score : 0.6715\tthresh : 0.05\n",
      "\n"
     ]
    },
    {
     "name": "stderr",
     "output_type": "stream",
     "text": [
      "Epoch 14/50  Mem : 15.4GB  LR : 7.96E-05  Loss: 0.1578: 100%|██████████| 4010/4010 [23:16<00:00,  2.87it/s]\n",
      "Val Loss: 0.0275: 100%|██████████| 58/58 [00:13<00:00,  4.35it/s]\n"
     ]
    },
    {
     "name": "stdout",
     "output_type": "stream",
     "text": [
      "score : 0.6779\tthresh : 0.97\tSAVED MODEL\n",
      "\n"
     ]
    },
    {
     "name": "stderr",
     "output_type": "stream",
     "text": [
      "Epoch 15/50  Mem : 15.4GB  LR : 7.70E-05  Loss: 0.1563: 100%|██████████| 4010/4010 [23:03<00:00,  2.90it/s]\n",
      "Val Loss: 0.0266: 100%|██████████| 58/58 [00:13<00:00,  4.36it/s]\n"
     ]
    },
    {
     "name": "stdout",
     "output_type": "stream",
     "text": [
      "score : 0.6755\tthresh : 0.01\n",
      "\n"
     ]
    },
    {
     "name": "stderr",
     "output_type": "stream",
     "text": [
      "Epoch 16/50  Mem : 15.4GB  LR : 7.43E-05  Loss: 0.1532: 100%|██████████| 4010/4010 [23:02<00:00,  2.90it/s]\n",
      "Val Loss: 0.0265: 100%|██████████| 58/58 [00:13<00:00,  4.36it/s]\n"
     ]
    },
    {
     "name": "stdout",
     "output_type": "stream",
     "text": [
      "score : 0.6772\tthresh : 0.07\n",
      "\n"
     ]
    },
    {
     "name": "stderr",
     "output_type": "stream",
     "text": [
      "Epoch 17/50  Mem : 15.4GB  LR : 7.15E-05  Loss: 0.1516: 100%|██████████| 4010/4010 [22:59<00:00,  2.91it/s]\n",
      "Val Loss: 0.0272: 100%|██████████| 58/58 [00:13<00:00,  4.36it/s]\n"
     ]
    },
    {
     "name": "stdout",
     "output_type": "stream",
     "text": [
      "score : 0.6724\tthresh : 0.23\n",
      "\n"
     ]
    },
    {
     "name": "stderr",
     "output_type": "stream",
     "text": [
      "Epoch 18/50  Mem : 15.4GB  LR : 6.86E-05  Loss: 0.1501: 100%|██████████| 4010/4010 [23:18<00:00,  2.87it/s]\n",
      "Val Loss: 0.0331: 100%|██████████| 58/58 [00:13<00:00,  4.42it/s]\n"
     ]
    },
    {
     "name": "stdout",
     "output_type": "stream",
     "text": [
      "score : 0.6015\tthresh : 0.01\n",
      "\n"
     ]
    },
    {
     "name": "stderr",
     "output_type": "stream",
     "text": [
      "Epoch 19/50  Mem : 15.4GB  LR : 6.57E-05  Loss: 0.1491: 100%|██████████| 4010/4010 [23:21<00:00,  2.86it/s]\n",
      "Val Loss: 0.0276: 100%|██████████| 58/58 [00:13<00:00,  4.36it/s]\n"
     ]
    },
    {
     "name": "stdout",
     "output_type": "stream",
     "text": [
      "score : 0.6747\tthresh : 0.91\n",
      "\n"
     ]
    },
    {
     "name": "stderr",
     "output_type": "stream",
     "text": [
      "Epoch 20/50  Mem : 15.4GB  LR : 6.27E-05  Loss: 0.1476: 100%|██████████| 4010/4010 [23:16<00:00,  2.87it/s]\n",
      "Val Loss: 0.0271: 100%|██████████| 58/58 [00:13<00:00,  4.28it/s]\n"
     ]
    },
    {
     "name": "stdout",
     "output_type": "stream",
     "text": [
      "score : 0.6749\tthresh : 0.37\n",
      "\n"
     ]
    },
    {
     "name": "stderr",
     "output_type": "stream",
     "text": [
      "Epoch 21/50  Mem : 15.4GB  LR : 5.96E-05  Loss: 0.1461: 100%|██████████| 4010/4010 [23:25<00:00,  2.85it/s]\n",
      "Val Loss: 0.0268: 100%|██████████| 58/58 [00:13<00:00,  4.36it/s]\n"
     ]
    },
    {
     "name": "stdout",
     "output_type": "stream",
     "text": [
      "score : 0.6772\tthresh : 0.17\n",
      "\n"
     ]
    },
    {
     "name": "stderr",
     "output_type": "stream",
     "text": [
      "Epoch 22/50  Mem : 15.4GB  LR : 5.65E-05  Loss: 0.1449: 100%|██████████| 4010/4010 [23:15<00:00,  2.87it/s]\n",
      "Val Loss: 0.0266: 100%|██████████| 58/58 [00:13<00:00,  4.37it/s]\n"
     ]
    },
    {
     "name": "stdout",
     "output_type": "stream",
     "text": [
      "score : 0.6731\tthresh : 0.01\n",
      "\n"
     ]
    },
    {
     "name": "stderr",
     "output_type": "stream",
     "text": [
      "Epoch 23/50  Mem : 15.4GB  LR : 5.34E-05  Loss: 0.1435: 100%|██████████| 4010/4010 [23:24<00:00,  2.85it/s]\n",
      "Val Loss: 0.0269: 100%|██████████| 58/58 [00:13<00:00,  4.24it/s]\n"
     ]
    },
    {
     "name": "stdout",
     "output_type": "stream",
     "text": [
      "score : 0.6789\tthresh : 0.35\tSAVED MODEL\n",
      "\n"
     ]
    },
    {
     "name": "stderr",
     "output_type": "stream",
     "text": [
      "Epoch 24/50  Mem : 15.4GB  LR : 5.02E-05  Loss: 0.1415: 100%|██████████| 4010/4010 [23:06<00:00,  2.89it/s]\n",
      "Val Loss: 0.0263: 100%|██████████| 58/58 [00:13<00:00,  4.23it/s]\n"
     ]
    },
    {
     "name": "stdout",
     "output_type": "stream",
     "text": [
      "score : 0.6771\tthresh : 0.01\n",
      "\n"
     ]
    },
    {
     "name": "stderr",
     "output_type": "stream",
     "text": [
      "Epoch 25/50  Mem : 15.4GB  LR : 4.71E-05  Loss: 0.1408: 100%|██████████| 4010/4010 [22:52<00:00,  2.92it/s]\n",
      "Val Loss: 0.0267: 100%|██████████| 58/58 [00:13<00:00,  4.35it/s]\n"
     ]
    },
    {
     "name": "stdout",
     "output_type": "stream",
     "text": [
      "score : 0.6779\tthresh : 0.27\n",
      "\n"
     ]
    },
    {
     "name": "stderr",
     "output_type": "stream",
     "text": [
      "Epoch 26/50  Mem : 15.4GB  LR : 4.40E-05  Loss: 0.1399: 100%|██████████| 4010/4010 [22:54<00:00,  2.92it/s]\n",
      "Val Loss: 0.0263: 100%|██████████| 58/58 [00:13<00:00,  4.34it/s]\n"
     ]
    },
    {
     "name": "stdout",
     "output_type": "stream",
     "text": [
      "score : 0.6793\tthresh : 0.17\tSAVED MODEL\n",
      "\n"
     ]
    },
    {
     "name": "stderr",
     "output_type": "stream",
     "text": [
      "Epoch 27/50  Mem : 15.4GB  LR : 4.09E-05  Loss: 0.1388: 100%|██████████| 4010/4010 [23:08<00:00,  2.89it/s]\n",
      "Val Loss: 0.0265: 100%|██████████| 58/58 [00:13<00:00,  4.34it/s]\n"
     ]
    },
    {
     "name": "stdout",
     "output_type": "stream",
     "text": [
      "score : 0.6777\tthresh : 0.01\n",
      "\n"
     ]
    },
    {
     "name": "stderr",
     "output_type": "stream",
     "text": [
      "Epoch 28/50  Mem : 15.4GB  LR : 3.78E-05  Loss: 0.1375: 100%|██████████| 4010/4010 [23:12<00:00,  2.88it/s]\n",
      "Val Loss: 0.0269: 100%|██████████| 58/58 [00:13<00:00,  4.35it/s]\n"
     ]
    },
    {
     "name": "stdout",
     "output_type": "stream",
     "text": [
      "score : 0.6779\tthresh : 0.45\n",
      "\n"
     ]
    },
    {
     "name": "stderr",
     "output_type": "stream",
     "text": [
      "Epoch 29/50  Mem : 15.4GB  LR : 3.48E-05  Loss: 0.1367: 100%|██████████| 4010/4010 [23:22<00:00,  2.86it/s]\n",
      "Val Loss: 0.0265: 100%|██████████| 58/58 [00:13<00:00,  4.34it/s]\n"
     ]
    },
    {
     "name": "stdout",
     "output_type": "stream",
     "text": [
      "score : 0.6800\tthresh : 0.03\tSAVED MODEL\n",
      "\n"
     ]
    },
    {
     "name": "stderr",
     "output_type": "stream",
     "text": [
      "Epoch 30/50  Mem : 15.4GB  LR : 3.18E-05  Loss: 0.1359: 100%|██████████| 4010/4010 [23:14<00:00,  2.88it/s]\n",
      "Val Loss: 0.0266: 100%|██████████| 58/58 [00:13<00:00,  4.35it/s]\n"
     ]
    },
    {
     "name": "stdout",
     "output_type": "stream",
     "text": [
      "score : 0.6789\tthresh : 0.11\n",
      "\n"
     ]
    },
    {
     "name": "stderr",
     "output_type": "stream",
     "text": [
      "Epoch 31/50  Mem : 15.4GB  LR : 2.90E-05  Loss: 0.1347: 100%|██████████| 4010/4010 [23:21<00:00,  2.86it/s]\n",
      "Val Loss: 0.0264: 100%|██████████| 58/58 [00:13<00:00,  4.33it/s]\n"
     ]
    },
    {
     "name": "stdout",
     "output_type": "stream",
     "text": [
      "score : 0.6772\tthresh : 0.11\n",
      "\n"
     ]
    },
    {
     "name": "stderr",
     "output_type": "stream",
     "text": [
      "Epoch 32/50  Mem : 15.4GB  LR : 2.62E-05  Loss: 0.1335: 100%|██████████| 4010/4010 [23:09<00:00,  2.89it/s]\n",
      "Val Loss: 0.0268: 100%|██████████| 58/58 [00:13<00:00,  4.32it/s]\n"
     ]
    },
    {
     "name": "stdout",
     "output_type": "stream",
     "text": [
      "score : 0.6785\tthresh : 0.55\n",
      "\n"
     ]
    },
    {
     "name": "stderr",
     "output_type": "stream",
     "text": [
      "Epoch 33/50  Mem : 15.4GB  LR : 2.35E-05  Loss: 0.1330: 100%|██████████| 4010/4010 [23:14<00:00,  2.88it/s]\n",
      "Val Loss: 0.0267: 100%|██████████| 58/58 [00:13<00:00,  4.31it/s]\n"
     ]
    },
    {
     "name": "stdout",
     "output_type": "stream",
     "text": [
      "score : 0.6788\tthresh : 0.07\n",
      "\n"
     ]
    },
    {
     "name": "stderr",
     "output_type": "stream",
     "text": [
      "Epoch 34/50  Mem : 15.4GB  LR : 2.09E-05  Loss: 0.1322: 100%|██████████| 4010/4010 [23:17<00:00,  2.87it/s]\n",
      "Val Loss: 0.0266: 100%|██████████| 58/58 [00:13<00:00,  4.36it/s]\n"
     ]
    },
    {
     "name": "stdout",
     "output_type": "stream",
     "text": [
      "score : 0.6772\tthresh : 0.03\n",
      "\n"
     ]
    },
    {
     "name": "stderr",
     "output_type": "stream",
     "text": [
      "Epoch 35/50  Mem : 15.4GB  LR : 1.84E-05  Loss: 0.1311: 100%|██████████| 4010/4010 [23:07<00:00,  2.89it/s]\n",
      "Val Loss: 0.0263: 100%|██████████| 58/58 [00:13<00:00,  4.39it/s]\n"
     ]
    },
    {
     "name": "stdout",
     "output_type": "stream",
     "text": [
      "score : 0.6791\tthresh : 0.11\n",
      "\n"
     ]
    },
    {
     "name": "stderr",
     "output_type": "stream",
     "text": [
      "Epoch 36/50  Mem : 15.4GB  LR : 1.60E-05  Loss: 0.1305: 100%|██████████| 4010/4010 [23:04<00:00,  2.90it/s]\n",
      "Val Loss: 0.0264: 100%|██████████| 58/58 [00:13<00:00,  4.34it/s]\n"
     ]
    },
    {
     "name": "stdout",
     "output_type": "stream",
     "text": [
      "score : 0.6798\tthresh : 0.09\n",
      "\n"
     ]
    },
    {
     "name": "stderr",
     "output_type": "stream",
     "text": [
      "Epoch 37/50  Mem : 15.4GB  LR : 1.38E-05  Loss: 0.1299: 100%|██████████| 4010/4010 [23:09<00:00,  2.88it/s]\n",
      "Val Loss: 0.0266: 100%|██████████| 58/58 [00:13<00:00,  4.36it/s]\n"
     ]
    },
    {
     "name": "stdout",
     "output_type": "stream",
     "text": [
      "score : 0.6804\tthresh : 0.49\tSAVED MODEL\n",
      "\n"
     ]
    },
    {
     "name": "stderr",
     "output_type": "stream",
     "text": [
      "Epoch 38/50  Mem : 15.4GB  LR : 1.17E-05  Loss: 0.1300: 100%|██████████| 4010/4010 [23:10<00:00,  2.88it/s]\n",
      "Val Loss: 0.0265: 100%|██████████| 58/58 [00:13<00:00,  4.36it/s]\n"
     ]
    },
    {
     "name": "stdout",
     "output_type": "stream",
     "text": [
      "score : 0.6786\tthresh : 0.01\n",
      "\n"
     ]
    },
    {
     "name": "stderr",
     "output_type": "stream",
     "text": [
      "Epoch 39/50  Mem : 15.4GB  LR : 9.81E-06  Loss: 0.1294: 100%|██████████| 4010/4010 [23:16<00:00,  2.87it/s]\n",
      "Val Loss: 0.0264: 100%|██████████| 58/58 [00:14<00:00,  3.99it/s]\n"
     ]
    },
    {
     "name": "stdout",
     "output_type": "stream",
     "text": [
      "score : 0.6803\tthresh : 0.05\n",
      "\n"
     ]
    },
    {
     "name": "stderr",
     "output_type": "stream",
     "text": [
      "Epoch 40/50  Mem : 15.4GB  LR : 8.04E-06  Loss: 0.1285: 100%|██████████| 4010/4010 [23:12<00:00,  2.88it/s]\n",
      "Val Loss: 0.0264: 100%|██████████| 58/58 [00:13<00:00,  4.36it/s]\n"
     ]
    },
    {
     "name": "stdout",
     "output_type": "stream",
     "text": [
      "score : 0.6796\tthresh : 0.33\n",
      "\n"
     ]
    },
    {
     "name": "stderr",
     "output_type": "stream",
     "text": [
      "Epoch 41/50  Mem : 15.4GB  LR : 6.44E-06  Loss: 0.1278: 100%|██████████| 4010/4010 [23:16<00:00,  2.87it/s]\n",
      "Val Loss: 0.0264: 100%|██████████| 58/58 [00:13<00:00,  4.34it/s]\n"
     ]
    },
    {
     "name": "stdout",
     "output_type": "stream",
     "text": [
      "score : 0.6792\tthresh : 0.01\n",
      "\n"
     ]
    },
    {
     "name": "stderr",
     "output_type": "stream",
     "text": [
      "Epoch 42/50  Mem : 15.4GB  LR : 5.01E-06  Loss: 0.1279: 100%|██████████| 4010/4010 [23:11<00:00,  2.88it/s]\n",
      "Val Loss: 0.0264: 100%|██████████| 58/58 [00:13<00:00,  4.32it/s]\n"
     ]
    },
    {
     "name": "stdout",
     "output_type": "stream",
     "text": [
      "score : 0.6784\tthresh : 0.13\n",
      "\n"
     ]
    },
    {
     "name": "stderr",
     "output_type": "stream",
     "text": [
      "Epoch 43/50  Mem : 15.4GB  LR : 3.76E-06  Loss: 0.1272: 100%|██████████| 4010/4010 [23:09<00:00,  2.89it/s]\n",
      "Val Loss: 0.0264: 100%|██████████| 58/58 [00:13<00:00,  4.34it/s]\n"
     ]
    },
    {
     "name": "stdout",
     "output_type": "stream",
     "text": [
      "score : 0.6783\tthresh : 0.01\n",
      "\n"
     ]
    },
    {
     "name": "stderr",
     "output_type": "stream",
     "text": [
      "Epoch 44/50  Mem : 15.4GB  LR : 2.69E-06  Loss: 0.1267: 100%|██████████| 4010/4010 [23:02<00:00,  2.90it/s]\n",
      "Val Loss: 0.0263: 100%|██████████| 58/58 [00:13<00:00,  4.31it/s]\n"
     ]
    },
    {
     "name": "stdout",
     "output_type": "stream",
     "text": [
      "score : 0.6804\tthresh : 0.21\tSAVED MODEL\n",
      "\n"
     ]
    },
    {
     "name": "stderr",
     "output_type": "stream",
     "text": [
      "Epoch 45/50  Mem : 15.4GB  LR : 1.80E-06  Loss: 0.1269: 100%|██████████| 4010/4010 [23:07<00:00,  2.89it/s]\n",
      "Val Loss: 0.0264: 100%|██████████| 58/58 [00:13<00:00,  4.32it/s]\n"
     ]
    },
    {
     "name": "stdout",
     "output_type": "stream",
     "text": [
      "score : 0.6797\tthresh : 0.05\n",
      "\n"
     ]
    },
    {
     "name": "stderr",
     "output_type": "stream",
     "text": [
      "Epoch 46/50  Mem : 15.4GB  LR : 1.11E-06  Loss: 0.1271: 100%|██████████| 4010/4010 [23:20<00:00,  2.86it/s]\n",
      "Val Loss: 0.0263: 100%|██████████| 58/58 [00:13<00:00,  4.28it/s]\n"
     ]
    },
    {
     "name": "stdout",
     "output_type": "stream",
     "text": [
      "score : 0.6795\tthresh : 0.21\n",
      "\n"
     ]
    },
    {
     "name": "stderr",
     "output_type": "stream",
     "text": [
      "Epoch 47/50  Mem : 15.4GB  LR : 5.99E-07  Loss: 0.1266: 100%|██████████| 4010/4010 [23:16<00:00,  2.87it/s]\n",
      "Val Loss: 0.0265: 100%|██████████| 58/58 [00:13<00:00,  4.31it/s]\n"
     ]
    },
    {
     "name": "stdout",
     "output_type": "stream",
     "text": [
      "score : 0.6803\tthresh : 0.15\n",
      "\n"
     ]
    },
    {
     "name": "stderr",
     "output_type": "stream",
     "text": [
      "Epoch 48/50  Mem : 15.4GB  LR : 2.75E-07  Loss: 0.1270: 100%|██████████| 4010/4010 [23:18<00:00,  2.87it/s]\n",
      "Val Loss: 0.0264: 100%|██████████| 58/58 [00:13<00:00,  4.36it/s]\n"
     ]
    },
    {
     "name": "stdout",
     "output_type": "stream",
     "text": [
      "score : 0.6801\tthresh : 0.11\n",
      "\n"
     ]
    },
    {
     "name": "stderr",
     "output_type": "stream",
     "text": [
      "Epoch 49/50  Mem : 15.4GB  LR : 1.25E-07  Loss: 0.1266: 100%|██████████| 4010/4010 [23:16<00:00,  2.87it/s]\n",
      "Val Loss: 0.0264: 100%|██████████| 58/58 [00:13<00:00,  4.32it/s]\n"
     ]
    },
    {
     "name": "stdout",
     "output_type": "stream",
     "text": [
      "score : 0.6798\tthresh : 0.05\n",
      "\n",
      "\n",
      "fold : 2\n",
      "\n",
      "model_arch:  Unet\n",
      "backbone:  timm-resnest200e\n"
     ]
    },
    {
     "name": "stderr",
     "output_type": "stream",
     "text": [
      "Epoch 0/50  Mem : 15.4GB  LR : 1.00E-04  Loss: 0.3792: 100%|██████████| 4010/4010 [23:12<00:00,  2.88it/s]\n",
      "Val Loss: 0.0304: 100%|██████████| 58/58 [00:13<00:00,  4.32it/s]\n"
     ]
    },
    {
     "name": "stdout",
     "output_type": "stream",
     "text": [
      "score : 0.6352\tthresh : 0.53\tSAVED MODEL\n",
      "\n"
     ]
    },
    {
     "name": "stderr",
     "output_type": "stream",
     "text": [
      "Epoch 1/50  Mem : 15.4GB  LR : 9.98E-05  Loss: 0.2460: 100%|██████████| 4010/4010 [23:17<00:00,  2.87it/s]\n",
      "Val Loss: 0.0303: 100%|██████████| 58/58 [00:13<00:00,  4.36it/s]\n"
     ]
    },
    {
     "name": "stdout",
     "output_type": "stream",
     "text": [
      "score : 0.6485\tthresh : 0.79\tSAVED MODEL\n",
      "\n"
     ]
    },
    {
     "name": "stderr",
     "output_type": "stream",
     "text": [
      "Epoch 2/50  Mem : 15.4GB  LR : 9.93E-05  Loss: 0.2254: 100%|██████████| 4010/4010 [23:16<00:00,  2.87it/s]\n",
      "Val Loss: 0.0288: 100%|██████████| 58/58 [00:13<00:00,  4.35it/s]\n"
     ]
    },
    {
     "name": "stdout",
     "output_type": "stream",
     "text": [
      "score : 0.6498\tthresh : 0.05\tSAVED MODEL\n",
      "\n"
     ]
    },
    {
     "name": "stderr",
     "output_type": "stream",
     "text": [
      "Epoch 3/50  Mem : 15.4GB  LR : 9.86E-05  Loss: 0.2110: 100%|██████████| 4010/4010 [23:15<00:00,  2.87it/s]\n",
      "Val Loss: 0.0288: 100%|██████████| 58/58 [00:13<00:00,  4.32it/s]\n"
     ]
    },
    {
     "name": "stdout",
     "output_type": "stream",
     "text": [
      "score : 0.6564\tthresh : 0.65\tSAVED MODEL\n",
      "\n"
     ]
    },
    {
     "name": "stderr",
     "output_type": "stream",
     "text": [
      "Epoch 4/50  Mem : 15.4GB  LR : 9.78E-05  Loss: 0.2019: 100%|██████████| 4010/4010 [23:14<00:00,  2.88it/s]\n",
      "Val Loss: 0.0277: 100%|██████████| 58/58 [00:13<00:00,  4.30it/s]\n"
     ]
    },
    {
     "name": "stdout",
     "output_type": "stream",
     "text": [
      "score : 0.6604\tthresh : 0.23\tSAVED MODEL\n",
      "\n"
     ]
    },
    {
     "name": "stderr",
     "output_type": "stream",
     "text": [
      "Epoch 5/50  Mem : 15.4GB  LR : 9.67E-05  Loss: 0.1957: 100%|██████████| 4010/4010 [23:19<00:00,  2.86it/s]\n",
      "Val Loss: 0.0301: 100%|██████████| 58/58 [00:13<00:00,  4.35it/s]\n"
     ]
    },
    {
     "name": "stdout",
     "output_type": "stream",
     "text": [
      "score : 0.6536\tthresh : 0.93\n",
      "\n"
     ]
    },
    {
     "name": "stderr",
     "output_type": "stream",
     "text": [
      "Epoch 6/50  Mem : 15.4GB  LR : 9.54E-05  Loss: 0.1891: 100%|██████████| 4010/4010 [23:16<00:00,  2.87it/s]\n",
      "Val Loss: 0.0288: 100%|██████████| 58/58 [00:13<00:00,  4.31it/s]\n"
     ]
    },
    {
     "name": "stdout",
     "output_type": "stream",
     "text": [
      "score : 0.6631\tthresh : 0.89\tSAVED MODEL\n",
      "\n"
     ]
    },
    {
     "name": "stderr",
     "output_type": "stream",
     "text": [
      "Epoch 7/50  Mem : 15.4GB  LR : 9.40E-05  Loss: 0.1821: 100%|██████████| 4010/4010 [23:23<00:00,  2.86it/s]\n",
      "Val Loss: 0.0281: 100%|██████████| 58/58 [00:14<00:00,  3.92it/s]\n"
     ]
    },
    {
     "name": "stdout",
     "output_type": "stream",
     "text": [
      "score : 0.6630\tthresh : 0.33\n",
      "\n"
     ]
    },
    {
     "name": "stderr",
     "output_type": "stream",
     "text": [
      "Epoch 8/50  Mem : 15.4GB  LR : 9.24E-05  Loss: 0.1758: 100%|██████████| 4010/4010 [23:40<00:00,  2.82it/s]\n",
      "Val Loss: 0.0274: 100%|██████████| 58/58 [00:13<00:00,  4.33it/s]\n"
     ]
    },
    {
     "name": "stdout",
     "output_type": "stream",
     "text": [
      "score : 0.6684\tthresh : 0.17\tSAVED MODEL\n",
      "\n"
     ]
    },
    {
     "name": "stderr",
     "output_type": "stream",
     "text": [
      "Epoch 9/50  Mem : 15.4GB  LR : 9.07E-05  Loss: 0.1726: 100%|██████████| 4010/4010 [23:34<00:00,  2.84it/s]\n",
      "Val Loss: 0.0270: 100%|██████████| 58/58 [00:13<00:00,  4.28it/s]\n"
     ]
    },
    {
     "name": "stdout",
     "output_type": "stream",
     "text": [
      "score : 0.6681\tthresh : 0.03\n",
      "\n"
     ]
    },
    {
     "name": "stderr",
     "output_type": "stream",
     "text": [
      "Epoch 10/50  Mem : 15.4GB  LR : 8.87E-05  Loss: 0.1690: 100%|██████████| 4010/4010 [23:21<00:00,  2.86it/s]\n",
      "Val Loss: 0.0278: 100%|██████████| 58/58 [00:13<00:00,  4.35it/s]\n"
     ]
    },
    {
     "name": "stdout",
     "output_type": "stream",
     "text": [
      "score : 0.6683\tthresh : 0.43\n",
      "\n"
     ]
    },
    {
     "name": "stderr",
     "output_type": "stream",
     "text": [
      "Epoch 11/50  Mem : 15.4GB  LR : 8.67E-05  Loss: 0.1659: 100%|██████████| 4010/4010 [23:27<00:00,  2.85it/s]\n",
      "Val Loss: 0.0276: 100%|██████████| 58/58 [00:13<00:00,  4.35it/s]\n"
     ]
    },
    {
     "name": "stdout",
     "output_type": "stream",
     "text": [
      "score : 0.6688\tthresh : 0.39\tSAVED MODEL\n",
      "\n"
     ]
    },
    {
     "name": "stderr",
     "output_type": "stream",
     "text": [
      "Epoch 12/50  Mem : 15.4GB  LR : 8.44E-05  Loss: 0.1636: 100%|██████████| 4010/4010 [23:19<00:00,  2.87it/s]\n",
      "Val Loss: 0.0274: 100%|██████████| 58/58 [00:13<00:00,  4.34it/s]\n"
     ]
    },
    {
     "name": "stdout",
     "output_type": "stream",
     "text": [
      "score : 0.6696\tthresh : 0.23\tSAVED MODEL\n",
      "\n"
     ]
    },
    {
     "name": "stderr",
     "output_type": "stream",
     "text": [
      "Epoch 13/50  Mem : 15.4GB  LR : 8.21E-05  Loss: 0.1610: 100%|██████████| 4010/4010 [23:07<00:00,  2.89it/s]\n",
      "Val Loss: 0.0268: 100%|██████████| 58/58 [00:13<00:00,  4.35it/s]\n"
     ]
    },
    {
     "name": "stdout",
     "output_type": "stream",
     "text": [
      "score : 0.6731\tthresh : 0.13\tSAVED MODEL\n",
      "\n"
     ]
    },
    {
     "name": "stderr",
     "output_type": "stream",
     "text": [
      "Epoch 14/50  Mem : 15.4GB  LR : 7.96E-05  Loss: 0.1590: 100%|██████████| 4010/4010 [23:15<00:00,  2.87it/s]\n",
      "Val Loss: 0.0269: 100%|██████████| 58/58 [00:13<00:00,  4.39it/s]\n"
     ]
    },
    {
     "name": "stdout",
     "output_type": "stream",
     "text": [
      "score : 0.6720\tthresh : 0.15\n",
      "\n"
     ]
    },
    {
     "name": "stderr",
     "output_type": "stream",
     "text": [
      "Epoch 15/50  Mem : 15.4GB  LR : 7.70E-05  Loss: 0.1568: 100%|██████████| 4010/4010 [23:23<00:00,  2.86it/s]\n",
      "Val Loss: 0.0277: 100%|██████████| 58/58 [00:13<00:00,  4.35it/s]\n"
     ]
    },
    {
     "name": "stdout",
     "output_type": "stream",
     "text": [
      "score : 0.6703\tthresh : 0.91\n",
      "\n"
     ]
    },
    {
     "name": "stderr",
     "output_type": "stream",
     "text": [
      "Epoch 16/50  Mem : 15.4GB  LR : 7.43E-05  Loss: 0.1553: 100%|██████████| 4010/4010 [23:18<00:00,  2.87it/s]\n",
      "Val Loss: 0.0272: 100%|██████████| 58/58 [00:13<00:00,  4.33it/s]\n"
     ]
    },
    {
     "name": "stdout",
     "output_type": "stream",
     "text": [
      "score : 0.6743\tthresh : 0.71\tSAVED MODEL\n",
      "\n"
     ]
    },
    {
     "name": "stderr",
     "output_type": "stream",
     "text": [
      "Epoch 17/50  Mem : 15.4GB  LR : 7.15E-05  Loss: 0.1537: 100%|██████████| 4010/4010 [23:22<00:00,  2.86it/s]\n",
      "Val Loss: 0.0270: 100%|██████████| 58/58 [00:13<00:00,  4.32it/s]\n"
     ]
    },
    {
     "name": "stdout",
     "output_type": "stream",
     "text": [
      "score : 0.6753\tthresh : 0.35\tSAVED MODEL\n",
      "\n"
     ]
    },
    {
     "name": "stderr",
     "output_type": "stream",
     "text": [
      "Epoch 18/50  Mem : 15.4GB  LR : 6.86E-05  Loss: 0.1518: 100%|██████████| 4010/4010 [23:17<00:00,  2.87it/s]\n",
      "Val Loss: 0.0272: 100%|██████████| 58/58 [00:13<00:00,  4.39it/s]\n"
     ]
    },
    {
     "name": "stdout",
     "output_type": "stream",
     "text": [
      "score : 0.6766\tthresh : 0.73\tSAVED MODEL\n",
      "\n"
     ]
    },
    {
     "name": "stderr",
     "output_type": "stream",
     "text": [
      "Epoch 19/50  Mem : 15.4GB  LR : 6.57E-05  Loss: 0.1506: 100%|██████████| 4010/4010 [23:31<00:00,  2.84it/s]\n",
      "Val Loss: 0.0270: 100%|██████████| 58/58 [00:13<00:00,  4.35it/s]\n"
     ]
    },
    {
     "name": "stdout",
     "output_type": "stream",
     "text": [
      "score : 0.6761\tthresh : 0.73\n",
      "\n"
     ]
    },
    {
     "name": "stderr",
     "output_type": "stream",
     "text": [
      "Epoch 20/50  Mem : 15.4GB  LR : 6.27E-05  Loss: 0.1487: 100%|██████████| 4010/4010 [23:21<00:00,  2.86it/s]\n",
      "Val Loss: 0.0269: 100%|██████████| 58/58 [00:13<00:00,  4.36it/s]\n"
     ]
    },
    {
     "name": "stdout",
     "output_type": "stream",
     "text": [
      "score : 0.6765\tthresh : 0.09\n",
      "\n"
     ]
    },
    {
     "name": "stderr",
     "output_type": "stream",
     "text": [
      "Epoch 21/50  Mem : 15.4GB  LR : 5.96E-05  Loss: 0.1474: 100%|██████████| 4010/4010 [23:10<00:00,  2.88it/s]\n",
      "Val Loss: 0.0270: 100%|██████████| 58/58 [00:13<00:00,  4.35it/s]\n"
     ]
    },
    {
     "name": "stdout",
     "output_type": "stream",
     "text": [
      "score : 0.6771\tthresh : 0.69\tSAVED MODEL\n",
      "\n"
     ]
    },
    {
     "name": "stderr",
     "output_type": "stream",
     "text": [
      "Epoch 22/50  Mem : 15.4GB  LR : 5.65E-05  Loss: 0.1456: 100%|██████████| 4010/4010 [23:16<00:00,  2.87it/s]\n",
      "Val Loss: 0.0273: 100%|██████████| 58/58 [00:13<00:00,  4.32it/s]\n"
     ]
    },
    {
     "name": "stdout",
     "output_type": "stream",
     "text": [
      "score : 0.6755\tthresh : 0.85\n",
      "\n"
     ]
    },
    {
     "name": "stderr",
     "output_type": "stream",
     "text": [
      "Epoch 23/50  Mem : 15.4GB  LR : 5.34E-05  Loss: 0.1445: 100%|██████████| 4010/4010 [23:08<00:00,  2.89it/s]\n",
      "Val Loss: 0.0269: 100%|██████████| 58/58 [00:13<00:00,  4.36it/s]\n"
     ]
    },
    {
     "name": "stdout",
     "output_type": "stream",
     "text": [
      "score : 0.6784\tthresh : 0.11\tSAVED MODEL\n",
      "\n"
     ]
    },
    {
     "name": "stderr",
     "output_type": "stream",
     "text": [
      "Epoch 24/50  Mem : 15.4GB  LR : 5.02E-05  Loss: 0.1432: 100%|██████████| 4010/4010 [23:14<00:00,  2.87it/s]\n",
      "Val Loss: 0.0267: 100%|██████████| 58/58 [00:13<00:00,  4.38it/s]\n"
     ]
    },
    {
     "name": "stdout",
     "output_type": "stream",
     "text": [
      "score : 0.6776\tthresh : 0.07\n",
      "\n"
     ]
    },
    {
     "name": "stderr",
     "output_type": "stream",
     "text": [
      "Epoch 25/50  Mem : 15.4GB  LR : 4.71E-05  Loss: 0.1424: 100%|██████████| 4010/4010 [23:23<00:00,  2.86it/s]\n",
      "Val Loss: 0.0264: 100%|██████████| 58/58 [00:13<00:00,  4.35it/s]\n"
     ]
    },
    {
     "name": "stdout",
     "output_type": "stream",
     "text": [
      "score : 0.6764\tthresh : 0.01\n",
      "\n"
     ]
    },
    {
     "name": "stderr",
     "output_type": "stream",
     "text": [
      "Epoch 26/50  Mem : 15.4GB  LR : 4.40E-05  Loss: 0.1413: 100%|██████████| 4010/4010 [23:19<00:00,  2.87it/s]\n",
      "Val Loss: 0.0271: 100%|██████████| 58/58 [00:13<00:00,  4.40it/s]\n"
     ]
    },
    {
     "name": "stdout",
     "output_type": "stream",
     "text": [
      "score : 0.6759\tthresh : 0.25\n",
      "\n"
     ]
    },
    {
     "name": "stderr",
     "output_type": "stream",
     "text": [
      "Epoch 27/50  Mem : 15.4GB  LR : 4.09E-05  Loss: 0.1392: 100%|██████████| 4010/4010 [23:05<00:00,  2.89it/s]\n",
      "Val Loss: 0.0265: 100%|██████████| 58/58 [00:13<00:00,  4.32it/s]\n"
     ]
    },
    {
     "name": "stdout",
     "output_type": "stream",
     "text": [
      "score : 0.6758\tthresh : 0.09\n",
      "\n"
     ]
    },
    {
     "name": "stderr",
     "output_type": "stream",
     "text": [
      "Epoch 28/50  Mem : 15.4GB  LR : 3.78E-05  Loss: 0.1389: 100%|██████████| 4010/4010 [23:23<00:00,  2.86it/s]\n",
      "Val Loss: 0.0269: 100%|██████████| 58/58 [00:13<00:00,  4.39it/s]\n"
     ]
    },
    {
     "name": "stdout",
     "output_type": "stream",
     "text": [
      "score : 0.6774\tthresh : 0.35\n",
      "\n"
     ]
    },
    {
     "name": "stderr",
     "output_type": "stream",
     "text": [
      "Epoch 29/50  Mem : 15.4GB  LR : 3.48E-05  Loss: 0.1375: 100%|██████████| 4010/4010 [23:24<00:00,  2.85it/s]\n",
      "Val Loss: 0.0268: 100%|██████████| 58/58 [00:13<00:00,  4.39it/s]\n"
     ]
    },
    {
     "name": "stdout",
     "output_type": "stream",
     "text": [
      "score : 0.6759\tthresh : 0.17\n",
      "\n"
     ]
    },
    {
     "name": "stderr",
     "output_type": "stream",
     "text": [
      "Epoch 30/50  Mem : 15.4GB  LR : 3.18E-05  Loss: 0.1365: 100%|██████████| 4010/4010 [23:25<00:00,  2.85it/s]\n",
      "Val Loss: 0.0267: 100%|██████████| 58/58 [00:13<00:00,  4.34it/s]\n"
     ]
    },
    {
     "name": "stdout",
     "output_type": "stream",
     "text": [
      "score : 0.6791\tthresh : 0.49\tSAVED MODEL\n",
      "\n"
     ]
    },
    {
     "name": "stderr",
     "output_type": "stream",
     "text": [
      "Epoch 31/50  Mem : 15.4GB  LR : 2.90E-05  Loss: 0.1359: 100%|██████████| 4010/4010 [23:28<00:00,  2.85it/s]\n",
      "Val Loss: 0.0267: 100%|██████████| 58/58 [00:13<00:00,  4.37it/s]\n"
     ]
    },
    {
     "name": "stdout",
     "output_type": "stream",
     "text": [
      "score : 0.6765\tthresh : 0.29\n",
      "\n"
     ]
    },
    {
     "name": "stderr",
     "output_type": "stream",
     "text": [
      "Epoch 32/50  Mem : 15.4GB  LR : 2.62E-05  Loss: 0.1354: 100%|██████████| 4010/4010 [23:31<00:00,  2.84it/s]\n",
      "Val Loss: 0.0266: 100%|██████████| 58/58 [00:13<00:00,  4.37it/s]\n"
     ]
    },
    {
     "name": "stdout",
     "output_type": "stream",
     "text": [
      "score : 0.6767\tthresh : 0.37\n",
      "\n"
     ]
    },
    {
     "name": "stderr",
     "output_type": "stream",
     "text": [
      "Epoch 33/50  Mem : 15.4GB  LR : 2.35E-05  Loss: 0.1346: 100%|██████████| 4010/4010 [23:23<00:00,  2.86it/s]\n",
      "Val Loss: 0.0266: 100%|██████████| 58/58 [00:13<00:00,  4.38it/s]\n"
     ]
    },
    {
     "name": "stdout",
     "output_type": "stream",
     "text": [
      "score : 0.6781\tthresh : 0.17\n",
      "\n"
     ]
    },
    {
     "name": "stderr",
     "output_type": "stream",
     "text": [
      "Epoch 34/50  Mem : 15.4GB  LR : 2.09E-05  Loss: 0.1334: 100%|██████████| 4010/4010 [23:10<00:00,  2.88it/s]\n",
      "Val Loss: 0.0267: 100%|██████████| 58/58 [00:13<00:00,  4.33it/s]\n"
     ]
    },
    {
     "name": "stdout",
     "output_type": "stream",
     "text": [
      "score : 0.6766\tthresh : 0.21\n",
      "\n"
     ]
    },
    {
     "name": "stderr",
     "output_type": "stream",
     "text": [
      "Epoch 35/50  Mem : 15.4GB  LR : 1.84E-05  Loss: 0.1322: 100%|██████████| 4010/4010 [23:26<00:00,  2.85it/s]\n",
      "Val Loss: 0.0267: 100%|██████████| 58/58 [00:13<00:00,  4.33it/s]\n"
     ]
    },
    {
     "name": "stdout",
     "output_type": "stream",
     "text": [
      "score : 0.6778\tthresh : 0.53\n",
      "\n"
     ]
    },
    {
     "name": "stderr",
     "output_type": "stream",
     "text": [
      "Epoch 36/50  Mem : 15.4GB  LR : 1.60E-05  Loss: 0.1318: 100%|██████████| 4010/4010 [23:23<00:00,  2.86it/s]\n",
      "Val Loss: 0.0266: 100%|██████████| 58/58 [00:13<00:00,  4.37it/s]\n"
     ]
    },
    {
     "name": "stdout",
     "output_type": "stream",
     "text": [
      "score : 0.6785\tthresh : 0.63\n",
      "\n"
     ]
    },
    {
     "name": "stderr",
     "output_type": "stream",
     "text": [
      "Epoch 37/50  Mem : 15.4GB  LR : 1.38E-05  Loss: 0.1311: 100%|██████████| 4010/4010 [23:21<00:00,  2.86it/s]\n",
      "Val Loss: 0.0265: 100%|██████████| 58/58 [00:13<00:00,  4.35it/s]\n"
     ]
    },
    {
     "name": "stdout",
     "output_type": "stream",
     "text": [
      "score : 0.6782\tthresh : 0.31\n",
      "\n"
     ]
    },
    {
     "name": "stderr",
     "output_type": "stream",
     "text": [
      "Epoch 38/50  Mem : 15.4GB  LR : 1.17E-05  Loss: 0.1301: 100%|██████████| 4010/4010 [23:22<00:00,  2.86it/s]\n",
      "Val Loss: 0.0267: 100%|██████████| 58/58 [00:13<00:00,  4.34it/s]\n"
     ]
    },
    {
     "name": "stdout",
     "output_type": "stream",
     "text": [
      "score : 0.6777\tthresh : 0.27\n",
      "\n"
     ]
    },
    {
     "name": "stderr",
     "output_type": "stream",
     "text": [
      "Epoch 39/50  Mem : 15.4GB  LR : 9.81E-06  Loss: 0.1305: 100%|██████████| 4010/4010 [23:18<00:00,  2.87it/s]\n",
      "Val Loss: 0.0266: 100%|██████████| 58/58 [00:13<00:00,  4.37it/s]\n"
     ]
    },
    {
     "name": "stdout",
     "output_type": "stream",
     "text": [
      "score : 0.6778\tthresh : 0.09\n",
      "\n"
     ]
    },
    {
     "name": "stderr",
     "output_type": "stream",
     "text": [
      "Epoch 40/50  Mem : 15.4GB  LR : 8.04E-06  Loss: 0.1299: 100%|██████████| 4010/4010 [23:17<00:00,  2.87it/s]\n",
      "Val Loss: 0.0268: 100%|██████████| 58/58 [00:13<00:00,  4.34it/s]\n"
     ]
    },
    {
     "name": "stdout",
     "output_type": "stream",
     "text": [
      "score : 0.6784\tthresh : 0.23\n",
      "\n"
     ]
    },
    {
     "name": "stderr",
     "output_type": "stream",
     "text": [
      "Epoch 41/50  Mem : 15.4GB  LR : 6.44E-06  Loss: 0.1294: 100%|██████████| 4010/4010 [23:03<00:00,  2.90it/s]\n",
      "Val Loss: 0.0265: 100%|██████████| 58/58 [00:13<00:00,  4.36it/s]\n"
     ]
    },
    {
     "name": "stdout",
     "output_type": "stream",
     "text": [
      "score : 0.6782\tthresh : 0.13\n",
      "\n"
     ]
    },
    {
     "name": "stderr",
     "output_type": "stream",
     "text": [
      "Epoch 42/50  Mem : 15.4GB  LR : 5.01E-06  Loss: 0.1296: 100%|██████████| 4010/4010 [23:17<00:00,  2.87it/s]\n",
      "Val Loss: 0.0266: 100%|██████████| 58/58 [00:13<00:00,  4.34it/s]\n"
     ]
    },
    {
     "name": "stdout",
     "output_type": "stream",
     "text": [
      "score : 0.6783\tthresh : 0.13\n",
      "\n"
     ]
    },
    {
     "name": "stderr",
     "output_type": "stream",
     "text": [
      "Epoch 43/50  Mem : 15.4GB  LR : 3.76E-06  Loss: 0.1286: 100%|██████████| 4010/4010 [23:16<00:00,  2.87it/s]\n",
      "Val Loss: 0.0266: 100%|██████████| 58/58 [00:13<00:00,  4.36it/s]\n"
     ]
    },
    {
     "name": "stdout",
     "output_type": "stream",
     "text": [
      "score : 0.6781\tthresh : 0.27\n",
      "\n"
     ]
    },
    {
     "name": "stderr",
     "output_type": "stream",
     "text": [
      "Epoch 44/50  Mem : 15.4GB  LR : 2.69E-06  Loss: 0.1282: 100%|██████████| 4010/4010 [23:20<00:00,  2.86it/s]\n",
      "Val Loss: 0.0265: 100%|██████████| 58/58 [00:13<00:00,  4.35it/s]\n"
     ]
    },
    {
     "name": "stdout",
     "output_type": "stream",
     "text": [
      "score : 0.6780\tthresh : 0.05\n",
      "\n"
     ]
    },
    {
     "name": "stderr",
     "output_type": "stream",
     "text": [
      "Epoch 45/50  Mem : 15.4GB  LR : 1.80E-06  Loss: 0.1283: 100%|██████████| 4010/4010 [23:27<00:00,  2.85it/s]\n",
      "Val Loss: 0.0266: 100%|██████████| 58/58 [00:13<00:00,  4.30it/s]\n"
     ]
    },
    {
     "name": "stdout",
     "output_type": "stream",
     "text": [
      "score : 0.6789\tthresh : 0.05\n",
      "\n"
     ]
    },
    {
     "name": "stderr",
     "output_type": "stream",
     "text": [
      "Epoch 46/50  Mem : 15.4GB  LR : 1.11E-06  Loss: 0.1280: 100%|██████████| 4010/4010 [23:29<00:00,  2.84it/s]\n",
      "Val Loss: 0.0265: 100%|██████████| 58/58 [00:13<00:00,  4.30it/s]\n"
     ]
    },
    {
     "name": "stdout",
     "output_type": "stream",
     "text": [
      "score : 0.6786\tthresh : 0.17\n",
      "\n"
     ]
    },
    {
     "name": "stderr",
     "output_type": "stream",
     "text": [
      "Epoch 47/50  Mem : 15.4GB  LR : 5.99E-07  Loss: 0.1274: 100%|██████████| 4010/4010 [23:25<00:00,  2.85it/s]\n",
      "Val Loss: 0.0266: 100%|██████████| 58/58 [00:13<00:00,  4.37it/s]\n"
     ]
    },
    {
     "name": "stdout",
     "output_type": "stream",
     "text": [
      "score : 0.6787\tthresh : 0.17\n",
      "\n"
     ]
    },
    {
     "name": "stderr",
     "output_type": "stream",
     "text": [
      "Epoch 48/50  Mem : 15.4GB  LR : 2.75E-07  Loss: 0.1279: 100%|██████████| 4010/4010 [23:09<00:00,  2.89it/s]\n",
      "Val Loss: 0.0266: 100%|██████████| 58/58 [00:13<00:00,  4.34it/s]\n"
     ]
    },
    {
     "name": "stdout",
     "output_type": "stream",
     "text": [
      "score : 0.6785\tthresh : 0.07\n",
      "\n"
     ]
    },
    {
     "name": "stderr",
     "output_type": "stream",
     "text": [
      "Epoch 49/50  Mem : 15.4GB  LR : 1.25E-07  Loss: 0.1258:  47%|████▋     | 1866/4010 [10:57<12:35,  2.84it/s]\n"
     ]
    },
    {
     "ename": "KeyboardInterrupt",
     "evalue": "",
     "output_type": "error",
     "traceback": [
      "\u001b[0;31m---------------------------------------------------------------------------\u001b[0m",
      "\u001b[0;31mKeyboardInterrupt\u001b[0m                         Traceback (most recent call last)",
      "Cell \u001b[0;32mIn[9], line 36\u001b[0m\n\u001b[1;32m     34\u001b[0m loss \u001b[39m=\u001b[39m criterion(preds, masks)\n\u001b[1;32m     35\u001b[0m scaler\u001b[39m.\u001b[39mscale(loss)\u001b[39m.\u001b[39mbackward()\n\u001b[0;32m---> 36\u001b[0m scaler\u001b[39m.\u001b[39;49mstep(optimizer)\n\u001b[1;32m     37\u001b[0m scaler\u001b[39m.\u001b[39mupdate()\n\u001b[1;32m     38\u001b[0m loss_train \u001b[39m+\u001b[39m\u001b[39m=\u001b[39m loss\u001b[39m.\u001b[39mdetach()\u001b[39m.\u001b[39mitem()\n",
      "File \u001b[0;32m/usr/local/lib/python3.10/dist-packages/torch/cuda/amp/grad_scaler.py:374\u001b[0m, in \u001b[0;36mGradScaler.step\u001b[0;34m(self, optimizer, *args, **kwargs)\u001b[0m\n\u001b[1;32m    370\u001b[0m     \u001b[39mself\u001b[39m\u001b[39m.\u001b[39munscale_(optimizer)\n\u001b[1;32m    372\u001b[0m \u001b[39massert\u001b[39;00m \u001b[39mlen\u001b[39m(optimizer_state[\u001b[39m\"\u001b[39m\u001b[39mfound_inf_per_device\u001b[39m\u001b[39m\"\u001b[39m]) \u001b[39m>\u001b[39m \u001b[39m0\u001b[39m, \u001b[39m\"\u001b[39m\u001b[39mNo inf checks were recorded for this optimizer.\u001b[39m\u001b[39m\"\u001b[39m\n\u001b[0;32m--> 374\u001b[0m retval \u001b[39m=\u001b[39m \u001b[39mself\u001b[39;49m\u001b[39m.\u001b[39;49m_maybe_opt_step(optimizer, optimizer_state, \u001b[39m*\u001b[39;49margs, \u001b[39m*\u001b[39;49m\u001b[39m*\u001b[39;49mkwargs)\n\u001b[1;32m    376\u001b[0m optimizer_state[\u001b[39m\"\u001b[39m\u001b[39mstage\u001b[39m\u001b[39m\"\u001b[39m] \u001b[39m=\u001b[39m OptState\u001b[39m.\u001b[39mSTEPPED\n\u001b[1;32m    378\u001b[0m \u001b[39mreturn\u001b[39;00m retval\n",
      "File \u001b[0;32m/usr/local/lib/python3.10/dist-packages/torch/cuda/amp/grad_scaler.py:289\u001b[0m, in \u001b[0;36mGradScaler._maybe_opt_step\u001b[0;34m(self, optimizer, optimizer_state, *args, **kwargs)\u001b[0m\n\u001b[1;32m    287\u001b[0m \u001b[39mdef\u001b[39;00m \u001b[39m_maybe_opt_step\u001b[39m(\u001b[39mself\u001b[39m, optimizer, optimizer_state, \u001b[39m*\u001b[39margs, \u001b[39m*\u001b[39m\u001b[39m*\u001b[39mkwargs):\n\u001b[1;32m    288\u001b[0m     retval \u001b[39m=\u001b[39m \u001b[39mNone\u001b[39;00m\n\u001b[0;32m--> 289\u001b[0m     \u001b[39mif\u001b[39;00m \u001b[39mnot\u001b[39;00m \u001b[39msum\u001b[39;49m(v\u001b[39m.\u001b[39;49mitem() \u001b[39mfor\u001b[39;49;00m v \u001b[39min\u001b[39;49;00m optimizer_state[\u001b[39m\"\u001b[39;49m\u001b[39mfound_inf_per_device\u001b[39;49m\u001b[39m\"\u001b[39;49m]\u001b[39m.\u001b[39;49mvalues()):\n\u001b[1;32m    290\u001b[0m         retval \u001b[39m=\u001b[39m optimizer\u001b[39m.\u001b[39mstep(\u001b[39m*\u001b[39margs, \u001b[39m*\u001b[39m\u001b[39m*\u001b[39mkwargs)\n\u001b[1;32m    291\u001b[0m     \u001b[39mreturn\u001b[39;00m retval\n",
      "File \u001b[0;32m/usr/local/lib/python3.10/dist-packages/torch/cuda/amp/grad_scaler.py:289\u001b[0m, in \u001b[0;36m<genexpr>\u001b[0;34m(.0)\u001b[0m\n\u001b[1;32m    287\u001b[0m \u001b[39mdef\u001b[39;00m \u001b[39m_maybe_opt_step\u001b[39m(\u001b[39mself\u001b[39m, optimizer, optimizer_state, \u001b[39m*\u001b[39margs, \u001b[39m*\u001b[39m\u001b[39m*\u001b[39mkwargs):\n\u001b[1;32m    288\u001b[0m     retval \u001b[39m=\u001b[39m \u001b[39mNone\u001b[39;00m\n\u001b[0;32m--> 289\u001b[0m     \u001b[39mif\u001b[39;00m \u001b[39mnot\u001b[39;00m \u001b[39msum\u001b[39m(v\u001b[39m.\u001b[39;49mitem() \u001b[39mfor\u001b[39;00m v \u001b[39min\u001b[39;00m optimizer_state[\u001b[39m\"\u001b[39m\u001b[39mfound_inf_per_device\u001b[39m\u001b[39m\"\u001b[39m]\u001b[39m.\u001b[39mvalues()):\n\u001b[1;32m    290\u001b[0m         retval \u001b[39m=\u001b[39m optimizer\u001b[39m.\u001b[39mstep(\u001b[39m*\u001b[39margs, \u001b[39m*\u001b[39m\u001b[39m*\u001b[39mkwargs)\n\u001b[1;32m    291\u001b[0m     \u001b[39mreturn\u001b[39;00m retval\n",
      "\u001b[0;31mKeyboardInterrupt\u001b[0m: "
     ]
    }
   ],
   "source": [
    "\n",
    "if CFG.debug:\n",
    "    print(\"!!!Debug mode!!!\\n\")\n",
    "\n",
    "for fold in range(CFG.fold):\n",
    "    print(f\"fold : {fold}\\n\")\n",
    "    dataset_train = ContrailsDataset(train_df[train_df[\"fold\"] != fold], CFG.train_aug_list, \"pseudo_train\")\n",
    "    dataloader_train = DataLoader(dataset_train, batch_size=CFG.train_batch_size, shuffle=True, num_workers=CFG.num_workers)\n",
    "\n",
    "    model = build_model(CFG.model_arch, CFG.backbone, CFG.in_chans, CFG.target_size)\n",
    "    num_gpus = torch.cuda.device_count()\n",
    "    device_ids = list(range(num_gpus))\n",
    "    model = nn.DataParallel(model, device_ids=device_ids)\n",
    "\n",
    "    scaler = amp.GradScaler()\n",
    "    criterion = smp.losses.DiceLoss(mode=\"multilabel\", smooth=CFG.smooth)\n",
    "    optimizer = torch.optim.AdamW(model.parameters(), lr=CFG.lr)\n",
    "    scheduler = torch.optim.lr_scheduler.CosineAnnealingLR(optimizer, CFG.epochs, eta_min=1e-7)\n",
    "    thresholds_to_test = [round(x * 0.01, 2) for x in range(1, 101, 2)]\n",
    "\n",
    "    dice_score = 0\n",
    "    slacknotify = SlackNotify(f\"{CFG.exp_description} fold: {fold}\")\n",
    "    for epoch in range(CFG.epochs):\n",
    "        model.train()\n",
    "\n",
    "        pbar_train = enumerate(dataloader_train)\n",
    "        pbar_train = tqdm(pbar_train, total=len(dataloader_train), bar_format=\"{l_bar}{bar:10}{r_bar}{bar:-0b}\")\n",
    "        loss_train, loss_val = 0.0, 0.0\n",
    "        for i, (images, masks) in pbar_train:\n",
    "            images, masks = images.cuda(), masks.cuda()\n",
    "            optimizer.zero_grad()\n",
    "            with amp.autocast():\n",
    "                preds = model(images)\n",
    "                loss = criterion(preds, masks)\n",
    "                scaler.scale(loss).backward()\n",
    "                scaler.step(optimizer)\n",
    "                scaler.update()\n",
    "                loss_train += loss.detach().item()\n",
    "\n",
    "            lr = f\"LR : {scheduler.get_lr()[0]:.2E}\"\n",
    "            gpu_mem = f\"Mem : {torch.cuda.memory_reserved() / 1E9:.3g}GB\"\n",
    "            pbar_train.set_description((\"%10s  \" * 3 + \"%10s\") % (f\"Epoch {epoch}/{CFG.epochs}\", gpu_mem, lr,\n",
    "                                                                  f\"Loss: {loss_train / (i + 1):.4f}\"))\n",
    "\n",
    "        scheduler.step()\n",
    "        model.eval()\n",
    "\n",
    "        cum_pred = []\n",
    "        cum_true = []\n",
    "        pbar_val = enumerate(dataloader_valid)\n",
    "        pbar_val = tqdm(pbar_val, total=len(dataloader_valid), bar_format=\"{l_bar}{bar:10}{r_bar}{bar:-10b}\")\n",
    "        for i, (images, masks) in pbar_val:\n",
    "            images, masks = images.cuda(), masks.cuda()\n",
    "            with torch.no_grad():\n",
    "                preds = model(images)[:, 2]\n",
    "                loss_val += criterion(preds, masks).item()\n",
    "                preds = torch.sigmoid(preds)\n",
    "                cum_pred.append(preds.cpu().detach().numpy())\n",
    "                cum_true.append(masks.cpu().detach().numpy())\n",
    "\n",
    "            pbar_val.set_description((\"%10s\") % (f\"Val Loss: {loss_val / (i+1):.4f}\"))\n",
    "\n",
    "        cum_pred = torch.flatten(torch.from_numpy(np.concatenate(cum_pred, axis=0)))\n",
    "        cum_true = torch.flatten(torch.from_numpy(np.concatenate(cum_true, axis=0)))\n",
    "\n",
    "        dice_score_, thresh = calc_optim_thresh(cum_pred, cum_true, thresholds_to_test)\n",
    "\n",
    "        if dice_score_ > dice_score:\n",
    "            print(f\"score : {dice_score_:.4f}\\tthresh : {thresh}\\tSAVED MODEL\\n\")\n",
    "            slacknotify.send_reply(f\"epoch : {epoch}\\tscore : {dice_score_:.4f}\\tBEST\")\n",
    "            epoch_best = epoch\n",
    "            dice_score = dice_score_\n",
    "            torch.save({'model': model.module.state_dict(), 'dice_score': dice_score, 'thresh': thresh,\n",
    "                        \"model_arch\": CFG.model_arch, \"backbone\": CFG.backbone, \"in_chans\": CFG.in_chans, \"target_size\": CFG.target_size, },\n",
    "                       f'./{CFG.exp_name}/{CFG.exp_name}_fold{fold}.pth')\n",
    "        else:\n",
    "            print(f\"score : {dice_score_:.4f}\\tthresh : {thresh}\\n\")\n",
    "            slacknotify.send_reply(f\"epoch : {epoch}\\tscore : {dice_score_:.4f}\")\n",
    "\n",
    "    slacknotify.send_reply(f\" {CFG.exp_description} training finished\\tbest score : {dice_score}\", True)\n",
    "    print()"
   ]
  },
  {
   "attachments": {},
   "cell_type": "markdown",
   "metadata": {},
   "source": [
    "# Pseudo Labelling"
   ]
  },
  {
   "cell_type": "code",
   "execution_count": 8,
   "metadata": {},
   "outputs": [],
   "source": [
    "def pseudo_inference(dataloader_label, model, thresh, save_dir):\n",
    "    os.makedirs(save_dir, exist_ok=True)\n",
    "    for i, (images, record_ids, times) in tqdm(enumerate(dataloader_label), total=len(dataloader_label)):\n",
    "        images = images.cuda()\n",
    "        with torch.no_grad():\n",
    "            preds = model(images)\n",
    "        preds = torch.sigmoid(preds).cpu().detach().numpy()\n",
    "        preds_thresh = np.where(preds > thresh, 1, 0)\n",
    "\n",
    "        for num in range(images.shape[0]):\n",
    "            pred = preds_thresh[num, :, :, :].transpose(1, 2, 0)\n",
    "            record_id = int(record_ids[num])\n",
    "            time = int(times[num])\n",
    "            save_path = f\"{save_dir}/{record_id}_{time}.npy\"\n",
    "            np.save(save_path, pred)"
   ]
  },
  {
   "cell_type": "code",
   "execution_count": 9,
   "metadata": {},
   "outputs": [
    {
     "name": "stdout",
     "output_type": "stream",
     "text": [
      "model_arch:  Unet\n",
      "backbone:  timm-resnest200e\n",
      "dice_score = 0.6702\n",
      "thresh = 0.11\n"
     ]
    },
    {
     "name": "stderr",
     "output_type": "stream",
     "text": [
      "100%|██████████| 2246/2246 [13:27<00:00,  2.78it/s]\n"
     ]
    },
    {
     "name": "stdout",
     "output_type": "stream",
     "text": [
      "model_arch:  Unet\n",
      "backbone:  timm-resnest200e\n",
      "dice_score = 0.6693\n",
      "thresh = 0.99\n"
     ]
    },
    {
     "name": "stderr",
     "output_type": "stream",
     "text": [
      "100%|██████████| 2246/2246 [13:30<00:00,  2.77it/s]\n"
     ]
    }
   ],
   "source": [
    "for fold in range(CFG.fold):\n",
    "    label_df = train_df[train_df[\"fold\"] == fold]\n",
    "\n",
    "    dataset_label = ContrailsDataset(label_df, CFG.valid_aug_list, \"pseudo_labeling\")\n",
    "    dataloader_label = DataLoader(dataset_label, batch_size=CFG.valid_batch_size, num_workers=CFG.num_workers)\n",
    "\n",
    "    model_path = sorted(glob(f\"./{CFG.exp_name}/*.pth\"))[fold]\n",
    "    model, dice_score, thresh = load_model(model_path)\n",
    "    model.eval()\n",
    "    print(f\"{dice_score = :.4f}\")\n",
    "    print(f\"{thresh = }\")\n",
    "\n",
    "    pseudo_inference(dataloader_label, model, thresh, CFG.new_label_path)"
   ]
  },
  {
   "cell_type": "code",
   "execution_count": 18,
   "metadata": {},
   "outputs": [
    {
     "data": {
      "image/png": "[encoded data removed]",
      "text/plain": [
       "<Figure size 2500x1000 with 7 Axes>"
      ]
     },
     "metadata": {},
     "output_type": "display_data"
    }
   ],
   "source": [
    "no = 16\n",
    "id = os.listdir(CFG.new_label_path)[no*7].split(\"_\")[0]\n",
    "fig, ax = plt.subplots(1, 7, figsize=(25, 10))\n",
    "for i, time in enumerate([0, 1, 2, 3, 5, 6, 7]):\n",
    "    npy = np.load(f\"{CFG.new_label_path}/{id}_{time}.npy\")\n",
    "    ax[i].imshow(npy)"
   ]
  },
  {
   "cell_type": "code",
   "execution_count": null,
   "metadata": {},
   "outputs": [],
   "source": []
  },
  {
   "cell_type": "code",
   "execution_count": null,
   "metadata": {},
   "outputs": [],
   "source": []
  },
  {
   "cell_type": "code",
   "execution_count": 41,
   "metadata": {},
   "outputs": [
    {
     "name": "stdout",
     "output_type": "stream",
     "text": [
      "model_arch:  Unet\n",
      "backbone:  timm-resnest200e\n",
      "dice_score = 0.6695, thresh = 0.83\n"
     ]
    },
    {
     "name": "stderr",
     "output_type": "stream",
     "text": [
      "100%|██████████| 58/58 [00:07<00:00,  7.87it/s]\n"
     ]
    },
    {
     "name": "stdout",
     "output_type": "stream",
     "text": [
      "dice = 0.6695\n"
     ]
    },
    {
     "data": {
      "text/plain": [
       "array([[121344904,     69466],\n",
       "       [    74565,    145881]])"
      ]
     },
     "execution_count": 41,
     "metadata": {},
     "output_type": "execute_result"
    }
   ],
   "source": [
    "device = torch.device('cuda' if torch.cuda.is_available() else 'cpu')\n",
    "\n",
    "model_path = \"/kaggle/working/notebook/experiment/v3/iter03/iter03/iter03_fold0.pth\"\n",
    "model, dice_score, thresh = load_model(model_path)\n",
    "model.eval();\n",
    "print(f\"{dice_score = :.4f}, {thresh = }\")\n",
    "\n",
    "from sklearn.metrics import confusion_matrix\n",
    "cum_pred = []\n",
    "cum_true = []\n",
    "for i, (images, masks) in enumerate(tqdm(dataloader_valid, total=len(dataloader_valid))):\n",
    "    images, masks = images.cuda(), masks.cuda()\n",
    "    with torch.no_grad():\n",
    "        preds = model(images)\n",
    "        preds = torch.sigmoid(preds)\n",
    "        cum_pred.append(preds.cpu().detach().numpy())\n",
    "        cum_true.append(masks.cpu().detach().numpy())\n",
    "cum_pred = torch.flatten(torch.from_numpy(np.concatenate(cum_pred, axis=0)))\n",
    "cum_true = torch.flatten(torch.from_numpy(np.concatenate(cum_true, axis=0)))\n",
    "dice = calc_dice_score(cum_pred, cum_true, thresh)\n",
    "# thresh=thresh+0.01\n",
    "cum_pred_ = np.where(cum_pred > thresh, 1, 0)\n",
    "print(f\"{dice = :.4f}\")\n",
    "cm = confusion_matrix(np.array(cum_true), np.array(cum_pred_))\n",
    "cm"
   ]
  },
  {
   "cell_type": "code",
   "execution_count": null,
   "metadata": {},
   "outputs": [],
   "source": [
    "cm"
   ]
  }
 ],
 "metadata": {
  "kernelspec": {
   "display_name": "Python 3",
   "language": "python",
   "name": "python3"
  },
  "language_info": {
   "codemirror_mode": {
    "name": "ipython",
    "version": 3
   },
   "file_extension": ".py",
   "mimetype": "text/x-python",
   "name": "python",
   "nbconvert_exporter": "python",
   "pygments_lexer": "ipython3",
   "version": "3.10.11"
  }
 },
 "nbformat": 4,
 "nbformat_minor": 4
}

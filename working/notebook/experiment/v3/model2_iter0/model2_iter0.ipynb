{
 "cells": [
  {
   "cell_type": "code",
   "execution_count": 9,
   "metadata": {
    "execution": {
     "iopub.execute_input": "2023-07-22T21:46:16.581990Z",
     "iopub.status.busy": "2023-07-22T21:46:16.580687Z",
     "iopub.status.idle": "2023-07-22T21:46:23.711179Z",
     "shell.execute_reply": "2023-07-22T21:46:23.710592Z"
    }
   },
   "outputs": [],
   "source": [
    "import gc\n",
    "import os\n",
    "import sys\n",
    "import warnings\n",
    "from glob import glob\n",
    "import matplotlib.pyplot as plt\n",
    "\n",
    "from sklearn.model_selection import KFold\n",
    "import albumentations as A\n",
    "from albumentations.pytorch import ToTensorV2\n",
    "import pandas as pd\n",
    "import cv2\n",
    "import torch\n",
    "import torch.nn as nn\n",
    "import torch.nn.functional as F\n",
    "from torch.utils.data import DataLoader\n",
    "import segmentation_models_pytorch as smp\n",
    "from torch.cuda import amp\n",
    "from tqdm import tqdm"
   ]
  },
  {
   "cell_type": "code",
   "execution_count": 10,
   "metadata": {
    "execution": {
     "iopub.execute_input": "2023-07-22T21:46:23.713973Z",
     "iopub.status.busy": "2023-07-22T21:46:23.713624Z",
     "iopub.status.idle": "2023-07-22T21:46:23.830992Z",
     "shell.execute_reply": "2023-07-22T21:46:23.830128Z"
    }
   },
   "outputs": [],
   "source": [
    "sys.path.append('../')\n",
    "from script.metrics import *\n",
    "from script.dataset import *\n",
    "from script.helper import *\n",
    "from script.scheduler import *\n",
    "from script.model import *\n",
    "from script.loss import *"
   ]
  },
  {
   "attachments": {},
   "cell_type": "markdown",
   "metadata": {},
   "source": [
    "# Config"
   ]
  },
  {
   "cell_type": "code",
   "execution_count": 11,
   "metadata": {
    "execution": {
     "iopub.execute_input": "2023-07-22T21:46:23.833796Z",
     "iopub.status.busy": "2023-07-22T21:46:23.833433Z",
     "iopub.status.idle": "2023-07-22T21:46:23.838540Z",
     "shell.execute_reply": "2023-07-22T21:46:23.837704Z"
    }
   },
   "outputs": [],
   "source": [
    "class CFG:\n",
    "    debug = False\n",
    "    # ============== comp exp name =============\n",
    "    comp_name = 'contrail'\n",
    "    comp_dir_path = '/kaggle/input/'\n",
    "    comp_folder_name = 'google-research-identify-contrails-reduce-global-warming'\n",
    "\n",
    "    dataset_path = \"/kaggle/working/dataset_train/pseud_ashcolor_4label/\"\n",
    "    new_label_path = f\"{dataset_path}/labels/model2_iter_0/\"\n",
    "    model_path = \"/kaggle/working/notebook/experiment/v2/model30/model30/model30.pth\"\n",
    "    \n",
    "    valid_batch_size = 32\n",
    "    num_workers = 4\n",
    "    \n",
    "    valid_aug_list = [\n",
    "        ToTensorV2(transpose_mask=True),\n",
    "    ]\n",
    "\n",
    "\n",
    "\n",
    "warnings.filterwarnings(\"ignore\")\n",
    "torch.backends.cudnn.benchmark = True\n",
    "# set_seed(CFG.seed)\n",
    "# os.makedirs(f'./{CFG.exp_name}/', exist_ok=True)\n",
    "pd.set_option('display.max_rows', 500)\n",
    "pd.options.display.max_colwidth = 300"
   ]
  },
  {
   "attachments": {},
   "cell_type": "markdown",
   "metadata": {},
   "source": [
    "# Pseudo Labelling"
   ]
  },
  {
   "cell_type": "code",
   "execution_count": 12,
   "metadata": {
    "execution": {
     "iopub.execute_input": "2023-07-22T21:46:23.840874Z",
     "iopub.status.busy": "2023-07-22T21:46:23.840505Z",
     "iopub.status.idle": "2023-07-22T21:46:24.101378Z",
     "shell.execute_reply": "2023-07-22T21:46:24.100703Z"
    }
   },
   "outputs": [
    {
     "data": {
      "text/html": [
       "<div>\n",
       "<style scoped>\n",
       "    .dataframe tbody tr th:only-of-type {\n",
       "        vertical-align: middle;\n",
       "    }\n",
       "\n",
       "    .dataframe tbody tr th {\n",
       "        vertical-align: top;\n",
       "    }\n",
       "\n",
       "    .dataframe thead th {\n",
       "        text-align: right;\n",
       "    }\n",
       "</style>\n",
       "<table border=\"1\" class=\"dataframe\">\n",
       "  <thead>\n",
       "    <tr style=\"text-align: right;\">\n",
       "      <th></th>\n",
       "      <th>record_id</th>\n",
       "      <th>image_path</th>\n",
       "      <th>time</th>\n",
       "      <th>label_path</th>\n",
       "    </tr>\n",
       "  </thead>\n",
       "  <tbody>\n",
       "    <tr>\n",
       "      <th>0</th>\n",
       "      <td>1000216489776414077</td>\n",
       "      <td>/kaggle/working/dataset_train/pseud_ashcolor_4label/images/1000216489776414077_0.npy</td>\n",
       "      <td>0</td>\n",
       "      <td>NaN</td>\n",
       "    </tr>\n",
       "    <tr>\n",
       "      <th>1</th>\n",
       "      <td>1000216489776414077</td>\n",
       "      <td>/kaggle/working/dataset_train/pseud_ashcolor_4label/images/1000216489776414077_1.npy</td>\n",
       "      <td>1</td>\n",
       "      <td>NaN</td>\n",
       "    </tr>\n",
       "    <tr>\n",
       "      <th>2</th>\n",
       "      <td>1000216489776414077</td>\n",
       "      <td>/kaggle/working/dataset_train/pseud_ashcolor_4label/images/1000216489776414077_2.npy</td>\n",
       "      <td>2</td>\n",
       "      <td>NaN</td>\n",
       "    </tr>\n",
       "    <tr>\n",
       "      <th>3</th>\n",
       "      <td>1000216489776414077</td>\n",
       "      <td>/kaggle/working/dataset_train/pseud_ashcolor_4label/images/1000216489776414077_3.npy</td>\n",
       "      <td>3</td>\n",
       "      <td>NaN</td>\n",
       "    </tr>\n",
       "    <tr>\n",
       "      <th>5</th>\n",
       "      <td>1000216489776414077</td>\n",
       "      <td>/kaggle/working/dataset_train/pseud_ashcolor_4label/images/1000216489776414077_5.npy</td>\n",
       "      <td>5</td>\n",
       "      <td>NaN</td>\n",
       "    </tr>\n",
       "    <tr>\n",
       "      <th>...</th>\n",
       "      <td>...</td>\n",
       "      <td>...</td>\n",
       "      <td>...</td>\n",
       "      <td>...</td>\n",
       "    </tr>\n",
       "    <tr>\n",
       "      <th>164226</th>\n",
       "      <td>999815704182867427</td>\n",
       "      <td>/kaggle/working/dataset_train/pseud_ashcolor_4label/images/999815704182867427_2.npy</td>\n",
       "      <td>2</td>\n",
       "      <td>NaN</td>\n",
       "    </tr>\n",
       "    <tr>\n",
       "      <th>164227</th>\n",
       "      <td>999815704182867427</td>\n",
       "      <td>/kaggle/working/dataset_train/pseud_ashcolor_4label/images/999815704182867427_3.npy</td>\n",
       "      <td>3</td>\n",
       "      <td>NaN</td>\n",
       "    </tr>\n",
       "    <tr>\n",
       "      <th>164229</th>\n",
       "      <td>999815704182867427</td>\n",
       "      <td>/kaggle/working/dataset_train/pseud_ashcolor_4label/images/999815704182867427_5.npy</td>\n",
       "      <td>5</td>\n",
       "      <td>NaN</td>\n",
       "    </tr>\n",
       "    <tr>\n",
       "      <th>164230</th>\n",
       "      <td>999815704182867427</td>\n",
       "      <td>/kaggle/working/dataset_train/pseud_ashcolor_4label/images/999815704182867427_6.npy</td>\n",
       "      <td>6</td>\n",
       "      <td>NaN</td>\n",
       "    </tr>\n",
       "    <tr>\n",
       "      <th>164231</th>\n",
       "      <td>999815704182867427</td>\n",
       "      <td>/kaggle/working/dataset_train/pseud_ashcolor_4label/images/999815704182867427_7.npy</td>\n",
       "      <td>7</td>\n",
       "      <td>NaN</td>\n",
       "    </tr>\n",
       "  </tbody>\n",
       "</table>\n",
       "<p>143703 rows × 4 columns</p>\n",
       "</div>"
      ],
      "text/plain": [
       "                  record_id  \\\n",
       "0       1000216489776414077   \n",
       "1       1000216489776414077   \n",
       "2       1000216489776414077   \n",
       "3       1000216489776414077   \n",
       "5       1000216489776414077   \n",
       "...                     ...   \n",
       "164226   999815704182867427   \n",
       "164227   999815704182867427   \n",
       "164229   999815704182867427   \n",
       "164230   999815704182867427   \n",
       "164231   999815704182867427   \n",
       "\n",
       "                                                                                  image_path  \\\n",
       "0       /kaggle/working/dataset_train/pseud_ashcolor_4label/images/1000216489776414077_0.npy   \n",
       "1       /kaggle/working/dataset_train/pseud_ashcolor_4label/images/1000216489776414077_1.npy   \n",
       "2       /kaggle/working/dataset_train/pseud_ashcolor_4label/images/1000216489776414077_2.npy   \n",
       "3       /kaggle/working/dataset_train/pseud_ashcolor_4label/images/1000216489776414077_3.npy   \n",
       "5       /kaggle/working/dataset_train/pseud_ashcolor_4label/images/1000216489776414077_5.npy   \n",
       "...                                                                                      ...   \n",
       "164226   /kaggle/working/dataset_train/pseud_ashcolor_4label/images/999815704182867427_2.npy   \n",
       "164227   /kaggle/working/dataset_train/pseud_ashcolor_4label/images/999815704182867427_3.npy   \n",
       "164229   /kaggle/working/dataset_train/pseud_ashcolor_4label/images/999815704182867427_5.npy   \n",
       "164230   /kaggle/working/dataset_train/pseud_ashcolor_4label/images/999815704182867427_6.npy   \n",
       "164231   /kaggle/working/dataset_train/pseud_ashcolor_4label/images/999815704182867427_7.npy   \n",
       "\n",
       "        time label_path  \n",
       "0          0        NaN  \n",
       "1          1        NaN  \n",
       "2          2        NaN  \n",
       "3          3        NaN  \n",
       "5          5        NaN  \n",
       "...      ...        ...  \n",
       "164226     2        NaN  \n",
       "164227     3        NaN  \n",
       "164229     5        NaN  \n",
       "164230     6        NaN  \n",
       "164231     7        NaN  \n",
       "\n",
       "[143703 rows x 4 columns]"
      ]
     },
     "execution_count": 12,
     "metadata": {},
     "output_type": "execute_result"
    }
   ],
   "source": [
    "train_df = pd.read_csv(f\"{CFG.dataset_path}/train_df.csv\")\n",
    "label_df = train_df[train_df[\"label_path\"].isnull()]\n",
    "if CFG.debug:\n",
    "    label_df=label_df[:2000]\n",
    "\n",
    "label_df"
   ]
  },
  {
   "cell_type": "code",
   "execution_count": 13,
   "metadata": {
    "execution": {
     "iopub.execute_input": "2023-07-22T21:46:24.123575Z",
     "iopub.status.busy": "2023-07-22T21:46:24.122910Z",
     "iopub.status.idle": "2023-07-22T21:46:24.126663Z",
     "shell.execute_reply": "2023-07-22T21:46:24.126010Z"
    }
   },
   "outputs": [],
   "source": [
    "dataset_label = ContrailsDataset(label_df, CFG.valid_aug_list, \"pseudo_labeling\")\n",
    "dataloader_label = DataLoader(dataset_label, batch_size=CFG.valid_batch_size, num_workers = CFG.num_workers)"
   ]
  },
  {
   "cell_type": "code",
   "execution_count": 14,
   "metadata": {
    "execution": {
     "iopub.execute_input": "2023-07-22T21:46:24.128614Z",
     "iopub.status.busy": "2023-07-22T21:46:24.128382Z",
     "iopub.status.idle": "2023-07-22T21:46:27.983688Z",
     "shell.execute_reply": "2023-07-22T21:46:27.983089Z"
    }
   },
   "outputs": [
    {
     "name": "stdout",
     "output_type": "stream",
     "text": [
      "model_arch:  UnetPlusPlus\n",
      "backbone:  timm-resnest101e\n",
      "dice_score = 0.6702\n",
      "thresh = 0.01\n"
     ]
    }
   ],
   "source": [
    "model, dice_score, thresh=load_model(CFG.model_path)\n",
    "model.eval()\n",
    "print(f\"{dice_score = :.4f}\")\n",
    "print(f\"{thresh = }\")"
   ]
  },
  {
   "cell_type": "code",
   "execution_count": 15,
   "metadata": {
    "execution": {
     "iopub.execute_input": "2023-07-22T21:46:27.985930Z",
     "iopub.status.busy": "2023-07-22T21:46:27.985413Z",
     "iopub.status.idle": "2023-07-23T00:00:29.848063Z",
     "shell.execute_reply": "2023-07-23T00:00:29.847163Z"
    }
   },
   "outputs": [
    {
     "name": "stderr",
     "output_type": "stream",
     "text": [
      "100%|██████████| 4491/4491 [2:21:29<00:00,  1.89s/it]  \n"
     ]
    }
   ],
   "source": [
    "def pseudo_inference(dataloader_label, model, thresh, save_dir):\n",
    "    os.makedirs(save_dir, exist_ok=True)\n",
    "    for i, (images, record_ids, times) in tqdm(enumerate(dataloader_label), total=len(dataloader_label)):\n",
    "        images = images.cuda()\n",
    "        with torch.no_grad():\n",
    "            preds = model(images)\n",
    "        preds = torch.sigmoid(preds).cpu().detach().numpy()\n",
    "        preds_thresh = np.where(preds > thresh, 1, 0)\n",
    "\n",
    "        for num in range(images.shape[0]):\n",
    "            pred = preds_thresh[num, :, :, :].transpose(1, 2, 0)\n",
    "            record_id = int(record_ids[num])\n",
    "            time = int(times[num])\n",
    "            save_path = f\"{save_dir}/{record_id}_{time}.npy\"\n",
    "            np.save(save_path, pred)\n",
    "            \n",
    "pseudo_inference(dataloader_label, model, thresh, CFG.new_label_path)"
   ]
  },
  {
   "cell_type": "code",
   "execution_count": null,
   "metadata": {},
   "outputs": [],
   "source": []
  }
 ],
 "metadata": {
  "kernelspec": {
   "display_name": "Python 3",
   "language": "python",
   "name": "python3"
  },
  "language_info": {
   "codemirror_mode": {
    "name": "ipython",
    "version": 3
   },
   "file_extension": ".py",
   "mimetype": "text/x-python",
   "name": "python",
   "nbconvert_exporter": "python",
   "pygments_lexer": "ipython3",
   "version": "3.10.11"
  }
 },
 "nbformat": 4,
 "nbformat_minor": 4
}

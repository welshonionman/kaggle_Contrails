{
 "cells": [
  {
   "cell_type": "code",
   "execution_count": 1,
   "metadata": {
    "execution": {
     "iopub.execute_input": "2023-06-27T18:54:55.425623Z",
     "iopub.status.busy": "2023-06-27T18:54:55.425400Z",
     "iopub.status.idle": "2023-06-27T18:54:58.072566Z",
     "shell.execute_reply": "2023-06-27T18:54:58.071962Z"
    }
   },
   "outputs": [],
   "source": [
    "import gc\n",
    "import os\n",
    "import sys\n",
    "import warnings\n",
    "from glob import glob\n",
    "import matplotlib.pyplot as plt\n",
    "\n",
    "import albumentations as A\n",
    "from albumentations.pytorch import ToTensorV2\n",
    "import pandas as pd\n",
    "import cv2\n",
    "import torch\n",
    "import torch.nn as nn\n",
    "import torch.nn.functional as F\n",
    "from torch.utils.data import DataLoader\n",
    "import segmentation_models_pytorch as smp\n",
    "from torch.cuda import amp\n",
    "from tqdm import tqdm"
   ]
  },
  {
   "cell_type": "code",
   "execution_count": 2,
   "metadata": {
    "execution": {
     "iopub.execute_input": "2023-06-27T18:54:58.080730Z",
     "iopub.status.busy": "2023-06-27T18:54:58.080439Z",
     "iopub.status.idle": "2023-06-27T18:54:58.146638Z",
     "shell.execute_reply": "2023-06-27T18:54:58.146045Z"
    }
   },
   "outputs": [],
   "source": [
    "sys.path.append('../')\n",
    "from script.metrics import *\n",
    "from script.dataset import *\n",
    "from script.helper import *\n",
    "from script.scheduler import *\n",
    "from script.loss import *"
   ]
  },
  {
   "attachments": {},
   "cell_type": "markdown",
   "metadata": {},
   "source": [
    "### Config"
   ]
  },
  {
   "cell_type": "code",
   "execution_count": 3,
   "metadata": {
    "execution": {
     "iopub.execute_input": "2023-06-27T18:54:58.149185Z",
     "iopub.status.busy": "2023-06-27T18:54:58.148887Z",
     "iopub.status.idle": "2023-06-27T18:54:58.177073Z",
     "shell.execute_reply": "2023-06-27T18:54:58.176429Z"
    }
   },
   "outputs": [],
   "source": [
    "class CFG:\n",
    "    debug = False\n",
    "    # ============== comp exp name =============\n",
    "    comp_name = 'contrail'\n",
    "    comp_dir_path = '/kaggle/input/'\n",
    "    comp_folder_name = 'google-research-identify-contrails-reduce-global-warming'\n",
    "\n",
    "    dataset_path = \"/kaggle/working/dataset_train/ash_color/\"\n",
    "\n",
    "    exp_name = os.getcwd().split('/')[-1]\n",
    "\n",
    "    # ============== model cfg =============\n",
    "    model_arch = 'Unet'\n",
    "    backbone = 'timm-resnest26d'\n",
    "    in_chans = 3\n",
    "    target_size = 1\n",
    "\n",
    "    # ============== training cfg =============\n",
    "    train_batch_size = 32\n",
    "    valid_batch_size = train_batch_size\n",
    "\n",
    "    epochs = 90\n",
    "    epochs_patience = 12\n",
    "\n",
    "    lr = 1e-4\n",
    "    loss = \"DiceLoss\"\n",
    "    smooth=7000\n",
    "    \n",
    "    # ============== fixed =============\n",
    "    num_workers = 4\n",
    "    seed = 42\n",
    "\n",
    "    # ============== augmentation =============\n",
    "    train_aug_list = [\n",
    "        A.RandomRotate90(),\n",
    "        A.RandomBrightnessContrast(),\n",
    "        A.ShiftScaleRotate(p=0.5,rotate_limit=(10,10)),\n",
    "        A.GridDistortion(num_steps=5, distort_limit=0.3, p=0.5),\n",
    "        A.CoarseDropout(max_holes=10, max_width=int(256 * 0.05), max_height=int(256 * 0.05),\n",
    "                        mask_fill_value=0, p=0.5),\n",
    "        A.RandomGridShuffle(),\n",
    "        ToTensorV2(transpose_mask=True),\n",
    "    ]\n",
    "\n",
    "    valid_aug_list = [\n",
    "        ToTensorV2(transpose_mask=True),\n",
    "    ]\n",
    "\n",
    "\n",
    "warnings.filterwarnings(\"ignore\")\n",
    "torch.backends.cudnn.benchmark = True\n",
    "device = torch.device('cuda' if torch.cuda.is_available() else 'cpu')\n",
    "set_seed(CFG.seed)\n",
    "os.makedirs(f'./{CFG.exp_name}/', exist_ok=True)"
   ]
  },
  {
   "attachments": {},
   "cell_type": "markdown",
   "metadata": {},
   "source": [
    "# Dataset"
   ]
  },
  {
   "cell_type": "code",
   "execution_count": 4,
   "metadata": {
    "execution": {
     "iopub.execute_input": "2023-06-27T18:54:58.179028Z",
     "iopub.status.busy": "2023-06-27T18:54:58.178795Z",
     "iopub.status.idle": "2023-06-27T18:54:58.239175Z",
     "shell.execute_reply": "2023-06-27T18:54:58.238593Z"
    }
   },
   "outputs": [
    {
     "data": {
      "text/plain": [
       "((20529, 2), (1856, 2))"
      ]
     },
     "execution_count": 4,
     "metadata": {},
     "output_type": "execute_result"
    }
   ],
   "source": [
    "train_df = pd.read_csv(f\"{CFG.dataset_path}/train_df.csv\")\n",
    "valid_df = pd.read_csv(f\"{CFG.dataset_path}/validation_df.csv\")\n",
    "\n",
    "if CFG.debug:\n",
    "    train_df=train_df[:2000]\n",
    "    valid_df=valid_df[:2000]\n",
    "train_df.shape, valid_df.shape"
   ]
  },
  {
   "cell_type": "code",
   "execution_count": 5,
   "metadata": {
    "execution": {
     "iopub.execute_input": "2023-06-27T18:54:58.260588Z",
     "iopub.status.busy": "2023-06-27T18:54:58.260151Z",
     "iopub.status.idle": "2023-06-27T18:54:58.327073Z",
     "shell.execute_reply": "2023-06-27T18:54:58.326097Z"
    }
   },
   "outputs": [
    {
     "name": "stdout",
     "output_type": "stream",
     "text": [
      "\n",
      "len(dataset_train) = 20529\n",
      "train_image_shape : torch.Size([3, 256, 256])\n",
      "train_mask_shape  : torch.Size([1, 256, 256])\n",
      "train_image_dtype : torch.float32\n",
      "train_mask_dtype : torch.float32\n",
      "\n",
      "len(dataset_valid) = 1856\n",
      "valid_image_shape : torch.Size([3, 256, 256])\n",
      "valid_mask_shape  : torch.Size([1, 256, 256])\n",
      "valid_image_dtype : torch.float32\n",
      "valid_mask_dtype : torch.float32\n",
      "\n"
     ]
    }
   ],
   "source": [
    "dataset_train = ContrailsDataset(train_df, CFG.train_aug_list)\n",
    "dataset_valid = ContrailsDataset(valid_df, CFG.valid_aug_list)\n",
    "\n",
    "dataloader_train = DataLoader(dataset_train, batch_size=CFG.train_batch_size , shuffle=True, num_workers = CFG.num_workers)\n",
    "dataloader_valid = DataLoader(dataset_valid, batch_size=CFG.valid_batch_size, num_workers = CFG.num_workers)\n",
    "\n",
    "print(f\"\"\"\n",
    "{len(dataset_train) = }\n",
    "train_image_shape : {dataset_train[0][0].shape}\n",
    "train_mask_shape  : {dataset_train[0][1].shape}\n",
    "train_image_dtype : {dataset_train[0][0].dtype}\n",
    "train_mask_dtype : {dataset_train[0][1].dtype}\n",
    "\n",
    "{len(dataset_valid) = }\n",
    "valid_image_shape : {dataset_valid[0][0].shape}\n",
    "valid_mask_shape  : {dataset_valid[0][1].shape}\n",
    "valid_image_dtype : {dataset_valid[0][0].dtype}\n",
    "valid_mask_dtype : {dataset_valid[0][1].dtype}\n",
    "\"\"\")\n",
    "\n",
    "# show_dataset(112, dataset_train)"
   ]
  },
  {
   "attachments": {},
   "cell_type": "markdown",
   "metadata": {},
   "source": [
    "# Model"
   ]
  },
  {
   "cell_type": "code",
   "execution_count": 6,
   "metadata": {
    "execution": {
     "iopub.execute_input": "2023-06-27T18:54:58.329379Z",
     "iopub.status.busy": "2023-06-27T18:54:58.329114Z",
     "iopub.status.idle": "2023-06-27T18:54:59.586602Z",
     "shell.execute_reply": "2023-06-27T18:54:59.586010Z"
    }
   },
   "outputs": [
    {
     "name": "stdout",
     "output_type": "stream",
     "text": [
      "model_arch:  Unet\n",
      "backbone:  timm-resnest26d\n"
     ]
    }
   ],
   "source": [
    "class CustomModel(nn.Module):\n",
    "    def __init__(self,model_arch, backbone, in_chans, target_size, weight):\n",
    "        super().__init__()\n",
    "\n",
    "        self.model = smp.create_model(\n",
    "            model_arch,\n",
    "            encoder_name=backbone,\n",
    "            encoder_weights=weight,\n",
    "            in_channels=in_chans,\n",
    "            classes=target_size,\n",
    "            activation=None,\n",
    "        )\n",
    "        \n",
    "    def forward(self, image):\n",
    "        output = self.model(image)\n",
    "        return output\n",
    "\n",
    "\n",
    "def build_model(model_arch, backbone, in_chans, target_size, weight=\"imagenet\"):\n",
    "    print('model_arch: ', model_arch)\n",
    "    print('backbone: ', backbone)\n",
    "    model = CustomModel(model_arch, backbone, in_chans, target_size, weight)\n",
    "    return model\n",
    "\n",
    "\n",
    "num_gpus = torch.cuda.device_count()\n",
    "device_ids = list(range(num_gpus))\n",
    "\n",
    "model = build_model(CFG.model_arch, CFG.backbone, CFG.in_chans, CFG.target_size)\n",
    "model = nn.DataParallel(model, device_ids=device_ids)\n",
    "model.to(device);"
   ]
  },
  {
   "cell_type": "code",
   "execution_count": 7,
   "metadata": {
    "execution": {
     "iopub.execute_input": "2023-06-27T18:54:59.588788Z",
     "iopub.status.busy": "2023-06-27T18:54:59.588499Z",
     "iopub.status.idle": "2023-06-27T18:54:59.591902Z",
     "shell.execute_reply": "2023-06-27T18:54:59.591489Z"
    }
   },
   "outputs": [],
   "source": [
    "scaler = amp.GradScaler()\n",
    "criterion = get_lossfn(CFG, CFG.smooth)\n",
    "optimizer = torch.optim.AdamW(model.parameters(), lr=CFG.lr)\n",
    "scheduler = get_scheduler(CFG, optimizer)\n",
    "\n",
    "thresholds_to_test = [round(x * 0.01, 2) for x in range(1, 101, 2)]"
   ]
  },
  {
   "attachments": {},
   "cell_type": "markdown",
   "metadata": {},
   "source": [
    "# Training"
   ]
  },
  {
   "cell_type": "code",
   "execution_count": 8,
   "metadata": {
    "execution": {
     "iopub.execute_input": "2023-06-27T18:54:59.593852Z",
     "iopub.status.busy": "2023-06-27T18:54:59.593443Z",
     "iopub.status.idle": "2023-06-27T21:23:44.920322Z",
     "shell.execute_reply": "2023-06-27T21:23:44.917184Z"
    }
   },
   "outputs": [
    {
     "name": "stderr",
     "output_type": "stream",
     "text": [
      "Epoch 0/90  Mem : 7.79GB  LR : 1.00E-04  Loss: 0.7348: 100%|██████████| 642/642 \n",
      "Val Loss: 0.3516: 100%|██████████| 58/58 [00:03<00:00, 16.16it/s]               \n"
     ]
    },
    {
     "name": "stdout",
     "output_type": "stream",
     "text": [
      "FBeta : 0.5178\tthresh : 0.06\tSAVED MODEL\n",
      "\n"
     ]
    },
    {
     "name": "stderr",
     "output_type": "stream",
     "text": [
      "Epoch 1/90  Mem : 7.79GB  LR : 1.00E-03  Loss: 0.3964: 100%|██████████| 642/642 \n",
      "Val Loss: 0.2366: 100%|██████████| 58/58 [00:03<00:00, 14.68it/s]               \n"
     ]
    },
    {
     "name": "stdout",
     "output_type": "stream",
     "text": [
      "FBeta : 0.4868\tthresh : 0.01\n",
      "\n"
     ]
    },
    {
     "name": "stderr",
     "output_type": "stream",
     "text": [
      "Epoch 2/90  Mem : 7.79GB  LR : 1.00E-03  Loss: 0.3658: 100%|██████████| 642/642 \n",
      "Val Loss: 0.2297: 100%|██████████| 58/58 [00:03<00:00, 14.64it/s]               \n"
     ]
    },
    {
     "name": "stdout",
     "output_type": "stream",
     "text": [
      "FBeta : 0.5120\tthresh : 0.01\n",
      "\n"
     ]
    },
    {
     "name": "stderr",
     "output_type": "stream",
     "text": [
      "Epoch 3/90  Mem : 7.79GB  LR : 1.00E-03  Loss: 0.3539: 100%|██████████| 642/642 \n",
      "Val Loss: 0.2224: 100%|██████████| 58/58 [00:03<00:00, 14.98it/s]               \n"
     ]
    },
    {
     "name": "stdout",
     "output_type": "stream",
     "text": [
      "FBeta : 0.5165\tthresh : 0.01\n",
      "\n"
     ]
    },
    {
     "name": "stderr",
     "output_type": "stream",
     "text": [
      "Epoch 4/90  Mem : 7.79GB  LR : 1.00E-03  Loss: 0.3456: 100%|██████████| 642/642 \n",
      "Val Loss: 0.2193: 100%|██████████| 58/58 [00:03<00:00, 14.98it/s]               \n"
     ]
    },
    {
     "name": "stdout",
     "output_type": "stream",
     "text": [
      "FBeta : 0.5186\tthresh : 0.01\tSAVED MODEL\n",
      "\n"
     ]
    },
    {
     "name": "stderr",
     "output_type": "stream",
     "text": [
      "Epoch 5/90  Mem : 7.79GB  LR : 1.00E-03  Loss: 0.3441: 100%|██████████| 642/642 \n",
      "Val Loss: 0.2286: 100%|██████████| 58/58 [00:03<00:00, 15.04it/s]               \n"
     ]
    },
    {
     "name": "stdout",
     "output_type": "stream",
     "text": [
      "FBeta : 0.5334\tthresh : 0.46\tSAVED MODEL\n",
      "\n"
     ]
    },
    {
     "name": "stderr",
     "output_type": "stream",
     "text": [
      "Epoch 6/90  Mem : 7.79GB  LR : 1.00E-03  Loss: 0.3389: 100%|██████████| 642/642 \n",
      "Val Loss: 0.2208: 100%|██████████| 58/58 [00:04<00:00, 14.49it/s]               \n"
     ]
    },
    {
     "name": "stdout",
     "output_type": "stream",
     "text": [
      "FBeta : 0.5392\tthresh : 0.06\tSAVED MODEL\n",
      "\n"
     ]
    },
    {
     "name": "stderr",
     "output_type": "stream",
     "text": [
      "Epoch 7/90  Mem : 7.79GB  LR : 1.00E-03  Loss: 0.3379: 100%|██████████| 642/642 \n",
      "Val Loss: 0.2101: 100%|██████████| 58/58 [00:03<00:00, 14.69it/s]               \n"
     ]
    },
    {
     "name": "stdout",
     "output_type": "stream",
     "text": [
      "FBeta : 0.5609\tthresh : 0.06\tSAVED MODEL\n",
      "\n"
     ]
    },
    {
     "name": "stderr",
     "output_type": "stream",
     "text": [
      "Epoch 8/90  Mem : 7.79GB  LR : 1.00E-03  Loss: 0.3338: 100%|██████████| 642/642 \n",
      "Val Loss: 0.2026: 100%|██████████| 58/58 [00:03<00:00, 14.91it/s]               \n"
     ]
    },
    {
     "name": "stdout",
     "output_type": "stream",
     "text": [
      "FBeta : 0.5579\tthresh : 0.01\n",
      "\n"
     ]
    },
    {
     "name": "stderr",
     "output_type": "stream",
     "text": [
      "Epoch 9/90  Mem : 7.79GB  LR : 1.00E-03  Loss: 0.3318: 100%|██████████| 642/642 \n",
      "Val Loss: 0.2110: 100%|██████████| 58/58 [00:03<00:00, 15.02it/s]               \n"
     ]
    },
    {
     "name": "stdout",
     "output_type": "stream",
     "text": [
      "FBeta : 0.5301\tthresh : 0.01\n",
      "\n"
     ]
    },
    {
     "name": "stderr",
     "output_type": "stream",
     "text": [
      "Epoch 10/90  Mem : 7.79GB  LR : 1.00E-03  Loss: 0.3289: 100%|██████████| 642/642\n",
      "Val Loss: 0.2028: 100%|██████████| 58/58 [00:03<00:00, 14.70it/s]               \n"
     ]
    },
    {
     "name": "stdout",
     "output_type": "stream",
     "text": [
      "FBeta : 0.5770\tthresh : 0.06\tSAVED MODEL\n",
      "\n"
     ]
    },
    {
     "name": "stderr",
     "output_type": "stream",
     "text": [
      "Epoch 11/90  Mem : 7.79GB  LR : 1.00E-03  Loss: 0.3276: 100%|██████████| 642/642\n",
      "Val Loss: 0.2056: 100%|██████████| 58/58 [00:03<00:00, 14.98it/s]               \n"
     ]
    },
    {
     "name": "stdout",
     "output_type": "stream",
     "text": [
      "FBeta : 0.5792\tthresh : 0.11\tSAVED MODEL\n",
      "\n"
     ]
    },
    {
     "name": "stderr",
     "output_type": "stream",
     "text": [
      "Epoch 12/90  Mem : 7.79GB  LR : 1.00E-03  Loss: 0.3262: 100%|██████████| 642/642\n",
      "Val Loss: 0.2122: 100%|██████████| 58/58 [00:03<00:00, 15.07it/s]               \n"
     ]
    },
    {
     "name": "stdout",
     "output_type": "stream",
     "text": [
      "FBeta : 0.5626\tthresh : 0.06\n",
      "\n"
     ]
    },
    {
     "name": "stderr",
     "output_type": "stream",
     "text": [
      "Epoch 13/90  Mem : 7.79GB  LR : 1.00E-03  Loss: 0.3226: 100%|██████████| 642/642\n",
      "Val Loss: 0.2061: 100%|██████████| 58/58 [00:03<00:00, 14.79it/s]               \n"
     ]
    },
    {
     "name": "stdout",
     "output_type": "stream",
     "text": [
      "FBeta : 0.5581\tthresh : 0.01\n",
      "\n"
     ]
    },
    {
     "name": "stderr",
     "output_type": "stream",
     "text": [
      "Epoch 14/90  Mem : 7.79GB  LR : 1.00E-03  Loss: 0.3223: 100%|██████████| 642/642\n",
      "Val Loss: 0.1940: 100%|██████████| 58/58 [00:03<00:00, 14.86it/s]               \n"
     ]
    },
    {
     "name": "stdout",
     "output_type": "stream",
     "text": [
      "FBeta : 0.5872\tthresh : 0.01\tSAVED MODEL\n",
      "\n"
     ]
    },
    {
     "name": "stderr",
     "output_type": "stream",
     "text": [
      "Epoch 15/90  Mem : 7.79GB  LR : 1.00E-03  Loss: 0.3215: 100%|██████████| 642/642\n",
      "Val Loss: 0.1996: 100%|██████████| 58/58 [00:03<00:00, 15.04it/s]               \n"
     ]
    },
    {
     "name": "stdout",
     "output_type": "stream",
     "text": [
      "FBeta : 0.5676\tthresh : 0.01\n",
      "\n"
     ]
    },
    {
     "name": "stderr",
     "output_type": "stream",
     "text": [
      "Epoch 16/90  Mem : 7.79GB  LR : 1.00E-03  Loss: 0.3201: 100%|██████████| 642/642\n",
      "Val Loss: 0.2000: 100%|██████████| 58/58 [00:03<00:00, 14.86it/s]               \n"
     ]
    },
    {
     "name": "stdout",
     "output_type": "stream",
     "text": [
      "FBeta : 0.5676\tthresh : 0.01\n",
      "\n"
     ]
    },
    {
     "name": "stderr",
     "output_type": "stream",
     "text": [
      "Epoch 17/90  Mem : 7.79GB  LR : 1.00E-03  Loss: 0.3189: 100%|██████████| 642/642\n",
      "Val Loss: 0.1951: 100%|██████████| 58/58 [00:03<00:00, 14.89it/s]               \n"
     ]
    },
    {
     "name": "stdout",
     "output_type": "stream",
     "text": [
      "FBeta : 0.5885\tthresh : 0.01\tSAVED MODEL\n",
      "\n"
     ]
    },
    {
     "name": "stderr",
     "output_type": "stream",
     "text": [
      "Epoch 18/90  Mem : 7.79GB  LR : 1.00E-03  Loss: 0.3170: 100%|██████████| 642/642\n",
      "Val Loss: 0.1934: 100%|██████████| 58/58 [00:03<00:00, 15.03it/s]               \n"
     ]
    },
    {
     "name": "stdout",
     "output_type": "stream",
     "text": [
      "FBeta : 0.6019\tthresh : 0.06\tSAVED MODEL\n",
      "\n"
     ]
    },
    {
     "name": "stderr",
     "output_type": "stream",
     "text": [
      "Epoch 19/90  Mem : 7.79GB  LR : 1.00E-03  Loss: 0.3162: 100%|██████████| 642/642\n",
      "Val Loss: 0.1898: 100%|██████████| 58/58 [00:03<00:00, 15.07it/s]               \n"
     ]
    },
    {
     "name": "stdout",
     "output_type": "stream",
     "text": [
      "FBeta : 0.5908\tthresh : 0.01\n",
      "\n"
     ]
    },
    {
     "name": "stderr",
     "output_type": "stream",
     "text": [
      "Epoch 20/90  Mem : 7.79GB  LR : 1.00E-03  Loss: 0.3167: 100%|██████████| 642/642\n",
      "Val Loss: 0.1965: 100%|██████████| 58/58 [00:03<00:00, 14.82it/s]               \n"
     ]
    },
    {
     "name": "stdout",
     "output_type": "stream",
     "text": [
      "FBeta : 0.5797\tthresh : 0.06\n",
      "\n"
     ]
    },
    {
     "name": "stderr",
     "output_type": "stream",
     "text": [
      "Epoch 21/90  Mem : 7.79GB  LR : 1.00E-03  Loss: 0.3142: 100%|██████████| 642/642\n",
      "Val Loss: 0.1922: 100%|██████████| 58/58 [00:03<00:00, 14.88it/s]               \n"
     ]
    },
    {
     "name": "stdout",
     "output_type": "stream",
     "text": [
      "FBeta : 0.6030\tthresh : 0.26\tSAVED MODEL\n",
      "\n"
     ]
    },
    {
     "name": "stderr",
     "output_type": "stream",
     "text": [
      "Epoch 22/90  Mem : 7.79GB  LR : 1.00E-03  Loss: 0.3122: 100%|██████████| 642/642\n",
      "Val Loss: 0.1900: 100%|██████████| 58/58 [00:03<00:00, 14.59it/s]               \n"
     ]
    },
    {
     "name": "stdout",
     "output_type": "stream",
     "text": [
      "FBeta : 0.5991\tthresh : 0.01\n",
      "\n"
     ]
    },
    {
     "name": "stderr",
     "output_type": "stream",
     "text": [
      "Epoch 23/90  Mem : 7.79GB  LR : 1.00E-03  Loss: 0.3117: 100%|██████████| 642/642\n",
      "Val Loss: 0.1911: 100%|██████████| 58/58 [00:03<00:00, 14.97it/s]               \n"
     ]
    },
    {
     "name": "stdout",
     "output_type": "stream",
     "text": [
      "FBeta : 0.5960\tthresh : 0.01\n",
      "\n"
     ]
    },
    {
     "name": "stderr",
     "output_type": "stream",
     "text": [
      "Epoch 24/90  Mem : 7.79GB  LR : 1.00E-03  Loss: 0.3120: 100%|██████████| 642/642\n",
      "Val Loss: 0.1958: 100%|██████████| 58/58 [00:03<00:00, 14.92it/s]               \n"
     ]
    },
    {
     "name": "stdout",
     "output_type": "stream",
     "text": [
      "FBeta : 0.5848\tthresh : 0.01\n",
      "\n"
     ]
    },
    {
     "name": "stderr",
     "output_type": "stream",
     "text": [
      "Epoch 25/90  Mem : 7.79GB  LR : 1.00E-03  Loss: 0.3133: 100%|██████████| 642/642\n",
      "Val Loss: 0.1908: 100%|██████████| 58/58 [00:03<00:00, 14.56it/s]               \n"
     ]
    },
    {
     "name": "stdout",
     "output_type": "stream",
     "text": [
      "FBeta : 0.6001\tthresh : 0.01\n",
      "\n"
     ]
    },
    {
     "name": "stderr",
     "output_type": "stream",
     "text": [
      "Epoch 26/90  Mem : 7.79GB  LR : 1.00E-03  Loss: 0.3079: 100%|██████████| 642/642\n",
      "Val Loss: 0.1933: 100%|██████████| 58/58 [00:03<00:00, 14.90it/s]               \n"
     ]
    },
    {
     "name": "stdout",
     "output_type": "stream",
     "text": [
      "FBeta : 0.5947\tthresh : 0.01\n",
      "\n"
     ]
    },
    {
     "name": "stderr",
     "output_type": "stream",
     "text": [
      "Epoch 27/90  Mem : 7.79GB  LR : 1.00E-03  Loss: 0.3093: 100%|██████████| 642/642\n",
      "Val Loss: 0.1946: 100%|██████████| 58/58 [00:03<00:00, 14.97it/s]               \n"
     ]
    },
    {
     "name": "stdout",
     "output_type": "stream",
     "text": [
      "FBeta : 0.5804\tthresh : 0.01\n",
      "\n"
     ]
    },
    {
     "name": "stderr",
     "output_type": "stream",
     "text": [
      "Epoch 28/90  Mem : 7.79GB  LR : 1.00E-03  Loss: 0.3065: 100%|██████████| 642/642\n",
      "Val Loss: 0.1895: 100%|██████████| 58/58 [00:03<00:00, 14.95it/s]               \n"
     ]
    },
    {
     "name": "stdout",
     "output_type": "stream",
     "text": [
      "FBeta : 0.5915\tthresh : 0.01\n",
      "\n"
     ]
    },
    {
     "name": "stderr",
     "output_type": "stream",
     "text": [
      "Epoch 29/90  Mem : 7.79GB  LR : 1.00E-03  Loss: 0.3074: 100%|██████████| 642/642\n",
      "Val Loss: 0.1910: 100%|██████████| 58/58 [00:03<00:00, 15.09it/s]               \n"
     ]
    },
    {
     "name": "stdout",
     "output_type": "stream",
     "text": [
      "FBeta : 0.6028\tthresh : 0.01\n",
      "\n"
     ]
    },
    {
     "name": "stderr",
     "output_type": "stream",
     "text": [
      "Epoch 30/90  Mem : 7.79GB  LR : 1.00E-03  Loss: 0.3071: 100%|██████████| 642/642\n",
      "Val Loss: 0.1907: 100%|██████████| 58/58 [00:03<00:00, 15.08it/s]               \n"
     ]
    },
    {
     "name": "stdout",
     "output_type": "stream",
     "text": [
      "FBeta : 0.5930\tthresh : 0.01\n",
      "\n"
     ]
    },
    {
     "name": "stderr",
     "output_type": "stream",
     "text": [
      "Epoch 31/90  Mem : 7.79GB  LR : 1.00E-03  Loss: 0.3034: 100%|██████████| 642/642\n",
      "Val Loss: 0.1884: 100%|██████████| 58/58 [00:03<00:00, 14.80it/s]               \n"
     ]
    },
    {
     "name": "stdout",
     "output_type": "stream",
     "text": [
      "FBeta : 0.6038\tthresh : 0.01\tSAVED MODEL\n",
      "\n"
     ]
    },
    {
     "name": "stderr",
     "output_type": "stream",
     "text": [
      "Epoch 32/90  Mem : 7.79GB  LR : 1.00E-03  Loss: 0.3031: 100%|██████████| 642/642\n",
      "Val Loss: 0.1888: 100%|██████████| 58/58 [00:03<00:00, 15.05it/s]               \n"
     ]
    },
    {
     "name": "stdout",
     "output_type": "stream",
     "text": [
      "FBeta : 0.6138\tthresh : 0.21\tSAVED MODEL\n",
      "\n"
     ]
    },
    {
     "name": "stderr",
     "output_type": "stream",
     "text": [
      "Epoch 33/90  Mem : 7.79GB  LR : 1.00E-03  Loss: 0.3034: 100%|██████████| 642/642\n",
      "Val Loss: 0.1828: 100%|██████████| 58/58 [00:03<00:00, 15.10it/s]               \n"
     ]
    },
    {
     "name": "stdout",
     "output_type": "stream",
     "text": [
      "FBeta : 0.6144\tthresh : 0.01\tSAVED MODEL\n",
      "\n"
     ]
    },
    {
     "name": "stderr",
     "output_type": "stream",
     "text": [
      "Epoch 34/90  Mem : 7.79GB  LR : 1.00E-03  Loss: 0.3039: 100%|██████████| 642/642\n",
      "Val Loss: 0.1860: 100%|██████████| 58/58 [00:03<00:00, 14.98it/s]               \n"
     ]
    },
    {
     "name": "stdout",
     "output_type": "stream",
     "text": [
      "FBeta : 0.6100\tthresh : 0.01\n",
      "\n"
     ]
    },
    {
     "name": "stderr",
     "output_type": "stream",
     "text": [
      "Epoch 35/90  Mem : 7.79GB  LR : 1.00E-03  Loss: 0.3030: 100%|██████████| 642/642\n",
      "Val Loss: 0.1979: 100%|██████████| 58/58 [00:03<00:00, 15.00it/s]               \n"
     ]
    },
    {
     "name": "stdout",
     "output_type": "stream",
     "text": [
      "FBeta : 0.6023\tthresh : 0.81\n",
      "\n"
     ]
    },
    {
     "name": "stderr",
     "output_type": "stream",
     "text": [
      "Epoch 36/90  Mem : 7.79GB  LR : 1.00E-03  Loss: 0.3018: 100%|██████████| 642/642\n",
      "Val Loss: 0.1907: 100%|██████████| 58/58 [00:03<00:00, 15.09it/s]               \n"
     ]
    },
    {
     "name": "stdout",
     "output_type": "stream",
     "text": [
      "FBeta : 0.6120\tthresh : 0.16\n",
      "\n"
     ]
    },
    {
     "name": "stderr",
     "output_type": "stream",
     "text": [
      "Epoch 37/90  Mem : 7.79GB  LR : 1.00E-03  Loss: 0.3022: 100%|██████████| 642/642\n",
      "Val Loss: 0.1827: 100%|██████████| 58/58 [00:03<00:00, 14.89it/s]               \n"
     ]
    },
    {
     "name": "stdout",
     "output_type": "stream",
     "text": [
      "FBeta : 0.6026\tthresh : 0.01\n",
      "\n"
     ]
    },
    {
     "name": "stderr",
     "output_type": "stream",
     "text": [
      "Epoch 38/90  Mem : 7.79GB  LR : 1.00E-03  Loss: 0.2990: 100%|██████████| 642/642\n",
      "Val Loss: 0.1856: 100%|██████████| 58/58 [00:03<00:00, 14.96it/s]               \n"
     ]
    },
    {
     "name": "stdout",
     "output_type": "stream",
     "text": [
      "FBeta : 0.6162\tthresh : 0.01\tSAVED MODEL\n",
      "\n"
     ]
    },
    {
     "name": "stderr",
     "output_type": "stream",
     "text": [
      "Epoch 39/90  Mem : 7.79GB  LR : 1.00E-03  Loss: 0.2989: 100%|██████████| 642/642\n",
      "Val Loss: 0.1895: 100%|██████████| 58/58 [00:03<00:00, 15.03it/s]               \n"
     ]
    },
    {
     "name": "stdout",
     "output_type": "stream",
     "text": [
      "FBeta : 0.6083\tthresh : 0.06\n",
      "\n"
     ]
    },
    {
     "name": "stderr",
     "output_type": "stream",
     "text": [
      "Epoch 40/90  Mem : 7.79GB  LR : 1.00E-03  Loss: 0.2964: 100%|██████████| 642/642\n",
      "Val Loss: 0.1853: 100%|██████████| 58/58 [00:03<00:00, 15.00it/s]               \n"
     ]
    },
    {
     "name": "stdout",
     "output_type": "stream",
     "text": [
      "FBeta : 0.6147\tthresh : 0.01\n",
      "\n"
     ]
    },
    {
     "name": "stderr",
     "output_type": "stream",
     "text": [
      "Epoch 41/90  Mem : 7.79GB  LR : 1.00E-03  Loss: 0.2962: 100%|██████████| 642/642\n",
      "Val Loss: 0.1920: 100%|██████████| 58/58 [00:03<00:00, 14.97it/s]               \n"
     ]
    },
    {
     "name": "stdout",
     "output_type": "stream",
     "text": [
      "FBeta : 0.5945\tthresh : 0.01\n",
      "\n"
     ]
    },
    {
     "name": "stderr",
     "output_type": "stream",
     "text": [
      "Epoch 42/90  Mem : 7.79GB  LR : 1.00E-03  Loss: 0.2966: 100%|██████████| 642/642\n",
      "Val Loss: 0.1801: 100%|██████████| 58/58 [00:03<00:00, 14.90it/s]               \n"
     ]
    },
    {
     "name": "stdout",
     "output_type": "stream",
     "text": [
      "FBeta : 0.6187\tthresh : 0.01\tSAVED MODEL\n",
      "\n"
     ]
    },
    {
     "name": "stderr",
     "output_type": "stream",
     "text": [
      "Epoch 43/90  Mem : 7.79GB  LR : 1.00E-03  Loss: 0.2951: 100%|██████████| 642/642\n",
      "Val Loss: 0.1797: 100%|██████████| 58/58 [00:03<00:00, 14.98it/s]               \n"
     ]
    },
    {
     "name": "stdout",
     "output_type": "stream",
     "text": [
      "FBeta : 0.6165\tthresh : 0.01\n",
      "\n"
     ]
    },
    {
     "name": "stderr",
     "output_type": "stream",
     "text": [
      "Epoch 44/90  Mem : 7.79GB  LR : 1.00E-03  Loss: 0.2956: 100%|██████████| 642/642\n",
      "Val Loss: 0.1885: 100%|██████████| 58/58 [00:03<00:00, 14.80it/s]               \n"
     ]
    },
    {
     "name": "stdout",
     "output_type": "stream",
     "text": [
      "FBeta : 0.6083\tthresh : 0.01\n",
      "\n"
     ]
    },
    {
     "name": "stderr",
     "output_type": "stream",
     "text": [
      "Epoch 45/90  Mem : 7.79GB  LR : 1.00E-03  Loss: 0.2931: 100%|██████████| 642/642\n",
      "Val Loss: 0.1786: 100%|██████████| 58/58 [00:03<00:00, 15.02it/s]               \n"
     ]
    },
    {
     "name": "stdout",
     "output_type": "stream",
     "text": [
      "FBeta : 0.6219\tthresh : 0.01\tSAVED MODEL\n",
      "\n"
     ]
    },
    {
     "name": "stderr",
     "output_type": "stream",
     "text": [
      "Epoch 46/90  Mem : 7.79GB  LR : 1.00E-03  Loss: 0.2932: 100%|██████████| 642/642\n",
      "Val Loss: 0.1789: 100%|██████████| 58/58 [00:03<00:00, 14.92it/s]               \n"
     ]
    },
    {
     "name": "stdout",
     "output_type": "stream",
     "text": [
      "FBeta : 0.6285\tthresh : 0.01\tSAVED MODEL\n",
      "\n"
     ]
    },
    {
     "name": "stderr",
     "output_type": "stream",
     "text": [
      "Epoch 47/90  Mem : 7.79GB  LR : 1.00E-03  Loss: 0.2914: 100%|██████████| 642/642\n",
      "Val Loss: 0.1824: 100%|██████████| 58/58 [00:03<00:00, 14.88it/s]               \n"
     ]
    },
    {
     "name": "stdout",
     "output_type": "stream",
     "text": [
      "FBeta : 0.6257\tthresh : 0.11\n",
      "\n"
     ]
    },
    {
     "name": "stderr",
     "output_type": "stream",
     "text": [
      "Epoch 48/90  Mem : 7.79GB  LR : 1.00E-03  Loss: 0.2915: 100%|██████████| 642/642\n",
      "Val Loss: 0.1869: 100%|██████████| 58/58 [00:03<00:00, 14.80it/s]               \n"
     ]
    },
    {
     "name": "stdout",
     "output_type": "stream",
     "text": [
      "FBeta : 0.6085\tthresh : 0.01\n",
      "\n"
     ]
    },
    {
     "name": "stderr",
     "output_type": "stream",
     "text": [
      "Epoch 49/90  Mem : 7.79GB  LR : 1.00E-03  Loss: 0.2900: 100%|██████████| 642/642\n",
      "Val Loss: 0.1788: 100%|██████████| 58/58 [00:03<00:00, 15.03it/s]               \n"
     ]
    },
    {
     "name": "stdout",
     "output_type": "stream",
     "text": [
      "FBeta : 0.6229\tthresh : 0.01\n",
      "\n"
     ]
    },
    {
     "name": "stderr",
     "output_type": "stream",
     "text": [
      "Epoch 50/90  Mem : 7.79GB  LR : 1.00E-03  Loss: 0.2901: 100%|██████████| 642/642\n",
      "Val Loss: 0.1794: 100%|██████████| 58/58 [00:03<00:00, 14.99it/s]               \n"
     ]
    },
    {
     "name": "stdout",
     "output_type": "stream",
     "text": [
      "FBeta : 0.6242\tthresh : 0.01\n",
      "\n"
     ]
    },
    {
     "name": "stderr",
     "output_type": "stream",
     "text": [
      "Epoch 51/90  Mem : 7.79GB  LR : 1.00E-03  Loss: 0.2892: 100%|██████████| 642/642\n",
      "Val Loss: 0.1844: 100%|██████████| 58/58 [00:03<00:00, 14.76it/s]               \n"
     ]
    },
    {
     "name": "stdout",
     "output_type": "stream",
     "text": [
      "FBeta : 0.6201\tthresh : 0.06\n",
      "\n"
     ]
    },
    {
     "name": "stderr",
     "output_type": "stream",
     "text": [
      "Epoch 52/90  Mem : 7.79GB  LR : 1.00E-03  Loss: 0.2867: 100%|██████████| 642/642\n",
      "Val Loss: 0.1830: 100%|██████████| 58/58 [00:03<00:00, 14.98it/s]               \n"
     ]
    },
    {
     "name": "stdout",
     "output_type": "stream",
     "text": [
      "FBeta : 0.6078\tthresh : 0.01\n",
      "\n"
     ]
    },
    {
     "name": "stderr",
     "output_type": "stream",
     "text": [
      "Epoch 53/90  Mem : 7.79GB  LR : 1.00E-03  Loss: 0.2857: 100%|██████████| 642/642\n",
      "Val Loss: 0.1779: 100%|██████████| 58/58 [00:03<00:00, 14.89it/s]               \n"
     ]
    },
    {
     "name": "stdout",
     "output_type": "stream",
     "text": [
      "FBeta : 0.6271\tthresh : 0.01\n",
      "\n"
     ]
    },
    {
     "name": "stderr",
     "output_type": "stream",
     "text": [
      "Epoch 54/90  Mem : 7.79GB  LR : 1.00E-03  Loss: 0.2870: 100%|██████████| 642/642\n",
      "Val Loss: 0.1779: 100%|██████████| 58/58 [00:03<00:00, 14.98it/s]               \n"
     ]
    },
    {
     "name": "stdout",
     "output_type": "stream",
     "text": [
      "FBeta : 0.6289\tthresh : 0.01\tSAVED MODEL\n",
      "\n"
     ]
    },
    {
     "name": "stderr",
     "output_type": "stream",
     "text": [
      "Epoch 55/90  Mem : 7.79GB  LR : 1.00E-03  Loss: 0.2862: 100%|██████████| 642/642\n",
      "Val Loss: 0.1744: 100%|██████████| 58/58 [00:03<00:00, 15.02it/s]               \n"
     ]
    },
    {
     "name": "stdout",
     "output_type": "stream",
     "text": [
      "FBeta : 0.6295\tthresh : 0.01\tSAVED MODEL\n",
      "\n"
     ]
    },
    {
     "name": "stderr",
     "output_type": "stream",
     "text": [
      "Epoch 56/90  Mem : 7.79GB  LR : 1.00E-03  Loss: 0.2850: 100%|██████████| 642/642\n",
      "Val Loss: 0.1800: 100%|██████████| 58/58 [00:03<00:00, 14.84it/s]               \n"
     ]
    },
    {
     "name": "stdout",
     "output_type": "stream",
     "text": [
      "FBeta : 0.6305\tthresh : 0.01\tSAVED MODEL\n",
      "\n"
     ]
    },
    {
     "name": "stderr",
     "output_type": "stream",
     "text": [
      "Epoch 57/90  Mem : 7.79GB  LR : 1.00E-03  Loss: 0.2835: 100%|██████████| 642/642\n",
      "Val Loss: 0.1754: 100%|██████████| 58/58 [00:03<00:00, 14.89it/s]               \n"
     ]
    },
    {
     "name": "stdout",
     "output_type": "stream",
     "text": [
      "FBeta : 0.6329\tthresh : 0.01\tSAVED MODEL\n",
      "\n"
     ]
    },
    {
     "name": "stderr",
     "output_type": "stream",
     "text": [
      "Epoch 58/90  Mem : 7.79GB  LR : 1.00E-03  Loss: 0.2828: 100%|██████████| 642/642\n",
      "Val Loss: 0.1792: 100%|██████████| 58/58 [00:03<00:00, 14.92it/s]               \n"
     ]
    },
    {
     "name": "stdout",
     "output_type": "stream",
     "text": [
      "FBeta : 0.6303\tthresh : 0.01\n",
      "\n"
     ]
    },
    {
     "name": "stderr",
     "output_type": "stream",
     "text": [
      "Epoch 59/90  Mem : 7.79GB  LR : 1.00E-03  Loss: 0.2815: 100%|██████████| 642/642\n",
      "Val Loss: 0.1798: 100%|██████████| 58/58 [00:03<00:00, 14.97it/s]               \n"
     ]
    },
    {
     "name": "stdout",
     "output_type": "stream",
     "text": [
      "FBeta : 0.6318\tthresh : 0.06\n",
      "\n"
     ]
    },
    {
     "name": "stderr",
     "output_type": "stream",
     "text": [
      "Epoch 60/90  Mem : 7.79GB  LR : 1.00E-03  Loss: 0.2823: 100%|██████████| 642/642\n",
      "Val Loss: 0.1733: 100%|██████████| 58/58 [00:03<00:00, 14.79it/s]               \n"
     ]
    },
    {
     "name": "stdout",
     "output_type": "stream",
     "text": [
      "FBeta : 0.6349\tthresh : 0.01\tSAVED MODEL\n",
      "\n"
     ]
    },
    {
     "name": "stderr",
     "output_type": "stream",
     "text": [
      "Epoch 61/90  Mem : 7.79GB  LR : 1.00E-03  Loss: 0.2830: 100%|██████████| 642/642\n",
      "Val Loss: 0.1768: 100%|██████████| 58/58 [00:03<00:00, 14.95it/s]               \n"
     ]
    },
    {
     "name": "stdout",
     "output_type": "stream",
     "text": [
      "FBeta : 0.6341\tthresh : 0.01\n",
      "\n"
     ]
    },
    {
     "name": "stderr",
     "output_type": "stream",
     "text": [
      "Epoch 62/90  Mem : 7.79GB  LR : 1.00E-03  Loss: 0.2794: 100%|██████████| 642/642\n",
      "Val Loss: 0.1761: 100%|██████████| 58/58 [00:03<00:00, 15.04it/s]               \n"
     ]
    },
    {
     "name": "stdout",
     "output_type": "stream",
     "text": [
      "FBeta : 0.6334\tthresh : 0.01\n",
      "\n"
     ]
    },
    {
     "name": "stderr",
     "output_type": "stream",
     "text": [
      "Epoch 63/90  Mem : 7.79GB  LR : 1.00E-03  Loss: 0.2804: 100%|██████████| 642/642\n",
      "Val Loss: 0.1766: 100%|██████████| 58/58 [00:03<00:00, 14.91it/s]               \n"
     ]
    },
    {
     "name": "stdout",
     "output_type": "stream",
     "text": [
      "FBeta : 0.6341\tthresh : 0.01\n",
      "\n"
     ]
    },
    {
     "name": "stderr",
     "output_type": "stream",
     "text": [
      "Epoch 64/90  Mem : 7.79GB  LR : 1.00E-03  Loss: 0.2780: 100%|██████████| 642/642\n",
      "Val Loss: 0.1727: 100%|██████████| 58/58 [00:03<00:00, 15.04it/s]               \n"
     ]
    },
    {
     "name": "stdout",
     "output_type": "stream",
     "text": [
      "FBeta : 0.6359\tthresh : 0.01\tSAVED MODEL\n",
      "\n"
     ]
    },
    {
     "name": "stderr",
     "output_type": "stream",
     "text": [
      "Epoch 65/90  Mem : 7.79GB  LR : 1.00E-03  Loss: 0.2786: 100%|██████████| 642/642\n",
      "Val Loss: 0.1748: 100%|██████████| 58/58 [00:03<00:00, 15.02it/s]               \n"
     ]
    },
    {
     "name": "stdout",
     "output_type": "stream",
     "text": [
      "FBeta : 0.6396\tthresh : 0.01\tSAVED MODEL\n",
      "\n"
     ]
    },
    {
     "name": "stderr",
     "output_type": "stream",
     "text": [
      "Epoch 66/90  Mem : 7.79GB  LR : 1.00E-03  Loss: 0.2786: 100%|██████████| 642/642\n",
      "Val Loss: 0.1782: 100%|██████████| 58/58 [00:03<00:00, 15.00it/s]               \n"
     ]
    },
    {
     "name": "stdout",
     "output_type": "stream",
     "text": [
      "FBeta : 0.6218\tthresh : 0.01\n",
      "\n"
     ]
    },
    {
     "name": "stderr",
     "output_type": "stream",
     "text": [
      "Epoch 67/90  Mem : 7.79GB  LR : 1.00E-03  Loss: 0.2776: 100%|██████████| 642/642\n",
      "Val Loss: 0.1728: 100%|██████████| 58/58 [00:03<00:00, 14.83it/s]               \n"
     ]
    },
    {
     "name": "stdout",
     "output_type": "stream",
     "text": [
      "FBeta : 0.6401\tthresh : 0.01\tSAVED MODEL\n",
      "\n"
     ]
    },
    {
     "name": "stderr",
     "output_type": "stream",
     "text": [
      "Epoch 68/90  Mem : 7.79GB  LR : 1.00E-03  Loss: 0.2742: 100%|██████████| 642/642\n",
      "Val Loss: 0.1731: 100%|██████████| 58/58 [00:03<00:00, 14.90it/s]               \n"
     ]
    },
    {
     "name": "stdout",
     "output_type": "stream",
     "text": [
      "FBeta : 0.6360\tthresh : 0.01\n",
      "\n"
     ]
    },
    {
     "name": "stderr",
     "output_type": "stream",
     "text": [
      "Epoch 69/90  Mem : 7.79GB  LR : 1.00E-03  Loss: 0.2760: 100%|██████████| 642/642\n",
      "Val Loss: 0.1743: 100%|██████████| 58/58 [00:03<00:00, 14.88it/s]               \n"
     ]
    },
    {
     "name": "stdout",
     "output_type": "stream",
     "text": [
      "FBeta : 0.6323\tthresh : 0.01\n",
      "\n"
     ]
    },
    {
     "name": "stderr",
     "output_type": "stream",
     "text": [
      "Epoch 70/90  Mem : 7.79GB  LR : 1.00E-03  Loss: 0.2756: 100%|██████████| 642/642\n",
      "Val Loss: 0.1727: 100%|██████████| 58/58 [00:03<00:00, 15.01it/s]               \n"
     ]
    },
    {
     "name": "stdout",
     "output_type": "stream",
     "text": [
      "FBeta : 0.6380\tthresh : 0.01\n",
      "\n"
     ]
    },
    {
     "name": "stderr",
     "output_type": "stream",
     "text": [
      "Epoch 71/90  Mem : 7.79GB  LR : 1.00E-03  Loss: 0.2749: 100%|██████████| 642/642\n",
      "Val Loss: 0.1723: 100%|██████████| 58/58 [00:03<00:00, 14.93it/s]               \n"
     ]
    },
    {
     "name": "stdout",
     "output_type": "stream",
     "text": [
      "FBeta : 0.6377\tthresh : 0.01\n",
      "\n"
     ]
    },
    {
     "name": "stderr",
     "output_type": "stream",
     "text": [
      "Epoch 72/90  Mem : 7.79GB  LR : 1.00E-03  Loss: 0.2757: 100%|██████████| 642/642\n",
      "Val Loss: 0.1716: 100%|██████████| 58/58 [00:03<00:00, 14.91it/s]               \n"
     ]
    },
    {
     "name": "stdout",
     "output_type": "stream",
     "text": [
      "FBeta : 0.6404\tthresh : 0.01\tSAVED MODEL\n",
      "\n"
     ]
    },
    {
     "name": "stderr",
     "output_type": "stream",
     "text": [
      "Epoch 73/90  Mem : 7.79GB  LR : 1.00E-03  Loss: 0.2740: 100%|██████████| 642/642\n",
      "Val Loss: 0.1713: 100%|██████████| 58/58 [00:03<00:00, 14.78it/s]               \n"
     ]
    },
    {
     "name": "stdout",
     "output_type": "stream",
     "text": [
      "FBeta : 0.6408\tthresh : 0.01\tSAVED MODEL\n",
      "\n"
     ]
    },
    {
     "name": "stderr",
     "output_type": "stream",
     "text": [
      "Epoch 74/90  Mem : 7.79GB  LR : 1.00E-03  Loss: 0.2733: 100%|██████████| 642/642\n",
      "Val Loss: 0.1721: 100%|██████████| 58/58 [00:03<00:00, 15.08it/s]               \n"
     ]
    },
    {
     "name": "stdout",
     "output_type": "stream",
     "text": [
      "FBeta : 0.6366\tthresh : 0.01\n",
      "\n"
     ]
    },
    {
     "name": "stderr",
     "output_type": "stream",
     "text": [
      "Epoch 75/90  Mem : 7.79GB  LR : 1.00E-03  Loss: 0.2745: 100%|██████████| 642/642\n",
      "Val Loss: 0.1719: 100%|██████████| 58/58 [00:03<00:00, 14.97it/s]               \n"
     ]
    },
    {
     "name": "stdout",
     "output_type": "stream",
     "text": [
      "FBeta : 0.6433\tthresh : 0.01\tSAVED MODEL\n",
      "\n"
     ]
    },
    {
     "name": "stderr",
     "output_type": "stream",
     "text": [
      "Epoch 76/90  Mem : 7.79GB  LR : 1.00E-03  Loss: 0.2748: 100%|██████████| 642/642\n",
      "Val Loss: 0.1737: 100%|██████████| 58/58 [00:03<00:00, 14.93it/s]               \n"
     ]
    },
    {
     "name": "stdout",
     "output_type": "stream",
     "text": [
      "FBeta : 0.6368\tthresh : 0.01\n",
      "\n"
     ]
    },
    {
     "name": "stderr",
     "output_type": "stream",
     "text": [
      "Epoch 77/90  Mem : 7.79GB  LR : 1.00E-03  Loss: 0.2729: 100%|██████████| 642/642\n",
      "Val Loss: 0.1717: 100%|██████████| 58/58 [00:03<00:00, 14.89it/s]               \n"
     ]
    },
    {
     "name": "stdout",
     "output_type": "stream",
     "text": [
      "FBeta : 0.6410\tthresh : 0.01\n",
      "\n"
     ]
    },
    {
     "name": "stderr",
     "output_type": "stream",
     "text": [
      "Epoch 78/90  Mem : 7.79GB  LR : 1.00E-03  Loss: 0.2718: 100%|██████████| 642/642\n",
      "Val Loss: 0.1718: 100%|██████████| 58/58 [00:03<00:00, 14.88it/s]               \n"
     ]
    },
    {
     "name": "stdout",
     "output_type": "stream",
     "text": [
      "FBeta : 0.6437\tthresh : 0.01\tSAVED MODEL\n",
      "\n"
     ]
    },
    {
     "name": "stderr",
     "output_type": "stream",
     "text": [
      "Epoch 79/90  Mem : 7.79GB  LR : 1.00E-03  Loss: 0.2724: 100%|██████████| 642/642\n",
      "Val Loss: 0.1710: 100%|██████████| 58/58 [00:03<00:00, 14.89it/s]               \n"
     ]
    },
    {
     "name": "stdout",
     "output_type": "stream",
     "text": [
      "FBeta : 0.6404\tthresh : 0.01\n",
      "\n"
     ]
    },
    {
     "name": "stderr",
     "output_type": "stream",
     "text": [
      "Epoch 80/90  Mem : 7.79GB  LR : 1.00E-03  Loss: 0.2715: 100%|██████████| 642/642\n",
      "Val Loss: 0.1703: 100%|██████████| 58/58 [00:03<00:00, 14.77it/s]               \n"
     ]
    },
    {
     "name": "stdout",
     "output_type": "stream",
     "text": [
      "FBeta : 0.6418\tthresh : 0.01\n",
      "\n"
     ]
    },
    {
     "name": "stderr",
     "output_type": "stream",
     "text": [
      "Epoch 81/90  Mem : 7.79GB  LR : 1.00E-03  Loss: 0.2717: 100%|██████████| 642/642\n",
      "Val Loss: 0.1707: 100%|██████████| 58/58 [00:03<00:00, 15.00it/s]               \n"
     ]
    },
    {
     "name": "stdout",
     "output_type": "stream",
     "text": [
      "FBeta : 0.6438\tthresh : 0.01\tSAVED MODEL\n",
      "\n"
     ]
    },
    {
     "name": "stderr",
     "output_type": "stream",
     "text": [
      "Epoch 82/90  Mem : 7.79GB  LR : 1.00E-03  Loss: 0.2717: 100%|██████████| 642/642\n",
      "Val Loss: 0.1718: 100%|██████████| 58/58 [00:03<00:00, 14.78it/s]               \n"
     ]
    },
    {
     "name": "stdout",
     "output_type": "stream",
     "text": [
      "FBeta : 0.6419\tthresh : 0.01\n",
      "\n"
     ]
    },
    {
     "name": "stderr",
     "output_type": "stream",
     "text": [
      "Epoch 83/90  Mem : 7.79GB  LR : 1.00E-03  Loss: 0.2715: 100%|██████████| 642/642\n",
      "Val Loss: 0.1713: 100%|██████████| 58/58 [00:03<00:00, 15.04it/s]               \n"
     ]
    },
    {
     "name": "stdout",
     "output_type": "stream",
     "text": [
      "FBeta : 0.6427\tthresh : 0.01\n",
      "\n"
     ]
    },
    {
     "name": "stderr",
     "output_type": "stream",
     "text": [
      "Epoch 84/90  Mem : 7.79GB  LR : 1.00E-03  Loss: 0.2703: 100%|██████████| 642/642\n",
      "Val Loss: 0.1712: 100%|██████████| 58/58 [00:03<00:00, 14.84it/s]               \n"
     ]
    },
    {
     "name": "stdout",
     "output_type": "stream",
     "text": [
      "FBeta : 0.6407\tthresh : 0.01\n",
      "\n"
     ]
    },
    {
     "name": "stderr",
     "output_type": "stream",
     "text": [
      "Epoch 85/90  Mem : 7.79GB  LR : 1.00E-03  Loss: 0.2712: 100%|██████████| 642/642\n",
      "Val Loss: 0.1710: 100%|██████████| 58/58 [00:03<00:00, 15.05it/s]               \n"
     ]
    },
    {
     "name": "stdout",
     "output_type": "stream",
     "text": [
      "FBeta : 0.6421\tthresh : 0.01\n",
      "\n"
     ]
    },
    {
     "name": "stderr",
     "output_type": "stream",
     "text": [
      "Epoch 86/90  Mem : 7.79GB  LR : 1.00E-03  Loss: 0.2703: 100%|██████████| 642/642\n",
      "Val Loss: 0.1711: 100%|██████████| 58/58 [00:04<00:00, 14.39it/s]               \n"
     ]
    },
    {
     "name": "stdout",
     "output_type": "stream",
     "text": [
      "FBeta : 0.6419\tthresh : 0.01\n",
      "\n"
     ]
    },
    {
     "name": "stderr",
     "output_type": "stream",
     "text": [
      "Epoch 87/90  Mem : 7.79GB  LR : 1.00E-03  Loss: 0.2715: 100%|██████████| 642/642\n",
      "Val Loss: 0.1713: 100%|██████████| 58/58 [00:03<00:00, 14.73it/s]               \n"
     ]
    },
    {
     "name": "stdout",
     "output_type": "stream",
     "text": [
      "FBeta : 0.6422\tthresh : 0.01\n",
      "\n"
     ]
    },
    {
     "name": "stderr",
     "output_type": "stream",
     "text": [
      "Epoch 88/90  Mem : 7.79GB  LR : 1.00E-03  Loss: 0.2712: 100%|██████████| 642/642\n",
      "Val Loss: 0.1706: 100%|██████████| 58/58 [00:03<00:00, 14.97it/s]               \n"
     ]
    },
    {
     "name": "stdout",
     "output_type": "stream",
     "text": [
      "FBeta : 0.6435\tthresh : 0.01\n",
      "\n"
     ]
    },
    {
     "name": "stderr",
     "output_type": "stream",
     "text": [
      "Epoch 89/90  Mem : 7.79GB  LR : 1.00E-03  Loss: 0.2709: 100%|██████████| 642/642\n",
      "Val Loss: 0.1711: 100%|██████████| 58/58 [00:03<00:00, 14.92it/s]               \n"
     ]
    },
    {
     "name": "stdout",
     "output_type": "stream",
     "text": [
      "FBeta : 0.6418\tthresh : 0.01\n",
      "\n"
     ]
    },
    {
     "name": "stderr",
     "output_type": "stream",
     "text": [
      "Epoch 90/90  Mem : 7.79GB  LR : 1.00E-03  Loss: 0.2708: 100%|██████████| 642/642\n",
      "Val Loss: 0.1705: 100%|██████████| 58/58 [00:03<00:00, 15.05it/s]               \n"
     ]
    },
    {
     "name": "stdout",
     "output_type": "stream",
     "text": [
      "FBeta : 0.6425\tthresh : 0.01\n",
      "\n"
     ]
    },
    {
     "name": "stderr",
     "output_type": "stream",
     "text": [
      "Epoch 91/90  Mem : 7.79GB  LR : 1.00E-03  Loss: 0.2706: 100%|██████████| 642/642\n",
      "Val Loss: 0.1707: 100%|██████████| 58/58 [00:03<00:00, 14.70it/s]               \n"
     ]
    },
    {
     "name": "stdout",
     "output_type": "stream",
     "text": [
      "FBeta : 0.6421\tthresh : 0.01\n",
      "\n"
     ]
    },
    {
     "name": "stderr",
     "output_type": "stream",
     "text": [
      "Epoch 92/90  Mem : 7.79GB  LR : 1.00E-03  Loss: 0.2719: 100%|██████████| 642/642\n",
      "Val Loss: 0.1708: 100%|██████████| 58/58 [00:03<00:00, 14.90it/s]               \n"
     ]
    },
    {
     "name": "stdout",
     "output_type": "stream",
     "text": [
      "FBeta : 0.6421\tthresh : 0.01\n",
      "\n"
     ]
    },
    {
     "name": "stderr",
     "output_type": "stream",
     "text": [
      "Epoch 93/90  Mem : 7.79GB  LR : 1.00E-03  Loss: 0.2703: 100%|██████████| 642/642\n",
      "Val Loss: 0.1708: 100%|██████████| 58/58 [00:03<00:00, 14.91it/s]               \n"
     ]
    },
    {
     "name": "stdout",
     "output_type": "stream",
     "text": [
      "FBeta : 0.6422\tthresh : 0.01\n",
      "\n",
      "Early Stopping\n",
      "{\"status\":200,\"message\":\"ok\"}"
     ]
    }
   ],
   "source": [
    "if CFG.debug:\n",
    "    print(\"!!!Debug mode!!!\\n\")\n",
    "\n",
    "dice_score=0\n",
    "for epoch in range(100):\n",
    "    model.train()\n",
    "    \n",
    "    pbar_train = enumerate(dataloader_train)\n",
    "    pbar_train = tqdm(pbar_train, total=len(dataloader_train), bar_format=\"{l_bar}{bar:10}{r_bar}{bar:-0b}\")\n",
    "    loss_train, loss_val= 0.0, 0.0\n",
    "    for i, (images, masks) in pbar_train:\n",
    "        images, masks = images.cuda(), masks.cuda()\n",
    "        optimizer.zero_grad()\n",
    "        with amp.autocast():\n",
    "            preds = model(images)\n",
    "            loss = criterion(preds, masks)\n",
    "            scaler.scale(loss).backward()\n",
    "            scaler.step(optimizer)\n",
    "            scaler.update()\n",
    "            loss_train += loss.detach().item()\n",
    "        \n",
    "        lr = f\"LR : {scheduler.get_last_lr()[0]:.2E}\"\n",
    "        gpu_mem = f\"Mem : {torch.cuda.memory_reserved() / 1E9:.3g}GB\"\n",
    "        pbar_train.set_description((\"%10s  \" * 3 + \"%10s\") % (f\"Epoch {epoch}/{CFG.epochs}\", gpu_mem, lr,\n",
    "                                                                f\"Loss: {loss_train / (i + 1):.4f}\"))\n",
    "\n",
    "    scheduler.step()\n",
    "    model.eval()\n",
    "    \n",
    "    cum_pred = []\n",
    "    cum_true = []\n",
    "    pbar_val = enumerate(dataloader_valid)\n",
    "    pbar_val = tqdm(pbar_val, total=len(dataloader_valid), bar_format=\"{l_bar}{bar:10}{r_bar}{bar:-10b}\")\n",
    "    for i, (images, masks) in pbar_val:\n",
    "        images, masks = images.cuda(), masks.cuda()\n",
    "        with torch.no_grad():\n",
    "            preds = model(images)\n",
    "            loss_val += criterion(preds, masks).item()\n",
    "            preds = torch.sigmoid(preds)\n",
    "            cum_pred.append(preds.cpu().detach().numpy())\n",
    "            cum_true.append(masks.cpu().detach().numpy())\n",
    "\n",
    "        pbar_val.set_description((\"%10s\") % (f\"Val Loss: {loss_val / (i+1):.4f}\"))\n",
    "    \n",
    "    cum_pred = torch.flatten(torch.from_numpy(np.concatenate(cum_pred, axis=0)))\n",
    "    cum_true = torch.flatten(torch.from_numpy(np.concatenate(cum_true, axis=0)))\n",
    "    \n",
    "    dice_score_, thresh = calc_optim_thresh(cum_pred, cum_true, thresholds_to_test)\n",
    "    \n",
    "    if dice_score_ > dice_score:\n",
    "        print(f\"FBeta : {dice_score_:.4f}\\tthresh : {thresh}\\tSAVED MODEL\\n\")\n",
    "        epoch_best=epoch\n",
    "        dice_score =dice_score_\n",
    "        torch.save({'model': model.module.state_dict(), 'dice_score': dice_score, 'thresh': thresh,\n",
    "                    \"model_arch\":CFG.model_arch, \"backbone\":CFG.backbone,\"in_chans\":CFG.in_chans,\"target_size\":CFG.target_size,},\n",
    "                    f'./{CFG.exp_name}/{CFG.exp_name}.pth')\n",
    "    else:\n",
    "        print(f\"FBeta : {dice_score_:.4f}\\tthresh : {thresh}\\n\")\n",
    "    \n",
    "    if epoch-epoch_best>=CFG.epochs_patience:\n",
    "        print('Early Stopping')\n",
    "        break\n",
    "        \n",
    "!curl -X POST -H 'Authorization: Bearer '$LINE -F 'message=セルの実行が終わりました！{dice_score}' https://notify-api.line.me/api/notify\n"
   ]
  },
  {
   "cell_type": "code",
   "execution_count": 9,
   "metadata": {
    "execution": {
     "iopub.execute_input": "2023-06-27T21:23:44.929059Z",
     "iopub.status.busy": "2023-06-27T21:23:44.927857Z",
     "iopub.status.idle": "2023-06-27T21:23:45.523513Z",
     "shell.execute_reply": "2023-06-27T21:23:45.523057Z"
    }
   },
   "outputs": [
    {
     "name": "stdout",
     "output_type": "stream",
     "text": [
      "model_arch:  Unet\n",
      "backbone:  timm-resnest26d\n",
      "0.6438\n"
     ]
    }
   ],
   "source": [
    "pth = torch.load(f'./{CFG.exp_name}/{CFG.exp_name}.pth')\n",
    "\n",
    "model = build_model(pth[\"model_arch\"], pth[\"backbone\"], pth[\"in_chans\"], pth[\"target_size\"], weight=None)\n",
    "model.load_state_dict(pth['model'])\n",
    "thresh = pth['thresh']\n",
    "dice_score = pth['dice_score']\n",
    "print(f\"{dice_score:.4f}\")\n",
    "\n",
    "model.to(device)\n",
    "model.eval();\n"
   ]
  },
  {
   "cell_type": "code",
   "execution_count": 10,
   "metadata": {
    "execution": {
     "iopub.execute_input": "2023-06-27T21:23:45.525168Z",
     "iopub.status.busy": "2023-06-27T21:23:45.524937Z",
     "iopub.status.idle": "2023-06-27T21:23:45.527767Z",
     "shell.execute_reply": "2023-06-27T21:23:45.527122Z"
    }
   },
   "outputs": [],
   "source": [
    "# for i, (images, masks) in enumerate(dataloader_valid):\n",
    "#     if i!=1: continue\n",
    "    \n",
    "#     images, masks = images.cuda(), masks.cuda()\n",
    "#     with torch.no_grad():\n",
    "#         preds = model(images)\n",
    "#         preds = torch.sigmoid(preds)\n",
    "#     images, masks, preds = images.cpu(), masks.cpu(), preds.cpu()\n",
    "    \n",
    "#     for num in range(CFG.valid_batch_size):\n",
    "#         fig, axes = plt.subplots(nrows=1, ncols=4, figsize=(20,5))\n",
    "#         axes = axes.flatten()\n",
    "#         axes[0].imshow(images[num].permute(1,2,0))\n",
    "#         axes[0].axis('off')\n",
    "#         axes[0].set_title('Image')\n",
    "#         axes[1].imshow(masks[num].permute(1,2,0))\n",
    "#         axes[1].axis('off')\n",
    "#         axes[1].set_title('Ground Truth')\n",
    "#         axes[2].imshow(preds[num].permute(1,2,0))\n",
    "#         axes[2].axis('off')\n",
    "#         axes[2].set_title('pred')\n",
    "#         axes[3].imshow((preds[num]>thresh).permute(1,2,0))\n",
    "#         axes[3].axis('off')\n",
    "#         axes[3].set_title('pred_thresh')\n",
    "#     break"
   ]
  },
  {
   "cell_type": "code",
   "execution_count": null,
   "metadata": {},
   "outputs": [],
   "source": []
  },
  {
   "cell_type": "code",
   "execution_count": null,
   "metadata": {},
   "outputs": [],
   "source": []
  },
  {
   "cell_type": "code",
   "execution_count": null,
   "metadata": {},
   "outputs": [],
   "source": []
  }
 ],
 "metadata": {
  "kernelspec": {
   "display_name": "Python 3",
   "language": "python",
   "name": "python3"
  },
  "language_info": {
   "codemirror_mode": {
    "name": "ipython",
    "version": 3
   },
   "file_extension": ".py",
   "mimetype": "text/x-python",
   "name": "python",
   "nbconvert_exporter": "python",
   "pygments_lexer": "ipython3",
   "version": "3.10.11"
  }
 },
 "nbformat": 4,
 "nbformat_minor": 4
}

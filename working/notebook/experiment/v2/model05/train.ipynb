{
 "cells": [
  {
   "cell_type": "code",
   "execution_count": 1,
   "metadata": {
    "execution": {
     "iopub.execute_input": "2023-06-26T19:44:40.711925Z",
     "iopub.status.busy": "2023-06-26T19:44:40.711624Z",
     "iopub.status.idle": "2023-06-26T19:44:43.408942Z",
     "shell.execute_reply": "2023-06-26T19:44:43.408416Z"
    }
   },
   "outputs": [],
   "source": [
    "import gc\n",
    "import os\n",
    "import sys\n",
    "import warnings\n",
    "from glob import glob\n",
    "import matplotlib.pyplot as plt\n",
    "\n",
    "import albumentations as A\n",
    "from albumentations.pytorch import ToTensorV2\n",
    "import pandas as pd\n",
    "import cv2\n",
    "import torch\n",
    "import torch.nn as nn\n",
    "import torch.nn.functional as F\n",
    "from torch.utils.data import DataLoader\n",
    "import segmentation_models_pytorch as smp\n",
    "from torch.cuda import amp\n",
    "from tqdm import tqdm"
   ]
  },
  {
   "cell_type": "code",
   "execution_count": 2,
   "metadata": {
    "execution": {
     "iopub.execute_input": "2023-06-26T19:44:43.410991Z",
     "iopub.status.busy": "2023-06-26T19:44:43.410701Z",
     "iopub.status.idle": "2023-06-26T19:44:43.493575Z",
     "shell.execute_reply": "2023-06-26T19:44:43.493095Z"
    }
   },
   "outputs": [],
   "source": [
    "sys.path.append('../')\n",
    "from script.metrics import *\n",
    "from script.dataset import *\n",
    "from script.helper import *\n",
    "from script.scheduler import *\n",
    "from script.loss import *"
   ]
  },
  {
   "attachments": {},
   "cell_type": "markdown",
   "metadata": {},
   "source": [
    "### Config"
   ]
  },
  {
   "cell_type": "code",
   "execution_count": 3,
   "metadata": {
    "execution": {
     "iopub.execute_input": "2023-06-26T19:44:43.495523Z",
     "iopub.status.busy": "2023-06-26T19:44:43.495347Z",
     "iopub.status.idle": "2023-06-26T19:44:43.519656Z",
     "shell.execute_reply": "2023-06-26T19:44:43.519198Z"
    }
   },
   "outputs": [],
   "source": [
    "class CFG:\n",
    "    debug = False\n",
    "    # ============== comp exp name =============\n",
    "    comp_name = 'contrail'\n",
    "    comp_dir_path = '/kaggle/input/'\n",
    "    comp_folder_name = 'google-research-identify-contrails-reduce-global-warming'\n",
    "\n",
    "    dataset_path = \"/kaggle/working/dataset_train/ash_color/\"\n",
    "\n",
    "    exp_name = os.getcwd().split('/')[-1]\n",
    "\n",
    "    # ============== model cfg =============\n",
    "    model_arch = 'Unet'\n",
    "    backbone = 'timm-resnest26d'\n",
    "    in_chans = 3\n",
    "    target_size = 1\n",
    "\n",
    "    # ============== training cfg =============\n",
    "    train_batch_size = 32\n",
    "    valid_batch_size = train_batch_size\n",
    "\n",
    "    epochs = 90\n",
    "    epochs_patience = 12\n",
    "\n",
    "    lr = 1e-4\n",
    "    loss = \"DiceLoss\"\n",
    "    smooth=300\n",
    "    \n",
    "    # ============== fixed =============\n",
    "    num_workers = 4\n",
    "    seed = 42\n",
    "\n",
    "    # ============== augmentation =============\n",
    "    train_aug_list = [\n",
    "        A.RandomRotate90(),\n",
    "        A.RandomBrightnessContrast(),\n",
    "        A.ShiftScaleRotate(p=0.5,rotate_limit=(10,10)),\n",
    "        A.GridDistortion(num_steps=5, distort_limit=0.3, p=0.5),\n",
    "        A.CoarseDropout(max_holes=10, max_width=int(256 * 0.05), max_height=int(256 * 0.05),\n",
    "                        mask_fill_value=0, p=0.5),\n",
    "        A.RandomGridShuffle(),\n",
    "        ToTensorV2(transpose_mask=True),\n",
    "    ]\n",
    "\n",
    "    valid_aug_list = [\n",
    "        ToTensorV2(transpose_mask=True),\n",
    "    ]\n",
    "\n",
    "\n",
    "warnings.filterwarnings(\"ignore\")\n",
    "torch.backends.cudnn.benchmark = True\n",
    "device = torch.device('cuda' if torch.cuda.is_available() else 'cpu')\n",
    "set_seed(CFG.seed)\n",
    "os.makedirs(f'./{CFG.exp_name}/', exist_ok=True)"
   ]
  },
  {
   "attachments": {},
   "cell_type": "markdown",
   "metadata": {},
   "source": [
    "# Dataset"
   ]
  },
  {
   "cell_type": "code",
   "execution_count": 4,
   "metadata": {
    "execution": {
     "iopub.execute_input": "2023-06-26T19:44:43.521488Z",
     "iopub.status.busy": "2023-06-26T19:44:43.521254Z",
     "iopub.status.idle": "2023-06-26T19:44:43.560023Z",
     "shell.execute_reply": "2023-06-26T19:44:43.559520Z"
    }
   },
   "outputs": [
    {
     "data": {
      "text/plain": [
       "((20529, 2), (1856, 2))"
      ]
     },
     "execution_count": 4,
     "metadata": {},
     "output_type": "execute_result"
    }
   ],
   "source": [
    "train_df = pd.read_csv(f\"{CFG.dataset_path}/train_df.csv\")\n",
    "valid_df = pd.read_csv(f\"{CFG.dataset_path}/validation_df.csv\")\n",
    "\n",
    "if CFG.debug:\n",
    "    train_df=train_df[:2000]\n",
    "    valid_df=valid_df[:2000]\n",
    "train_df.shape, valid_df.shape"
   ]
  },
  {
   "cell_type": "code",
   "execution_count": 5,
   "metadata": {
    "execution": {
     "iopub.execute_input": "2023-06-26T19:44:43.578068Z",
     "iopub.status.busy": "2023-06-26T19:44:43.577602Z",
     "iopub.status.idle": "2023-06-26T19:44:43.653675Z",
     "shell.execute_reply": "2023-06-26T19:44:43.653158Z"
    }
   },
   "outputs": [
    {
     "name": "stdout",
     "output_type": "stream",
     "text": [
      "\n",
      "len(dataset_train) = 20529\n",
      "train_image_shape : torch.Size([3, 256, 256])\n",
      "train_mask_shape  : torch.Size([1, 256, 256])\n",
      "train_image_dtype : torch.float32\n",
      "train_mask_dtype : torch.float32\n",
      "\n",
      "len(dataset_valid) = 1856\n",
      "valid_image_shape : torch.Size([3, 256, 256])\n",
      "valid_mask_shape  : torch.Size([1, 256, 256])\n",
      "valid_image_dtype : torch.float32\n",
      "valid_mask_dtype : torch.float32\n",
      "\n"
     ]
    }
   ],
   "source": [
    "dataset_train = ContrailsDataset(train_df, CFG.train_aug_list)\n",
    "dataset_valid = ContrailsDataset(valid_df, CFG.valid_aug_list)\n",
    "\n",
    "dataloader_train = DataLoader(dataset_train, batch_size=CFG.train_batch_size , shuffle=True, num_workers = CFG.num_workers)\n",
    "dataloader_valid = DataLoader(dataset_valid, batch_size=CFG.valid_batch_size, num_workers = CFG.num_workers)\n",
    "\n",
    "print(f\"\"\"\n",
    "{len(dataset_train) = }\n",
    "train_image_shape : {dataset_train[0][0].shape}\n",
    "train_mask_shape  : {dataset_train[0][1].shape}\n",
    "train_image_dtype : {dataset_train[0][0].dtype}\n",
    "train_mask_dtype : {dataset_train[0][1].dtype}\n",
    "\n",
    "{len(dataset_valid) = }\n",
    "valid_image_shape : {dataset_valid[0][0].shape}\n",
    "valid_mask_shape  : {dataset_valid[0][1].shape}\n",
    "valid_image_dtype : {dataset_valid[0][0].dtype}\n",
    "valid_mask_dtype : {dataset_valid[0][1].dtype}\n",
    "\"\"\")\n",
    "\n",
    "# show_dataset(112, dataset_train)"
   ]
  },
  {
   "attachments": {},
   "cell_type": "markdown",
   "metadata": {},
   "source": [
    "# Model"
   ]
  },
  {
   "cell_type": "code",
   "execution_count": 6,
   "metadata": {
    "execution": {
     "iopub.execute_input": "2023-06-26T19:44:43.655789Z",
     "iopub.status.busy": "2023-06-26T19:44:43.655325Z",
     "iopub.status.idle": "2023-06-26T19:44:44.976070Z",
     "shell.execute_reply": "2023-06-26T19:44:44.975500Z"
    }
   },
   "outputs": [
    {
     "name": "stdout",
     "output_type": "stream",
     "text": [
      "model_arch:  Unet\n",
      "backbone:  timm-resnest26d\n"
     ]
    }
   ],
   "source": [
    "class CustomModel(nn.Module):\n",
    "    def __init__(self,model_arch, backbone, in_chans, target_size, weight):\n",
    "        super().__init__()\n",
    "\n",
    "        self.model = smp.create_model(\n",
    "            model_arch,\n",
    "            encoder_name=backbone,\n",
    "            encoder_weights=weight,\n",
    "            in_channels=in_chans,\n",
    "            classes=target_size,\n",
    "            activation=None,\n",
    "        )\n",
    "        \n",
    "    def forward(self, image):\n",
    "        output = self.model(image)\n",
    "        return output\n",
    "\n",
    "\n",
    "def build_model(model_arch, backbone, in_chans, target_size, weight=\"imagenet\"):\n",
    "    print('model_arch: ', model_arch)\n",
    "    print('backbone: ', backbone)\n",
    "    model = CustomModel(model_arch, backbone, in_chans, target_size, weight)\n",
    "    return model\n",
    "\n",
    "\n",
    "num_gpus = torch.cuda.device_count()\n",
    "device_ids = list(range(num_gpus))\n",
    "\n",
    "model = build_model(CFG.model_arch, CFG.backbone, CFG.in_chans, CFG.target_size)\n",
    "model = nn.DataParallel(model, device_ids=device_ids)\n",
    "model.to(device);"
   ]
  },
  {
   "cell_type": "code",
   "execution_count": 7,
   "metadata": {
    "execution": {
     "iopub.execute_input": "2023-06-26T19:44:44.978349Z",
     "iopub.status.busy": "2023-06-26T19:44:44.978088Z",
     "iopub.status.idle": "2023-06-26T19:44:44.981544Z",
     "shell.execute_reply": "2023-06-26T19:44:44.981113Z"
    }
   },
   "outputs": [],
   "source": [
    "scaler = amp.GradScaler()\n",
    "criterion = get_lossfn(CFG, CFG.smooth)\n",
    "optimizer = torch.optim.AdamW(model.parameters(), lr=CFG.lr)\n",
    "scheduler = get_scheduler(CFG, optimizer)\n",
    "\n",
    "thresholds_to_test = [round(x * 0.01, 2) for x in range(1, 101, 5)]"
   ]
  },
  {
   "attachments": {},
   "cell_type": "markdown",
   "metadata": {},
   "source": [
    "# Training"
   ]
  },
  {
   "cell_type": "code",
   "execution_count": 8,
   "metadata": {
    "execution": {
     "iopub.execute_input": "2023-06-26T19:44:44.983156Z",
     "iopub.status.busy": "2023-06-26T19:44:44.982947Z",
     "iopub.status.idle": "2023-06-26T22:13:52.277456Z",
     "shell.execute_reply": "2023-06-26T22:13:52.274533Z"
    }
   },
   "outputs": [
    {
     "name": "stderr",
     "output_type": "stream",
     "text": [
      "Epoch 0/90  Mem : 7.79GB  LR : 1.00E-04  Loss: 0.8014: 100%|██████████| 642/642 \n",
      "Val Loss: 0.6275: 100%|██████████| 58/58 [00:03<00:00, 16.00it/s]               \n"
     ]
    },
    {
     "name": "stdout",
     "output_type": "stream",
     "text": [
      "FBeta : 0.5211\tthresh : 0.26\tSAVED MODEL\n",
      "\n"
     ]
    },
    {
     "name": "stderr",
     "output_type": "stream",
     "text": [
      "Epoch 1/90  Mem : 7.79GB  LR : 1.00E-03  Loss: 0.5242: 100%|██████████| 642/642 \n",
      "Val Loss: 0.5250: 100%|██████████| 58/58 [00:03<00:00, 16.28it/s]               \n"
     ]
    },
    {
     "name": "stdout",
     "output_type": "stream",
     "text": [
      "FBeta : 0.4828\tthresh : 0.06\n",
      "\n"
     ]
    },
    {
     "name": "stderr",
     "output_type": "stream",
     "text": [
      "Epoch 2/90  Mem : 7.79GB  LR : 1.00E-03  Loss: 0.4865: 100%|██████████| 642/642 \n",
      "Val Loss: 0.5166: 100%|██████████| 58/58 [00:03<00:00, 16.08it/s]               \n"
     ]
    },
    {
     "name": "stdout",
     "output_type": "stream",
     "text": [
      "FBeta : 0.4957\tthresh : 0.96\n",
      "\n"
     ]
    },
    {
     "name": "stderr",
     "output_type": "stream",
     "text": [
      "Epoch 3/90  Mem : 7.79GB  LR : 1.00E-03  Loss: 0.4727: 100%|██████████| 642/642 \n",
      "Val Loss: 0.4775: 100%|██████████| 58/58 [00:03<00:00, 15.94it/s]               \n"
     ]
    },
    {
     "name": "stdout",
     "output_type": "stream",
     "text": [
      "FBeta : 0.5301\tthresh : 0.01\tSAVED MODEL\n",
      "\n"
     ]
    },
    {
     "name": "stderr",
     "output_type": "stream",
     "text": [
      "Epoch 4/90  Mem : 7.79GB  LR : 1.00E-03  Loss: 0.4645: 100%|██████████| 642/642 \n",
      "Val Loss: 0.4721: 100%|██████████| 58/58 [00:03<00:00, 15.86it/s]               \n"
     ]
    },
    {
     "name": "stdout",
     "output_type": "stream",
     "text": [
      "FBeta : 0.5425\tthresh : 0.06\tSAVED MODEL\n",
      "\n"
     ]
    },
    {
     "name": "stderr",
     "output_type": "stream",
     "text": [
      "Epoch 5/90  Mem : 7.79GB  LR : 1.00E-03  Loss: 0.4602: 100%|██████████| 642/642 \n",
      "Val Loss: 0.4559: 100%|██████████| 58/58 [00:03<00:00, 15.93it/s]               \n"
     ]
    },
    {
     "name": "stdout",
     "output_type": "stream",
     "text": [
      "FBeta : 0.5498\tthresh : 0.31\tSAVED MODEL\n",
      "\n"
     ]
    },
    {
     "name": "stderr",
     "output_type": "stream",
     "text": [
      "Epoch 6/90  Mem : 7.79GB  LR : 1.00E-03  Loss: 0.4542: 100%|██████████| 642/642 \n",
      "Val Loss: 0.4484: 100%|██████████| 58/58 [00:03<00:00, 15.68it/s]               \n"
     ]
    },
    {
     "name": "stdout",
     "output_type": "stream",
     "text": [
      "FBeta : 0.5588\tthresh : 0.61\tSAVED MODEL\n",
      "\n"
     ]
    },
    {
     "name": "stderr",
     "output_type": "stream",
     "text": [
      "Epoch 7/90  Mem : 7.79GB  LR : 1.00E-03  Loss: 0.4505: 100%|██████████| 642/642 \n",
      "Val Loss: 0.4341: 100%|██████████| 58/58 [00:03<00:00, 15.87it/s]               \n"
     ]
    },
    {
     "name": "stdout",
     "output_type": "stream",
     "text": [
      "FBeta : 0.5743\tthresh : 0.66\tSAVED MODEL\n",
      "\n"
     ]
    },
    {
     "name": "stderr",
     "output_type": "stream",
     "text": [
      "Epoch 8/90  Mem : 7.79GB  LR : 1.00E-03  Loss: 0.4475: 100%|██████████| 642/642 \n",
      "Val Loss: 0.4303: 100%|██████████| 58/58 [00:03<00:00, 15.73it/s]               \n"
     ]
    },
    {
     "name": "stdout",
     "output_type": "stream",
     "text": [
      "FBeta : 0.5761\tthresh : 0.06\tSAVED MODEL\n",
      "\n"
     ]
    },
    {
     "name": "stderr",
     "output_type": "stream",
     "text": [
      "Epoch 9/90  Mem : 7.79GB  LR : 1.00E-03  Loss: 0.4479: 100%|██████████| 642/642 \n",
      "Val Loss: 0.4755: 100%|██████████| 58/58 [00:03<00:00, 15.81it/s]               \n"
     ]
    },
    {
     "name": "stdout",
     "output_type": "stream",
     "text": [
      "FBeta : 0.5306\tthresh : 0.91\n",
      "\n"
     ]
    },
    {
     "name": "stderr",
     "output_type": "stream",
     "text": [
      "Epoch 10/90  Mem : 7.79GB  LR : 1.00E-03  Loss: 0.4404: 100%|██████████| 642/642\n",
      "Val Loss: 0.4130: 100%|██████████| 58/58 [00:03<00:00, 16.12it/s]               \n"
     ]
    },
    {
     "name": "stdout",
     "output_type": "stream",
     "text": [
      "FBeta : 0.5930\tthresh : 0.31\tSAVED MODEL\n",
      "\n"
     ]
    },
    {
     "name": "stderr",
     "output_type": "stream",
     "text": [
      "Epoch 11/90  Mem : 7.79GB  LR : 1.00E-03  Loss: 0.4408: 100%|██████████| 642/642\n",
      "Val Loss: 0.4291: 100%|██████████| 58/58 [00:03<00:00, 15.96it/s]               \n"
     ]
    },
    {
     "name": "stdout",
     "output_type": "stream",
     "text": [
      "FBeta : 0.5770\tthresh : 0.06\n",
      "\n"
     ]
    },
    {
     "name": "stderr",
     "output_type": "stream",
     "text": [
      "Epoch 12/90  Mem : 7.79GB  LR : 1.00E-03  Loss: 0.4379: 100%|██████████| 642/642\n",
      "Val Loss: 0.4234: 100%|██████████| 58/58 [00:03<00:00, 15.95it/s]               \n"
     ]
    },
    {
     "name": "stdout",
     "output_type": "stream",
     "text": [
      "FBeta : 0.5799\tthresh : 0.01\n",
      "\n"
     ]
    },
    {
     "name": "stderr",
     "output_type": "stream",
     "text": [
      "Epoch 13/90  Mem : 7.79GB  LR : 1.00E-03  Loss: 0.4316: 100%|██████████| 642/642\n",
      "Val Loss: 0.4323: 100%|██████████| 58/58 [00:03<00:00, 16.01it/s]               \n"
     ]
    },
    {
     "name": "stdout",
     "output_type": "stream",
     "text": [
      "FBeta : 0.5671\tthresh : 0.71\n",
      "\n"
     ]
    },
    {
     "name": "stderr",
     "output_type": "stream",
     "text": [
      "Epoch 14/90  Mem : 7.79GB  LR : 1.00E-03  Loss: 0.4333: 100%|██████████| 642/642\n",
      "Val Loss: 0.4117: 100%|██████████| 58/58 [00:03<00:00, 16.05it/s]               \n"
     ]
    },
    {
     "name": "stdout",
     "output_type": "stream",
     "text": [
      "FBeta : 0.5909\tthresh : 0.96\n",
      "\n"
     ]
    },
    {
     "name": "stderr",
     "output_type": "stream",
     "text": [
      "Epoch 15/90  Mem : 7.79GB  LR : 1.00E-03  Loss: 0.4302: 100%|██████████| 642/642\n",
      "Val Loss: 0.4221: 100%|██████████| 58/58 [00:03<00:00, 16.09it/s]               \n"
     ]
    },
    {
     "name": "stdout",
     "output_type": "stream",
     "text": [
      "FBeta : 0.5836\tthresh : 0.01\n",
      "\n"
     ]
    },
    {
     "name": "stderr",
     "output_type": "stream",
     "text": [
      "Epoch 16/90  Mem : 7.79GB  LR : 1.00E-03  Loss: 0.4305: 100%|██████████| 642/642\n",
      "Val Loss: 0.4379: 100%|██████████| 58/58 [00:03<00:00, 15.95it/s]               \n"
     ]
    },
    {
     "name": "stdout",
     "output_type": "stream",
     "text": [
      "FBeta : 0.5688\tthresh : 0.16\n",
      "\n"
     ]
    },
    {
     "name": "stderr",
     "output_type": "stream",
     "text": [
      "Epoch 17/90  Mem : 7.79GB  LR : 1.00E-03  Loss: 0.4306: 100%|██████████| 642/642\n",
      "Val Loss: 0.4125: 100%|██████████| 58/58 [00:03<00:00, 16.08it/s]               \n"
     ]
    },
    {
     "name": "stdout",
     "output_type": "stream",
     "text": [
      "FBeta : 0.5907\tthresh : 0.91\n",
      "\n"
     ]
    },
    {
     "name": "stderr",
     "output_type": "stream",
     "text": [
      "Epoch 18/90  Mem : 7.79GB  LR : 1.00E-03  Loss: 0.4264: 100%|██████████| 642/642\n",
      "Val Loss: 0.4695: 100%|██████████| 58/58 [00:03<00:00, 16.17it/s]               \n"
     ]
    },
    {
     "name": "stdout",
     "output_type": "stream",
     "text": [
      "FBeta : 0.5524\tthresh : 0.01\n",
      "\n"
     ]
    },
    {
     "name": "stderr",
     "output_type": "stream",
     "text": [
      "Epoch 19/90  Mem : 7.79GB  LR : 1.00E-03  Loss: 0.4245: 100%|██████████| 642/642\n",
      "Val Loss: 0.4194: 100%|██████████| 58/58 [00:03<00:00, 16.04it/s]               \n"
     ]
    },
    {
     "name": "stdout",
     "output_type": "stream",
     "text": [
      "FBeta : 0.5850\tthresh : 0.76\n",
      "\n"
     ]
    },
    {
     "name": "stderr",
     "output_type": "stream",
     "text": [
      "Epoch 20/90  Mem : 7.79GB  LR : 1.00E-03  Loss: 0.4253: 100%|██████████| 642/642\n",
      "Val Loss: 0.4205: 100%|██████████| 58/58 [00:03<00:00, 15.92it/s]               \n"
     ]
    },
    {
     "name": "stdout",
     "output_type": "stream",
     "text": [
      "FBeta : 0.5855\tthresh : 0.96\n",
      "\n"
     ]
    },
    {
     "name": "stderr",
     "output_type": "stream",
     "text": [
      "Epoch 21/90  Mem : 7.79GB  LR : 1.00E-03  Loss: 0.4231: 100%|██████████| 642/642\n",
      "Val Loss: 0.4053: 100%|██████████| 58/58 [00:03<00:00, 15.99it/s]               \n"
     ]
    },
    {
     "name": "stdout",
     "output_type": "stream",
     "text": [
      "FBeta : 0.5985\tthresh : 0.56\tSAVED MODEL\n",
      "\n"
     ]
    },
    {
     "name": "stderr",
     "output_type": "stream",
     "text": [
      "Epoch 22/90  Mem : 7.79GB  LR : 1.00E-03  Loss: 0.4186: 100%|██████████| 642/642\n",
      "Val Loss: 0.4143: 100%|██████████| 58/58 [00:03<00:00, 15.95it/s]               \n"
     ]
    },
    {
     "name": "stdout",
     "output_type": "stream",
     "text": [
      "FBeta : 0.5945\tthresh : 0.96\n",
      "\n"
     ]
    },
    {
     "name": "stderr",
     "output_type": "stream",
     "text": [
      "Epoch 23/90  Mem : 7.79GB  LR : 1.00E-03  Loss: 0.4210: 100%|██████████| 642/642\n",
      "Val Loss: 0.3961: 100%|██████████| 58/58 [00:03<00:00, 16.01it/s]               \n"
     ]
    },
    {
     "name": "stdout",
     "output_type": "stream",
     "text": [
      "FBeta : 0.6071\tthresh : 0.06\tSAVED MODEL\n",
      "\n"
     ]
    },
    {
     "name": "stderr",
     "output_type": "stream",
     "text": [
      "Epoch 24/90  Mem : 7.79GB  LR : 1.00E-03  Loss: 0.4196: 100%|██████████| 642/642\n",
      "Val Loss: 0.4083: 100%|██████████| 58/58 [00:03<00:00, 15.96it/s]               \n"
     ]
    },
    {
     "name": "stdout",
     "output_type": "stream",
     "text": [
      "FBeta : 0.5935\tthresh : 0.96\n",
      "\n"
     ]
    },
    {
     "name": "stderr",
     "output_type": "stream",
     "text": [
      "Epoch 25/90  Mem : 7.79GB  LR : 1.00E-03  Loss: 0.4184: 100%|██████████| 642/642\n",
      "Val Loss: 0.4030: 100%|██████████| 58/58 [00:03<00:00, 15.85it/s]               \n"
     ]
    },
    {
     "name": "stdout",
     "output_type": "stream",
     "text": [
      "FBeta : 0.6020\tthresh : 0.71\n",
      "\n"
     ]
    },
    {
     "name": "stderr",
     "output_type": "stream",
     "text": [
      "Epoch 26/90  Mem : 7.79GB  LR : 1.00E-03  Loss: 0.4127: 100%|██████████| 642/642\n",
      "Val Loss: 0.4044: 100%|██████████| 58/58 [00:03<00:00, 15.93it/s]               \n"
     ]
    },
    {
     "name": "stdout",
     "output_type": "stream",
     "text": [
      "FBeta : 0.6006\tthresh : 0.96\n",
      "\n"
     ]
    },
    {
     "name": "stderr",
     "output_type": "stream",
     "text": [
      "Epoch 27/90  Mem : 7.79GB  LR : 1.00E-03  Loss: 0.4164: 100%|██████████| 642/642\n",
      "Val Loss: 0.4159: 100%|██████████| 58/58 [00:03<00:00, 16.00it/s]               \n"
     ]
    },
    {
     "name": "stdout",
     "output_type": "stream",
     "text": [
      "FBeta : 0.5895\tthresh : 0.11\n",
      "\n"
     ]
    },
    {
     "name": "stderr",
     "output_type": "stream",
     "text": [
      "Epoch 28/90  Mem : 7.79GB  LR : 1.00E-03  Loss: 0.4139: 100%|██████████| 642/642\n",
      "Val Loss: 0.4023: 100%|██████████| 58/58 [00:03<00:00, 16.14it/s]               \n"
     ]
    },
    {
     "name": "stdout",
     "output_type": "stream",
     "text": [
      "FBeta : 0.6029\tthresh : 0.01\n",
      "\n"
     ]
    },
    {
     "name": "stderr",
     "output_type": "stream",
     "text": [
      "Epoch 29/90  Mem : 7.79GB  LR : 1.00E-03  Loss: 0.4130: 100%|██████████| 642/642\n",
      "Val Loss: 0.3885: 100%|██████████| 58/58 [00:03<00:00, 16.10it/s]               \n"
     ]
    },
    {
     "name": "stdout",
     "output_type": "stream",
     "text": [
      "FBeta : 0.6134\tthresh : 0.46\tSAVED MODEL\n",
      "\n"
     ]
    },
    {
     "name": "stderr",
     "output_type": "stream",
     "text": [
      "Epoch 30/90  Mem : 7.79GB  LR : 1.00E-03  Loss: 0.4124: 100%|██████████| 642/642\n",
      "Val Loss: 0.4117: 100%|██████████| 58/58 [00:03<00:00, 15.94it/s]               \n"
     ]
    },
    {
     "name": "stdout",
     "output_type": "stream",
     "text": [
      "FBeta : 0.5912\tthresh : 0.96\n",
      "\n"
     ]
    },
    {
     "name": "stderr",
     "output_type": "stream",
     "text": [
      "Epoch 31/90  Mem : 7.79GB  LR : 1.00E-03  Loss: 0.4090: 100%|██████████| 642/642\n",
      "Val Loss: 0.3947: 100%|██████████| 58/58 [00:03<00:00, 15.85it/s]               \n"
     ]
    },
    {
     "name": "stdout",
     "output_type": "stream",
     "text": [
      "FBeta : 0.6080\tthresh : 0.51\n",
      "\n"
     ]
    },
    {
     "name": "stderr",
     "output_type": "stream",
     "text": [
      "Epoch 32/90  Mem : 7.79GB  LR : 1.00E-03  Loss: 0.4092: 100%|██████████| 642/642\n",
      "Val Loss: 0.3832: 100%|██████████| 58/58 [00:03<00:00, 16.00it/s]               \n"
     ]
    },
    {
     "name": "stdout",
     "output_type": "stream",
     "text": [
      "FBeta : 0.6172\tthresh : 0.81\tSAVED MODEL\n",
      "\n"
     ]
    },
    {
     "name": "stderr",
     "output_type": "stream",
     "text": [
      "Epoch 33/90  Mem : 7.79GB  LR : 1.00E-03  Loss: 0.4081: 100%|██████████| 642/642\n",
      "Val Loss: 0.3907: 100%|██████████| 58/58 [00:03<00:00, 15.56it/s]               \n"
     ]
    },
    {
     "name": "stdout",
     "output_type": "stream",
     "text": [
      "FBeta : 0.6110\tthresh : 0.96\n",
      "\n"
     ]
    },
    {
     "name": "stderr",
     "output_type": "stream",
     "text": [
      "Epoch 34/90  Mem : 7.79GB  LR : 1.00E-03  Loss: 0.4088: 100%|██████████| 642/642\n",
      "Val Loss: 0.3916: 100%|██████████| 58/58 [00:03<00:00, 16.01it/s]               \n"
     ]
    },
    {
     "name": "stdout",
     "output_type": "stream",
     "text": [
      "FBeta : 0.6107\tthresh : 0.96\n",
      "\n"
     ]
    },
    {
     "name": "stderr",
     "output_type": "stream",
     "text": [
      "Epoch 35/90  Mem : 7.79GB  LR : 1.00E-03  Loss: 0.4072: 100%|██████████| 642/642\n",
      "Val Loss: 0.3939: 100%|██████████| 58/58 [00:03<00:00, 15.94it/s]               \n"
     ]
    },
    {
     "name": "stdout",
     "output_type": "stream",
     "text": [
      "FBeta : 0.6087\tthresh : 0.96\n",
      "\n"
     ]
    },
    {
     "name": "stderr",
     "output_type": "stream",
     "text": [
      "Epoch 36/90  Mem : 7.79GB  LR : 1.00E-03  Loss: 0.4056: 100%|██████████| 642/642\n",
      "Val Loss: 0.3794: 100%|██████████| 58/58 [00:03<00:00, 15.77it/s]               \n"
     ]
    },
    {
     "name": "stdout",
     "output_type": "stream",
     "text": [
      "FBeta : 0.6215\tthresh : 0.26\tSAVED MODEL\n",
      "\n"
     ]
    },
    {
     "name": "stderr",
     "output_type": "stream",
     "text": [
      "Epoch 37/90  Mem : 7.79GB  LR : 1.00E-03  Loss: 0.4043: 100%|██████████| 642/642\n",
      "Val Loss: 0.3835: 100%|██████████| 58/58 [00:03<00:00, 15.98it/s]               \n"
     ]
    },
    {
     "name": "stdout",
     "output_type": "stream",
     "text": [
      "FBeta : 0.6185\tthresh : 0.01\n",
      "\n"
     ]
    },
    {
     "name": "stderr",
     "output_type": "stream",
     "text": [
      "Epoch 38/90  Mem : 7.79GB  LR : 1.00E-03  Loss: 0.4049: 100%|██████████| 642/642\n",
      "Val Loss: 0.3798: 100%|██████████| 58/58 [00:03<00:00, 16.05it/s]               \n"
     ]
    },
    {
     "name": "stdout",
     "output_type": "stream",
     "text": [
      "FBeta : 0.6219\tthresh : 0.11\tSAVED MODEL\n",
      "\n"
     ]
    },
    {
     "name": "stderr",
     "output_type": "stream",
     "text": [
      "Epoch 39/90  Mem : 7.79GB  LR : 1.00E-03  Loss: 0.4011: 100%|██████████| 642/642\n",
      "Val Loss: 0.3744: 100%|██████████| 58/58 [00:03<00:00, 16.00it/s]               \n"
     ]
    },
    {
     "name": "stdout",
     "output_type": "stream",
     "text": [
      "FBeta : 0.6258\tthresh : 0.16\tSAVED MODEL\n",
      "\n"
     ]
    },
    {
     "name": "stderr",
     "output_type": "stream",
     "text": [
      "Epoch 40/90  Mem : 7.79GB  LR : 1.00E-03  Loss: 0.3990: 100%|██████████| 642/642\n",
      "Val Loss: 0.3819: 100%|██████████| 58/58 [00:03<00:00, 16.07it/s]               \n"
     ]
    },
    {
     "name": "stdout",
     "output_type": "stream",
     "text": [
      "FBeta : 0.6189\tthresh : 0.61\n",
      "\n"
     ]
    },
    {
     "name": "stderr",
     "output_type": "stream",
     "text": [
      "Epoch 41/90  Mem : 7.79GB  LR : 1.00E-03  Loss: 0.3985: 100%|██████████| 642/642\n",
      "Val Loss: 0.3916: 100%|██████████| 58/58 [00:03<00:00, 15.86it/s]               \n"
     ]
    },
    {
     "name": "stdout",
     "output_type": "stream",
     "text": [
      "FBeta : 0.6117\tthresh : 0.01\n",
      "\n"
     ]
    },
    {
     "name": "stderr",
     "output_type": "stream",
     "text": [
      "Epoch 42/90  Mem : 7.79GB  LR : 1.00E-03  Loss: 0.4004: 100%|██████████| 642/642\n",
      "Val Loss: 0.3756: 100%|██████████| 58/58 [00:03<00:00, 16.00it/s]               \n"
     ]
    },
    {
     "name": "stdout",
     "output_type": "stream",
     "text": [
      "FBeta : 0.6294\tthresh : 0.01\tSAVED MODEL\n",
      "\n"
     ]
    },
    {
     "name": "stderr",
     "output_type": "stream",
     "text": [
      "Epoch 43/90  Mem : 7.79GB  LR : 1.00E-03  Loss: 0.3984: 100%|██████████| 642/642\n",
      "Val Loss: 0.3799: 100%|██████████| 58/58 [00:03<00:00, 15.96it/s]               \n"
     ]
    },
    {
     "name": "stdout",
     "output_type": "stream",
     "text": [
      "FBeta : 0.6257\tthresh : 0.06\n",
      "\n"
     ]
    },
    {
     "name": "stderr",
     "output_type": "stream",
     "text": [
      "Epoch 44/90  Mem : 7.79GB  LR : 1.00E-03  Loss: 0.3954: 100%|██████████| 642/642\n",
      "Val Loss: 0.3890: 100%|██████████| 58/58 [00:03<00:00, 16.03it/s]               \n"
     ]
    },
    {
     "name": "stdout",
     "output_type": "stream",
     "text": [
      "FBeta : 0.6164\tthresh : 0.86\n",
      "\n"
     ]
    },
    {
     "name": "stderr",
     "output_type": "stream",
     "text": [
      "Epoch 45/90  Mem : 7.79GB  LR : 1.00E-03  Loss: 0.3985: 100%|██████████| 642/642\n",
      "Val Loss: 0.3792: 100%|██████████| 58/58 [00:03<00:00, 15.99it/s]               \n"
     ]
    },
    {
     "name": "stdout",
     "output_type": "stream",
     "text": [
      "FBeta : 0.6271\tthresh : 0.06\n",
      "\n"
     ]
    },
    {
     "name": "stderr",
     "output_type": "stream",
     "text": [
      "Epoch 46/90  Mem : 7.79GB  LR : 1.00E-03  Loss: 0.3959: 100%|██████████| 642/642\n",
      "Val Loss: 0.3870: 100%|██████████| 58/58 [00:03<00:00, 15.90it/s]               \n"
     ]
    },
    {
     "name": "stdout",
     "output_type": "stream",
     "text": [
      "FBeta : 0.6179\tthresh : 0.86\n",
      "\n"
     ]
    },
    {
     "name": "stderr",
     "output_type": "stream",
     "text": [
      "Epoch 47/90  Mem : 7.79GB  LR : 1.00E-03  Loss: 0.3928: 100%|██████████| 642/642\n",
      "Val Loss: 0.3706: 100%|██████████| 58/58 [00:03<00:00, 15.77it/s]               \n"
     ]
    },
    {
     "name": "stdout",
     "output_type": "stream",
     "text": [
      "FBeta : 0.6332\tthresh : 0.91\tSAVED MODEL\n",
      "\n"
     ]
    },
    {
     "name": "stderr",
     "output_type": "stream",
     "text": [
      "Epoch 48/90  Mem : 7.79GB  LR : 1.00E-03  Loss: 0.3925: 100%|██████████| 642/642\n",
      "Val Loss: 0.3767: 100%|██████████| 58/58 [00:03<00:00, 15.78it/s]               \n"
     ]
    },
    {
     "name": "stdout",
     "output_type": "stream",
     "text": [
      "FBeta : 0.6235\tthresh : 0.21\n",
      "\n"
     ]
    },
    {
     "name": "stderr",
     "output_type": "stream",
     "text": [
      "Epoch 49/90  Mem : 7.79GB  LR : 1.00E-03  Loss: 0.3916: 100%|██████████| 642/642\n",
      "Val Loss: 0.3824: 100%|██████████| 58/58 [00:03<00:00, 15.83it/s]               \n"
     ]
    },
    {
     "name": "stdout",
     "output_type": "stream",
     "text": [
      "FBeta : 0.6202\tthresh : 0.01\n",
      "\n"
     ]
    },
    {
     "name": "stderr",
     "output_type": "stream",
     "text": [
      "Epoch 50/90  Mem : 7.79GB  LR : 1.00E-03  Loss: 0.3920: 100%|██████████| 642/642\n",
      "Val Loss: 0.3705: 100%|██████████| 58/58 [00:03<00:00, 15.96it/s]               \n"
     ]
    },
    {
     "name": "stdout",
     "output_type": "stream",
     "text": [
      "FBeta : 0.6310\tthresh : 0.66\n",
      "\n"
     ]
    },
    {
     "name": "stderr",
     "output_type": "stream",
     "text": [
      "Epoch 51/90  Mem : 7.79GB  LR : 1.00E-03  Loss: 0.3906: 100%|██████████| 642/642\n",
      "Val Loss: 0.3699: 100%|██████████| 58/58 [00:03<00:00, 15.92it/s]               \n"
     ]
    },
    {
     "name": "stdout",
     "output_type": "stream",
     "text": [
      "FBeta : 0.6341\tthresh : 0.91\tSAVED MODEL\n",
      "\n"
     ]
    },
    {
     "name": "stderr",
     "output_type": "stream",
     "text": [
      "Epoch 52/90  Mem : 7.79GB  LR : 1.00E-03  Loss: 0.3867: 100%|██████████| 642/642\n",
      "Val Loss: 0.3780: 100%|██████████| 58/58 [00:03<00:00, 15.96it/s]               \n"
     ]
    },
    {
     "name": "stdout",
     "output_type": "stream",
     "text": [
      "FBeta : 0.6257\tthresh : 0.01\n",
      "\n"
     ]
    },
    {
     "name": "stderr",
     "output_type": "stream",
     "text": [
      "Epoch 53/90  Mem : 7.79GB  LR : 1.00E-03  Loss: 0.3867: 100%|██████████| 642/642\n",
      "Val Loss: 0.3755: 100%|██████████| 58/58 [00:03<00:00, 15.97it/s]               \n"
     ]
    },
    {
     "name": "stdout",
     "output_type": "stream",
     "text": [
      "FBeta : 0.6301\tthresh : 0.91\n",
      "\n"
     ]
    },
    {
     "name": "stderr",
     "output_type": "stream",
     "text": [
      "Epoch 54/90  Mem : 7.79GB  LR : 1.00E-03  Loss: 0.3876: 100%|██████████| 642/642\n",
      "Val Loss: 0.3656: 100%|██████████| 58/58 [00:03<00:00, 15.94it/s]               \n"
     ]
    },
    {
     "name": "stdout",
     "output_type": "stream",
     "text": [
      "FBeta : 0.6334\tthresh : 0.26\n",
      "\n"
     ]
    },
    {
     "name": "stderr",
     "output_type": "stream",
     "text": [
      "Epoch 55/90  Mem : 7.79GB  LR : 1.00E-03  Loss: 0.3872: 100%|██████████| 642/642\n",
      "Val Loss: 0.3704: 100%|██████████| 58/58 [00:03<00:00, 15.94it/s]               \n"
     ]
    },
    {
     "name": "stdout",
     "output_type": "stream",
     "text": [
      "FBeta : 0.6313\tthresh : 0.86\n",
      "\n"
     ]
    },
    {
     "name": "stderr",
     "output_type": "stream",
     "text": [
      "Epoch 56/90  Mem : 7.79GB  LR : 1.00E-03  Loss: 0.3835: 100%|██████████| 642/642\n",
      "Val Loss: 0.3688: 100%|██████████| 58/58 [00:03<00:00, 16.00it/s]               \n"
     ]
    },
    {
     "name": "stdout",
     "output_type": "stream",
     "text": [
      "FBeta : 0.6339\tthresh : 0.31\n",
      "\n"
     ]
    },
    {
     "name": "stderr",
     "output_type": "stream",
     "text": [
      "Epoch 57/90  Mem : 7.79GB  LR : 1.00E-03  Loss: 0.3820: 100%|██████████| 642/642\n",
      "Val Loss: 0.3649: 100%|██████████| 58/58 [00:03<00:00, 15.77it/s]               \n"
     ]
    },
    {
     "name": "stdout",
     "output_type": "stream",
     "text": [
      "FBeta : 0.6382\tthresh : 0.06\tSAVED MODEL\n",
      "\n"
     ]
    },
    {
     "name": "stderr",
     "output_type": "stream",
     "text": [
      "Epoch 58/90  Mem : 7.79GB  LR : 1.00E-03  Loss: 0.3823: 100%|██████████| 642/642\n",
      "Val Loss: 0.3671: 100%|██████████| 58/58 [00:03<00:00, 15.91it/s]               \n"
     ]
    },
    {
     "name": "stdout",
     "output_type": "stream",
     "text": [
      "FBeta : 0.6341\tthresh : 0.21\n",
      "\n"
     ]
    },
    {
     "name": "stderr",
     "output_type": "stream",
     "text": [
      "Epoch 59/90  Mem : 7.79GB  LR : 1.00E-03  Loss: 0.3805: 100%|██████████| 642/642\n",
      "Val Loss: 0.3624: 100%|██████████| 58/58 [00:03<00:00, 16.08it/s]               \n"
     ]
    },
    {
     "name": "stdout",
     "output_type": "stream",
     "text": [
      "FBeta : 0.6373\tthresh : 0.96\n",
      "\n"
     ]
    },
    {
     "name": "stderr",
     "output_type": "stream",
     "text": [
      "Epoch 60/90  Mem : 7.79GB  LR : 1.00E-03  Loss: 0.3814: 100%|██████████| 642/642\n",
      "Val Loss: 0.3607: 100%|██████████| 58/58 [00:03<00:00, 15.94it/s]               \n"
     ]
    },
    {
     "name": "stdout",
     "output_type": "stream",
     "text": [
      "FBeta : 0.6408\tthresh : 0.01\tSAVED MODEL\n",
      "\n"
     ]
    },
    {
     "name": "stderr",
     "output_type": "stream",
     "text": [
      "Epoch 61/90  Mem : 7.79GB  LR : 1.00E-03  Loss: 0.3812: 100%|██████████| 642/642\n",
      "Val Loss: 0.3651: 100%|██████████| 58/58 [00:03<00:00, 15.82it/s]               \n"
     ]
    },
    {
     "name": "stdout",
     "output_type": "stream",
     "text": [
      "FBeta : 0.6387\tthresh : 0.96\n",
      "\n"
     ]
    },
    {
     "name": "stderr",
     "output_type": "stream",
     "text": [
      "Epoch 62/90  Mem : 7.79GB  LR : 1.00E-03  Loss: 0.3780: 100%|██████████| 642/642\n",
      "Val Loss: 0.3621: 100%|██████████| 58/58 [00:03<00:00, 15.92it/s]               \n"
     ]
    },
    {
     "name": "stdout",
     "output_type": "stream",
     "text": [
      "FBeta : 0.6388\tthresh : 0.66\n",
      "\n"
     ]
    },
    {
     "name": "stderr",
     "output_type": "stream",
     "text": [
      "Epoch 63/90  Mem : 7.79GB  LR : 1.00E-03  Loss: 0.3771: 100%|██████████| 642/642\n",
      "Val Loss: 0.3640: 100%|██████████| 58/58 [00:03<00:00, 16.03it/s]               \n"
     ]
    },
    {
     "name": "stdout",
     "output_type": "stream",
     "text": [
      "FBeta : 0.6381\tthresh : 0.16\n",
      "\n"
     ]
    },
    {
     "name": "stderr",
     "output_type": "stream",
     "text": [
      "Epoch 64/90  Mem : 7.79GB  LR : 1.00E-03  Loss: 0.3769: 100%|██████████| 642/642\n",
      "Val Loss: 0.3568: 100%|██████████| 58/58 [00:03<00:00, 15.85it/s]               \n"
     ]
    },
    {
     "name": "stdout",
     "output_type": "stream",
     "text": [
      "FBeta : 0.6433\tthresh : 0.06\tSAVED MODEL\n",
      "\n"
     ]
    },
    {
     "name": "stderr",
     "output_type": "stream",
     "text": [
      "Epoch 65/90  Mem : 7.79GB  LR : 1.00E-03  Loss: 0.3767: 100%|██████████| 642/642\n",
      "Val Loss: 0.3572: 100%|██████████| 58/58 [00:03<00:00, 15.98it/s]               \n"
     ]
    },
    {
     "name": "stdout",
     "output_type": "stream",
     "text": [
      "FBeta : 0.6438\tthresh : 0.61\tSAVED MODEL\n",
      "\n"
     ]
    },
    {
     "name": "stderr",
     "output_type": "stream",
     "text": [
      "Epoch 66/90  Mem : 7.79GB  LR : 1.00E-03  Loss: 0.3760: 100%|██████████| 642/642\n",
      "Val Loss: 0.3693: 100%|██████████| 58/58 [00:03<00:00, 15.92it/s]               \n"
     ]
    },
    {
     "name": "stdout",
     "output_type": "stream",
     "text": [
      "FBeta : 0.6343\tthresh : 0.16\n",
      "\n"
     ]
    },
    {
     "name": "stderr",
     "output_type": "stream",
     "text": [
      "Epoch 67/90  Mem : 7.79GB  LR : 1.00E-03  Loss: 0.3745: 100%|██████████| 642/642\n",
      "Val Loss: 0.3610: 100%|██████████| 58/58 [00:03<00:00, 15.97it/s]               \n"
     ]
    },
    {
     "name": "stdout",
     "output_type": "stream",
     "text": [
      "FBeta : 0.6406\tthresh : 0.06\n",
      "\n"
     ]
    },
    {
     "name": "stderr",
     "output_type": "stream",
     "text": [
      "Epoch 68/90  Mem : 7.79GB  LR : 1.00E-03  Loss: 0.3706: 100%|██████████| 642/642\n",
      "Val Loss: 0.3641: 100%|██████████| 58/58 [00:03<00:00, 16.03it/s]               \n"
     ]
    },
    {
     "name": "stdout",
     "output_type": "stream",
     "text": [
      "FBeta : 0.6370\tthresh : 0.11\n",
      "\n"
     ]
    },
    {
     "name": "stderr",
     "output_type": "stream",
     "text": [
      "Epoch 69/90  Mem : 7.79GB  LR : 1.00E-03  Loss: 0.3717: 100%|██████████| 642/642\n",
      "Val Loss: 0.3575: 100%|██████████| 58/58 [00:03<00:00, 15.82it/s]               \n"
     ]
    },
    {
     "name": "stdout",
     "output_type": "stream",
     "text": [
      "FBeta : 0.6436\tthresh : 0.01\n",
      "\n"
     ]
    },
    {
     "name": "stderr",
     "output_type": "stream",
     "text": [
      "Epoch 70/90  Mem : 7.79GB  LR : 1.00E-03  Loss: 0.3722: 100%|██████████| 642/642\n",
      "Val Loss: 0.3594: 100%|██████████| 58/58 [00:03<00:00, 15.99it/s]               \n"
     ]
    },
    {
     "name": "stdout",
     "output_type": "stream",
     "text": [
      "FBeta : 0.6413\tthresh : 0.21\n",
      "\n"
     ]
    },
    {
     "name": "stderr",
     "output_type": "stream",
     "text": [
      "Epoch 71/90  Mem : 7.79GB  LR : 1.00E-03  Loss: 0.3709: 100%|██████████| 642/642\n",
      "Val Loss: 0.3546: 100%|██████████| 58/58 [00:03<00:00, 15.95it/s]               \n"
     ]
    },
    {
     "name": "stdout",
     "output_type": "stream",
     "text": [
      "FBeta : 0.6447\tthresh : 0.36\tSAVED MODEL\n",
      "\n"
     ]
    },
    {
     "name": "stderr",
     "output_type": "stream",
     "text": [
      "Epoch 72/90  Mem : 7.79GB  LR : 1.00E-03  Loss: 0.3707: 100%|██████████| 642/642\n",
      "Val Loss: 0.3558: 100%|██████████| 58/58 [00:03<00:00, 15.86it/s]               \n"
     ]
    },
    {
     "name": "stdout",
     "output_type": "stream",
     "text": [
      "FBeta : 0.6457\tthresh : 0.41\tSAVED MODEL\n",
      "\n"
     ]
    },
    {
     "name": "stderr",
     "output_type": "stream",
     "text": [
      "Epoch 73/90  Mem : 7.79GB  LR : 1.00E-03  Loss: 0.3689: 100%|██████████| 642/642\n",
      "Val Loss: 0.3546: 100%|██████████| 58/58 [00:03<00:00, 15.85it/s]               \n"
     ]
    },
    {
     "name": "stdout",
     "output_type": "stream",
     "text": [
      "FBeta : 0.6475\tthresh : 0.36\tSAVED MODEL\n",
      "\n"
     ]
    },
    {
     "name": "stderr",
     "output_type": "stream",
     "text": [
      "Epoch 74/90  Mem : 7.79GB  LR : 1.00E-03  Loss: 0.3693: 100%|██████████| 642/642\n",
      "Val Loss: 0.3556: 100%|██████████| 58/58 [00:03<00:00, 15.92it/s]               \n"
     ]
    },
    {
     "name": "stdout",
     "output_type": "stream",
     "text": [
      "FBeta : 0.6454\tthresh : 0.11\n",
      "\n"
     ]
    },
    {
     "name": "stderr",
     "output_type": "stream",
     "text": [
      "Epoch 75/90  Mem : 7.79GB  LR : 1.00E-03  Loss: 0.3679: 100%|██████████| 642/642\n",
      "Val Loss: 0.3558: 100%|██████████| 58/58 [00:03<00:00, 15.97it/s]               \n"
     ]
    },
    {
     "name": "stdout",
     "output_type": "stream",
     "text": [
      "FBeta : 0.6463\tthresh : 0.31\n",
      "\n"
     ]
    },
    {
     "name": "stderr",
     "output_type": "stream",
     "text": [
      "Epoch 76/90  Mem : 7.79GB  LR : 1.00E-03  Loss: 0.3710: 100%|██████████| 642/642\n",
      "Val Loss: 0.3577: 100%|██████████| 58/58 [00:03<00:00, 16.02it/s]               \n"
     ]
    },
    {
     "name": "stdout",
     "output_type": "stream",
     "text": [
      "FBeta : 0.6436\tthresh : 0.56\n",
      "\n"
     ]
    },
    {
     "name": "stderr",
     "output_type": "stream",
     "text": [
      "Epoch 77/90  Mem : 7.79GB  LR : 1.00E-03  Loss: 0.3671: 100%|██████████| 642/642\n",
      "Val Loss: 0.3534: 100%|██████████| 58/58 [00:03<00:00, 15.95it/s]               \n"
     ]
    },
    {
     "name": "stdout",
     "output_type": "stream",
     "text": [
      "FBeta : 0.6475\tthresh : 0.16\tSAVED MODEL\n",
      "\n"
     ]
    },
    {
     "name": "stderr",
     "output_type": "stream",
     "text": [
      "Epoch 78/90  Mem : 7.79GB  LR : 1.00E-03  Loss: 0.3665: 100%|██████████| 642/642\n",
      "Val Loss: 0.3541: 100%|██████████| 58/58 [00:03<00:00, 15.85it/s]               \n"
     ]
    },
    {
     "name": "stdout",
     "output_type": "stream",
     "text": [
      "FBeta : 0.6483\tthresh : 0.16\tSAVED MODEL\n",
      "\n"
     ]
    },
    {
     "name": "stderr",
     "output_type": "stream",
     "text": [
      "Epoch 79/90  Mem : 7.79GB  LR : 1.00E-03  Loss: 0.3672: 100%|██████████| 642/642\n",
      "Val Loss: 0.3521: 100%|██████████| 58/58 [00:03<00:00, 15.86it/s]               \n"
     ]
    },
    {
     "name": "stdout",
     "output_type": "stream",
     "text": [
      "FBeta : 0.6498\tthresh : 0.06\tSAVED MODEL\n",
      "\n"
     ]
    },
    {
     "name": "stderr",
     "output_type": "stream",
     "text": [
      "Epoch 80/90  Mem : 7.79GB  LR : 1.00E-03  Loss: 0.3652: 100%|██████████| 642/642\n",
      "Val Loss: 0.3519: 100%|██████████| 58/58 [00:03<00:00, 15.95it/s]               \n"
     ]
    },
    {
     "name": "stdout",
     "output_type": "stream",
     "text": [
      "FBeta : 0.6497\tthresh : 0.01\n",
      "\n"
     ]
    },
    {
     "name": "stderr",
     "output_type": "stream",
     "text": [
      "Epoch 81/90  Mem : 7.79GB  LR : 1.00E-03  Loss: 0.3653: 100%|██████████| 642/642\n",
      "Val Loss: 0.3516: 100%|██████████| 58/58 [00:03<00:00, 15.90it/s]               \n"
     ]
    },
    {
     "name": "stdout",
     "output_type": "stream",
     "text": [
      "FBeta : 0.6495\tthresh : 0.36\n",
      "\n"
     ]
    },
    {
     "name": "stderr",
     "output_type": "stream",
     "text": [
      "Epoch 82/90  Mem : 7.79GB  LR : 1.00E-03  Loss: 0.3660: 100%|██████████| 642/642\n",
      "Val Loss: 0.3513: 100%|██████████| 58/58 [00:03<00:00, 15.76it/s]               \n"
     ]
    },
    {
     "name": "stdout",
     "output_type": "stream",
     "text": [
      "FBeta : 0.6500\tthresh : 0.46\tSAVED MODEL\n",
      "\n"
     ]
    },
    {
     "name": "stderr",
     "output_type": "stream",
     "text": [
      "Epoch 83/90  Mem : 7.79GB  LR : 1.00E-03  Loss: 0.3656: 100%|██████████| 642/642\n",
      "Val Loss: 0.3515: 100%|██████████| 58/58 [00:03<00:00, 15.92it/s]               \n"
     ]
    },
    {
     "name": "stdout",
     "output_type": "stream",
     "text": [
      "FBeta : 0.6498\tthresh : 0.26\n",
      "\n"
     ]
    },
    {
     "name": "stderr",
     "output_type": "stream",
     "text": [
      "Epoch 84/90  Mem : 7.79GB  LR : 1.00E-03  Loss: 0.3653: 100%|██████████| 642/642\n",
      "Val Loss: 0.3532: 100%|██████████| 58/58 [00:03<00:00, 16.04it/s]               \n"
     ]
    },
    {
     "name": "stdout",
     "output_type": "stream",
     "text": [
      "FBeta : 0.6484\tthresh : 0.06\n",
      "\n"
     ]
    },
    {
     "name": "stderr",
     "output_type": "stream",
     "text": [
      "Epoch 85/90  Mem : 7.79GB  LR : 1.00E-03  Loss: 0.3657: 100%|██████████| 642/642\n",
      "Val Loss: 0.3515: 100%|██████████| 58/58 [00:03<00:00, 15.78it/s]               \n"
     ]
    },
    {
     "name": "stdout",
     "output_type": "stream",
     "text": [
      "FBeta : 0.6498\tthresh : 0.11\n",
      "\n"
     ]
    },
    {
     "name": "stderr",
     "output_type": "stream",
     "text": [
      "Epoch 86/90  Mem : 7.79GB  LR : 1.00E-03  Loss: 0.3651: 100%|██████████| 642/642\n",
      "Val Loss: 0.3532: 100%|██████████| 58/58 [00:03<00:00, 15.98it/s]               \n"
     ]
    },
    {
     "name": "stdout",
     "output_type": "stream",
     "text": [
      "FBeta : 0.6482\tthresh : 0.31\n",
      "\n"
     ]
    },
    {
     "name": "stderr",
     "output_type": "stream",
     "text": [
      "Epoch 87/90  Mem : 7.79GB  LR : 1.00E-03  Loss: 0.3640: 100%|██████████| 642/642\n",
      "Val Loss: 0.3533: 100%|██████████| 58/58 [00:03<00:00, 15.87it/s]               \n"
     ]
    },
    {
     "name": "stdout",
     "output_type": "stream",
     "text": [
      "FBeta : 0.6480\tthresh : 0.61\n",
      "\n"
     ]
    },
    {
     "name": "stderr",
     "output_type": "stream",
     "text": [
      "Epoch 88/90  Mem : 7.79GB  LR : 1.00E-03  Loss: 0.3657: 100%|██████████| 642/642\n",
      "Val Loss: 0.3530: 100%|██████████| 58/58 [00:03<00:00, 16.00it/s]               \n"
     ]
    },
    {
     "name": "stdout",
     "output_type": "stream",
     "text": [
      "FBeta : 0.6482\tthresh : 0.41\n",
      "\n"
     ]
    },
    {
     "name": "stderr",
     "output_type": "stream",
     "text": [
      "Epoch 89/90  Mem : 7.79GB  LR : 1.00E-03  Loss: 0.3648: 100%|██████████| 642/642\n",
      "Val Loss: 0.3534: 100%|██████████| 58/58 [00:03<00:00, 16.01it/s]               \n"
     ]
    },
    {
     "name": "stdout",
     "output_type": "stream",
     "text": [
      "FBeta : 0.6483\tthresh : 0.41\n",
      "\n"
     ]
    },
    {
     "name": "stderr",
     "output_type": "stream",
     "text": [
      "Epoch 90/90  Mem : 7.79GB  LR : 1.00E-03  Loss: 0.3643: 100%|██████████| 642/642\n",
      "Val Loss: 0.3526: 100%|██████████| 58/58 [00:03<00:00, 15.89it/s]               \n"
     ]
    },
    {
     "name": "stdout",
     "output_type": "stream",
     "text": [
      "FBeta : 0.6491\tthresh : 0.16\n",
      "\n"
     ]
    },
    {
     "name": "stderr",
     "output_type": "stream",
     "text": [
      "Epoch 91/90  Mem : 7.79GB  LR : 1.00E-03  Loss: 0.3625: 100%|██████████| 642/642\n",
      "Val Loss: 0.3529: 100%|██████████| 58/58 [00:03<00:00, 15.86it/s]               \n"
     ]
    },
    {
     "name": "stdout",
     "output_type": "stream",
     "text": [
      "FBeta : 0.6486\tthresh : 0.21\n",
      "\n"
     ]
    },
    {
     "name": "stderr",
     "output_type": "stream",
     "text": [
      "Epoch 92/90  Mem : 7.79GB  LR : 1.00E-03  Loss: 0.3660: 100%|██████████| 642/642\n",
      "Val Loss: 0.3523: 100%|██████████| 58/58 [00:03<00:00, 15.63it/s]               \n"
     ]
    },
    {
     "name": "stdout",
     "output_type": "stream",
     "text": [
      "FBeta : 0.6490\tthresh : 0.36\n",
      "\n"
     ]
    },
    {
     "name": "stderr",
     "output_type": "stream",
     "text": [
      "Epoch 93/90  Mem : 7.79GB  LR : 1.00E-03  Loss: 0.3651: 100%|██████████| 642/642\n",
      "Val Loss: 0.3526: 100%|██████████| 58/58 [00:03<00:00, 15.95it/s]               \n"
     ]
    },
    {
     "name": "stdout",
     "output_type": "stream",
     "text": [
      "FBeta : 0.6485\tthresh : 0.56\n",
      "\n"
     ]
    },
    {
     "name": "stderr",
     "output_type": "stream",
     "text": [
      "Epoch 94/90  Mem : 7.79GB  LR : 1.00E-03  Loss: 0.3640: 100%|██████████| 642/642\n",
      "Val Loss: 0.3528: 100%|██████████| 58/58 [00:03<00:00, 15.87it/s]               \n"
     ]
    },
    {
     "name": "stdout",
     "output_type": "stream",
     "text": [
      "FBeta : 0.6485\tthresh : 0.16\n",
      "\n",
      "Early Stopping\n",
      "{\"status\":200,\"message\":\"ok\"}"
     ]
    }
   ],
   "source": [
    "if CFG.debug:\n",
    "    print(\"!!!Debug mode!!!\\n\")\n",
    "\n",
    "dice_score=0\n",
    "for epoch in range(100):\n",
    "    model.train()\n",
    "    \n",
    "    pbar_train = enumerate(dataloader_train)\n",
    "    pbar_train = tqdm(pbar_train, total=len(dataloader_train), bar_format=\"{l_bar}{bar:10}{r_bar}{bar:-0b}\")\n",
    "    loss_train, loss_val= 0.0, 0.0\n",
    "    for i, (images, masks) in pbar_train:\n",
    "        images, masks = images.cuda(), masks.cuda()\n",
    "        optimizer.zero_grad()\n",
    "        with amp.autocast():\n",
    "            preds = model(images)\n",
    "            loss = criterion(preds, masks)\n",
    "            scaler.scale(loss).backward()\n",
    "            scaler.step(optimizer)\n",
    "            scaler.update()\n",
    "            loss_train += loss.detach().item()\n",
    "        \n",
    "        lr = f\"LR : {scheduler.get_last_lr()[0]:.2E}\"\n",
    "        gpu_mem = f\"Mem : {torch.cuda.memory_reserved() / 1E9:.3g}GB\"\n",
    "        pbar_train.set_description((\"%10s  \" * 3 + \"%10s\") % (f\"Epoch {epoch}/{CFG.epochs}\", gpu_mem, lr,\n",
    "                                                                f\"Loss: {loss_train / (i + 1):.4f}\"))\n",
    "\n",
    "    scheduler.step()\n",
    "    model.eval()\n",
    "    \n",
    "    cum_pred = []\n",
    "    cum_true = []\n",
    "    pbar_val = enumerate(dataloader_valid)\n",
    "    pbar_val = tqdm(pbar_val, total=len(dataloader_valid), bar_format=\"{l_bar}{bar:10}{r_bar}{bar:-10b}\")\n",
    "    for i, (images, masks) in pbar_val:\n",
    "        images, masks = images.cuda(), masks.cuda()\n",
    "        with torch.no_grad():\n",
    "            preds = model(images)\n",
    "            loss_val += criterion(preds, masks).item()\n",
    "            preds = torch.sigmoid(preds)\n",
    "            cum_pred.append(preds.cpu().detach().numpy())\n",
    "            cum_true.append(masks.cpu().detach().numpy())\n",
    "\n",
    "        pbar_val.set_description((\"%10s\") % (f\"Val Loss: {loss_val / (i+1):.4f}\"))\n",
    "    \n",
    "    cum_pred = torch.flatten(torch.from_numpy(np.concatenate(cum_pred, axis=0)))\n",
    "    cum_true = torch.flatten(torch.from_numpy(np.concatenate(cum_true, axis=0)))\n",
    "    \n",
    "    dice_score_, thresh = calc_optim_thresh(cum_pred, cum_true, thresholds_to_test)\n",
    "    \n",
    "    if dice_score_ > dice_score:\n",
    "        print(f\"FBeta : {dice_score_:.4f}\\tthresh : {thresh}\\tSAVED MODEL\\n\")\n",
    "        epoch_best=epoch\n",
    "        dice_score =dice_score_\n",
    "        torch.save({'model': model.module.state_dict(), 'dice_score': dice_score, 'thresh': thresh,\n",
    "                    \"model_arch\":CFG.model_arch, \"backbone\":CFG.backbone,\"in_chans\":CFG.in_chans,\"target_size\":CFG.target_size,},\n",
    "                    f'./{CFG.exp_name}/{CFG.exp_name}.pth')\n",
    "    else:\n",
    "        print(f\"FBeta : {dice_score_:.4f}\\tthresh : {thresh}\\n\")\n",
    "    \n",
    "    if epoch-epoch_best>=CFG.epochs_patience:\n",
    "        print('Early Stopping')\n",
    "        break\n",
    "        \n",
    "!curl -X POST -H 'Authorization: Bearer '$LINE -F 'message=セルの実行が終わりました！{dice_score}' https://notify-api.line.me/api/notify\n"
   ]
  },
  {
   "cell_type": "code",
   "execution_count": 9,
   "metadata": {
    "execution": {
     "iopub.execute_input": "2023-06-26T22:13:52.283874Z",
     "iopub.status.busy": "2023-06-26T22:13:52.283168Z",
     "iopub.status.idle": "2023-06-26T22:13:52.893778Z",
     "shell.execute_reply": "2023-06-26T22:13:52.893251Z"
    }
   },
   "outputs": [
    {
     "name": "stdout",
     "output_type": "stream",
     "text": [
      "model_arch:  Unet\n",
      "backbone:  timm-resnest26d\n",
      "0.6500\n"
     ]
    }
   ],
   "source": [
    "pth = torch.load(f'./{CFG.exp_name}/{CFG.exp_name}.pth')\n",
    "\n",
    "model = build_model(pth[\"model_arch\"], pth[\"backbone\"], pth[\"in_chans\"], pth[\"target_size\"], weight=None)\n",
    "model.load_state_dict(pth['model'])\n",
    "thresh = pth['thresh']\n",
    "dice_score = pth['dice_score']\n",
    "print(f\"{dice_score:.4f}\")\n",
    "\n",
    "model.to(device)\n",
    "model.eval();\n"
   ]
  },
  {
   "cell_type": "code",
   "execution_count": 10,
   "metadata": {
    "execution": {
     "iopub.execute_input": "2023-06-26T22:13:52.895660Z",
     "iopub.status.busy": "2023-06-26T22:13:52.895431Z",
     "iopub.status.idle": "2023-06-26T22:13:52.897950Z",
     "shell.execute_reply": "2023-06-26T22:13:52.897543Z"
    }
   },
   "outputs": [],
   "source": [
    "# for i, (images, masks) in enumerate(dataloader_valid):\n",
    "#     if i!=1: continue\n",
    "    \n",
    "#     images, masks = images.cuda(), masks.cuda()\n",
    "#     with torch.no_grad():\n",
    "#         preds = model(images)\n",
    "#         preds = torch.sigmoid(preds)\n",
    "#     images, masks, preds = images.cpu(), masks.cpu(), preds.cpu()\n",
    "    \n",
    "#     for num in range(CFG.valid_batch_size):\n",
    "#         fig, axes = plt.subplots(nrows=1, ncols=4, figsize=(20,5))\n",
    "#         axes = axes.flatten()\n",
    "#         axes[0].imshow(images[num].permute(1,2,0))\n",
    "#         axes[0].axis('off')\n",
    "#         axes[0].set_title('Image')\n",
    "#         axes[1].imshow(masks[num].permute(1,2,0))\n",
    "#         axes[1].axis('off')\n",
    "#         axes[1].set_title('Ground Truth')\n",
    "#         axes[2].imshow(preds[num].permute(1,2,0))\n",
    "#         axes[2].axis('off')\n",
    "#         axes[2].set_title('pred')\n",
    "#         axes[3].imshow((preds[num]>thresh).permute(1,2,0))\n",
    "#         axes[3].axis('off')\n",
    "#         axes[3].set_title('pred_thresh')\n",
    "#     break"
   ]
  },
  {
   "cell_type": "code",
   "execution_count": null,
   "metadata": {},
   "outputs": [],
   "source": []
  },
  {
   "cell_type": "code",
   "execution_count": null,
   "metadata": {},
   "outputs": [],
   "source": []
  },
  {
   "cell_type": "code",
   "execution_count": null,
   "metadata": {},
   "outputs": [],
   "source": []
  }
 ],
 "metadata": {
  "kernelspec": {
   "display_name": "Python 3",
   "language": "python",
   "name": "python3"
  },
  "language_info": {
   "codemirror_mode": {
    "name": "ipython",
    "version": 3
   },
   "file_extension": ".py",
   "mimetype": "text/x-python",
   "name": "python",
   "nbconvert_exporter": "python",
   "pygments_lexer": "ipython3",
   "version": "3.10.11"
  }
 },
 "nbformat": 4,
 "nbformat_minor": 4
}

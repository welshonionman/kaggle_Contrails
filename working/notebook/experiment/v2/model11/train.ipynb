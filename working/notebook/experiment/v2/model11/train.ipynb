{
 "cells": [
  {
   "cell_type": "code",
   "execution_count": 1,
   "metadata": {
    "execution": {
     "iopub.execute_input": "2023-06-27T16:25:19.538794Z",
     "iopub.status.busy": "2023-06-27T16:25:19.538637Z",
     "iopub.status.idle": "2023-06-27T16:25:22.229548Z",
     "shell.execute_reply": "2023-06-27T16:25:22.229041Z"
    }
   },
   "outputs": [],
   "source": [
    "import gc\n",
    "import os\n",
    "import sys\n",
    "import warnings\n",
    "from glob import glob\n",
    "import matplotlib.pyplot as plt\n",
    "\n",
    "import albumentations as A\n",
    "from albumentations.pytorch import ToTensorV2\n",
    "import pandas as pd\n",
    "import cv2\n",
    "import torch\n",
    "import torch.nn as nn\n",
    "import torch.nn.functional as F\n",
    "from torch.utils.data import DataLoader\n",
    "import segmentation_models_pytorch as smp\n",
    "from torch.cuda import amp\n",
    "from tqdm import tqdm"
   ]
  },
  {
   "cell_type": "code",
   "execution_count": 2,
   "metadata": {
    "execution": {
     "iopub.execute_input": "2023-06-27T16:25:22.231563Z",
     "iopub.status.busy": "2023-06-27T16:25:22.231316Z",
     "iopub.status.idle": "2023-06-27T16:25:22.295208Z",
     "shell.execute_reply": "2023-06-27T16:25:22.294695Z"
    }
   },
   "outputs": [],
   "source": [
    "sys.path.append('../')\n",
    "from script.metrics import *\n",
    "from script.dataset import *\n",
    "from script.helper import *\n",
    "from script.scheduler import *\n",
    "from script.loss import *"
   ]
  },
  {
   "attachments": {},
   "cell_type": "markdown",
   "metadata": {},
   "source": [
    "### Config"
   ]
  },
  {
   "cell_type": "code",
   "execution_count": 3,
   "metadata": {
    "execution": {
     "iopub.execute_input": "2023-06-27T16:25:22.297290Z",
     "iopub.status.busy": "2023-06-27T16:25:22.297044Z",
     "iopub.status.idle": "2023-06-27T16:25:22.322971Z",
     "shell.execute_reply": "2023-06-27T16:25:22.322413Z"
    }
   },
   "outputs": [],
   "source": [
    "class CFG:\n",
    "    debug = False\n",
    "    # ============== comp exp name =============\n",
    "    comp_name = 'contrail'\n",
    "    comp_dir_path = '/kaggle/input/'\n",
    "    comp_folder_name = 'google-research-identify-contrails-reduce-global-warming'\n",
    "\n",
    "    dataset_path = \"/kaggle/working/dataset_train/ash_color/\"\n",
    "\n",
    "    exp_name = os.getcwd().split('/')[-1]\n",
    "\n",
    "    # ============== model cfg =============\n",
    "    model_arch = 'Unet'\n",
    "    backbone = 'timm-resnest26d'\n",
    "    in_chans = 3\n",
    "    target_size = 1\n",
    "\n",
    "    # ============== training cfg =============\n",
    "    train_batch_size = 32\n",
    "    valid_batch_size = train_batch_size\n",
    "\n",
    "    epochs = 90\n",
    "    epochs_patience = 12\n",
    "\n",
    "    lr = 1e-4\n",
    "    loss = \"DiceLoss\"\n",
    "    smooth=1500\n",
    "    \n",
    "    # ============== fixed =============\n",
    "    num_workers = 4\n",
    "    seed = 42\n",
    "\n",
    "    # ============== augmentation =============\n",
    "    train_aug_list = [\n",
    "        A.RandomRotate90(),\n",
    "        A.RandomBrightnessContrast(),\n",
    "        A.ShiftScaleRotate(p=0.5,rotate_limit=(10,10)),\n",
    "        A.GridDistortion(num_steps=5, distort_limit=0.3, p=0.5),\n",
    "        A.CoarseDropout(max_holes=10, max_width=int(256 * 0.05), max_height=int(256 * 0.05),\n",
    "                        mask_fill_value=0, p=0.5),\n",
    "        A.RandomGridShuffle(),\n",
    "        ToTensorV2(transpose_mask=True),\n",
    "    ]\n",
    "\n",
    "    valid_aug_list = [\n",
    "        ToTensorV2(transpose_mask=True),\n",
    "    ]\n",
    "\n",
    "\n",
    "warnings.filterwarnings(\"ignore\")\n",
    "torch.backends.cudnn.benchmark = True\n",
    "device = torch.device('cuda' if torch.cuda.is_available() else 'cpu')\n",
    "set_seed(CFG.seed)\n",
    "os.makedirs(f'./{CFG.exp_name}/', exist_ok=True)"
   ]
  },
  {
   "attachments": {},
   "cell_type": "markdown",
   "metadata": {},
   "source": [
    "# Dataset"
   ]
  },
  {
   "cell_type": "code",
   "execution_count": 4,
   "metadata": {
    "execution": {
     "iopub.execute_input": "2023-06-27T16:25:22.325001Z",
     "iopub.status.busy": "2023-06-27T16:25:22.324747Z",
     "iopub.status.idle": "2023-06-27T16:25:22.358184Z",
     "shell.execute_reply": "2023-06-27T16:25:22.357718Z"
    }
   },
   "outputs": [
    {
     "data": {
      "text/plain": [
       "((20529, 2), (1856, 2))"
      ]
     },
     "execution_count": 4,
     "metadata": {},
     "output_type": "execute_result"
    }
   ],
   "source": [
    "train_df = pd.read_csv(f\"{CFG.dataset_path}/train_df.csv\")\n",
    "valid_df = pd.read_csv(f\"{CFG.dataset_path}/validation_df.csv\")\n",
    "\n",
    "if CFG.debug:\n",
    "    train_df=train_df[:2000]\n",
    "    valid_df=valid_df[:2000]\n",
    "train_df.shape, valid_df.shape"
   ]
  },
  {
   "cell_type": "code",
   "execution_count": 5,
   "metadata": {
    "execution": {
     "iopub.execute_input": "2023-06-27T16:25:22.376618Z",
     "iopub.status.busy": "2023-06-27T16:25:22.376321Z",
     "iopub.status.idle": "2023-06-27T16:25:22.438872Z",
     "shell.execute_reply": "2023-06-27T16:25:22.438165Z"
    }
   },
   "outputs": [
    {
     "name": "stdout",
     "output_type": "stream",
     "text": [
      "\n",
      "len(dataset_train) = 20529\n",
      "train_image_shape : torch.Size([3, 256, 256])\n",
      "train_mask_shape  : torch.Size([1, 256, 256])\n",
      "train_image_dtype : torch.float32\n",
      "train_mask_dtype : torch.float32\n",
      "\n",
      "len(dataset_valid) = 1856\n",
      "valid_image_shape : torch.Size([3, 256, 256])\n",
      "valid_mask_shape  : torch.Size([1, 256, 256])\n",
      "valid_image_dtype : torch.float32\n",
      "valid_mask_dtype : torch.float32\n",
      "\n"
     ]
    }
   ],
   "source": [
    "dataset_train = ContrailsDataset(train_df, CFG.train_aug_list)\n",
    "dataset_valid = ContrailsDataset(valid_df, CFG.valid_aug_list)\n",
    "\n",
    "dataloader_train = DataLoader(dataset_train, batch_size=CFG.train_batch_size , shuffle=True, num_workers = CFG.num_workers)\n",
    "dataloader_valid = DataLoader(dataset_valid, batch_size=CFG.valid_batch_size, num_workers = CFG.num_workers)\n",
    "\n",
    "print(f\"\"\"\n",
    "{len(dataset_train) = }\n",
    "train_image_shape : {dataset_train[0][0].shape}\n",
    "train_mask_shape  : {dataset_train[0][1].shape}\n",
    "train_image_dtype : {dataset_train[0][0].dtype}\n",
    "train_mask_dtype : {dataset_train[0][1].dtype}\n",
    "\n",
    "{len(dataset_valid) = }\n",
    "valid_image_shape : {dataset_valid[0][0].shape}\n",
    "valid_mask_shape  : {dataset_valid[0][1].shape}\n",
    "valid_image_dtype : {dataset_valid[0][0].dtype}\n",
    "valid_mask_dtype : {dataset_valid[0][1].dtype}\n",
    "\"\"\")\n",
    "\n",
    "# show_dataset(112, dataset_train)"
   ]
  },
  {
   "attachments": {},
   "cell_type": "markdown",
   "metadata": {},
   "source": [
    "# Model"
   ]
  },
  {
   "cell_type": "code",
   "execution_count": 6,
   "metadata": {
    "execution": {
     "iopub.execute_input": "2023-06-27T16:25:22.440706Z",
     "iopub.status.busy": "2023-06-27T16:25:22.440432Z",
     "iopub.status.idle": "2023-06-27T16:25:23.582168Z",
     "shell.execute_reply": "2023-06-27T16:25:23.581682Z"
    }
   },
   "outputs": [
    {
     "name": "stdout",
     "output_type": "stream",
     "text": [
      "model_arch:  Unet\n",
      "backbone:  timm-resnest26d\n"
     ]
    }
   ],
   "source": [
    "class CustomModel(nn.Module):\n",
    "    def __init__(self,model_arch, backbone, in_chans, target_size, weight):\n",
    "        super().__init__()\n",
    "\n",
    "        self.model = smp.create_model(\n",
    "            model_arch,\n",
    "            encoder_name=backbone,\n",
    "            encoder_weights=weight,\n",
    "            in_channels=in_chans,\n",
    "            classes=target_size,\n",
    "            activation=None,\n",
    "        )\n",
    "        \n",
    "    def forward(self, image):\n",
    "        output = self.model(image)\n",
    "        return output\n",
    "\n",
    "\n",
    "def build_model(model_arch, backbone, in_chans, target_size, weight=\"imagenet\"):\n",
    "    print('model_arch: ', model_arch)\n",
    "    print('backbone: ', backbone)\n",
    "    model = CustomModel(model_arch, backbone, in_chans, target_size, weight)\n",
    "    return model\n",
    "\n",
    "\n",
    "num_gpus = torch.cuda.device_count()\n",
    "device_ids = list(range(num_gpus))\n",
    "\n",
    "model = build_model(CFG.model_arch, CFG.backbone, CFG.in_chans, CFG.target_size)\n",
    "model = nn.DataParallel(model, device_ids=device_ids)\n",
    "model.to(device);"
   ]
  },
  {
   "cell_type": "code",
   "execution_count": 7,
   "metadata": {
    "execution": {
     "iopub.execute_input": "2023-06-27T16:25:23.584145Z",
     "iopub.status.busy": "2023-06-27T16:25:23.583914Z",
     "iopub.status.idle": "2023-06-27T16:25:23.587220Z",
     "shell.execute_reply": "2023-06-27T16:25:23.586784Z"
    }
   },
   "outputs": [],
   "source": [
    "scaler = amp.GradScaler()\n",
    "criterion = get_lossfn(CFG, CFG.smooth)\n",
    "optimizer = torch.optim.AdamW(model.parameters(), lr=CFG.lr)\n",
    "scheduler = get_scheduler(CFG, optimizer)\n",
    "\n",
    "thresholds_to_test = [round(x * 0.01, 2) for x in range(1, 101, 2)]"
   ]
  },
  {
   "attachments": {},
   "cell_type": "markdown",
   "metadata": {},
   "source": [
    "# Training"
   ]
  },
  {
   "cell_type": "code",
   "execution_count": 8,
   "metadata": {
    "execution": {
     "iopub.execute_input": "2023-06-27T16:25:23.589167Z",
     "iopub.status.busy": "2023-06-27T16:25:23.589012Z",
     "iopub.status.idle": "2023-06-27T18:54:48.274668Z",
     "shell.execute_reply": "2023-06-27T18:54:48.271735Z"
    }
   },
   "outputs": [
    {
     "name": "stderr",
     "output_type": "stream",
     "text": [
      "Epoch 0/90  Mem : 7.79GB  LR : 1.00E-04  Loss: 0.7863: 100%|██████████| 642/642 \n",
      "Val Loss: 0.5360: 100%|██████████| 58/58 [00:04<00:00, 12.43it/s]               \n"
     ]
    },
    {
     "name": "stdout",
     "output_type": "stream",
     "text": [
      "FBeta : 0.5228\tthresh : 0.46\tSAVED MODEL\n",
      "\n"
     ]
    },
    {
     "name": "stderr",
     "output_type": "stream",
     "text": [
      "Epoch 1/90  Mem : 7.79GB  LR : 1.00E-03  Loss: 0.4982: 100%|██████████| 642/642 \n",
      "Val Loss: 0.4310: 100%|██████████| 58/58 [00:03<00:00, 14.82it/s]               \n"
     ]
    },
    {
     "name": "stdout",
     "output_type": "stream",
     "text": [
      "FBeta : 0.4778\tthresh : 0.01\n",
      "\n"
     ]
    },
    {
     "name": "stderr",
     "output_type": "stream",
     "text": [
      "Epoch 2/90  Mem : 7.79GB  LR : 1.00E-03  Loss: 0.4601: 100%|██████████| 642/642 \n",
      "Val Loss: 0.4598: 100%|██████████| 58/58 [00:04<00:00, 14.44it/s]               \n"
     ]
    },
    {
     "name": "stdout",
     "output_type": "stream",
     "text": [
      "FBeta : 0.4887\tthresh : 0.96\n",
      "\n"
     ]
    },
    {
     "name": "stderr",
     "output_type": "stream",
     "text": [
      "Epoch 3/90  Mem : 7.79GB  LR : 1.00E-03  Loss: 0.4471: 100%|██████████| 642/642 \n",
      "Val Loss: 0.3878: 100%|██████████| 58/58 [00:03<00:00, 14.59it/s]               \n"
     ]
    },
    {
     "name": "stdout",
     "output_type": "stream",
     "text": [
      "FBeta : 0.5314\tthresh : 0.01\tSAVED MODEL\n",
      "\n"
     ]
    },
    {
     "name": "stderr",
     "output_type": "stream",
     "text": [
      "Epoch 4/90  Mem : 7.79GB  LR : 1.00E-03  Loss: 0.4366: 100%|██████████| 642/642 \n",
      "Val Loss: 0.3710: 100%|██████████| 58/58 [00:04<00:00, 14.27it/s]               \n"
     ]
    },
    {
     "name": "stdout",
     "output_type": "stream",
     "text": [
      "FBeta : 0.5532\tthresh : 0.81\tSAVED MODEL\n",
      "\n"
     ]
    },
    {
     "name": "stderr",
     "output_type": "stream",
     "text": [
      "Epoch 5/90  Mem : 7.79GB  LR : 1.00E-03  Loss: 0.4375: 100%|██████████| 642/642 \n",
      "Val Loss: 0.3637: 100%|██████████| 58/58 [00:03<00:00, 14.57it/s]               \n"
     ]
    },
    {
     "name": "stdout",
     "output_type": "stream",
     "text": [
      "FBeta : 0.5589\tthresh : 0.36\tSAVED MODEL\n",
      "\n"
     ]
    },
    {
     "name": "stderr",
     "output_type": "stream",
     "text": [
      "Epoch 6/90  Mem : 7.79GB  LR : 1.00E-03  Loss: 0.4294: 100%|██████████| 642/642 \n",
      "Val Loss: 0.3750: 100%|██████████| 58/58 [00:03<00:00, 14.89it/s]               \n"
     ]
    },
    {
     "name": "stdout",
     "output_type": "stream",
     "text": [
      "FBeta : 0.5497\tthresh : 0.06\n",
      "\n"
     ]
    },
    {
     "name": "stderr",
     "output_type": "stream",
     "text": [
      "Epoch 7/90  Mem : 7.79GB  LR : 1.00E-03  Loss: 0.4258: 100%|██████████| 642/642 \n",
      "Val Loss: 0.3597: 100%|██████████| 58/58 [00:03<00:00, 14.90it/s]               \n"
     ]
    },
    {
     "name": "stdout",
     "output_type": "stream",
     "text": [
      "FBeta : 0.5699\tthresh : 0.41\tSAVED MODEL\n",
      "\n"
     ]
    },
    {
     "name": "stderr",
     "output_type": "stream",
     "text": [
      "Epoch 8/90  Mem : 7.79GB  LR : 1.00E-03  Loss: 0.4211: 100%|██████████| 642/642 \n",
      "Val Loss: 0.3580: 100%|██████████| 58/58 [00:03<00:00, 15.03it/s]               \n"
     ]
    },
    {
     "name": "stdout",
     "output_type": "stream",
     "text": [
      "FBeta : 0.5681\tthresh : 0.01\n",
      "\n"
     ]
    },
    {
     "name": "stderr",
     "output_type": "stream",
     "text": [
      "Epoch 9/90  Mem : 7.79GB  LR : 1.00E-03  Loss: 0.4210: 100%|██████████| 642/642 \n",
      "Val Loss: 0.4031: 100%|██████████| 58/58 [00:03<00:00, 15.08it/s]               \n"
     ]
    },
    {
     "name": "stdout",
     "output_type": "stream",
     "text": [
      "FBeta : 0.5186\tthresh : 0.01\n",
      "\n"
     ]
    },
    {
     "name": "stderr",
     "output_type": "stream",
     "text": [
      "Epoch 10/90  Mem : 7.79GB  LR : 1.00E-03  Loss: 0.4170: 100%|██████████| 642/642\n",
      "Val Loss: 0.3592: 100%|██████████| 58/58 [00:03<00:00, 14.99it/s]               \n"
     ]
    },
    {
     "name": "stdout",
     "output_type": "stream",
     "text": [
      "FBeta : 0.5685\tthresh : 0.01\n",
      "\n"
     ]
    },
    {
     "name": "stderr",
     "output_type": "stream",
     "text": [
      "Epoch 11/90  Mem : 7.79GB  LR : 1.00E-03  Loss: 0.4154: 100%|██████████| 642/642\n",
      "Val Loss: 0.3540: 100%|██████████| 58/58 [00:03<00:00, 14.99it/s]               \n"
     ]
    },
    {
     "name": "stdout",
     "output_type": "stream",
     "text": [
      "FBeta : 0.5716\tthresh : 0.01\tSAVED MODEL\n",
      "\n"
     ]
    },
    {
     "name": "stderr",
     "output_type": "stream",
     "text": [
      "Epoch 12/90  Mem : 7.79GB  LR : 1.00E-03  Loss: 0.4118: 100%|██████████| 642/642\n",
      "Val Loss: 0.3568: 100%|██████████| 58/58 [00:03<00:00, 15.05it/s]               \n"
     ]
    },
    {
     "name": "stdout",
     "output_type": "stream",
     "text": [
      "FBeta : 0.5674\tthresh : 0.01\n",
      "\n"
     ]
    },
    {
     "name": "stderr",
     "output_type": "stream",
     "text": [
      "Epoch 13/90  Mem : 7.79GB  LR : 1.00E-03  Loss: 0.4084: 100%|██████████| 642/642\n",
      "Val Loss: 0.3473: 100%|██████████| 58/58 [00:03<00:00, 15.02it/s]               \n"
     ]
    },
    {
     "name": "stdout",
     "output_type": "stream",
     "text": [
      "FBeta : 0.5806\tthresh : 0.61\tSAVED MODEL\n",
      "\n"
     ]
    },
    {
     "name": "stderr",
     "output_type": "stream",
     "text": [
      "Epoch 14/90  Mem : 7.79GB  LR : 1.00E-03  Loss: 0.4088: 100%|██████████| 642/642\n",
      "Val Loss: 0.3509: 100%|██████████| 58/58 [00:03<00:00, 15.01it/s]               \n"
     ]
    },
    {
     "name": "stdout",
     "output_type": "stream",
     "text": [
      "FBeta : 0.5771\tthresh : 0.06\n",
      "\n"
     ]
    },
    {
     "name": "stderr",
     "output_type": "stream",
     "text": [
      "Epoch 15/90  Mem : 7.79GB  LR : 1.00E-03  Loss: 0.4067: 100%|██████████| 642/642\n",
      "Val Loss: 0.3339: 100%|██████████| 58/58 [00:03<00:00, 15.01it/s]               \n"
     ]
    },
    {
     "name": "stdout",
     "output_type": "stream",
     "text": [
      "FBeta : 0.5961\tthresh : 0.16\tSAVED MODEL\n",
      "\n"
     ]
    },
    {
     "name": "stderr",
     "output_type": "stream",
     "text": [
      "Epoch 16/90  Mem : 7.79GB  LR : 1.00E-03  Loss: 0.4057: 100%|██████████| 642/642\n",
      "Val Loss: 0.3364: 100%|██████████| 58/58 [00:03<00:00, 15.15it/s]               \n"
     ]
    },
    {
     "name": "stdout",
     "output_type": "stream",
     "text": [
      "FBeta : 0.5954\tthresh : 0.06\n",
      "\n"
     ]
    },
    {
     "name": "stderr",
     "output_type": "stream",
     "text": [
      "Epoch 17/90  Mem : 7.79GB  LR : 1.00E-03  Loss: 0.4046: 100%|██████████| 642/642\n",
      "Val Loss: 0.3379: 100%|██████████| 58/58 [00:03<00:00, 15.02it/s]               \n"
     ]
    },
    {
     "name": "stdout",
     "output_type": "stream",
     "text": [
      "FBeta : 0.5900\tthresh : 0.06\n",
      "\n"
     ]
    },
    {
     "name": "stderr",
     "output_type": "stream",
     "text": [
      "Epoch 18/90  Mem : 7.79GB  LR : 1.00E-03  Loss: 0.4016: 100%|██████████| 642/642\n",
      "Val Loss: 0.3338: 100%|██████████| 58/58 [00:03<00:00, 15.12it/s]               \n"
     ]
    },
    {
     "name": "stdout",
     "output_type": "stream",
     "text": [
      "FBeta : 0.5971\tthresh : 0.76\tSAVED MODEL\n",
      "\n"
     ]
    },
    {
     "name": "stderr",
     "output_type": "stream",
     "text": [
      "Epoch 19/90  Mem : 7.79GB  LR : 1.00E-03  Loss: 0.3996: 100%|██████████| 642/642\n",
      "Val Loss: 0.3325: 100%|██████████| 58/58 [00:03<00:00, 15.05it/s]               \n"
     ]
    },
    {
     "name": "stdout",
     "output_type": "stream",
     "text": [
      "FBeta : 0.5982\tthresh : 0.06\tSAVED MODEL\n",
      "\n"
     ]
    },
    {
     "name": "stderr",
     "output_type": "stream",
     "text": [
      "Epoch 20/90  Mem : 7.79GB  LR : 1.00E-03  Loss: 0.4006: 100%|██████████| 642/642\n",
      "Val Loss: 0.3274: 100%|██████████| 58/58 [00:03<00:00, 15.15it/s]               \n"
     ]
    },
    {
     "name": "stdout",
     "output_type": "stream",
     "text": [
      "FBeta : 0.6005\tthresh : 0.16\tSAVED MODEL\n",
      "\n"
     ]
    },
    {
     "name": "stderr",
     "output_type": "stream",
     "text": [
      "Epoch 21/90  Mem : 7.79GB  LR : 1.00E-03  Loss: 0.3997: 100%|██████████| 642/642\n",
      "Val Loss: 0.3302: 100%|██████████| 58/58 [00:03<00:00, 15.01it/s]               \n"
     ]
    },
    {
     "name": "stdout",
     "output_type": "stream",
     "text": [
      "FBeta : 0.6103\tthresh : 0.96\tSAVED MODEL\n",
      "\n"
     ]
    },
    {
     "name": "stderr",
     "output_type": "stream",
     "text": [
      "Epoch 22/90  Mem : 7.79GB  LR : 1.00E-03  Loss: 0.3954: 100%|██████████| 642/642\n",
      "Val Loss: 0.3405: 100%|██████████| 58/58 [00:03<00:00, 15.14it/s]               \n"
     ]
    },
    {
     "name": "stdout",
     "output_type": "stream",
     "text": [
      "FBeta : 0.5917\tthresh : 0.31\n",
      "\n"
     ]
    },
    {
     "name": "stderr",
     "output_type": "stream",
     "text": [
      "Epoch 23/90  Mem : 7.79GB  LR : 1.00E-03  Loss: 0.3957: 100%|██████████| 642/642\n",
      "Val Loss: 0.3326: 100%|██████████| 58/58 [00:03<00:00, 15.01it/s]               \n"
     ]
    },
    {
     "name": "stdout",
     "output_type": "stream",
     "text": [
      "FBeta : 0.5996\tthresh : 0.71\n",
      "\n"
     ]
    },
    {
     "name": "stderr",
     "output_type": "stream",
     "text": [
      "Epoch 24/90  Mem : 7.79GB  LR : 1.00E-03  Loss: 0.3953: 100%|██████████| 642/642\n",
      "Val Loss: 0.3241: 100%|██████████| 58/58 [00:04<00:00, 14.35it/s]               \n"
     ]
    },
    {
     "name": "stdout",
     "output_type": "stream",
     "text": [
      "FBeta : 0.6083\tthresh : 0.71\n",
      "\n"
     ]
    },
    {
     "name": "stderr",
     "output_type": "stream",
     "text": [
      "Epoch 25/90  Mem : 7.79GB  LR : 1.00E-03  Loss: 0.3937: 100%|██████████| 642/642\n",
      "Val Loss: 0.3393: 100%|██████████| 58/58 [00:03<00:00, 14.60it/s]               \n"
     ]
    },
    {
     "name": "stdout",
     "output_type": "stream",
     "text": [
      "FBeta : 0.5937\tthresh : 0.06\n",
      "\n"
     ]
    },
    {
     "name": "stderr",
     "output_type": "stream",
     "text": [
      "Epoch 26/90  Mem : 7.79GB  LR : 1.00E-03  Loss: 0.3906: 100%|██████████| 642/642\n",
      "Val Loss: 0.3293: 100%|██████████| 58/58 [00:03<00:00, 14.96it/s]               \n"
     ]
    },
    {
     "name": "stdout",
     "output_type": "stream",
     "text": [
      "FBeta : 0.6047\tthresh : 0.91\n",
      "\n"
     ]
    },
    {
     "name": "stderr",
     "output_type": "stream",
     "text": [
      "Epoch 27/90  Mem : 7.79GB  LR : 1.00E-03  Loss: 0.3916: 100%|██████████| 642/642\n",
      "Val Loss: 0.3394: 100%|██████████| 58/58 [00:03<00:00, 15.11it/s]               \n"
     ]
    },
    {
     "name": "stdout",
     "output_type": "stream",
     "text": [
      "FBeta : 0.5947\tthresh : 0.21\n",
      "\n"
     ]
    },
    {
     "name": "stderr",
     "output_type": "stream",
     "text": [
      "Epoch 28/90  Mem : 7.79GB  LR : 1.00E-03  Loss: 0.3892: 100%|██████████| 642/642\n",
      "Val Loss: 0.3298: 100%|██████████| 58/58 [00:03<00:00, 14.78it/s]               \n"
     ]
    },
    {
     "name": "stdout",
     "output_type": "stream",
     "text": [
      "FBeta : 0.5998\tthresh : 0.01\n",
      "\n"
     ]
    },
    {
     "name": "stderr",
     "output_type": "stream",
     "text": [
      "Epoch 29/90  Mem : 7.79GB  LR : 1.00E-03  Loss: 0.3894: 100%|██████████| 642/642\n",
      "Val Loss: 0.3246: 100%|██████████| 58/58 [00:03<00:00, 14.99it/s]               \n"
     ]
    },
    {
     "name": "stdout",
     "output_type": "stream",
     "text": [
      "FBeta : 0.6103\tthresh : 0.06\tSAVED MODEL\n",
      "\n"
     ]
    },
    {
     "name": "stderr",
     "output_type": "stream",
     "text": [
      "Epoch 30/90  Mem : 7.79GB  LR : 1.00E-03  Loss: 0.3891: 100%|██████████| 642/642\n",
      "Val Loss: 0.3478: 100%|██████████| 58/58 [00:03<00:00, 15.12it/s]               \n"
     ]
    },
    {
     "name": "stdout",
     "output_type": "stream",
     "text": [
      "FBeta : 0.5843\tthresh : 0.71\n",
      "\n"
     ]
    },
    {
     "name": "stderr",
     "output_type": "stream",
     "text": [
      "Epoch 31/90  Mem : 7.79GB  LR : 1.00E-03  Loss: 0.3845: 100%|██████████| 642/642\n",
      "Val Loss: 0.3232: 100%|██████████| 58/58 [00:03<00:00, 14.91it/s]               \n"
     ]
    },
    {
     "name": "stdout",
     "output_type": "stream",
     "text": [
      "FBeta : 0.6080\tthresh : 0.06\n",
      "\n"
     ]
    },
    {
     "name": "stderr",
     "output_type": "stream",
     "text": [
      "Epoch 32/90  Mem : 7.79GB  LR : 1.00E-03  Loss: 0.3852: 100%|██████████| 642/642\n",
      "Val Loss: 0.3178: 100%|██████████| 58/58 [00:03<00:00, 14.93it/s]               \n"
     ]
    },
    {
     "name": "stdout",
     "output_type": "stream",
     "text": [
      "FBeta : 0.6183\tthresh : 0.96\tSAVED MODEL\n",
      "\n"
     ]
    },
    {
     "name": "stderr",
     "output_type": "stream",
     "text": [
      "Epoch 33/90  Mem : 7.79GB  LR : 1.00E-03  Loss: 0.3832: 100%|██████████| 642/642\n",
      "Val Loss: 0.3333: 100%|██████████| 58/58 [00:03<00:00, 14.98it/s]               \n"
     ]
    },
    {
     "name": "stdout",
     "output_type": "stream",
     "text": [
      "FBeta : 0.6026\tthresh : 0.51\n",
      "\n"
     ]
    },
    {
     "name": "stderr",
     "output_type": "stream",
     "text": [
      "Epoch 34/90  Mem : 7.79GB  LR : 1.00E-03  Loss: 0.3848: 100%|██████████| 642/642\n",
      "Val Loss: 0.3231: 100%|██████████| 58/58 [00:03<00:00, 14.92it/s]               \n"
     ]
    },
    {
     "name": "stdout",
     "output_type": "stream",
     "text": [
      "FBeta : 0.6108\tthresh : 0.66\n",
      "\n"
     ]
    },
    {
     "name": "stderr",
     "output_type": "stream",
     "text": [
      "Epoch 35/90  Mem : 7.79GB  LR : 1.00E-03  Loss: 0.3823: 100%|██████████| 642/642\n",
      "Val Loss: 0.3330: 100%|██████████| 58/58 [00:03<00:00, 14.70it/s]               \n"
     ]
    },
    {
     "name": "stdout",
     "output_type": "stream",
     "text": [
      "FBeta : 0.6089\tthresh : 0.96\n",
      "\n"
     ]
    },
    {
     "name": "stderr",
     "output_type": "stream",
     "text": [
      "Epoch 36/90  Mem : 7.79GB  LR : 1.00E-03  Loss: 0.3820: 100%|██████████| 642/642\n",
      "Val Loss: 0.3215: 100%|██████████| 58/58 [00:03<00:00, 15.04it/s]               \n"
     ]
    },
    {
     "name": "stdout",
     "output_type": "stream",
     "text": [
      "FBeta : 0.6115\tthresh : 0.01\n",
      "\n"
     ]
    },
    {
     "name": "stderr",
     "output_type": "stream",
     "text": [
      "Epoch 37/90  Mem : 7.79GB  LR : 1.00E-03  Loss: 0.3819: 100%|██████████| 642/642\n",
      "Val Loss: 0.3171: 100%|██████████| 58/58 [00:03<00:00, 15.01it/s]               \n"
     ]
    },
    {
     "name": "stdout",
     "output_type": "stream",
     "text": [
      "FBeta : 0.6141\tthresh : 0.01\n",
      "\n"
     ]
    },
    {
     "name": "stderr",
     "output_type": "stream",
     "text": [
      "Epoch 38/90  Mem : 7.79GB  LR : 1.00E-03  Loss: 0.3806: 100%|██████████| 642/642\n",
      "Val Loss: 0.3225: 100%|██████████| 58/58 [00:03<00:00, 15.07it/s]               \n"
     ]
    },
    {
     "name": "stdout",
     "output_type": "stream",
     "text": [
      "FBeta : 0.6086\tthresh : 0.01\n",
      "\n"
     ]
    },
    {
     "name": "stderr",
     "output_type": "stream",
     "text": [
      "Epoch 39/90  Mem : 7.79GB  LR : 1.00E-03  Loss: 0.3782: 100%|██████████| 642/642\n",
      "Val Loss: 0.3176: 100%|██████████| 58/58 [00:03<00:00, 15.14it/s]               \n"
     ]
    },
    {
     "name": "stdout",
     "output_type": "stream",
     "text": [
      "FBeta : 0.6147\tthresh : 0.01\n",
      "\n"
     ]
    },
    {
     "name": "stderr",
     "output_type": "stream",
     "text": [
      "Epoch 40/90  Mem : 7.79GB  LR : 1.00E-03  Loss: 0.3755: 100%|██████████| 642/642\n",
      "Val Loss: 0.3200: 100%|██████████| 58/58 [00:03<00:00, 14.97it/s]               \n"
     ]
    },
    {
     "name": "stdout",
     "output_type": "stream",
     "text": [
      "FBeta : 0.6139\tthresh : 0.01\n",
      "\n"
     ]
    },
    {
     "name": "stderr",
     "output_type": "stream",
     "text": [
      "Epoch 41/90  Mem : 7.79GB  LR : 1.00E-03  Loss: 0.3762: 100%|██████████| 642/642\n",
      "Val Loss: 0.3227: 100%|██████████| 58/58 [00:03<00:00, 14.99it/s]               \n"
     ]
    },
    {
     "name": "stdout",
     "output_type": "stream",
     "text": [
      "FBeta : 0.6109\tthresh : 0.01\n",
      "\n"
     ]
    },
    {
     "name": "stderr",
     "output_type": "stream",
     "text": [
      "Epoch 42/90  Mem : 7.79GB  LR : 1.00E-03  Loss: 0.3772: 100%|██████████| 642/642\n",
      "Val Loss: 0.3137: 100%|██████████| 58/58 [00:03<00:00, 14.88it/s]               \n"
     ]
    },
    {
     "name": "stdout",
     "output_type": "stream",
     "text": [
      "FBeta : 0.6192\tthresh : 0.01\tSAVED MODEL\n",
      "\n"
     ]
    },
    {
     "name": "stderr",
     "output_type": "stream",
     "text": [
      "Epoch 43/90  Mem : 7.79GB  LR : 1.00E-03  Loss: 0.3749: 100%|██████████| 642/642\n",
      "Val Loss: 0.3139: 100%|██████████| 58/58 [00:03<00:00, 15.05it/s]               \n"
     ]
    },
    {
     "name": "stdout",
     "output_type": "stream",
     "text": [
      "FBeta : 0.6196\tthresh : 0.01\tSAVED MODEL\n",
      "\n"
     ]
    },
    {
     "name": "stderr",
     "output_type": "stream",
     "text": [
      "Epoch 44/90  Mem : 7.79GB  LR : 1.00E-03  Loss: 0.3743: 100%|██████████| 642/642\n",
      "Val Loss: 0.3177: 100%|██████████| 58/58 [00:03<00:00, 14.99it/s]               \n"
     ]
    },
    {
     "name": "stdout",
     "output_type": "stream",
     "text": [
      "FBeta : 0.6201\tthresh : 0.71\tSAVED MODEL\n",
      "\n"
     ]
    },
    {
     "name": "stderr",
     "output_type": "stream",
     "text": [
      "Epoch 45/90  Mem : 7.79GB  LR : 1.00E-03  Loss: 0.3735: 100%|██████████| 642/642\n",
      "Val Loss: 0.3120: 100%|██████████| 58/58 [00:03<00:00, 15.07it/s]               \n"
     ]
    },
    {
     "name": "stdout",
     "output_type": "stream",
     "text": [
      "FBeta : 0.6216\tthresh : 0.01\tSAVED MODEL\n",
      "\n"
     ]
    },
    {
     "name": "stderr",
     "output_type": "stream",
     "text": [
      "Epoch 46/90  Mem : 7.79GB  LR : 1.00E-03  Loss: 0.3724: 100%|██████████| 642/642\n",
      "Val Loss: 0.3118: 100%|██████████| 58/58 [00:03<00:00, 15.04it/s]               \n"
     ]
    },
    {
     "name": "stdout",
     "output_type": "stream",
     "text": [
      "FBeta : 0.6241\tthresh : 0.31\tSAVED MODEL\n",
      "\n"
     ]
    },
    {
     "name": "stderr",
     "output_type": "stream",
     "text": [
      "Epoch 47/90  Mem : 7.79GB  LR : 1.00E-03  Loss: 0.3697: 100%|██████████| 642/642\n",
      "Val Loss: 0.3150: 100%|██████████| 58/58 [00:03<00:00, 14.86it/s]               \n"
     ]
    },
    {
     "name": "stdout",
     "output_type": "stream",
     "text": [
      "FBeta : 0.6241\tthresh : 0.26\tSAVED MODEL\n",
      "\n"
     ]
    },
    {
     "name": "stderr",
     "output_type": "stream",
     "text": [
      "Epoch 48/90  Mem : 7.79GB  LR : 1.00E-03  Loss: 0.3695: 100%|██████████| 642/642\n",
      "Val Loss: 0.3110: 100%|██████████| 58/58 [00:03<00:00, 15.01it/s]               \n"
     ]
    },
    {
     "name": "stdout",
     "output_type": "stream",
     "text": [
      "FBeta : 0.6226\tthresh : 0.01\n",
      "\n"
     ]
    },
    {
     "name": "stderr",
     "output_type": "stream",
     "text": [
      "Epoch 49/90  Mem : 7.79GB  LR : 1.00E-03  Loss: 0.3694: 100%|██████████| 642/642\n",
      "Val Loss: 0.3168: 100%|██████████| 58/58 [00:03<00:00, 14.86it/s]               \n"
     ]
    },
    {
     "name": "stdout",
     "output_type": "stream",
     "text": [
      "FBeta : 0.6154\tthresh : 0.01\n",
      "\n"
     ]
    },
    {
     "name": "stderr",
     "output_type": "stream",
     "text": [
      "Epoch 50/90  Mem : 7.79GB  LR : 1.00E-03  Loss: 0.3682: 100%|██████████| 642/642\n",
      "Val Loss: 0.3080: 100%|██████████| 58/58 [00:03<00:00, 15.04it/s]               \n"
     ]
    },
    {
     "name": "stdout",
     "output_type": "stream",
     "text": [
      "FBeta : 0.6248\tthresh : 0.01\tSAVED MODEL\n",
      "\n"
     ]
    },
    {
     "name": "stderr",
     "output_type": "stream",
     "text": [
      "Epoch 51/90  Mem : 7.79GB  LR : 1.00E-03  Loss: 0.3687: 100%|██████████| 642/642\n",
      "Val Loss: 0.3174: 100%|██████████| 58/58 [00:03<00:00, 14.93it/s]               \n"
     ]
    },
    {
     "name": "stdout",
     "output_type": "stream",
     "text": [
      "FBeta : 0.6233\tthresh : 0.96\n",
      "\n"
     ]
    },
    {
     "name": "stderr",
     "output_type": "stream",
     "text": [
      "Epoch 52/90  Mem : 7.79GB  LR : 1.00E-03  Loss: 0.3643: 100%|██████████| 642/642\n",
      "Val Loss: 0.3110: 100%|██████████| 58/58 [00:03<00:00, 15.08it/s]               \n"
     ]
    },
    {
     "name": "stdout",
     "output_type": "stream",
     "text": [
      "FBeta : 0.6207\tthresh : 0.01\n",
      "\n"
     ]
    },
    {
     "name": "stderr",
     "output_type": "stream",
     "text": [
      "Epoch 53/90  Mem : 7.79GB  LR : 1.00E-03  Loss: 0.3645: 100%|██████████| 642/642\n",
      "Val Loss: 0.3071: 100%|██████████| 58/58 [00:03<00:00, 14.89it/s]               \n"
     ]
    },
    {
     "name": "stdout",
     "output_type": "stream",
     "text": [
      "FBeta : 0.6310\tthresh : 0.11\tSAVED MODEL\n",
      "\n"
     ]
    },
    {
     "name": "stderr",
     "output_type": "stream",
     "text": [
      "Epoch 54/90  Mem : 7.79GB  LR : 1.00E-03  Loss: 0.3654: 100%|██████████| 642/642\n",
      "Val Loss: 0.3153: 100%|██████████| 58/58 [00:03<00:00, 14.98it/s]               \n"
     ]
    },
    {
     "name": "stdout",
     "output_type": "stream",
     "text": [
      "FBeta : 0.6207\tthresh : 0.81\n",
      "\n"
     ]
    },
    {
     "name": "stderr",
     "output_type": "stream",
     "text": [
      "Epoch 55/90  Mem : 7.79GB  LR : 1.00E-03  Loss: 0.3651: 100%|██████████| 642/642\n",
      "Val Loss: 0.3056: 100%|██████████| 58/58 [00:03<00:00, 14.92it/s]               \n"
     ]
    },
    {
     "name": "stdout",
     "output_type": "stream",
     "text": [
      "FBeta : 0.6300\tthresh : 0.01\n",
      "\n"
     ]
    },
    {
     "name": "stderr",
     "output_type": "stream",
     "text": [
      "Epoch 56/90  Mem : 7.79GB  LR : 1.00E-03  Loss: 0.3615: 100%|██████████| 642/642\n",
      "Val Loss: 0.3097: 100%|██████████| 58/58 [00:03<00:00, 14.92it/s]               \n"
     ]
    },
    {
     "name": "stdout",
     "output_type": "stream",
     "text": [
      "FBeta : 0.6300\tthresh : 0.26\n",
      "\n"
     ]
    },
    {
     "name": "stderr",
     "output_type": "stream",
     "text": [
      "Epoch 57/90  Mem : 7.79GB  LR : 1.00E-03  Loss: 0.3609: 100%|██████████| 642/642\n",
      "Val Loss: 0.3003: 100%|██████████| 58/58 [00:03<00:00, 15.08it/s]               \n"
     ]
    },
    {
     "name": "stdout",
     "output_type": "stream",
     "text": [
      "FBeta : 0.6372\tthresh : 0.06\tSAVED MODEL\n",
      "\n"
     ]
    },
    {
     "name": "stderr",
     "output_type": "stream",
     "text": [
      "Epoch 58/90  Mem : 7.79GB  LR : 1.00E-03  Loss: 0.3603: 100%|██████████| 642/642\n",
      "Val Loss: 0.3076: 100%|██████████| 58/58 [00:03<00:00, 14.94it/s]               \n"
     ]
    },
    {
     "name": "stdout",
     "output_type": "stream",
     "text": [
      "FBeta : 0.6283\tthresh : 0.06\n",
      "\n"
     ]
    },
    {
     "name": "stderr",
     "output_type": "stream",
     "text": [
      "Epoch 59/90  Mem : 7.79GB  LR : 1.00E-03  Loss: 0.3580: 100%|██████████| 642/642\n",
      "Val Loss: 0.3048: 100%|██████████| 58/58 [00:03<00:00, 14.92it/s]               \n"
     ]
    },
    {
     "name": "stdout",
     "output_type": "stream",
     "text": [
      "FBeta : 0.6337\tthresh : 0.81\n",
      "\n"
     ]
    },
    {
     "name": "stderr",
     "output_type": "stream",
     "text": [
      "Epoch 60/90  Mem : 7.79GB  LR : 1.00E-03  Loss: 0.3599: 100%|██████████| 642/642\n",
      "Val Loss: 0.3011: 100%|██████████| 58/58 [00:03<00:00, 14.88it/s]               \n"
     ]
    },
    {
     "name": "stdout",
     "output_type": "stream",
     "text": [
      "FBeta : 0.6367\tthresh : 0.06\n",
      "\n"
     ]
    },
    {
     "name": "stderr",
     "output_type": "stream",
     "text": [
      "Epoch 61/90  Mem : 7.79GB  LR : 1.00E-03  Loss: 0.3594: 100%|██████████| 642/642\n",
      "Val Loss: 0.3022: 100%|██████████| 58/58 [00:03<00:00, 14.72it/s]               \n"
     ]
    },
    {
     "name": "stdout",
     "output_type": "stream",
     "text": [
      "FBeta : 0.6349\tthresh : 0.11\n",
      "\n"
     ]
    },
    {
     "name": "stderr",
     "output_type": "stream",
     "text": [
      "Epoch 62/90  Mem : 7.79GB  LR : 1.00E-03  Loss: 0.3568: 100%|██████████| 642/642\n",
      "Val Loss: 0.3069: 100%|██████████| 58/58 [00:03<00:00, 14.98it/s]               \n"
     ]
    },
    {
     "name": "stdout",
     "output_type": "stream",
     "text": [
      "FBeta : 0.6323\tthresh : 0.16\n",
      "\n"
     ]
    },
    {
     "name": "stderr",
     "output_type": "stream",
     "text": [
      "Epoch 63/90  Mem : 7.79GB  LR : 1.00E-03  Loss: 0.3555: 100%|██████████| 642/642\n",
      "Val Loss: 0.3026: 100%|██████████| 58/58 [00:03<00:00, 15.11it/s]               \n"
     ]
    },
    {
     "name": "stdout",
     "output_type": "stream",
     "text": [
      "FBeta : 0.6346\tthresh : 0.01\n",
      "\n"
     ]
    },
    {
     "name": "stderr",
     "output_type": "stream",
     "text": [
      "Epoch 64/90  Mem : 7.79GB  LR : 1.00E-03  Loss: 0.3540: 100%|██████████| 642/642\n",
      "Val Loss: 0.3011: 100%|██████████| 58/58 [00:03<00:00, 15.06it/s]               \n"
     ]
    },
    {
     "name": "stdout",
     "output_type": "stream",
     "text": [
      "FBeta : 0.6366\tthresh : 0.11\n",
      "\n"
     ]
    },
    {
     "name": "stderr",
     "output_type": "stream",
     "text": [
      "Epoch 65/90  Mem : 7.79GB  LR : 1.00E-03  Loss: 0.3537: 100%|██████████| 642/642\n",
      "Val Loss: 0.3038: 100%|██████████| 58/58 [00:03<00:00, 14.50it/s]               \n"
     ]
    },
    {
     "name": "stdout",
     "output_type": "stream",
     "text": [
      "FBeta : 0.6357\tthresh : 0.21\n",
      "\n"
     ]
    },
    {
     "name": "stderr",
     "output_type": "stream",
     "text": [
      "Epoch 66/90  Mem : 7.79GB  LR : 1.00E-03  Loss: 0.3542: 100%|██████████| 642/642\n",
      "Val Loss: 0.3056: 100%|██████████| 58/58 [00:03<00:00, 14.96it/s]               \n"
     ]
    },
    {
     "name": "stdout",
     "output_type": "stream",
     "text": [
      "FBeta : 0.6322\tthresh : 0.26\n",
      "\n"
     ]
    },
    {
     "name": "stderr",
     "output_type": "stream",
     "text": [
      "Epoch 67/90  Mem : 7.79GB  LR : 1.00E-03  Loss: 0.3530: 100%|██████████| 642/642\n",
      "Val Loss: 0.2970: 100%|██████████| 58/58 [00:03<00:00, 15.08it/s]               \n"
     ]
    },
    {
     "name": "stdout",
     "output_type": "stream",
     "text": [
      "FBeta : 0.6394\tthresh : 0.01\tSAVED MODEL\n",
      "\n"
     ]
    },
    {
     "name": "stderr",
     "output_type": "stream",
     "text": [
      "Epoch 68/90  Mem : 7.79GB  LR : 1.00E-03  Loss: 0.3485: 100%|██████████| 642/642\n",
      "Val Loss: 0.3031: 100%|██████████| 58/58 [00:03<00:00, 15.08it/s]               \n"
     ]
    },
    {
     "name": "stdout",
     "output_type": "stream",
     "text": [
      "FBeta : 0.6337\tthresh : 0.01\n",
      "\n"
     ]
    },
    {
     "name": "stderr",
     "output_type": "stream",
     "text": [
      "Epoch 69/90  Mem : 7.79GB  LR : 1.00E-03  Loss: 0.3501: 100%|██████████| 642/642\n",
      "Val Loss: 0.3009: 100%|██████████| 58/58 [00:03<00:00, 14.93it/s]               \n"
     ]
    },
    {
     "name": "stdout",
     "output_type": "stream",
     "text": [
      "FBeta : 0.6361\tthresh : 0.01\n",
      "\n"
     ]
    },
    {
     "name": "stderr",
     "output_type": "stream",
     "text": [
      "Epoch 70/90  Mem : 7.79GB  LR : 1.00E-03  Loss: 0.3504: 100%|██████████| 642/642\n",
      "Val Loss: 0.3001: 100%|██████████| 58/58 [00:03<00:00, 14.98it/s]               \n"
     ]
    },
    {
     "name": "stdout",
     "output_type": "stream",
     "text": [
      "FBeta : 0.6352\tthresh : 0.06\n",
      "\n"
     ]
    },
    {
     "name": "stderr",
     "output_type": "stream",
     "text": [
      "Epoch 71/90  Mem : 7.79GB  LR : 1.00E-03  Loss: 0.3491: 100%|██████████| 642/642\n",
      "Val Loss: 0.2996: 100%|██████████| 58/58 [00:03<00:00, 14.94it/s]               \n"
     ]
    },
    {
     "name": "stdout",
     "output_type": "stream",
     "text": [
      "FBeta : 0.6387\tthresh : 0.06\n",
      "\n"
     ]
    },
    {
     "name": "stderr",
     "output_type": "stream",
     "text": [
      "Epoch 72/90  Mem : 7.79GB  LR : 1.00E-03  Loss: 0.3497: 100%|██████████| 642/642\n",
      "Val Loss: 0.3000: 100%|██████████| 58/58 [00:03<00:00, 15.00it/s]               \n"
     ]
    },
    {
     "name": "stdout",
     "output_type": "stream",
     "text": [
      "FBeta : 0.6388\tthresh : 0.06\n",
      "\n"
     ]
    },
    {
     "name": "stderr",
     "output_type": "stream",
     "text": [
      "Epoch 73/90  Mem : 7.79GB  LR : 1.00E-03  Loss: 0.3477: 100%|██████████| 642/642\n",
      "Val Loss: 0.2994: 100%|██████████| 58/58 [00:03<00:00, 14.97it/s]               \n"
     ]
    },
    {
     "name": "stdout",
     "output_type": "stream",
     "text": [
      "FBeta : 0.6384\tthresh : 0.11\n",
      "\n"
     ]
    },
    {
     "name": "stderr",
     "output_type": "stream",
     "text": [
      "Epoch 74/90  Mem : 7.79GB  LR : 1.00E-03  Loss: 0.3471: 100%|██████████| 642/642\n",
      "Val Loss: 0.2964: 100%|██████████| 58/58 [00:03<00:00, 14.95it/s]               \n"
     ]
    },
    {
     "name": "stdout",
     "output_type": "stream",
     "text": [
      "FBeta : 0.6397\tthresh : 0.01\tSAVED MODEL\n",
      "\n"
     ]
    },
    {
     "name": "stderr",
     "output_type": "stream",
     "text": [
      "Epoch 75/90  Mem : 7.79GB  LR : 1.00E-03  Loss: 0.3476: 100%|██████████| 642/642\n",
      "Val Loss: 0.2971: 100%|██████████| 58/58 [00:03<00:00, 14.58it/s]               \n"
     ]
    },
    {
     "name": "stdout",
     "output_type": "stream",
     "text": [
      "FBeta : 0.6393\tthresh : 0.01\n",
      "\n"
     ]
    },
    {
     "name": "stderr",
     "output_type": "stream",
     "text": [
      "Epoch 76/90  Mem : 7.79GB  LR : 1.00E-03  Loss: 0.3487: 100%|██████████| 642/642\n",
      "Val Loss: 0.2983: 100%|██████████| 58/58 [00:04<00:00, 13.46it/s]               \n"
     ]
    },
    {
     "name": "stdout",
     "output_type": "stream",
     "text": [
      "FBeta : 0.6394\tthresh : 0.06\n",
      "\n"
     ]
    },
    {
     "name": "stderr",
     "output_type": "stream",
     "text": [
      "Epoch 77/90  Mem : 7.79GB  LR : 1.00E-03  Loss: 0.3460: 100%|██████████| 642/642\n",
      "Val Loss: 0.2958: 100%|██████████| 58/58 [00:03<00:00, 15.12it/s]               \n"
     ]
    },
    {
     "name": "stdout",
     "output_type": "stream",
     "text": [
      "FBeta : 0.6419\tthresh : 0.06\tSAVED MODEL\n",
      "\n"
     ]
    },
    {
     "name": "stderr",
     "output_type": "stream",
     "text": [
      "Epoch 78/90  Mem : 7.79GB  LR : 1.00E-03  Loss: 0.3448: 100%|██████████| 642/642\n",
      "Val Loss: 0.2965: 100%|██████████| 58/58 [00:03<00:00, 15.00it/s]               \n"
     ]
    },
    {
     "name": "stdout",
     "output_type": "stream",
     "text": [
      "FBeta : 0.6411\tthresh : 0.06\n",
      "\n"
     ]
    },
    {
     "name": "stderr",
     "output_type": "stream",
     "text": [
      "Epoch 79/90  Mem : 7.79GB  LR : 1.00E-03  Loss: 0.3459: 100%|██████████| 642/642\n",
      "Val Loss: 0.2956: 100%|██████████| 58/58 [00:03<00:00, 14.92it/s]               \n"
     ]
    },
    {
     "name": "stdout",
     "output_type": "stream",
     "text": [
      "FBeta : 0.6402\tthresh : 0.01\n",
      "\n"
     ]
    },
    {
     "name": "stderr",
     "output_type": "stream",
     "text": [
      "Epoch 80/90  Mem : 7.79GB  LR : 1.00E-03  Loss: 0.3446: 100%|██████████| 642/642\n",
      "Val Loss: 0.2952: 100%|██████████| 58/58 [00:03<00:00, 14.89it/s]               \n"
     ]
    },
    {
     "name": "stdout",
     "output_type": "stream",
     "text": [
      "FBeta : 0.6415\tthresh : 0.06\n",
      "\n"
     ]
    },
    {
     "name": "stderr",
     "output_type": "stream",
     "text": [
      "Epoch 81/90  Mem : 7.79GB  LR : 1.00E-03  Loss: 0.3445: 100%|██████████| 642/642\n",
      "Val Loss: 0.2944: 100%|██████████| 58/58 [00:03<00:00, 15.07it/s]               \n"
     ]
    },
    {
     "name": "stdout",
     "output_type": "stream",
     "text": [
      "FBeta : 0.6437\tthresh : 0.11\tSAVED MODEL\n",
      "\n"
     ]
    },
    {
     "name": "stderr",
     "output_type": "stream",
     "text": [
      "Epoch 82/90  Mem : 7.79GB  LR : 1.00E-03  Loss: 0.3445: 100%|██████████| 642/642\n",
      "Val Loss: 0.2944: 100%|██████████| 58/58 [00:03<00:00, 15.03it/s]               \n"
     ]
    },
    {
     "name": "stdout",
     "output_type": "stream",
     "text": [
      "FBeta : 0.6430\tthresh : 0.06\n",
      "\n"
     ]
    },
    {
     "name": "stderr",
     "output_type": "stream",
     "text": [
      "Epoch 83/90  Mem : 7.79GB  LR : 1.00E-03  Loss: 0.3443: 100%|██████████| 642/642\n",
      "Val Loss: 0.2949: 100%|██████████| 58/58 [00:03<00:00, 14.80it/s]               \n"
     ]
    },
    {
     "name": "stdout",
     "output_type": "stream",
     "text": [
      "FBeta : 0.6429\tthresh : 0.11\n",
      "\n"
     ]
    },
    {
     "name": "stderr",
     "output_type": "stream",
     "text": [
      "Epoch 84/90  Mem : 7.79GB  LR : 1.00E-03  Loss: 0.3434: 100%|██████████| 642/642\n",
      "Val Loss: 0.2950: 100%|██████████| 58/58 [00:03<00:00, 14.63it/s]               \n"
     ]
    },
    {
     "name": "stdout",
     "output_type": "stream",
     "text": [
      "FBeta : 0.6424\tthresh : 0.06\n",
      "\n"
     ]
    },
    {
     "name": "stderr",
     "output_type": "stream",
     "text": [
      "Epoch 85/90  Mem : 7.79GB  LR : 1.00E-03  Loss: 0.3445: 100%|██████████| 642/642\n",
      "Val Loss: 0.2953: 100%|██████████| 58/58 [00:03<00:00, 14.94it/s]               \n"
     ]
    },
    {
     "name": "stdout",
     "output_type": "stream",
     "text": [
      "FBeta : 0.6424\tthresh : 0.06\n",
      "\n"
     ]
    },
    {
     "name": "stderr",
     "output_type": "stream",
     "text": [
      "Epoch 86/90  Mem : 7.79GB  LR : 1.00E-03  Loss: 0.3439: 100%|██████████| 642/642\n",
      "Val Loss: 0.2957: 100%|██████████| 58/58 [00:03<00:00, 14.98it/s]               \n"
     ]
    },
    {
     "name": "stdout",
     "output_type": "stream",
     "text": [
      "FBeta : 0.6414\tthresh : 0.06\n",
      "\n"
     ]
    },
    {
     "name": "stderr",
     "output_type": "stream",
     "text": [
      "Epoch 87/90  Mem : 7.79GB  LR : 1.00E-03  Loss: 0.3437: 100%|██████████| 642/642\n",
      "Val Loss: 0.2964: 100%|██████████| 58/58 [00:03<00:00, 14.88it/s]               \n"
     ]
    },
    {
     "name": "stdout",
     "output_type": "stream",
     "text": [
      "FBeta : 0.6410\tthresh : 0.06\n",
      "\n"
     ]
    },
    {
     "name": "stderr",
     "output_type": "stream",
     "text": [
      "Epoch 88/90  Mem : 7.79GB  LR : 1.00E-03  Loss: 0.3444: 100%|██████████| 642/642\n",
      "Val Loss: 0.2950: 100%|██████████| 58/58 [00:03<00:00, 15.03it/s]               \n"
     ]
    },
    {
     "name": "stdout",
     "output_type": "stream",
     "text": [
      "FBeta : 0.6424\tthresh : 0.11\n",
      "\n"
     ]
    },
    {
     "name": "stderr",
     "output_type": "stream",
     "text": [
      "Epoch 89/90  Mem : 7.79GB  LR : 1.00E-03  Loss: 0.3435: 100%|██████████| 642/642\n",
      "Val Loss: 0.2956: 100%|██████████| 58/58 [00:03<00:00, 14.88it/s]               \n"
     ]
    },
    {
     "name": "stdout",
     "output_type": "stream",
     "text": [
      "FBeta : 0.6418\tthresh : 0.06\n",
      "\n"
     ]
    },
    {
     "name": "stderr",
     "output_type": "stream",
     "text": [
      "Epoch 90/90  Mem : 7.79GB  LR : 1.00E-03  Loss: 0.3429: 100%|██████████| 642/642\n",
      "Val Loss: 0.2942: 100%|██████████| 58/58 [00:03<00:00, 14.94it/s]               \n"
     ]
    },
    {
     "name": "stdout",
     "output_type": "stream",
     "text": [
      "FBeta : 0.6431\tthresh : 0.06\n",
      "\n"
     ]
    },
    {
     "name": "stderr",
     "output_type": "stream",
     "text": [
      "Epoch 91/90  Mem : 7.79GB  LR : 1.00E-03  Loss: 0.3426: 100%|██████████| 642/642\n",
      "Val Loss: 0.2952: 100%|██████████| 58/58 [00:03<00:00, 14.83it/s]               \n"
     ]
    },
    {
     "name": "stdout",
     "output_type": "stream",
     "text": [
      "FBeta : 0.6424\tthresh : 0.06\n",
      "\n"
     ]
    },
    {
     "name": "stderr",
     "output_type": "stream",
     "text": [
      "Epoch 92/90  Mem : 7.79GB  LR : 1.00E-03  Loss: 0.3444: 100%|██████████| 642/642\n",
      "Val Loss: 0.2949: 100%|██████████| 58/58 [00:03<00:00, 15.12it/s]               \n"
     ]
    },
    {
     "name": "stdout",
     "output_type": "stream",
     "text": [
      "FBeta : 0.6424\tthresh : 0.06\n",
      "\n"
     ]
    },
    {
     "name": "stderr",
     "output_type": "stream",
     "text": [
      "Epoch 93/90  Mem : 7.79GB  LR : 1.00E-03  Loss: 0.3439: 100%|██████████| 642/642\n",
      "Val Loss: 0.2959: 100%|██████████| 58/58 [00:03<00:00, 14.92it/s]               \n"
     ]
    },
    {
     "name": "stdout",
     "output_type": "stream",
     "text": [
      "FBeta : 0.6420\tthresh : 0.06\n",
      "\n",
      "Early Stopping\n",
      "{\"status\":200,\"message\":\"ok\"}"
     ]
    }
   ],
   "source": [
    "if CFG.debug:\n",
    "    print(\"!!!Debug mode!!!\\n\")\n",
    "\n",
    "dice_score=0\n",
    "for epoch in range(100):\n",
    "    model.train()\n",
    "    \n",
    "    pbar_train = enumerate(dataloader_train)\n",
    "    pbar_train = tqdm(pbar_train, total=len(dataloader_train), bar_format=\"{l_bar}{bar:10}{r_bar}{bar:-0b}\")\n",
    "    loss_train, loss_val= 0.0, 0.0\n",
    "    for i, (images, masks) in pbar_train:\n",
    "        images, masks = images.cuda(), masks.cuda()\n",
    "        optimizer.zero_grad()\n",
    "        with amp.autocast():\n",
    "            preds = model(images)\n",
    "            loss = criterion(preds, masks)\n",
    "            scaler.scale(loss).backward()\n",
    "            scaler.step(optimizer)\n",
    "            scaler.update()\n",
    "            loss_train += loss.detach().item()\n",
    "        \n",
    "        lr = f\"LR : {scheduler.get_last_lr()[0]:.2E}\"\n",
    "        gpu_mem = f\"Mem : {torch.cuda.memory_reserved() / 1E9:.3g}GB\"\n",
    "        pbar_train.set_description((\"%10s  \" * 3 + \"%10s\") % (f\"Epoch {epoch}/{CFG.epochs}\", gpu_mem, lr,\n",
    "                                                                f\"Loss: {loss_train / (i + 1):.4f}\"))\n",
    "\n",
    "    scheduler.step()\n",
    "    model.eval()\n",
    "    \n",
    "    cum_pred = []\n",
    "    cum_true = []\n",
    "    pbar_val = enumerate(dataloader_valid)\n",
    "    pbar_val = tqdm(pbar_val, total=len(dataloader_valid), bar_format=\"{l_bar}{bar:10}{r_bar}{bar:-10b}\")\n",
    "    for i, (images, masks) in pbar_val:\n",
    "        images, masks = images.cuda(), masks.cuda()\n",
    "        with torch.no_grad():\n",
    "            preds = model(images)\n",
    "            loss_val += criterion(preds, masks).item()\n",
    "            preds = torch.sigmoid(preds)\n",
    "            cum_pred.append(preds.cpu().detach().numpy())\n",
    "            cum_true.append(masks.cpu().detach().numpy())\n",
    "\n",
    "        pbar_val.set_description((\"%10s\") % (f\"Val Loss: {loss_val / (i+1):.4f}\"))\n",
    "    \n",
    "    cum_pred = torch.flatten(torch.from_numpy(np.concatenate(cum_pred, axis=0)))\n",
    "    cum_true = torch.flatten(torch.from_numpy(np.concatenate(cum_true, axis=0)))\n",
    "    \n",
    "    dice_score_, thresh = calc_optim_thresh(cum_pred, cum_true, thresholds_to_test)\n",
    "    \n",
    "    if dice_score_ > dice_score:\n",
    "        print(f\"FBeta : {dice_score_:.4f}\\tthresh : {thresh}\\tSAVED MODEL\\n\")\n",
    "        epoch_best=epoch\n",
    "        dice_score =dice_score_\n",
    "        torch.save({'model': model.module.state_dict(), 'dice_score': dice_score, 'thresh': thresh,\n",
    "                    \"model_arch\":CFG.model_arch, \"backbone\":CFG.backbone,\"in_chans\":CFG.in_chans,\"target_size\":CFG.target_size,},\n",
    "                    f'./{CFG.exp_name}/{CFG.exp_name}.pth')\n",
    "    else:\n",
    "        print(f\"FBeta : {dice_score_:.4f}\\tthresh : {thresh}\\n\")\n",
    "    \n",
    "    if epoch-epoch_best>=CFG.epochs_patience:\n",
    "        print('Early Stopping')\n",
    "        break\n",
    "        \n",
    "!curl -X POST -H 'Authorization: Bearer '$LINE -F 'message=セルの実行が終わりました！{dice_score}' https://notify-api.line.me/api/notify\n"
   ]
  },
  {
   "cell_type": "code",
   "execution_count": 9,
   "metadata": {
    "execution": {
     "iopub.execute_input": "2023-06-27T18:54:48.280404Z",
     "iopub.status.busy": "2023-06-27T18:54:48.279531Z",
     "iopub.status.idle": "2023-06-27T18:54:48.884010Z",
     "shell.execute_reply": "2023-06-27T18:54:48.883563Z"
    }
   },
   "outputs": [
    {
     "name": "stdout",
     "output_type": "stream",
     "text": [
      "model_arch:  Unet\n",
      "backbone:  timm-resnest26d\n",
      "0.6437\n"
     ]
    }
   ],
   "source": [
    "pth = torch.load(f'./{CFG.exp_name}/{CFG.exp_name}.pth')\n",
    "\n",
    "model = build_model(pth[\"model_arch\"], pth[\"backbone\"], pth[\"in_chans\"], pth[\"target_size\"], weight=None)\n",
    "model.load_state_dict(pth['model'])\n",
    "thresh = pth['thresh']\n",
    "dice_score = pth['dice_score']\n",
    "print(f\"{dice_score:.4f}\")\n",
    "\n",
    "model.to(device)\n",
    "model.eval();\n"
   ]
  },
  {
   "cell_type": "code",
   "execution_count": 10,
   "metadata": {
    "execution": {
     "iopub.execute_input": "2023-06-27T18:54:48.885735Z",
     "iopub.status.busy": "2023-06-27T18:54:48.885534Z",
     "iopub.status.idle": "2023-06-27T18:54:48.887978Z",
     "shell.execute_reply": "2023-06-27T18:54:48.887581Z"
    }
   },
   "outputs": [],
   "source": [
    "# for i, (images, masks) in enumerate(dataloader_valid):\n",
    "#     if i!=1: continue\n",
    "    \n",
    "#     images, masks = images.cuda(), masks.cuda()\n",
    "#     with torch.no_grad():\n",
    "#         preds = model(images)\n",
    "#         preds = torch.sigmoid(preds)\n",
    "#     images, masks, preds = images.cpu(), masks.cpu(), preds.cpu()\n",
    "    \n",
    "#     for num in range(CFG.valid_batch_size):\n",
    "#         fig, axes = plt.subplots(nrows=1, ncols=4, figsize=(20,5))\n",
    "#         axes = axes.flatten()\n",
    "#         axes[0].imshow(images[num].permute(1,2,0))\n",
    "#         axes[0].axis('off')\n",
    "#         axes[0].set_title('Image')\n",
    "#         axes[1].imshow(masks[num].permute(1,2,0))\n",
    "#         axes[1].axis('off')\n",
    "#         axes[1].set_title('Ground Truth')\n",
    "#         axes[2].imshow(preds[num].permute(1,2,0))\n",
    "#         axes[2].axis('off')\n",
    "#         axes[2].set_title('pred')\n",
    "#         axes[3].imshow((preds[num]>thresh).permute(1,2,0))\n",
    "#         axes[3].axis('off')\n",
    "#         axes[3].set_title('pred_thresh')\n",
    "#     break"
   ]
  },
  {
   "cell_type": "code",
   "execution_count": null,
   "metadata": {},
   "outputs": [],
   "source": []
  },
  {
   "cell_type": "code",
   "execution_count": null,
   "metadata": {},
   "outputs": [],
   "source": []
  },
  {
   "cell_type": "code",
   "execution_count": null,
   "metadata": {},
   "outputs": [],
   "source": []
  }
 ],
 "metadata": {
  "kernelspec": {
   "display_name": "Python 3",
   "language": "python",
   "name": "python3"
  },
  "language_info": {
   "codemirror_mode": {
    "name": "ipython",
    "version": 3
   },
   "file_extension": ".py",
   "mimetype": "text/x-python",
   "name": "python",
   "nbconvert_exporter": "python",
   "pygments_lexer": "ipython3",
   "version": "3.10.11"
  }
 },
 "nbformat": 4,
 "nbformat_minor": 4
}

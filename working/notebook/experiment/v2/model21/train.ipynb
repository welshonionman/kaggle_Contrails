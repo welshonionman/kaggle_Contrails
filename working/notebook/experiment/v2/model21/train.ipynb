{
 "cells": [
  {
   "cell_type": "code",
   "execution_count": 1,
   "metadata": {
    "execution": {
     "iopub.execute_input": "2023-06-29T21:01:33.544963Z",
     "iopub.status.busy": "2023-06-29T21:01:33.544701Z",
     "iopub.status.idle": "2023-06-29T21:01:36.630775Z",
     "shell.execute_reply": "2023-06-29T21:01:36.630234Z"
    }
   },
   "outputs": [],
   "source": [
    "import gc\n",
    "import os\n",
    "import sys\n",
    "import warnings\n",
    "from glob import glob\n",
    "import matplotlib.pyplot as plt\n",
    "\n",
    "import albumentations as A\n",
    "from albumentations.pytorch import ToTensorV2\n",
    "import pandas as pd\n",
    "import cv2\n",
    "import torch\n",
    "import torch.nn as nn\n",
    "import torch.nn.functional as F\n",
    "from torch.utils.data import DataLoader\n",
    "import segmentation_models_pytorch as smp\n",
    "from torch.cuda import amp\n",
    "from tqdm import tqdm"
   ]
  },
  {
   "cell_type": "code",
   "execution_count": 2,
   "metadata": {
    "execution": {
     "iopub.execute_input": "2023-06-29T21:01:36.632719Z",
     "iopub.status.busy": "2023-06-29T21:01:36.632512Z",
     "iopub.status.idle": "2023-06-29T21:01:36.685343Z",
     "shell.execute_reply": "2023-06-29T21:01:36.684764Z"
    }
   },
   "outputs": [],
   "source": [
    "sys.path.append('../')\n",
    "from script.metrics import *\n",
    "from script.dataset import *\n",
    "from script.helper import *\n",
    "from script.scheduler import *\n",
    "from script.loss import *"
   ]
  },
  {
   "attachments": {},
   "cell_type": "markdown",
   "metadata": {},
   "source": [
    "### Config"
   ]
  },
  {
   "cell_type": "code",
   "execution_count": 3,
   "metadata": {
    "execution": {
     "iopub.execute_input": "2023-06-29T21:01:36.687322Z",
     "iopub.status.busy": "2023-06-29T21:01:36.687064Z",
     "iopub.status.idle": "2023-06-29T21:01:36.709579Z",
     "shell.execute_reply": "2023-06-29T21:01:36.709126Z"
    }
   },
   "outputs": [],
   "source": [
    "class CFG:\n",
    "    debug = False\n",
    "    # ============== comp exp name =============\n",
    "    comp_name = 'contrail'\n",
    "    comp_dir_path = '/kaggle/input/'\n",
    "    comp_folder_name = 'google-research-identify-contrails-reduce-global-warming'\n",
    "\n",
    "    dataset_path = \"/kaggle/working/dataset_train/ash_color/\"\n",
    "\n",
    "    exp_name = os.getcwd().split('/')[-1]\n",
    "\n",
    "    # ============== model cfg =============\n",
    "    model_arch = 'Unet'\n",
    "    backbone = 'timm-resnest200e'\n",
    "    in_chans = 3\n",
    "    target_size = 1\n",
    "\n",
    "    # ============== training cfg =============\n",
    "    train_batch_size = 32\n",
    "    valid_batch_size = train_batch_size\n",
    "\n",
    "    epochs = 90\n",
    "    epochs_patience = 12\n",
    "\n",
    "    lr = 1e-4\n",
    "    loss = \"DiceLoss\"\n",
    "    smooth = 300\n",
    "    \n",
    "    # ============== fixed =============\n",
    "    num_workers = 4\n",
    "    seed = 42\n",
    "\n",
    "    # ============== augmentation =============\n",
    "    train_aug_list = [\n",
    "        A.RandomRotate90(),\n",
    "        A.RandomBrightnessContrast(),\n",
    "        A.ShiftScaleRotate(p=0.5,rotate_limit=(10,10)),\n",
    "        A.GridDistortion(num_steps=5, distort_limit=0.3, p=0.5),\n",
    "        A.CoarseDropout(max_holes=10, max_width=int(256 * 0.05), max_height=int(256 * 0.05),\n",
    "                        mask_fill_value=0, p=0.5),\n",
    "        A.RandomGridShuffle(),\n",
    "        ToTensorV2(transpose_mask=True),\n",
    "    ]\n",
    "\n",
    "    valid_aug_list = [\n",
    "        ToTensorV2(transpose_mask=True),\n",
    "    ]\n",
    "\n",
    "\n",
    "warnings.filterwarnings(\"ignore\")\n",
    "torch.backends.cudnn.benchmark = True\n",
    "device = torch.device('cuda' if torch.cuda.is_available() else 'cpu')\n",
    "set_seed(CFG.seed)\n",
    "os.makedirs(f'./{CFG.exp_name}/', exist_ok=True)"
   ]
  },
  {
   "attachments": {},
   "cell_type": "markdown",
   "metadata": {},
   "source": [
    "# Dataset"
   ]
  },
  {
   "cell_type": "code",
   "execution_count": 4,
   "metadata": {
    "execution": {
     "iopub.execute_input": "2023-06-29T21:01:36.711422Z",
     "iopub.status.busy": "2023-06-29T21:01:36.711198Z",
     "iopub.status.idle": "2023-06-29T21:01:36.745147Z",
     "shell.execute_reply": "2023-06-29T21:01:36.744651Z"
    }
   },
   "outputs": [
    {
     "data": {
      "text/plain": [
       "((20529, 2), (1856, 2))"
      ]
     },
     "execution_count": 4,
     "metadata": {},
     "output_type": "execute_result"
    }
   ],
   "source": [
    "train_df = pd.read_csv(f\"{CFG.dataset_path}/train_df.csv\")\n",
    "valid_df = pd.read_csv(f\"{CFG.dataset_path}/validation_df.csv\")\n",
    "\n",
    "if CFG.debug:\n",
    "    train_df=train_df[:2000]\n",
    "    valid_df=valid_df[:2000]\n",
    "train_df.shape, valid_df.shape"
   ]
  },
  {
   "cell_type": "code",
   "execution_count": 5,
   "metadata": {
    "execution": {
     "iopub.execute_input": "2023-06-29T21:01:36.763346Z",
     "iopub.status.busy": "2023-06-29T21:01:36.763046Z",
     "iopub.status.idle": "2023-06-29T21:01:36.838957Z",
     "shell.execute_reply": "2023-06-29T21:01:36.838355Z"
    }
   },
   "outputs": [
    {
     "name": "stdout",
     "output_type": "stream",
     "text": [
      "\n",
      "len(dataset_train) = 20529\n",
      "train_image_shape : torch.Size([3, 256, 256])\n",
      "train_mask_shape  : torch.Size([1, 256, 256])\n",
      "train_image_dtype : torch.float32\n",
      "train_mask_dtype : torch.float32\n",
      "\n",
      "len(dataset_valid) = 1856\n",
      "valid_image_shape : torch.Size([3, 256, 256])\n",
      "valid_mask_shape  : torch.Size([1, 256, 256])\n",
      "valid_image_dtype : torch.float32\n",
      "valid_mask_dtype : torch.float32\n",
      "\n"
     ]
    }
   ],
   "source": [
    "dataset_train = ContrailsDataset(train_df, CFG.train_aug_list)\n",
    "dataset_valid = ContrailsDataset(valid_df, CFG.valid_aug_list)\n",
    "\n",
    "dataloader_train = DataLoader(dataset_train, batch_size=CFG.train_batch_size , shuffle=True, num_workers = CFG.num_workers)\n",
    "dataloader_valid = DataLoader(dataset_valid, batch_size=CFG.valid_batch_size, num_workers = CFG.num_workers)\n",
    "\n",
    "print(f\"\"\"\n",
    "{len(dataset_train) = }\n",
    "train_image_shape : {dataset_train[0][0].shape}\n",
    "train_mask_shape  : {dataset_train[0][1].shape}\n",
    "train_image_dtype : {dataset_train[0][0].dtype}\n",
    "train_mask_dtype : {dataset_train[0][1].dtype}\n",
    "\n",
    "{len(dataset_valid) = }\n",
    "valid_image_shape : {dataset_valid[0][0].shape}\n",
    "valid_mask_shape  : {dataset_valid[0][1].shape}\n",
    "valid_image_dtype : {dataset_valid[0][0].dtype}\n",
    "valid_mask_dtype : {dataset_valid[0][1].dtype}\n",
    "\"\"\")\n",
    "\n",
    "# show_dataset(112, dataset_train)"
   ]
  },
  {
   "attachments": {},
   "cell_type": "markdown",
   "metadata": {},
   "source": [
    "# Model"
   ]
  },
  {
   "cell_type": "code",
   "execution_count": 6,
   "metadata": {
    "execution": {
     "iopub.execute_input": "2023-06-29T21:01:36.840623Z",
     "iopub.status.busy": "2023-06-29T21:01:36.840468Z",
     "iopub.status.idle": "2023-06-29T21:01:39.514369Z",
     "shell.execute_reply": "2023-06-29T21:01:39.513794Z"
    }
   },
   "outputs": [
    {
     "name": "stdout",
     "output_type": "stream",
     "text": [
      "model_arch:  Unet\n",
      "backbone:  timm-resnest200e\n"
     ]
    }
   ],
   "source": [
    "class CustomModel(nn.Module):\n",
    "    def __init__(self,model_arch, backbone, in_chans, target_size, weight):\n",
    "        super().__init__()\n",
    "\n",
    "        self.model = smp.create_model(\n",
    "            model_arch,\n",
    "            encoder_name=backbone,\n",
    "            encoder_weights=weight,\n",
    "            in_channels=in_chans,\n",
    "            classes=target_size,\n",
    "            activation=None,\n",
    "        )\n",
    "        \n",
    "    def forward(self, image):\n",
    "        output = self.model(image)\n",
    "        return output\n",
    "\n",
    "\n",
    "def build_model(model_arch, backbone, in_chans, target_size, weight=\"imagenet\"):\n",
    "    print('model_arch: ', model_arch)\n",
    "    print('backbone: ', backbone)\n",
    "    model = CustomModel(model_arch, backbone, in_chans, target_size, weight)\n",
    "    return model\n",
    "\n",
    "\n",
    "num_gpus = torch.cuda.device_count()\n",
    "device_ids = list(range(num_gpus))\n",
    "\n",
    "model = build_model(CFG.model_arch, CFG.backbone, CFG.in_chans, CFG.target_size)\n",
    "model = nn.DataParallel(model, device_ids=device_ids)\n",
    "model.to(device);"
   ]
  },
  {
   "cell_type": "code",
   "execution_count": 7,
   "metadata": {
    "execution": {
     "iopub.execute_input": "2023-06-29T21:01:39.516396Z",
     "iopub.status.busy": "2023-06-29T21:01:39.516152Z",
     "iopub.status.idle": "2023-06-29T21:01:39.521372Z",
     "shell.execute_reply": "2023-06-29T21:01:39.520940Z"
    }
   },
   "outputs": [],
   "source": [
    "scaler = amp.GradScaler()\n",
    "criterion = get_lossfn(CFG, CFG.smooth)\n",
    "optimizer = torch.optim.AdamW(model.parameters(), lr=CFG.lr)\n",
    "scheduler = get_scheduler(CFG, optimizer)\n",
    "\n",
    "thresholds_to_test = [round(x * 0.01, 2) for x in range(1, 101, 2)]"
   ]
  },
  {
   "attachments": {},
   "cell_type": "markdown",
   "metadata": {},
   "source": [
    "# Training"
   ]
  },
  {
   "cell_type": "code",
   "execution_count": 8,
   "metadata": {
    "execution": {
     "iopub.execute_input": "2023-06-29T21:01:39.522985Z",
     "iopub.status.busy": "2023-06-29T21:01:39.522780Z",
     "iopub.status.idle": "2023-06-30T02:55:50.073892Z",
     "shell.execute_reply": "2023-06-30T02:55:50.071001Z"
    }
   },
   "outputs": [
    {
     "name": "stderr",
     "output_type": "stream",
     "text": [
      "Epoch 0/90  Mem : 15GB  LR : 1.00E-04  Loss: 0.8031: 100%|██████████| 642/642 [0\n",
      "Val Loss: 0.5913: 100%|██████████| 58/58 [00:06<00:00,  8.41it/s]               \n"
     ]
    },
    {
     "name": "stdout",
     "output_type": "stream",
     "text": [
      "FBeta : 0.5598\tthresh : 0.35\tSAVED MODEL\n",
      "\n"
     ]
    },
    {
     "name": "stderr",
     "output_type": "stream",
     "text": [
      "Epoch 1/90  Mem : 15GB  LR : 1.00E-03  Loss: 0.5385: 100%|██████████| 642/642 [0\n",
      "Val Loss: 0.5038: 100%|██████████| 58/58 [00:07<00:00,  7.95it/s]               \n"
     ]
    },
    {
     "name": "stdout",
     "output_type": "stream",
     "text": [
      "FBeta : 0.5048\tthresh : 0.03\n",
      "\n"
     ]
    },
    {
     "name": "stderr",
     "output_type": "stream",
     "text": [
      "Epoch 2/90  Mem : 15GB  LR : 1.00E-03  Loss: 0.4894: 100%|██████████| 642/642 [0\n",
      "Val Loss: 0.4987: 100%|██████████| 58/58 [00:07<00:00,  7.87it/s]               \n"
     ]
    },
    {
     "name": "stdout",
     "output_type": "stream",
     "text": [
      "FBeta : 0.5149\tthresh : 0.99\n",
      "\n"
     ]
    },
    {
     "name": "stderr",
     "output_type": "stream",
     "text": [
      "Epoch 3/90  Mem : 15GB  LR : 1.00E-03  Loss: 0.4749: 100%|██████████| 642/642 [0\n",
      "Val Loss: 0.4599: 100%|██████████| 58/58 [00:07<00:00,  7.85it/s]               \n"
     ]
    },
    {
     "name": "stdout",
     "output_type": "stream",
     "text": [
      "FBeta : 0.5459\tthresh : 0.11\n",
      "\n"
     ]
    },
    {
     "name": "stderr",
     "output_type": "stream",
     "text": [
      "Epoch 4/90  Mem : 15GB  LR : 1.00E-03  Loss: 0.4587: 100%|██████████| 642/642 [0\n",
      "Val Loss: 0.4908: 100%|██████████| 58/58 [00:07<00:00,  7.92it/s]               \n"
     ]
    },
    {
     "name": "stdout",
     "output_type": "stream",
     "text": [
      "FBeta : 0.5159\tthresh : 0.95\n",
      "\n"
     ]
    },
    {
     "name": "stderr",
     "output_type": "stream",
     "text": [
      "Epoch 5/90  Mem : 15GB  LR : 1.00E-03  Loss: 0.4566: 100%|██████████| 642/642 [0\n",
      "Val Loss: 0.4592: 100%|██████████| 58/58 [00:07<00:00,  7.94it/s]               \n"
     ]
    },
    {
     "name": "stdout",
     "output_type": "stream",
     "text": [
      "FBeta : 0.5417\tthresh : 0.85\n",
      "\n"
     ]
    },
    {
     "name": "stderr",
     "output_type": "stream",
     "text": [
      "Epoch 6/90  Mem : 15GB  LR : 1.00E-03  Loss: 0.4498: 100%|██████████| 642/642 [0\n",
      "Val Loss: 0.4351: 100%|██████████| 58/58 [00:07<00:00,  7.88it/s]               \n"
     ]
    },
    {
     "name": "stdout",
     "output_type": "stream",
     "text": [
      "FBeta : 0.5702\tthresh : 0.51\tSAVED MODEL\n",
      "\n"
     ]
    },
    {
     "name": "stderr",
     "output_type": "stream",
     "text": [
      "Epoch 7/90  Mem : 15GB  LR : 1.00E-03  Loss: 0.4505: 100%|██████████| 642/642 [0\n",
      "Val Loss: 0.4402: 100%|██████████| 58/58 [00:07<00:00,  7.87it/s]               \n"
     ]
    },
    {
     "name": "stdout",
     "output_type": "stream",
     "text": [
      "FBeta : 0.5709\tthresh : 0.01\tSAVED MODEL\n",
      "\n"
     ]
    },
    {
     "name": "stderr",
     "output_type": "stream",
     "text": [
      "Epoch 8/90  Mem : 15GB  LR : 1.00E-03  Loss: 0.4425: 100%|██████████| 642/642 [0\n",
      "Val Loss: 0.4211: 100%|██████████| 58/58 [00:07<00:00,  7.93it/s]               \n"
     ]
    },
    {
     "name": "stdout",
     "output_type": "stream",
     "text": [
      "FBeta : 0.5871\tthresh : 0.81\tSAVED MODEL\n",
      "\n"
     ]
    },
    {
     "name": "stderr",
     "output_type": "stream",
     "text": [
      "Epoch 9/90  Mem : 15GB  LR : 1.00E-03  Loss: 0.4417: 100%|██████████| 642/642 [0\n",
      "Val Loss: 0.4336: 100%|██████████| 58/58 [00:07<00:00,  7.94it/s]               \n"
     ]
    },
    {
     "name": "stdout",
     "output_type": "stream",
     "text": [
      "FBeta : 0.5715\tthresh : 0.95\n",
      "\n"
     ]
    },
    {
     "name": "stderr",
     "output_type": "stream",
     "text": [
      "Epoch 10/90  Mem : 15GB  LR : 1.00E-03  Loss: 0.4389: 100%|██████████| 642/642 [\n",
      "Val Loss: 0.4147: 100%|██████████| 58/58 [00:07<00:00,  7.89it/s]               \n"
     ]
    },
    {
     "name": "stdout",
     "output_type": "stream",
     "text": [
      "FBeta : 0.5878\tthresh : 0.09\tSAVED MODEL\n",
      "\n"
     ]
    },
    {
     "name": "stderr",
     "output_type": "stream",
     "text": [
      "Epoch 11/90  Mem : 15GB  LR : 1.00E-03  Loss: 0.4334: 100%|██████████| 642/642 [\n",
      "Val Loss: 0.4130: 100%|██████████| 58/58 [00:07<00:00,  7.85it/s]               \n"
     ]
    },
    {
     "name": "stdout",
     "output_type": "stream",
     "text": [
      "FBeta : 0.5913\tthresh : 0.09\tSAVED MODEL\n",
      "\n"
     ]
    },
    {
     "name": "stderr",
     "output_type": "stream",
     "text": [
      "Epoch 12/90  Mem : 15GB  LR : 1.00E-03  Loss: 0.4322: 100%|██████████| 642/642 [\n",
      "Val Loss: 0.4088: 100%|██████████| 58/58 [00:07<00:00,  7.91it/s]               \n"
     ]
    },
    {
     "name": "stdout",
     "output_type": "stream",
     "text": [
      "FBeta : 0.5966\tthresh : 0.01\tSAVED MODEL\n",
      "\n"
     ]
    },
    {
     "name": "stderr",
     "output_type": "stream",
     "text": [
      "Epoch 13/90  Mem : 15GB  LR : 1.00E-03  Loss: 0.4315: 100%|██████████| 642/642 [\n",
      "Val Loss: 0.4326: 100%|██████████| 58/58 [00:07<00:00,  7.94it/s]               \n"
     ]
    },
    {
     "name": "stdout",
     "output_type": "stream",
     "text": [
      "FBeta : 0.5756\tthresh : 0.97\n",
      "\n"
     ]
    },
    {
     "name": "stderr",
     "output_type": "stream",
     "text": [
      "Epoch 14/90  Mem : 15GB  LR : 1.00E-03  Loss: 0.4316: 100%|██████████| 642/642 [\n",
      "Val Loss: 0.4242: 100%|██████████| 58/58 [00:07<00:00,  7.90it/s]               \n"
     ]
    },
    {
     "name": "stdout",
     "output_type": "stream",
     "text": [
      "FBeta : 0.5807\tthresh : 0.07\n",
      "\n"
     ]
    },
    {
     "name": "stderr",
     "output_type": "stream",
     "text": [
      "Epoch 15/90  Mem : 15GB  LR : 1.00E-03  Loss: 0.4279: 100%|██████████| 642/642 [\n",
      "Val Loss: 0.4222: 100%|██████████| 58/58 [00:07<00:00,  7.90it/s]               \n"
     ]
    },
    {
     "name": "stdout",
     "output_type": "stream",
     "text": [
      "FBeta : 0.5863\tthresh : 0.67\n",
      "\n"
     ]
    },
    {
     "name": "stderr",
     "output_type": "stream",
     "text": [
      "Epoch 16/90  Mem : 15GB  LR : 1.00E-03  Loss: 0.4252: 100%|██████████| 642/642 [\n",
      "Val Loss: 0.4092: 100%|██████████| 58/58 [00:07<00:00,  7.92it/s]               \n"
     ]
    },
    {
     "name": "stdout",
     "output_type": "stream",
     "text": [
      "FBeta : 0.5966\tthresh : 0.99\n",
      "\n"
     ]
    },
    {
     "name": "stderr",
     "output_type": "stream",
     "text": [
      "Epoch 17/90  Mem : 15GB  LR : 1.00E-03  Loss: 0.4253: 100%|██████████| 642/642 [\n",
      "Val Loss: 0.3988: 100%|██████████| 58/58 [00:07<00:00,  7.94it/s]               \n"
     ]
    },
    {
     "name": "stdout",
     "output_type": "stream",
     "text": [
      "FBeta : 0.6048\tthresh : 0.17\tSAVED MODEL\n",
      "\n"
     ]
    },
    {
     "name": "stderr",
     "output_type": "stream",
     "text": [
      "Epoch 18/90  Mem : 15GB  LR : 1.00E-03  Loss: 0.4241: 100%|██████████| 642/642 [\n",
      "Val Loss: 0.4009: 100%|██████████| 58/58 [00:07<00:00,  7.92it/s]               \n"
     ]
    },
    {
     "name": "stdout",
     "output_type": "stream",
     "text": [
      "FBeta : 0.6016\tthresh : 0.81\n",
      "\n"
     ]
    },
    {
     "name": "stderr",
     "output_type": "stream",
     "text": [
      "Epoch 19/90  Mem : 15GB  LR : 1.00E-03  Loss: 0.4204: 100%|██████████| 642/642 [\n",
      "Val Loss: 0.4167: 100%|██████████| 58/58 [00:07<00:00,  7.88it/s]               \n"
     ]
    },
    {
     "name": "stdout",
     "output_type": "stream",
     "text": [
      "FBeta : 0.5922\tthresh : 0.01\n",
      "\n"
     ]
    },
    {
     "name": "stderr",
     "output_type": "stream",
     "text": [
      "Epoch 20/90  Mem : 15GB  LR : 1.00E-03  Loss: 0.4200: 100%|██████████| 642/642 [\n",
      "Val Loss: 0.4029: 100%|██████████| 58/58 [00:07<00:00,  7.75it/s]               \n"
     ]
    },
    {
     "name": "stdout",
     "output_type": "stream",
     "text": [
      "FBeta : 0.6023\tthresh : 0.87\n",
      "\n"
     ]
    },
    {
     "name": "stderr",
     "output_type": "stream",
     "text": [
      "Epoch 21/90  Mem : 15GB  LR : 1.00E-03  Loss: 0.4174: 100%|██████████| 642/642 [\n",
      "Val Loss: 0.4234: 100%|██████████| 58/58 [00:07<00:00,  7.96it/s]               \n"
     ]
    },
    {
     "name": "stdout",
     "output_type": "stream",
     "text": [
      "FBeta : 0.5879\tthresh : 0.99\n",
      "\n"
     ]
    },
    {
     "name": "stderr",
     "output_type": "stream",
     "text": [
      "Epoch 22/90  Mem : 15GB  LR : 1.00E-03  Loss: 0.4186: 100%|██████████| 642/642 [\n",
      "Val Loss: 0.4240: 100%|██████████| 58/58 [00:07<00:00,  7.92it/s]               \n"
     ]
    },
    {
     "name": "stdout",
     "output_type": "stream",
     "text": [
      "FBeta : 0.5883\tthresh : 0.01\n",
      "\n"
     ]
    },
    {
     "name": "stderr",
     "output_type": "stream",
     "text": [
      "Epoch 23/90  Mem : 15GB  LR : 1.00E-03  Loss: 0.4147: 100%|██████████| 642/642 [\n",
      "Val Loss: 0.3893: 100%|██████████| 58/58 [00:07<00:00,  7.92it/s]               \n"
     ]
    },
    {
     "name": "stdout",
     "output_type": "stream",
     "text": [
      "FBeta : 0.6178\tthresh : 0.01\tSAVED MODEL\n",
      "\n"
     ]
    },
    {
     "name": "stderr",
     "output_type": "stream",
     "text": [
      "Epoch 24/90  Mem : 15GB  LR : 1.00E-03  Loss: 0.4126: 100%|██████████| 642/642 [\n",
      "Val Loss: 0.4100: 100%|██████████| 58/58 [00:07<00:00,  7.91it/s]               \n"
     ]
    },
    {
     "name": "stdout",
     "output_type": "stream",
     "text": [
      "FBeta : 0.5988\tthresh : 0.99\n",
      "\n"
     ]
    },
    {
     "name": "stderr",
     "output_type": "stream",
     "text": [
      "Epoch 25/90  Mem : 15GB  LR : 1.00E-03  Loss: 0.4103: 100%|██████████| 642/642 [\n",
      "Val Loss: 0.3998: 100%|██████████| 58/58 [00:07<00:00,  7.95it/s]               \n"
     ]
    },
    {
     "name": "stdout",
     "output_type": "stream",
     "text": [
      "FBeta : 0.6088\tthresh : 0.13\n",
      "\n"
     ]
    },
    {
     "name": "stderr",
     "output_type": "stream",
     "text": [
      "Epoch 26/90  Mem : 15GB  LR : 1.00E-03  Loss: 0.4094: 100%|██████████| 642/642 [\n",
      "Val Loss: 0.3994: 100%|██████████| 58/58 [00:07<00:00,  7.94it/s]               \n"
     ]
    },
    {
     "name": "stdout",
     "output_type": "stream",
     "text": [
      "FBeta : 0.6044\tthresh : 0.01\n",
      "\n"
     ]
    },
    {
     "name": "stderr",
     "output_type": "stream",
     "text": [
      "Epoch 27/90  Mem : 15GB  LR : 1.00E-03  Loss: 0.4101: 100%|██████████| 642/642 [\n",
      "Val Loss: 0.3855: 100%|██████████| 58/58 [00:07<00:00,  7.93it/s]               \n"
     ]
    },
    {
     "name": "stdout",
     "output_type": "stream",
     "text": [
      "FBeta : 0.6154\tthresh : 0.15\n",
      "\n"
     ]
    },
    {
     "name": "stderr",
     "output_type": "stream",
     "text": [
      "Epoch 28/90  Mem : 15GB  LR : 1.00E-03  Loss: 0.4078: 100%|██████████| 642/642 [\n",
      "Val Loss: 0.3741: 100%|██████████| 58/58 [00:07<00:00,  7.94it/s]               \n"
     ]
    },
    {
     "name": "stdout",
     "output_type": "stream",
     "text": [
      "FBeta : 0.6278\tthresh : 0.95\tSAVED MODEL\n",
      "\n"
     ]
    },
    {
     "name": "stderr",
     "output_type": "stream",
     "text": [
      "Epoch 29/90  Mem : 15GB  LR : 1.00E-03  Loss: 0.4072: 100%|██████████| 642/642 [\n",
      "Val Loss: 0.3952: 100%|██████████| 58/58 [00:07<00:00,  7.95it/s]               \n"
     ]
    },
    {
     "name": "stdout",
     "output_type": "stream",
     "text": [
      "FBeta : 0.6129\tthresh : 0.81\n",
      "\n"
     ]
    },
    {
     "name": "stderr",
     "output_type": "stream",
     "text": [
      "Epoch 30/90  Mem : 15GB  LR : 1.00E-03  Loss: 0.4064: 100%|██████████| 642/642 [\n",
      "Val Loss: 0.3890: 100%|██████████| 58/58 [00:07<00:00,  7.83it/s]               \n"
     ]
    },
    {
     "name": "stdout",
     "output_type": "stream",
     "text": [
      "FBeta : 0.6167\tthresh : 0.93\n",
      "\n"
     ]
    },
    {
     "name": "stderr",
     "output_type": "stream",
     "text": [
      "Epoch 31/90  Mem : 15GB  LR : 1.00E-03  Loss: 0.4064: 100%|██████████| 642/642 [\n",
      "Val Loss: 0.3831: 100%|██████████| 58/58 [00:07<00:00,  7.97it/s]               \n"
     ]
    },
    {
     "name": "stdout",
     "output_type": "stream",
     "text": [
      "FBeta : 0.6201\tthresh : 0.95\n",
      "\n"
     ]
    },
    {
     "name": "stderr",
     "output_type": "stream",
     "text": [
      "Epoch 32/90  Mem : 15GB  LR : 1.00E-03  Loss: 0.4030: 100%|██████████| 642/642 [\n",
      "Val Loss: 0.3844: 100%|██████████| 58/58 [00:07<00:00,  8.02it/s]               \n"
     ]
    },
    {
     "name": "stdout",
     "output_type": "stream",
     "text": [
      "FBeta : 0.6203\tthresh : 0.05\n",
      "\n"
     ]
    },
    {
     "name": "stderr",
     "output_type": "stream",
     "text": [
      "Epoch 33/90  Mem : 15GB  LR : 1.00E-03  Loss: 0.4037: 100%|██████████| 642/642 [\n",
      "Val Loss: 0.3944: 100%|██████████| 58/58 [00:07<00:00,  7.97it/s]               \n"
     ]
    },
    {
     "name": "stdout",
     "output_type": "stream",
     "text": [
      "FBeta : 0.6117\tthresh : 0.01\n",
      "\n"
     ]
    },
    {
     "name": "stderr",
     "output_type": "stream",
     "text": [
      "Epoch 34/90  Mem : 15GB  LR : 1.00E-03  Loss: 0.3989: 100%|██████████| 642/642 [\n",
      "Val Loss: 0.3779: 100%|██████████| 58/58 [00:07<00:00,  7.98it/s]               \n"
     ]
    },
    {
     "name": "stdout",
     "output_type": "stream",
     "text": [
      "FBeta : 0.6226\tthresh : 0.79\n",
      "\n"
     ]
    },
    {
     "name": "stderr",
     "output_type": "stream",
     "text": [
      "Epoch 35/90  Mem : 15GB  LR : 1.00E-03  Loss: 0.3993: 100%|██████████| 642/642 [\n",
      "Val Loss: 0.3787: 100%|██████████| 58/58 [00:07<00:00,  7.96it/s]               \n"
     ]
    },
    {
     "name": "stdout",
     "output_type": "stream",
     "text": [
      "FBeta : 0.6254\tthresh : 0.99\n",
      "\n"
     ]
    },
    {
     "name": "stderr",
     "output_type": "stream",
     "text": [
      "Epoch 36/90  Mem : 15GB  LR : 1.00E-03  Loss: 0.3980: 100%|██████████| 642/642 [\n",
      "Val Loss: 0.3878: 100%|██████████| 58/58 [00:07<00:00,  7.95it/s]               \n"
     ]
    },
    {
     "name": "stdout",
     "output_type": "stream",
     "text": [
      "FBeta : 0.6172\tthresh : 0.99\n",
      "\n"
     ]
    },
    {
     "name": "stderr",
     "output_type": "stream",
     "text": [
      "Epoch 37/90  Mem : 15GB  LR : 1.00E-03  Loss: 0.3960: 100%|██████████| 642/642 [\n",
      "Val Loss: 0.3822: 100%|██████████| 58/58 [00:07<00:00,  7.98it/s]               \n"
     ]
    },
    {
     "name": "stdout",
     "output_type": "stream",
     "text": [
      "FBeta : 0.6213\tthresh : 0.93\n",
      "\n"
     ]
    },
    {
     "name": "stderr",
     "output_type": "stream",
     "text": [
      "Epoch 38/90  Mem : 15GB  LR : 1.00E-03  Loss: 0.3945: 100%|██████████| 642/642 [\n",
      "Val Loss: 0.3769: 100%|██████████| 58/58 [00:07<00:00,  7.97it/s]               \n"
     ]
    },
    {
     "name": "stdout",
     "output_type": "stream",
     "text": [
      "FBeta : 0.6252\tthresh : 0.31\n",
      "\n"
     ]
    },
    {
     "name": "stderr",
     "output_type": "stream",
     "text": [
      "Epoch 39/90  Mem : 15GB  LR : 1.00E-03  Loss: 0.3931: 100%|██████████| 642/642 [\n",
      "Val Loss: 0.3968: 100%|██████████| 58/58 [00:07<00:00,  7.96it/s]               \n"
     ]
    },
    {
     "name": "stdout",
     "output_type": "stream",
     "text": [
      "FBeta : 0.6076\tthresh : 0.99\n",
      "\n"
     ]
    },
    {
     "name": "stderr",
     "output_type": "stream",
     "text": [
      "Epoch 40/90  Mem : 15GB  LR : 1.00E-03  Loss: 0.3933: 100%|██████████| 642/642 [\n",
      "Val Loss: 0.3757: 100%|██████████| 58/58 [00:07<00:00,  7.98it/s]               \n"
     ]
    },
    {
     "name": "stdout",
     "output_type": "stream",
     "text": [
      "FBeta : 0.6280\tthresh : 0.01\tSAVED MODEL\n",
      "\n"
     ]
    },
    {
     "name": "stderr",
     "output_type": "stream",
     "text": [
      "Epoch 41/90  Mem : 15GB  LR : 1.00E-03  Loss: 0.3913: 100%|██████████| 642/642 [\n",
      "Val Loss: 0.3742: 100%|██████████| 58/58 [00:07<00:00,  7.97it/s]               \n"
     ]
    },
    {
     "name": "stdout",
     "output_type": "stream",
     "text": [
      "FBeta : 0.6314\tthresh : 0.03\tSAVED MODEL\n",
      "\n"
     ]
    },
    {
     "name": "stderr",
     "output_type": "stream",
     "text": [
      "Epoch 42/90  Mem : 15GB  LR : 1.00E-03  Loss: 0.3899: 100%|██████████| 642/642 [\n",
      "Val Loss: 0.3723: 100%|██████████| 58/58 [00:07<00:00,  7.95it/s]               \n"
     ]
    },
    {
     "name": "stdout",
     "output_type": "stream",
     "text": [
      "FBeta : 0.6328\tthresh : 0.61\tSAVED MODEL\n",
      "\n"
     ]
    },
    {
     "name": "stderr",
     "output_type": "stream",
     "text": [
      "Epoch 43/90  Mem : 15GB  LR : 1.00E-03  Loss: 0.3896: 100%|██████████| 642/642 [\n",
      "Val Loss: 0.4594: 100%|██████████| 58/58 [00:07<00:00,  7.93it/s]               \n"
     ]
    },
    {
     "name": "stdout",
     "output_type": "stream",
     "text": [
      "FBeta : 0.5210\tthresh : 0.99\n",
      "\n"
     ]
    },
    {
     "name": "stderr",
     "output_type": "stream",
     "text": [
      "Epoch 44/90  Mem : 15GB  LR : 1.00E-03  Loss: 0.3878: 100%|██████████| 642/642 [\n",
      "Val Loss: 0.3909: 100%|██████████| 58/58 [00:07<00:00,  8.00it/s]               \n"
     ]
    },
    {
     "name": "stdout",
     "output_type": "stream",
     "text": [
      "FBeta : 0.6125\tthresh : 0.01\n",
      "\n"
     ]
    },
    {
     "name": "stderr",
     "output_type": "stream",
     "text": [
      "Epoch 45/90  Mem : 15GB  LR : 1.00E-03  Loss: 0.3868: 100%|██████████| 642/642 [\n",
      "Val Loss: 0.3759: 100%|██████████| 58/58 [00:07<00:00,  7.96it/s]               \n"
     ]
    },
    {
     "name": "stdout",
     "output_type": "stream",
     "text": [
      "FBeta : 0.6325\tthresh : 0.07\n",
      "\n"
     ]
    },
    {
     "name": "stderr",
     "output_type": "stream",
     "text": [
      "Epoch 46/90  Mem : 15GB  LR : 1.00E-03  Loss: 0.3855: 100%|██████████| 642/642 [\n",
      "Val Loss: 0.4382: 100%|██████████| 58/58 [00:07<00:00,  8.00it/s]               \n"
     ]
    },
    {
     "name": "stdout",
     "output_type": "stream",
     "text": [
      "FBeta : 0.5626\tthresh : 0.99\n",
      "\n"
     ]
    },
    {
     "name": "stderr",
     "output_type": "stream",
     "text": [
      "Epoch 47/90  Mem : 15GB  LR : 1.00E-03  Loss: 0.3840: 100%|██████████| 642/642 [\n",
      "Val Loss: 0.3710: 100%|██████████| 58/58 [00:07<00:00,  7.90it/s]               \n"
     ]
    },
    {
     "name": "stdout",
     "output_type": "stream",
     "text": [
      "FBeta : 0.6330\tthresh : 0.33\tSAVED MODEL\n",
      "\n"
     ]
    },
    {
     "name": "stderr",
     "output_type": "stream",
     "text": [
      "Epoch 48/90  Mem : 15GB  LR : 1.00E-03  Loss: 0.3831: 100%|██████████| 642/642 [\n",
      "Val Loss: 0.3587: 100%|██████████| 58/58 [00:07<00:00,  7.85it/s]               \n"
     ]
    },
    {
     "name": "stdout",
     "output_type": "stream",
     "text": [
      "FBeta : 0.6441\tthresh : 0.21\tSAVED MODEL\n",
      "\n"
     ]
    },
    {
     "name": "stderr",
     "output_type": "stream",
     "text": [
      "Epoch 49/90  Mem : 15GB  LR : 1.00E-03  Loss: 0.3812: 100%|██████████| 642/642 [\n",
      "Val Loss: 0.3569: 100%|██████████| 58/58 [00:07<00:00,  8.00it/s]               \n"
     ]
    },
    {
     "name": "stdout",
     "output_type": "stream",
     "text": [
      "FBeta : 0.6473\tthresh : 0.99\tSAVED MODEL\n",
      "\n"
     ]
    },
    {
     "name": "stderr",
     "output_type": "stream",
     "text": [
      "Epoch 50/90  Mem : 15GB  LR : 1.00E-03  Loss: 0.3815: 100%|██████████| 642/642 [\n",
      "Val Loss: 0.3804: 100%|██████████| 58/58 [00:07<00:00,  7.96it/s]               \n"
     ]
    },
    {
     "name": "stdout",
     "output_type": "stream",
     "text": [
      "FBeta : 0.6249\tthresh : 0.97\n",
      "\n"
     ]
    },
    {
     "name": "stderr",
     "output_type": "stream",
     "text": [
      "Epoch 51/90  Mem : 15GB  LR : 1.00E-03  Loss: 0.3787: 100%|██████████| 642/642 [\n",
      "Val Loss: 0.3545: 100%|██████████| 58/58 [00:07<00:00,  7.98it/s]               \n"
     ]
    },
    {
     "name": "stdout",
     "output_type": "stream",
     "text": [
      "FBeta : 0.6470\tthresh : 0.23\n",
      "\n"
     ]
    },
    {
     "name": "stderr",
     "output_type": "stream",
     "text": [
      "Epoch 52/90  Mem : 15GB  LR : 1.00E-03  Loss: 0.3775: 100%|██████████| 642/642 [\n",
      "Val Loss: 0.3985: 100%|██████████| 58/58 [00:07<00:00,  8.01it/s]               \n"
     ]
    },
    {
     "name": "stdout",
     "output_type": "stream",
     "text": [
      "FBeta : 0.5965\tthresh : 0.93\n",
      "\n"
     ]
    },
    {
     "name": "stderr",
     "output_type": "stream",
     "text": [
      "Epoch 53/90  Mem : 15GB  LR : 1.00E-03  Loss: 0.3779: 100%|██████████| 642/642 [\n",
      "Val Loss: 0.3571: 100%|██████████| 58/58 [00:07<00:00,  7.97it/s]               \n"
     ]
    },
    {
     "name": "stdout",
     "output_type": "stream",
     "text": [
      "FBeta : 0.6450\tthresh : 0.75\n",
      "\n"
     ]
    },
    {
     "name": "stderr",
     "output_type": "stream",
     "text": [
      "Epoch 54/90  Mem : 15GB  LR : 1.00E-03  Loss: 0.3772: 100%|██████████| 642/642 [\n",
      "Val Loss: 0.3757: 100%|██████████| 58/58 [00:07<00:00,  7.97it/s]               \n"
     ]
    },
    {
     "name": "stdout",
     "output_type": "stream",
     "text": [
      "FBeta : 0.6245\tthresh : 0.01\n",
      "\n"
     ]
    },
    {
     "name": "stderr",
     "output_type": "stream",
     "text": [
      "Epoch 55/90  Mem : 15GB  LR : 1.00E-03  Loss: 0.3773: 100%|██████████| 642/642 [\n",
      "Val Loss: 0.3527: 100%|██████████| 58/58 [00:07<00:00,  7.98it/s]               \n"
     ]
    },
    {
     "name": "stdout",
     "output_type": "stream",
     "text": [
      "FBeta : 0.6513\tthresh : 0.27\tSAVED MODEL\n",
      "\n"
     ]
    },
    {
     "name": "stderr",
     "output_type": "stream",
     "text": [
      "Epoch 56/90  Mem : 15GB  LR : 1.00E-03  Loss: 0.3718: 100%|██████████| 642/642 [\n",
      "Val Loss: 0.3526: 100%|██████████| 58/58 [00:07<00:00,  7.98it/s]               \n"
     ]
    },
    {
     "name": "stdout",
     "output_type": "stream",
     "text": [
      "FBeta : 0.6482\tthresh : 0.03\n",
      "\n"
     ]
    },
    {
     "name": "stderr",
     "output_type": "stream",
     "text": [
      "Epoch 57/90  Mem : 15GB  LR : 1.00E-03  Loss: 0.3725: 100%|██████████| 642/642 [\n",
      "Val Loss: 0.3549: 100%|██████████| 58/58 [00:07<00:00,  8.00it/s]               \n"
     ]
    },
    {
     "name": "stdout",
     "output_type": "stream",
     "text": [
      "FBeta : 0.6480\tthresh : 0.81\n",
      "\n"
     ]
    },
    {
     "name": "stderr",
     "output_type": "stream",
     "text": [
      "Epoch 58/90  Mem : 15GB  LR : 1.00E-03  Loss: 0.3739: 100%|██████████| 642/642 [\n",
      "Val Loss: 0.3838: 100%|██████████| 58/58 [00:07<00:00,  7.98it/s]               \n"
     ]
    },
    {
     "name": "stdout",
     "output_type": "stream",
     "text": [
      "FBeta : 0.6115\tthresh : 0.99\n",
      "\n"
     ]
    },
    {
     "name": "stderr",
     "output_type": "stream",
     "text": [
      "Epoch 59/90  Mem : 15GB  LR : 1.00E-03  Loss: 0.3699: 100%|██████████| 642/642 [\n",
      "Val Loss: 0.3609: 100%|██████████| 58/58 [00:07<00:00,  7.96it/s]               \n"
     ]
    },
    {
     "name": "stdout",
     "output_type": "stream",
     "text": [
      "FBeta : 0.6413\tthresh : 0.05\n",
      "\n"
     ]
    },
    {
     "name": "stderr",
     "output_type": "stream",
     "text": [
      "Epoch 60/90  Mem : 15GB  LR : 1.00E-03  Loss: 0.3690: 100%|██████████| 642/642 [\n",
      "Val Loss: 0.3664: 100%|██████████| 58/58 [00:07<00:00,  7.86it/s]               \n"
     ]
    },
    {
     "name": "stdout",
     "output_type": "stream",
     "text": [
      "FBeta : 0.6405\tthresh : 0.31\n",
      "\n"
     ]
    },
    {
     "name": "stderr",
     "output_type": "stream",
     "text": [
      "Epoch 61/90  Mem : 15GB  LR : 1.00E-03  Loss: 0.3683: 100%|██████████| 642/642 [\n",
      "Val Loss: 0.3573: 100%|██████████| 58/58 [00:07<00:00,  7.77it/s]               \n"
     ]
    },
    {
     "name": "stdout",
     "output_type": "stream",
     "text": [
      "FBeta : 0.6424\tthresh : 0.01\n",
      "\n"
     ]
    },
    {
     "name": "stderr",
     "output_type": "stream",
     "text": [
      "Epoch 62/90  Mem : 15GB  LR : 1.00E-03  Loss: 0.3667: 100%|██████████| 642/642 [\n",
      "Val Loss: 0.3571: 100%|██████████| 58/58 [00:07<00:00,  7.80it/s]               \n"
     ]
    },
    {
     "name": "stdout",
     "output_type": "stream",
     "text": [
      "FBeta : 0.6473\tthresh : 0.25\n",
      "\n"
     ]
    },
    {
     "name": "stderr",
     "output_type": "stream",
     "text": [
      "Epoch 63/90  Mem : 15GB  LR : 1.00E-03  Loss: 0.3668: 100%|██████████| 642/642 [\n",
      "Val Loss: 0.3570: 100%|██████████| 58/58 [00:07<00:00,  7.93it/s]               \n"
     ]
    },
    {
     "name": "stdout",
     "output_type": "stream",
     "text": [
      "FBeta : 0.6457\tthresh : 0.21\n",
      "\n"
     ]
    },
    {
     "name": "stderr",
     "output_type": "stream",
     "text": [
      "Epoch 64/90  Mem : 15GB  LR : 1.00E-03  Loss: 0.3659: 100%|██████████| 642/642 [\n",
      "Val Loss: 0.3505: 100%|██████████| 58/58 [00:07<00:00,  7.93it/s]               \n"
     ]
    },
    {
     "name": "stdout",
     "output_type": "stream",
     "text": [
      "FBeta : 0.6525\tthresh : 0.11\tSAVED MODEL\n",
      "\n"
     ]
    },
    {
     "name": "stderr",
     "output_type": "stream",
     "text": [
      "Epoch 65/90  Mem : 15GB  LR : 1.00E-03  Loss: 0.3655: 100%|██████████| 642/642 [\n",
      "Val Loss: 0.3523: 100%|██████████| 58/58 [00:07<00:00,  7.90it/s]               \n"
     ]
    },
    {
     "name": "stdout",
     "output_type": "stream",
     "text": [
      "FBeta : 0.6504\tthresh : 0.45\n",
      "\n"
     ]
    },
    {
     "name": "stderr",
     "output_type": "stream",
     "text": [
      "Epoch 66/90  Mem : 15GB  LR : 1.00E-03  Loss: 0.3644: 100%|██████████| 642/642 [\n",
      "Val Loss: 0.3542: 100%|██████████| 58/58 [00:07<00:00,  8.04it/s]               \n"
     ]
    },
    {
     "name": "stdout",
     "output_type": "stream",
     "text": [
      "FBeta : 0.6499\tthresh : 0.05\n",
      "\n"
     ]
    },
    {
     "name": "stderr",
     "output_type": "stream",
     "text": [
      "Epoch 67/90  Mem : 15GB  LR : 1.00E-03  Loss: 0.3634: 100%|██████████| 642/642 [\n",
      "Val Loss: 0.3547: 100%|██████████| 58/58 [00:07<00:00,  8.08it/s]               \n"
     ]
    },
    {
     "name": "stdout",
     "output_type": "stream",
     "text": [
      "FBeta : 0.6497\tthresh : 0.01\n",
      "\n"
     ]
    },
    {
     "name": "stderr",
     "output_type": "stream",
     "text": [
      "Epoch 68/90  Mem : 15GB  LR : 1.00E-03  Loss: 0.3618: 100%|██████████| 642/642 [\n",
      "Val Loss: 0.3532: 100%|██████████| 58/58 [00:07<00:00,  8.09it/s]               \n"
     ]
    },
    {
     "name": "stdout",
     "output_type": "stream",
     "text": [
      "FBeta : 0.6511\tthresh : 0.31\n",
      "\n"
     ]
    },
    {
     "name": "stderr",
     "output_type": "stream",
     "text": [
      "Epoch 69/90  Mem : 15GB  LR : 1.00E-03  Loss: 0.3631: 100%|██████████| 642/642 [\n",
      "Val Loss: 0.3515: 100%|██████████| 58/58 [00:07<00:00,  7.94it/s]               \n"
     ]
    },
    {
     "name": "stdout",
     "output_type": "stream",
     "text": [
      "FBeta : 0.6519\tthresh : 0.07\n",
      "\n"
     ]
    },
    {
     "name": "stderr",
     "output_type": "stream",
     "text": [
      "Epoch 70/90  Mem : 15GB  LR : 1.00E-03  Loss: 0.3610: 100%|██████████| 642/642 [\n",
      "Val Loss: 0.3500: 100%|██████████| 58/58 [00:07<00:00,  7.96it/s]               \n"
     ]
    },
    {
     "name": "stdout",
     "output_type": "stream",
     "text": [
      "FBeta : 0.6537\tthresh : 0.03\tSAVED MODEL\n",
      "\n"
     ]
    },
    {
     "name": "stderr",
     "output_type": "stream",
     "text": [
      "Epoch 71/90  Mem : 15GB  LR : 1.00E-03  Loss: 0.3612: 100%|██████████| 642/642 [\n",
      "Val Loss: 0.3478: 100%|██████████| 58/58 [00:07<00:00,  7.93it/s]               \n"
     ]
    },
    {
     "name": "stdout",
     "output_type": "stream",
     "text": [
      "FBeta : 0.6556\tthresh : 0.01\tSAVED MODEL\n",
      "\n"
     ]
    },
    {
     "name": "stderr",
     "output_type": "stream",
     "text": [
      "Epoch 72/90  Mem : 15GB  LR : 1.00E-03  Loss: 0.3587: 100%|██████████| 642/642 [\n",
      "Val Loss: 0.3483: 100%|██████████| 58/58 [00:07<00:00,  8.02it/s]               \n"
     ]
    },
    {
     "name": "stdout",
     "output_type": "stream",
     "text": [
      "FBeta : 0.6537\tthresh : 0.01\n",
      "\n"
     ]
    },
    {
     "name": "stderr",
     "output_type": "stream",
     "text": [
      "Epoch 73/90  Mem : 15GB  LR : 1.00E-03  Loss: 0.3589: 100%|██████████| 642/642 [\n",
      "Val Loss: 0.3463: 100%|██████████| 58/58 [00:07<00:00,  8.10it/s]               \n"
     ]
    },
    {
     "name": "stdout",
     "output_type": "stream",
     "text": [
      "FBeta : 0.6554\tthresh : 0.11\n",
      "\n"
     ]
    },
    {
     "name": "stderr",
     "output_type": "stream",
     "text": [
      "Epoch 74/90  Mem : 15GB  LR : 1.00E-03  Loss: 0.3577: 100%|██████████| 642/642 [\n",
      "Val Loss: 0.3462: 100%|██████████| 58/58 [00:07<00:00,  8.05it/s]               \n"
     ]
    },
    {
     "name": "stdout",
     "output_type": "stream",
     "text": [
      "FBeta : 0.6559\tthresh : 0.11\tSAVED MODEL\n",
      "\n"
     ]
    },
    {
     "name": "stderr",
     "output_type": "stream",
     "text": [
      "Epoch 75/90  Mem : 15GB  LR : 1.00E-03  Loss: 0.3558: 100%|██████████| 642/642 [\n",
      "Val Loss: 0.3466: 100%|██████████| 58/58 [00:07<00:00,  8.11it/s]               \n"
     ]
    },
    {
     "name": "stdout",
     "output_type": "stream",
     "text": [
      "FBeta : 0.6561\tthresh : 0.05\tSAVED MODEL\n",
      "\n"
     ]
    },
    {
     "name": "stderr",
     "output_type": "stream",
     "text": [
      "Epoch 76/90  Mem : 15GB  LR : 1.00E-03  Loss: 0.3577: 100%|██████████| 642/642 [\n",
      "Val Loss: 0.3487: 100%|██████████| 58/58 [00:07<00:00,  8.05it/s]               \n"
     ]
    },
    {
     "name": "stdout",
     "output_type": "stream",
     "text": [
      "FBeta : 0.6542\tthresh : 0.13\n",
      "\n"
     ]
    },
    {
     "name": "stderr",
     "output_type": "stream",
     "text": [
      "Epoch 77/90  Mem : 15GB  LR : 1.00E-03  Loss: 0.3563: 100%|██████████| 642/642 [\n",
      "Val Loss: 0.3469: 100%|██████████| 58/58 [00:07<00:00,  8.08it/s]               \n"
     ]
    },
    {
     "name": "stdout",
     "output_type": "stream",
     "text": [
      "FBeta : 0.6549\tthresh : 0.03\n",
      "\n"
     ]
    },
    {
     "name": "stderr",
     "output_type": "stream",
     "text": [
      "Epoch 78/90  Mem : 15GB  LR : 1.00E-03  Loss: 0.3567: 100%|██████████| 642/642 [\n",
      "Val Loss: 0.3459: 100%|██████████| 58/58 [00:07<00:00,  8.06it/s]               \n"
     ]
    },
    {
     "name": "stdout",
     "output_type": "stream",
     "text": [
      "FBeta : 0.6561\tthresh : 0.37\tSAVED MODEL\n",
      "\n"
     ]
    },
    {
     "name": "stderr",
     "output_type": "stream",
     "text": [
      "Epoch 79/90  Mem : 15GB  LR : 1.00E-03  Loss: 0.3576: 100%|██████████| 642/642 [\n",
      "Val Loss: 0.3454: 100%|██████████| 58/58 [00:07<00:00,  8.02it/s]               \n"
     ]
    },
    {
     "name": "stdout",
     "output_type": "stream",
     "text": [
      "FBeta : 0.6582\tthresh : 0.15\tSAVED MODEL\n",
      "\n"
     ]
    },
    {
     "name": "stderr",
     "output_type": "stream",
     "text": [
      "Epoch 80/90  Mem : 15GB  LR : 1.00E-03  Loss: 0.3568: 100%|██████████| 642/642 [\n",
      "Val Loss: 0.3469: 100%|██████████| 58/58 [00:07<00:00,  8.02it/s]               \n"
     ]
    },
    {
     "name": "stdout",
     "output_type": "stream",
     "text": [
      "FBeta : 0.6568\tthresh : 0.03\n",
      "\n"
     ]
    },
    {
     "name": "stderr",
     "output_type": "stream",
     "text": [
      "Epoch 81/90  Mem : 15GB  LR : 1.00E-03  Loss: 0.3548: 100%|██████████| 642/642 [\n",
      "Val Loss: 0.3480: 100%|██████████| 58/58 [00:07<00:00,  8.11it/s]               \n"
     ]
    },
    {
     "name": "stdout",
     "output_type": "stream",
     "text": [
      "FBeta : 0.6560\tthresh : 0.05\n",
      "\n"
     ]
    },
    {
     "name": "stderr",
     "output_type": "stream",
     "text": [
      "Epoch 82/90  Mem : 15GB  LR : 1.00E-03  Loss: 0.3573: 100%|██████████| 642/642 [\n",
      "Val Loss: 0.3455: 100%|██████████| 58/58 [00:07<00:00,  8.11it/s]               \n"
     ]
    },
    {
     "name": "stdout",
     "output_type": "stream",
     "text": [
      "FBeta : 0.6573\tthresh : 0.05\n",
      "\n"
     ]
    },
    {
     "name": "stderr",
     "output_type": "stream",
     "text": [
      "Epoch 83/90  Mem : 15GB  LR : 1.00E-03  Loss: 0.3548: 100%|██████████| 642/642 [\n",
      "Val Loss: 0.3444: 100%|██████████| 58/58 [00:07<00:00,  8.09it/s]               \n"
     ]
    },
    {
     "name": "stdout",
     "output_type": "stream",
     "text": [
      "FBeta : 0.6576\tthresh : 0.03\n",
      "\n"
     ]
    },
    {
     "name": "stderr",
     "output_type": "stream",
     "text": [
      "Epoch 84/90  Mem : 15GB  LR : 1.00E-03  Loss: 0.3544: 100%|██████████| 642/642 [\n",
      "Val Loss: 0.3461: 100%|██████████| 58/58 [00:07<00:00,  8.10it/s]               \n"
     ]
    },
    {
     "name": "stdout",
     "output_type": "stream",
     "text": [
      "FBeta : 0.6584\tthresh : 0.05\tSAVED MODEL\n",
      "\n"
     ]
    },
    {
     "name": "stderr",
     "output_type": "stream",
     "text": [
      "Epoch 85/90  Mem : 15GB  LR : 1.00E-03  Loss: 0.3554: 100%|██████████| 642/642 [\n",
      "Val Loss: 0.3443: 100%|██████████| 58/58 [00:07<00:00,  8.10it/s]               \n"
     ]
    },
    {
     "name": "stdout",
     "output_type": "stream",
     "text": [
      "FBeta : 0.6584\tthresh : 0.05\n",
      "\n"
     ]
    },
    {
     "name": "stderr",
     "output_type": "stream",
     "text": [
      "Epoch 86/90  Mem : 15GB  LR : 1.00E-03  Loss: 0.3561: 100%|██████████| 642/642 [\n",
      "Val Loss: 0.3448: 100%|██████████| 58/58 [00:07<00:00,  8.10it/s]               \n"
     ]
    },
    {
     "name": "stdout",
     "output_type": "stream",
     "text": [
      "FBeta : 0.6592\tthresh : 0.03\tSAVED MODEL\n",
      "\n"
     ]
    },
    {
     "name": "stderr",
     "output_type": "stream",
     "text": [
      "Epoch 87/90  Mem : 15GB  LR : 1.00E-03  Loss: 0.3551: 100%|██████████| 642/642 [\n",
      "Val Loss: 0.3451: 100%|██████████| 58/58 [00:07<00:00,  8.11it/s]               \n"
     ]
    },
    {
     "name": "stdout",
     "output_type": "stream",
     "text": [
      "FBeta : 0.6590\tthresh : 0.05\n",
      "\n"
     ]
    },
    {
     "name": "stderr",
     "output_type": "stream",
     "text": [
      "Epoch 88/90  Mem : 15GB  LR : 1.00E-03  Loss: 0.3546: 100%|██████████| 642/642 [\n",
      "Val Loss: 0.3458: 100%|██████████| 58/58 [00:07<00:00,  8.12it/s]               \n"
     ]
    },
    {
     "name": "stdout",
     "output_type": "stream",
     "text": [
      "FBeta : 0.6579\tthresh : 0.35\n",
      "\n"
     ]
    },
    {
     "name": "stderr",
     "output_type": "stream",
     "text": [
      "Epoch 89/90  Mem : 15GB  LR : 1.00E-03  Loss: 0.3538: 100%|██████████| 642/642 [\n",
      "Val Loss: 0.3463: 100%|██████████| 58/58 [00:07<00:00,  8.03it/s]               \n"
     ]
    },
    {
     "name": "stdout",
     "output_type": "stream",
     "text": [
      "FBeta : 0.6579\tthresh : 0.03\n",
      "\n"
     ]
    },
    {
     "name": "stderr",
     "output_type": "stream",
     "text": [
      "Epoch 90/90  Mem : 15GB  LR : 1.00E-03  Loss: 0.3549: 100%|██████████| 642/642 [\n",
      "Val Loss: 0.3456: 100%|██████████| 58/58 [00:07<00:00,  8.09it/s]               \n"
     ]
    },
    {
     "name": "stdout",
     "output_type": "stream",
     "text": [
      "FBeta : 0.6583\tthresh : 0.05\n",
      "\n"
     ]
    },
    {
     "name": "stderr",
     "output_type": "stream",
     "text": [
      "Epoch 91/90  Mem : 15GB  LR : 1.00E-03  Loss: 0.3530: 100%|██████████| 642/642 [\n",
      "Val Loss: 0.3453: 100%|██████████| 58/58 [00:07<00:00,  8.10it/s]               \n"
     ]
    },
    {
     "name": "stdout",
     "output_type": "stream",
     "text": [
      "FBeta : 0.6584\tthresh : 0.03\n",
      "\n"
     ]
    },
    {
     "name": "stderr",
     "output_type": "stream",
     "text": [
      "Epoch 92/90  Mem : 15GB  LR : 1.00E-03  Loss: 0.3537: 100%|██████████| 642/642 [\n",
      "Val Loss: 0.3454: 100%|██████████| 58/58 [00:07<00:00,  8.05it/s]               \n"
     ]
    },
    {
     "name": "stdout",
     "output_type": "stream",
     "text": [
      "FBeta : 0.6589\tthresh : 0.09\n",
      "\n"
     ]
    },
    {
     "name": "stderr",
     "output_type": "stream",
     "text": [
      "Epoch 93/90  Mem : 15GB  LR : 1.00E-03  Loss: 0.3539: 100%|██████████| 642/642 [\n",
      "Val Loss: 0.3461: 100%|██████████| 58/58 [00:07<00:00,  8.01it/s]               \n"
     ]
    },
    {
     "name": "stdout",
     "output_type": "stream",
     "text": [
      "FBeta : 0.6582\tthresh : 0.03\n",
      "\n"
     ]
    },
    {
     "name": "stderr",
     "output_type": "stream",
     "text": [
      "Epoch 94/90  Mem : 15GB  LR : 1.00E-03  Loss: 0.3528: 100%|██████████| 642/642 [\n",
      "Val Loss: 0.3459: 100%|██████████| 58/58 [00:07<00:00,  8.04it/s]               \n"
     ]
    },
    {
     "name": "stdout",
     "output_type": "stream",
     "text": [
      "FBeta : 0.6581\tthresh : 0.05\n",
      "\n"
     ]
    },
    {
     "name": "stderr",
     "output_type": "stream",
     "text": [
      "Epoch 95/90  Mem : 15GB  LR : 1.00E-03  Loss: 0.3552: 100%|██████████| 642/642 [\n",
      "Val Loss: 0.3455: 100%|██████████| 58/58 [00:07<00:00,  8.05it/s]               \n"
     ]
    },
    {
     "name": "stdout",
     "output_type": "stream",
     "text": [
      "FBeta : 0.6582\tthresh : 0.09\n",
      "\n"
     ]
    },
    {
     "name": "stderr",
     "output_type": "stream",
     "text": [
      "Epoch 96/90  Mem : 15GB  LR : 1.00E-03  Loss: 0.3559: 100%|██████████| 642/642 [\n",
      "Val Loss: 0.3451: 100%|██████████| 58/58 [00:07<00:00,  8.11it/s]               \n"
     ]
    },
    {
     "name": "stdout",
     "output_type": "stream",
     "text": [
      "FBeta : 0.6584\tthresh : 0.09\n",
      "\n"
     ]
    },
    {
     "name": "stderr",
     "output_type": "stream",
     "text": [
      "Epoch 97/90  Mem : 15GB  LR : 1.00E-03  Loss: 0.3545: 100%|██████████| 642/642 [\n",
      "Val Loss: 0.3441: 100%|██████████| 58/58 [00:07<00:00,  8.12it/s]               \n"
     ]
    },
    {
     "name": "stdout",
     "output_type": "stream",
     "text": [
      "FBeta : 0.6590\tthresh : 0.05\n",
      "\n"
     ]
    },
    {
     "name": "stderr",
     "output_type": "stream",
     "text": [
      "Epoch 98/90  Mem : 15GB  LR : 1.00E-03  Loss: 0.3540: 100%|██████████| 642/642 [\n",
      "Val Loss: 0.3476: 100%|██████████| 58/58 [00:07<00:00,  8.10it/s]               \n"
     ]
    },
    {
     "name": "stdout",
     "output_type": "stream",
     "text": [
      "FBeta : 0.6570\tthresh : 0.09\n",
      "\n"
     ]
    },
    {
     "name": "stderr",
     "output_type": "stream",
     "text": [
      "Epoch 99/90  Mem : 15GB  LR : 1.00E-03  Loss: 0.3549: 100%|██████████| 642/642 [\n",
      "Val Loss: 0.3449: 100%|██████████| 58/58 [00:07<00:00,  8.10it/s]               \n"
     ]
    },
    {
     "name": "stdout",
     "output_type": "stream",
     "text": [
      "FBeta : 0.6584\tthresh : 0.03\n",
      "\n",
      "{\"status\":200,\"message\":\"ok\"}"
     ]
    }
   ],
   "source": [
    "if CFG.debug:\n",
    "    print(\"!!!Debug mode!!!\\n\")\n",
    "\n",
    "dice_score=0\n",
    "for epoch in range(100):\n",
    "    model.train()\n",
    "    \n",
    "    pbar_train = enumerate(dataloader_train)\n",
    "    pbar_train = tqdm(pbar_train, total=len(dataloader_train), bar_format=\"{l_bar}{bar:10}{r_bar}{bar:-0b}\")\n",
    "    loss_train, loss_val= 0.0, 0.0\n",
    "    for i, (images, masks) in pbar_train:\n",
    "        images, masks = images.cuda(), masks.cuda()\n",
    "        optimizer.zero_grad()\n",
    "        with amp.autocast():\n",
    "            preds = model(images)\n",
    "            loss = criterion(preds, masks)\n",
    "            scaler.scale(loss).backward()\n",
    "            scaler.step(optimizer)\n",
    "            scaler.update()\n",
    "            loss_train += loss.detach().item()\n",
    "        \n",
    "        lr = f\"LR : {scheduler.get_last_lr()[0]:.2E}\"\n",
    "        gpu_mem = f\"Mem : {torch.cuda.memory_reserved() / 1E9:.3g}GB\"\n",
    "        pbar_train.set_description((\"%10s  \" * 3 + \"%10s\") % (f\"Epoch {epoch}/{CFG.epochs}\", gpu_mem, lr,\n",
    "                                                                f\"Loss: {loss_train / (i + 1):.4f}\"))\n",
    "\n",
    "    scheduler.step()\n",
    "    model.eval()\n",
    "    \n",
    "    cum_pred = []\n",
    "    cum_true = []\n",
    "    pbar_val = enumerate(dataloader_valid)\n",
    "    pbar_val = tqdm(pbar_val, total=len(dataloader_valid), bar_format=\"{l_bar}{bar:10}{r_bar}{bar:-10b}\")\n",
    "    for i, (images, masks) in pbar_val:\n",
    "        images, masks = images.cuda(), masks.cuda()\n",
    "        with torch.no_grad():\n",
    "            preds = model(images)\n",
    "            loss_val += criterion(preds, masks).item()\n",
    "            preds = torch.sigmoid(preds)\n",
    "            cum_pred.append(preds.cpu().detach().numpy())\n",
    "            cum_true.append(masks.cpu().detach().numpy())\n",
    "\n",
    "        pbar_val.set_description((\"%10s\") % (f\"Val Loss: {loss_val / (i+1):.4f}\"))\n",
    "    \n",
    "    cum_pred = torch.flatten(torch.from_numpy(np.concatenate(cum_pred, axis=0)))\n",
    "    cum_true = torch.flatten(torch.from_numpy(np.concatenate(cum_true, axis=0)))\n",
    "    \n",
    "    dice_score_, thresh = calc_optim_thresh(cum_pred, cum_true, thresholds_to_test)\n",
    "    \n",
    "    if dice_score_ > dice_score:\n",
    "        print(f\"FBeta : {dice_score_:.4f}\\tthresh : {thresh}\\tSAVED MODEL\\n\")\n",
    "        epoch_best=epoch\n",
    "        dice_score =dice_score_\n",
    "        torch.save({'model': model.module.state_dict(), 'dice_score': dice_score, 'thresh': thresh,\n",
    "                    \"model_arch\":CFG.model_arch, \"backbone\":CFG.backbone,\"in_chans\":CFG.in_chans,\"target_size\":CFG.target_size,},\n",
    "                    f'./{CFG.exp_name}/{CFG.exp_name}.pth')\n",
    "    else:\n",
    "        print(f\"FBeta : {dice_score_:.4f}\\tthresh : {thresh}\\n\")\n",
    "    \n",
    "!curl -X POST -H 'Authorization: Bearer '$LINE -F 'message=セルの実行が終わりました！{dice_score}' https://notify-api.line.me/api/notify\n"
   ]
  },
  {
   "cell_type": "code",
   "execution_count": 9,
   "metadata": {
    "execution": {
     "iopub.execute_input": "2023-06-30T02:55:50.079565Z",
     "iopub.status.busy": "2023-06-30T02:55:50.079106Z",
     "iopub.status.idle": "2023-06-30T02:55:52.767889Z",
     "shell.execute_reply": "2023-06-30T02:55:52.767304Z"
    }
   },
   "outputs": [
    {
     "name": "stdout",
     "output_type": "stream",
     "text": [
      "model_arch:  Unet\n",
      "backbone:  timm-resnest200e\n",
      "0.6592\n"
     ]
    }
   ],
   "source": [
    "pth = torch.load(f'./{CFG.exp_name}/{CFG.exp_name}.pth')\n",
    "\n",
    "model = build_model(pth[\"model_arch\"], pth[\"backbone\"], pth[\"in_chans\"], pth[\"target_size\"], weight=None)\n",
    "model.load_state_dict(pth['model'])\n",
    "thresh = pth['thresh']\n",
    "dice_score = pth['dice_score']\n",
    "print(f\"{dice_score:.4f}\")\n",
    "\n",
    "model.to(device)\n",
    "model.eval();\n"
   ]
  },
  {
   "cell_type": "code",
   "execution_count": 10,
   "metadata": {
    "execution": {
     "iopub.execute_input": "2023-06-30T02:55:52.770138Z",
     "iopub.status.busy": "2023-06-30T02:55:52.769855Z",
     "iopub.status.idle": "2023-06-30T02:55:52.772552Z",
     "shell.execute_reply": "2023-06-30T02:55:52.772116Z"
    }
   },
   "outputs": [],
   "source": [
    "# for i, (images, masks) in enumerate(dataloader_valid):\n",
    "#     if i!=1: continue\n",
    "    \n",
    "#     images, masks = images.cuda(), masks.cuda()\n",
    "#     with torch.no_grad():\n",
    "#         preds = model(images)\n",
    "#         preds = torch.sigmoid(preds)\n",
    "#     images, masks, preds = images.cpu(), masks.cpu(), preds.cpu()\n",
    "    \n",
    "#     for num in range(CFG.valid_batch_size):\n",
    "#         fig, axes = plt.subplots(nrows=1, ncols=4, figsize=(20,5))\n",
    "#         axes = axes.flatten()\n",
    "#         axes[0].imshow(images[num].permute(1,2,0))\n",
    "#         axes[0].axis('off')\n",
    "#         axes[0].set_title('Image')\n",
    "#         axes[1].imshow(masks[num].permute(1,2,0))\n",
    "#         axes[1].axis('off')\n",
    "#         axes[1].set_title('Ground Truth')\n",
    "#         axes[2].imshow(preds[num].permute(1,2,0))\n",
    "#         axes[2].axis('off')\n",
    "#         axes[2].set_title('pred')\n",
    "#         axes[3].imshow((preds[num]>thresh).permute(1,2,0))\n",
    "#         axes[3].axis('off')\n",
    "#         axes[3].set_title('pred_thresh')\n",
    "#     break"
   ]
  },
  {
   "cell_type": "code",
   "execution_count": null,
   "metadata": {},
   "outputs": [],
   "source": []
  },
  {
   "cell_type": "code",
   "execution_count": null,
   "metadata": {},
   "outputs": [],
   "source": []
  },
  {
   "cell_type": "code",
   "execution_count": null,
   "metadata": {},
   "outputs": [],
   "source": []
  }
 ],
 "metadata": {
  "kernelspec": {
   "display_name": "Python 3",
   "language": "python",
   "name": "python3"
  },
  "language_info": {
   "codemirror_mode": {
    "name": "ipython",
    "version": 3
   },
   "file_extension": ".py",
   "mimetype": "text/x-python",
   "name": "python",
   "nbconvert_exporter": "python",
   "pygments_lexer": "ipython3",
   "version": "3.10.11"
  }
 },
 "nbformat": 4,
 "nbformat_minor": 4
}

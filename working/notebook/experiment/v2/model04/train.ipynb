{
 "cells": [
  {
   "cell_type": "code",
   "execution_count": 1,
   "metadata": {
    "execution": {
     "iopub.execute_input": "2023-06-26T17:07:18.771322Z",
     "iopub.status.busy": "2023-06-26T17:07:18.770871Z",
     "iopub.status.idle": "2023-06-26T17:07:23.326008Z",
     "shell.execute_reply": "2023-06-26T17:07:23.325444Z"
    }
   },
   "outputs": [],
   "source": [
    "import gc\n",
    "import os\n",
    "import sys\n",
    "import warnings\n",
    "from glob import glob\n",
    "import matplotlib.pyplot as plt\n",
    "\n",
    "import albumentations as A\n",
    "from albumentations.pytorch import ToTensorV2\n",
    "import pandas as pd\n",
    "import cv2\n",
    "import torch\n",
    "import torch.nn as nn\n",
    "import torch.nn.functional as F\n",
    "from torch.utils.data import DataLoader\n",
    "import segmentation_models_pytorch as smp\n",
    "from torch.cuda import amp\n",
    "from tqdm import tqdm"
   ]
  },
  {
   "cell_type": "code",
   "execution_count": 2,
   "metadata": {
    "execution": {
     "iopub.execute_input": "2023-06-26T17:07:23.328047Z",
     "iopub.status.busy": "2023-06-26T17:07:23.327833Z",
     "iopub.status.idle": "2023-06-26T17:07:23.392634Z",
     "shell.execute_reply": "2023-06-26T17:07:23.392031Z"
    }
   },
   "outputs": [],
   "source": [
    "sys.path.append('../')\n",
    "from script.metrics import *\n",
    "from script.dataset import *\n",
    "from script.helper import *\n",
    "from script.scheduler import *\n",
    "from script.loss import *"
   ]
  },
  {
   "attachments": {},
   "cell_type": "markdown",
   "metadata": {},
   "source": [
    "### Config"
   ]
  },
  {
   "cell_type": "code",
   "execution_count": 3,
   "metadata": {
    "execution": {
     "iopub.execute_input": "2023-06-26T17:07:23.394897Z",
     "iopub.status.busy": "2023-06-26T17:07:23.394494Z",
     "iopub.status.idle": "2023-06-26T17:07:23.431711Z",
     "shell.execute_reply": "2023-06-26T17:07:23.431238Z"
    }
   },
   "outputs": [],
   "source": [
    "class CFG:\n",
    "    debug = False\n",
    "    # ============== comp exp name =============\n",
    "    comp_name = 'contrail'\n",
    "    comp_dir_path = '/kaggle/input/'\n",
    "    comp_folder_name = 'google-research-identify-contrails-reduce-global-warming'\n",
    "\n",
    "    dataset_path = \"/kaggle/working/dataset_train/ash_color/\"\n",
    "\n",
    "    exp_name = os.getcwd().split('/')[-1]\n",
    "\n",
    "    # ============== model cfg =============\n",
    "    model_arch = 'Unet'\n",
    "    backbone = 'timm-resnest26d'\n",
    "    in_chans = 3\n",
    "    target_size = 1\n",
    "\n",
    "    # ============== training cfg =============\n",
    "    train_batch_size = 32\n",
    "    valid_batch_size = train_batch_size\n",
    "\n",
    "    epochs = 90\n",
    "    epochs_patience = 12\n",
    "\n",
    "    lr = 1e-4\n",
    "    loss = \"DiceLoss\"\n",
    "    smooth=10\n",
    "    \n",
    "    # ============== fixed =============\n",
    "    num_workers = 4\n",
    "    seed = 42\n",
    "\n",
    "    # ============== augmentation =============\n",
    "    train_aug_list = [\n",
    "        A.RandomRotate90(),\n",
    "        A.RandomBrightnessContrast(),\n",
    "        A.ShiftScaleRotate(p=0.5,rotate_limit=(10,10)),\n",
    "        A.GridDistortion(num_steps=5, distort_limit=0.3, p=0.5),\n",
    "        A.CoarseDropout(max_holes=10, max_width=int(256 * 0.05), max_height=int(256 * 0.05),\n",
    "                        mask_fill_value=0, p=0.5),\n",
    "        A.RandomGridShuffle(),\n",
    "        ToTensorV2(transpose_mask=True),\n",
    "    ]\n",
    "\n",
    "    valid_aug_list = [\n",
    "        ToTensorV2(transpose_mask=True),\n",
    "    ]\n",
    "\n",
    "\n",
    "warnings.filterwarnings(\"ignore\")\n",
    "torch.backends.cudnn.benchmark = True\n",
    "device = torch.device('cuda' if torch.cuda.is_available() else 'cpu')\n",
    "set_seed(CFG.seed)\n",
    "os.makedirs(f'./{CFG.exp_name}/', exist_ok=True)"
   ]
  },
  {
   "attachments": {},
   "cell_type": "markdown",
   "metadata": {},
   "source": [
    "# Dataset"
   ]
  },
  {
   "cell_type": "code",
   "execution_count": 4,
   "metadata": {
    "execution": {
     "iopub.execute_input": "2023-06-26T17:07:23.433531Z",
     "iopub.status.busy": "2023-06-26T17:07:23.433319Z",
     "iopub.status.idle": "2023-06-26T17:07:23.473140Z",
     "shell.execute_reply": "2023-06-26T17:07:23.472671Z"
    }
   },
   "outputs": [
    {
     "data": {
      "text/plain": [
       "((20529, 2), (1856, 2))"
      ]
     },
     "execution_count": 4,
     "metadata": {},
     "output_type": "execute_result"
    }
   ],
   "source": [
    "train_df = pd.read_csv(f\"{CFG.dataset_path}/train_df.csv\")\n",
    "valid_df = pd.read_csv(f\"{CFG.dataset_path}/validation_df.csv\")\n",
    "\n",
    "if CFG.debug:\n",
    "    train_df=train_df[:2000]\n",
    "    valid_df=valid_df[:2000]\n",
    "train_df.shape, valid_df.shape"
   ]
  },
  {
   "cell_type": "code",
   "execution_count": 5,
   "metadata": {
    "execution": {
     "iopub.execute_input": "2023-06-26T17:07:23.491237Z",
     "iopub.status.busy": "2023-06-26T17:07:23.490857Z",
     "iopub.status.idle": "2023-06-26T17:07:23.576675Z",
     "shell.execute_reply": "2023-06-26T17:07:23.576147Z"
    }
   },
   "outputs": [
    {
     "name": "stdout",
     "output_type": "stream",
     "text": [
      "\n",
      "len(dataset_train) = 20529\n",
      "train_image_shape : torch.Size([3, 256, 256])\n",
      "train_mask_shape  : torch.Size([1, 256, 256])\n",
      "train_image_dtype : torch.float32\n",
      "train_mask_dtype : torch.float32\n",
      "\n",
      "len(dataset_valid) = 1856\n",
      "valid_image_shape : torch.Size([3, 256, 256])\n",
      "valid_mask_shape  : torch.Size([1, 256, 256])\n",
      "valid_image_dtype : torch.float32\n",
      "valid_mask_dtype : torch.float32\n",
      "\n"
     ]
    }
   ],
   "source": [
    "dataset_train = ContrailsDataset(train_df, CFG.train_aug_list)\n",
    "dataset_valid = ContrailsDataset(valid_df, CFG.valid_aug_list)\n",
    "\n",
    "dataloader_train = DataLoader(dataset_train, batch_size=CFG.train_batch_size , shuffle=True, num_workers = CFG.num_workers)\n",
    "dataloader_valid = DataLoader(dataset_valid, batch_size=CFG.valid_batch_size, num_workers = CFG.num_workers)\n",
    "\n",
    "print(f\"\"\"\n",
    "{len(dataset_train) = }\n",
    "train_image_shape : {dataset_train[0][0].shape}\n",
    "train_mask_shape  : {dataset_train[0][1].shape}\n",
    "train_image_dtype : {dataset_train[0][0].dtype}\n",
    "train_mask_dtype : {dataset_train[0][1].dtype}\n",
    "\n",
    "{len(dataset_valid) = }\n",
    "valid_image_shape : {dataset_valid[0][0].shape}\n",
    "valid_mask_shape  : {dataset_valid[0][1].shape}\n",
    "valid_image_dtype : {dataset_valid[0][0].dtype}\n",
    "valid_mask_dtype : {dataset_valid[0][1].dtype}\n",
    "\"\"\")\n",
    "\n",
    "# show_dataset(112, dataset_train)"
   ]
  },
  {
   "attachments": {},
   "cell_type": "markdown",
   "metadata": {},
   "source": [
    "# Model"
   ]
  },
  {
   "cell_type": "code",
   "execution_count": 6,
   "metadata": {
    "execution": {
     "iopub.execute_input": "2023-06-26T17:07:23.578747Z",
     "iopub.status.busy": "2023-06-26T17:07:23.578400Z",
     "iopub.status.idle": "2023-06-26T17:07:26.975355Z",
     "shell.execute_reply": "2023-06-26T17:07:26.974844Z"
    }
   },
   "outputs": [
    {
     "name": "stdout",
     "output_type": "stream",
     "text": [
      "model_arch:  Unet\n",
      "backbone:  timm-resnest26d\n"
     ]
    }
   ],
   "source": [
    "class CustomModel(nn.Module):\n",
    "    def __init__(self,model_arch, backbone, in_chans, target_size, weight):\n",
    "        super().__init__()\n",
    "\n",
    "        self.model = smp.create_model(\n",
    "            model_arch,\n",
    "            encoder_name=backbone,\n",
    "            encoder_weights=weight,\n",
    "            in_channels=in_chans,\n",
    "            classes=target_size,\n",
    "            activation=None,\n",
    "        )\n",
    "        \n",
    "    def forward(self, image):\n",
    "        output = self.model(image)\n",
    "        return output\n",
    "\n",
    "\n",
    "def build_model(model_arch, backbone, in_chans, target_size, weight=\"imagenet\"):\n",
    "    print('model_arch: ', model_arch)\n",
    "    print('backbone: ', backbone)\n",
    "    model = CustomModel(model_arch, backbone, in_chans, target_size, weight)\n",
    "    return model\n",
    "\n",
    "\n",
    "num_gpus = torch.cuda.device_count()\n",
    "device_ids = list(range(num_gpus))\n",
    "\n",
    "model = build_model(CFG.model_arch, CFG.backbone, CFG.in_chans, CFG.target_size)\n",
    "model = nn.DataParallel(model, device_ids=device_ids)\n",
    "model.to(device);"
   ]
  },
  {
   "cell_type": "code",
   "execution_count": 7,
   "metadata": {
    "execution": {
     "iopub.execute_input": "2023-06-26T17:07:26.977285Z",
     "iopub.status.busy": "2023-06-26T17:07:26.977051Z",
     "iopub.status.idle": "2023-06-26T17:07:26.980388Z",
     "shell.execute_reply": "2023-06-26T17:07:26.979976Z"
    }
   },
   "outputs": [],
   "source": [
    "scaler = amp.GradScaler()\n",
    "criterion = get_lossfn(CFG, CFG.smooth)\n",
    "optimizer = torch.optim.AdamW(model.parameters(), lr=CFG.lr)\n",
    "scheduler = get_scheduler(CFG, optimizer)\n",
    "\n",
    "thresholds_to_test = [round(x * 0.01, 2) for x in range(1, 101, 5)]"
   ]
  },
  {
   "attachments": {},
   "cell_type": "markdown",
   "metadata": {},
   "source": [
    "# Training"
   ]
  },
  {
   "cell_type": "code",
   "execution_count": 8,
   "metadata": {
    "execution": {
     "iopub.execute_input": "2023-06-26T17:07:26.982027Z",
     "iopub.status.busy": "2023-06-26T17:07:26.981796Z",
     "iopub.status.idle": "2023-06-26T19:44:33.790991Z",
     "shell.execute_reply": "2023-06-26T19:44:33.790404Z"
    }
   },
   "outputs": [
    {
     "name": "stderr",
     "output_type": "stream",
     "text": [
      "Epoch 0/90  Mem : 7.79GB  LR : 1.00E-04  Loss: 0.8057: 100%|██████████| 642/642 \n",
      "Val Loss: 0.6471: 100%|██████████| 58/58 [00:03<00:00, 15.09it/s]               \n"
     ]
    },
    {
     "name": "stdout",
     "output_type": "stream",
     "text": [
      "FBeta : 0.5209\tthresh : 0.61\tSAVED MODEL\n",
      "\n"
     ]
    },
    {
     "name": "stderr",
     "output_type": "stream",
     "text": [
      "Epoch 1/90  Mem : 7.79GB  LR : 1.00E-03  Loss: 0.5323: 100%|██████████| 642/642 \n",
      "Val Loss: 0.5947: 100%|██████████| 58/58 [00:03<00:00, 14.54it/s]               \n"
     ]
    },
    {
     "name": "stdout",
     "output_type": "stream",
     "text": [
      "FBeta : 0.4679\tthresh : 0.01\n",
      "\n"
     ]
    },
    {
     "name": "stderr",
     "output_type": "stream",
     "text": [
      "Epoch 2/90  Mem : 7.79GB  LR : 1.00E-03  Loss: 0.4955: 100%|██████████| 642/642 \n",
      "Val Loss: 0.6008: 100%|██████████| 58/58 [00:03<00:00, 15.04it/s]               \n"
     ]
    },
    {
     "name": "stdout",
     "output_type": "stream",
     "text": [
      "FBeta : 0.4503\tthresh : 0.96\n",
      "\n"
     ]
    },
    {
     "name": "stderr",
     "output_type": "stream",
     "text": [
      "Epoch 3/90  Mem : 7.79GB  LR : 1.00E-03  Loss: 0.4814: 100%|██████████| 642/642 \n",
      "Val Loss: 0.5244: 100%|██████████| 58/58 [00:03<00:00, 14.98it/s]               \n"
     ]
    },
    {
     "name": "stdout",
     "output_type": "stream",
     "text": [
      "FBeta : 0.5121\tthresh : 0.41\n",
      "\n"
     ]
    },
    {
     "name": "stderr",
     "output_type": "stream",
     "text": [
      "Epoch 4/90  Mem : 7.79GB  LR : 1.00E-03  Loss: 0.4737: 100%|██████████| 642/642 \n",
      "Val Loss: 0.5122: 100%|██████████| 58/58 [00:03<00:00, 15.18it/s]               \n"
     ]
    },
    {
     "name": "stdout",
     "output_type": "stream",
     "text": [
      "FBeta : 0.5264\tthresh : 0.36\tSAVED MODEL\n",
      "\n"
     ]
    },
    {
     "name": "stderr",
     "output_type": "stream",
     "text": [
      "Epoch 5/90  Mem : 7.79GB  LR : 1.00E-03  Loss: 0.4683: 100%|██████████| 642/642 \n",
      "Val Loss: 0.4682: 100%|██████████| 58/58 [00:03<00:00, 15.11it/s]               \n"
     ]
    },
    {
     "name": "stdout",
     "output_type": "stream",
     "text": [
      "FBeta : 0.5620\tthresh : 0.71\tSAVED MODEL\n",
      "\n"
     ]
    },
    {
     "name": "stderr",
     "output_type": "stream",
     "text": [
      "Epoch 6/90  Mem : 7.79GB  LR : 1.00E-03  Loss: 0.4618: 100%|██████████| 642/642 \n",
      "Val Loss: 0.5052: 100%|██████████| 58/58 [00:03<00:00, 15.24it/s]               \n"
     ]
    },
    {
     "name": "stdout",
     "output_type": "stream",
     "text": [
      "FBeta : 0.5328\tthresh : 0.01\n",
      "\n"
     ]
    },
    {
     "name": "stderr",
     "output_type": "stream",
     "text": [
      "Epoch 7/90  Mem : 7.79GB  LR : 1.00E-03  Loss: 0.4599: 100%|██████████| 642/642 \n",
      "Val Loss: 0.4459: 100%|██████████| 58/58 [00:03<00:00, 15.09it/s]               \n"
     ]
    },
    {
     "name": "stdout",
     "output_type": "stream",
     "text": [
      "FBeta : 0.5836\tthresh : 0.11\tSAVED MODEL\n",
      "\n"
     ]
    },
    {
     "name": "stderr",
     "output_type": "stream",
     "text": [
      "Epoch 8/90  Mem : 7.79GB  LR : 1.00E-03  Loss: 0.4538: 100%|██████████| 642/642 \n",
      "Val Loss: 0.4595: 100%|██████████| 58/58 [00:03<00:00, 15.10it/s]               \n"
     ]
    },
    {
     "name": "stdout",
     "output_type": "stream",
     "text": [
      "FBeta : 0.5696\tthresh : 0.61\n",
      "\n"
     ]
    },
    {
     "name": "stderr",
     "output_type": "stream",
     "text": [
      "Epoch 9/90  Mem : 7.79GB  LR : 1.00E-03  Loss: 0.4550: 100%|██████████| 642/642 \n",
      "Val Loss: 0.4967: 100%|██████████| 58/58 [00:03<00:00, 14.98it/s]               \n"
     ]
    },
    {
     "name": "stdout",
     "output_type": "stream",
     "text": [
      "FBeta : 0.5387\tthresh : 0.01\n",
      "\n"
     ]
    },
    {
     "name": "stderr",
     "output_type": "stream",
     "text": [
      "Epoch 10/90  Mem : 7.79GB  LR : 1.00E-03  Loss: 0.4483: 100%|██████████| 642/642\n",
      "Val Loss: 0.4641: 100%|██████████| 58/58 [00:03<00:00, 15.13it/s]               \n"
     ]
    },
    {
     "name": "stdout",
     "output_type": "stream",
     "text": [
      "FBeta : 0.5670\tthresh : 0.46\n",
      "\n"
     ]
    },
    {
     "name": "stderr",
     "output_type": "stream",
     "text": [
      "Epoch 11/90  Mem : 7.79GB  LR : 1.00E-03  Loss: 0.4480: 100%|██████████| 642/642\n",
      "Val Loss: 0.4497: 100%|██████████| 58/58 [00:03<00:00, 15.18it/s]               \n"
     ]
    },
    {
     "name": "stdout",
     "output_type": "stream",
     "text": [
      "FBeta : 0.5860\tthresh : 0.01\tSAVED MODEL\n",
      "\n"
     ]
    },
    {
     "name": "stderr",
     "output_type": "stream",
     "text": [
      "Epoch 12/90  Mem : 7.79GB  LR : 1.00E-03  Loss: 0.4434: 100%|██████████| 642/642\n",
      "Val Loss: 0.4827: 100%|██████████| 58/58 [00:03<00:00, 15.18it/s]               \n"
     ]
    },
    {
     "name": "stdout",
     "output_type": "stream",
     "text": [
      "FBeta : 0.5456\tthresh : 0.96\n",
      "\n"
     ]
    },
    {
     "name": "stderr",
     "output_type": "stream",
     "text": [
      "Epoch 13/90  Mem : 7.79GB  LR : 1.00E-03  Loss: 0.4408: 100%|██████████| 642/642\n",
      "Val Loss: 0.4533: 100%|██████████| 58/58 [00:03<00:00, 14.77it/s]               \n"
     ]
    },
    {
     "name": "stdout",
     "output_type": "stream",
     "text": [
      "FBeta : 0.5747\tthresh : 0.76\n",
      "\n"
     ]
    },
    {
     "name": "stderr",
     "output_type": "stream",
     "text": [
      "Epoch 14/90  Mem : 7.79GB  LR : 1.00E-03  Loss: 0.4405: 100%|██████████| 642/642\n",
      "Val Loss: 0.4291: 100%|██████████| 58/58 [00:03<00:00, 15.03it/s]               \n"
     ]
    },
    {
     "name": "stdout",
     "output_type": "stream",
     "text": [
      "FBeta : 0.5946\tthresh : 0.11\tSAVED MODEL\n",
      "\n"
     ]
    },
    {
     "name": "stderr",
     "output_type": "stream",
     "text": [
      "Epoch 15/90  Mem : 7.79GB  LR : 1.00E-03  Loss: 0.4369: 100%|██████████| 642/642\n",
      "Val Loss: 0.4435: 100%|██████████| 58/58 [00:03<00:00, 14.97it/s]               \n"
     ]
    },
    {
     "name": "stdout",
     "output_type": "stream",
     "text": [
      "FBeta : 0.5858\tthresh : 0.01\n",
      "\n"
     ]
    },
    {
     "name": "stderr",
     "output_type": "stream",
     "text": [
      "Epoch 16/90  Mem : 7.79GB  LR : 1.00E-03  Loss: 0.4358: 100%|██████████| 642/642\n",
      "Val Loss: 0.4327: 100%|██████████| 58/58 [00:03<00:00, 15.20it/s]               \n"
     ]
    },
    {
     "name": "stdout",
     "output_type": "stream",
     "text": [
      "FBeta : 0.5945\tthresh : 0.41\n",
      "\n"
     ]
    },
    {
     "name": "stderr",
     "output_type": "stream",
     "text": [
      "Epoch 17/90  Mem : 7.79GB  LR : 1.00E-03  Loss: 0.4366: 100%|██████████| 642/642\n",
      "Val Loss: 0.4475: 100%|██████████| 58/58 [00:03<00:00, 15.06it/s]               \n"
     ]
    },
    {
     "name": "stdout",
     "output_type": "stream",
     "text": [
      "FBeta : 0.5889\tthresh : 0.61\n",
      "\n"
     ]
    },
    {
     "name": "stderr",
     "output_type": "stream",
     "text": [
      "Epoch 18/90  Mem : 7.79GB  LR : 1.00E-03  Loss: 0.4357: 100%|██████████| 642/642\n",
      "Val Loss: 0.4453: 100%|██████████| 58/58 [00:03<00:00, 14.94it/s]               \n"
     ]
    },
    {
     "name": "stdout",
     "output_type": "stream",
     "text": [
      "FBeta : 0.5877\tthresh : 0.96\n",
      "\n"
     ]
    },
    {
     "name": "stderr",
     "output_type": "stream",
     "text": [
      "Epoch 19/90  Mem : 7.79GB  LR : 1.00E-03  Loss: 0.4309: 100%|██████████| 642/642\n",
      "Val Loss: 0.4388: 100%|██████████| 58/58 [00:03<00:00, 15.02it/s]               \n"
     ]
    },
    {
     "name": "stdout",
     "output_type": "stream",
     "text": [
      "FBeta : 0.5929\tthresh : 0.06\n",
      "\n"
     ]
    },
    {
     "name": "stderr",
     "output_type": "stream",
     "text": [
      "Epoch 20/90  Mem : 7.79GB  LR : 1.00E-03  Loss: 0.4305: 100%|██████████| 642/642\n",
      "Val Loss: 0.4337: 100%|██████████| 58/58 [00:03<00:00, 14.88it/s]               \n"
     ]
    },
    {
     "name": "stdout",
     "output_type": "stream",
     "text": [
      "FBeta : 0.5957\tthresh : 0.06\tSAVED MODEL\n",
      "\n"
     ]
    },
    {
     "name": "stderr",
     "output_type": "stream",
     "text": [
      "Epoch 21/90  Mem : 7.79GB  LR : 1.00E-03  Loss: 0.4296: 100%|██████████| 642/642\n",
      "Val Loss: 0.4258: 100%|██████████| 58/58 [00:03<00:00, 14.80it/s]               \n"
     ]
    },
    {
     "name": "stdout",
     "output_type": "stream",
     "text": [
      "FBeta : 0.6035\tthresh : 0.81\tSAVED MODEL\n",
      "\n"
     ]
    },
    {
     "name": "stderr",
     "output_type": "stream",
     "text": [
      "Epoch 22/90  Mem : 7.79GB  LR : 1.00E-03  Loss: 0.4268: 100%|██████████| 642/642\n",
      "Val Loss: 0.4377: 100%|██████████| 58/58 [00:03<00:00, 15.08it/s]               \n"
     ]
    },
    {
     "name": "stdout",
     "output_type": "stream",
     "text": [
      "FBeta : 0.5956\tthresh : 0.56\n",
      "\n"
     ]
    },
    {
     "name": "stderr",
     "output_type": "stream",
     "text": [
      "Epoch 23/90  Mem : 7.79GB  LR : 1.00E-03  Loss: 0.4272: 100%|██████████| 642/642\n",
      "Val Loss: 0.4242: 100%|██████████| 58/58 [00:03<00:00, 14.80it/s]               \n"
     ]
    },
    {
     "name": "stdout",
     "output_type": "stream",
     "text": [
      "FBeta : 0.6019\tthresh : 0.86\n",
      "\n"
     ]
    },
    {
     "name": "stderr",
     "output_type": "stream",
     "text": [
      "Epoch 24/90  Mem : 7.79GB  LR : 1.00E-03  Loss: 0.4257: 100%|██████████| 642/642\n",
      "Val Loss: 0.4480: 100%|██████████| 58/58 [00:03<00:00, 14.85it/s]               \n"
     ]
    },
    {
     "name": "stdout",
     "output_type": "stream",
     "text": [
      "FBeta : 0.5805\tthresh : 0.96\n",
      "\n"
     ]
    },
    {
     "name": "stderr",
     "output_type": "stream",
     "text": [
      "Epoch 25/90  Mem : 7.79GB  LR : 1.00E-03  Loss: 0.4264: 100%|██████████| 642/642\n",
      "Val Loss: 0.4246: 100%|██████████| 58/58 [00:03<00:00, 15.07it/s]               \n"
     ]
    },
    {
     "name": "stdout",
     "output_type": "stream",
     "text": [
      "FBeta : 0.6038\tthresh : 0.01\tSAVED MODEL\n",
      "\n"
     ]
    },
    {
     "name": "stderr",
     "output_type": "stream",
     "text": [
      "Epoch 26/90  Mem : 7.79GB  LR : 1.00E-03  Loss: 0.4199: 100%|██████████| 642/642\n",
      "Val Loss: 0.4391: 100%|██████████| 58/58 [00:03<00:00, 15.03it/s]               \n"
     ]
    },
    {
     "name": "stdout",
     "output_type": "stream",
     "text": [
      "FBeta : 0.5973\tthresh : 0.91\n",
      "\n"
     ]
    },
    {
     "name": "stderr",
     "output_type": "stream",
     "text": [
      "Epoch 27/90  Mem : 7.79GB  LR : 1.00E-03  Loss: 0.4236: 100%|██████████| 642/642\n",
      "Val Loss: 0.4416: 100%|██████████| 58/58 [00:03<00:00, 14.86it/s]               \n"
     ]
    },
    {
     "name": "stdout",
     "output_type": "stream",
     "text": [
      "FBeta : 0.5889\tthresh : 0.01\n",
      "\n"
     ]
    },
    {
     "name": "stderr",
     "output_type": "stream",
     "text": [
      "Epoch 28/90  Mem : 7.79GB  LR : 1.00E-03  Loss: 0.4194: 100%|██████████| 642/642\n",
      "Val Loss: 0.4282: 100%|██████████| 58/58 [00:03<00:00, 15.05it/s]               \n"
     ]
    },
    {
     "name": "stdout",
     "output_type": "stream",
     "text": [
      "FBeta : 0.5968\tthresh : 0.01\n",
      "\n"
     ]
    },
    {
     "name": "stderr",
     "output_type": "stream",
     "text": [
      "Epoch 29/90  Mem : 7.79GB  LR : 1.00E-03  Loss: 0.4192: 100%|██████████| 642/642\n",
      "Val Loss: 0.4171: 100%|██████████| 58/58 [00:03<00:00, 15.24it/s]               \n"
     ]
    },
    {
     "name": "stdout",
     "output_type": "stream",
     "text": [
      "FBeta : 0.6079\tthresh : 0.41\tSAVED MODEL\n",
      "\n"
     ]
    },
    {
     "name": "stderr",
     "output_type": "stream",
     "text": [
      "Epoch 30/90  Mem : 7.79GB  LR : 1.00E-03  Loss: 0.4190: 100%|██████████| 642/642\n",
      "Val Loss: 0.4311: 100%|██████████| 58/58 [00:03<00:00, 15.09it/s]               \n"
     ]
    },
    {
     "name": "stdout",
     "output_type": "stream",
     "text": [
      "FBeta : 0.5954\tthresh : 0.91\n",
      "\n"
     ]
    },
    {
     "name": "stderr",
     "output_type": "stream",
     "text": [
      "Epoch 31/90  Mem : 7.79GB  LR : 1.00E-03  Loss: 0.4148: 100%|██████████| 642/642\n",
      "Val Loss: 0.4096: 100%|██████████| 58/58 [00:03<00:00, 15.13it/s]               \n"
     ]
    },
    {
     "name": "stdout",
     "output_type": "stream",
     "text": [
      "FBeta : 0.6142\tthresh : 0.51\tSAVED MODEL\n",
      "\n"
     ]
    },
    {
     "name": "stderr",
     "output_type": "stream",
     "text": [
      "Epoch 32/90  Mem : 7.79GB  LR : 1.00E-03  Loss: 0.4156: 100%|██████████| 642/642\n",
      "Val Loss: 0.4083: 100%|██████████| 58/58 [00:03<00:00, 15.05it/s]               \n"
     ]
    },
    {
     "name": "stdout",
     "output_type": "stream",
     "text": [
      "FBeta : 0.6186\tthresh : 0.96\tSAVED MODEL\n",
      "\n"
     ]
    },
    {
     "name": "stderr",
     "output_type": "stream",
     "text": [
      "Epoch 33/90  Mem : 7.79GB  LR : 1.00E-03  Loss: 0.4145: 100%|██████████| 642/642\n",
      "Val Loss: 0.4118: 100%|██████████| 58/58 [00:03<00:00, 15.01it/s]               \n"
     ]
    },
    {
     "name": "stdout",
     "output_type": "stream",
     "text": [
      "FBeta : 0.6145\tthresh : 0.56\n",
      "\n"
     ]
    },
    {
     "name": "stderr",
     "output_type": "stream",
     "text": [
      "Epoch 34/90  Mem : 7.79GB  LR : 1.00E-03  Loss: 0.4146: 100%|██████████| 642/642\n",
      "Val Loss: 0.4096: 100%|██████████| 58/58 [00:03<00:00, 15.07it/s]               \n"
     ]
    },
    {
     "name": "stdout",
     "output_type": "stream",
     "text": [
      "FBeta : 0.6160\tthresh : 0.96\n",
      "\n"
     ]
    },
    {
     "name": "stderr",
     "output_type": "stream",
     "text": [
      "Epoch 35/90  Mem : 7.79GB  LR : 1.00E-03  Loss: 0.4135: 100%|██████████| 642/642\n",
      "Val Loss: 0.4140: 100%|██████████| 58/58 [00:03<00:00, 15.15it/s]               \n"
     ]
    },
    {
     "name": "stdout",
     "output_type": "stream",
     "text": [
      "FBeta : 0.6144\tthresh : 0.96\n",
      "\n"
     ]
    },
    {
     "name": "stderr",
     "output_type": "stream",
     "text": [
      "Epoch 36/90  Mem : 7.79GB  LR : 1.00E-03  Loss: 0.4115: 100%|██████████| 642/642\n",
      "Val Loss: 0.4110: 100%|██████████| 58/58 [00:03<00:00, 15.13it/s]               \n"
     ]
    },
    {
     "name": "stdout",
     "output_type": "stream",
     "text": [
      "FBeta : 0.6132\tthresh : 0.01\n",
      "\n"
     ]
    },
    {
     "name": "stderr",
     "output_type": "stream",
     "text": [
      "Epoch 37/90  Mem : 7.79GB  LR : 1.00E-03  Loss: 0.4115: 100%|██████████| 642/642\n",
      "Val Loss: 0.4021: 100%|██████████| 58/58 [00:03<00:00, 15.18it/s]               \n"
     ]
    },
    {
     "name": "stdout",
     "output_type": "stream",
     "text": [
      "FBeta : 0.6224\tthresh : 0.01\tSAVED MODEL\n",
      "\n"
     ]
    },
    {
     "name": "stderr",
     "output_type": "stream",
     "text": [
      "Epoch 38/90  Mem : 7.79GB  LR : 1.00E-03  Loss: 0.4103: 100%|██████████| 642/642\n",
      "Val Loss: 0.4060: 100%|██████████| 58/58 [00:03<00:00, 15.11it/s]               \n"
     ]
    },
    {
     "name": "stdout",
     "output_type": "stream",
     "text": [
      "FBeta : 0.6219\tthresh : 0.16\n",
      "\n"
     ]
    },
    {
     "name": "stderr",
     "output_type": "stream",
     "text": [
      "Epoch 39/90  Mem : 7.79GB  LR : 1.00E-03  Loss: 0.4083: 100%|██████████| 642/642\n",
      "Val Loss: 0.4017: 100%|██████████| 58/58 [00:03<00:00, 15.09it/s]               \n"
     ]
    },
    {
     "name": "stdout",
     "output_type": "stream",
     "text": [
      "FBeta : 0.6215\tthresh : 0.61\n",
      "\n"
     ]
    },
    {
     "name": "stderr",
     "output_type": "stream",
     "text": [
      "Epoch 40/90  Mem : 7.79GB  LR : 1.00E-03  Loss: 0.4058: 100%|██████████| 642/642\n",
      "Val Loss: 0.4167: 100%|██████████| 58/58 [00:03<00:00, 14.97it/s]               \n"
     ]
    },
    {
     "name": "stdout",
     "output_type": "stream",
     "text": [
      "FBeta : 0.6088\tthresh : 0.56\n",
      "\n"
     ]
    },
    {
     "name": "stderr",
     "output_type": "stream",
     "text": [
      "Epoch 41/90  Mem : 7.79GB  LR : 1.00E-03  Loss: 0.4064: 100%|██████████| 642/642\n",
      "Val Loss: 0.4172: 100%|██████████| 58/58 [00:03<00:00, 14.91it/s]               \n"
     ]
    },
    {
     "name": "stdout",
     "output_type": "stream",
     "text": [
      "FBeta : 0.6119\tthresh : 0.56\n",
      "\n"
     ]
    },
    {
     "name": "stderr",
     "output_type": "stream",
     "text": [
      "Epoch 42/90  Mem : 7.79GB  LR : 1.00E-03  Loss: 0.4073: 100%|██████████| 642/642\n",
      "Val Loss: 0.4036: 100%|██████████| 58/58 [00:03<00:00, 14.78it/s]               \n"
     ]
    },
    {
     "name": "stdout",
     "output_type": "stream",
     "text": [
      "FBeta : 0.6220\tthresh : 0.01\n",
      "\n"
     ]
    },
    {
     "name": "stderr",
     "output_type": "stream",
     "text": [
      "Epoch 43/90  Mem : 7.79GB  LR : 1.00E-03  Loss: 0.4053: 100%|██████████| 642/642\n",
      "Val Loss: 0.4020: 100%|██████████| 58/58 [00:03<00:00, 15.00it/s]               \n"
     ]
    },
    {
     "name": "stdout",
     "output_type": "stream",
     "text": [
      "FBeta : 0.6220\tthresh : 0.01\n",
      "\n"
     ]
    },
    {
     "name": "stderr",
     "output_type": "stream",
     "text": [
      "Epoch 44/90  Mem : 7.79GB  LR : 1.00E-03  Loss: 0.4036: 100%|██████████| 642/642\n",
      "Val Loss: 0.4046: 100%|██████████| 58/58 [00:03<00:00, 14.95it/s]               \n"
     ]
    },
    {
     "name": "stdout",
     "output_type": "stream",
     "text": [
      "FBeta : 0.6188\tthresh : 0.91\n",
      "\n"
     ]
    },
    {
     "name": "stderr",
     "output_type": "stream",
     "text": [
      "Epoch 45/90  Mem : 7.79GB  LR : 1.00E-03  Loss: 0.4080: 100%|██████████| 642/642\n",
      "Val Loss: 0.4080: 100%|██████████| 58/58 [00:03<00:00, 15.07it/s]               \n"
     ]
    },
    {
     "name": "stdout",
     "output_type": "stream",
     "text": [
      "FBeta : 0.6203\tthresh : 0.41\n",
      "\n"
     ]
    },
    {
     "name": "stderr",
     "output_type": "stream",
     "text": [
      "Epoch 46/90  Mem : 7.79GB  LR : 1.00E-03  Loss: 0.4020: 100%|██████████| 642/642\n",
      "Val Loss: 0.3933: 100%|██████████| 58/58 [00:03<00:00, 15.04it/s]               \n"
     ]
    },
    {
     "name": "stdout",
     "output_type": "stream",
     "text": [
      "FBeta : 0.6305\tthresh : 0.06\tSAVED MODEL\n",
      "\n"
     ]
    },
    {
     "name": "stderr",
     "output_type": "stream",
     "text": [
      "Epoch 47/90  Mem : 7.79GB  LR : 1.00E-03  Loss: 0.3998: 100%|██████████| 642/642\n",
      "Val Loss: 0.3940: 100%|██████████| 58/58 [00:03<00:00, 15.05it/s]               \n"
     ]
    },
    {
     "name": "stdout",
     "output_type": "stream",
     "text": [
      "FBeta : 0.6297\tthresh : 0.96\n",
      "\n"
     ]
    },
    {
     "name": "stderr",
     "output_type": "stream",
     "text": [
      "Epoch 48/90  Mem : 7.79GB  LR : 1.00E-03  Loss: 0.3996: 100%|██████████| 642/642\n",
      "Val Loss: 0.3971: 100%|██████████| 58/58 [00:03<00:00, 15.04it/s]               \n"
     ]
    },
    {
     "name": "stdout",
     "output_type": "stream",
     "text": [
      "FBeta : 0.6276\tthresh : 0.31\n",
      "\n"
     ]
    },
    {
     "name": "stderr",
     "output_type": "stream",
     "text": [
      "Epoch 49/90  Mem : 7.79GB  LR : 1.00E-03  Loss: 0.3988: 100%|██████████| 642/642\n",
      "Val Loss: 0.3952: 100%|██████████| 58/58 [00:03<00:00, 15.06it/s]               \n"
     ]
    },
    {
     "name": "stdout",
     "output_type": "stream",
     "text": [
      "FBeta : 0.6280\tthresh : 0.01\n",
      "\n"
     ]
    },
    {
     "name": "stderr",
     "output_type": "stream",
     "text": [
      "Epoch 50/90  Mem : 7.79GB  LR : 1.00E-03  Loss: 0.3988: 100%|██████████| 642/642\n",
      "Val Loss: 0.3904: 100%|██████████| 58/58 [00:03<00:00, 15.11it/s]               \n"
     ]
    },
    {
     "name": "stdout",
     "output_type": "stream",
     "text": [
      "FBeta : 0.6327\tthresh : 0.21\tSAVED MODEL\n",
      "\n"
     ]
    },
    {
     "name": "stderr",
     "output_type": "stream",
     "text": [
      "Epoch 51/90  Mem : 7.79GB  LR : 1.00E-03  Loss: 0.3980: 100%|██████████| 642/642\n",
      "Val Loss: 0.3899: 100%|██████████| 58/58 [00:03<00:00, 15.05it/s]               \n"
     ]
    },
    {
     "name": "stdout",
     "output_type": "stream",
     "text": [
      "FBeta : 0.6349\tthresh : 0.96\tSAVED MODEL\n",
      "\n"
     ]
    },
    {
     "name": "stderr",
     "output_type": "stream",
     "text": [
      "Epoch 52/90  Mem : 7.79GB  LR : 1.00E-03  Loss: 0.3936: 100%|██████████| 642/642\n",
      "Val Loss: 0.3942: 100%|██████████| 58/58 [00:03<00:00, 14.86it/s]               \n"
     ]
    },
    {
     "name": "stdout",
     "output_type": "stream",
     "text": [
      "FBeta : 0.6320\tthresh : 0.01\n",
      "\n"
     ]
    },
    {
     "name": "stderr",
     "output_type": "stream",
     "text": [
      "Epoch 53/90  Mem : 7.79GB  LR : 1.00E-03  Loss: 0.3938: 100%|██████████| 642/642\n",
      "Val Loss: 0.3896: 100%|██████████| 58/58 [00:03<00:00, 15.06it/s]               \n"
     ]
    },
    {
     "name": "stdout",
     "output_type": "stream",
     "text": [
      "FBeta : 0.6352\tthresh : 0.56\tSAVED MODEL\n",
      "\n"
     ]
    },
    {
     "name": "stderr",
     "output_type": "stream",
     "text": [
      "Epoch 54/90  Mem : 7.79GB  LR : 1.00E-03  Loss: 0.3953: 100%|██████████| 642/642\n",
      "Val Loss: 0.3876: 100%|██████████| 58/58 [00:03<00:00, 15.02it/s]               \n"
     ]
    },
    {
     "name": "stdout",
     "output_type": "stream",
     "text": [
      "FBeta : 0.6343\tthresh : 0.96\n",
      "\n"
     ]
    },
    {
     "name": "stderr",
     "output_type": "stream",
     "text": [
      "Epoch 55/90  Mem : 7.79GB  LR : 1.00E-03  Loss: 0.3936: 100%|██████████| 642/642\n",
      "Val Loss: 0.3833: 100%|██████████| 58/58 [00:03<00:00, 14.97it/s]               \n"
     ]
    },
    {
     "name": "stdout",
     "output_type": "stream",
     "text": [
      "FBeta : 0.6367\tthresh : 0.66\tSAVED MODEL\n",
      "\n"
     ]
    },
    {
     "name": "stderr",
     "output_type": "stream",
     "text": [
      "Epoch 56/90  Mem : 7.79GB  LR : 1.00E-03  Loss: 0.3912: 100%|██████████| 642/642\n",
      "Val Loss: 0.3841: 100%|██████████| 58/58 [00:03<00:00, 15.08it/s]               \n"
     ]
    },
    {
     "name": "stdout",
     "output_type": "stream",
     "text": [
      "FBeta : 0.6372\tthresh : 0.66\tSAVED MODEL\n",
      "\n"
     ]
    },
    {
     "name": "stderr",
     "output_type": "stream",
     "text": [
      "Epoch 57/90  Mem : 7.79GB  LR : 1.00E-03  Loss: 0.3897: 100%|██████████| 642/642\n",
      "Val Loss: 0.3845: 100%|██████████| 58/58 [00:03<00:00, 14.95it/s]               \n"
     ]
    },
    {
     "name": "stdout",
     "output_type": "stream",
     "text": [
      "FBeta : 0.6380\tthresh : 0.66\tSAVED MODEL\n",
      "\n"
     ]
    },
    {
     "name": "stderr",
     "output_type": "stream",
     "text": [
      "Epoch 58/90  Mem : 7.79GB  LR : 1.00E-03  Loss: 0.3901: 100%|██████████| 642/642\n",
      "Val Loss: 0.3891: 100%|██████████| 58/58 [00:03<00:00, 15.13it/s]               \n"
     ]
    },
    {
     "name": "stdout",
     "output_type": "stream",
     "text": [
      "FBeta : 0.6300\tthresh : 0.16\n",
      "\n"
     ]
    },
    {
     "name": "stderr",
     "output_type": "stream",
     "text": [
      "Epoch 59/90  Mem : 7.79GB  LR : 1.00E-03  Loss: 0.3879: 100%|██████████| 642/642\n",
      "Val Loss: 0.3817: 100%|██████████| 58/58 [00:03<00:00, 14.87it/s]               \n"
     ]
    },
    {
     "name": "stdout",
     "output_type": "stream",
     "text": [
      "FBeta : 0.6405\tthresh : 0.81\tSAVED MODEL\n",
      "\n"
     ]
    },
    {
     "name": "stderr",
     "output_type": "stream",
     "text": [
      "Epoch 60/90  Mem : 7.79GB  LR : 1.00E-03  Loss: 0.3889: 100%|██████████| 642/642\n",
      "Val Loss: 0.3831: 100%|██████████| 58/58 [00:03<00:00, 15.03it/s]               \n"
     ]
    },
    {
     "name": "stdout",
     "output_type": "stream",
     "text": [
      "FBeta : 0.6385\tthresh : 0.06\n",
      "\n"
     ]
    },
    {
     "name": "stderr",
     "output_type": "stream",
     "text": [
      "Epoch 61/90  Mem : 7.79GB  LR : 1.00E-03  Loss: 0.3879: 100%|██████████| 642/642\n",
      "Val Loss: 0.3855: 100%|██████████| 58/58 [00:03<00:00, 14.78it/s]               \n"
     ]
    },
    {
     "name": "stdout",
     "output_type": "stream",
     "text": [
      "FBeta : 0.6386\tthresh : 0.51\n",
      "\n"
     ]
    },
    {
     "name": "stderr",
     "output_type": "stream",
     "text": [
      "Epoch 62/90  Mem : 7.79GB  LR : 1.00E-03  Loss: 0.3865: 100%|██████████| 642/642\n",
      "Val Loss: 0.3871: 100%|██████████| 58/58 [00:03<00:00, 15.05it/s]               \n"
     ]
    },
    {
     "name": "stdout",
     "output_type": "stream",
     "text": [
      "FBeta : 0.6380\tthresh : 0.51\n",
      "\n"
     ]
    },
    {
     "name": "stderr",
     "output_type": "stream",
     "text": [
      "Epoch 63/90  Mem : 7.79GB  LR : 1.00E-03  Loss: 0.3850: 100%|██████████| 642/642\n",
      "Val Loss: 0.3873: 100%|██████████| 58/58 [00:03<00:00, 15.00it/s]               \n"
     ]
    },
    {
     "name": "stdout",
     "output_type": "stream",
     "text": [
      "FBeta : 0.6380\tthresh : 0.01\n",
      "\n"
     ]
    },
    {
     "name": "stderr",
     "output_type": "stream",
     "text": [
      "Epoch 64/90  Mem : 7.79GB  LR : 1.00E-03  Loss: 0.3838: 100%|██████████| 642/642\n",
      "Val Loss: 0.3836: 100%|██████████| 58/58 [00:03<00:00, 14.83it/s]               \n"
     ]
    },
    {
     "name": "stdout",
     "output_type": "stream",
     "text": [
      "FBeta : 0.6408\tthresh : 0.01\tSAVED MODEL\n",
      "\n"
     ]
    },
    {
     "name": "stderr",
     "output_type": "stream",
     "text": [
      "Epoch 65/90  Mem : 7.79GB  LR : 1.00E-03  Loss: 0.3850: 100%|██████████| 642/642\n",
      "Val Loss: 0.3823: 100%|██████████| 58/58 [00:03<00:00, 14.90it/s]               \n"
     ]
    },
    {
     "name": "stdout",
     "output_type": "stream",
     "text": [
      "FBeta : 0.6400\tthresh : 0.76\n",
      "\n"
     ]
    },
    {
     "name": "stderr",
     "output_type": "stream",
     "text": [
      "Epoch 66/90  Mem : 7.79GB  LR : 1.00E-03  Loss: 0.3832: 100%|██████████| 642/642\n",
      "Val Loss: 0.3871: 100%|██████████| 58/58 [00:03<00:00, 14.87it/s]               \n"
     ]
    },
    {
     "name": "stdout",
     "output_type": "stream",
     "text": [
      "FBeta : 0.6366\tthresh : 0.01\n",
      "\n"
     ]
    },
    {
     "name": "stderr",
     "output_type": "stream",
     "text": [
      "Epoch 67/90  Mem : 7.79GB  LR : 1.00E-03  Loss: 0.3826: 100%|██████████| 642/642\n",
      "Val Loss: 0.3807: 100%|██████████| 58/58 [00:03<00:00, 14.93it/s]               \n"
     ]
    },
    {
     "name": "stdout",
     "output_type": "stream",
     "text": [
      "FBeta : 0.6418\tthresh : 0.01\tSAVED MODEL\n",
      "\n"
     ]
    },
    {
     "name": "stderr",
     "output_type": "stream",
     "text": [
      "Epoch 68/90  Mem : 7.79GB  LR : 1.00E-03  Loss: 0.3774: 100%|██████████| 642/642\n",
      "Val Loss: 0.3823: 100%|██████████| 58/58 [00:03<00:00, 14.99it/s]               \n"
     ]
    },
    {
     "name": "stdout",
     "output_type": "stream",
     "text": [
      "FBeta : 0.6411\tthresh : 0.11\n",
      "\n"
     ]
    },
    {
     "name": "stderr",
     "output_type": "stream",
     "text": [
      "Epoch 69/90  Mem : 7.79GB  LR : 1.00E-03  Loss: 0.3783: 100%|██████████| 642/642\n",
      "Val Loss: 0.3841: 100%|██████████| 58/58 [00:03<00:00, 15.12it/s]               \n"
     ]
    },
    {
     "name": "stdout",
     "output_type": "stream",
     "text": [
      "FBeta : 0.6404\tthresh : 0.06\n",
      "\n"
     ]
    },
    {
     "name": "stderr",
     "output_type": "stream",
     "text": [
      "Epoch 70/90  Mem : 7.79GB  LR : 1.00E-03  Loss: 0.3793: 100%|██████████| 642/642\n",
      "Val Loss: 0.3795: 100%|██████████| 58/58 [00:03<00:00, 15.10it/s]               \n"
     ]
    },
    {
     "name": "stdout",
     "output_type": "stream",
     "text": [
      "FBeta : 0.6423\tthresh : 0.26\tSAVED MODEL\n",
      "\n"
     ]
    },
    {
     "name": "stderr",
     "output_type": "stream",
     "text": [
      "Epoch 71/90  Mem : 7.79GB  LR : 1.00E-03  Loss: 0.3779: 100%|██████████| 642/642\n",
      "Val Loss: 0.3773: 100%|██████████| 58/58 [00:04<00:00, 14.18it/s]               \n"
     ]
    },
    {
     "name": "stdout",
     "output_type": "stream",
     "text": [
      "FBeta : 0.6428\tthresh : 0.11\tSAVED MODEL\n",
      "\n"
     ]
    },
    {
     "name": "stderr",
     "output_type": "stream",
     "text": [
      "Epoch 72/90  Mem : 7.79GB  LR : 1.00E-03  Loss: 0.3790: 100%|██████████| 642/642\n",
      "Val Loss: 0.3774: 100%|██████████| 58/58 [00:03<00:00, 15.08it/s]               \n"
     ]
    },
    {
     "name": "stdout",
     "output_type": "stream",
     "text": [
      "FBeta : 0.6444\tthresh : 0.66\tSAVED MODEL\n",
      "\n"
     ]
    },
    {
     "name": "stderr",
     "output_type": "stream",
     "text": [
      "Epoch 73/90  Mem : 7.79GB  LR : 1.00E-03  Loss: 0.3764: 100%|██████████| 642/642\n",
      "Val Loss: 0.3786: 100%|██████████| 58/58 [00:03<00:00, 15.10it/s]               \n"
     ]
    },
    {
     "name": "stdout",
     "output_type": "stream",
     "text": [
      "FBeta : 0.6445\tthresh : 0.86\tSAVED MODEL\n",
      "\n"
     ]
    },
    {
     "name": "stderr",
     "output_type": "stream",
     "text": [
      "Epoch 74/90  Mem : 7.79GB  LR : 1.00E-03  Loss: 0.3761: 100%|██████████| 642/642\n",
      "Val Loss: 0.3795: 100%|██████████| 58/58 [00:03<00:00, 14.99it/s]               \n"
     ]
    },
    {
     "name": "stdout",
     "output_type": "stream",
     "text": [
      "FBeta : 0.6431\tthresh : 0.06\n",
      "\n"
     ]
    },
    {
     "name": "stderr",
     "output_type": "stream",
     "text": [
      "Epoch 75/90  Mem : 7.79GB  LR : 1.00E-03  Loss: 0.3753: 100%|██████████| 642/642\n",
      "Val Loss: 0.3781: 100%|██████████| 58/58 [00:03<00:00, 15.02it/s]               \n"
     ]
    },
    {
     "name": "stdout",
     "output_type": "stream",
     "text": [
      "FBeta : 0.6448\tthresh : 0.66\tSAVED MODEL\n",
      "\n"
     ]
    },
    {
     "name": "stderr",
     "output_type": "stream",
     "text": [
      "Epoch 76/90  Mem : 7.79GB  LR : 1.00E-03  Loss: 0.3781: 100%|██████████| 642/642\n",
      "Val Loss: 0.3804: 100%|██████████| 58/58 [00:03<00:00, 15.15it/s]               \n"
     ]
    },
    {
     "name": "stdout",
     "output_type": "stream",
     "text": [
      "FBeta : 0.6404\tthresh : 0.41\n",
      "\n"
     ]
    },
    {
     "name": "stderr",
     "output_type": "stream",
     "text": [
      "Epoch 77/90  Mem : 7.79GB  LR : 1.00E-03  Loss: 0.3742: 100%|██████████| 642/642\n",
      "Val Loss: 0.3783: 100%|██████████| 58/58 [00:03<00:00, 14.84it/s]               \n"
     ]
    },
    {
     "name": "stdout",
     "output_type": "stream",
     "text": [
      "FBeta : 0.6435\tthresh : 0.41\n",
      "\n"
     ]
    },
    {
     "name": "stderr",
     "output_type": "stream",
     "text": [
      "Epoch 78/90  Mem : 7.79GB  LR : 1.00E-03  Loss: 0.3731: 100%|██████████| 642/642\n",
      "Val Loss: 0.3769: 100%|██████████| 58/58 [00:03<00:00, 15.03it/s]               \n"
     ]
    },
    {
     "name": "stdout",
     "output_type": "stream",
     "text": [
      "FBeta : 0.6457\tthresh : 0.06\tSAVED MODEL\n",
      "\n"
     ]
    },
    {
     "name": "stderr",
     "output_type": "stream",
     "text": [
      "Epoch 79/90  Mem : 7.79GB  LR : 1.00E-03  Loss: 0.3748: 100%|██████████| 642/642\n",
      "Val Loss: 0.3786: 100%|██████████| 58/58 [00:03<00:00, 14.92it/s]               \n"
     ]
    },
    {
     "name": "stdout",
     "output_type": "stream",
     "text": [
      "FBeta : 0.6441\tthresh : 0.06\n",
      "\n"
     ]
    },
    {
     "name": "stderr",
     "output_type": "stream",
     "text": [
      "Epoch 80/90  Mem : 7.79GB  LR : 1.00E-03  Loss: 0.3727: 100%|██████████| 642/642\n",
      "Val Loss: 0.3753: 100%|██████████| 58/58 [00:03<00:00, 15.13it/s]               \n"
     ]
    },
    {
     "name": "stdout",
     "output_type": "stream",
     "text": [
      "FBeta : 0.6466\tthresh : 0.06\tSAVED MODEL\n",
      "\n"
     ]
    },
    {
     "name": "stderr",
     "output_type": "stream",
     "text": [
      "Epoch 81/90  Mem : 7.79GB  LR : 1.00E-03  Loss: 0.3722: 100%|██████████| 642/642\n",
      "Val Loss: 0.3771: 100%|██████████| 58/58 [00:03<00:00, 15.11it/s]               \n"
     ]
    },
    {
     "name": "stdout",
     "output_type": "stream",
     "text": [
      "FBeta : 0.6464\tthresh : 0.21\n",
      "\n"
     ]
    },
    {
     "name": "stderr",
     "output_type": "stream",
     "text": [
      "Epoch 82/90  Mem : 7.79GB  LR : 1.00E-03  Loss: 0.3736: 100%|██████████| 642/642\n",
      "Val Loss: 0.3762: 100%|██████████| 58/58 [00:03<00:00, 14.89it/s]               \n"
     ]
    },
    {
     "name": "stdout",
     "output_type": "stream",
     "text": [
      "FBeta : 0.6465\tthresh : 0.36\n",
      "\n"
     ]
    },
    {
     "name": "stderr",
     "output_type": "stream",
     "text": [
      "Epoch 83/90  Mem : 7.79GB  LR : 1.00E-03  Loss: 0.3723: 100%|██████████| 642/642\n",
      "Val Loss: 0.3770: 100%|██████████| 58/58 [00:03<00:00, 15.00it/s]               \n"
     ]
    },
    {
     "name": "stdout",
     "output_type": "stream",
     "text": [
      "FBeta : 0.6460\tthresh : 0.31\n",
      "\n"
     ]
    },
    {
     "name": "stderr",
     "output_type": "stream",
     "text": [
      "Epoch 84/90  Mem : 7.79GB  LR : 1.00E-03  Loss: 0.3725: 100%|██████████| 642/642\n",
      "Val Loss: 0.3767: 100%|██████████| 58/58 [00:03<00:00, 15.11it/s]               \n"
     ]
    },
    {
     "name": "stdout",
     "output_type": "stream",
     "text": [
      "FBeta : 0.6457\tthresh : 0.36\n",
      "\n"
     ]
    },
    {
     "name": "stderr",
     "output_type": "stream",
     "text": [
      "Epoch 85/90  Mem : 7.79GB  LR : 1.00E-03  Loss: 0.3723: 100%|██████████| 642/642\n",
      "Val Loss: 0.3761: 100%|██████████| 58/58 [00:03<00:00, 14.98it/s]               \n"
     ]
    },
    {
     "name": "stdout",
     "output_type": "stream",
     "text": [
      "FBeta : 0.6469\tthresh : 0.51\tSAVED MODEL\n",
      "\n"
     ]
    },
    {
     "name": "stderr",
     "output_type": "stream",
     "text": [
      "Epoch 86/90  Mem : 7.79GB  LR : 1.00E-03  Loss: 0.3721: 100%|██████████| 642/642\n",
      "Val Loss: 0.3778: 100%|██████████| 58/58 [00:03<00:00, 15.00it/s]               \n"
     ]
    },
    {
     "name": "stdout",
     "output_type": "stream",
     "text": [
      "FBeta : 0.6451\tthresh : 0.21\n",
      "\n"
     ]
    },
    {
     "name": "stderr",
     "output_type": "stream",
     "text": [
      "Epoch 87/90  Mem : 7.79GB  LR : 1.00E-03  Loss: 0.3716: 100%|██████████| 642/642\n",
      "Val Loss: 0.3772: 100%|██████████| 58/58 [00:03<00:00, 14.99it/s]               \n"
     ]
    },
    {
     "name": "stdout",
     "output_type": "stream",
     "text": [
      "FBeta : 0.6454\tthresh : 0.11\n",
      "\n"
     ]
    },
    {
     "name": "stderr",
     "output_type": "stream",
     "text": [
      "Epoch 88/90  Mem : 7.79GB  LR : 1.00E-03  Loss: 0.3729: 100%|██████████| 642/642\n",
      "Val Loss: 0.3770: 100%|██████████| 58/58 [00:03<00:00, 15.07it/s]               \n"
     ]
    },
    {
     "name": "stdout",
     "output_type": "stream",
     "text": [
      "FBeta : 0.6459\tthresh : 0.51\n",
      "\n"
     ]
    },
    {
     "name": "stderr",
     "output_type": "stream",
     "text": [
      "Epoch 89/90  Mem : 7.79GB  LR : 1.00E-03  Loss: 0.3719: 100%|██████████| 642/642\n",
      "Val Loss: 0.3773: 100%|██████████| 58/58 [00:03<00:00, 14.83it/s]               \n"
     ]
    },
    {
     "name": "stdout",
     "output_type": "stream",
     "text": [
      "FBeta : 0.6459\tthresh : 0.51\n",
      "\n"
     ]
    },
    {
     "name": "stderr",
     "output_type": "stream",
     "text": [
      "Epoch 90/90  Mem : 7.79GB  LR : 1.00E-03  Loss: 0.3709: 100%|██████████| 642/642\n",
      "Val Loss: 0.3771: 100%|██████████| 58/58 [00:03<00:00, 14.90it/s]               \n"
     ]
    },
    {
     "name": "stdout",
     "output_type": "stream",
     "text": [
      "FBeta : 0.6465\tthresh : 0.06\n",
      "\n"
     ]
    },
    {
     "name": "stderr",
     "output_type": "stream",
     "text": [
      "Epoch 91/90  Mem : 7.79GB  LR : 1.00E-03  Loss: 0.3700: 100%|██████████| 642/642\n",
      "Val Loss: 0.3760: 100%|██████████| 58/58 [00:03<00:00, 14.98it/s]               \n"
     ]
    },
    {
     "name": "stdout",
     "output_type": "stream",
     "text": [
      "FBeta : 0.6470\tthresh : 0.21\tSAVED MODEL\n",
      "\n"
     ]
    },
    {
     "name": "stderr",
     "output_type": "stream",
     "text": [
      "Epoch 92/90  Mem : 7.79GB  LR : 1.00E-03  Loss: 0.3736: 100%|██████████| 642/642\n",
      "Val Loss: 0.3760: 100%|██████████| 58/58 [00:03<00:00, 15.07it/s]               \n"
     ]
    },
    {
     "name": "stdout",
     "output_type": "stream",
     "text": [
      "FBeta : 0.6469\tthresh : 0.61\n",
      "\n"
     ]
    },
    {
     "name": "stderr",
     "output_type": "stream",
     "text": [
      "Epoch 93/90  Mem : 7.79GB  LR : 1.00E-03  Loss: 0.3720: 100%|██████████| 642/642\n",
      "Val Loss: 0.3770: 100%|██████████| 58/58 [00:03<00:00, 14.92it/s]               \n"
     ]
    },
    {
     "name": "stdout",
     "output_type": "stream",
     "text": [
      "FBeta : 0.6459\tthresh : 0.36\n",
      "\n"
     ]
    },
    {
     "name": "stderr",
     "output_type": "stream",
     "text": [
      "Epoch 94/90  Mem : 7.79GB  LR : 1.00E-03  Loss: 0.3711: 100%|██████████| 642/642\n",
      "Val Loss: 0.3765: 100%|██████████| 58/58 [00:03<00:00, 14.84it/s]               \n"
     ]
    },
    {
     "name": "stdout",
     "output_type": "stream",
     "text": [
      "FBeta : 0.6468\tthresh : 0.16\n",
      "\n"
     ]
    },
    {
     "name": "stderr",
     "output_type": "stream",
     "text": [
      "Epoch 95/90  Mem : 7.79GB  LR : 1.00E-03  Loss: 0.3730: 100%|██████████| 642/642\n",
      "Val Loss: 0.3759: 100%|██████████| 58/58 [00:03<00:00, 15.06it/s]               \n"
     ]
    },
    {
     "name": "stdout",
     "output_type": "stream",
     "text": [
      "FBeta : 0.6475\tthresh : 0.26\tSAVED MODEL\n",
      "\n"
     ]
    },
    {
     "name": "stderr",
     "output_type": "stream",
     "text": [
      "Epoch 96/90  Mem : 7.79GB  LR : 1.00E-03  Loss: 0.3713: 100%|██████████| 642/642\n",
      "Val Loss: 0.3762: 100%|██████████| 58/58 [00:03<00:00, 14.93it/s]               \n"
     ]
    },
    {
     "name": "stdout",
     "output_type": "stream",
     "text": [
      "FBeta : 0.6467\tthresh : 0.41\n",
      "\n"
     ]
    },
    {
     "name": "stderr",
     "output_type": "stream",
     "text": [
      "Epoch 97/90  Mem : 7.79GB  LR : 1.00E-03  Loss: 0.3719: 100%|██████████| 642/642\n",
      "Val Loss: 0.3772: 100%|██████████| 58/58 [00:03<00:00, 15.00it/s]               \n"
     ]
    },
    {
     "name": "stdout",
     "output_type": "stream",
     "text": [
      "FBeta : 0.6461\tthresh : 0.46\n",
      "\n"
     ]
    },
    {
     "name": "stderr",
     "output_type": "stream",
     "text": [
      "Epoch 98/90  Mem : 7.79GB  LR : 1.00E-03  Loss: 0.3707: 100%|██████████| 642/642\n",
      "Val Loss: 0.3778: 100%|██████████| 58/58 [00:03<00:00, 15.02it/s]               \n"
     ]
    },
    {
     "name": "stdout",
     "output_type": "stream",
     "text": [
      "FBeta : 0.6450\tthresh : 0.71\n",
      "\n"
     ]
    },
    {
     "name": "stderr",
     "output_type": "stream",
     "text": [
      "Epoch 99/90  Mem : 7.79GB  LR : 1.00E-03  Loss: 0.3724: 100%|██████████| 642/642\n",
      "Val Loss: 0.3780: 100%|██████████| 58/58 [00:03<00:00, 15.02it/s]               \n"
     ]
    },
    {
     "name": "stdout",
     "output_type": "stream",
     "text": [
      "FBeta : 0.6450\tthresh : 0.76\n",
      "\n",
      "{\"status\":200,\"message\":\"ok\"}"
     ]
    }
   ],
   "source": [
    "if CFG.debug:\n",
    "    print(\"!!!Debug mode!!!\\n\")\n",
    "\n",
    "dice_score=0\n",
    "for epoch in range(100):\n",
    "    model.train()\n",
    "    \n",
    "    pbar_train = enumerate(dataloader_train)\n",
    "    pbar_train = tqdm(pbar_train, total=len(dataloader_train), bar_format=\"{l_bar}{bar:10}{r_bar}{bar:-0b}\")\n",
    "    loss_train, loss_val= 0.0, 0.0\n",
    "    for i, (images, masks) in pbar_train:\n",
    "        images, masks = images.cuda(), masks.cuda()\n",
    "        optimizer.zero_grad()\n",
    "        with amp.autocast():\n",
    "            preds = model(images)\n",
    "            loss = criterion(preds, masks)\n",
    "            scaler.scale(loss).backward()\n",
    "            scaler.step(optimizer)\n",
    "            scaler.update()\n",
    "            loss_train += loss.detach().item()\n",
    "        \n",
    "        lr = f\"LR : {scheduler.get_last_lr()[0]:.2E}\"\n",
    "        gpu_mem = f\"Mem : {torch.cuda.memory_reserved() / 1E9:.3g}GB\"\n",
    "        pbar_train.set_description((\"%10s  \" * 3 + \"%10s\") % (f\"Epoch {epoch}/{CFG.epochs}\", gpu_mem, lr,\n",
    "                                                                f\"Loss: {loss_train / (i + 1):.4f}\"))\n",
    "\n",
    "    scheduler.step()\n",
    "    model.eval()\n",
    "    \n",
    "    cum_pred = []\n",
    "    cum_true = []\n",
    "    pbar_val = enumerate(dataloader_valid)\n",
    "    pbar_val = tqdm(pbar_val, total=len(dataloader_valid), bar_format=\"{l_bar}{bar:10}{r_bar}{bar:-10b}\")\n",
    "    for i, (images, masks) in pbar_val:\n",
    "        images, masks = images.cuda(), masks.cuda()\n",
    "        with torch.no_grad():\n",
    "            preds = model(images)\n",
    "            loss_val += criterion(preds, masks).item()\n",
    "            preds = torch.sigmoid(preds)\n",
    "            cum_pred.append(preds.cpu().detach().numpy())\n",
    "            cum_true.append(masks.cpu().detach().numpy())\n",
    "\n",
    "        pbar_val.set_description((\"%10s\") % (f\"Val Loss: {loss_val / (i+1):.4f}\"))\n",
    "    \n",
    "    cum_pred = torch.flatten(torch.from_numpy(np.concatenate(cum_pred, axis=0)))\n",
    "    cum_true = torch.flatten(torch.from_numpy(np.concatenate(cum_true, axis=0)))\n",
    "    \n",
    "    dice_score_, thresh = calc_optim_thresh(cum_pred, cum_true, thresholds_to_test)\n",
    "    \n",
    "    if dice_score_ > dice_score:\n",
    "        print(f\"FBeta : {dice_score_:.4f}\\tthresh : {thresh}\\tSAVED MODEL\\n\")\n",
    "        epoch_best=epoch\n",
    "        dice_score =dice_score_\n",
    "        torch.save({'model': model.module.state_dict(), 'dice_score': dice_score, 'thresh': thresh,\n",
    "                    \"model_arch\":CFG.model_arch, \"backbone\":CFG.backbone,\"in_chans\":CFG.in_chans,\"target_size\":CFG.target_size,},\n",
    "                    f'./{CFG.exp_name}/{CFG.exp_name}.pth')\n",
    "    else:\n",
    "        print(f\"FBeta : {dice_score_:.4f}\\tthresh : {thresh}\\n\")\n",
    "    \n",
    "    if epoch-epoch_best>=CFG.epochs_patience:\n",
    "        print('Early Stopping')\n",
    "        break\n",
    "        \n",
    "!curl -X POST -H 'Authorization: Bearer '$LINE -F 'message=セルの実行が終わりました！{dice_score}' https://notify-api.line.me/api/notify\n"
   ]
  },
  {
   "cell_type": "code",
   "execution_count": 9,
   "metadata": {
    "execution": {
     "iopub.execute_input": "2023-06-26T19:44:33.793180Z",
     "iopub.status.busy": "2023-06-26T19:44:33.792913Z",
     "iopub.status.idle": "2023-06-26T19:44:34.424684Z",
     "shell.execute_reply": "2023-06-26T19:44:34.424137Z"
    }
   },
   "outputs": [
    {
     "name": "stdout",
     "output_type": "stream",
     "text": [
      "model_arch:  Unet\n",
      "backbone:  timm-resnest26d\n",
      "0.6475\n"
     ]
    }
   ],
   "source": [
    "pth = torch.load(f'./{CFG.exp_name}/{CFG.exp_name}.pth')\n",
    "\n",
    "model = build_model(pth[\"model_arch\"], pth[\"backbone\"], pth[\"in_chans\"], pth[\"target_size\"], weight=None)\n",
    "model.load_state_dict(pth['model'])\n",
    "thresh = pth['thresh']\n",
    "dice_score = pth['dice_score']\n",
    "print(f\"{dice_score:.4f}\")\n",
    "\n",
    "model.to(device)\n",
    "model.eval();\n"
   ]
  },
  {
   "cell_type": "code",
   "execution_count": 10,
   "metadata": {
    "execution": {
     "iopub.execute_input": "2023-06-26T19:44:34.426521Z",
     "iopub.status.busy": "2023-06-26T19:44:34.426129Z",
     "iopub.status.idle": "2023-06-26T19:44:34.428616Z",
     "shell.execute_reply": "2023-06-26T19:44:34.428198Z"
    }
   },
   "outputs": [],
   "source": [
    "# for i, (images, masks) in enumerate(dataloader_valid):\n",
    "#     if i!=1: continue\n",
    "    \n",
    "#     images, masks = images.cuda(), masks.cuda()\n",
    "#     with torch.no_grad():\n",
    "#         preds = model(images)\n",
    "#         preds = torch.sigmoid(preds)\n",
    "#     images, masks, preds = images.cpu(), masks.cpu(), preds.cpu()\n",
    "    \n",
    "#     for num in range(CFG.valid_batch_size):\n",
    "#         fig, axes = plt.subplots(nrows=1, ncols=4, figsize=(20,5))\n",
    "#         axes = axes.flatten()\n",
    "#         axes[0].imshow(images[num].permute(1,2,0))\n",
    "#         axes[0].axis('off')\n",
    "#         axes[0].set_title('Image')\n",
    "#         axes[1].imshow(masks[num].permute(1,2,0))\n",
    "#         axes[1].axis('off')\n",
    "#         axes[1].set_title('Ground Truth')\n",
    "#         axes[2].imshow(preds[num].permute(1,2,0))\n",
    "#         axes[2].axis('off')\n",
    "#         axes[2].set_title('pred')\n",
    "#         axes[3].imshow((preds[num]>thresh).permute(1,2,0))\n",
    "#         axes[3].axis('off')\n",
    "#         axes[3].set_title('pred_thresh')\n",
    "#     break"
   ]
  },
  {
   "cell_type": "code",
   "execution_count": null,
   "metadata": {},
   "outputs": [],
   "source": []
  },
  {
   "cell_type": "code",
   "execution_count": null,
   "metadata": {},
   "outputs": [],
   "source": []
  },
  {
   "cell_type": "code",
   "execution_count": null,
   "metadata": {},
   "outputs": [],
   "source": []
  }
 ],
 "metadata": {
  "kernelspec": {
   "display_name": "Python 3",
   "language": "python",
   "name": "python3"
  },
  "language_info": {
   "codemirror_mode": {
    "name": "ipython",
    "version": 3
   },
   "file_extension": ".py",
   "mimetype": "text/x-python",
   "name": "python",
   "nbconvert_exporter": "python",
   "pygments_lexer": "ipython3",
   "version": "3.10.11"
  }
 },
 "nbformat": 4,
 "nbformat_minor": 4
}

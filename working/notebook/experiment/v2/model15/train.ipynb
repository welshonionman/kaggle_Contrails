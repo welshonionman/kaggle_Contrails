{
 "cells": [
  {
   "cell_type": "code",
   "execution_count": 1,
   "metadata": {
    "execution": {
     "iopub.execute_input": "2023-06-28T00:28:55.667481Z",
     "iopub.status.busy": "2023-06-28T00:28:55.667360Z",
     "iopub.status.idle": "2023-06-28T00:28:58.165743Z",
     "shell.execute_reply": "2023-06-28T00:28:58.165251Z"
    }
   },
   "outputs": [],
   "source": [
    "import gc\n",
    "import os\n",
    "import sys\n",
    "import warnings\n",
    "from glob import glob\n",
    "import matplotlib.pyplot as plt\n",
    "\n",
    "import albumentations as A\n",
    "from albumentations.pytorch import ToTensorV2\n",
    "import pandas as pd\n",
    "import torch\n",
    "import torch.nn as nn\n",
    "import torch.nn.functional as F\n",
    "from torch.utils.data import DataLoader\n",
    "import segmentation_models_pytorch as smp\n",
    "from torch.cuda import amp\n",
    "from tqdm import tqdm"
   ]
  },
  {
   "cell_type": "code",
   "execution_count": 2,
   "metadata": {
    "execution": {
     "iopub.execute_input": "2023-06-28T00:28:58.167760Z",
     "iopub.status.busy": "2023-06-28T00:28:58.167519Z",
     "iopub.status.idle": "2023-06-28T00:28:58.235698Z",
     "shell.execute_reply": "2023-06-28T00:28:58.234947Z"
    }
   },
   "outputs": [],
   "source": [
    "sys.path.append('../')\n",
    "from script.metrics import *\n",
    "from script.dataset import *\n",
    "from script.helper import *\n",
    "from script.scheduler import *\n",
    "from script.loss import *"
   ]
  },
  {
   "attachments": {},
   "cell_type": "markdown",
   "metadata": {},
   "source": [
    "### Config"
   ]
  },
  {
   "cell_type": "code",
   "execution_count": 3,
   "metadata": {
    "execution": {
     "iopub.execute_input": "2023-06-28T00:28:58.237774Z",
     "iopub.status.busy": "2023-06-28T00:28:58.237531Z",
     "iopub.status.idle": "2023-06-28T00:28:58.267447Z",
     "shell.execute_reply": "2023-06-28T00:28:58.266905Z"
    }
   },
   "outputs": [],
   "source": [
    "class CFG:\n",
    "    debug = False\n",
    "    # ============== comp exp name =============\n",
    "    comp_name = 'contrail'\n",
    "    comp_dir_path = '/kaggle/input/'\n",
    "    comp_folder_name = 'google-research-identify-contrails-reduce-global-warming'\n",
    "\n",
    "    dataset_path = \"/kaggle/working/dataset_train/ash_color/\"\n",
    "\n",
    "    exp_name = os.getcwd().split('/')[-1]\n",
    "\n",
    "    # ============== model cfg =============\n",
    "    model_arch = 'Unet'\n",
    "    backbone = 'timm-resnest26d'\n",
    "    in_chans = 3\n",
    "    target_size = 1\n",
    "\n",
    "    # ============== training cfg =============\n",
    "    train_batch_size = 32\n",
    "    valid_batch_size = train_batch_size\n",
    "\n",
    "    epochs = 90\n",
    "    epochs_patience = 12\n",
    "\n",
    "    lr = 1e-4\n",
    "    loss = \"DiceLoss\"\n",
    "\n",
    "    # ============== fixed =============\n",
    "    num_workers = 4\n",
    "    seed = 42\n",
    "\n",
    "    # ============== augmentation =============\n",
    "    train_aug_list = [\n",
    "        A.RandomRotate90(),\n",
    "        A.RandomBrightnessContrast(),\n",
    "        A.ShiftScaleRotate(p=0.5,rotate_limit=(10,10)),\n",
    "        A.GridDistortion(num_steps=5, distort_limit=0.3, p=0.5),\n",
    "        A.CoarseDropout(max_holes=10, max_width=int(256 * 0.05), max_height=int(256 * 0.05),\n",
    "                        mask_fill_value=0, p=0.5),\n",
    "        A.RandomGridShuffle(),\n",
    "        ToTensorV2(transpose_mask=True),\n",
    "    ]\n",
    "\n",
    "    valid_aug_list = [\n",
    "        ToTensorV2(transpose_mask=True),\n",
    "    ]\n",
    "\n",
    "\n",
    "warnings.filterwarnings(\"ignore\")\n",
    "torch.backends.cudnn.benchmark = True\n",
    "device = torch.device('cuda' if torch.cuda.is_available() else 'cpu')\n",
    "set_seed(CFG.seed)\n",
    "os.makedirs(f'./{CFG.exp_name}/', exist_ok=True)"
   ]
  },
  {
   "attachments": {},
   "cell_type": "markdown",
   "metadata": {},
   "source": [
    "# Dataset"
   ]
  },
  {
   "cell_type": "code",
   "execution_count": 4,
   "metadata": {
    "execution": {
     "iopub.execute_input": "2023-06-28T00:28:58.269329Z",
     "iopub.status.busy": "2023-06-28T00:28:58.269098Z",
     "iopub.status.idle": "2023-06-28T00:28:58.305412Z",
     "shell.execute_reply": "2023-06-28T00:28:58.304917Z"
    }
   },
   "outputs": [
    {
     "data": {
      "text/plain": [
       "((20529, 2), (1856, 2))"
      ]
     },
     "execution_count": 4,
     "metadata": {},
     "output_type": "execute_result"
    }
   ],
   "source": [
    "train_df = pd.read_csv(f\"{CFG.dataset_path}/train_df.csv\")\n",
    "valid_df = pd.read_csv(f\"{CFG.dataset_path}/validation_df.csv\")\n",
    "\n",
    "if CFG.debug:\n",
    "    train_df=train_df[:2000]\n",
    "    valid_df=valid_df[:2000]\n",
    "train_df.shape, valid_df.shape"
   ]
  },
  {
   "cell_type": "code",
   "execution_count": 5,
   "metadata": {
    "execution": {
     "iopub.execute_input": "2023-06-28T00:28:58.323051Z",
     "iopub.status.busy": "2023-06-28T00:28:58.322866Z",
     "iopub.status.idle": "2023-06-28T00:28:58.327313Z",
     "shell.execute_reply": "2023-06-28T00:28:58.326799Z"
    }
   },
   "outputs": [],
   "source": [
    "def preprocess_image(image):\n",
    "    image[:,:,0]=np.clip(image[:,:,0],a_min=0,a_max=0.66)*1.5\n",
    "    return image\n",
    "\n",
    "class ContrailsDataset(Dataset):\n",
    "    def __init__(self, df, transform, mode='train'):\n",
    "        self.df = df\n",
    "        self.transform = A.Compose(transform)\n",
    "        self.mode = mode\n",
    "\n",
    "    def __getitem__(self, index):\n",
    "        row = self.df.iloc[index]\n",
    "        path = row.path\n",
    "        record_id = row.record_id\n",
    "        npy = fastnumpyio.load(str(path)).astype(\"float32\")\n",
    "\n",
    "        if self.mode == 'train':\n",
    "            image = npy[..., :-1]\n",
    "            label = npy[..., -1]\n",
    "            image = preprocess_image(image)\n",
    "            data = self.transform(image=image, mask=label)\n",
    "            image = data['image']\n",
    "            label = data['mask']\n",
    "            label = np.expand_dims(label, 0)\n",
    "            image = torch.tensor(image)\n",
    "            label = torch.tensor(label)\n",
    "            return image.float(), label.float()\n",
    "\n",
    "        if self.mode == 'test':\n",
    "            image = npy\n",
    "            data = self.transform(image=image)\n",
    "            image = data['image']\n",
    "            image = torch.tensor(image)\n",
    "            return image.float(), record_id\n",
    "\n",
    "    def __len__(self):\n",
    "        return len(self.df)"
   ]
  },
  {
   "cell_type": "code",
   "execution_count": 6,
   "metadata": {
    "execution": {
     "iopub.execute_input": "2023-06-28T00:28:58.328825Z",
     "iopub.status.busy": "2023-06-28T00:28:58.328606Z",
     "iopub.status.idle": "2023-06-28T00:28:58.530463Z",
     "shell.execute_reply": "2023-06-28T00:28:58.530004Z"
    }
   },
   "outputs": [
    {
     "name": "stdout",
     "output_type": "stream",
     "text": [
      "\n",
      "len(dataset_train) = 20529\n",
      "train_image_shape : torch.Size([3, 256, 256])\n",
      "train_mask_shape  : torch.Size([1, 256, 256])\n",
      "train_image_dtype : torch.float32\n",
      "train_mask_dtype : torch.float32\n",
      "\n",
      "len(dataset_valid) = 1856\n",
      "valid_image_shape : torch.Size([3, 256, 256])\n",
      "valid_mask_shape  : torch.Size([1, 256, 256])\n",
      "valid_image_dtype : torch.float32\n",
      "valid_mask_dtype : torch.float32\n",
      "\n"
     ]
    },
    {
     "data": {
      "image/png": "[encoded data removed]",
      "text/plain": [
       "<Figure size 1000x400 with 2 Axes>"
      ]
     },
     "metadata": {},
     "output_type": "display_data"
    }
   ],
   "source": [
    "dataset_train = ContrailsDataset(train_df, CFG.train_aug_list)\n",
    "dataset_valid = ContrailsDataset(valid_df, CFG.valid_aug_list)\n",
    "\n",
    "dataloader_train = DataLoader(dataset_train, batch_size=CFG.train_batch_size , shuffle=True, num_workers = CFG.num_workers)\n",
    "dataloader_valid = DataLoader(dataset_valid, batch_size=CFG.valid_batch_size, num_workers = CFG.num_workers)\n",
    "\n",
    "print(f\"\"\"\n",
    "{len(dataset_train) = }\n",
    "train_image_shape : {dataset_train[0][0].shape}\n",
    "train_mask_shape  : {dataset_train[0][1].shape}\n",
    "train_image_dtype : {dataset_train[0][0].dtype}\n",
    "train_mask_dtype : {dataset_train[0][1].dtype}\n",
    "\n",
    "{len(dataset_valid) = }\n",
    "valid_image_shape : {dataset_valid[0][0].shape}\n",
    "valid_mask_shape  : {dataset_valid[0][1].shape}\n",
    "valid_image_dtype : {dataset_valid[0][0].dtype}\n",
    "valid_mask_dtype : {dataset_valid[0][1].dtype}\n",
    "\"\"\")\n",
    "\n",
    "show_dataset(112, dataset_train)"
   ]
  },
  {
   "attachments": {},
   "cell_type": "markdown",
   "metadata": {},
   "source": [
    "# Model"
   ]
  },
  {
   "cell_type": "code",
   "execution_count": 7,
   "metadata": {
    "execution": {
     "iopub.execute_input": "2023-06-28T00:28:58.532412Z",
     "iopub.status.busy": "2023-06-28T00:28:58.532042Z",
     "iopub.status.idle": "2023-06-28T00:28:59.754925Z",
     "shell.execute_reply": "2023-06-28T00:28:59.754348Z"
    }
   },
   "outputs": [
    {
     "name": "stdout",
     "output_type": "stream",
     "text": [
      "model_arch:  Unet\n",
      "backbone:  timm-resnest26d\n"
     ]
    }
   ],
   "source": [
    "class CustomModel(nn.Module):\n",
    "    def __init__(self,model_arch, backbone, in_chans, target_size, weight):\n",
    "        super().__init__()\n",
    "\n",
    "        self.model = smp.create_model(\n",
    "            model_arch,\n",
    "            encoder_name=backbone,\n",
    "            encoder_weights=weight,\n",
    "            in_channels=in_chans,\n",
    "            classes=target_size,\n",
    "            activation=None,\n",
    "        )\n",
    "        \n",
    "    def forward(self, image):\n",
    "        output = self.model(image)\n",
    "        return output\n",
    "\n",
    "\n",
    "def build_model(model_arch, backbone, in_chans, target_size, weight=\"imagenet\"):\n",
    "    print('model_arch: ', model_arch)\n",
    "    print('backbone: ', backbone)\n",
    "    model = CustomModel(model_arch, backbone, in_chans, target_size, weight)\n",
    "    return model\n",
    "\n",
    "\n",
    "num_gpus = torch.cuda.device_count()\n",
    "device_ids = list(range(num_gpus))\n",
    "\n",
    "model = build_model(CFG.model_arch, CFG.backbone, CFG.in_chans, CFG.target_size)\n",
    "model = nn.DataParallel(model, device_ids=device_ids)\n",
    "model.to(device);"
   ]
  },
  {
   "cell_type": "code",
   "execution_count": 8,
   "metadata": {
    "execution": {
     "iopub.execute_input": "2023-06-28T00:28:59.756944Z",
     "iopub.status.busy": "2023-06-28T00:28:59.756692Z",
     "iopub.status.idle": "2023-06-28T00:28:59.760200Z",
     "shell.execute_reply": "2023-06-28T00:28:59.759788Z"
    }
   },
   "outputs": [],
   "source": [
    "scaler = amp.GradScaler()\n",
    "criterion = get_lossfn(CFG)\n",
    "optimizer = torch.optim.AdamW(model.parameters(), lr=CFG.lr)\n",
    "scheduler = get_scheduler(CFG, optimizer)\n",
    "\n",
    "thresholds_to_test = [round(x * 0.01, 2) for x in range(1, 101, 2)]"
   ]
  },
  {
   "attachments": {},
   "cell_type": "markdown",
   "metadata": {},
   "source": [
    "# Training"
   ]
  },
  {
   "cell_type": "code",
   "execution_count": 9,
   "metadata": {
    "execution": {
     "iopub.execute_input": "2023-06-28T00:28:59.761773Z",
     "iopub.status.busy": "2023-06-28T00:28:59.761557Z",
     "iopub.status.idle": "2023-06-28T03:02:39.920375Z",
     "shell.execute_reply": "2023-06-28T03:02:39.918813Z"
    }
   },
   "outputs": [
    {
     "name": "stderr",
     "output_type": "stream",
     "text": [
      "Epoch 0/90  Mem : 7.79GB  LR : 1.00E-04  Loss: 0.8055: 100%|██████████| 642/642 \n",
      "Val Loss: 0.6435: 100%|██████████| 58/58 [00:03<00:00, 15.85it/s]               \n"
     ]
    },
    {
     "name": "stdout",
     "output_type": "stream",
     "text": [
      "FBeta : 0.5227\tthresh : 0.59\tSAVED MODEL\n",
      "\n"
     ]
    },
    {
     "name": "stderr",
     "output_type": "stream",
     "text": [
      "Epoch 1/90  Mem : 7.79GB  LR : 1.00E-03  Loss: 0.5335: 100%|██████████| 642/642 \n",
      "Val Loss: 0.5709: 100%|██████████| 58/58 [00:03<00:00, 14.56it/s]               \n"
     ]
    },
    {
     "name": "stdout",
     "output_type": "stream",
     "text": [
      "FBeta : 0.4791\tthresh : 0.07\n",
      "\n"
     ]
    },
    {
     "name": "stderr",
     "output_type": "stream",
     "text": [
      "Epoch 2/90  Mem : 7.79GB  LR : 1.00E-03  Loss: 0.4968: 100%|██████████| 642/642 \n",
      "Val Loss: 0.5152: 100%|██████████| 58/58 [00:04<00:00, 14.44it/s]               \n"
     ]
    },
    {
     "name": "stdout",
     "output_type": "stream",
     "text": [
      "FBeta : 0.5273\tthresh : 0.99\tSAVED MODEL\n",
      "\n"
     ]
    },
    {
     "name": "stderr",
     "output_type": "stream",
     "text": [
      "Epoch 3/90  Mem : 7.79GB  LR : 1.00E-03  Loss: 0.4797: 100%|██████████| 642/642 \n",
      "Val Loss: 0.5153: 100%|██████████| 58/58 [00:03<00:00, 14.60it/s]               \n"
     ]
    },
    {
     "name": "stdout",
     "output_type": "stream",
     "text": [
      "FBeta : 0.5356\tthresh : 0.01\tSAVED MODEL\n",
      "\n"
     ]
    },
    {
     "name": "stderr",
     "output_type": "stream",
     "text": [
      "Epoch 4/90  Mem : 7.79GB  LR : 1.00E-03  Loss: 0.4718: 100%|██████████| 642/642 \n",
      "Val Loss: 0.4798: 100%|██████████| 58/58 [00:03<00:00, 14.92it/s]               \n"
     ]
    },
    {
     "name": "stdout",
     "output_type": "stream",
     "text": [
      "FBeta : 0.5602\tthresh : 0.97\tSAVED MODEL\n",
      "\n"
     ]
    },
    {
     "name": "stderr",
     "output_type": "stream",
     "text": [
      "Epoch 5/90  Mem : 7.79GB  LR : 1.00E-03  Loss: 0.4674: 100%|██████████| 642/642 \n",
      "Val Loss: 0.4761: 100%|██████████| 58/58 [00:03<00:00, 14.89it/s]               \n"
     ]
    },
    {
     "name": "stdout",
     "output_type": "stream",
     "text": [
      "FBeta : 0.5569\tthresh : 0.07\n",
      "\n"
     ]
    },
    {
     "name": "stderr",
     "output_type": "stream",
     "text": [
      "Epoch 6/90  Mem : 7.79GB  LR : 1.00E-03  Loss: 0.4629: 100%|██████████| 642/642 \n",
      "Val Loss: 0.4965: 100%|██████████| 58/58 [00:03<00:00, 14.94it/s]               \n"
     ]
    },
    {
     "name": "stdout",
     "output_type": "stream",
     "text": [
      "FBeta : 0.5428\tthresh : 0.35\n",
      "\n"
     ]
    },
    {
     "name": "stderr",
     "output_type": "stream",
     "text": [
      "Epoch 7/90  Mem : 7.79GB  LR : 1.00E-03  Loss: 0.4595: 100%|██████████| 642/642 \n",
      "Val Loss: 0.4717: 100%|██████████| 58/58 [00:03<00:00, 14.93it/s]               \n"
     ]
    },
    {
     "name": "stdout",
     "output_type": "stream",
     "text": [
      "FBeta : 0.5600\tthresh : 0.97\n",
      "\n"
     ]
    },
    {
     "name": "stderr",
     "output_type": "stream",
     "text": [
      "Epoch 8/90  Mem : 7.79GB  LR : 1.00E-03  Loss: 0.4548: 100%|██████████| 642/642 \n",
      "Val Loss: 0.4682: 100%|██████████| 58/58 [00:03<00:00, 14.98it/s]               \n"
     ]
    },
    {
     "name": "stdout",
     "output_type": "stream",
     "text": [
      "FBeta : 0.5627\tthresh : 0.09\tSAVED MODEL\n",
      "\n"
     ]
    },
    {
     "name": "stderr",
     "output_type": "stream",
     "text": [
      "Epoch 9/90  Mem : 7.79GB  LR : 1.00E-03  Loss: 0.4553: 100%|██████████| 642/642 \n",
      "Val Loss: 0.4782: 100%|██████████| 58/58 [00:03<00:00, 15.03it/s]               \n"
     ]
    },
    {
     "name": "stdout",
     "output_type": "stream",
     "text": [
      "FBeta : 0.5637\tthresh : 0.01\tSAVED MODEL\n",
      "\n"
     ]
    },
    {
     "name": "stderr",
     "output_type": "stream",
     "text": [
      "Epoch 10/90  Mem : 7.79GB  LR : 1.00E-03  Loss: 0.4488: 100%|██████████| 642/642\n",
      "Val Loss: 0.4576: 100%|██████████| 58/58 [00:03<00:00, 14.86it/s]               \n"
     ]
    },
    {
     "name": "stdout",
     "output_type": "stream",
     "text": [
      "FBeta : 0.5768\tthresh : 0.09\tSAVED MODEL\n",
      "\n"
     ]
    },
    {
     "name": "stderr",
     "output_type": "stream",
     "text": [
      "Epoch 11/90  Mem : 7.79GB  LR : 1.00E-03  Loss: 0.4480: 100%|██████████| 642/642\n",
      "Val Loss: 0.4440: 100%|██████████| 58/58 [00:03<00:00, 14.90it/s]               \n"
     ]
    },
    {
     "name": "stdout",
     "output_type": "stream",
     "text": [
      "FBeta : 0.5865\tthresh : 0.29\tSAVED MODEL\n",
      "\n"
     ]
    },
    {
     "name": "stderr",
     "output_type": "stream",
     "text": [
      "Epoch 12/90  Mem : 7.79GB  LR : 1.00E-03  Loss: 0.4429: 100%|██████████| 642/642\n",
      "Val Loss: 0.4655: 100%|██████████| 58/58 [00:03<00:00, 14.77it/s]               \n"
     ]
    },
    {
     "name": "stdout",
     "output_type": "stream",
     "text": [
      "FBeta : 0.5658\tthresh : 0.47\n",
      "\n"
     ]
    },
    {
     "name": "stderr",
     "output_type": "stream",
     "text": [
      "Epoch 13/90  Mem : 7.79GB  LR : 1.00E-03  Loss: 0.4404: 100%|██████████| 642/642\n",
      "Val Loss: 0.4430: 100%|██████████| 58/58 [00:03<00:00, 14.87it/s]               \n"
     ]
    },
    {
     "name": "stdout",
     "output_type": "stream",
     "text": [
      "FBeta : 0.5834\tthresh : 0.05\n",
      "\n"
     ]
    },
    {
     "name": "stderr",
     "output_type": "stream",
     "text": [
      "Epoch 14/90  Mem : 7.79GB  LR : 1.00E-03  Loss: 0.4426: 100%|██████████| 642/642\n",
      "Val Loss: 0.4464: 100%|██████████| 58/58 [00:03<00:00, 14.98it/s]               \n"
     ]
    },
    {
     "name": "stdout",
     "output_type": "stream",
     "text": [
      "FBeta : 0.5826\tthresh : 0.77\n",
      "\n"
     ]
    },
    {
     "name": "stderr",
     "output_type": "stream",
     "text": [
      "Epoch 15/90  Mem : 7.79GB  LR : 1.00E-03  Loss: 0.4366: 100%|██████████| 642/642\n",
      "Val Loss: 0.4382: 100%|██████████| 58/58 [00:03<00:00, 14.79it/s]               \n"
     ]
    },
    {
     "name": "stdout",
     "output_type": "stream",
     "text": [
      "FBeta : 0.5884\tthresh : 0.11\tSAVED MODEL\n",
      "\n"
     ]
    },
    {
     "name": "stderr",
     "output_type": "stream",
     "text": [
      "Epoch 16/90  Mem : 7.79GB  LR : 1.00E-03  Loss: 0.4364: 100%|██████████| 642/642\n",
      "Val Loss: 0.4501: 100%|██████████| 58/58 [00:03<00:00, 15.13it/s]               \n"
     ]
    },
    {
     "name": "stdout",
     "output_type": "stream",
     "text": [
      "FBeta : 0.5857\tthresh : 0.01\n",
      "\n"
     ]
    },
    {
     "name": "stderr",
     "output_type": "stream",
     "text": [
      "Epoch 17/90  Mem : 7.79GB  LR : 1.00E-03  Loss: 0.4359: 100%|██████████| 642/642\n",
      "Val Loss: 0.4341: 100%|██████████| 58/58 [00:03<00:00, 14.81it/s]               \n"
     ]
    },
    {
     "name": "stdout",
     "output_type": "stream",
     "text": [
      "FBeta : 0.5980\tthresh : 0.97\tSAVED MODEL\n",
      "\n"
     ]
    },
    {
     "name": "stderr",
     "output_type": "stream",
     "text": [
      "Epoch 18/90  Mem : 7.79GB  LR : 1.00E-03  Loss: 0.4340: 100%|██████████| 642/642\n",
      "Val Loss: 0.4394: 100%|██████████| 58/58 [00:03<00:00, 15.28it/s]               \n"
     ]
    },
    {
     "name": "stdout",
     "output_type": "stream",
     "text": [
      "FBeta : 0.5921\tthresh : 0.99\n",
      "\n"
     ]
    },
    {
     "name": "stderr",
     "output_type": "stream",
     "text": [
      "Epoch 19/90  Mem : 7.79GB  LR : 1.00E-03  Loss: 0.4306: 100%|██████████| 642/642\n",
      "Val Loss: 0.4423: 100%|██████████| 58/58 [00:03<00:00, 15.15it/s]               \n"
     ]
    },
    {
     "name": "stdout",
     "output_type": "stream",
     "text": [
      "FBeta : 0.5910\tthresh : 0.37\n",
      "\n"
     ]
    },
    {
     "name": "stderr",
     "output_type": "stream",
     "text": [
      "Epoch 20/90  Mem : 7.79GB  LR : 1.00E-03  Loss: 0.4331: 100%|██████████| 642/642\n",
      "Val Loss: 0.4330: 100%|██████████| 58/58 [00:03<00:00, 15.20it/s]               \n"
     ]
    },
    {
     "name": "stdout",
     "output_type": "stream",
     "text": [
      "FBeta : 0.5969\tthresh : 0.03\n",
      "\n"
     ]
    },
    {
     "name": "stderr",
     "output_type": "stream",
     "text": [
      "Epoch 21/90  Mem : 7.79GB  LR : 1.00E-03  Loss: 0.4303: 100%|██████████| 642/642\n",
      "Val Loss: 0.4234: 100%|██████████| 58/58 [00:03<00:00, 15.19it/s]               \n"
     ]
    },
    {
     "name": "stdout",
     "output_type": "stream",
     "text": [
      "FBeta : 0.6054\tthresh : 0.99\tSAVED MODEL\n",
      "\n"
     ]
    },
    {
     "name": "stderr",
     "output_type": "stream",
     "text": [
      "Epoch 22/90  Mem : 7.79GB  LR : 1.00E-03  Loss: 0.4267: 100%|██████████| 642/642\n",
      "Val Loss: 0.4318: 100%|██████████| 58/58 [00:03<00:00, 14.95it/s]               \n"
     ]
    },
    {
     "name": "stdout",
     "output_type": "stream",
     "text": [
      "FBeta : 0.5995\tthresh : 0.73\n",
      "\n"
     ]
    },
    {
     "name": "stderr",
     "output_type": "stream",
     "text": [
      "Epoch 23/90  Mem : 7.79GB  LR : 1.00E-03  Loss: 0.4254: 100%|██████████| 642/642\n",
      "Val Loss: 0.4367: 100%|██████████| 58/58 [00:03<00:00, 15.07it/s]               \n"
     ]
    },
    {
     "name": "stdout",
     "output_type": "stream",
     "text": [
      "FBeta : 0.5925\tthresh : 0.55\n",
      "\n"
     ]
    },
    {
     "name": "stderr",
     "output_type": "stream",
     "text": [
      "Epoch 24/90  Mem : 7.79GB  LR : 1.00E-03  Loss: 0.4253: 100%|██████████| 642/642\n",
      "Val Loss: 0.4152: 100%|██████████| 58/58 [00:03<00:00, 15.09it/s]               \n"
     ]
    },
    {
     "name": "stdout",
     "output_type": "stream",
     "text": [
      "FBeta : 0.6101\tthresh : 0.51\tSAVED MODEL\n",
      "\n"
     ]
    },
    {
     "name": "stderr",
     "output_type": "stream",
     "text": [
      "Epoch 25/90  Mem : 7.79GB  LR : 1.00E-03  Loss: 0.4246: 100%|██████████| 642/642\n",
      "Val Loss: 0.4336: 100%|██████████| 58/58 [00:03<00:00, 15.24it/s]               \n"
     ]
    },
    {
     "name": "stdout",
     "output_type": "stream",
     "text": [
      "FBeta : 0.5909\tthresh : 0.15\n",
      "\n"
     ]
    },
    {
     "name": "stderr",
     "output_type": "stream",
     "text": [
      "Epoch 26/90  Mem : 7.79GB  LR : 1.00E-03  Loss: 0.4203: 100%|██████████| 642/642\n",
      "Val Loss: 0.4390: 100%|██████████| 58/58 [00:03<00:00, 15.01it/s]               \n"
     ]
    },
    {
     "name": "stdout",
     "output_type": "stream",
     "text": [
      "FBeta : 0.5922\tthresh : 0.99\n",
      "\n"
     ]
    },
    {
     "name": "stderr",
     "output_type": "stream",
     "text": [
      "Epoch 27/90  Mem : 7.79GB  LR : 1.00E-03  Loss: 0.4233: 100%|██████████| 642/642\n",
      "Val Loss: 0.4290: 100%|██████████| 58/58 [00:03<00:00, 15.15it/s]               \n"
     ]
    },
    {
     "name": "stdout",
     "output_type": "stream",
     "text": [
      "FBeta : 0.5982\tthresh : 0.79\n",
      "\n"
     ]
    },
    {
     "name": "stderr",
     "output_type": "stream",
     "text": [
      "Epoch 28/90  Mem : 7.79GB  LR : 1.00E-03  Loss: 0.4209: 100%|██████████| 642/642\n",
      "Val Loss: 0.4229: 100%|██████████| 58/58 [00:03<00:00, 15.03it/s]               \n"
     ]
    },
    {
     "name": "stdout",
     "output_type": "stream",
     "text": [
      "FBeta : 0.6079\tthresh : 0.01\n",
      "\n"
     ]
    },
    {
     "name": "stderr",
     "output_type": "stream",
     "text": [
      "Epoch 29/90  Mem : 7.79GB  LR : 1.00E-03  Loss: 0.4215: 100%|██████████| 642/642\n",
      "Val Loss: 0.4255: 100%|██████████| 58/58 [00:03<00:00, 14.98it/s]               \n"
     ]
    },
    {
     "name": "stdout",
     "output_type": "stream",
     "text": [
      "FBeta : 0.6055\tthresh : 0.35\n",
      "\n"
     ]
    },
    {
     "name": "stderr",
     "output_type": "stream",
     "text": [
      "Epoch 30/90  Mem : 7.79GB  LR : 1.00E-03  Loss: 0.4189: 100%|██████████| 642/642\n",
      "Val Loss: 0.4215: 100%|██████████| 58/58 [00:03<00:00, 15.14it/s]               \n"
     ]
    },
    {
     "name": "stdout",
     "output_type": "stream",
     "text": [
      "FBeta : 0.6057\tthresh : 0.99\n",
      "\n"
     ]
    },
    {
     "name": "stderr",
     "output_type": "stream",
     "text": [
      "Epoch 31/90  Mem : 7.79GB  LR : 1.00E-03  Loss: 0.4145: 100%|██████████| 642/642\n",
      "Val Loss: 0.4204: 100%|██████████| 58/58 [00:03<00:00, 15.23it/s]               \n"
     ]
    },
    {
     "name": "stdout",
     "output_type": "stream",
     "text": [
      "FBeta : 0.6110\tthresh : 0.07\tSAVED MODEL\n",
      "\n"
     ]
    },
    {
     "name": "stderr",
     "output_type": "stream",
     "text": [
      "Epoch 32/90  Mem : 7.79GB  LR : 1.00E-03  Loss: 0.4168: 100%|██████████| 642/642\n",
      "Val Loss: 0.4080: 100%|██████████| 58/58 [00:03<00:00, 15.27it/s]               \n"
     ]
    },
    {
     "name": "stdout",
     "output_type": "stream",
     "text": [
      "FBeta : 0.6177\tthresh : 0.99\tSAVED MODEL\n",
      "\n"
     ]
    },
    {
     "name": "stderr",
     "output_type": "stream",
     "text": [
      "Epoch 33/90  Mem : 7.79GB  LR : 1.00E-03  Loss: 0.4140: 100%|██████████| 642/642\n",
      "Val Loss: 0.4070: 100%|██████████| 58/58 [00:03<00:00, 15.26it/s]               \n"
     ]
    },
    {
     "name": "stdout",
     "output_type": "stream",
     "text": [
      "FBeta : 0.6213\tthresh : 0.99\tSAVED MODEL\n",
      "\n"
     ]
    },
    {
     "name": "stderr",
     "output_type": "stream",
     "text": [
      "Epoch 34/90  Mem : 7.79GB  LR : 1.00E-03  Loss: 0.4148: 100%|██████████| 642/642\n",
      "Val Loss: 0.4154: 100%|██████████| 58/58 [00:03<00:00, 15.25it/s]               \n"
     ]
    },
    {
     "name": "stdout",
     "output_type": "stream",
     "text": [
      "FBeta : 0.6136\tthresh : 0.99\n",
      "\n"
     ]
    },
    {
     "name": "stderr",
     "output_type": "stream",
     "text": [
      "Epoch 35/90  Mem : 7.79GB  LR : 1.00E-03  Loss: 0.4127: 100%|██████████| 642/642\n",
      "Val Loss: 0.4241: 100%|██████████| 58/58 [00:03<00:00, 15.15it/s]               \n"
     ]
    },
    {
     "name": "stdout",
     "output_type": "stream",
     "text": [
      "FBeta : 0.6066\tthresh : 0.99\n",
      "\n"
     ]
    },
    {
     "name": "stderr",
     "output_type": "stream",
     "text": [
      "Epoch 36/90  Mem : 7.79GB  LR : 1.00E-03  Loss: 0.4118: 100%|██████████| 642/642\n",
      "Val Loss: 0.4115: 100%|██████████| 58/58 [00:03<00:00, 15.03it/s]               \n"
     ]
    },
    {
     "name": "stdout",
     "output_type": "stream",
     "text": [
      "FBeta : 0.6156\tthresh : 0.11\n",
      "\n"
     ]
    },
    {
     "name": "stderr",
     "output_type": "stream",
     "text": [
      "Epoch 37/90  Mem : 7.79GB  LR : 1.00E-03  Loss: 0.4118: 100%|██████████| 642/642\n",
      "Val Loss: 0.4092: 100%|██████████| 58/58 [00:04<00:00, 14.24it/s]               \n"
     ]
    },
    {
     "name": "stdout",
     "output_type": "stream",
     "text": [
      "FBeta : 0.6200\tthresh : 0.01\n",
      "\n"
     ]
    },
    {
     "name": "stderr",
     "output_type": "stream",
     "text": [
      "Epoch 38/90  Mem : 7.79GB  LR : 1.00E-03  Loss: 0.4125: 100%|██████████| 642/642\n",
      "Val Loss: 0.4084: 100%|██████████| 58/58 [00:03<00:00, 15.27it/s]               \n"
     ]
    },
    {
     "name": "stdout",
     "output_type": "stream",
     "text": [
      "FBeta : 0.6187\tthresh : 0.99\n",
      "\n"
     ]
    },
    {
     "name": "stderr",
     "output_type": "stream",
     "text": [
      "Epoch 39/90  Mem : 7.79GB  LR : 1.00E-03  Loss: 0.4080: 100%|██████████| 642/642\n",
      "Val Loss: 0.4122: 100%|██████████| 58/58 [00:03<00:00, 15.19it/s]               \n"
     ]
    },
    {
     "name": "stdout",
     "output_type": "stream",
     "text": [
      "FBeta : 0.6144\tthresh : 0.45\n",
      "\n"
     ]
    },
    {
     "name": "stderr",
     "output_type": "stream",
     "text": [
      "Epoch 40/90  Mem : 7.79GB  LR : 1.00E-03  Loss: 0.4061: 100%|██████████| 642/642\n",
      "Val Loss: 0.4129: 100%|██████████| 58/58 [00:03<00:00, 15.04it/s]               \n"
     ]
    },
    {
     "name": "stdout",
     "output_type": "stream",
     "text": [
      "FBeta : 0.6161\tthresh : 0.07\n",
      "\n"
     ]
    },
    {
     "name": "stderr",
     "output_type": "stream",
     "text": [
      "Epoch 41/90  Mem : 7.79GB  LR : 1.00E-03  Loss: 0.4049: 100%|██████████| 642/642\n",
      "Val Loss: 0.4126: 100%|██████████| 58/58 [00:03<00:00, 15.17it/s]               \n"
     ]
    },
    {
     "name": "stdout",
     "output_type": "stream",
     "text": [
      "FBeta : 0.6146\tthresh : 0.23\n",
      "\n"
     ]
    },
    {
     "name": "stderr",
     "output_type": "stream",
     "text": [
      "Epoch 42/90  Mem : 7.79GB  LR : 1.00E-03  Loss: 0.4063: 100%|██████████| 642/642\n",
      "Val Loss: 0.4077: 100%|██████████| 58/58 [00:03<00:00, 15.24it/s]               \n"
     ]
    },
    {
     "name": "stdout",
     "output_type": "stream",
     "text": [
      "FBeta : 0.6220\tthresh : 0.01\tSAVED MODEL\n",
      "\n"
     ]
    },
    {
     "name": "stderr",
     "output_type": "stream",
     "text": [
      "Epoch 43/90  Mem : 7.79GB  LR : 1.00E-03  Loss: 0.4057: 100%|██████████| 642/642\n",
      "Val Loss: 0.4008: 100%|██████████| 58/58 [00:03<00:00, 15.12it/s]               \n"
     ]
    },
    {
     "name": "stdout",
     "output_type": "stream",
     "text": [
      "FBeta : 0.6248\tthresh : 0.05\tSAVED MODEL\n",
      "\n"
     ]
    },
    {
     "name": "stderr",
     "output_type": "stream",
     "text": [
      "Epoch 44/90  Mem : 7.79GB  LR : 1.00E-03  Loss: 0.4033: 100%|██████████| 642/642\n",
      "Val Loss: 0.4077: 100%|██████████| 58/58 [00:03<00:00, 15.21it/s]               \n"
     ]
    },
    {
     "name": "stdout",
     "output_type": "stream",
     "text": [
      "FBeta : 0.6225\tthresh : 0.97\n",
      "\n"
     ]
    },
    {
     "name": "stderr",
     "output_type": "stream",
     "text": [
      "Epoch 45/90  Mem : 7.79GB  LR : 1.00E-03  Loss: 0.4054: 100%|██████████| 642/642\n",
      "Val Loss: 0.3966: 100%|██████████| 58/58 [00:03<00:00, 15.16it/s]               \n"
     ]
    },
    {
     "name": "stdout",
     "output_type": "stream",
     "text": [
      "FBeta : 0.6314\tthresh : 0.03\tSAVED MODEL\n",
      "\n"
     ]
    },
    {
     "name": "stderr",
     "output_type": "stream",
     "text": [
      "Epoch 46/90  Mem : 7.79GB  LR : 1.00E-03  Loss: 0.4016: 100%|██████████| 642/642\n",
      "Val Loss: 0.3966: 100%|██████████| 58/58 [00:03<00:00, 15.38it/s]               \n"
     ]
    },
    {
     "name": "stdout",
     "output_type": "stream",
     "text": [
      "FBeta : 0.6300\tthresh : 0.87\n",
      "\n"
     ]
    },
    {
     "name": "stderr",
     "output_type": "stream",
     "text": [
      "Epoch 47/90  Mem : 7.79GB  LR : 1.00E-03  Loss: 0.3984: 100%|██████████| 642/642\n",
      "Val Loss: 0.3968: 100%|██████████| 58/58 [00:03<00:00, 15.17it/s]               \n"
     ]
    },
    {
     "name": "stdout",
     "output_type": "stream",
     "text": [
      "FBeta : 0.6314\tthresh : 0.81\tSAVED MODEL\n",
      "\n"
     ]
    },
    {
     "name": "stderr",
     "output_type": "stream",
     "text": [
      "Epoch 48/90  Mem : 7.79GB  LR : 1.00E-03  Loss: 0.3992: 100%|██████████| 642/642\n",
      "Val Loss: 0.3909: 100%|██████████| 58/58 [00:03<00:00, 15.34it/s]               \n"
     ]
    },
    {
     "name": "stdout",
     "output_type": "stream",
     "text": [
      "FBeta : 0.6318\tthresh : 0.67\tSAVED MODEL\n",
      "\n"
     ]
    },
    {
     "name": "stderr",
     "output_type": "stream",
     "text": [
      "Epoch 49/90  Mem : 7.79GB  LR : 1.00E-03  Loss: 0.3980: 100%|██████████| 642/642\n",
      "Val Loss: 0.3997: 100%|██████████| 58/58 [00:03<00:00, 15.24it/s]               \n"
     ]
    },
    {
     "name": "stdout",
     "output_type": "stream",
     "text": [
      "FBeta : 0.6255\tthresh : 0.01\n",
      "\n"
     ]
    },
    {
     "name": "stderr",
     "output_type": "stream",
     "text": [
      "Epoch 50/90  Mem : 7.79GB  LR : 1.00E-03  Loss: 0.3983: 100%|██████████| 642/642\n",
      "Val Loss: 0.3934: 100%|██████████| 58/58 [00:03<00:00, 15.20it/s]               \n"
     ]
    },
    {
     "name": "stdout",
     "output_type": "stream",
     "text": [
      "FBeta : 0.6310\tthresh : 0.59\n",
      "\n"
     ]
    },
    {
     "name": "stderr",
     "output_type": "stream",
     "text": [
      "Epoch 51/90  Mem : 7.79GB  LR : 1.00E-03  Loss: 0.3986: 100%|██████████| 642/642\n",
      "Val Loss: 0.3980: 100%|██████████| 58/58 [00:03<00:00, 14.98it/s]               \n"
     ]
    },
    {
     "name": "stdout",
     "output_type": "stream",
     "text": [
      "FBeta : 0.6276\tthresh : 0.13\n",
      "\n"
     ]
    },
    {
     "name": "stderr",
     "output_type": "stream",
     "text": [
      "Epoch 52/90  Mem : 7.79GB  LR : 1.00E-03  Loss: 0.3942: 100%|██████████| 642/642\n",
      "Val Loss: 0.4003: 100%|██████████| 58/58 [00:03<00:00, 15.34it/s]               \n"
     ]
    },
    {
     "name": "stdout",
     "output_type": "stream",
     "text": [
      "FBeta : 0.6278\tthresh : 0.03\n",
      "\n"
     ]
    },
    {
     "name": "stderr",
     "output_type": "stream",
     "text": [
      "Epoch 53/90  Mem : 7.79GB  LR : 1.00E-03  Loss: 0.3941: 100%|██████████| 642/642\n",
      "Val Loss: 0.3943: 100%|██████████| 58/58 [00:03<00:00, 15.25it/s]               \n"
     ]
    },
    {
     "name": "stdout",
     "output_type": "stream",
     "text": [
      "FBeta : 0.6320\tthresh : 0.47\tSAVED MODEL\n",
      "\n"
     ]
    },
    {
     "name": "stderr",
     "output_type": "stream",
     "text": [
      "Epoch 54/90  Mem : 7.79GB  LR : 1.00E-03  Loss: 0.3955: 100%|██████████| 642/642\n",
      "Val Loss: 0.3865: 100%|██████████| 58/58 [00:03<00:00, 15.23it/s]               \n"
     ]
    },
    {
     "name": "stdout",
     "output_type": "stream",
     "text": [
      "FBeta : 0.6373\tthresh : 0.97\tSAVED MODEL\n",
      "\n"
     ]
    },
    {
     "name": "stderr",
     "output_type": "stream",
     "text": [
      "Epoch 55/90  Mem : 7.79GB  LR : 1.00E-03  Loss: 0.3935: 100%|██████████| 642/642\n",
      "Val Loss: 0.3833: 100%|██████████| 58/58 [00:03<00:00, 15.20it/s]               \n"
     ]
    },
    {
     "name": "stdout",
     "output_type": "stream",
     "text": [
      "FBeta : 0.6396\tthresh : 0.85\tSAVED MODEL\n",
      "\n"
     ]
    },
    {
     "name": "stderr",
     "output_type": "stream",
     "text": [
      "Epoch 56/90  Mem : 7.79GB  LR : 1.00E-03  Loss: 0.3909: 100%|██████████| 642/642\n",
      "Val Loss: 0.3851: 100%|██████████| 58/58 [00:03<00:00, 15.33it/s]               \n"
     ]
    },
    {
     "name": "stdout",
     "output_type": "stream",
     "text": [
      "FBeta : 0.6392\tthresh : 0.67\n",
      "\n"
     ]
    },
    {
     "name": "stderr",
     "output_type": "stream",
     "text": [
      "Epoch 57/90  Mem : 7.79GB  LR : 1.00E-03  Loss: 0.3893: 100%|██████████| 642/642\n",
      "Val Loss: 0.3843: 100%|██████████| 58/58 [00:03<00:00, 15.22it/s]               \n"
     ]
    },
    {
     "name": "stdout",
     "output_type": "stream",
     "text": [
      "FBeta : 0.6391\tthresh : 0.89\n",
      "\n"
     ]
    },
    {
     "name": "stderr",
     "output_type": "stream",
     "text": [
      "Epoch 58/90  Mem : 7.79GB  LR : 1.00E-03  Loss: 0.3893: 100%|██████████| 642/642\n",
      "Val Loss: 0.3892: 100%|██████████| 58/58 [00:03<00:00, 15.22it/s]               \n"
     ]
    },
    {
     "name": "stdout",
     "output_type": "stream",
     "text": [
      "FBeta : 0.6336\tthresh : 0.05\n",
      "\n"
     ]
    },
    {
     "name": "stderr",
     "output_type": "stream",
     "text": [
      "Epoch 59/90  Mem : 7.79GB  LR : 1.00E-03  Loss: 0.3877: 100%|██████████| 642/642\n",
      "Val Loss: 0.3858: 100%|██████████| 58/58 [00:03<00:00, 15.26it/s]               \n"
     ]
    },
    {
     "name": "stdout",
     "output_type": "stream",
     "text": [
      "FBeta : 0.6380\tthresh : 0.95\n",
      "\n"
     ]
    },
    {
     "name": "stderr",
     "output_type": "stream",
     "text": [
      "Epoch 60/90  Mem : 7.79GB  LR : 1.00E-03  Loss: 0.3883: 100%|██████████| 642/642\n",
      "Val Loss: 0.3862: 100%|██████████| 58/58 [00:03<00:00, 15.28it/s]               \n"
     ]
    },
    {
     "name": "stdout",
     "output_type": "stream",
     "text": [
      "FBeta : 0.6375\tthresh : 0.05\n",
      "\n"
     ]
    },
    {
     "name": "stderr",
     "output_type": "stream",
     "text": [
      "Epoch 61/90  Mem : 7.79GB  LR : 1.00E-03  Loss: 0.3869: 100%|██████████| 642/642\n",
      "Val Loss: 0.3840: 100%|██████████| 58/58 [00:03<00:00, 14.91it/s]               \n"
     ]
    },
    {
     "name": "stdout",
     "output_type": "stream",
     "text": [
      "FBeta : 0.6407\tthresh : 0.89\tSAVED MODEL\n",
      "\n"
     ]
    },
    {
     "name": "stderr",
     "output_type": "stream",
     "text": [
      "Epoch 62/90  Mem : 7.79GB  LR : 1.00E-03  Loss: 0.3843: 100%|██████████| 642/642\n",
      "Val Loss: 0.3945: 100%|██████████| 58/58 [00:03<00:00, 14.71it/s]               \n"
     ]
    },
    {
     "name": "stdout",
     "output_type": "stream",
     "text": [
      "FBeta : 0.6316\tthresh : 0.49\n",
      "\n"
     ]
    },
    {
     "name": "stderr",
     "output_type": "stream",
     "text": [
      "Epoch 63/90  Mem : 7.79GB  LR : 1.00E-03  Loss: 0.3835: 100%|██████████| 642/642\n",
      "Val Loss: 0.3820: 100%|██████████| 58/58 [00:03<00:00, 14.95it/s]               \n"
     ]
    },
    {
     "name": "stdout",
     "output_type": "stream",
     "text": [
      "FBeta : 0.6428\tthresh : 0.11\tSAVED MODEL\n",
      "\n"
     ]
    },
    {
     "name": "stderr",
     "output_type": "stream",
     "text": [
      "Epoch 64/90  Mem : 7.79GB  LR : 1.00E-03  Loss: 0.3828: 100%|██████████| 642/642\n",
      "Val Loss: 0.3833: 100%|██████████| 58/58 [00:03<00:00, 14.96it/s]               \n"
     ]
    },
    {
     "name": "stdout",
     "output_type": "stream",
     "text": [
      "FBeta : 0.6419\tthresh : 0.03\n",
      "\n"
     ]
    },
    {
     "name": "stderr",
     "output_type": "stream",
     "text": [
      "Epoch 65/90  Mem : 7.79GB  LR : 1.00E-03  Loss: 0.3829: 100%|██████████| 642/642\n",
      "Val Loss: 0.3798: 100%|██████████| 58/58 [00:03<00:00, 14.86it/s]               \n"
     ]
    },
    {
     "name": "stdout",
     "output_type": "stream",
     "text": [
      "FBeta : 0.6420\tthresh : 0.79\n",
      "\n"
     ]
    },
    {
     "name": "stderr",
     "output_type": "stream",
     "text": [
      "Epoch 66/90  Mem : 7.79GB  LR : 1.00E-03  Loss: 0.3821: 100%|██████████| 642/642\n",
      "Val Loss: 0.3898: 100%|██████████| 58/58 [00:03<00:00, 14.85it/s]               \n"
     ]
    },
    {
     "name": "stdout",
     "output_type": "stream",
     "text": [
      "FBeta : 0.6344\tthresh : 0.01\n",
      "\n"
     ]
    },
    {
     "name": "stderr",
     "output_type": "stream",
     "text": [
      "Epoch 67/90  Mem : 7.79GB  LR : 1.00E-03  Loss: 0.3809: 100%|██████████| 642/642\n",
      "Val Loss: 0.3857: 100%|██████████| 58/58 [00:03<00:00, 14.82it/s]               \n"
     ]
    },
    {
     "name": "stdout",
     "output_type": "stream",
     "text": [
      "FBeta : 0.6376\tthresh : 0.03\n",
      "\n"
     ]
    },
    {
     "name": "stderr",
     "output_type": "stream",
     "text": [
      "Epoch 68/90  Mem : 7.79GB  LR : 1.00E-03  Loss: 0.3768: 100%|██████████| 642/642\n",
      "Val Loss: 0.3825: 100%|██████████| 58/58 [00:03<00:00, 14.99it/s]               \n"
     ]
    },
    {
     "name": "stdout",
     "output_type": "stream",
     "text": [
      "FBeta : 0.6416\tthresh : 0.01\n",
      "\n"
     ]
    },
    {
     "name": "stderr",
     "output_type": "stream",
     "text": [
      "Epoch 69/90  Mem : 7.79GB  LR : 1.00E-03  Loss: 0.3780: 100%|██████████| 642/642\n",
      "Val Loss: 0.3863: 100%|██████████| 58/58 [00:03<00:00, 15.05it/s]               \n"
     ]
    },
    {
     "name": "stdout",
     "output_type": "stream",
     "text": [
      "FBeta : 0.6393\tthresh : 0.05\n",
      "\n"
     ]
    },
    {
     "name": "stderr",
     "output_type": "stream",
     "text": [
      "Epoch 70/90  Mem : 7.79GB  LR : 1.00E-03  Loss: 0.3786: 100%|██████████| 642/642\n",
      "Val Loss: 0.3811: 100%|██████████| 58/58 [00:03<00:00, 15.06it/s]               \n"
     ]
    },
    {
     "name": "stdout",
     "output_type": "stream",
     "text": [
      "FBeta : 0.6420\tthresh : 0.27\n",
      "\n"
     ]
    },
    {
     "name": "stderr",
     "output_type": "stream",
     "text": [
      "Epoch 71/90  Mem : 7.79GB  LR : 1.00E-03  Loss: 0.3764: 100%|██████████| 642/642\n",
      "Val Loss: 0.3801: 100%|██████████| 58/58 [00:03<00:00, 15.20it/s]               \n"
     ]
    },
    {
     "name": "stdout",
     "output_type": "stream",
     "text": [
      "FBeta : 0.6425\tthresh : 0.11\n",
      "\n"
     ]
    },
    {
     "name": "stderr",
     "output_type": "stream",
     "text": [
      "Epoch 72/90  Mem : 7.79GB  LR : 1.00E-03  Loss: 0.3773: 100%|██████████| 642/642\n",
      "Val Loss: 0.3802: 100%|██████████| 58/58 [00:03<00:00, 15.15it/s]               \n"
     ]
    },
    {
     "name": "stdout",
     "output_type": "stream",
     "text": [
      "FBeta : 0.6441\tthresh : 0.03\tSAVED MODEL\n",
      "\n"
     ]
    },
    {
     "name": "stderr",
     "output_type": "stream",
     "text": [
      "Epoch 73/90  Mem : 7.79GB  LR : 1.00E-03  Loss: 0.3750: 100%|██████████| 642/642\n",
      "Val Loss: 0.3813: 100%|██████████| 58/58 [00:03<00:00, 15.21it/s]               \n"
     ]
    },
    {
     "name": "stdout",
     "output_type": "stream",
     "text": [
      "FBeta : 0.6439\tthresh : 0.49\n",
      "\n"
     ]
    },
    {
     "name": "stderr",
     "output_type": "stream",
     "text": [
      "Epoch 74/90  Mem : 7.79GB  LR : 1.00E-03  Loss: 0.3750: 100%|██████████| 642/642\n",
      "Val Loss: 0.3841: 100%|██████████| 58/58 [00:03<00:00, 15.11it/s]               \n"
     ]
    },
    {
     "name": "stdout",
     "output_type": "stream",
     "text": [
      "FBeta : 0.6393\tthresh : 0.13\n",
      "\n"
     ]
    },
    {
     "name": "stderr",
     "output_type": "stream",
     "text": [
      "Epoch 75/90  Mem : 7.79GB  LR : 1.00E-03  Loss: 0.3739: 100%|██████████| 642/642\n",
      "Val Loss: 0.3787: 100%|██████████| 58/58 [00:03<00:00, 15.23it/s]               \n"
     ]
    },
    {
     "name": "stdout",
     "output_type": "stream",
     "text": [
      "FBeta : 0.6443\tthresh : 0.85\tSAVED MODEL\n",
      "\n"
     ]
    },
    {
     "name": "stderr",
     "output_type": "stream",
     "text": [
      "Epoch 76/90  Mem : 7.79GB  LR : 1.00E-03  Loss: 0.3765: 100%|██████████| 642/642\n",
      "Val Loss: 0.3792: 100%|██████████| 58/58 [00:03<00:00, 15.23it/s]               \n"
     ]
    },
    {
     "name": "stdout",
     "output_type": "stream",
     "text": [
      "FBeta : 0.6441\tthresh : 0.25\n",
      "\n"
     ]
    },
    {
     "name": "stderr",
     "output_type": "stream",
     "text": [
      "Epoch 77/90  Mem : 7.79GB  LR : 1.00E-03  Loss: 0.3729: 100%|██████████| 642/642\n",
      "Val Loss: 0.3756: 100%|██████████| 58/58 [00:03<00:00, 15.24it/s]               \n"
     ]
    },
    {
     "name": "stdout",
     "output_type": "stream",
     "text": [
      "FBeta : 0.6471\tthresh : 0.55\tSAVED MODEL\n",
      "\n"
     ]
    },
    {
     "name": "stderr",
     "output_type": "stream",
     "text": [
      "Epoch 78/90  Mem : 7.79GB  LR : 1.00E-03  Loss: 0.3726: 100%|██████████| 642/642\n",
      "Val Loss: 0.3751: 100%|██████████| 58/58 [00:03<00:00, 15.15it/s]               \n"
     ]
    },
    {
     "name": "stdout",
     "output_type": "stream",
     "text": [
      "FBeta : 0.6477\tthresh : 0.17\tSAVED MODEL\n",
      "\n"
     ]
    },
    {
     "name": "stderr",
     "output_type": "stream",
     "text": [
      "Epoch 79/90  Mem : 7.79GB  LR : 1.00E-03  Loss: 0.3731: 100%|██████████| 642/642\n",
      "Val Loss: 0.3760: 100%|██████████| 58/58 [00:03<00:00, 15.27it/s]               \n"
     ]
    },
    {
     "name": "stdout",
     "output_type": "stream",
     "text": [
      "FBeta : 0.6476\tthresh : 0.07\n",
      "\n"
     ]
    },
    {
     "name": "stderr",
     "output_type": "stream",
     "text": [
      "Epoch 80/90  Mem : 7.79GB  LR : 1.00E-03  Loss: 0.3717: 100%|██████████| 642/642\n",
      "Val Loss: 0.3758: 100%|██████████| 58/58 [00:03<00:00, 15.16it/s]               \n"
     ]
    },
    {
     "name": "stdout",
     "output_type": "stream",
     "text": [
      "FBeta : 0.6473\tthresh : 0.11\n",
      "\n"
     ]
    },
    {
     "name": "stderr",
     "output_type": "stream",
     "text": [
      "Epoch 81/90  Mem : 7.79GB  LR : 1.00E-03  Loss: 0.3708: 100%|██████████| 642/642\n",
      "Val Loss: 0.3745: 100%|██████████| 58/58 [00:03<00:00, 15.14it/s]               \n"
     ]
    },
    {
     "name": "stdout",
     "output_type": "stream",
     "text": [
      "FBeta : 0.6482\tthresh : 0.31\tSAVED MODEL\n",
      "\n"
     ]
    },
    {
     "name": "stderr",
     "output_type": "stream",
     "text": [
      "Epoch 82/90  Mem : 7.79GB  LR : 1.00E-03  Loss: 0.3717: 100%|██████████| 642/642\n",
      "Val Loss: 0.3744: 100%|██████████| 58/58 [00:03<00:00, 15.16it/s]               \n"
     ]
    },
    {
     "name": "stdout",
     "output_type": "stream",
     "text": [
      "FBeta : 0.6489\tthresh : 0.45\tSAVED MODEL\n",
      "\n"
     ]
    },
    {
     "name": "stderr",
     "output_type": "stream",
     "text": [
      "Epoch 83/90  Mem : 7.79GB  LR : 1.00E-03  Loss: 0.3712: 100%|██████████| 642/642\n",
      "Val Loss: 0.3765: 100%|██████████| 58/58 [00:03<00:00, 15.12it/s]               \n"
     ]
    },
    {
     "name": "stdout",
     "output_type": "stream",
     "text": [
      "FBeta : 0.6479\tthresh : 0.69\n",
      "\n"
     ]
    },
    {
     "name": "stderr",
     "output_type": "stream",
     "text": [
      "Epoch 84/90  Mem : 7.79GB  LR : 1.00E-03  Loss: 0.3709: 100%|██████████| 642/642\n",
      "Val Loss: 0.3765: 100%|██████████| 58/58 [00:03<00:00, 15.18it/s]               \n"
     ]
    },
    {
     "name": "stdout",
     "output_type": "stream",
     "text": [
      "FBeta : 0.6475\tthresh : 0.19\n",
      "\n"
     ]
    },
    {
     "name": "stderr",
     "output_type": "stream",
     "text": [
      "Epoch 85/90  Mem : 7.79GB  LR : 1.00E-03  Loss: 0.3714: 100%|██████████| 642/642\n",
      "Val Loss: 0.3755: 100%|██████████| 58/58 [00:03<00:00, 14.99it/s]               \n"
     ]
    },
    {
     "name": "stdout",
     "output_type": "stream",
     "text": [
      "FBeta : 0.6486\tthresh : 0.09\n",
      "\n"
     ]
    },
    {
     "name": "stderr",
     "output_type": "stream",
     "text": [
      "Epoch 86/90  Mem : 7.79GB  LR : 1.00E-03  Loss: 0.3706: 100%|██████████| 642/642\n",
      "Val Loss: 0.3766: 100%|██████████| 58/58 [00:03<00:00, 15.17it/s]               \n"
     ]
    },
    {
     "name": "stdout",
     "output_type": "stream",
     "text": [
      "FBeta : 0.6476\tthresh : 0.25\n",
      "\n"
     ]
    },
    {
     "name": "stderr",
     "output_type": "stream",
     "text": [
      "Epoch 87/90  Mem : 7.79GB  LR : 1.00E-03  Loss: 0.3700: 100%|██████████| 642/642\n",
      "Val Loss: 0.3760: 100%|██████████| 58/58 [00:03<00:00, 15.22it/s]               \n"
     ]
    },
    {
     "name": "stdout",
     "output_type": "stream",
     "text": [
      "FBeta : 0.6478\tthresh : 0.51\n",
      "\n"
     ]
    },
    {
     "name": "stderr",
     "output_type": "stream",
     "text": [
      "Epoch 88/90  Mem : 7.79GB  LR : 1.00E-03  Loss: 0.3717: 100%|██████████| 642/642\n",
      "Val Loss: 0.3763: 100%|██████████| 58/58 [00:03<00:00, 15.11it/s]               \n"
     ]
    },
    {
     "name": "stdout",
     "output_type": "stream",
     "text": [
      "FBeta : 0.6479\tthresh : 0.59\n",
      "\n"
     ]
    },
    {
     "name": "stderr",
     "output_type": "stream",
     "text": [
      "Epoch 89/90  Mem : 7.79GB  LR : 1.00E-03  Loss: 0.3714: 100%|██████████| 642/642\n",
      "Val Loss: 0.3757: 100%|██████████| 58/58 [00:03<00:00, 15.08it/s]               \n"
     ]
    },
    {
     "name": "stdout",
     "output_type": "stream",
     "text": [
      "FBeta : 0.6483\tthresh : 0.73\n",
      "\n",
      "{\"status\":200,\"message\":\"ok\"}"
     ]
    }
   ],
   "source": [
    "if CFG.debug:\n",
    "    print(\"!!!Debug mode!!!\\n\")\n",
    "\n",
    "dice_score=0\n",
    "for epoch in range(CFG.epochs):\n",
    "    model.train()\n",
    "    \n",
    "    pbar_train = enumerate(dataloader_train)\n",
    "    pbar_train = tqdm(pbar_train, total=len(dataloader_train), bar_format=\"{l_bar}{bar:10}{r_bar}{bar:-0b}\")\n",
    "    loss_train, loss_val= 0.0, 0.0\n",
    "    for i, (images, masks) in pbar_train:\n",
    "        images, masks = images.cuda(), masks.cuda()\n",
    "        optimizer.zero_grad()\n",
    "        with amp.autocast():\n",
    "            preds = model(images)\n",
    "            loss = criterion(preds, masks)\n",
    "            scaler.scale(loss).backward()\n",
    "            scaler.step(optimizer)\n",
    "            scaler.update()\n",
    "            loss_train += loss.detach().item()\n",
    "        \n",
    "        lr = f\"LR : {scheduler.get_last_lr()[0]:.2E}\"\n",
    "        gpu_mem = f\"Mem : {torch.cuda.memory_reserved() / 1E9:.3g}GB\"\n",
    "        pbar_train.set_description((\"%10s  \" * 3 + \"%10s\") % (f\"Epoch {epoch}/{CFG.epochs}\", gpu_mem, lr,\n",
    "                                                                f\"Loss: {loss_train / (i + 1):.4f}\"))\n",
    "\n",
    "    scheduler.step()\n",
    "    model.eval()\n",
    "    \n",
    "    cum_pred = []\n",
    "    cum_true = []\n",
    "    pbar_val = enumerate(dataloader_valid)\n",
    "    pbar_val = tqdm(pbar_val, total=len(dataloader_valid), bar_format=\"{l_bar}{bar:10}{r_bar}{bar:-10b}\")\n",
    "    for i, (images, masks) in pbar_val:\n",
    "        images, masks = images.cuda(), masks.cuda()\n",
    "        with torch.no_grad():\n",
    "            preds = model(images)\n",
    "            loss_val += criterion(preds, masks).item()\n",
    "            preds = torch.sigmoid(preds)\n",
    "            cum_pred.append(preds.cpu().detach().numpy())\n",
    "            cum_true.append(masks.cpu().detach().numpy())\n",
    "\n",
    "        pbar_val.set_description((\"%10s\") % (f\"Val Loss: {loss_val / (i+1):.4f}\"))\n",
    "    \n",
    "    cum_pred = torch.flatten(torch.from_numpy(np.concatenate(cum_pred, axis=0)))\n",
    "    cum_true = torch.flatten(torch.from_numpy(np.concatenate(cum_true, axis=0)))\n",
    "    \n",
    "    dice_score_, thresh = calc_optim_thresh(cum_pred, cum_true, thresholds_to_test)\n",
    "    \n",
    "    if dice_score_ > dice_score:\n",
    "        print(f\"FBeta : {dice_score_:.4f}\\tthresh : {thresh}\\tSAVED MODEL\\n\")\n",
    "        epoch_best=epoch\n",
    "        dice_score =dice_score_\n",
    "        torch.save({'model': model.module.state_dict(), 'dice_score': dice_score, 'thresh': thresh,\n",
    "                    \"model_arch\":CFG.model_arch, \"backbone\":CFG.backbone,\"in_chans\":CFG.in_chans,\"target_size\":CFG.target_size,},\n",
    "                    f'./{CFG.exp_name}/{CFG.exp_name}.pth')\n",
    "    else:\n",
    "        print(f\"FBeta : {dice_score_:.4f}\\tthresh : {thresh}\\n\")\n",
    "    \n",
    "    if epoch-epoch_best>=CFG.epochs_patience:\n",
    "        print('Early Stopping')\n",
    "        break\n",
    "        \n",
    "!curl -X POST -H 'Authorization: Bearer '$LINE -F 'message=セルの実行が終わりました！{dice_score}' https://notify-api.line.me/api/notify\n"
   ]
  },
  {
   "cell_type": "code",
   "execution_count": 10,
   "metadata": {
    "execution": {
     "iopub.execute_input": "2023-06-28T03:02:39.924290Z",
     "iopub.status.busy": "2023-06-28T03:02:39.923841Z",
     "iopub.status.idle": "2023-06-28T03:02:40.587461Z",
     "shell.execute_reply": "2023-06-28T03:02:40.586718Z"
    }
   },
   "outputs": [
    {
     "name": "stdout",
     "output_type": "stream",
     "text": [
      "model_arch:  Unet\n",
      "backbone:  timm-resnest26d\n",
      "0.6489\n"
     ]
    }
   ],
   "source": [
    "pth = torch.load(f'./{CFG.exp_name}/{CFG.exp_name}.pth')\n",
    "\n",
    "model = build_model(pth[\"model_arch\"], pth[\"backbone\"], pth[\"in_chans\"], pth[\"target_size\"], weight=None)\n",
    "model.load_state_dict(pth['model'])\n",
    "thresh = pth['thresh']\n",
    "dice_score = pth['dice_score']\n",
    "print(f\"{dice_score:.4f}\")\n",
    "\n",
    "model.to(device)\n",
    "model.eval();\n"
   ]
  },
  {
   "cell_type": "code",
   "execution_count": 11,
   "metadata": {
    "execution": {
     "iopub.execute_input": "2023-06-28T03:02:40.590003Z",
     "iopub.status.busy": "2023-06-28T03:02:40.589476Z",
     "iopub.status.idle": "2023-06-28T03:02:40.592762Z",
     "shell.execute_reply": "2023-06-28T03:02:40.592163Z"
    }
   },
   "outputs": [],
   "source": [
    "# for i, (images, masks) in enumerate(dataloader_valid):\n",
    "#     if i!=1: continue\n",
    "    \n",
    "#     images, masks = images.cuda(), masks.cuda()\n",
    "#     with torch.no_grad():\n",
    "#         preds = model(images)\n",
    "#         preds = torch.sigmoid(preds)\n",
    "#     images, masks, preds = images.cpu(), masks.cpu(), preds.cpu()\n",
    "    \n",
    "#     for num in range(CFG.valid_batch_size):\n",
    "#         fig, axes = plt.subplots(nrows=1, ncols=4, figsize=(20,5))\n",
    "#         axes = axes.flatten()\n",
    "#         axes[0].imshow(images[num].permute(1,2,0))\n",
    "#         axes[0].axis('off')\n",
    "#         axes[0].set_title('Image')\n",
    "#         axes[1].imshow(masks[num].permute(1,2,0))\n",
    "#         axes[1].axis('off')\n",
    "#         axes[1].set_title('Ground Truth')\n",
    "#         axes[2].imshow(preds[num].permute(1,2,0))\n",
    "#         axes[2].axis('off')\n",
    "#         axes[2].set_title('pred')\n",
    "#         axes[3].imshow((preds[num]>thresh).permute(1,2,0))\n",
    "#         axes[3].axis('off')\n",
    "#         axes[3].set_title('pred_thresh')\n",
    "#     break"
   ]
  },
  {
   "cell_type": "code",
   "execution_count": null,
   "metadata": {},
   "outputs": [],
   "source": []
  },
  {
   "cell_type": "code",
   "execution_count": null,
   "metadata": {},
   "outputs": [],
   "source": []
  }
 ],
 "metadata": {
  "kernelspec": {
   "display_name": "Python 3",
   "language": "python",
   "name": "python3"
  },
  "language_info": {
   "codemirror_mode": {
    "name": "ipython",
    "version": 3
   },
   "file_extension": ".py",
   "mimetype": "text/x-python",
   "name": "python",
   "nbconvert_exporter": "python",
   "pygments_lexer": "ipython3",
   "version": "3.10.11"
  }
 },
 "nbformat": 4,
 "nbformat_minor": 4
}

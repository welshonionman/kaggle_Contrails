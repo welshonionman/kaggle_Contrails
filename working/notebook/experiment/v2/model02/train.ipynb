{
 "cells": [
  {
   "cell_type": "code",
   "execution_count": 1,
   "metadata": {
    "execution": {
     "iopub.execute_input": "2023-06-25T17:05:02.242239Z",
     "iopub.status.busy": "2023-06-25T17:05:02.242013Z",
     "iopub.status.idle": "2023-06-25T17:05:05.614480Z",
     "shell.execute_reply": "2023-06-25T17:05:05.613993Z"
    }
   },
   "outputs": [],
   "source": [
    "import gc\n",
    "import os\n",
    "import sys\n",
    "import warnings\n",
    "from glob import glob\n",
    "import matplotlib.pyplot as plt\n",
    "\n",
    "import albumentations as A\n",
    "from albumentations.pytorch import ToTensorV2\n",
    "import pandas as pd\n",
    "import torch\n",
    "import torch.nn as nn\n",
    "import torch.nn.functional as F\n",
    "from torch.utils.data import DataLoader\n",
    "import segmentation_models_pytorch as smp\n",
    "from torch.cuda import amp\n",
    "from tqdm import tqdm"
   ]
  },
  {
   "cell_type": "code",
   "execution_count": 2,
   "metadata": {
    "execution": {
     "iopub.execute_input": "2023-06-25T17:05:05.616416Z",
     "iopub.status.busy": "2023-06-25T17:05:05.616187Z",
     "iopub.status.idle": "2023-06-25T17:05:05.698308Z",
     "shell.execute_reply": "2023-06-25T17:05:05.697762Z"
    }
   },
   "outputs": [],
   "source": [
    "sys.path.append('../')\n",
    "from script.metrics import *\n",
    "from script.dataset import *\n",
    "from script.helper import *\n",
    "from script.scheduler import *\n",
    "from script.loss import *"
   ]
  },
  {
   "attachments": {},
   "cell_type": "markdown",
   "metadata": {},
   "source": [
    "### Config"
   ]
  },
  {
   "cell_type": "code",
   "execution_count": 3,
   "metadata": {
    "execution": {
     "iopub.execute_input": "2023-06-25T17:05:05.700318Z",
     "iopub.status.busy": "2023-06-25T17:05:05.700081Z",
     "iopub.status.idle": "2023-06-25T17:05:05.730374Z",
     "shell.execute_reply": "2023-06-25T17:05:05.729912Z"
    }
   },
   "outputs": [],
   "source": [
    "class CFG:\n",
    "    debug = False\n",
    "    # ============== comp exp name =============\n",
    "    comp_name = 'contrail'\n",
    "    comp_dir_path = '/kaggle/input/'\n",
    "    comp_folder_name = 'google-research-identify-contrails-reduce-global-warming'\n",
    "\n",
    "    dataset_path = \"/kaggle/working/dataset_train/ash_color/\"\n",
    "\n",
    "    exp_name = os.getcwd().split('/')[-1]\n",
    "\n",
    "    # ============== model cfg =============\n",
    "    model_arch = 'Unet'\n",
    "    backbone = 'efficientnet-b0'\n",
    "    in_chans = 3\n",
    "    target_size = 1\n",
    "\n",
    "    # ============== training cfg =============\n",
    "    train_batch_size = 32\n",
    "    valid_batch_size = train_batch_size\n",
    "\n",
    "    epochs = 90\n",
    "    epochs_patience = 12\n",
    "\n",
    "    lr = 1e-4\n",
    "    loss = \"DiceLoss\"\n",
    "\n",
    "    # ============== fixed =============\n",
    "    num_workers = 4\n",
    "    seed = 42\n",
    "\n",
    "    # ============== augmentation =============\n",
    "    train_aug_list = [\n",
    "        A.RandomRotate90(),\n",
    "        A.RandomBrightnessContrast(),\n",
    "        A.ShiftScaleRotate(p=0.5,rotate_limit=(10,10)),\n",
    "        A.GridDistortion(num_steps=5, distort_limit=0.3, p=0.5),\n",
    "        A.CoarseDropout(max_holes=10, max_width=int(256 * 0.05), max_height=int(256 * 0.05),\n",
    "                        mask_fill_value=0, p=0.5),\n",
    "        A.RandomGridShuffle(),\n",
    "        ToTensorV2(transpose_mask=True),\n",
    "    ]\n",
    "\n",
    "    valid_aug_list = [\n",
    "        ToTensorV2(transpose_mask=True),\n",
    "    ]\n",
    "\n",
    "\n",
    "warnings.filterwarnings(\"ignore\")\n",
    "torch.backends.cudnn.benchmark = True\n",
    "device = torch.device('cuda' if torch.cuda.is_available() else 'cpu')\n",
    "set_seed(CFG.seed)\n",
    "os.makedirs(f'./{CFG.exp_name}/', exist_ok=True)"
   ]
  },
  {
   "attachments": {},
   "cell_type": "markdown",
   "metadata": {},
   "source": [
    "# Dataset"
   ]
  },
  {
   "cell_type": "code",
   "execution_count": 4,
   "metadata": {
    "execution": {
     "iopub.execute_input": "2023-06-25T17:05:05.732159Z",
     "iopub.status.busy": "2023-06-25T17:05:05.731868Z",
     "iopub.status.idle": "2023-06-25T17:05:05.771623Z",
     "shell.execute_reply": "2023-06-25T17:05:05.771145Z"
    }
   },
   "outputs": [
    {
     "data": {
      "text/plain": [
       "((20529, 2), (1856, 2))"
      ]
     },
     "execution_count": 4,
     "metadata": {},
     "output_type": "execute_result"
    }
   ],
   "source": [
    "train_df = pd.read_csv(f\"{CFG.dataset_path}/train_df.csv\")\n",
    "valid_df = pd.read_csv(f\"{CFG.dataset_path}/validation_df.csv\")\n",
    "\n",
    "if CFG.debug:\n",
    "    train_df=train_df[:2000]\n",
    "    valid_df=valid_df[:2000]\n",
    "train_df.shape, valid_df.shape"
   ]
  },
  {
   "cell_type": "code",
   "execution_count": 5,
   "metadata": {
    "execution": {
     "iopub.execute_input": "2023-06-25T17:05:05.790640Z",
     "iopub.status.busy": "2023-06-25T17:05:05.790462Z",
     "iopub.status.idle": "2023-06-25T17:05:05.869805Z",
     "shell.execute_reply": "2023-06-25T17:05:05.869304Z"
    }
   },
   "outputs": [
    {
     "name": "stdout",
     "output_type": "stream",
     "text": [
      "\n",
      "len(dataset_train) = 20529\n",
      "train_image_shape : torch.Size([3, 256, 256])\n",
      "train_mask_shape  : torch.Size([1, 256, 256])\n",
      "train_image_dtype : torch.float32\n",
      "train_mask_dtype : torch.float32\n",
      "\n",
      "len(dataset_valid) = 1856\n",
      "valid_image_shape : torch.Size([3, 256, 256])\n",
      "valid_mask_shape  : torch.Size([1, 256, 256])\n",
      "valid_image_dtype : torch.float32\n",
      "valid_mask_dtype : torch.float32\n",
      "\n"
     ]
    }
   ],
   "source": [
    "dataset_train = ContrailsDataset(train_df, CFG.train_aug_list)\n",
    "dataset_valid = ContrailsDataset(valid_df, CFG.valid_aug_list)\n",
    "\n",
    "dataloader_train = DataLoader(dataset_train, batch_size=CFG.train_batch_size , shuffle=True, num_workers = CFG.num_workers)\n",
    "dataloader_valid = DataLoader(dataset_valid, batch_size=CFG.valid_batch_size, num_workers = CFG.num_workers)\n",
    "\n",
    "print(f\"\"\"\n",
    "{len(dataset_train) = }\n",
    "train_image_shape : {dataset_train[0][0].shape}\n",
    "train_mask_shape  : {dataset_train[0][1].shape}\n",
    "train_image_dtype : {dataset_train[0][0].dtype}\n",
    "train_mask_dtype : {dataset_train[0][1].dtype}\n",
    "\n",
    "{len(dataset_valid) = }\n",
    "valid_image_shape : {dataset_valid[0][0].shape}\n",
    "valid_mask_shape  : {dataset_valid[0][1].shape}\n",
    "valid_image_dtype : {dataset_valid[0][0].dtype}\n",
    "valid_mask_dtype : {dataset_valid[0][1].dtype}\n",
    "\"\"\")\n",
    "\n",
    "# show_dataset(112, dataset_train)"
   ]
  },
  {
   "attachments": {},
   "cell_type": "markdown",
   "metadata": {},
   "source": [
    "# Model"
   ]
  },
  {
   "cell_type": "code",
   "execution_count": 6,
   "metadata": {
    "execution": {
     "iopub.execute_input": "2023-06-25T17:05:05.871595Z",
     "iopub.status.busy": "2023-06-25T17:05:05.871447Z",
     "iopub.status.idle": "2023-06-25T17:05:06.946935Z",
     "shell.execute_reply": "2023-06-25T17:05:06.946379Z"
    }
   },
   "outputs": [
    {
     "name": "stdout",
     "output_type": "stream",
     "text": [
      "model_arch:  Unet\n",
      "backbone:  efficientnet-b0\n"
     ]
    }
   ],
   "source": [
    "class CustomModel(nn.Module):\n",
    "    def __init__(self,model_arch, backbone, in_chans, target_size, weight):\n",
    "        super().__init__()\n",
    "\n",
    "        self.model = smp.create_model(\n",
    "            model_arch,\n",
    "            encoder_name=backbone,\n",
    "            encoder_weights=weight,\n",
    "            in_channels=in_chans,\n",
    "            classes=target_size,\n",
    "            activation=None,\n",
    "        )\n",
    "        \n",
    "    def forward(self, image):\n",
    "        output = self.model(image)\n",
    "        return output\n",
    "\n",
    "\n",
    "def build_model(model_arch, backbone, in_chans, target_size, weight=\"imagenet\"):\n",
    "    print('model_arch: ', model_arch)\n",
    "    print('backbone: ', backbone)\n",
    "    model = CustomModel(model_arch, backbone, in_chans, target_size, weight)\n",
    "    return model\n",
    "\n",
    "\n",
    "num_gpus = torch.cuda.device_count()\n",
    "device_ids = list(range(num_gpus))\n",
    "\n",
    "model = build_model(CFG.model_arch, CFG.backbone, CFG.in_chans, CFG.target_size)\n",
    "model = nn.DataParallel(model, device_ids=device_ids)\n",
    "model.to(device);"
   ]
  },
  {
   "cell_type": "code",
   "execution_count": 7,
   "metadata": {
    "execution": {
     "iopub.execute_input": "2023-06-25T17:05:06.949195Z",
     "iopub.status.busy": "2023-06-25T17:05:06.948747Z",
     "iopub.status.idle": "2023-06-25T17:05:06.952393Z",
     "shell.execute_reply": "2023-06-25T17:05:06.951910Z"
    }
   },
   "outputs": [],
   "source": [
    "scaler = amp.GradScaler()\n",
    "criterion = get_lossfn(CFG)\n",
    "optimizer = torch.optim.AdamW(model.parameters(), lr=CFG.lr)\n",
    "scheduler = get_scheduler(CFG, optimizer)\n",
    "\n",
    "thresholds_to_test = [round(x * 0.01, 2) for x in range(1, 101, 2)]"
   ]
  },
  {
   "attachments": {},
   "cell_type": "markdown",
   "metadata": {},
   "source": [
    "# Training"
   ]
  },
  {
   "cell_type": "code",
   "execution_count": 8,
   "metadata": {
    "execution": {
     "iopub.execute_input": "2023-06-25T17:05:06.954096Z",
     "iopub.status.busy": "2023-06-25T17:05:06.953881Z",
     "iopub.status.idle": "2023-06-25T19:04:39.656961Z",
     "shell.execute_reply": "2023-06-25T19:04:39.656059Z"
    }
   },
   "outputs": [
    {
     "name": "stderr",
     "output_type": "stream",
     "text": [
      "Epoch 0/90  Mem : 3.56GB  LR : 1.00E-04  Loss: 0.8387: 100%|██████████| 642/642 \n",
      "Val Loss: 0.7071: 100%|██████████| 58/58 [00:04<00:00, 13.01it/s]               \n"
     ]
    },
    {
     "name": "stdout",
     "output_type": "stream",
     "text": [
      "FBeta : 0.4515\tthresh : 0.65\tSAVED MODEL\n",
      "\n"
     ]
    },
    {
     "name": "stderr",
     "output_type": "stream",
     "text": [
      "Epoch 1/90  Mem : 3.76GB  LR : 1.00E-03  Loss: 0.5528: 100%|██████████| 642/642 \n",
      "Val Loss: 0.5688: 100%|██████████| 58/58 [00:02<00:00, 20.94it/s]               \n"
     ]
    },
    {
     "name": "stdout",
     "output_type": "stream",
     "text": [
      "FBeta : 0.4728\tthresh : 0.79\tSAVED MODEL\n",
      "\n"
     ]
    },
    {
     "name": "stderr",
     "output_type": "stream",
     "text": [
      "Epoch 2/90  Mem : 3.76GB  LR : 1.00E-03  Loss: 0.5044: 100%|██████████| 642/642 \n",
      "Val Loss: 0.5374: 100%|██████████| 58/58 [00:02<00:00, 20.79it/s]               \n"
     ]
    },
    {
     "name": "stdout",
     "output_type": "stream",
     "text": [
      "FBeta : 0.4932\tthresh : 0.61\tSAVED MODEL\n",
      "\n"
     ]
    },
    {
     "name": "stderr",
     "output_type": "stream",
     "text": [
      "Epoch 3/90  Mem : 3.76GB  LR : 1.00E-03  Loss: 0.4905: 100%|██████████| 642/642 \n",
      "Val Loss: 0.5216: 100%|██████████| 58/58 [00:03<00:00, 17.91it/s]               \n"
     ]
    },
    {
     "name": "stdout",
     "output_type": "stream",
     "text": [
      "FBeta : 0.5214\tthresh : 0.01\tSAVED MODEL\n",
      "\n"
     ]
    },
    {
     "name": "stderr",
     "output_type": "stream",
     "text": [
      "Epoch 4/90  Mem : 3.76GB  LR : 1.00E-03  Loss: 0.4820: 100%|██████████| 642/642 \n",
      "Val Loss: 0.4990: 100%|██████████| 58/58 [00:02<00:00, 19.85it/s]               \n"
     ]
    },
    {
     "name": "stdout",
     "output_type": "stream",
     "text": [
      "FBeta : 0.5512\tthresh : 0.01\tSAVED MODEL\n",
      "\n"
     ]
    },
    {
     "name": "stderr",
     "output_type": "stream",
     "text": [
      "Epoch 5/90  Mem : 3.76GB  LR : 1.00E-03  Loss: 0.4751: 100%|██████████| 642/642 \n",
      "Val Loss: 0.4835: 100%|██████████| 58/58 [00:03<00:00, 19.09it/s]               \n"
     ]
    },
    {
     "name": "stdout",
     "output_type": "stream",
     "text": [
      "FBeta : 0.5566\tthresh : 0.01\tSAVED MODEL\n",
      "\n"
     ]
    },
    {
     "name": "stderr",
     "output_type": "stream",
     "text": [
      "Epoch 6/90  Mem : 3.76GB  LR : 1.00E-03  Loss: 0.4693: 100%|██████████| 642/642 \n",
      "Val Loss: 0.4977: 100%|██████████| 58/58 [00:02<00:00, 21.45it/s]               \n"
     ]
    },
    {
     "name": "stdout",
     "output_type": "stream",
     "text": [
      "FBeta : 0.5406\tthresh : 0.97\n",
      "\n"
     ]
    },
    {
     "name": "stderr",
     "output_type": "stream",
     "text": [
      "Epoch 7/90  Mem : 3.76GB  LR : 1.00E-03  Loss: 0.4666: 100%|██████████| 642/642 \n",
      "Val Loss: 0.5607: 100%|██████████| 58/58 [00:02<00:00, 21.25it/s]               \n"
     ]
    },
    {
     "name": "stdout",
     "output_type": "stream",
     "text": [
      "FBeta : 0.5062\tthresh : 0.01\n",
      "\n"
     ]
    },
    {
     "name": "stderr",
     "output_type": "stream",
     "text": [
      "Epoch 8/90  Mem : 3.76GB  LR : 1.00E-03  Loss: 0.4623: 100%|██████████| 642/642 \n",
      "Val Loss: 0.4904: 100%|██████████| 58/58 [00:02<00:00, 19.67it/s]               \n"
     ]
    },
    {
     "name": "stdout",
     "output_type": "stream",
     "text": [
      "FBeta : 0.5478\tthresh : 0.11\n",
      "\n"
     ]
    },
    {
     "name": "stderr",
     "output_type": "stream",
     "text": [
      "Epoch 9/90  Mem : 3.76GB  LR : 1.00E-03  Loss: 0.4588: 100%|██████████| 642/642 \n",
      "Val Loss: 0.4717: 100%|██████████| 58/58 [00:02<00:00, 20.42it/s]               \n"
     ]
    },
    {
     "name": "stdout",
     "output_type": "stream",
     "text": [
      "FBeta : 0.5686\tthresh : 0.01\tSAVED MODEL\n",
      "\n"
     ]
    },
    {
     "name": "stderr",
     "output_type": "stream",
     "text": [
      "Epoch 10/90  Mem : 3.76GB  LR : 1.00E-03  Loss: 0.4551: 100%|██████████| 642/642\n",
      "Val Loss: 0.4805: 100%|██████████| 58/58 [00:02<00:00, 20.44it/s]               \n"
     ]
    },
    {
     "name": "stdout",
     "output_type": "stream",
     "text": [
      "FBeta : 0.5571\tthresh : 0.05\n",
      "\n"
     ]
    },
    {
     "name": "stderr",
     "output_type": "stream",
     "text": [
      "Epoch 11/90  Mem : 3.76GB  LR : 1.00E-03  Loss: 0.4508: 100%|██████████| 642/642\n",
      "Val Loss: 0.4644: 100%|██████████| 58/58 [00:02<00:00, 20.52it/s]               \n"
     ]
    },
    {
     "name": "stdout",
     "output_type": "stream",
     "text": [
      "FBeta : 0.5694\tthresh : 0.73\tSAVED MODEL\n",
      "\n"
     ]
    },
    {
     "name": "stderr",
     "output_type": "stream",
     "text": [
      "Epoch 12/90  Mem : 3.76GB  LR : 1.00E-03  Loss: 0.4523: 100%|██████████| 642/642\n",
      "Val Loss: 0.4641: 100%|██████████| 58/58 [00:02<00:00, 21.06it/s]               \n"
     ]
    },
    {
     "name": "stdout",
     "output_type": "stream",
     "text": [
      "FBeta : 0.5762\tthresh : 0.97\tSAVED MODEL\n",
      "\n"
     ]
    },
    {
     "name": "stderr",
     "output_type": "stream",
     "text": [
      "Epoch 13/90  Mem : 3.76GB  LR : 1.00E-03  Loss: 0.4486: 100%|██████████| 642/642\n",
      "Val Loss: 0.5324: 100%|██████████| 58/58 [00:02<00:00, 20.36it/s]               \n"
     ]
    },
    {
     "name": "stdout",
     "output_type": "stream",
     "text": [
      "FBeta : 0.5142\tthresh : 0.99\n",
      "\n"
     ]
    },
    {
     "name": "stderr",
     "output_type": "stream",
     "text": [
      "Epoch 14/90  Mem : 3.76GB  LR : 1.00E-03  Loss: 0.4456: 100%|██████████| 642/642\n",
      "Val Loss: 0.4617: 100%|██████████| 58/58 [00:02<00:00, 21.03it/s]               \n"
     ]
    },
    {
     "name": "stdout",
     "output_type": "stream",
     "text": [
      "FBeta : 0.5764\tthresh : 0.01\tSAVED MODEL\n",
      "\n"
     ]
    },
    {
     "name": "stderr",
     "output_type": "stream",
     "text": [
      "Epoch 15/90  Mem : 3.76GB  LR : 1.00E-03  Loss: 0.4467: 100%|██████████| 642/642\n",
      "Val Loss: 0.4538: 100%|██████████| 58/58 [00:02<00:00, 20.53it/s]               \n"
     ]
    },
    {
     "name": "stdout",
     "output_type": "stream",
     "text": [
      "FBeta : 0.5762\tthresh : 0.81\n",
      "\n"
     ]
    },
    {
     "name": "stderr",
     "output_type": "stream",
     "text": [
      "Epoch 16/90  Mem : 3.76GB  LR : 1.00E-03  Loss: 0.4462: 100%|██████████| 642/642\n",
      "Val Loss: 0.4743: 100%|██████████| 58/58 [00:02<00:00, 20.02it/s]               \n"
     ]
    },
    {
     "name": "stdout",
     "output_type": "stream",
     "text": [
      "FBeta : 0.5664\tthresh : 0.01\n",
      "\n"
     ]
    },
    {
     "name": "stderr",
     "output_type": "stream",
     "text": [
      "Epoch 17/90  Mem : 3.76GB  LR : 1.00E-03  Loss: 0.4427: 100%|██████████| 642/642\n",
      "Val Loss: 0.4650: 100%|██████████| 58/58 [00:02<00:00, 20.90it/s]               \n"
     ]
    },
    {
     "name": "stdout",
     "output_type": "stream",
     "text": [
      "FBeta : 0.5717\tthresh : 0.01\n",
      "\n"
     ]
    },
    {
     "name": "stderr",
     "output_type": "stream",
     "text": [
      "Epoch 18/90  Mem : 3.76GB  LR : 1.00E-03  Loss: 0.4388: 100%|██████████| 642/642\n",
      "Val Loss: 0.4395: 100%|██████████| 58/58 [00:02<00:00, 20.93it/s]               \n"
     ]
    },
    {
     "name": "stdout",
     "output_type": "stream",
     "text": [
      "FBeta : 0.5872\tthresh : 0.37\tSAVED MODEL\n",
      "\n"
     ]
    },
    {
     "name": "stderr",
     "output_type": "stream",
     "text": [
      "Epoch 19/90  Mem : 3.76GB  LR : 1.00E-03  Loss: 0.4393: 100%|██████████| 642/642\n",
      "Val Loss: 0.4368: 100%|██████████| 58/58 [00:03<00:00, 19.30it/s]               \n"
     ]
    },
    {
     "name": "stdout",
     "output_type": "stream",
     "text": [
      "FBeta : 0.5968\tthresh : 0.01\tSAVED MODEL\n",
      "\n"
     ]
    },
    {
     "name": "stderr",
     "output_type": "stream",
     "text": [
      "Epoch 20/90  Mem : 3.76GB  LR : 1.00E-03  Loss: 0.4391: 100%|██████████| 642/642\n",
      "Val Loss: 0.4500: 100%|██████████| 58/58 [00:02<00:00, 21.39it/s]               \n"
     ]
    },
    {
     "name": "stdout",
     "output_type": "stream",
     "text": [
      "FBeta : 0.5795\tthresh : 0.99\n",
      "\n"
     ]
    },
    {
     "name": "stderr",
     "output_type": "stream",
     "text": [
      "Epoch 21/90  Mem : 3.76GB  LR : 1.00E-03  Loss: 0.4376: 100%|██████████| 642/642\n",
      "Val Loss: 0.4615: 100%|██████████| 58/58 [00:02<00:00, 19.41it/s]               \n"
     ]
    },
    {
     "name": "stdout",
     "output_type": "stream",
     "text": [
      "FBeta : 0.5738\tthresh : 0.03\n",
      "\n"
     ]
    },
    {
     "name": "stderr",
     "output_type": "stream",
     "text": [
      "Epoch 22/90  Mem : 3.76GB  LR : 1.00E-03  Loss: 0.4345: 100%|██████████| 642/642\n",
      "Val Loss: 0.4497: 100%|██████████| 58/58 [00:02<00:00, 20.38it/s]               \n"
     ]
    },
    {
     "name": "stdout",
     "output_type": "stream",
     "text": [
      "FBeta : 0.5862\tthresh : 0.01\n",
      "\n"
     ]
    },
    {
     "name": "stderr",
     "output_type": "stream",
     "text": [
      "Epoch 23/90  Mem : 3.76GB  LR : 1.00E-03  Loss: 0.4346: 100%|██████████| 642/642\n",
      "Val Loss: 0.4526: 100%|██████████| 58/58 [00:02<00:00, 20.61it/s]               \n"
     ]
    },
    {
     "name": "stdout",
     "output_type": "stream",
     "text": [
      "FBeta : 0.5772\tthresh : 0.41\n",
      "\n"
     ]
    },
    {
     "name": "stderr",
     "output_type": "stream",
     "text": [
      "Epoch 24/90  Mem : 3.76GB  LR : 1.00E-03  Loss: 0.4353: 100%|██████████| 642/642\n",
      "Val Loss: 0.4475: 100%|██████████| 58/58 [00:02<00:00, 21.25it/s]               \n"
     ]
    },
    {
     "name": "stdout",
     "output_type": "stream",
     "text": [
      "FBeta : 0.5859\tthresh : 0.01\n",
      "\n"
     ]
    },
    {
     "name": "stderr",
     "output_type": "stream",
     "text": [
      "Epoch 25/90  Mem : 3.76GB  LR : 1.00E-03  Loss: 0.4337: 100%|██████████| 642/642\n",
      "Val Loss: 0.4492: 100%|██████████| 58/58 [00:02<00:00, 20.46it/s]               \n"
     ]
    },
    {
     "name": "stdout",
     "output_type": "stream",
     "text": [
      "FBeta : 0.5844\tthresh : 0.03\n",
      "\n"
     ]
    },
    {
     "name": "stderr",
     "output_type": "stream",
     "text": [
      "Epoch 26/90  Mem : 3.76GB  LR : 1.00E-03  Loss: 0.4299: 100%|██████████| 642/642\n",
      "Val Loss: 0.4336: 100%|██████████| 58/58 [00:02<00:00, 21.77it/s]               \n"
     ]
    },
    {
     "name": "stdout",
     "output_type": "stream",
     "text": [
      "FBeta : 0.5966\tthresh : 0.41\n",
      "\n"
     ]
    },
    {
     "name": "stderr",
     "output_type": "stream",
     "text": [
      "Epoch 27/90  Mem : 3.76GB  LR : 1.00E-03  Loss: 0.4315: 100%|██████████| 642/642\n",
      "Val Loss: 0.4487: 100%|██████████| 58/58 [00:02<00:00, 20.44it/s]               \n"
     ]
    },
    {
     "name": "stdout",
     "output_type": "stream",
     "text": [
      "FBeta : 0.5841\tthresh : 0.01\n",
      "\n"
     ]
    },
    {
     "name": "stderr",
     "output_type": "stream",
     "text": [
      "Epoch 28/90  Mem : 3.76GB  LR : 1.00E-03  Loss: 0.4295: 100%|██████████| 642/642\n",
      "Val Loss: 0.4503: 100%|██████████| 58/58 [00:02<00:00, 21.05it/s]               \n"
     ]
    },
    {
     "name": "stdout",
     "output_type": "stream",
     "text": [
      "FBeta : 0.5834\tthresh : 0.99\n",
      "\n"
     ]
    },
    {
     "name": "stderr",
     "output_type": "stream",
     "text": [
      "Epoch 29/90  Mem : 3.76GB  LR : 1.00E-03  Loss: 0.4306: 100%|██████████| 642/642\n",
      "Val Loss: 0.4380: 100%|██████████| 58/58 [00:02<00:00, 19.62it/s]               \n"
     ]
    },
    {
     "name": "stdout",
     "output_type": "stream",
     "text": [
      "FBeta : 0.5944\tthresh : 0.01\n",
      "\n"
     ]
    },
    {
     "name": "stderr",
     "output_type": "stream",
     "text": [
      "Epoch 30/90  Mem : 3.76GB  LR : 1.00E-03  Loss: 0.4287: 100%|██████████| 642/642\n",
      "Val Loss: 0.4376: 100%|██████████| 58/58 [00:02<00:00, 20.24it/s]               \n"
     ]
    },
    {
     "name": "stdout",
     "output_type": "stream",
     "text": [
      "FBeta : 0.5923\tthresh : 0.55\n",
      "\n"
     ]
    },
    {
     "name": "stderr",
     "output_type": "stream",
     "text": [
      "Epoch 31/90  Mem : 3.76GB  LR : 1.00E-03  Loss: 0.4257: 100%|██████████| 642/642\n",
      "Val Loss: 0.4269: 100%|██████████| 58/58 [00:02<00:00, 20.54it/s]               \n"
     ]
    },
    {
     "name": "stdout",
     "output_type": "stream",
     "text": [
      "FBeta : 0.5996\tthresh : 0.59\tSAVED MODEL\n",
      "\n"
     ]
    },
    {
     "name": "stderr",
     "output_type": "stream",
     "text": [
      "Epoch 32/90  Mem : 3.76GB  LR : 1.00E-03  Loss: 0.4266: 100%|██████████| 642/642\n",
      "Val Loss: 0.4293: 100%|██████████| 58/58 [00:02<00:00, 20.33it/s]               \n"
     ]
    },
    {
     "name": "stdout",
     "output_type": "stream",
     "text": [
      "FBeta : 0.6006\tthresh : 0.13\tSAVED MODEL\n",
      "\n"
     ]
    },
    {
     "name": "stderr",
     "output_type": "stream",
     "text": [
      "Epoch 33/90  Mem : 3.76GB  LR : 1.00E-03  Loss: 0.4231: 100%|██████████| 642/642\n",
      "Val Loss: 0.4389: 100%|██████████| 58/58 [00:02<00:00, 20.52it/s]               \n"
     ]
    },
    {
     "name": "stdout",
     "output_type": "stream",
     "text": [
      "FBeta : 0.5913\tthresh : 0.99\n",
      "\n"
     ]
    },
    {
     "name": "stderr",
     "output_type": "stream",
     "text": [
      "Epoch 34/90  Mem : 3.76GB  LR : 1.00E-03  Loss: 0.4251: 100%|██████████| 642/642\n",
      "Val Loss: 0.4208: 100%|██████████| 58/58 [00:02<00:00, 20.23it/s]               \n"
     ]
    },
    {
     "name": "stdout",
     "output_type": "stream",
     "text": [
      "FBeta : 0.6060\tthresh : 0.95\tSAVED MODEL\n",
      "\n"
     ]
    },
    {
     "name": "stderr",
     "output_type": "stream",
     "text": [
      "Epoch 35/90  Mem : 3.76GB  LR : 1.00E-03  Loss: 0.4220: 100%|██████████| 642/642\n",
      "Val Loss: 0.4359: 100%|██████████| 58/58 [00:02<00:00, 21.28it/s]               \n"
     ]
    },
    {
     "name": "stdout",
     "output_type": "stream",
     "text": [
      "FBeta : 0.5950\tthresh : 0.89\n",
      "\n"
     ]
    },
    {
     "name": "stderr",
     "output_type": "stream",
     "text": [
      "Epoch 36/90  Mem : 3.76GB  LR : 1.00E-03  Loss: 0.4205: 100%|██████████| 642/642\n",
      "Val Loss: 0.4313: 100%|██████████| 58/58 [00:02<00:00, 20.86it/s]               \n"
     ]
    },
    {
     "name": "stdout",
     "output_type": "stream",
     "text": [
      "FBeta : 0.5984\tthresh : 0.03\n",
      "\n"
     ]
    },
    {
     "name": "stderr",
     "output_type": "stream",
     "text": [
      "Epoch 37/90  Mem : 3.76GB  LR : 1.00E-03  Loss: 0.4229: 100%|██████████| 642/642\n",
      "Val Loss: 0.4290: 100%|██████████| 58/58 [00:02<00:00, 19.82it/s]               \n"
     ]
    },
    {
     "name": "stdout",
     "output_type": "stream",
     "text": [
      "FBeta : 0.5982\tthresh : 0.47\n",
      "\n"
     ]
    },
    {
     "name": "stderr",
     "output_type": "stream",
     "text": [
      "Epoch 38/90  Mem : 3.76GB  LR : 1.00E-03  Loss: 0.4200: 100%|██████████| 642/642\n",
      "Val Loss: 0.4357: 100%|██████████| 58/58 [00:02<00:00, 21.21it/s]               \n"
     ]
    },
    {
     "name": "stdout",
     "output_type": "stream",
     "text": [
      "FBeta : 0.5930\tthresh : 0.95\n",
      "\n"
     ]
    },
    {
     "name": "stderr",
     "output_type": "stream",
     "text": [
      "Epoch 39/90  Mem : 3.76GB  LR : 1.00E-03  Loss: 0.4188: 100%|██████████| 642/642\n",
      "Val Loss: 0.4217: 100%|██████████| 58/58 [00:02<00:00, 20.04it/s]               \n"
     ]
    },
    {
     "name": "stdout",
     "output_type": "stream",
     "text": [
      "FBeta : 0.6049\tthresh : 0.05\n",
      "\n"
     ]
    },
    {
     "name": "stderr",
     "output_type": "stream",
     "text": [
      "Epoch 40/90  Mem : 3.76GB  LR : 1.00E-03  Loss: 0.4192: 100%|██████████| 642/642\n",
      "Val Loss: 0.4289: 100%|██████████| 58/58 [00:02<00:00, 20.73it/s]               \n"
     ]
    },
    {
     "name": "stdout",
     "output_type": "stream",
     "text": [
      "FBeta : 0.6015\tthresh : 0.03\n",
      "\n"
     ]
    },
    {
     "name": "stderr",
     "output_type": "stream",
     "text": [
      "Epoch 41/90  Mem : 3.76GB  LR : 1.00E-03  Loss: 0.4164: 100%|██████████| 642/642\n",
      "Val Loss: 0.4234: 100%|██████████| 58/58 [00:02<00:00, 21.27it/s]               \n"
     ]
    },
    {
     "name": "stdout",
     "output_type": "stream",
     "text": [
      "FBeta : 0.6054\tthresh : 0.55\n",
      "\n"
     ]
    },
    {
     "name": "stderr",
     "output_type": "stream",
     "text": [
      "Epoch 42/90  Mem : 3.76GB  LR : 1.00E-03  Loss: 0.4158: 100%|██████████| 642/642\n",
      "Val Loss: 0.4279: 100%|██████████| 58/58 [00:02<00:00, 19.60it/s]               \n"
     ]
    },
    {
     "name": "stdout",
     "output_type": "stream",
     "text": [
      "FBeta : 0.6032\tthresh : 0.11\n",
      "\n"
     ]
    },
    {
     "name": "stderr",
     "output_type": "stream",
     "text": [
      "Epoch 43/90  Mem : 3.76GB  LR : 1.00E-03  Loss: 0.4134: 100%|██████████| 642/642\n",
      "Val Loss: 0.4374: 100%|██████████| 58/58 [00:02<00:00, 21.38it/s]               \n"
     ]
    },
    {
     "name": "stdout",
     "output_type": "stream",
     "text": [
      "FBeta : 0.5950\tthresh : 0.01\n",
      "\n"
     ]
    },
    {
     "name": "stderr",
     "output_type": "stream",
     "text": [
      "Epoch 44/90  Mem : 3.76GB  LR : 1.00E-03  Loss: 0.4136: 100%|██████████| 642/642\n",
      "Val Loss: 0.4196: 100%|██████████| 58/58 [00:02<00:00, 20.30it/s]               \n"
     ]
    },
    {
     "name": "stdout",
     "output_type": "stream",
     "text": [
      "FBeta : 0.6053\tthresh : 0.05\n",
      "\n"
     ]
    },
    {
     "name": "stderr",
     "output_type": "stream",
     "text": [
      "Epoch 45/90  Mem : 3.76GB  LR : 1.00E-03  Loss: 0.4135: 100%|██████████| 642/642\n",
      "Val Loss: 0.4155: 100%|██████████| 58/58 [00:03<00:00, 19.10it/s]               \n"
     ]
    },
    {
     "name": "stdout",
     "output_type": "stream",
     "text": [
      "FBeta : 0.6125\tthresh : 0.35\tSAVED MODEL\n",
      "\n"
     ]
    },
    {
     "name": "stderr",
     "output_type": "stream",
     "text": [
      "Epoch 46/90  Mem : 3.76GB  LR : 1.00E-03  Loss: 0.4107: 100%|██████████| 642/642\n",
      "Val Loss: 0.4281: 100%|██████████| 58/58 [00:02<00:00, 21.24it/s]               \n"
     ]
    },
    {
     "name": "stdout",
     "output_type": "stream",
     "text": [
      "FBeta : 0.6058\tthresh : 0.01\n",
      "\n"
     ]
    },
    {
     "name": "stderr",
     "output_type": "stream",
     "text": [
      "Epoch 47/90  Mem : 3.76GB  LR : 1.00E-03  Loss: 0.4134: 100%|██████████| 642/642\n",
      "Val Loss: 0.4184: 100%|██████████| 58/58 [00:02<00:00, 21.00it/s]               \n"
     ]
    },
    {
     "name": "stdout",
     "output_type": "stream",
     "text": [
      "FBeta : 0.6080\tthresh : 0.87\n",
      "\n"
     ]
    },
    {
     "name": "stderr",
     "output_type": "stream",
     "text": [
      "Epoch 48/90  Mem : 3.76GB  LR : 1.00E-03  Loss: 0.4131: 100%|██████████| 642/642\n",
      "Val Loss: 0.4157: 100%|██████████| 58/58 [00:02<00:00, 21.09it/s]               \n"
     ]
    },
    {
     "name": "stdout",
     "output_type": "stream",
     "text": [
      "FBeta : 0.6096\tthresh : 0.39\n",
      "\n"
     ]
    },
    {
     "name": "stderr",
     "output_type": "stream",
     "text": [
      "Epoch 49/90  Mem : 3.76GB  LR : 1.00E-03  Loss: 0.4118: 100%|██████████| 642/642\n",
      "Val Loss: 0.4261: 100%|██████████| 58/58 [00:02<00:00, 20.19it/s]               \n"
     ]
    },
    {
     "name": "stdout",
     "output_type": "stream",
     "text": [
      "FBeta : 0.6018\tthresh : 0.01\n",
      "\n"
     ]
    },
    {
     "name": "stderr",
     "output_type": "stream",
     "text": [
      "Epoch 50/90  Mem : 3.76GB  LR : 1.00E-03  Loss: 0.4091: 100%|██████████| 642/642\n",
      "Val Loss: 0.4127: 100%|██████████| 58/58 [00:02<00:00, 21.18it/s]               \n"
     ]
    },
    {
     "name": "stdout",
     "output_type": "stream",
     "text": [
      "FBeta : 0.6124\tthresh : 0.15\n",
      "\n"
     ]
    },
    {
     "name": "stderr",
     "output_type": "stream",
     "text": [
      "Epoch 51/90  Mem : 3.76GB  LR : 1.00E-03  Loss: 0.4071: 100%|██████████| 642/642\n",
      "Val Loss: 0.4147: 100%|██████████| 58/58 [00:02<00:00, 20.26it/s]               \n"
     ]
    },
    {
     "name": "stdout",
     "output_type": "stream",
     "text": [
      "FBeta : 0.6119\tthresh : 0.01\n",
      "\n"
     ]
    },
    {
     "name": "stderr",
     "output_type": "stream",
     "text": [
      "Epoch 52/90  Mem : 3.76GB  LR : 1.00E-03  Loss: 0.4082: 100%|██████████| 642/642\n",
      "Val Loss: 0.4124: 100%|██████████| 58/58 [00:02<00:00, 21.29it/s]               \n"
     ]
    },
    {
     "name": "stdout",
     "output_type": "stream",
     "text": [
      "FBeta : 0.6139\tthresh : 0.01\tSAVED MODEL\n",
      "\n"
     ]
    },
    {
     "name": "stderr",
     "output_type": "stream",
     "text": [
      "Epoch 53/90  Mem : 3.76GB  LR : 1.00E-03  Loss: 0.4062: 100%|██████████| 642/642\n",
      "Val Loss: 0.4152: 100%|██████████| 58/58 [00:02<00:00, 21.22it/s]               \n"
     ]
    },
    {
     "name": "stdout",
     "output_type": "stream",
     "text": [
      "FBeta : 0.6099\tthresh : 0.01\n",
      "\n"
     ]
    },
    {
     "name": "stderr",
     "output_type": "stream",
     "text": [
      "Epoch 54/90  Mem : 3.76GB  LR : 1.00E-03  Loss: 0.4050: 100%|██████████| 642/642\n",
      "Val Loss: 0.4193: 100%|██████████| 58/58 [00:02<00:00, 21.77it/s]               \n"
     ]
    },
    {
     "name": "stdout",
     "output_type": "stream",
     "text": [
      "FBeta : 0.6087\tthresh : 0.01\n",
      "\n"
     ]
    },
    {
     "name": "stderr",
     "output_type": "stream",
     "text": [
      "Epoch 55/90  Mem : 3.76GB  LR : 1.00E-03  Loss: 0.4067: 100%|██████████| 642/642\n",
      "Val Loss: 0.4176: 100%|██████████| 58/58 [00:02<00:00, 19.95it/s]               \n"
     ]
    },
    {
     "name": "stdout",
     "output_type": "stream",
     "text": [
      "FBeta : 0.6110\tthresh : 0.15\n",
      "\n"
     ]
    },
    {
     "name": "stderr",
     "output_type": "stream",
     "text": [
      "Epoch 56/90  Mem : 3.76GB  LR : 1.00E-03  Loss: 0.4053: 100%|██████████| 642/642\n",
      "Val Loss: 0.4115: 100%|██████████| 58/58 [00:02<00:00, 20.95it/s]               \n"
     ]
    },
    {
     "name": "stdout",
     "output_type": "stream",
     "text": [
      "FBeta : 0.6156\tthresh : 0.03\tSAVED MODEL\n",
      "\n"
     ]
    },
    {
     "name": "stderr",
     "output_type": "stream",
     "text": [
      "Epoch 57/90  Mem : 3.76GB  LR : 1.00E-03  Loss: 0.4055: 100%|██████████| 642/642\n",
      "Val Loss: 0.4252: 100%|██████████| 58/58 [00:02<00:00, 20.26it/s]               \n"
     ]
    },
    {
     "name": "stdout",
     "output_type": "stream",
     "text": [
      "FBeta : 0.6036\tthresh : 0.01\n",
      "\n"
     ]
    },
    {
     "name": "stderr",
     "output_type": "stream",
     "text": [
      "Epoch 58/90  Mem : 3.76GB  LR : 1.00E-03  Loss: 0.4033: 100%|██████████| 642/642\n",
      "Val Loss: 0.4068: 100%|██████████| 58/58 [00:02<00:00, 21.23it/s]               \n"
     ]
    },
    {
     "name": "stdout",
     "output_type": "stream",
     "text": [
      "FBeta : 0.6176\tthresh : 0.11\tSAVED MODEL\n",
      "\n"
     ]
    },
    {
     "name": "stderr",
     "output_type": "stream",
     "text": [
      "Epoch 59/90  Mem : 3.76GB  LR : 1.00E-03  Loss: 0.4049: 100%|██████████| 642/642\n",
      "Val Loss: 0.4102: 100%|██████████| 58/58 [00:02<00:00, 19.91it/s]               \n"
     ]
    },
    {
     "name": "stdout",
     "output_type": "stream",
     "text": [
      "FBeta : 0.6157\tthresh : 0.05\n",
      "\n"
     ]
    },
    {
     "name": "stderr",
     "output_type": "stream",
     "text": [
      "Epoch 60/90  Mem : 3.76GB  LR : 1.00E-03  Loss: 0.4052: 100%|██████████| 642/642\n",
      "Val Loss: 0.4079: 100%|██████████| 58/58 [00:02<00:00, 20.56it/s]               \n"
     ]
    },
    {
     "name": "stdout",
     "output_type": "stream",
     "text": [
      "FBeta : 0.6189\tthresh : 0.01\tSAVED MODEL\n",
      "\n"
     ]
    },
    {
     "name": "stderr",
     "output_type": "stream",
     "text": [
      "Epoch 61/90  Mem : 3.76GB  LR : 1.00E-03  Loss: 0.4034: 100%|██████████| 642/642\n",
      "Val Loss: 0.4126: 100%|██████████| 58/58 [00:02<00:00, 19.58it/s]               \n"
     ]
    },
    {
     "name": "stdout",
     "output_type": "stream",
     "text": [
      "FBeta : 0.6146\tthresh : 0.17\n",
      "\n"
     ]
    },
    {
     "name": "stderr",
     "output_type": "stream",
     "text": [
      "Epoch 62/90  Mem : 3.76GB  LR : 1.00E-03  Loss: 0.4016: 100%|██████████| 642/642\n",
      "Val Loss: 0.4045: 100%|██████████| 58/58 [00:03<00:00, 17.16it/s]               \n"
     ]
    },
    {
     "name": "stdout",
     "output_type": "stream",
     "text": [
      "FBeta : 0.6210\tthresh : 0.37\tSAVED MODEL\n",
      "\n"
     ]
    },
    {
     "name": "stderr",
     "output_type": "stream",
     "text": [
      "Epoch 63/90  Mem : 3.76GB  LR : 1.00E-03  Loss: 0.4001: 100%|██████████| 642/642\n",
      "Val Loss: 0.4103: 100%|██████████| 58/58 [00:02<00:00, 20.38it/s]               \n"
     ]
    },
    {
     "name": "stdout",
     "output_type": "stream",
     "text": [
      "FBeta : 0.6183\tthresh : 0.01\n",
      "\n"
     ]
    },
    {
     "name": "stderr",
     "output_type": "stream",
     "text": [
      "Epoch 64/90  Mem : 3.76GB  LR : 1.00E-03  Loss: 0.3990: 100%|██████████| 642/642\n",
      "Val Loss: 0.4074: 100%|██████████| 58/58 [00:02<00:00, 21.29it/s]               \n"
     ]
    },
    {
     "name": "stdout",
     "output_type": "stream",
     "text": [
      "FBeta : 0.6186\tthresh : 0.09\n",
      "\n"
     ]
    },
    {
     "name": "stderr",
     "output_type": "stream",
     "text": [
      "Epoch 65/90  Mem : 3.76GB  LR : 1.00E-03  Loss: 0.3981: 100%|██████████| 642/642\n",
      "Val Loss: 0.4086: 100%|██████████| 58/58 [00:02<00:00, 21.08it/s]               \n"
     ]
    },
    {
     "name": "stdout",
     "output_type": "stream",
     "text": [
      "FBeta : 0.6174\tthresh : 0.65\n",
      "\n"
     ]
    },
    {
     "name": "stderr",
     "output_type": "stream",
     "text": [
      "Epoch 66/90  Mem : 3.76GB  LR : 1.00E-03  Loss: 0.3977: 100%|██████████| 642/642\n",
      "Val Loss: 0.4085: 100%|██████████| 58/58 [00:02<00:00, 20.29it/s]               \n"
     ]
    },
    {
     "name": "stdout",
     "output_type": "stream",
     "text": [
      "FBeta : 0.6191\tthresh : 0.19\n",
      "\n"
     ]
    },
    {
     "name": "stderr",
     "output_type": "stream",
     "text": [
      "Epoch 67/90  Mem : 3.76GB  LR : 1.00E-03  Loss: 0.3962: 100%|██████████| 642/642\n",
      "Val Loss: 0.4067: 100%|██████████| 58/58 [00:02<00:00, 19.50it/s]               \n"
     ]
    },
    {
     "name": "stdout",
     "output_type": "stream",
     "text": [
      "FBeta : 0.6194\tthresh : 0.17\n",
      "\n"
     ]
    },
    {
     "name": "stderr",
     "output_type": "stream",
     "text": [
      "Epoch 68/90  Mem : 3.76GB  LR : 1.00E-03  Loss: 0.3966: 100%|██████████| 642/642\n",
      "Val Loss: 0.4063: 100%|██████████| 58/58 [00:02<00:00, 20.40it/s]               \n"
     ]
    },
    {
     "name": "stdout",
     "output_type": "stream",
     "text": [
      "FBeta : 0.6185\tthresh : 0.39\n",
      "\n"
     ]
    },
    {
     "name": "stderr",
     "output_type": "stream",
     "text": [
      "Epoch 69/90  Mem : 3.76GB  LR : 1.00E-03  Loss: 0.3962: 100%|██████████| 642/642\n",
      "Val Loss: 0.4079: 100%|██████████| 58/58 [00:02<00:00, 20.65it/s]               \n"
     ]
    },
    {
     "name": "stdout",
     "output_type": "stream",
     "text": [
      "FBeta : 0.6181\tthresh : 0.33\n",
      "\n"
     ]
    },
    {
     "name": "stderr",
     "output_type": "stream",
     "text": [
      "Epoch 70/90  Mem : 3.76GB  LR : 1.00E-03  Loss: 0.3983: 100%|██████████| 642/642\n",
      "Val Loss: 0.4077: 100%|██████████| 58/58 [00:03<00:00, 17.34it/s]               \n"
     ]
    },
    {
     "name": "stdout",
     "output_type": "stream",
     "text": [
      "FBeta : 0.6192\tthresh : 0.11\n",
      "\n"
     ]
    },
    {
     "name": "stderr",
     "output_type": "stream",
     "text": [
      "Epoch 71/90  Mem : 3.76GB  LR : 1.00E-03  Loss: 0.3946: 100%|██████████| 642/642\n",
      "Val Loss: 0.4029: 100%|██████████| 58/58 [00:02<00:00, 20.88it/s]               \n"
     ]
    },
    {
     "name": "stdout",
     "output_type": "stream",
     "text": [
      "FBeta : 0.6223\tthresh : 0.15\tSAVED MODEL\n",
      "\n"
     ]
    },
    {
     "name": "stderr",
     "output_type": "stream",
     "text": [
      "Epoch 72/90  Mem : 3.76GB  LR : 1.00E-03  Loss: 0.3955: 100%|██████████| 642/642\n",
      "Val Loss: 0.4019: 100%|██████████| 58/58 [00:02<00:00, 20.85it/s]               \n"
     ]
    },
    {
     "name": "stdout",
     "output_type": "stream",
     "text": [
      "FBeta : 0.6223\tthresh : 0.15\n",
      "\n"
     ]
    },
    {
     "name": "stderr",
     "output_type": "stream",
     "text": [
      "Epoch 73/90  Mem : 3.76GB  LR : 1.00E-03  Loss: 0.3937: 100%|██████████| 642/642\n",
      "Val Loss: 0.4006: 100%|██████████| 58/58 [00:02<00:00, 20.17it/s]               \n"
     ]
    },
    {
     "name": "stdout",
     "output_type": "stream",
     "text": [
      "FBeta : 0.6236\tthresh : 0.47\tSAVED MODEL\n",
      "\n"
     ]
    },
    {
     "name": "stderr",
     "output_type": "stream",
     "text": [
      "Epoch 74/90  Mem : 3.76GB  LR : 1.00E-03  Loss: 0.3946: 100%|██████████| 642/642\n",
      "Val Loss: 0.4030: 100%|██████████| 58/58 [00:03<00:00, 18.50it/s]               \n"
     ]
    },
    {
     "name": "stdout",
     "output_type": "stream",
     "text": [
      "FBeta : 0.6217\tthresh : 0.15\n",
      "\n"
     ]
    },
    {
     "name": "stderr",
     "output_type": "stream",
     "text": [
      "Epoch 75/90  Mem : 3.76GB  LR : 1.00E-03  Loss: 0.3944: 100%|██████████| 642/642\n",
      "Val Loss: 0.4036: 100%|██████████| 58/58 [00:02<00:00, 20.90it/s]               \n"
     ]
    },
    {
     "name": "stdout",
     "output_type": "stream",
     "text": [
      "FBeta : 0.6226\tthresh : 0.81\n",
      "\n"
     ]
    },
    {
     "name": "stderr",
     "output_type": "stream",
     "text": [
      "Epoch 76/90  Mem : 3.76GB  LR : 1.00E-03  Loss: 0.3933: 100%|██████████| 642/642\n",
      "Val Loss: 0.4040: 100%|██████████| 58/58 [00:02<00:00, 20.14it/s]               \n"
     ]
    },
    {
     "name": "stdout",
     "output_type": "stream",
     "text": [
      "FBeta : 0.6221\tthresh : 0.09\n",
      "\n"
     ]
    },
    {
     "name": "stderr",
     "output_type": "stream",
     "text": [
      "Epoch 77/90  Mem : 3.76GB  LR : 1.00E-03  Loss: 0.3932: 100%|██████████| 642/642\n",
      "Val Loss: 0.4027: 100%|██████████| 58/58 [00:02<00:00, 19.81it/s]               \n"
     ]
    },
    {
     "name": "stdout",
     "output_type": "stream",
     "text": [
      "FBeta : 0.6224\tthresh : 0.05\n",
      "\n"
     ]
    },
    {
     "name": "stderr",
     "output_type": "stream",
     "text": [
      "Epoch 78/90  Mem : 3.76GB  LR : 1.00E-03  Loss: 0.3943: 100%|██████████| 642/642\n",
      "Val Loss: 0.4016: 100%|██████████| 58/58 [00:02<00:00, 21.08it/s]               \n"
     ]
    },
    {
     "name": "stdout",
     "output_type": "stream",
     "text": [
      "FBeta : 0.6247\tthresh : 0.07\tSAVED MODEL\n",
      "\n"
     ]
    },
    {
     "name": "stderr",
     "output_type": "stream",
     "text": [
      "Epoch 79/90  Mem : 3.76GB  LR : 1.00E-03  Loss: 0.3934: 100%|██████████| 642/642\n",
      "Val Loss: 0.4001: 100%|██████████| 58/58 [00:03<00:00, 19.16it/s]               \n"
     ]
    },
    {
     "name": "stdout",
     "output_type": "stream",
     "text": [
      "FBeta : 0.6237\tthresh : 0.25\n",
      "\n"
     ]
    },
    {
     "name": "stderr",
     "output_type": "stream",
     "text": [
      "Epoch 80/90  Mem : 3.76GB  LR : 1.00E-03  Loss: 0.3918: 100%|██████████| 642/642\n",
      "Val Loss: 0.4020: 100%|██████████| 58/58 [00:02<00:00, 20.74it/s]               \n"
     ]
    },
    {
     "name": "stdout",
     "output_type": "stream",
     "text": [
      "FBeta : 0.6218\tthresh : 0.15\n",
      "\n"
     ]
    },
    {
     "name": "stderr",
     "output_type": "stream",
     "text": [
      "Epoch 81/90  Mem : 3.76GB  LR : 1.00E-03  Loss: 0.3924: 100%|██████████| 642/642\n",
      "Val Loss: 0.4013: 100%|██████████| 58/58 [00:02<00:00, 20.83it/s]               \n"
     ]
    },
    {
     "name": "stdout",
     "output_type": "stream",
     "text": [
      "FBeta : 0.6229\tthresh : 0.03\n",
      "\n"
     ]
    },
    {
     "name": "stderr",
     "output_type": "stream",
     "text": [
      "Epoch 82/90  Mem : 3.76GB  LR : 1.00E-03  Loss: 0.3932: 100%|██████████| 642/642\n",
      "Val Loss: 0.4001: 100%|██████████| 58/58 [00:02<00:00, 20.78it/s]               \n"
     ]
    },
    {
     "name": "stdout",
     "output_type": "stream",
     "text": [
      "FBeta : 0.6239\tthresh : 0.17\n",
      "\n"
     ]
    },
    {
     "name": "stderr",
     "output_type": "stream",
     "text": [
      "Epoch 83/90  Mem : 3.76GB  LR : 1.00E-03  Loss: 0.3925: 100%|██████████| 642/642\n",
      "Val Loss: 0.3999: 100%|██████████| 58/58 [00:02<00:00, 20.18it/s]               \n"
     ]
    },
    {
     "name": "stdout",
     "output_type": "stream",
     "text": [
      "FBeta : 0.6245\tthresh : 0.11\n",
      "\n"
     ]
    },
    {
     "name": "stderr",
     "output_type": "stream",
     "text": [
      "Epoch 84/90  Mem : 3.76GB  LR : 1.00E-03  Loss: 0.3901: 100%|██████████| 642/642\n",
      "Val Loss: 0.3999: 100%|██████████| 58/58 [00:02<00:00, 21.15it/s]               \n"
     ]
    },
    {
     "name": "stdout",
     "output_type": "stream",
     "text": [
      "FBeta : 0.6247\tthresh : 0.01\tSAVED MODEL\n",
      "\n"
     ]
    },
    {
     "name": "stderr",
     "output_type": "stream",
     "text": [
      "Epoch 85/90  Mem : 3.76GB  LR : 1.00E-03  Loss: 0.3901: 100%|██████████| 642/642\n",
      "Val Loss: 0.4002: 100%|██████████| 58/58 [00:03<00:00, 17.13it/s]               \n"
     ]
    },
    {
     "name": "stdout",
     "output_type": "stream",
     "text": [
      "FBeta : 0.6239\tthresh : 0.19\n",
      "\n"
     ]
    },
    {
     "name": "stderr",
     "output_type": "stream",
     "text": [
      "Epoch 86/90  Mem : 3.76GB  LR : 1.00E-03  Loss: 0.3915: 100%|██████████| 642/642\n",
      "Val Loss: 0.3998: 100%|██████████| 58/58 [00:02<00:00, 20.56it/s]               \n"
     ]
    },
    {
     "name": "stdout",
     "output_type": "stream",
     "text": [
      "FBeta : 0.6246\tthresh : 0.35\n",
      "\n"
     ]
    },
    {
     "name": "stderr",
     "output_type": "stream",
     "text": [
      "Epoch 87/90  Mem : 3.76GB  LR : 1.00E-03  Loss: 0.3909: 100%|██████████| 642/642\n",
      "Val Loss: 0.3993: 100%|██████████| 58/58 [00:02<00:00, 19.94it/s]               \n"
     ]
    },
    {
     "name": "stdout",
     "output_type": "stream",
     "text": [
      "FBeta : 0.6252\tthresh : 0.31\tSAVED MODEL\n",
      "\n"
     ]
    },
    {
     "name": "stderr",
     "output_type": "stream",
     "text": [
      "Epoch 88/90  Mem : 3.76GB  LR : 1.00E-03  Loss: 0.3916: 100%|██████████| 642/642\n",
      "Val Loss: 0.3997: 100%|██████████| 58/58 [00:02<00:00, 20.52it/s]               \n"
     ]
    },
    {
     "name": "stdout",
     "output_type": "stream",
     "text": [
      "FBeta : 0.6247\tthresh : 0.15\n",
      "\n"
     ]
    },
    {
     "name": "stderr",
     "output_type": "stream",
     "text": [
      "Epoch 89/90  Mem : 3.76GB  LR : 1.00E-03  Loss: 0.3895: 100%|██████████| 642/642\n",
      "Val Loss: 0.4000: 100%|██████████| 58/58 [00:02<00:00, 19.51it/s]               \n"
     ]
    },
    {
     "name": "stdout",
     "output_type": "stream",
     "text": [
      "FBeta : 0.6246\tthresh : 0.21\n",
      "\n"
     ]
    },
    {
     "name": "stderr",
     "output_type": "stream",
     "text": [
      "Epoch 90/90  Mem : 3.76GB  LR : 1.00E-03  Loss: 0.3913: 100%|██████████| 642/642\n",
      "Val Loss: 0.3998: 100%|██████████| 58/58 [00:02<00:00, 19.62it/s]               \n"
     ]
    },
    {
     "name": "stdout",
     "output_type": "stream",
     "text": [
      "FBeta : 0.6245\tthresh : 0.23\n",
      "\n"
     ]
    },
    {
     "name": "stderr",
     "output_type": "stream",
     "text": [
      "Epoch 91/90  Mem : 3.76GB  LR : 1.00E-03  Loss: 0.3911: 100%|██████████| 642/642\n",
      "Val Loss: 0.4002: 100%|██████████| 58/58 [00:02<00:00, 21.22it/s]               \n"
     ]
    },
    {
     "name": "stdout",
     "output_type": "stream",
     "text": [
      "FBeta : 0.6246\tthresh : 0.15\n",
      "\n"
     ]
    },
    {
     "name": "stderr",
     "output_type": "stream",
     "text": [
      "Epoch 92/90  Mem : 3.76GB  LR : 1.00E-03  Loss: 0.3921: 100%|██████████| 642/642\n",
      "Val Loss: 0.4000: 100%|██████████| 58/58 [00:02<00:00, 20.58it/s]               \n"
     ]
    },
    {
     "name": "stdout",
     "output_type": "stream",
     "text": [
      "FBeta : 0.6245\tthresh : 0.17\n",
      "\n"
     ]
    },
    {
     "name": "stderr",
     "output_type": "stream",
     "text": [
      "Epoch 93/90  Mem : 3.76GB  LR : 1.00E-03  Loss: 0.3898: 100%|██████████| 642/642\n",
      "Val Loss: 0.3997: 100%|██████████| 58/58 [00:02<00:00, 21.87it/s]               \n"
     ]
    },
    {
     "name": "stdout",
     "output_type": "stream",
     "text": [
      "FBeta : 0.6246\tthresh : 0.11\n",
      "\n"
     ]
    },
    {
     "name": "stderr",
     "output_type": "stream",
     "text": [
      "Epoch 94/90  Mem : 3.76GB  LR : 1.00E-03  Loss: 0.3897: 100%|██████████| 642/642\n",
      "Val Loss: 0.4002: 100%|██████████| 58/58 [00:02<00:00, 20.78it/s]               \n"
     ]
    },
    {
     "name": "stdout",
     "output_type": "stream",
     "text": [
      "FBeta : 0.6242\tthresh : 0.27\n",
      "\n"
     ]
    },
    {
     "name": "stderr",
     "output_type": "stream",
     "text": [
      "Epoch 95/90  Mem : 3.76GB  LR : 1.00E-03  Loss: 0.3909: 100%|██████████| 642/642\n",
      "Val Loss: 0.4001: 100%|██████████| 58/58 [00:02<00:00, 20.66it/s]               \n"
     ]
    },
    {
     "name": "stdout",
     "output_type": "stream",
     "text": [
      "FBeta : 0.6243\tthresh : 0.19\n",
      "\n"
     ]
    },
    {
     "name": "stderr",
     "output_type": "stream",
     "text": [
      "Epoch 96/90  Mem : 3.76GB  LR : 1.00E-03  Loss: 0.3895: 100%|██████████| 642/642\n",
      "Val Loss: 0.3992: 100%|██████████| 58/58 [00:02<00:00, 21.36it/s]               \n"
     ]
    },
    {
     "name": "stdout",
     "output_type": "stream",
     "text": [
      "FBeta : 0.6248\tthresh : 0.15\n",
      "\n"
     ]
    },
    {
     "name": "stderr",
     "output_type": "stream",
     "text": [
      "Epoch 97/90  Mem : 3.76GB  LR : 1.00E-03  Loss: 0.3910: 100%|██████████| 642/642\n",
      "Val Loss: 0.4000: 100%|██████████| 58/58 [00:02<00:00, 20.32it/s]               \n"
     ]
    },
    {
     "name": "stdout",
     "output_type": "stream",
     "text": [
      "FBeta : 0.6242\tthresh : 0.09\n",
      "\n"
     ]
    },
    {
     "name": "stderr",
     "output_type": "stream",
     "text": [
      "Epoch 98/90  Mem : 3.76GB  LR : 1.00E-03  Loss: 0.3914: 100%|██████████| 642/642\n",
      "Val Loss: 0.4000: 100%|██████████| 58/58 [00:02<00:00, 20.12it/s]               \n"
     ]
    },
    {
     "name": "stdout",
     "output_type": "stream",
     "text": [
      "FBeta : 0.6243\tthresh : 0.07\n",
      "\n"
     ]
    },
    {
     "name": "stderr",
     "output_type": "stream",
     "text": [
      "Epoch 99/90  Mem : 3.76GB  LR : 1.00E-03  Loss: 0.3901: 100%|██████████| 642/642\n",
      "Val Loss: 0.4007: 100%|██████████| 58/58 [00:02<00:00, 20.70it/s]               \n"
     ]
    },
    {
     "name": "stdout",
     "output_type": "stream",
     "text": [
      "FBeta : 0.6242\tthresh : 0.13\n",
      "\n",
      "Early Stopping\n",
      "{\"status\":200,\"message\":\"ok\"}"
     ]
    }
   ],
   "source": [
    "if CFG.debug:\n",
    "    print(\"!!!Debug mode!!!\\n\")\n",
    "\n",
    "dice_score=0\n",
    "for epoch in range(100):\n",
    "    model.train()\n",
    "    \n",
    "    pbar_train = enumerate(dataloader_train)\n",
    "    pbar_train = tqdm(pbar_train, total=len(dataloader_train), bar_format=\"{l_bar}{bar:10}{r_bar}{bar:-0b}\")\n",
    "    loss_train, loss_val= 0.0, 0.0\n",
    "    for i, (images, masks) in pbar_train:\n",
    "        images, masks = images.cuda(), masks.cuda()\n",
    "        optimizer.zero_grad()\n",
    "        with amp.autocast():\n",
    "            preds = model(images)\n",
    "            loss = criterion(preds, masks)\n",
    "            scaler.scale(loss).backward()\n",
    "            scaler.step(optimizer)\n",
    "            scaler.update()\n",
    "            loss_train += loss.detach().item()\n",
    "        \n",
    "        lr = f\"LR : {scheduler.get_last_lr()[0]:.2E}\"\n",
    "        gpu_mem = f\"Mem : {torch.cuda.memory_reserved() / 1E9:.3g}GB\"\n",
    "        pbar_train.set_description((\"%10s  \" * 3 + \"%10s\") % (f\"Epoch {epoch}/{CFG.epochs}\", gpu_mem, lr,\n",
    "                                                                f\"Loss: {loss_train / (i + 1):.4f}\"))\n",
    "\n",
    "    scheduler.step()\n",
    "    model.eval()\n",
    "    \n",
    "    cum_pred = []\n",
    "    cum_true = []\n",
    "    pbar_val = enumerate(dataloader_valid)\n",
    "    pbar_val = tqdm(pbar_val, total=len(dataloader_valid), bar_format=\"{l_bar}{bar:10}{r_bar}{bar:-10b}\")\n",
    "    for i, (images, masks) in pbar_val:\n",
    "        images, masks = images.cuda(), masks.cuda()\n",
    "        with torch.no_grad():\n",
    "            preds = model(images)\n",
    "            loss_val += criterion(preds, masks).item()\n",
    "            preds = torch.sigmoid(preds)\n",
    "            cum_pred.append(preds.cpu().detach().numpy())\n",
    "            cum_true.append(masks.cpu().detach().numpy())\n",
    "\n",
    "        pbar_val.set_description((\"%10s\") % (f\"Val Loss: {loss_val / (i+1):.4f}\"))\n",
    "    \n",
    "    cum_pred = torch.flatten(torch.from_numpy(np.concatenate(cum_pred, axis=0)))\n",
    "    cum_true = torch.flatten(torch.from_numpy(np.concatenate(cum_true, axis=0)))\n",
    "    \n",
    "    dice_score_, thresh = calc_optim_thresh(cum_pred, cum_true, thresholds_to_test)\n",
    "    \n",
    "    if dice_score_ > dice_score:\n",
    "        print(f\"FBeta : {dice_score_:.4f}\\tthresh : {thresh}\\tSAVED MODEL\\n\")\n",
    "        epoch_best=epoch\n",
    "        dice_score =dice_score_\n",
    "        torch.save({'model': model.module.state_dict(), 'dice_score': dice_score, 'thresh': thresh,\n",
    "                    \"model_arch\":CFG.model_arch, \"backbone\":CFG.backbone,\"in_chans\":CFG.in_chans,\"target_size\":CFG.target_size,},\n",
    "                    f'./{CFG.exp_name}/{CFG.exp_name}.pth')\n",
    "    else:\n",
    "        print(f\"FBeta : {dice_score_:.4f}\\tthresh : {thresh}\\n\")\n",
    "    \n",
    "    if epoch-epoch_best>=CFG.epochs_patience:\n",
    "        print('Early Stopping')\n",
    "        break\n",
    "        \n",
    "!curl -X POST -H 'Authorization: Bearer '$LINE -F 'message=セルの実行が終わりました！{dice_score}' https://notify-api.line.me/api/notify\n"
   ]
  },
  {
   "cell_type": "code",
   "execution_count": 9,
   "metadata": {
    "execution": {
     "iopub.execute_input": "2023-06-25T19:04:39.660272Z",
     "iopub.status.busy": "2023-06-25T19:04:39.659785Z",
     "iopub.status.idle": "2023-06-25T19:04:39.918844Z",
     "shell.execute_reply": "2023-06-25T19:04:39.918380Z"
    }
   },
   "outputs": [
    {
     "name": "stdout",
     "output_type": "stream",
     "text": [
      "model_arch:  Unet\n",
      "backbone:  efficientnet-b0\n",
      "0.6252\n"
     ]
    }
   ],
   "source": [
    "pth = torch.load(f'./{CFG.exp_name}/{CFG.exp_name}.pth')\n",
    "\n",
    "model = build_model(pth[\"model_arch\"], pth[\"backbone\"], pth[\"in_chans\"], pth[\"target_size\"], weight=None)\n",
    "model.load_state_dict(pth['model'])\n",
    "thresh = pth['thresh']\n",
    "dice_score = pth['dice_score']\n",
    "print(f\"{dice_score:.4f}\")\n",
    "\n",
    "model.to(device)\n",
    "model.eval();\n"
   ]
  },
  {
   "cell_type": "code",
   "execution_count": null,
   "metadata": {
    "execution": {
     "iopub.execute_input": "2023-06-25T19:04:39.920488Z",
     "iopub.status.busy": "2023-06-25T19:04:39.920254Z",
     "iopub.status.idle": "2023-06-25T19:04:47.186859Z",
     "shell.execute_reply": "2023-06-25T19:04:47.186072Z"
    }
   },
   "outputs": [],
   "source": [
    "for i, (images, masks) in enumerate(dataloader_valid):\n",
    "    if i!=1: continue\n",
    "    \n",
    "    images, masks = images.cuda(), masks.cuda()\n",
    "    with torch.no_grad():\n",
    "        preds = model(images)\n",
    "        preds = torch.sigmoid(preds)\n",
    "    images, masks, preds = images.cpu(), masks.cpu(), preds.cpu()\n",
    "    \n",
    "    for num in range(CFG.valid_batch_size):\n",
    "        fig, axes = plt.subplots(nrows=1, ncols=4, figsize=(20,5))\n",
    "        axes = axes.flatten()\n",
    "        axes[0].imshow(images[num].permute(1,2,0))\n",
    "        axes[0].axis('off')\n",
    "        axes[0].set_title('Image')\n",
    "        axes[1].imshow(masks[num].permute(1,2,0))\n",
    "        axes[1].axis('off')\n",
    "        axes[1].set_title('Ground Truth')\n",
    "        axes[2].imshow(preds[num].permute(1,2,0))\n",
    "        axes[2].axis('off')\n",
    "        axes[2].set_title('pred')\n",
    "        axes[3].imshow((preds[num]>thresh).permute(1,2,0))\n",
    "        axes[3].axis('off')\n",
    "        axes[3].set_title('pred_thresh')\n",
    "    break"
   ]
  },
  {
   "cell_type": "code",
   "execution_count": null,
   "metadata": {},
   "outputs": [],
   "source": []
  },
  {
   "cell_type": "code",
   "execution_count": null,
   "metadata": {},
   "outputs": [],
   "source": []
  },
  {
   "cell_type": "code",
   "execution_count": null,
   "metadata": {},
   "outputs": [],
   "source": []
  }
 ],
 "metadata": {
  "kernelspec": {
   "display_name": "Python 3",
   "language": "python",
   "name": "python3"
  },
  "language_info": {
   "codemirror_mode": {
    "name": "ipython",
    "version": 3
   },
   "file_extension": ".py",
   "mimetype": "text/x-python",
   "name": "python",
   "nbconvert_exporter": "python",
   "pygments_lexer": "ipython3",
   "version": "3.10.11"
  }
 },
 "nbformat": 4,
 "nbformat_minor": 4
}

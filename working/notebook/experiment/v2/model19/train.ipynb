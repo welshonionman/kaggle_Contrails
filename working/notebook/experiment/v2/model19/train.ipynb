{
 "cells": [
  {
   "cell_type": "code",
   "execution_count": 1,
   "metadata": {
    "execution": {
     "iopub.execute_input": "2023-06-28T21:31:36.037675Z",
     "iopub.status.busy": "2023-06-28T21:31:36.037412Z",
     "iopub.status.idle": "2023-06-28T21:31:38.739473Z",
     "shell.execute_reply": "2023-06-28T21:31:38.738883Z"
    }
   },
   "outputs": [],
   "source": [
    "import gc\n",
    "import os\n",
    "import sys\n",
    "import warnings\n",
    "from glob import glob\n",
    "import matplotlib.pyplot as plt\n",
    "\n",
    "import albumentations as A\n",
    "from albumentations.pytorch import ToTensorV2\n",
    "import pandas as pd\n",
    "import cv2\n",
    "import torch\n",
    "import torch.nn as nn\n",
    "import torch.nn.functional as F\n",
    "from torch.utils.data import DataLoader\n",
    "import segmentation_models_pytorch as smp\n",
    "from torch.cuda import amp\n",
    "from tqdm import tqdm"
   ]
  },
  {
   "cell_type": "code",
   "execution_count": 2,
   "metadata": {
    "execution": {
     "iopub.execute_input": "2023-06-28T21:31:38.741612Z",
     "iopub.status.busy": "2023-06-28T21:31:38.741267Z",
     "iopub.status.idle": "2023-06-28T21:31:38.796408Z",
     "shell.execute_reply": "2023-06-28T21:31:38.795797Z"
    }
   },
   "outputs": [],
   "source": [
    "sys.path.append('../')\n",
    "from script.metrics import *\n",
    "from script.dataset import *\n",
    "from script.helper import *\n",
    "from script.scheduler import *\n",
    "from script.loss import *"
   ]
  },
  {
   "attachments": {},
   "cell_type": "markdown",
   "metadata": {},
   "source": [
    "### Config"
   ]
  },
  {
   "cell_type": "code",
   "execution_count": 4,
   "metadata": {
    "execution": {
     "iopub.execute_input": "2023-06-28T21:31:38.798451Z",
     "iopub.status.busy": "2023-06-28T21:31:38.798194Z",
     "iopub.status.idle": "2023-06-28T21:31:38.821113Z",
     "shell.execute_reply": "2023-06-28T21:31:38.820672Z"
    }
   },
   "outputs": [],
   "source": [
    "class CFG:\n",
    "    debug = False\n",
    "    # ============== comp exp name =============\n",
    "    comp_name = 'contrail'\n",
    "    comp_dir_path = '/kaggle/input/'\n",
    "    comp_folder_name = 'google-research-identify-contrails-reduce-global-warming'\n",
    "\n",
    "    dataset_path = \"/kaggle/working/dataset_train/ash_color/\"\n",
    "\n",
    "    exp_name = os.getcwd().split('/')[-1]\n",
    "\n",
    "    # ============== model cfg =============\n",
    "    model_arch = 'Unet'\n",
    "    backbone = 'timm-resnest200e'\n",
    "    in_chans = 3\n",
    "    target_size = 1\n",
    "\n",
    "    # ============== training cfg =============\n",
    "    train_batch_size = 32\n",
    "    valid_batch_size = train_batch_size\n",
    "\n",
    "    epochs = 90\n",
    "    epochs_patience = 12\n",
    "\n",
    "    lr = 1e-4\n",
    "    loss = \"DiceLoss\"\n",
    "    smooth = 300\n",
    "    \n",
    "    # ============== fixed =============\n",
    "    num_workers = 4\n",
    "    seed = 42\n",
    "\n",
    "    # ============== augmentation =============\n",
    "    train_aug_list = [\n",
    "        A.RandomRotate90(),\n",
    "        A.RandomBrightnessContrast(),\n",
    "        A.ShiftScaleRotate(p=0.5,rotate_limit=(10,10)),\n",
    "        A.GridDistortion(num_steps=5, distort_limit=0.3, p=0.5),\n",
    "        A.CoarseDropout(max_holes=10, max_width=int(256 * 0.05), max_height=int(256 * 0.05),\n",
    "                        mask_fill_value=0, p=0.5),\n",
    "        A.RandomGridShuffle(),\n",
    "        ToTensorV2(transpose_mask=True),\n",
    "    ]\n",
    "\n",
    "    valid_aug_list = [\n",
    "        ToTensorV2(transpose_mask=True),\n",
    "    ]\n",
    "\n",
    "\n",
    "warnings.filterwarnings(\"ignore\")\n",
    "torch.backends.cudnn.benchmark = True\n",
    "device = torch.device('cuda' if torch.cuda.is_available() else 'cpu')\n",
    "set_seed(CFG.seed)\n",
    "os.makedirs(f'./{CFG.exp_name}/', exist_ok=True)"
   ]
  },
  {
   "attachments": {},
   "cell_type": "markdown",
   "metadata": {},
   "source": [
    "# Dataset"
   ]
  },
  {
   "cell_type": "code",
   "execution_count": 4,
   "metadata": {
    "execution": {
     "iopub.execute_input": "2023-06-28T21:31:38.822888Z",
     "iopub.status.busy": "2023-06-28T21:31:38.822653Z",
     "iopub.status.idle": "2023-06-28T21:31:38.856235Z",
     "shell.execute_reply": "2023-06-28T21:31:38.855802Z"
    }
   },
   "outputs": [
    {
     "data": {
      "text/plain": [
       "((20529, 2), (1856, 2))"
      ]
     },
     "execution_count": 4,
     "metadata": {},
     "output_type": "execute_result"
    }
   ],
   "source": [
    "train_df = pd.read_csv(f\"{CFG.dataset_path}/train_df.csv\")\n",
    "valid_df = pd.read_csv(f\"{CFG.dataset_path}/validation_df.csv\")\n",
    "\n",
    "if CFG.debug:\n",
    "    train_df=train_df[:2000]\n",
    "    valid_df=valid_df[:2000]\n",
    "train_df.shape, valid_df.shape"
   ]
  },
  {
   "cell_type": "code",
   "execution_count": 5,
   "metadata": {
    "execution": {
     "iopub.execute_input": "2023-06-28T21:31:38.876416Z",
     "iopub.status.busy": "2023-06-28T21:31:38.875958Z",
     "iopub.status.idle": "2023-06-28T21:31:38.961786Z",
     "shell.execute_reply": "2023-06-28T21:31:38.961317Z"
    }
   },
   "outputs": [
    {
     "name": "stdout",
     "output_type": "stream",
     "text": [
      "\n",
      "len(dataset_train) = 20529\n",
      "train_image_shape : torch.Size([3, 256, 256])\n",
      "train_mask_shape  : torch.Size([1, 256, 256])\n",
      "train_image_dtype : torch.float32\n",
      "train_mask_dtype : torch.float32\n",
      "\n",
      "len(dataset_valid) = 1856\n",
      "valid_image_shape : torch.Size([3, 256, 256])\n",
      "valid_mask_shape  : torch.Size([1, 256, 256])\n",
      "valid_image_dtype : torch.float32\n",
      "valid_mask_dtype : torch.float32\n",
      "\n"
     ]
    }
   ],
   "source": [
    "dataset_train = ContrailsDataset(train_df, CFG.train_aug_list)\n",
    "dataset_valid = ContrailsDataset(valid_df, CFG.valid_aug_list)\n",
    "\n",
    "dataloader_train = DataLoader(dataset_train, batch_size=CFG.train_batch_size , shuffle=True, num_workers = CFG.num_workers)\n",
    "dataloader_valid = DataLoader(dataset_valid, batch_size=CFG.valid_batch_size, num_workers = CFG.num_workers)\n",
    "\n",
    "print(f\"\"\"\n",
    "{len(dataset_train) = }\n",
    "train_image_shape : {dataset_train[0][0].shape}\n",
    "train_mask_shape  : {dataset_train[0][1].shape}\n",
    "train_image_dtype : {dataset_train[0][0].dtype}\n",
    "train_mask_dtype : {dataset_train[0][1].dtype}\n",
    "\n",
    "{len(dataset_valid) = }\n",
    "valid_image_shape : {dataset_valid[0][0].shape}\n",
    "valid_mask_shape  : {dataset_valid[0][1].shape}\n",
    "valid_image_dtype : {dataset_valid[0][0].dtype}\n",
    "valid_mask_dtype : {dataset_valid[0][1].dtype}\n",
    "\"\"\")\n",
    "\n",
    "# show_dataset(112, dataset_train)"
   ]
  },
  {
   "attachments": {},
   "cell_type": "markdown",
   "metadata": {},
   "source": [
    "# Model"
   ]
  },
  {
   "cell_type": "code",
   "execution_count": 6,
   "metadata": {
    "execution": {
     "iopub.execute_input": "2023-06-28T21:31:38.963455Z",
     "iopub.status.busy": "2023-06-28T21:31:38.963316Z",
     "iopub.status.idle": "2023-06-28T21:31:40.740888Z",
     "shell.execute_reply": "2023-06-28T21:31:40.740396Z"
    }
   },
   "outputs": [
    {
     "name": "stdout",
     "output_type": "stream",
     "text": [
      "model_arch:  Unet\n",
      "backbone:  timm-resnest200e\n"
     ]
    }
   ],
   "source": [
    "class CustomModel(nn.Module):\n",
    "    def __init__(self,model_arch, backbone, in_chans, target_size, weight):\n",
    "        super().__init__()\n",
    "\n",
    "        self.model = smp.create_model(\n",
    "            model_arch,\n",
    "            encoder_name=backbone,\n",
    "            encoder_weights=weight,\n",
    "            in_channels=in_chans,\n",
    "            classes=target_size,\n",
    "            activation=None,\n",
    "        )\n",
    "        \n",
    "    def forward(self, image):\n",
    "        output = self.model(image)\n",
    "        return output\n",
    "\n",
    "\n",
    "def build_model(model_arch, backbone, in_chans, target_size, weight=\"imagenet\"):\n",
    "    print('model_arch: ', model_arch)\n",
    "    print('backbone: ', backbone)\n",
    "    model = CustomModel(model_arch, backbone, in_chans, target_size, weight)\n",
    "    return model\n",
    "\n",
    "\n",
    "num_gpus = torch.cuda.device_count()\n",
    "device_ids = list(range(num_gpus))\n",
    "\n",
    "model = build_model(CFG.model_arch, CFG.backbone, CFG.in_chans, CFG.target_size)\n",
    "model = nn.DataParallel(model, device_ids=device_ids)\n",
    "model.to(device);"
   ]
  },
  {
   "cell_type": "code",
   "execution_count": 7,
   "metadata": {
    "execution": {
     "iopub.execute_input": "2023-06-28T21:31:40.742828Z",
     "iopub.status.busy": "2023-06-28T21:31:40.742602Z",
     "iopub.status.idle": "2023-06-28T21:31:40.746910Z",
     "shell.execute_reply": "2023-06-28T21:31:40.746462Z"
    }
   },
   "outputs": [],
   "source": [
    "scaler = amp.GradScaler()\n",
    "criterion = get_lossfn(CFG, CFG.smooth)\n",
    "optimizer = torch.optim.AdamW(model.parameters(), lr=CFG.lr)\n",
    "scheduler = torch.optim.lr_scheduler.CosineAnnealingLR(optimizer, T_max=CFG.epochs, eta_min=1e-6)\n",
    "\n",
    "thresholds_to_test = [round(x * 0.01, 2) for x in range(1, 101, 2)]"
   ]
  },
  {
   "attachments": {},
   "cell_type": "markdown",
   "metadata": {},
   "source": [
    "# Training"
   ]
  },
  {
   "cell_type": "code",
   "execution_count": 8,
   "metadata": {
    "execution": {
     "iopub.execute_input": "2023-06-28T21:31:40.748513Z",
     "iopub.status.busy": "2023-06-28T21:31:40.748307Z",
     "iopub.status.idle": "2023-06-29T01:37:26.854344Z",
     "shell.execute_reply": "2023-06-29T01:37:26.853757Z"
    }
   },
   "outputs": [
    {
     "name": "stderr",
     "output_type": "stream",
     "text": [
      "Epoch 0/90  Mem : 15GB  LR : 1.00E-04  Loss: 0.8031: 100%|██████████| 642/642 [03:13<00:00,  3.33it/s]\n",
      "Val Loss: 0.5913: 100%|██████████| 58/58 [00:06<00:00,  8.48it/s]\n"
     ]
    },
    {
     "name": "stdout",
     "output_type": "stream",
     "text": [
      "FBeta : 0.5598\tthresh : 0.36\tSAVED MODEL\n",
      "\n"
     ]
    },
    {
     "name": "stderr",
     "output_type": "stream",
     "text": [
      "Epoch 1/90  Mem : 15GB  LR : 1.00E-04  Loss: 0.4739: 100%|██████████| 642/642 [03:11<00:00,  3.34it/s]\n",
      "Val Loss: 0.4432: 100%|██████████| 58/58 [00:06<00:00,  8.34it/s]\n"
     ]
    },
    {
     "name": "stdout",
     "output_type": "stream",
     "text": [
      "FBeta : 0.5910\tthresh : 0.46\tSAVED MODEL\n",
      "\n"
     ]
    },
    {
     "name": "stderr",
     "output_type": "stream",
     "text": [
      "Epoch 2/90  Mem : 15GB  LR : 9.99E-05  Loss: 0.4419: 100%|██████████| 642/642 [03:11<00:00,  3.35it/s]\n",
      "Val Loss: 0.4195: 100%|██████████| 58/58 [00:06<00:00,  8.41it/s]\n"
     ]
    },
    {
     "name": "stdout",
     "output_type": "stream",
     "text": [
      "FBeta : 0.5956\tthresh : 0.56\tSAVED MODEL\n",
      "\n"
     ]
    },
    {
     "name": "stderr",
     "output_type": "stream",
     "text": [
      "Epoch 3/90  Mem : 15GB  LR : 9.97E-05  Loss: 0.4315: 100%|██████████| 642/642 [03:11<00:00,  3.35it/s]\n",
      "Val Loss: 0.4207: 100%|██████████| 58/58 [00:06<00:00,  8.38it/s]\n"
     ]
    },
    {
     "name": "stdout",
     "output_type": "stream",
     "text": [
      "FBeta : 0.5908\tthresh : 0.31\n",
      "\n"
     ]
    },
    {
     "name": "stderr",
     "output_type": "stream",
     "text": [
      "Epoch 4/90  Mem : 15GB  LR : 9.95E-05  Loss: 0.4193: 100%|██████████| 642/642 [03:11<00:00,  3.36it/s]\n",
      "Val Loss: 0.3971: 100%|██████████| 58/58 [00:06<00:00,  8.36it/s]\n"
     ]
    },
    {
     "name": "stdout",
     "output_type": "stream",
     "text": [
      "FBeta : 0.6102\tthresh : 0.71\tSAVED MODEL\n",
      "\n"
     ]
    },
    {
     "name": "stderr",
     "output_type": "stream",
     "text": [
      "Epoch 5/90  Mem : 15GB  LR : 9.92E-05  Loss: 0.4183: 100%|██████████| 642/642 [03:13<00:00,  3.32it/s]\n",
      "Val Loss: 0.3909: 100%|██████████| 58/58 [00:07<00:00,  8.14it/s]\n"
     ]
    },
    {
     "name": "stdout",
     "output_type": "stream",
     "text": [
      "FBeta : 0.6125\tthresh : 0.21\tSAVED MODEL\n",
      "\n"
     ]
    },
    {
     "name": "stderr",
     "output_type": "stream",
     "text": [
      "Epoch 6/90  Mem : 15GB  LR : 9.89E-05  Loss: 0.4128: 100%|██████████| 642/642 [03:18<00:00,  3.24it/s]\n",
      "Val Loss: 0.3845: 100%|██████████| 58/58 [00:07<00:00,  8.04it/s]\n"
     ]
    },
    {
     "name": "stdout",
     "output_type": "stream",
     "text": [
      "FBeta : 0.6197\tthresh : 0.26\tSAVED MODEL\n",
      "\n"
     ]
    },
    {
     "name": "stderr",
     "output_type": "stream",
     "text": [
      "Epoch 7/90  Mem : 15GB  LR : 9.85E-05  Loss: 0.4091: 100%|██████████| 642/642 [03:11<00:00,  3.35it/s]\n",
      "Val Loss: 0.3877: 100%|██████████| 58/58 [00:06<00:00,  8.47it/s]\n"
     ]
    },
    {
     "name": "stdout",
     "output_type": "stream",
     "text": [
      "FBeta : 0.6147\tthresh : 0.31\n",
      "\n"
     ]
    },
    {
     "name": "stderr",
     "output_type": "stream",
     "text": [
      "Epoch 8/90  Mem : 15GB  LR : 9.81E-05  Loss: 0.4058: 100%|██████████| 642/642 [03:18<00:00,  3.23it/s]\n",
      "Val Loss: 0.3908: 100%|██████████| 58/58 [00:07<00:00,  8.06it/s]\n"
     ]
    },
    {
     "name": "stdout",
     "output_type": "stream",
     "text": [
      "FBeta : 0.6152\tthresh : 0.16\n",
      "\n"
     ]
    },
    {
     "name": "stderr",
     "output_type": "stream",
     "text": [
      "Epoch 9/90  Mem : 15GB  LR : 9.76E-05  Loss: 0.4059: 100%|██████████| 642/642 [03:17<00:00,  3.25it/s]\n",
      "Val Loss: 0.3858: 100%|██████████| 58/58 [00:07<00:00,  8.13it/s]\n"
     ]
    },
    {
     "name": "stdout",
     "output_type": "stream",
     "text": [
      "FBeta : 0.6201\tthresh : 0.96\tSAVED MODEL\n",
      "\n"
     ]
    },
    {
     "name": "stderr",
     "output_type": "stream",
     "text": [
      "Epoch 10/90  Mem : 15GB  LR : 9.70E-05  Loss: 0.4058: 100%|██████████| 642/642 [03:19<00:00,  3.21it/s]\n",
      "Val Loss: 0.3813: 100%|██████████| 58/58 [00:07<00:00,  8.14it/s]\n"
     ]
    },
    {
     "name": "stdout",
     "output_type": "stream",
     "text": [
      "FBeta : 0.6222\tthresh : 0.71\tSAVED MODEL\n",
      "\n"
     ]
    },
    {
     "name": "stderr",
     "output_type": "stream",
     "text": [
      "Epoch 11/90  Mem : 15GB  LR : 9.64E-05  Loss: 0.3967: 100%|██████████| 642/642 [03:11<00:00,  3.35it/s]\n",
      "Val Loss: 0.3920: 100%|██████████| 58/58 [00:06<00:00,  8.40it/s]\n"
     ]
    },
    {
     "name": "stdout",
     "output_type": "stream",
     "text": [
      "FBeta : 0.6138\tthresh : 0.36\n",
      "\n"
     ]
    },
    {
     "name": "stderr",
     "output_type": "stream",
     "text": [
      "Epoch 12/90  Mem : 15GB  LR : 9.57E-05  Loss: 0.3978: 100%|██████████| 642/642 [03:12<00:00,  3.33it/s]\n",
      "Val Loss: 0.3765: 100%|██████████| 58/58 [00:06<00:00,  8.43it/s]\n"
     ]
    },
    {
     "name": "stdout",
     "output_type": "stream",
     "text": [
      "FBeta : 0.6257\tthresh : 0.21\tSAVED MODEL\n",
      "\n"
     ]
    },
    {
     "name": "stderr",
     "output_type": "stream",
     "text": [
      "Epoch 13/90  Mem : 15GB  LR : 9.50E-05  Loss: 0.3979: 100%|██████████| 642/642 [03:12<00:00,  3.34it/s]\n",
      "Val Loss: 0.3757: 100%|██████████| 58/58 [00:06<00:00,  8.37it/s]\n"
     ]
    },
    {
     "name": "stdout",
     "output_type": "stream",
     "text": [
      "FBeta : 0.6258\tthresh : 0.76\tSAVED MODEL\n",
      "\n"
     ]
    },
    {
     "name": "stderr",
     "output_type": "stream",
     "text": [
      "Epoch 14/90  Mem : 15GB  LR : 9.42E-05  Loss: 0.3942: 100%|██████████| 642/642 [03:12<00:00,  3.34it/s]\n",
      "Val Loss: 0.3804: 100%|██████████| 58/58 [00:06<00:00,  8.33it/s]\n"
     ]
    },
    {
     "name": "stdout",
     "output_type": "stream",
     "text": [
      "FBeta : 0.6220\tthresh : 0.96\n",
      "\n"
     ]
    },
    {
     "name": "stderr",
     "output_type": "stream",
     "text": [
      "Epoch 15/90  Mem : 15GB  LR : 9.34E-05  Loss: 0.3932: 100%|██████████| 642/642 [03:17<00:00,  3.25it/s]\n",
      "Val Loss: 0.3807: 100%|██████████| 58/58 [00:07<00:00,  8.20it/s]\n"
     ]
    },
    {
     "name": "stdout",
     "output_type": "stream",
     "text": [
      "FBeta : 0.6254\tthresh : 0.56\n",
      "\n"
     ]
    },
    {
     "name": "stderr",
     "output_type": "stream",
     "text": [
      "Epoch 16/90  Mem : 15GB  LR : 9.25E-05  Loss: 0.3889: 100%|██████████| 642/642 [03:17<00:00,  3.25it/s]\n",
      "Val Loss: 0.3721: 100%|██████████| 58/58 [00:06<00:00,  8.42it/s]\n"
     ]
    },
    {
     "name": "stdout",
     "output_type": "stream",
     "text": [
      "FBeta : 0.6291\tthresh : 0.71\tSAVED MODEL\n",
      "\n"
     ]
    },
    {
     "name": "stderr",
     "output_type": "stream",
     "text": [
      "Epoch 17/90  Mem : 15GB  LR : 9.15E-05  Loss: 0.3918: 100%|██████████| 642/642 [03:19<00:00,  3.22it/s]\n",
      "Val Loss: 0.3726: 100%|██████████| 58/58 [00:07<00:00,  7.97it/s]\n"
     ]
    },
    {
     "name": "stdout",
     "output_type": "stream",
     "text": [
      "FBeta : 0.6297\tthresh : 0.51\tSAVED MODEL\n",
      "\n"
     ]
    },
    {
     "name": "stderr",
     "output_type": "stream",
     "text": [
      "Epoch 18/90  Mem : 15GB  LR : 9.05E-05  Loss: 0.3890: 100%|██████████| 642/642 [03:14<00:00,  3.30it/s]\n",
      "Val Loss: 0.3807: 100%|██████████| 58/58 [00:07<00:00,  8.01it/s]\n"
     ]
    },
    {
     "name": "stdout",
     "output_type": "stream",
     "text": [
      "FBeta : 0.6227\tthresh : 0.61\n",
      "\n"
     ]
    },
    {
     "name": "stderr",
     "output_type": "stream",
     "text": [
      "Epoch 19/90  Mem : 15GB  LR : 8.95E-05  Loss: 0.3864: 100%|██████████| 642/642 [03:16<00:00,  3.27it/s]\n",
      "Val Loss: 0.3712: 100%|██████████| 58/58 [00:07<00:00,  8.24it/s]\n"
     ]
    },
    {
     "name": "stdout",
     "output_type": "stream",
     "text": [
      "FBeta : 0.6303\tthresh : 0.21\tSAVED MODEL\n",
      "\n"
     ]
    },
    {
     "name": "stderr",
     "output_type": "stream",
     "text": [
      "Epoch 20/90  Mem : 15GB  LR : 8.84E-05  Loss: 0.3867: 100%|██████████| 642/642 [03:14<00:00,  3.30it/s]\n",
      "Val Loss: 0.3774: 100%|██████████| 58/58 [00:07<00:00,  8.25it/s]\n"
     ]
    },
    {
     "name": "stdout",
     "output_type": "stream",
     "text": [
      "FBeta : 0.6271\tthresh : 0.96\n",
      "\n"
     ]
    },
    {
     "name": "stderr",
     "output_type": "stream",
     "text": [
      "Epoch 21/90  Mem : 15GB  LR : 8.73E-05  Loss: 0.3836: 100%|██████████| 642/642 [03:14<00:00,  3.31it/s]\n",
      "Val Loss: 0.3725: 100%|██████████| 58/58 [00:07<00:00,  8.27it/s]\n"
     ]
    },
    {
     "name": "stdout",
     "output_type": "stream",
     "text": [
      "FBeta : 0.6310\tthresh : 0.01\tSAVED MODEL\n",
      "\n"
     ]
    },
    {
     "name": "stderr",
     "output_type": "stream",
     "text": [
      "Epoch 22/90  Mem : 15GB  LR : 8.61E-05  Loss: 0.3825: 100%|██████████| 642/642 [03:14<00:00,  3.30it/s]\n",
      "Val Loss: 0.3694: 100%|██████████| 58/58 [00:06<00:00,  8.34it/s]\n"
     ]
    },
    {
     "name": "stdout",
     "output_type": "stream",
     "text": [
      "FBeta : 0.6331\tthresh : 0.06\tSAVED MODEL\n",
      "\n"
     ]
    },
    {
     "name": "stderr",
     "output_type": "stream",
     "text": [
      "Epoch 23/90  Mem : 15GB  LR : 8.49E-05  Loss: 0.3810: 100%|██████████| 642/642 [03:11<00:00,  3.36it/s]\n",
      "Val Loss: 0.3664: 100%|██████████| 58/58 [00:06<00:00,  8.45it/s]\n"
     ]
    },
    {
     "name": "stdout",
     "output_type": "stream",
     "text": [
      "FBeta : 0.6369\tthresh : 0.06\tSAVED MODEL\n",
      "\n"
     ]
    },
    {
     "name": "stderr",
     "output_type": "stream",
     "text": [
      "Epoch 24/90  Mem : 15GB  LR : 8.36E-05  Loss: 0.3798: 100%|██████████| 642/642 [03:11<00:00,  3.35it/s]\n",
      "Val Loss: 0.3708: 100%|██████████| 58/58 [00:06<00:00,  8.43it/s]\n"
     ]
    },
    {
     "name": "stdout",
     "output_type": "stream",
     "text": [
      "FBeta : 0.6322\tthresh : 0.96\n",
      "\n"
     ]
    },
    {
     "name": "stderr",
     "output_type": "stream",
     "text": [
      "Epoch 25/90  Mem : 15GB  LR : 8.23E-05  Loss: 0.3762: 100%|██████████| 642/642 [03:10<00:00,  3.36it/s]\n",
      "Val Loss: 0.3631: 100%|██████████| 58/58 [00:06<00:00,  8.40it/s]\n"
     ]
    },
    {
     "name": "stdout",
     "output_type": "stream",
     "text": [
      "FBeta : 0.6368\tthresh : 0.36\n",
      "\n"
     ]
    },
    {
     "name": "stderr",
     "output_type": "stream",
     "text": [
      "Epoch 26/90  Mem : 15GB  LR : 8.10E-05  Loss: 0.3759: 100%|██████████| 642/642 [03:12<00:00,  3.34it/s]\n",
      "Val Loss: 0.3787: 100%|██████████| 58/58 [00:06<00:00,  8.41it/s]\n"
     ]
    },
    {
     "name": "stdout",
     "output_type": "stream",
     "text": [
      "FBeta : 0.6210\tthresh : 0.16\n",
      "\n"
     ]
    },
    {
     "name": "stderr",
     "output_type": "stream",
     "text": [
      "Epoch 27/90  Mem : 15GB  LR : 7.96E-05  Loss: 0.3757: 100%|██████████| 642/642 [03:11<00:00,  3.35it/s]\n",
      "Val Loss: 0.3677: 100%|██████████| 58/58 [00:06<00:00,  8.38it/s]\n"
     ]
    },
    {
     "name": "stdout",
     "output_type": "stream",
     "text": [
      "FBeta : 0.6339\tthresh : 0.06\n",
      "\n"
     ]
    },
    {
     "name": "stderr",
     "output_type": "stream",
     "text": [
      "Epoch 28/90  Mem : 15GB  LR : 7.82E-05  Loss: 0.3736: 100%|██████████| 642/642 [03:11<00:00,  3.34it/s]\n",
      "Val Loss: 0.3547: 100%|██████████| 58/58 [00:06<00:00,  8.40it/s]\n"
     ]
    },
    {
     "name": "stdout",
     "output_type": "stream",
     "text": [
      "FBeta : 0.6426\tthresh : 0.21\tSAVED MODEL\n",
      "\n"
     ]
    },
    {
     "name": "stderr",
     "output_type": "stream",
     "text": [
      "Epoch 29/90  Mem : 15GB  LR : 7.67E-05  Loss: 0.3739: 100%|██████████| 642/642 [03:15<00:00,  3.29it/s]\n",
      "Val Loss: 0.3588: 100%|██████████| 58/58 [00:07<00:00,  8.21it/s]\n"
     ]
    },
    {
     "name": "stdout",
     "output_type": "stream",
     "text": [
      "FBeta : 0.6382\tthresh : 0.81\n",
      "\n"
     ]
    },
    {
     "name": "stderr",
     "output_type": "stream",
     "text": [
      "Epoch 30/90  Mem : 15GB  LR : 7.53E-05  Loss: 0.3724: 100%|██████████| 642/642 [03:18<00:00,  3.23it/s]\n",
      "Val Loss: 0.3601: 100%|██████████| 58/58 [00:07<00:00,  8.08it/s]\n"
     ]
    },
    {
     "name": "stdout",
     "output_type": "stream",
     "text": [
      "FBeta : 0.6401\tthresh : 0.21\n",
      "\n"
     ]
    },
    {
     "name": "stderr",
     "output_type": "stream",
     "text": [
      "Epoch 31/90  Mem : 15GB  LR : 7.37E-05  Loss: 0.3708: 100%|██████████| 642/642 [03:18<00:00,  3.23it/s]\n",
      "Val Loss: 0.3667: 100%|██████████| 58/58 [00:07<00:00,  7.99it/s]\n"
     ]
    },
    {
     "name": "stdout",
     "output_type": "stream",
     "text": [
      "FBeta : 0.6354\tthresh : 0.21\n",
      "\n"
     ]
    },
    {
     "name": "stderr",
     "output_type": "stream",
     "text": [
      "Epoch 32/90  Mem : 15GB  LR : 7.22E-05  Loss: 0.3692: 100%|██████████| 642/642 [03:16<00:00,  3.27it/s]\n",
      "Val Loss: 0.3595: 100%|██████████| 58/58 [00:06<00:00,  8.42it/s]\n"
     ]
    },
    {
     "name": "stdout",
     "output_type": "stream",
     "text": [
      "FBeta : 0.6411\tthresh : 0.01\n",
      "\n"
     ]
    },
    {
     "name": "stderr",
     "output_type": "stream",
     "text": [
      "Epoch 33/90  Mem : 15GB  LR : 7.06E-05  Loss: 0.3706: 100%|██████████| 642/642 [03:12<00:00,  3.34it/s]\n",
      "Val Loss: 0.3562: 100%|██████████| 58/58 [00:06<00:00,  8.39it/s]\n"
     ]
    },
    {
     "name": "stdout",
     "output_type": "stream",
     "text": [
      "FBeta : 0.6426\tthresh : 0.16\tSAVED MODEL\n",
      "\n"
     ]
    },
    {
     "name": "stderr",
     "output_type": "stream",
     "text": [
      "Epoch 34/90  Mem : 15GB  LR : 6.90E-05  Loss: 0.3661: 100%|██████████| 642/642 [03:12<00:00,  3.33it/s]\n",
      "Val Loss: 0.3618: 100%|██████████| 58/58 [00:06<00:00,  8.39it/s]\n"
     ]
    },
    {
     "name": "stdout",
     "output_type": "stream",
     "text": [
      "FBeta : 0.6374\tthresh : 0.56\n",
      "\n"
     ]
    },
    {
     "name": "stderr",
     "output_type": "stream",
     "text": [
      "Epoch 35/90  Mem : 15GB  LR : 6.74E-05  Loss: 0.3649: 100%|██████████| 642/642 [03:13<00:00,  3.33it/s]\n",
      "Val Loss: 0.3615: 100%|██████████| 58/58 [00:06<00:00,  8.47it/s]\n"
     ]
    },
    {
     "name": "stdout",
     "output_type": "stream",
     "text": [
      "FBeta : 0.6412\tthresh : 0.51\n",
      "\n"
     ]
    },
    {
     "name": "stderr",
     "output_type": "stream",
     "text": [
      "Epoch 36/90  Mem : 15GB  LR : 6.58E-05  Loss: 0.3637: 100%|██████████| 642/642 [03:19<00:00,  3.22it/s]\n",
      "Val Loss: 0.3616: 100%|██████████| 58/58 [00:07<00:00,  8.13it/s]\n"
     ]
    },
    {
     "name": "stdout",
     "output_type": "stream",
     "text": [
      "FBeta : 0.6395\tthresh : 0.06\n",
      "\n"
     ]
    },
    {
     "name": "stderr",
     "output_type": "stream",
     "text": [
      "Epoch 37/90  Mem : 15GB  LR : 6.41E-05  Loss: 0.3622: 100%|██████████| 642/642 [03:17<00:00,  3.25it/s]\n",
      "Val Loss: 0.3601: 100%|██████████| 58/58 [00:07<00:00,  8.12it/s]\n"
     ]
    },
    {
     "name": "stdout",
     "output_type": "stream",
     "text": [
      "FBeta : 0.6428\tthresh : 0.46\tSAVED MODEL\n",
      "\n"
     ]
    },
    {
     "name": "stderr",
     "output_type": "stream",
     "text": [
      "Epoch 38/90  Mem : 15GB  LR : 6.25E-05  Loss: 0.3614: 100%|██████████| 642/642 [03:17<00:00,  3.25it/s]\n",
      "Val Loss: 0.3583: 100%|██████████| 58/58 [00:06<00:00,  8.36it/s]\n"
     ]
    },
    {
     "name": "stdout",
     "output_type": "stream",
     "text": [
      "FBeta : 0.6420\tthresh : 0.06\n",
      "\n"
     ]
    },
    {
     "name": "stderr",
     "output_type": "stream",
     "text": [
      "Epoch 39/90  Mem : 15GB  LR : 6.08E-05  Loss: 0.3578: 100%|██████████| 642/642 [03:12<00:00,  3.34it/s]\n",
      "Val Loss: 0.3603: 100%|██████████| 58/58 [00:06<00:00,  8.40it/s]\n"
     ]
    },
    {
     "name": "stdout",
     "output_type": "stream",
     "text": [
      "FBeta : 0.6418\tthresh : 0.31\n",
      "\n"
     ]
    },
    {
     "name": "stderr",
     "output_type": "stream",
     "text": [
      "Epoch 40/90  Mem : 15GB  LR : 5.91E-05  Loss: 0.3579: 100%|██████████| 642/642 [03:13<00:00,  3.32it/s]\n",
      "Val Loss: 0.3587: 100%|██████████| 58/58 [00:07<00:00,  8.04it/s]\n"
     ]
    },
    {
     "name": "stdout",
     "output_type": "stream",
     "text": [
      "FBeta : 0.6404\tthresh : 0.31\n",
      "\n"
     ]
    },
    {
     "name": "stderr",
     "output_type": "stream",
     "text": [
      "Epoch 41/90  Mem : 15GB  LR : 5.74E-05  Loss: 0.3576: 100%|██████████| 642/642 [03:16<00:00,  3.27it/s]\n",
      "Val Loss: 0.3588: 100%|██████████| 58/58 [00:06<00:00,  8.30it/s]\n"
     ]
    },
    {
     "name": "stdout",
     "output_type": "stream",
     "text": [
      "FBeta : 0.6422\tthresh : 0.06\n",
      "\n"
     ]
    },
    {
     "name": "stderr",
     "output_type": "stream",
     "text": [
      "Epoch 42/90  Mem : 15GB  LR : 5.57E-05  Loss: 0.3559: 100%|██████████| 642/642 [03:13<00:00,  3.31it/s]\n",
      "Val Loss: 0.3556: 100%|██████████| 58/58 [00:06<00:00,  8.30it/s]\n"
     ]
    },
    {
     "name": "stdout",
     "output_type": "stream",
     "text": [
      "FBeta : 0.6425\tthresh : 0.41\n",
      "\n"
     ]
    },
    {
     "name": "stderr",
     "output_type": "stream",
     "text": [
      "Epoch 43/90  Mem : 15GB  LR : 5.40E-05  Loss: 0.3568: 100%|██████████| 642/642 [03:15<00:00,  3.29it/s]\n",
      "Val Loss: 0.3624: 100%|██████████| 58/58 [00:07<00:00,  8.26it/s]\n"
     ]
    },
    {
     "name": "stdout",
     "output_type": "stream",
     "text": [
      "FBeta : 0.6396\tthresh : 0.06\n",
      "\n"
     ]
    },
    {
     "name": "stderr",
     "output_type": "stream",
     "text": [
      "Epoch 44/90  Mem : 15GB  LR : 5.22E-05  Loss: 0.3528: 100%|██████████| 642/642 [03:17<00:00,  3.25it/s]\n",
      "Val Loss: 0.3636: 100%|██████████| 58/58 [00:07<00:00,  8.22it/s]\n"
     ]
    },
    {
     "name": "stdout",
     "output_type": "stream",
     "text": [
      "FBeta : 0.6383\tthresh : 0.06\n",
      "\n"
     ]
    },
    {
     "name": "stderr",
     "output_type": "stream",
     "text": [
      "Epoch 45/90  Mem : 15GB  LR : 5.05E-05  Loss: 0.3529: 100%|██████████| 642/642 [03:18<00:00,  3.23it/s]\n",
      "Val Loss: 0.3579: 100%|██████████| 58/58 [00:07<00:00,  8.18it/s]\n"
     ]
    },
    {
     "name": "stdout",
     "output_type": "stream",
     "text": [
      "FBeta : 0.6436\tthresh : 0.01\tSAVED MODEL\n",
      "\n"
     ]
    },
    {
     "name": "stderr",
     "output_type": "stream",
     "text": [
      "Epoch 46/90  Mem : 15GB  LR : 4.88E-05  Loss: 0.3528: 100%|██████████| 642/642 [03:19<00:00,  3.23it/s]\n",
      "Val Loss: 0.3626: 100%|██████████| 58/58 [00:07<00:00,  8.07it/s]\n"
     ]
    },
    {
     "name": "stdout",
     "output_type": "stream",
     "text": [
      "FBeta : 0.6413\tthresh : 0.01\n",
      "\n"
     ]
    },
    {
     "name": "stderr",
     "output_type": "stream",
     "text": [
      "Epoch 47/90  Mem : 15GB  LR : 4.70E-05  Loss: 0.3506: 100%|██████████| 642/642 [03:18<00:00,  3.23it/s]\n",
      "Val Loss: 0.3619: 100%|██████████| 58/58 [00:07<00:00,  8.08it/s]\n"
     ]
    },
    {
     "name": "stdout",
     "output_type": "stream",
     "text": [
      "FBeta : 0.6405\tthresh : 0.21\n",
      "\n"
     ]
    },
    {
     "name": "stderr",
     "output_type": "stream",
     "text": [
      "Epoch 48/90  Mem : 15GB  LR : 4.53E-05  Loss: 0.3496: 100%|██████████| 642/642 [03:18<00:00,  3.23it/s]\n",
      "Val Loss: 0.3549: 100%|██████████| 58/58 [00:07<00:00,  8.12it/s]\n"
     ]
    },
    {
     "name": "stdout",
     "output_type": "stream",
     "text": [
      "FBeta : 0.6458\tthresh : 0.56\tSAVED MODEL\n",
      "\n"
     ]
    },
    {
     "name": "stderr",
     "output_type": "stream",
     "text": [
      "Epoch 49/90  Mem : 15GB  LR : 4.36E-05  Loss: 0.3492: 100%|██████████| 642/642 [03:18<00:00,  3.24it/s]\n",
      "Val Loss: 0.3526: 100%|██████████| 58/58 [00:07<00:00,  8.21it/s]\n"
     ]
    },
    {
     "name": "stdout",
     "output_type": "stream",
     "text": [
      "FBeta : 0.6483\tthresh : 0.26\tSAVED MODEL\n",
      "\n"
     ]
    },
    {
     "name": "stderr",
     "output_type": "stream",
     "text": [
      "Epoch 50/90  Mem : 15GB  LR : 4.19E-05  Loss: 0.3488: 100%|██████████| 642/642 [03:17<00:00,  3.25it/s]\n",
      "Val Loss: 0.3559: 100%|██████████| 58/58 [00:07<00:00,  8.07it/s]\n"
     ]
    },
    {
     "name": "stdout",
     "output_type": "stream",
     "text": [
      "FBeta : 0.6454\tthresh : 0.11\n",
      "\n"
     ]
    },
    {
     "name": "stderr",
     "output_type": "stream",
     "text": [
      "Epoch 51/90  Mem : 15GB  LR : 4.02E-05  Loss: 0.3470: 100%|██████████| 642/642 [03:18<00:00,  3.23it/s]\n",
      "Val Loss: 0.3515: 100%|██████████| 58/58 [00:07<00:00,  8.14it/s]\n"
     ]
    },
    {
     "name": "stdout",
     "output_type": "stream",
     "text": [
      "FBeta : 0.6504\tthresh : 0.06\tSAVED MODEL\n",
      "\n"
     ]
    },
    {
     "name": "stderr",
     "output_type": "stream",
     "text": [
      "Epoch 52/90  Mem : 15GB  LR : 3.85E-05  Loss: 0.3462: 100%|██████████| 642/642 [03:17<00:00,  3.25it/s]\n",
      "Val Loss: 0.3515: 100%|██████████| 58/58 [00:07<00:00,  8.13it/s]\n"
     ]
    },
    {
     "name": "stdout",
     "output_type": "stream",
     "text": [
      "FBeta : 0.6501\tthresh : 0.61\n",
      "\n"
     ]
    },
    {
     "name": "stderr",
     "output_type": "stream",
     "text": [
      "Epoch 53/90  Mem : 15GB  LR : 3.69E-05  Loss: 0.3471: 100%|██████████| 642/642 [03:16<00:00,  3.26it/s]\n",
      "Val Loss: 0.3611: 100%|██████████| 58/58 [00:06<00:00,  8.41it/s]\n"
     ]
    },
    {
     "name": "stdout",
     "output_type": "stream",
     "text": [
      "FBeta : 0.6407\tthresh : 0.16\n",
      "\n"
     ]
    },
    {
     "name": "stderr",
     "output_type": "stream",
     "text": [
      "Epoch 54/90  Mem : 15GB  LR : 3.52E-05  Loss: 0.3453: 100%|██████████| 642/642 [03:12<00:00,  3.34it/s]\n",
      "Val Loss: 0.3628: 100%|██████████| 58/58 [00:07<00:00,  8.26it/s]\n"
     ]
    },
    {
     "name": "stdout",
     "output_type": "stream",
     "text": [
      "FBeta : 0.6394\tthresh : 0.01\n",
      "\n"
     ]
    },
    {
     "name": "stderr",
     "output_type": "stream",
     "text": [
      "Epoch 55/90  Mem : 15GB  LR : 3.36E-05  Loss: 0.3464: 100%|██████████| 642/642 [03:12<00:00,  3.33it/s]\n",
      "Val Loss: 0.3543: 100%|██████████| 58/58 [00:06<00:00,  8.42it/s]\n"
     ]
    },
    {
     "name": "stdout",
     "output_type": "stream",
     "text": [
      "FBeta : 0.6477\tthresh : 0.26\n",
      "\n"
     ]
    },
    {
     "name": "stderr",
     "output_type": "stream",
     "text": [
      "Epoch 56/90  Mem : 15GB  LR : 3.20E-05  Loss: 0.3412: 100%|██████████| 642/642 [03:11<00:00,  3.35it/s]\n",
      "Val Loss: 0.3513: 100%|██████████| 58/58 [00:06<00:00,  8.42it/s]\n"
     ]
    },
    {
     "name": "stdout",
     "output_type": "stream",
     "text": [
      "FBeta : 0.6489\tthresh : 0.11\n",
      "\n"
     ]
    },
    {
     "name": "stderr",
     "output_type": "stream",
     "text": [
      "Epoch 57/90  Mem : 15GB  LR : 3.04E-05  Loss: 0.3413: 100%|██████████| 642/642 [03:12<00:00,  3.33it/s]\n",
      "Val Loss: 0.3521: 100%|██████████| 58/58 [00:06<00:00,  8.43it/s]\n"
     ]
    },
    {
     "name": "stdout",
     "output_type": "stream",
     "text": [
      "FBeta : 0.6505\tthresh : 0.11\tSAVED MODEL\n",
      "\n"
     ]
    },
    {
     "name": "stderr",
     "output_type": "stream",
     "text": [
      "Epoch 58/90  Mem : 15GB  LR : 2.88E-05  Loss: 0.3437: 100%|██████████| 642/642 [03:12<00:00,  3.33it/s]\n",
      "Val Loss: 0.3482: 100%|██████████| 58/58 [00:06<00:00,  8.39it/s]\n"
     ]
    },
    {
     "name": "stdout",
     "output_type": "stream",
     "text": [
      "FBeta : 0.6533\tthresh : 0.01\tSAVED MODEL\n",
      "\n"
     ]
    },
    {
     "name": "stderr",
     "output_type": "stream",
     "text": [
      "Epoch 59/90  Mem : 15GB  LR : 2.73E-05  Loss: 0.3399: 100%|██████████| 642/642 [03:12<00:00,  3.34it/s]\n",
      "Val Loss: 0.3506: 100%|██████████| 58/58 [00:06<00:00,  8.40it/s]\n"
     ]
    },
    {
     "name": "stdout",
     "output_type": "stream",
     "text": [
      "FBeta : 0.6512\tthresh : 0.11\n",
      "\n"
     ]
    },
    {
     "name": "stderr",
     "output_type": "stream",
     "text": [
      "Epoch 60/90  Mem : 15GB  LR : 2.58E-05  Loss: 0.3381: 100%|██████████| 642/642 [03:12<00:00,  3.34it/s]\n",
      "Val Loss: 0.3556: 100%|██████████| 58/58 [00:06<00:00,  8.43it/s]\n"
     ]
    },
    {
     "name": "stdout",
     "output_type": "stream",
     "text": [
      "FBeta : 0.6479\tthresh : 0.01\n",
      "\n"
     ]
    },
    {
     "name": "stderr",
     "output_type": "stream",
     "text": [
      "Epoch 61/90  Mem : 15GB  LR : 2.43E-05  Loss: 0.3385: 100%|██████████| 642/642 [03:11<00:00,  3.34it/s]\n",
      "Val Loss: 0.3514: 100%|██████████| 58/58 [00:06<00:00,  8.39it/s]\n"
     ]
    },
    {
     "name": "stdout",
     "output_type": "stream",
     "text": [
      "FBeta : 0.6501\tthresh : 0.11\n",
      "\n"
     ]
    },
    {
     "name": "stderr",
     "output_type": "stream",
     "text": [
      "Epoch 62/90  Mem : 15GB  LR : 2.28E-05  Loss: 0.3353: 100%|██████████| 642/642 [03:12<00:00,  3.34it/s]\n",
      "Val Loss: 0.3506: 100%|██████████| 58/58 [00:06<00:00,  8.40it/s]\n"
     ]
    },
    {
     "name": "stdout",
     "output_type": "stream",
     "text": [
      "FBeta : 0.6510\tthresh : 0.21\n",
      "\n"
     ]
    },
    {
     "name": "stderr",
     "output_type": "stream",
     "text": [
      "Epoch 63/90  Mem : 15GB  LR : 2.14E-05  Loss: 0.3365: 100%|██████████| 642/642 [03:11<00:00,  3.35it/s]\n",
      "Val Loss: 0.3520: 100%|██████████| 58/58 [00:06<00:00,  8.39it/s]\n"
     ]
    },
    {
     "name": "stdout",
     "output_type": "stream",
     "text": [
      "FBeta : 0.6495\tthresh : 0.26\n",
      "\n"
     ]
    },
    {
     "name": "stderr",
     "output_type": "stream",
     "text": [
      "Epoch 64/90  Mem : 15GB  LR : 2.00E-05  Loss: 0.3363: 100%|██████████| 642/642 [03:13<00:00,  3.32it/s]\n",
      "Val Loss: 0.3519: 100%|██████████| 58/58 [00:06<00:00,  8.40it/s]\n"
     ]
    },
    {
     "name": "stdout",
     "output_type": "stream",
     "text": [
      "FBeta : 0.6501\tthresh : 0.01\n",
      "\n"
     ]
    },
    {
     "name": "stderr",
     "output_type": "stream",
     "text": [
      "Epoch 65/90  Mem : 15GB  LR : 1.87E-05  Loss: 0.3350: 100%|██████████| 642/642 [03:12<00:00,  3.34it/s]\n",
      "Val Loss: 0.3491: 100%|██████████| 58/58 [00:06<00:00,  8.39it/s]\n"
     ]
    },
    {
     "name": "stdout",
     "output_type": "stream",
     "text": [
      "FBeta : 0.6505\tthresh : 0.21\n",
      "\n"
     ]
    },
    {
     "name": "stderr",
     "output_type": "stream",
     "text": [
      "Epoch 66/90  Mem : 15GB  LR : 1.74E-05  Loss: 0.3349: 100%|██████████| 642/642 [03:12<00:00,  3.34it/s]\n",
      "Val Loss: 0.3497: 100%|██████████| 58/58 [00:06<00:00,  8.38it/s]\n"
     ]
    },
    {
     "name": "stdout",
     "output_type": "stream",
     "text": [
      "FBeta : 0.6517\tthresh : 0.16\n",
      "\n"
     ]
    },
    {
     "name": "stderr",
     "output_type": "stream",
     "text": [
      "Epoch 67/90  Mem : 15GB  LR : 1.61E-05  Loss: 0.3342: 100%|██████████| 642/642 [03:12<00:00,  3.33it/s]\n",
      "Val Loss: 0.3511: 100%|██████████| 58/58 [00:06<00:00,  8.35it/s]\n"
     ]
    },
    {
     "name": "stdout",
     "output_type": "stream",
     "text": [
      "FBeta : 0.6508\tthresh : 0.11\n",
      "\n"
     ]
    },
    {
     "name": "stderr",
     "output_type": "stream",
     "text": [
      "Epoch 68/90  Mem : 15GB  LR : 1.49E-05  Loss: 0.3345: 100%|██████████| 642/642 [03:12<00:00,  3.34it/s]\n",
      "Val Loss: 0.3488: 100%|██████████| 58/58 [00:06<00:00,  8.41it/s]\n"
     ]
    },
    {
     "name": "stdout",
     "output_type": "stream",
     "text": [
      "FBeta : 0.6532\tthresh : 0.21\n",
      "\n"
     ]
    },
    {
     "name": "stderr",
     "output_type": "stream",
     "text": [
      "Epoch 69/90  Mem : 15GB  LR : 1.37E-05  Loss: 0.3339: 100%|██████████| 642/642 [03:12<00:00,  3.34it/s]\n",
      "Val Loss: 0.3485: 100%|██████████| 58/58 [00:06<00:00,  8.34it/s]\n"
     ]
    },
    {
     "name": "stdout",
     "output_type": "stream",
     "text": [
      "FBeta : 0.6532\tthresh : 0.16\n",
      "\n"
     ]
    },
    {
     "name": "stderr",
     "output_type": "stream",
     "text": [
      "Epoch 70/90  Mem : 15GB  LR : 1.26E-05  Loss: 0.3324: 100%|██████████| 642/642 [03:11<00:00,  3.35it/s]\n",
      "Val Loss: 0.3494: 100%|██████████| 58/58 [00:06<00:00,  8.36it/s]\n"
     ]
    },
    {
     "name": "stdout",
     "output_type": "stream",
     "text": [
      "FBeta : 0.6506\tthresh : 0.31\n",
      "\n"
     ]
    },
    {
     "name": "stderr",
     "output_type": "stream",
     "text": [
      "Epoch 71/90  Mem : 15GB  LR : 1.15E-05  Loss: 0.3333: 100%|██████████| 642/642 [03:12<00:00,  3.33it/s]\n",
      "Val Loss: 0.3471: 100%|██████████| 58/58 [00:06<00:00,  8.38it/s]\n"
     ]
    },
    {
     "name": "stdout",
     "output_type": "stream",
     "text": [
      "FBeta : 0.6536\tthresh : 0.11\tSAVED MODEL\n",
      "\n"
     ]
    },
    {
     "name": "stderr",
     "output_type": "stream",
     "text": [
      "Epoch 72/90  Mem : 15GB  LR : 1.05E-05  Loss: 0.3311: 100%|██████████| 642/642 [03:11<00:00,  3.34it/s]\n",
      "Val Loss: 0.3503: 100%|██████████| 58/58 [00:06<00:00,  8.40it/s]\n"
     ]
    },
    {
     "name": "stdout",
     "output_type": "stream",
     "text": [
      "FBeta : 0.6507\tthresh : 0.16\n",
      "\n"
     ]
    },
    {
     "name": "stderr",
     "output_type": "stream",
     "text": [
      "Epoch 73/90  Mem : 15GB  LR : 9.46E-06  Loss: 0.3313: 100%|██████████| 642/642 [03:12<00:00,  3.34it/s]\n",
      "Val Loss: 0.3477: 100%|██████████| 58/58 [00:06<00:00,  8.39it/s]\n"
     ]
    },
    {
     "name": "stdout",
     "output_type": "stream",
     "text": [
      "FBeta : 0.6534\tthresh : 0.06\n",
      "\n"
     ]
    },
    {
     "name": "stderr",
     "output_type": "stream",
     "text": [
      "Epoch 74/90  Mem : 15GB  LR : 8.52E-06  Loss: 0.3310: 100%|██████████| 642/642 [03:12<00:00,  3.33it/s]\n",
      "Val Loss: 0.3482: 100%|██████████| 58/58 [00:06<00:00,  8.37it/s]\n"
     ]
    },
    {
     "name": "stdout",
     "output_type": "stream",
     "text": [
      "FBeta : 0.6523\tthresh : 0.21\n",
      "\n"
     ]
    },
    {
     "name": "stderr",
     "output_type": "stream",
     "text": [
      "Epoch 75/90  Mem : 15GB  LR : 7.63E-06  Loss: 0.3292: 100%|██████████| 642/642 [03:12<00:00,  3.34it/s]\n",
      "Val Loss: 0.3476: 100%|██████████| 58/58 [00:06<00:00,  8.37it/s]\n"
     ]
    },
    {
     "name": "stdout",
     "output_type": "stream",
     "text": [
      "FBeta : 0.6534\tthresh : 0.16\n",
      "\n"
     ]
    },
    {
     "name": "stderr",
     "output_type": "stream",
     "text": [
      "Epoch 76/90  Mem : 15GB  LR : 6.79E-06  Loss: 0.3309: 100%|██████████| 642/642 [03:12<00:00,  3.33it/s]\n",
      "Val Loss: 0.3475: 100%|██████████| 58/58 [00:06<00:00,  8.35it/s]\n"
     ]
    },
    {
     "name": "stdout",
     "output_type": "stream",
     "text": [
      "FBeta : 0.6532\tthresh : 0.06\n",
      "\n"
     ]
    },
    {
     "name": "stderr",
     "output_type": "stream",
     "text": [
      "Epoch 77/90  Mem : 15GB  LR : 6.01E-06  Loss: 0.3297: 100%|██████████| 642/642 [03:12<00:00,  3.33it/s]\n",
      "Val Loss: 0.3468: 100%|██████████| 58/58 [00:07<00:00,  8.15it/s]\n"
     ]
    },
    {
     "name": "stdout",
     "output_type": "stream",
     "text": [
      "FBeta : 0.6537\tthresh : 0.06\tSAVED MODEL\n",
      "\n"
     ]
    },
    {
     "name": "stderr",
     "output_type": "stream",
     "text": [
      "Epoch 78/90  Mem : 15GB  LR : 5.28E-06  Loss: 0.3297: 100%|██████████| 642/642 [03:19<00:00,  3.22it/s]\n",
      "Val Loss: 0.3477: 100%|██████████| 58/58 [00:07<00:00,  8.15it/s]\n"
     ]
    },
    {
     "name": "stdout",
     "output_type": "stream",
     "text": [
      "FBeta : 0.6537\tthresh : 0.21\n",
      "\n"
     ]
    },
    {
     "name": "stderr",
     "output_type": "stream",
     "text": [
      "Epoch 79/90  Mem : 15GB  LR : 4.60E-06  Loss: 0.3317: 100%|██████████| 642/642 [03:15<00:00,  3.29it/s]\n",
      "Val Loss: 0.3485: 100%|██████████| 58/58 [00:07<00:00,  8.21it/s]\n"
     ]
    },
    {
     "name": "stdout",
     "output_type": "stream",
     "text": [
      "FBeta : 0.6528\tthresh : 0.21\n",
      "\n"
     ]
    },
    {
     "name": "stderr",
     "output_type": "stream",
     "text": [
      "Epoch 80/90  Mem : 15GB  LR : 3.99E-06  Loss: 0.3301: 100%|██████████| 642/642 [03:18<00:00,  3.23it/s]\n",
      "Val Loss: 0.3491: 100%|██████████| 58/58 [00:07<00:00,  8.12it/s]\n"
     ]
    },
    {
     "name": "stdout",
     "output_type": "stream",
     "text": [
      "FBeta : 0.6529\tthresh : 0.16\n",
      "\n"
     ]
    },
    {
     "name": "stderr",
     "output_type": "stream",
     "text": [
      "Epoch 81/90  Mem : 15GB  LR : 3.42E-06  Loss: 0.3282: 100%|██████████| 642/642 [03:18<00:00,  3.23it/s]\n",
      "Val Loss: 0.3483: 100%|██████████| 58/58 [00:07<00:00,  7.99it/s]\n"
     ]
    },
    {
     "name": "stdout",
     "output_type": "stream",
     "text": [
      "FBeta : 0.6522\tthresh : 0.21\n",
      "\n"
     ]
    },
    {
     "name": "stderr",
     "output_type": "stream",
     "text": [
      "Epoch 82/90  Mem : 15GB  LR : 2.92E-06  Loss: 0.3306: 100%|██████████| 642/642 [03:18<00:00,  3.23it/s]\n",
      "Val Loss: 0.3492: 100%|██████████| 58/58 [00:07<00:00,  8.10it/s]\n"
     ]
    },
    {
     "name": "stdout",
     "output_type": "stream",
     "text": [
      "FBeta : 0.6520\tthresh : 0.26\n",
      "\n"
     ]
    },
    {
     "name": "stderr",
     "output_type": "stream",
     "text": [
      "Epoch 83/90  Mem : 15GB  LR : 2.47E-06  Loss: 0.3280: 100%|██████████| 642/642 [03:12<00:00,  3.33it/s]\n",
      "Val Loss: 0.3489: 100%|██████████| 58/58 [00:06<00:00,  8.36it/s]\n"
     ]
    },
    {
     "name": "stdout",
     "output_type": "stream",
     "text": [
      "FBeta : 0.6524\tthresh : 0.06\n",
      "\n"
     ]
    },
    {
     "name": "stderr",
     "output_type": "stream",
     "text": [
      "Epoch 84/90  Mem : 15GB  LR : 2.08E-06  Loss: 0.3284: 100%|██████████| 642/642 [03:11<00:00,  3.35it/s]\n",
      "Val Loss: 0.3482: 100%|██████████| 58/58 [00:06<00:00,  8.32it/s]\n"
     ]
    },
    {
     "name": "stdout",
     "output_type": "stream",
     "text": [
      "FBeta : 0.6531\tthresh : 0.31\n",
      "\n"
     ]
    },
    {
     "name": "stderr",
     "output_type": "stream",
     "text": [
      "Epoch 85/90  Mem : 15GB  LR : 1.75E-06  Loss: 0.3295: 100%|██████████| 642/642 [03:12<00:00,  3.34it/s]\n",
      "Val Loss: 0.3495: 100%|██████████| 58/58 [00:06<00:00,  8.35it/s]\n"
     ]
    },
    {
     "name": "stdout",
     "output_type": "stream",
     "text": [
      "FBeta : 0.6516\tthresh : 0.11\n",
      "\n"
     ]
    },
    {
     "name": "stderr",
     "output_type": "stream",
     "text": [
      "Epoch 86/90  Mem : 15GB  LR : 1.48E-06  Loss: 0.3292: 100%|██████████| 642/642 [03:12<00:00,  3.34it/s]\n",
      "Val Loss: 0.3488: 100%|██████████| 58/58 [00:06<00:00,  8.37it/s]\n"
     ]
    },
    {
     "name": "stdout",
     "output_type": "stream",
     "text": [
      "FBeta : 0.6521\tthresh : 0.06\n",
      "\n"
     ]
    },
    {
     "name": "stderr",
     "output_type": "stream",
     "text": [
      "Epoch 87/90  Mem : 15GB  LR : 1.27E-06  Loss: 0.3291: 100%|██████████| 642/642 [03:12<00:00,  3.34it/s]\n",
      "Val Loss: 0.3473: 100%|██████████| 58/58 [00:06<00:00,  8.40it/s]\n"
     ]
    },
    {
     "name": "stdout",
     "output_type": "stream",
     "text": [
      "FBeta : 0.6533\tthresh : 0.11\n",
      "\n"
     ]
    },
    {
     "name": "stderr",
     "output_type": "stream",
     "text": [
      "Epoch 88/90  Mem : 15GB  LR : 1.12E-06  Loss: 0.3281: 100%|██████████| 642/642 [03:12<00:00,  3.33it/s]\n",
      "Val Loss: 0.3475: 100%|██████████| 58/58 [00:06<00:00,  8.35it/s]\n"
     ]
    },
    {
     "name": "stdout",
     "output_type": "stream",
     "text": [
      "FBeta : 0.6530\tthresh : 0.11\n",
      "\n"
     ]
    },
    {
     "name": "stderr",
     "output_type": "stream",
     "text": [
      "Epoch 89/90  Mem : 15GB  LR : 1.03E-06  Loss: 0.3286: 100%|██████████| 642/642 [03:12<00:00,  3.34it/s]\n",
      "Val Loss: 0.3473: 100%|██████████| 58/58 [00:06<00:00,  8.39it/s]\n"
     ]
    },
    {
     "name": "stdout",
     "output_type": "stream",
     "text": [
      "FBeta : 0.6530\tthresh : 0.11\n",
      "\n"
     ]
    },
    {
     "name": "stderr",
     "output_type": "stream",
     "text": [
      "Epoch 90/90  Mem : 15GB  LR : 1.00E-06  Loss: 0.3282: 100%|██████████| 642/642 [03:12<00:00,  3.33it/s]\n",
      "Val Loss: 0.3476: 100%|██████████| 58/58 [00:06<00:00,  8.37it/s]\n"
     ]
    },
    {
     "name": "stdout",
     "output_type": "stream",
     "text": [
      "FBeta : 0.6532\tthresh : 0.06\n",
      "\n"
     ]
    },
    {
     "name": "stderr",
     "output_type": "stream",
     "text": [
      "Epoch 91/90  Mem : 15GB  LR : 1.03E-06  Loss: 0.3269: 100%|██████████| 642/642 [03:11<00:00,  3.34it/s]\n",
      "Val Loss: 0.3473: 100%|██████████| 58/58 [00:06<00:00,  8.38it/s]\n"
     ]
    },
    {
     "name": "stdout",
     "output_type": "stream",
     "text": [
      "FBeta : 0.6531\tthresh : 0.06\n",
      "\n"
     ]
    },
    {
     "name": "stderr",
     "output_type": "stream",
     "text": [
      "Epoch 92/90  Mem : 15GB  LR : 1.12E-06  Loss: 0.3286: 100%|██████████| 642/642 [03:13<00:00,  3.32it/s]\n",
      "Val Loss: 0.3487: 100%|██████████| 58/58 [00:06<00:00,  8.39it/s]\n"
     ]
    },
    {
     "name": "stdout",
     "output_type": "stream",
     "text": [
      "FBeta : 0.6524\tthresh : 0.11\n",
      "\n"
     ]
    },
    {
     "name": "stderr",
     "output_type": "stream",
     "text": [
      "Epoch 93/90  Mem : 15GB  LR : 1.27E-06  Loss: 0.3284: 100%|██████████| 642/642 [03:12<00:00,  3.34it/s]\n",
      "Val Loss: 0.3473: 100%|██████████| 58/58 [00:06<00:00,  8.38it/s]\n"
     ]
    },
    {
     "name": "stdout",
     "output_type": "stream",
     "text": [
      "FBeta : 0.6533\tthresh : 0.06\n",
      "\n"
     ]
    },
    {
     "name": "stderr",
     "output_type": "stream",
     "text": [
      "Epoch 94/90  Mem : 15GB  LR : 1.48E-06  Loss: 0.3277: 100%|██████████| 642/642 [03:12<00:00,  3.34it/s]\n",
      "Val Loss: 0.3477: 100%|██████████| 58/58 [00:06<00:00,  8.34it/s]\n"
     ]
    },
    {
     "name": "stdout",
     "output_type": "stream",
     "text": [
      "FBeta : 0.6530\tthresh : 0.16\n",
      "\n"
     ]
    },
    {
     "name": "stderr",
     "output_type": "stream",
     "text": [
      "Epoch 95/90  Mem : 15GB  LR : 1.75E-06  Loss: 0.3284: 100%|██████████| 642/642 [03:12<00:00,  3.34it/s]\n",
      "Val Loss: 0.3486: 100%|██████████| 58/58 [00:07<00:00,  8.26it/s]\n"
     ]
    },
    {
     "name": "stdout",
     "output_type": "stream",
     "text": [
      "FBeta : 0.6522\tthresh : 0.36\n",
      "\n"
     ]
    },
    {
     "name": "stderr",
     "output_type": "stream",
     "text": [
      "Epoch 96/90  Mem : 15GB  LR : 2.08E-06  Loss: 0.3295: 100%|██████████| 642/642 [03:12<00:00,  3.34it/s]\n",
      "Val Loss: 0.3479: 100%|██████████| 58/58 [00:06<00:00,  8.35it/s]\n"
     ]
    },
    {
     "name": "stdout",
     "output_type": "stream",
     "text": [
      "FBeta : 0.6531\tthresh : 0.16\n",
      "\n"
     ]
    },
    {
     "name": "stderr",
     "output_type": "stream",
     "text": [
      "Epoch 97/90  Mem : 15GB  LR : 2.47E-06  Loss: 0.3285: 100%|██████████| 642/642 [03:13<00:00,  3.32it/s]\n",
      "Val Loss: 0.3490: 100%|██████████| 58/58 [00:06<00:00,  8.37it/s]\n"
     ]
    },
    {
     "name": "stdout",
     "output_type": "stream",
     "text": [
      "FBeta : 0.6525\tthresh : 0.01\n",
      "\n"
     ]
    },
    {
     "name": "stderr",
     "output_type": "stream",
     "text": [
      "Epoch 98/90  Mem : 15GB  LR : 2.92E-06  Loss: 0.3270: 100%|██████████| 642/642 [03:11<00:00,  3.34it/s]\n",
      "Val Loss: 0.3492: 100%|██████████| 58/58 [00:06<00:00,  8.34it/s]\n"
     ]
    },
    {
     "name": "stdout",
     "output_type": "stream",
     "text": [
      "FBeta : 0.6521\tthresh : 0.16\n",
      "\n"
     ]
    },
    {
     "name": "stderr",
     "output_type": "stream",
     "text": [
      "Epoch 99/90  Mem : 15GB  LR : 3.42E-06  Loss: 0.3286: 100%|██████████| 642/642 [03:12<00:00,  3.33it/s]\n",
      "Val Loss: 0.3477: 100%|██████████| 58/58 [00:06<00:00,  8.37it/s]\n"
     ]
    },
    {
     "name": "stdout",
     "output_type": "stream",
     "text": [
      "FBeta : 0.6533\tthresh : 0.01\n",
      "\n",
      "{\"status\":200,\"message\":\"ok\"}"
     ]
    }
   ],
   "source": [
    "if CFG.debug:\n",
    "    print(\"!!!Debug mode!!!\\n\")\n",
    "\n",
    "dice_score=0\n",
    "for epoch in range(100):\n",
    "    model.train()\n",
    "    \n",
    "    pbar_train = enumerate(dataloader_train)\n",
    "    pbar_train = tqdm(pbar_train, total=len(dataloader_train), bar_format=\"{l_bar}{bar:10}{r_bar}{bar:-0b}\")\n",
    "    loss_train, loss_val= 0.0, 0.0\n",
    "    for i, (images, masks) in pbar_train:\n",
    "        images, masks = images.cuda(), masks.cuda()\n",
    "        optimizer.zero_grad()\n",
    "        with amp.autocast():\n",
    "            preds = model(images)\n",
    "            loss = criterion(preds, masks)\n",
    "            scaler.scale(loss).backward()\n",
    "            scaler.step(optimizer)\n",
    "            scaler.update()\n",
    "            loss_train += loss.detach().item()\n",
    "        \n",
    "        lr = f\"LR : {scheduler.get_last_lr()[0]:.2E}\"\n",
    "        gpu_mem = f\"Mem : {torch.cuda.memory_reserved() / 1E9:.3g}GB\"\n",
    "        pbar_train.set_description((\"%10s  \" * 3 + \"%10s\") % (f\"Epoch {epoch}/{CFG.epochs}\", gpu_mem, lr,\n",
    "                                                                f\"Loss: {loss_train / (i + 1):.4f}\"))\n",
    "\n",
    "    scheduler.step()\n",
    "    model.eval()\n",
    "    \n",
    "    cum_pred = []\n",
    "    cum_true = []\n",
    "    pbar_val = enumerate(dataloader_valid)\n",
    "    pbar_val = tqdm(pbar_val, total=len(dataloader_valid), bar_format=\"{l_bar}{bar:10}{r_bar}{bar:-10b}\")\n",
    "    for i, (images, masks) in pbar_val:\n",
    "        images, masks = images.cuda(), masks.cuda()\n",
    "        with torch.no_grad():\n",
    "            preds = model(images)\n",
    "            loss_val += criterion(preds, masks).item()\n",
    "            preds = torch.sigmoid(preds)\n",
    "            cum_pred.append(preds.cpu().detach().numpy())\n",
    "            cum_true.append(masks.cpu().detach().numpy())\n",
    "\n",
    "        pbar_val.set_description((\"%10s\") % (f\"Val Loss: {loss_val / (i+1):.4f}\"))\n",
    "    \n",
    "    cum_pred = torch.flatten(torch.from_numpy(np.concatenate(cum_pred, axis=0)))\n",
    "    cum_true = torch.flatten(torch.from_numpy(np.concatenate(cum_true, axis=0)))\n",
    "    \n",
    "    dice_score_, thresh = calc_optim_thresh(cum_pred, cum_true, thresholds_to_test)\n",
    "    \n",
    "    if dice_score_ > dice_score:\n",
    "        print(f\"FBeta : {dice_score_:.4f}\\tthresh : {thresh}\\tSAVED MODEL\\n\")\n",
    "        epoch_best=epoch\n",
    "        dice_score =dice_score_\n",
    "        torch.save({'model': model.module.state_dict(), 'dice_score': dice_score, 'thresh': thresh,\n",
    "                    \"model_arch\":CFG.model_arch, \"backbone\":CFG.backbone,\"in_chans\":CFG.in_chans,\"target_size\":CFG.target_size,},\n",
    "                    f'./{CFG.exp_name}/{CFG.exp_name}.pth')\n",
    "    else:\n",
    "        print(f\"FBeta : {dice_score_:.4f}\\tthresh : {thresh}\\n\")\n",
    "    \n",
    "!curl -X POST -H 'Authorization: Bearer '$LINE -F 'message=セルの実行が終わりました！{dice_score}' https://notify-api.line.me/api/notify\n"
   ]
  },
  {
   "cell_type": "code",
   "execution_count": 8,
   "metadata": {
    "execution": {
     "iopub.execute_input": "2023-06-29T01:37:26.859552Z",
     "iopub.status.busy": "2023-06-29T01:37:26.859095Z",
     "iopub.status.idle": "2023-06-29T01:37:28.290857Z",
     "shell.execute_reply": "2023-06-29T01:37:28.290397Z"
    }
   },
   "outputs": [
    {
     "name": "stdout",
     "output_type": "stream",
     "text": [
      "model_arch:  Unet\n",
      "backbone:  timm-resnest200e\n",
      "0.6537\n"
     ]
    }
   ],
   "source": [
    "pth = torch.load(f'./{CFG.exp_name}/{CFG.exp_name}.pth')\n",
    "\n",
    "model = build_model(pth[\"model_arch\"], pth[\"backbone\"], pth[\"in_chans\"], pth[\"target_size\"], weight=None)\n",
    "model.load_state_dict(pth['model'])\n",
    "thresh = pth['thresh']\n",
    "dice_score = pth['dice_score']\n",
    "print(f\"{dice_score:.4f}\")\n",
    "\n",
    "model.to(device)\n",
    "model.eval();\n"
   ]
  },
  {
   "cell_type": "code",
   "execution_count": 10,
   "metadata": {
    "execution": {
     "iopub.execute_input": "2023-06-29T01:37:28.292999Z",
     "iopub.status.busy": "2023-06-29T01:37:28.292765Z",
     "iopub.status.idle": "2023-06-29T01:37:28.295259Z",
     "shell.execute_reply": "2023-06-29T01:37:28.294852Z"
    }
   },
   "outputs": [],
   "source": [
    "# for i, (images, masks) in enumerate(dataloader_valid):\n",
    "#     if i!=1: continue\n",
    "    \n",
    "#     images, masks = images.cuda(), masks.cuda()\n",
    "#     with torch.no_grad():\n",
    "#         preds = model(images)\n",
    "#         preds = torch.sigmoid(preds)\n",
    "#     images, masks, preds = images.cpu(), masks.cpu(), preds.cpu()\n",
    "    \n",
    "#     for num in range(CFG.valid_batch_size):\n",
    "#         fig, axes = plt.subplots(nrows=1, ncols=4, figsize=(20,5))\n",
    "#         axes = axes.flatten()\n",
    "#         axes[0].imshow(images[num].permute(1,2,0))\n",
    "#         axes[0].axis('off')\n",
    "#         axes[0].set_title('Image')\n",
    "#         axes[1].imshow(masks[num].permute(1,2,0))\n",
    "#         axes[1].axis('off')\n",
    "#         axes[1].set_title('Ground Truth')\n",
    "#         axes[2].imshow(preds[num].permute(1,2,0))\n",
    "#         axes[2].axis('off')\n",
    "#         axes[2].set_title('pred')\n",
    "#         axes[3].imshow((preds[num]>thresh).permute(1,2,0))\n",
    "#         axes[3].axis('off')\n",
    "#         axes[3].set_title('pred_thresh')\n",
    "#     break"
   ]
  },
  {
   "cell_type": "code",
   "execution_count": null,
   "metadata": {},
   "outputs": [],
   "source": []
  },
  {
   "cell_type": "code",
   "execution_count": null,
   "metadata": {},
   "outputs": [],
   "source": []
  },
  {
   "cell_type": "code",
   "execution_count": null,
   "metadata": {},
   "outputs": [],
   "source": []
  }
 ],
 "metadata": {
  "kernelspec": {
   "display_name": "Python 3",
   "language": "python",
   "name": "python3"
  },
  "language_info": {
   "codemirror_mode": {
    "name": "ipython",
    "version": 3
   },
   "file_extension": ".py",
   "mimetype": "text/x-python",
   "name": "python",
   "nbconvert_exporter": "python",
   "pygments_lexer": "ipython3",
   "version": "3.10.11"
  }
 },
 "nbformat": 4,
 "nbformat_minor": 4
}

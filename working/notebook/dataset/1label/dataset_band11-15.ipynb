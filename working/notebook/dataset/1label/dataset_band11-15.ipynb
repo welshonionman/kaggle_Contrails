{
 "cells": [
  {
   "cell_type": "code",
   "execution_count": 1,
   "metadata": {
    "_cell_guid": "b1076dfc-b9ad-4769-8c92-a6c4dae69d19",
    "_uuid": "8f2839f25d086af736a60e9eeb907d3b93b6e0e5",
    "execution": {
     "iopub.execute_input": "2023-06-25T16:44:44.734146Z",
     "iopub.status.busy": "2023-06-25T16:44:44.734009Z",
     "iopub.status.idle": "2023-06-25T16:44:45.237050Z",
     "shell.execute_reply": "2023-06-25T16:44:45.236414Z"
    }
   },
   "outputs": [],
   "source": [
    "import os\n",
    "from tqdm import tqdm\n",
    "from pathlib import Path\n",
    "import numpy as np\n",
    "import pandas as pd\n",
    "import matplotlib.pyplot as plt"
   ]
  },
  {
   "cell_type": "code",
   "execution_count": null,
   "metadata": {},
   "outputs": [],
   "source": []
  },
  {
   "attachments": {},
   "cell_type": "markdown",
   "metadata": {},
   "source": [
    "# band11-15"
   ]
  },
  {
   "cell_type": "code",
   "execution_count": 2,
   "metadata": {},
   "outputs": [],
   "source": [
    "def normalize(record_data):\n",
    "    MEAN = [274.4108, 255.5268, 276.6016, 275.3604, 272.5643]\n",
    "    STD = [19.6334, 13.1177, 20.7182, 21.0882, 20.5616]\n",
    "    N_TIMES_LABELED = 4\n",
    "    \n",
    "    band_11 = (record_data[\"band_11\"]-MEAN[0])/STD[0]\n",
    "    band_12 = (record_data[\"band_12\"]-MEAN[1])/STD[1]\n",
    "    band_13 = (record_data[\"band_13\"]-MEAN[2])/STD[2]\n",
    "    band_14 = (record_data[\"band_14\"]-MEAN[3])/STD[3]\n",
    "    band_15 = (record_data[\"band_15\"]-MEAN[4])/STD[4]\n",
    "    images = np.stack([band_11, band_12, band_13, band_14, band_15], axis=2)\n",
    "    images=images[..., N_TIMES_LABELED]\n",
    "\n",
    "    return images\n",
    "\n",
    "\n",
    "def read_record(record_id, comp_data_dir, mode):\n",
    "    record_data = {}\n",
    "    if mode in [\"train\", \"validation\"]:\n",
    "        bands_mask = [\"band_11\", \"band_12\", \"band_13\", \"band_14\", \"band_15\", \"human_pixel_masks\"]\n",
    "    if mode in [\"test\"]:\n",
    "        bands_mask = [\"band_11\", \"band_12\", \"band_13\", \"band_14\", \"band_15\"]\n",
    "\n",
    "    for x in bands_mask:\n",
    "        record_data[x] = np.load(os.path.join(comp_data_dir, record_id, x + \".npy\"))\n",
    "    return record_data\n",
    "\n",
    "\n",
    "def create_dataset(comp_data_dir, dataset_dir, mode):\n",
    "    os.makedirs(dataset_dir, exist_ok=True)\n",
    "\n",
    "    input_dir = f\"{comp_data_dir}/{mode}\"\n",
    "    record_ids = os.listdir(input_dir)\n",
    "\n",
    "    df = pd.DataFrame(record_ids, columns=['record_id'])\n",
    "    df['path'] = dataset_dir + df['record_id'].astype(str) + '.npy'\n",
    "    df.to_csv(f\"{dataset_dir}/{mode}_df.csv\", index=False)\n",
    "\n",
    "    for record_id in tqdm(record_ids):\n",
    "        record_data = read_record(str(record_id), input_dir, mode)\n",
    "        images = normalize(record_data)\n",
    "        if mode in [\"train\", \"validation\"]:\n",
    "            array = np.dstack([images, record_data['human_pixel_masks']])\n",
    "        if mode in [\"test\"]:\n",
    "            array = np.dstack([images])\n",
    "        array = array.astype(np.float16)\n",
    "\n",
    "        npy_path = f\"{dataset_dir}/{record_id}.npy\"\n",
    "        np.save(str(npy_path), array)"
   ]
  },
  {
   "cell_type": "code",
   "execution_count": 3,
   "metadata": {},
   "outputs": [
    {
     "ename": "FileNotFoundError",
     "evalue": "[Errno 2] No such file or directory: '/kaggle/input/google-research-identify-contrails-reduce-global-warming//train'",
     "output_type": "error",
     "traceback": [
      "\u001b[0;31m---------------------------------------------------------------------------\u001b[0m",
      "\u001b[0;31mFileNotFoundError\u001b[0m                         Traceback (most recent call last)",
      "Cell \u001b[0;32mIn[3], line 5\u001b[0m\n\u001b[1;32m      2\u001b[0m dataset_train \u001b[39m=\u001b[39m \u001b[39m\"\u001b[39m\u001b[39m/kaggle/working/dataset_train/11-15/\u001b[39m\u001b[39m\"\u001b[39m\n\u001b[1;32m      3\u001b[0m dataset_test \u001b[39m=\u001b[39m \u001b[39m\"\u001b[39m\u001b[39m/kaggle/working/dataset_test/11-15/\u001b[39m\u001b[39m\"\u001b[39m\n\u001b[0;32m----> 5\u001b[0m create_dataset(data_dir, dataset_train, \u001b[39m\"\u001b[39;49m\u001b[39mtrain\u001b[39;49m\u001b[39m\"\u001b[39;49m)\n\u001b[1;32m      6\u001b[0m create_dataset(data_dir, dataset_train, \u001b[39m\"\u001b[39m\u001b[39mvalidation\u001b[39m\u001b[39m\"\u001b[39m)\n\u001b[1;32m      7\u001b[0m \u001b[39m# # create_dataset(data_dir, dataset_test, \"test\")\u001b[39;00m\n",
      "Cell \u001b[0;32mIn[2], line 33\u001b[0m, in \u001b[0;36mcreate_dataset\u001b[0;34m(data_dir, save_dir, mode)\u001b[0m\n\u001b[1;32m     30\u001b[0m os\u001b[39m.\u001b[39mmakedirs(save_dir, exist_ok\u001b[39m=\u001b[39m\u001b[39mTrue\u001b[39;00m)\n\u001b[1;32m     32\u001b[0m input_dir \u001b[39m=\u001b[39m \u001b[39mf\u001b[39m\u001b[39m\"\u001b[39m\u001b[39m{\u001b[39;00mdata_dir\u001b[39m}\u001b[39;00m\u001b[39m/\u001b[39m\u001b[39m{\u001b[39;00mmode\u001b[39m}\u001b[39;00m\u001b[39m\"\u001b[39m\n\u001b[0;32m---> 33\u001b[0m ids \u001b[39m=\u001b[39m os\u001b[39m.\u001b[39;49mlistdir(input_dir)\n\u001b[1;32m     35\u001b[0m df \u001b[39m=\u001b[39m pd\u001b[39m.\u001b[39mDataFrame(ids, columns\u001b[39m=\u001b[39m[\u001b[39m'\u001b[39m\u001b[39mrecord_id\u001b[39m\u001b[39m'\u001b[39m])\n\u001b[1;32m     36\u001b[0m df[\u001b[39m'\u001b[39m\u001b[39mpath\u001b[39m\u001b[39m'\u001b[39m] \u001b[39m=\u001b[39m save_dir \u001b[39m+\u001b[39m df[\u001b[39m'\u001b[39m\u001b[39mrecord_id\u001b[39m\u001b[39m'\u001b[39m]\u001b[39m.\u001b[39mastype(\u001b[39mstr\u001b[39m) \u001b[39m+\u001b[39m \u001b[39m'\u001b[39m\u001b[39m.npy\u001b[39m\u001b[39m'\u001b[39m\n",
      "\u001b[0;31mFileNotFoundError\u001b[0m: [Errno 2] No such file or directory: '/kaggle/input/google-research-identify-contrails-reduce-global-warming//train'"
     ]
    }
   ],
   "source": [
    "data_dir = '/kaggle/input/google-research-identify-contrails-reduce-global-warming/'\n",
    "dataset_train = \"/kaggle/working/dataset_train/11-15/\"\n",
    "dataset_test = \"/kaggle/working/dataset_test/11-15/\"\n",
    "\n",
    "create_dataset(data_dir, dataset_train, \"train\")\n",
    "create_dataset(data_dir, dataset_train, \"validation\")\n",
    "# # create_dataset(data_dir, dataset_test, \"test\")"
   ]
  },
  {
   "cell_type": "code",
   "execution_count": 40,
   "metadata": {
    "execution": {
     "iopub.execute_input": "2023-06-25T16:44:45.261491Z",
     "iopub.status.busy": "2023-06-25T16:44:45.261266Z",
     "iopub.status.idle": "2023-06-25T16:44:45.265237Z",
     "shell.execute_reply": "2023-06-25T16:44:45.264821Z"
    }
   },
   "outputs": [],
   "source": [
    "no=15\n",
    "comp_data_dir = '/kaggle/input/google-research-identify-contrails-reduce-global-warming/train'\n",
    "id_list=os.listdir(comp_data_dir)\n",
    "record_data=read_record(id_list[no], comp_data_dir, \"train\")\n",
    "tmp=normalize(record_data)"
   ]
  },
  {
   "cell_type": "code",
   "execution_count": 41,
   "metadata": {},
   "outputs": [
    {
     "data": {
      "image/png": "[encoded data removed]",
      "text/plain": [
       "<Figure size 640x480 with 1 Axes>"
      ]
     },
     "metadata": {},
     "output_type": "display_data"
    }
   ],
   "source": [
    "plt.hist(tmp[:,:,4].flatten(), bins=100);"
   ]
  },
  {
   "cell_type": "code",
   "execution_count": null,
   "metadata": {},
   "outputs": [],
   "source": []
  }
 ],
 "metadata": {
  "kernelspec": {
   "display_name": "Python 3",
   "language": "python",
   "name": "python3"
  },
  "language_info": {
   "codemirror_mode": {
    "name": "ipython",
    "version": 3
   },
   "file_extension": ".py",
   "mimetype": "text/x-python",
   "name": "python",
   "nbconvert_exporter": "python",
   "pygments_lexer": "ipython3",
   "version": "3.10.11"
  }
 },
 "nbformat": 4,
 "nbformat_minor": 4
}

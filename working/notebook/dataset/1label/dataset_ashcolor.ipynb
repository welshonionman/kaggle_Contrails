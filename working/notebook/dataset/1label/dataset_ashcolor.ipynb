{
 "cells": [
  {
   "cell_type": "code",
   "execution_count": 1,
   "metadata": {
    "_cell_guid": "b1076dfc-b9ad-4769-8c92-a6c4dae69d19",
    "_uuid": "8f2839f25d086af736a60e9eeb907d3b93b6e0e5",
    "execution": {
     "iopub.execute_input": "2023-06-25T16:44:44.734146Z",
     "iopub.status.busy": "2023-06-25T16:44:44.734009Z",
     "iopub.status.idle": "2023-06-25T16:44:45.237050Z",
     "shell.execute_reply": "2023-06-25T16:44:45.236414Z"
    }
   },
   "outputs": [],
   "source": [
    "import os\n",
    "from tqdm import tqdm\n",
    "from pathlib import Path\n",
    "import numpy as np\n",
    "import pandas as pd\n",
    "import matplotlib.pyplot as plt"
   ]
  },
  {
   "cell_type": "code",
   "execution_count": 2,
   "metadata": {},
   "outputs": [],
   "source": [
    "z"
   ]
  },
  {
   "attachments": {},
   "cell_type": "markdown",
   "metadata": {},
   "source": [
    "# ash-color/normal-label"
   ]
  },
  {
   "cell_type": "code",
   "execution_count": null,
   "metadata": {},
   "outputs": [],
   "source": [
    "def normalize_range(data, bounds):\n",
    "    \"\"\"Maps data to the range [0, 1].\"\"\"\n",
    "    return (data - bounds[0]) / (bounds[1] - bounds[0])\n",
    "\n",
    "\n",
    "def get_false_color(record_data):\n",
    "    _TDIFF_BOUNDS = (-4, 2)\n",
    "    _CLOUD_TOP_TDIFF_BOUNDS = (-4, 5)\n",
    "    _T11_BOUNDS = (243, 303)\n",
    "\n",
    "    N_TIMES_LABELED = 4\n",
    "\n",
    "    r = normalize_range(record_data[\"band_15\"] - record_data[\"band_14\"], _TDIFF_BOUNDS)\n",
    "    g = normalize_range(record_data[\"band_14\"] - record_data[\"band_11\"], _CLOUD_TOP_TDIFF_BOUNDS)\n",
    "    b = normalize_range(record_data[\"band_14\"], _T11_BOUNDS)\n",
    "    false_color = np.clip(np.stack([r, g, b], axis=2), 0, 1)\n",
    "    img = false_color[..., N_TIMES_LABELED]\n",
    "\n",
    "    return img\n",
    "\n",
    "\n",
    "def read_record(record_id, directory, mode):\n",
    "    record_data = {}\n",
    "    if mode in [\"train\", \"validation\"]:\n",
    "        bands_mask = [\"band_11\", \"band_14\", \"band_15\", \"human_pixel_masks\"]\n",
    "    if mode in [\"test\"]:\n",
    "        bands_mask = [\"band_11\", \"band_14\", \"band_15\"]\n",
    "\n",
    "    for x in bands_mask:\n",
    "        record_data[x] = np.load(os.path.join(directory, record_id, x + \".npy\"))\n",
    "    return record_data\n",
    "\n",
    "\n",
    "def create_dataset(data_dir, save_dir, mode):\n",
    "    os.makedirs(save_dir, exist_ok=True)\n",
    "\n",
    "    input_dir = f\"{data_dir}/{mode}\"\n",
    "    ids = os.listdir(input_dir)\n",
    "\n",
    "    df = pd.DataFrame(ids, columns=['record_id'])\n",
    "    df['path'] = save_dir + df['record_id'].astype(str) + '.npy'\n",
    "    df.to_csv(f\"{save_dir}/{mode}_df.csv\", index=False)\n",
    "\n",
    "    for record_id in tqdm(ids):\n",
    "        data = read_record(str(record_id), input_dir, mode)\n",
    "        images = get_false_color(data)\n",
    "        if mode in [\"train\", \"validation\"]:\n",
    "            array = np.dstack([images, data['human_pixel_masks']])\n",
    "        if mode in [\"test\"]:\n",
    "            array = np.dstack([images])\n",
    "        array = array.astype(np.float16)\n",
    "\n",
    "        npy_path = f\"{save_dir}/{record_id}.npy\"\n",
    "        np.save(str(npy_path), array)\n",
    "\n",
    "data_dir = '/kaggle/input/google-research-identify-contrails-reduce-global-warming/'\n",
    "dataset_train = \"/kaggle/working/dataset_train/ash_color/\"\n",
    "dataset_test = \"/kaggle/working/dataset_test/ash_color/\"\n",
    "\n",
    "# create_dataset(data_dir, dataset_train, \"train\")\n",
    "# create_dataset(data_dir, dataset_train, \"validation\")\n",
    "# # create_dataset(data_dir, dataset_test, \"test\")"
   ]
  }
 ],
 "metadata": {
  "kernelspec": {
   "display_name": "Python 3",
   "language": "python",
   "name": "python3"
  },
  "language_info": {
   "codemirror_mode": {
    "name": "ipython",
    "version": 3
   },
   "file_extension": ".py",
   "mimetype": "text/x-python",
   "name": "python",
   "nbconvert_exporter": "python",
   "pygments_lexer": "ipython3",
   "version": "3.10.11"
  }
 },
 "nbformat": 4,
 "nbformat_minor": 4
}

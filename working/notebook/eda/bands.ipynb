{
 "cells": [
  {
   "cell_type": "code",
   "execution_count": 2,
   "metadata": {},
   "outputs": [],
   "source": [
    "from tqdm import tqdm\n",
    "import numpy as np\n",
    "import os\n",
    "import matplotlib.pyplot as plt"
   ]
  },
  {
   "cell_type": "code",
   "execution_count": 3,
   "metadata": {},
   "outputs": [],
   "source": [
    "comp_data_dir = '/kaggle/input/google-research-identify-contrails-reduce-global-warming/'\n",
    "train_record_ids = os.listdir(f\"{comp_data_dir}/train/\")\n",
    "valid_record_ids = os.listdir(f\"{comp_data_dir}/validation/\")\n"
   ]
  },
  {
   "cell_type": "markdown",
   "metadata": {},
   "source": [
    "# 各バンドの1/99パーセンタイルの値\n"
   ]
  },
  {
   "cell_type": "code",
   "execution_count": 4,
   "metadata": {},
   "outputs": [
    {
     "name": "stdout",
     "output_type": "stream",
     "text": [
      "BAND8 = (210.3, 249.0)\n",
      "BAND9 = (210.7, 259.4)\n",
      "BAND10 = (211.2, 267.9)\n",
      "BAND11 = (212.1, 299.8)\n",
      "BAND12 = (219.5, 274.4)\n",
      "BAND13 = (212.4, 304.6)\n",
      "BAND14 = (211.2, 304.2)\n",
      "BAND15 = (210.3, 300.0)\n",
      "BAND16 = (210.6, 278.6)\n"
     ]
    }
   ],
   "source": [
    "for band in range(8,17):\n",
    "    band_list=[]\n",
    "    array_list=[]\n",
    "    for i, train_record_id in enumerate(train_record_ids):\n",
    "        band_=str(band).zfill(2)\n",
    "        array_data=np.load(f\"{comp_data_dir}/train/{train_record_id}/band_{band_}.npy\")\n",
    "        array_list.append(array_data)\n",
    "        if i ==3000:break\n",
    "    stack_array=np.dstack(array_list)\n",
    "    p01=np.percentile(stack_array, 1)\n",
    "    p99=np.percentile(stack_array, 99)\n",
    "    print(f\"BAND{band} = ({p01:.1f}, {p99:.1f})\")\n",
    "    \n",
    "        "
   ]
  },
  {
   "cell_type": "code",
   "execution_count": null,
   "metadata": {},
   "outputs": [],
   "source": [
    "BAND08 = (210.3, 249.0)\n",
    "BAND09 = (210.7, 259.4)\n",
    "BAND10 = (211.2, 267.9)\n",
    "BAND11 = (212.1, 299.8)\n",
    "BAND12 = (219.5, 274.4)\n",
    "BAND13 = (212.4, 304.6)\n",
    "BAND14 = (211.2, 304.2)\n",
    "BAND15 = (210.3, 300.0)\n",
    "BAND16 = (210.6, 278.6)"
   ]
  },
  {
   "cell_type": "code",
   "execution_count": null,
   "metadata": {},
   "outputs": [],
   "source": []
  },
  {
   "cell_type": "code",
   "execution_count": null,
   "metadata": {},
   "outputs": [],
   "source": []
  }
 ],
 "metadata": {
  "kernelspec": {
   "display_name": "Python 3",
   "language": "python",
   "name": "python3"
  },
  "language_info": {
   "codemirror_mode": {
    "name": "ipython",
    "version": 3
   },
   "file_extension": ".py",
   "mimetype": "text/x-python",
   "name": "python",
   "nbconvert_exporter": "python",
   "pygments_lexer": "ipython3",
   "version": "3.10.11"
  },
  "orig_nbformat": 4
 },
 "nbformat": 4,
 "nbformat_minor": 2
}
